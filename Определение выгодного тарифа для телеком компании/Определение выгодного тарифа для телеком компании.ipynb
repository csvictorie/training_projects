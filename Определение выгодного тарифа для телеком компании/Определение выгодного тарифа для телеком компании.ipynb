{
 "cells": [
  {
   "cell_type": "markdown",
   "id": "72a91209",
   "metadata": {},
   "source": [
    "# Определение выгодного тарифа для телеком компании"
   ]
  },
  {
   "cell_type": "markdown",
   "id": "964dda90",
   "metadata": {},
   "source": [
    "## 1. Обзор данных\n",
    "Импортируем необходимые библиотеки и составим первичное представление о данных."
   ]
  },
  {
   "cell_type": "code",
   "execution_count": 1,
   "id": "49af01fd",
   "metadata": {},
   "outputs": [],
   "source": [
    "import pandas as pd\n",
    "import matplotlib.pyplot as plt\n",
    "import numpy as np\n",
    "import seaborn as sns\n",
    "from scipy import stats as st"
   ]
  },
  {
   "cell_type": "markdown",
   "id": "0ebb6d84",
   "metadata": {
    "id": "E0vqbgi9ay0H"
   },
   "source": [
    "### 1.1 Функции <a id=\"1.1\"></a>"
   ]
  },
  {
   "cell_type": "markdown",
   "id": "3602119e",
   "metadata": {
    "id": "E0vqbgi9ay0H"
   },
   "source": [
    "#### 1.1.1 Функция для первичного анализа <a id=\"1.1.1\"></a>"
   ]
  },
  {
   "cell_type": "code",
   "execution_count": 2,
   "id": "02231f21",
   "metadata": {},
   "outputs": [],
   "source": [
    "def first_rev(df):\n",
    "    print('info')\n",
    "    display(df.info(memory_usage='deep'))\n",
    "    print('describe')\n",
    "    display(df.describe().T.round(3))\n",
    "    print('head')\n",
    "    display(df.head())\n",
    "    print('duplicated')\n",
    "    display(df.duplicated().sum())"
   ]
  },
  {
   "cell_type": "markdown",
   "id": "47f61157",
   "metadata": {
    "id": "E0vqbgi9ay0H"
   },
   "source": [
    "#### 1.1.2 Функция для расчета помесячной выручки с каждого пользователя <a id=\"1.1.2\"></a>"
   ]
  },
  {
   "cell_type": "code",
   "execution_count": 3,
   "id": "78df566e",
   "metadata": {},
   "outputs": [],
   "source": [
    "def income(row):\n",
    "    call = 0\n",
    "    message = 0\n",
    "    gb = 0\n",
    "    if (row['calls_duration'] - row['minutes_included']) > 0:\n",
    "        call = (row['calls_duration'] - row['minutes_included']) * row['rub_per_minute']\n",
    "    if (row['messages'] - row['messages_included']) > 0:\n",
    "        message = (row['messages'] - row['messages_included']) * row['rub_per_message']\n",
    "    if (row['gb_used'] - row['gb_per_month_included']) > 0:\n",
    "        gb = (row['gb_used'] - row['gb_per_month_included']) * row['rub_per_gb']\n",
    " \n",
    "    return call + message + gb + row['rub_monthly_fee']"
   ]
  },
  {
   "cell_type": "markdown",
   "id": "e7305fee",
   "metadata": {},
   "source": [
    "### 1.2 Обзор данных о пользователях"
   ]
  },
  {
   "cell_type": "code",
   "execution_count": 4,
   "id": "17288a64",
   "metadata": {},
   "outputs": [],
   "source": [
    "df_users = pd.read_csv(r\"C:\\Users\\csvic\\Desktop\\data analysis\\Я.Практикум\\Модуль 1\\Проекты\\4. Статистический анализ данных _ users.csv\")"
   ]
  },
  {
   "cell_type": "code",
   "execution_count": 5,
   "id": "10c81013",
   "metadata": {},
   "outputs": [
    {
     "name": "stdout",
     "output_type": "stream",
     "text": [
      "info\n",
      "<class 'pandas.core.frame.DataFrame'>\n",
      "RangeIndex: 500 entries, 0 to 499\n",
      "Data columns (total 8 columns):\n",
      " #   Column      Non-Null Count  Dtype \n",
      "---  ------      --------------  ----- \n",
      " 0   user_id     500 non-null    int64 \n",
      " 1   age         500 non-null    int64 \n",
      " 2   churn_date  38 non-null     object\n",
      " 3   city        500 non-null    object\n",
      " 4   first_name  500 non-null    object\n",
      " 5   last_name   500 non-null    object\n",
      " 6   reg_date    500 non-null    object\n",
      " 7   tariff      500 non-null    object\n",
      "dtypes: int64(2), object(6)\n",
      "memory usage: 229.6 KB\n"
     ]
    },
    {
     "data": {
      "text/plain": [
       "None"
      ]
     },
     "metadata": {},
     "output_type": "display_data"
    },
    {
     "name": "stdout",
     "output_type": "stream",
     "text": [
      "describe\n"
     ]
    },
    {
     "data": {
      "text/html": [
       "<div>\n",
       "<style scoped>\n",
       "    .dataframe tbody tr th:only-of-type {\n",
       "        vertical-align: middle;\n",
       "    }\n",
       "\n",
       "    .dataframe tbody tr th {\n",
       "        vertical-align: top;\n",
       "    }\n",
       "\n",
       "    .dataframe thead th {\n",
       "        text-align: right;\n",
       "    }\n",
       "</style>\n",
       "<table border=\"1\" class=\"dataframe\">\n",
       "  <thead>\n",
       "    <tr style=\"text-align: right;\">\n",
       "      <th></th>\n",
       "      <th>count</th>\n",
       "      <th>mean</th>\n",
       "      <th>std</th>\n",
       "      <th>min</th>\n",
       "      <th>25%</th>\n",
       "      <th>50%</th>\n",
       "      <th>75%</th>\n",
       "      <th>max</th>\n",
       "    </tr>\n",
       "  </thead>\n",
       "  <tbody>\n",
       "    <tr>\n",
       "      <th>user_id</th>\n",
       "      <td>500.0</td>\n",
       "      <td>1249.500</td>\n",
       "      <td>144.482</td>\n",
       "      <td>1000.0</td>\n",
       "      <td>1124.75</td>\n",
       "      <td>1249.5</td>\n",
       "      <td>1374.25</td>\n",
       "      <td>1499.0</td>\n",
       "    </tr>\n",
       "    <tr>\n",
       "      <th>age</th>\n",
       "      <td>500.0</td>\n",
       "      <td>46.588</td>\n",
       "      <td>16.668</td>\n",
       "      <td>18.0</td>\n",
       "      <td>32.00</td>\n",
       "      <td>46.0</td>\n",
       "      <td>62.00</td>\n",
       "      <td>75.0</td>\n",
       "    </tr>\n",
       "  </tbody>\n",
       "</table>\n",
       "</div>"
      ],
      "text/plain": [
       "         count      mean      std     min      25%     50%      75%     max\n",
       "user_id  500.0  1249.500  144.482  1000.0  1124.75  1249.5  1374.25  1499.0\n",
       "age      500.0    46.588   16.668    18.0    32.00    46.0    62.00    75.0"
      ]
     },
     "metadata": {},
     "output_type": "display_data"
    },
    {
     "name": "stdout",
     "output_type": "stream",
     "text": [
      "head\n"
     ]
    },
    {
     "data": {
      "text/html": [
       "<div>\n",
       "<style scoped>\n",
       "    .dataframe tbody tr th:only-of-type {\n",
       "        vertical-align: middle;\n",
       "    }\n",
       "\n",
       "    .dataframe tbody tr th {\n",
       "        vertical-align: top;\n",
       "    }\n",
       "\n",
       "    .dataframe thead th {\n",
       "        text-align: right;\n",
       "    }\n",
       "</style>\n",
       "<table border=\"1\" class=\"dataframe\">\n",
       "  <thead>\n",
       "    <tr style=\"text-align: right;\">\n",
       "      <th></th>\n",
       "      <th>user_id</th>\n",
       "      <th>age</th>\n",
       "      <th>churn_date</th>\n",
       "      <th>city</th>\n",
       "      <th>first_name</th>\n",
       "      <th>last_name</th>\n",
       "      <th>reg_date</th>\n",
       "      <th>tariff</th>\n",
       "    </tr>\n",
       "  </thead>\n",
       "  <tbody>\n",
       "    <tr>\n",
       "      <th>0</th>\n",
       "      <td>1000</td>\n",
       "      <td>52</td>\n",
       "      <td>NaN</td>\n",
       "      <td>Краснодар</td>\n",
       "      <td>Рафаил</td>\n",
       "      <td>Верещагин</td>\n",
       "      <td>2018-05-25</td>\n",
       "      <td>ultra</td>\n",
       "    </tr>\n",
       "    <tr>\n",
       "      <th>1</th>\n",
       "      <td>1001</td>\n",
       "      <td>41</td>\n",
       "      <td>NaN</td>\n",
       "      <td>Москва</td>\n",
       "      <td>Иван</td>\n",
       "      <td>Ежов</td>\n",
       "      <td>2018-11-01</td>\n",
       "      <td>smart</td>\n",
       "    </tr>\n",
       "    <tr>\n",
       "      <th>2</th>\n",
       "      <td>1002</td>\n",
       "      <td>59</td>\n",
       "      <td>NaN</td>\n",
       "      <td>Стерлитамак</td>\n",
       "      <td>Евгений</td>\n",
       "      <td>Абрамович</td>\n",
       "      <td>2018-06-17</td>\n",
       "      <td>smart</td>\n",
       "    </tr>\n",
       "    <tr>\n",
       "      <th>3</th>\n",
       "      <td>1003</td>\n",
       "      <td>23</td>\n",
       "      <td>NaN</td>\n",
       "      <td>Москва</td>\n",
       "      <td>Белла</td>\n",
       "      <td>Белякова</td>\n",
       "      <td>2018-08-17</td>\n",
       "      <td>ultra</td>\n",
       "    </tr>\n",
       "    <tr>\n",
       "      <th>4</th>\n",
       "      <td>1004</td>\n",
       "      <td>68</td>\n",
       "      <td>NaN</td>\n",
       "      <td>Новокузнецк</td>\n",
       "      <td>Татьяна</td>\n",
       "      <td>Авдеенко</td>\n",
       "      <td>2018-05-14</td>\n",
       "      <td>ultra</td>\n",
       "    </tr>\n",
       "  </tbody>\n",
       "</table>\n",
       "</div>"
      ],
      "text/plain": [
       "   user_id  age churn_date         city first_name  last_name    reg_date  \\\n",
       "0     1000   52        NaN    Краснодар     Рафаил  Верещагин  2018-05-25   \n",
       "1     1001   41        NaN       Москва       Иван       Ежов  2018-11-01   \n",
       "2     1002   59        NaN  Стерлитамак    Евгений  Абрамович  2018-06-17   \n",
       "3     1003   23        NaN       Москва      Белла   Белякова  2018-08-17   \n",
       "4     1004   68        NaN  Новокузнецк    Татьяна   Авдеенко  2018-05-14   \n",
       "\n",
       "  tariff  \n",
       "0  ultra  \n",
       "1  smart  \n",
       "2  smart  \n",
       "3  ultra  \n",
       "4  ultra  "
      ]
     },
     "metadata": {},
     "output_type": "display_data"
    },
    {
     "name": "stdout",
     "output_type": "stream",
     "text": [
      "duplicated\n"
     ]
    },
    {
     "data": {
      "text/plain": [
       "0"
      ]
     },
     "metadata": {},
     "output_type": "display_data"
    }
   ],
   "source": [
    "first_rev(df_users)"
   ]
  },
  {
   "cell_type": "markdown",
   "id": "5e62bcd2",
   "metadata": {},
   "source": [
    "#### 1.2.1 Вывод\n",
    "\n",
    "Таблица users (информация о пользователях):\n",
    "* `user_id` — уникальный идентификатор пользователя\n",
    "* `first_name` — имя пользователя\n",
    "* `last_name` — фамилия пользователя\n",
    "* `age` — возраст пользователя (годы)\n",
    "* `reg_date` — дата подключения тарифа (день, месяц, год)\n",
    "* `churn_date` — дата прекращения пользования тарифом (если значение пропущено, то тариф ещё действовал на момент выгрузки данных)\n",
    "* `city` — город проживания пользователя\n",
    "* `tarif` — название тарифного плана"
   ]
  },
  {
   "cell_type": "markdown",
   "id": "dbae8e85",
   "metadata": {},
   "source": [
    "### 1.3 Обзор данных о звонках"
   ]
  },
  {
   "cell_type": "code",
   "execution_count": 6,
   "id": "3341f97b",
   "metadata": {},
   "outputs": [],
   "source": [
    "df_calls = pd.read_csv(r\"C:\\Users\\csvic\\Desktop\\data analysis\\Я.Практикум\\Модуль 1\\Проекты\\4. Статистический анализ данных _ calls.csv\")"
   ]
  },
  {
   "cell_type": "code",
   "execution_count": 7,
   "id": "196418c1",
   "metadata": {},
   "outputs": [
    {
     "name": "stdout",
     "output_type": "stream",
     "text": [
      "info\n",
      "<class 'pandas.core.frame.DataFrame'>\n",
      "RangeIndex: 202607 entries, 0 to 202606\n",
      "Data columns (total 4 columns):\n",
      " #   Column     Non-Null Count   Dtype  \n",
      "---  ------     --------------   -----  \n",
      " 0   id         202607 non-null  object \n",
      " 1   call_date  202607 non-null  object \n",
      " 2   duration   202607 non-null  float64\n",
      " 3   user_id    202607 non-null  int64  \n",
      "dtypes: float64(1), int64(1), object(2)\n",
      "memory usage: 28.6 MB\n"
     ]
    },
    {
     "data": {
      "text/plain": [
       "None"
      ]
     },
     "metadata": {},
     "output_type": "display_data"
    },
    {
     "name": "stdout",
     "output_type": "stream",
     "text": [
      "describe\n"
     ]
    },
    {
     "data": {
      "text/html": [
       "<div>\n",
       "<style scoped>\n",
       "    .dataframe tbody tr th:only-of-type {\n",
       "        vertical-align: middle;\n",
       "    }\n",
       "\n",
       "    .dataframe tbody tr th {\n",
       "        vertical-align: top;\n",
       "    }\n",
       "\n",
       "    .dataframe thead th {\n",
       "        text-align: right;\n",
       "    }\n",
       "</style>\n",
       "<table border=\"1\" class=\"dataframe\">\n",
       "  <thead>\n",
       "    <tr style=\"text-align: right;\">\n",
       "      <th></th>\n",
       "      <th>count</th>\n",
       "      <th>mean</th>\n",
       "      <th>std</th>\n",
       "      <th>min</th>\n",
       "      <th>25%</th>\n",
       "      <th>50%</th>\n",
       "      <th>75%</th>\n",
       "      <th>max</th>\n",
       "    </tr>\n",
       "  </thead>\n",
       "  <tbody>\n",
       "    <tr>\n",
       "      <th>duration</th>\n",
       "      <td>202607.0</td>\n",
       "      <td>6.756</td>\n",
       "      <td>5.843</td>\n",
       "      <td>0.0</td>\n",
       "      <td>1.3</td>\n",
       "      <td>6.0</td>\n",
       "      <td>10.7</td>\n",
       "      <td>38.0</td>\n",
       "    </tr>\n",
       "    <tr>\n",
       "      <th>user_id</th>\n",
       "      <td>202607.0</td>\n",
       "      <td>1253.941</td>\n",
       "      <td>144.723</td>\n",
       "      <td>1000.0</td>\n",
       "      <td>1126.0</td>\n",
       "      <td>1260.0</td>\n",
       "      <td>1379.0</td>\n",
       "      <td>1499.0</td>\n",
       "    </tr>\n",
       "  </tbody>\n",
       "</table>\n",
       "</div>"
      ],
      "text/plain": [
       "             count      mean      std     min     25%     50%     75%     max\n",
       "duration  202607.0     6.756    5.843     0.0     1.3     6.0    10.7    38.0\n",
       "user_id   202607.0  1253.941  144.723  1000.0  1126.0  1260.0  1379.0  1499.0"
      ]
     },
     "metadata": {},
     "output_type": "display_data"
    },
    {
     "name": "stdout",
     "output_type": "stream",
     "text": [
      "head\n"
     ]
    },
    {
     "data": {
      "text/html": [
       "<div>\n",
       "<style scoped>\n",
       "    .dataframe tbody tr th:only-of-type {\n",
       "        vertical-align: middle;\n",
       "    }\n",
       "\n",
       "    .dataframe tbody tr th {\n",
       "        vertical-align: top;\n",
       "    }\n",
       "\n",
       "    .dataframe thead th {\n",
       "        text-align: right;\n",
       "    }\n",
       "</style>\n",
       "<table border=\"1\" class=\"dataframe\">\n",
       "  <thead>\n",
       "    <tr style=\"text-align: right;\">\n",
       "      <th></th>\n",
       "      <th>id</th>\n",
       "      <th>call_date</th>\n",
       "      <th>duration</th>\n",
       "      <th>user_id</th>\n",
       "    </tr>\n",
       "  </thead>\n",
       "  <tbody>\n",
       "    <tr>\n",
       "      <th>0</th>\n",
       "      <td>1000_0</td>\n",
       "      <td>2018-07-25</td>\n",
       "      <td>0.00</td>\n",
       "      <td>1000</td>\n",
       "    </tr>\n",
       "    <tr>\n",
       "      <th>1</th>\n",
       "      <td>1000_1</td>\n",
       "      <td>2018-08-17</td>\n",
       "      <td>0.00</td>\n",
       "      <td>1000</td>\n",
       "    </tr>\n",
       "    <tr>\n",
       "      <th>2</th>\n",
       "      <td>1000_2</td>\n",
       "      <td>2018-06-11</td>\n",
       "      <td>2.85</td>\n",
       "      <td>1000</td>\n",
       "    </tr>\n",
       "    <tr>\n",
       "      <th>3</th>\n",
       "      <td>1000_3</td>\n",
       "      <td>2018-09-21</td>\n",
       "      <td>13.80</td>\n",
       "      <td>1000</td>\n",
       "    </tr>\n",
       "    <tr>\n",
       "      <th>4</th>\n",
       "      <td>1000_4</td>\n",
       "      <td>2018-12-15</td>\n",
       "      <td>5.18</td>\n",
       "      <td>1000</td>\n",
       "    </tr>\n",
       "  </tbody>\n",
       "</table>\n",
       "</div>"
      ],
      "text/plain": [
       "       id   call_date  duration  user_id\n",
       "0  1000_0  2018-07-25      0.00     1000\n",
       "1  1000_1  2018-08-17      0.00     1000\n",
       "2  1000_2  2018-06-11      2.85     1000\n",
       "3  1000_3  2018-09-21     13.80     1000\n",
       "4  1000_4  2018-12-15      5.18     1000"
      ]
     },
     "metadata": {},
     "output_type": "display_data"
    },
    {
     "name": "stdout",
     "output_type": "stream",
     "text": [
      "duplicated\n"
     ]
    },
    {
     "data": {
      "text/plain": [
       "0"
      ]
     },
     "metadata": {},
     "output_type": "display_data"
    }
   ],
   "source": [
    "first_rev(df_calls)"
   ]
  },
  {
   "cell_type": "markdown",
   "id": "6196adbb",
   "metadata": {},
   "source": [
    "#### 1.3.1 Вывод\n",
    "\n",
    "Таблица calls (информация о звонках):\n",
    "* `id` — уникальный номер звонка\n",
    "* `call_date` — дата звонка\n",
    "* `duration` — длительность звонка в минутах\n",
    "* `user_id` — идентификатор пользователя, сделавшего звонок"
   ]
  },
  {
   "cell_type": "markdown",
   "id": "a3ba6a9e",
   "metadata": {},
   "source": [
    "### 1.4 Обзор данных о сообщениях"
   ]
  },
  {
   "cell_type": "code",
   "execution_count": 8,
   "id": "f00d58fc",
   "metadata": {},
   "outputs": [],
   "source": [
    "df_messages = pd.read_csv(r\"C:\\Users\\csvic\\Desktop\\data analysis\\Я.Практикум\\Модуль 1\\Проекты\\4. Статистический анализ данных _ messages.csv\")"
   ]
  },
  {
   "cell_type": "code",
   "execution_count": 9,
   "id": "648b18e9",
   "metadata": {},
   "outputs": [
    {
     "name": "stdout",
     "output_type": "stream",
     "text": [
      "info\n",
      "<class 'pandas.core.frame.DataFrame'>\n",
      "RangeIndex: 123036 entries, 0 to 123035\n",
      "Data columns (total 3 columns):\n",
      " #   Column        Non-Null Count   Dtype \n",
      "---  ------        --------------   ----- \n",
      " 0   id            123036 non-null  object\n",
      " 1   message_date  123036 non-null  object\n",
      " 2   user_id       123036 non-null  int64 \n",
      "dtypes: int64(1), object(2)\n",
      "memory usage: 16.4 MB\n"
     ]
    },
    {
     "data": {
      "text/plain": [
       "None"
      ]
     },
     "metadata": {},
     "output_type": "display_data"
    },
    {
     "name": "stdout",
     "output_type": "stream",
     "text": [
      "describe\n"
     ]
    },
    {
     "data": {
      "text/html": [
       "<div>\n",
       "<style scoped>\n",
       "    .dataframe tbody tr th:only-of-type {\n",
       "        vertical-align: middle;\n",
       "    }\n",
       "\n",
       "    .dataframe tbody tr th {\n",
       "        vertical-align: top;\n",
       "    }\n",
       "\n",
       "    .dataframe thead th {\n",
       "        text-align: right;\n",
       "    }\n",
       "</style>\n",
       "<table border=\"1\" class=\"dataframe\">\n",
       "  <thead>\n",
       "    <tr style=\"text-align: right;\">\n",
       "      <th></th>\n",
       "      <th>count</th>\n",
       "      <th>mean</th>\n",
       "      <th>std</th>\n",
       "      <th>min</th>\n",
       "      <th>25%</th>\n",
       "      <th>50%</th>\n",
       "      <th>75%</th>\n",
       "      <th>max</th>\n",
       "    </tr>\n",
       "  </thead>\n",
       "  <tbody>\n",
       "    <tr>\n",
       "      <th>user_id</th>\n",
       "      <td>123036.0</td>\n",
       "      <td>1256.989</td>\n",
       "      <td>143.524</td>\n",
       "      <td>1000.0</td>\n",
       "      <td>1134.0</td>\n",
       "      <td>1271.0</td>\n",
       "      <td>1381.0</td>\n",
       "      <td>1499.0</td>\n",
       "    </tr>\n",
       "  </tbody>\n",
       "</table>\n",
       "</div>"
      ],
      "text/plain": [
       "            count      mean      std     min     25%     50%     75%     max\n",
       "user_id  123036.0  1256.989  143.524  1000.0  1134.0  1271.0  1381.0  1499.0"
      ]
     },
     "metadata": {},
     "output_type": "display_data"
    },
    {
     "name": "stdout",
     "output_type": "stream",
     "text": [
      "head\n"
     ]
    },
    {
     "data": {
      "text/html": [
       "<div>\n",
       "<style scoped>\n",
       "    .dataframe tbody tr th:only-of-type {\n",
       "        vertical-align: middle;\n",
       "    }\n",
       "\n",
       "    .dataframe tbody tr th {\n",
       "        vertical-align: top;\n",
       "    }\n",
       "\n",
       "    .dataframe thead th {\n",
       "        text-align: right;\n",
       "    }\n",
       "</style>\n",
       "<table border=\"1\" class=\"dataframe\">\n",
       "  <thead>\n",
       "    <tr style=\"text-align: right;\">\n",
       "      <th></th>\n",
       "      <th>id</th>\n",
       "      <th>message_date</th>\n",
       "      <th>user_id</th>\n",
       "    </tr>\n",
       "  </thead>\n",
       "  <tbody>\n",
       "    <tr>\n",
       "      <th>0</th>\n",
       "      <td>1000_0</td>\n",
       "      <td>2018-06-27</td>\n",
       "      <td>1000</td>\n",
       "    </tr>\n",
       "    <tr>\n",
       "      <th>1</th>\n",
       "      <td>1000_1</td>\n",
       "      <td>2018-10-08</td>\n",
       "      <td>1000</td>\n",
       "    </tr>\n",
       "    <tr>\n",
       "      <th>2</th>\n",
       "      <td>1000_2</td>\n",
       "      <td>2018-08-04</td>\n",
       "      <td>1000</td>\n",
       "    </tr>\n",
       "    <tr>\n",
       "      <th>3</th>\n",
       "      <td>1000_3</td>\n",
       "      <td>2018-06-16</td>\n",
       "      <td>1000</td>\n",
       "    </tr>\n",
       "    <tr>\n",
       "      <th>4</th>\n",
       "      <td>1000_4</td>\n",
       "      <td>2018-12-05</td>\n",
       "      <td>1000</td>\n",
       "    </tr>\n",
       "  </tbody>\n",
       "</table>\n",
       "</div>"
      ],
      "text/plain": [
       "       id message_date  user_id\n",
       "0  1000_0   2018-06-27     1000\n",
       "1  1000_1   2018-10-08     1000\n",
       "2  1000_2   2018-08-04     1000\n",
       "3  1000_3   2018-06-16     1000\n",
       "4  1000_4   2018-12-05     1000"
      ]
     },
     "metadata": {},
     "output_type": "display_data"
    },
    {
     "name": "stdout",
     "output_type": "stream",
     "text": [
      "duplicated\n"
     ]
    },
    {
     "data": {
      "text/plain": [
       "0"
      ]
     },
     "metadata": {},
     "output_type": "display_data"
    }
   ],
   "source": [
    "first_rev(df_messages)"
   ]
  },
  {
   "cell_type": "markdown",
   "id": "0f7258ce",
   "metadata": {},
   "source": [
    "#### 1.4.1 Вывод\n",
    "\n",
    "Таблица messages (информация о сообщениях):\n",
    "* `id` — уникальный номер сообщения\n",
    "* `message_date` — дата сообщения\n",
    "* `user_id` — идентификатор пользователя, отправившего сообщение"
   ]
  },
  {
   "cell_type": "markdown",
   "id": "ef3d80d5",
   "metadata": {},
   "source": [
    "### 1.5 Обзор данных об интернет-сессиях"
   ]
  },
  {
   "cell_type": "code",
   "execution_count": 10,
   "id": "20b29dc1",
   "metadata": {},
   "outputs": [],
   "source": [
    "df_internet = pd.read_csv(r\"C:\\Users\\csvic\\Desktop\\data analysis\\Я.Практикум\\Модуль 1\\Проекты\\4. Статистический анализ данных _ internet.csv\")"
   ]
  },
  {
   "cell_type": "code",
   "execution_count": 11,
   "id": "9b59dd20",
   "metadata": {},
   "outputs": [
    {
     "name": "stdout",
     "output_type": "stream",
     "text": [
      "info\n",
      "<class 'pandas.core.frame.DataFrame'>\n",
      "RangeIndex: 149396 entries, 0 to 149395\n",
      "Data columns (total 5 columns):\n",
      " #   Column        Non-Null Count   Dtype  \n",
      "---  ------        --------------   -----  \n",
      " 0   Unnamed: 0    149396 non-null  int64  \n",
      " 1   id            149396 non-null  object \n",
      " 2   mb_used       149396 non-null  float64\n",
      " 3   session_date  149396 non-null  object \n",
      " 4   user_id       149396 non-null  int64  \n",
      "dtypes: float64(1), int64(2), object(2)\n",
      "memory usage: 22.2 MB\n"
     ]
    },
    {
     "data": {
      "text/plain": [
       "None"
      ]
     },
     "metadata": {},
     "output_type": "display_data"
    },
    {
     "name": "stdout",
     "output_type": "stream",
     "text": [
      "describe\n"
     ]
    },
    {
     "data": {
      "text/html": [
       "<div>\n",
       "<style scoped>\n",
       "    .dataframe tbody tr th:only-of-type {\n",
       "        vertical-align: middle;\n",
       "    }\n",
       "\n",
       "    .dataframe tbody tr th {\n",
       "        vertical-align: top;\n",
       "    }\n",
       "\n",
       "    .dataframe thead th {\n",
       "        text-align: right;\n",
       "    }\n",
       "</style>\n",
       "<table border=\"1\" class=\"dataframe\">\n",
       "  <thead>\n",
       "    <tr style=\"text-align: right;\">\n",
       "      <th></th>\n",
       "      <th>count</th>\n",
       "      <th>mean</th>\n",
       "      <th>std</th>\n",
       "      <th>min</th>\n",
       "      <th>25%</th>\n",
       "      <th>50%</th>\n",
       "      <th>75%</th>\n",
       "      <th>max</th>\n",
       "    </tr>\n",
       "  </thead>\n",
       "  <tbody>\n",
       "    <tr>\n",
       "      <th>Unnamed: 0</th>\n",
       "      <td>149396.0</td>\n",
       "      <td>74697.500</td>\n",
       "      <td>43127.055</td>\n",
       "      <td>0.0</td>\n",
       "      <td>37348.750</td>\n",
       "      <td>74697.500</td>\n",
       "      <td>112046.250</td>\n",
       "      <td>149395.00</td>\n",
       "    </tr>\n",
       "    <tr>\n",
       "      <th>mb_used</th>\n",
       "      <td>149396.0</td>\n",
       "      <td>370.192</td>\n",
       "      <td>278.301</td>\n",
       "      <td>0.0</td>\n",
       "      <td>138.188</td>\n",
       "      <td>348.015</td>\n",
       "      <td>559.552</td>\n",
       "      <td>1724.83</td>\n",
       "    </tr>\n",
       "    <tr>\n",
       "      <th>user_id</th>\n",
       "      <td>149396.0</td>\n",
       "      <td>1252.100</td>\n",
       "      <td>144.051</td>\n",
       "      <td>1000.0</td>\n",
       "      <td>1130.000</td>\n",
       "      <td>1251.000</td>\n",
       "      <td>1380.000</td>\n",
       "      <td>1499.00</td>\n",
       "    </tr>\n",
       "  </tbody>\n",
       "</table>\n",
       "</div>"
      ],
      "text/plain": [
       "               count       mean        std     min        25%        50%  \\\n",
       "Unnamed: 0  149396.0  74697.500  43127.055     0.0  37348.750  74697.500   \n",
       "mb_used     149396.0    370.192    278.301     0.0    138.188    348.015   \n",
       "user_id     149396.0   1252.100    144.051  1000.0   1130.000   1251.000   \n",
       "\n",
       "                   75%        max  \n",
       "Unnamed: 0  112046.250  149395.00  \n",
       "mb_used        559.552    1724.83  \n",
       "user_id       1380.000    1499.00  "
      ]
     },
     "metadata": {},
     "output_type": "display_data"
    },
    {
     "name": "stdout",
     "output_type": "stream",
     "text": [
      "head\n"
     ]
    },
    {
     "data": {
      "text/html": [
       "<div>\n",
       "<style scoped>\n",
       "    .dataframe tbody tr th:only-of-type {\n",
       "        vertical-align: middle;\n",
       "    }\n",
       "\n",
       "    .dataframe tbody tr th {\n",
       "        vertical-align: top;\n",
       "    }\n",
       "\n",
       "    .dataframe thead th {\n",
       "        text-align: right;\n",
       "    }\n",
       "</style>\n",
       "<table border=\"1\" class=\"dataframe\">\n",
       "  <thead>\n",
       "    <tr style=\"text-align: right;\">\n",
       "      <th></th>\n",
       "      <th>Unnamed: 0</th>\n",
       "      <th>id</th>\n",
       "      <th>mb_used</th>\n",
       "      <th>session_date</th>\n",
       "      <th>user_id</th>\n",
       "    </tr>\n",
       "  </thead>\n",
       "  <tbody>\n",
       "    <tr>\n",
       "      <th>0</th>\n",
       "      <td>0</td>\n",
       "      <td>1000_0</td>\n",
       "      <td>112.95</td>\n",
       "      <td>2018-11-25</td>\n",
       "      <td>1000</td>\n",
       "    </tr>\n",
       "    <tr>\n",
       "      <th>1</th>\n",
       "      <td>1</td>\n",
       "      <td>1000_1</td>\n",
       "      <td>1052.81</td>\n",
       "      <td>2018-09-07</td>\n",
       "      <td>1000</td>\n",
       "    </tr>\n",
       "    <tr>\n",
       "      <th>2</th>\n",
       "      <td>2</td>\n",
       "      <td>1000_2</td>\n",
       "      <td>1197.26</td>\n",
       "      <td>2018-06-25</td>\n",
       "      <td>1000</td>\n",
       "    </tr>\n",
       "    <tr>\n",
       "      <th>3</th>\n",
       "      <td>3</td>\n",
       "      <td>1000_3</td>\n",
       "      <td>550.27</td>\n",
       "      <td>2018-08-22</td>\n",
       "      <td>1000</td>\n",
       "    </tr>\n",
       "    <tr>\n",
       "      <th>4</th>\n",
       "      <td>4</td>\n",
       "      <td>1000_4</td>\n",
       "      <td>302.56</td>\n",
       "      <td>2018-09-24</td>\n",
       "      <td>1000</td>\n",
       "    </tr>\n",
       "  </tbody>\n",
       "</table>\n",
       "</div>"
      ],
      "text/plain": [
       "   Unnamed: 0      id  mb_used session_date  user_id\n",
       "0           0  1000_0   112.95   2018-11-25     1000\n",
       "1           1  1000_1  1052.81   2018-09-07     1000\n",
       "2           2  1000_2  1197.26   2018-06-25     1000\n",
       "3           3  1000_3   550.27   2018-08-22     1000\n",
       "4           4  1000_4   302.56   2018-09-24     1000"
      ]
     },
     "metadata": {},
     "output_type": "display_data"
    },
    {
     "name": "stdout",
     "output_type": "stream",
     "text": [
      "duplicated\n"
     ]
    },
    {
     "data": {
      "text/plain": [
       "0"
      ]
     },
     "metadata": {},
     "output_type": "display_data"
    }
   ],
   "source": [
    "first_rev(df_internet)"
   ]
  },
  {
   "cell_type": "code",
   "execution_count": 12,
   "id": "cdc262a5",
   "metadata": {},
   "outputs": [],
   "source": [
    "df_internet = df_internet.drop(columns='Unnamed: 0', axis = 1)"
   ]
  },
  {
   "cell_type": "markdown",
   "id": "8941dde1",
   "metadata": {},
   "source": [
    "#### 1.5.1 Вывод\n",
    "\n",
    "Таблица internet (информация об интернет-сессиях):\n",
    "* `id` — уникальный номер сессии\n",
    "* `mb_used` — объём потраченного за сессию интернет-трафика (в мегабайтах)\n",
    "* `session_date` — дата интернет-сессии\n",
    "* `user_id`— идентификатор пользователя\n",
    "* `Unnamed: 0` — столбец с нумерацией строк (дублирует индексы датафрейма), удалили"
   ]
  },
  {
   "cell_type": "markdown",
   "id": "606f4fb2",
   "metadata": {},
   "source": [
    "### 1.6 Обзор данных о тарифах"
   ]
  },
  {
   "cell_type": "code",
   "execution_count": 13,
   "id": "580df6d5",
   "metadata": {},
   "outputs": [],
   "source": [
    "df_tariffs = pd.read_csv(r\"C:\\Users\\csvic\\Desktop\\data analysis\\Я.Практикум\\Модуль 1\\Проекты\\4. Статистический анализ данных _ tariffs.csv\")"
   ]
  },
  {
   "cell_type": "code",
   "execution_count": 14,
   "id": "d2365cee",
   "metadata": {},
   "outputs": [
    {
     "name": "stdout",
     "output_type": "stream",
     "text": [
      "info\n",
      "<class 'pandas.core.frame.DataFrame'>\n",
      "RangeIndex: 2 entries, 0 to 1\n",
      "Data columns (total 8 columns):\n",
      " #   Column                 Non-Null Count  Dtype \n",
      "---  ------                 --------------  ----- \n",
      " 0   messages_included      2 non-null      int64 \n",
      " 1   mb_per_month_included  2 non-null      int64 \n",
      " 2   minutes_included       2 non-null      int64 \n",
      " 3   rub_monthly_fee        2 non-null      int64 \n",
      " 4   rub_per_gb             2 non-null      int64 \n",
      " 5   rub_per_message        2 non-null      int64 \n",
      " 6   rub_per_minute         2 non-null      int64 \n",
      " 7   tariff_name            2 non-null      object\n",
      "dtypes: int64(7), object(1)\n",
      "memory usage: 364.0 bytes\n"
     ]
    },
    {
     "data": {
      "text/plain": [
       "None"
      ]
     },
     "metadata": {},
     "output_type": "display_data"
    },
    {
     "name": "stdout",
     "output_type": "stream",
     "text": [
      "describe\n"
     ]
    },
    {
     "data": {
      "text/html": [
       "<div>\n",
       "<style scoped>\n",
       "    .dataframe tbody tr th:only-of-type {\n",
       "        vertical-align: middle;\n",
       "    }\n",
       "\n",
       "    .dataframe tbody tr th {\n",
       "        vertical-align: top;\n",
       "    }\n",
       "\n",
       "    .dataframe thead th {\n",
       "        text-align: right;\n",
       "    }\n",
       "</style>\n",
       "<table border=\"1\" class=\"dataframe\">\n",
       "  <thead>\n",
       "    <tr style=\"text-align: right;\">\n",
       "      <th></th>\n",
       "      <th>count</th>\n",
       "      <th>mean</th>\n",
       "      <th>std</th>\n",
       "      <th>min</th>\n",
       "      <th>25%</th>\n",
       "      <th>50%</th>\n",
       "      <th>75%</th>\n",
       "      <th>max</th>\n",
       "    </tr>\n",
       "  </thead>\n",
       "  <tbody>\n",
       "    <tr>\n",
       "      <th>messages_included</th>\n",
       "      <td>2.0</td>\n",
       "      <td>525.0</td>\n",
       "      <td>671.751</td>\n",
       "      <td>50.0</td>\n",
       "      <td>287.5</td>\n",
       "      <td>525.0</td>\n",
       "      <td>762.5</td>\n",
       "      <td>1000.0</td>\n",
       "    </tr>\n",
       "    <tr>\n",
       "      <th>mb_per_month_included</th>\n",
       "      <td>2.0</td>\n",
       "      <td>23040.0</td>\n",
       "      <td>10861.160</td>\n",
       "      <td>15360.0</td>\n",
       "      <td>19200.0</td>\n",
       "      <td>23040.0</td>\n",
       "      <td>26880.0</td>\n",
       "      <td>30720.0</td>\n",
       "    </tr>\n",
       "    <tr>\n",
       "      <th>minutes_included</th>\n",
       "      <td>2.0</td>\n",
       "      <td>1750.0</td>\n",
       "      <td>1767.767</td>\n",
       "      <td>500.0</td>\n",
       "      <td>1125.0</td>\n",
       "      <td>1750.0</td>\n",
       "      <td>2375.0</td>\n",
       "      <td>3000.0</td>\n",
       "    </tr>\n",
       "    <tr>\n",
       "      <th>rub_monthly_fee</th>\n",
       "      <td>2.0</td>\n",
       "      <td>1250.0</td>\n",
       "      <td>989.949</td>\n",
       "      <td>550.0</td>\n",
       "      <td>900.0</td>\n",
       "      <td>1250.0</td>\n",
       "      <td>1600.0</td>\n",
       "      <td>1950.0</td>\n",
       "    </tr>\n",
       "    <tr>\n",
       "      <th>rub_per_gb</th>\n",
       "      <td>2.0</td>\n",
       "      <td>175.0</td>\n",
       "      <td>35.355</td>\n",
       "      <td>150.0</td>\n",
       "      <td>162.5</td>\n",
       "      <td>175.0</td>\n",
       "      <td>187.5</td>\n",
       "      <td>200.0</td>\n",
       "    </tr>\n",
       "    <tr>\n",
       "      <th>rub_per_message</th>\n",
       "      <td>2.0</td>\n",
       "      <td>2.0</td>\n",
       "      <td>1.414</td>\n",
       "      <td>1.0</td>\n",
       "      <td>1.5</td>\n",
       "      <td>2.0</td>\n",
       "      <td>2.5</td>\n",
       "      <td>3.0</td>\n",
       "    </tr>\n",
       "    <tr>\n",
       "      <th>rub_per_minute</th>\n",
       "      <td>2.0</td>\n",
       "      <td>2.0</td>\n",
       "      <td>1.414</td>\n",
       "      <td>1.0</td>\n",
       "      <td>1.5</td>\n",
       "      <td>2.0</td>\n",
       "      <td>2.5</td>\n",
       "      <td>3.0</td>\n",
       "    </tr>\n",
       "  </tbody>\n",
       "</table>\n",
       "</div>"
      ],
      "text/plain": [
       "                       count     mean        std      min      25%      50%  \\\n",
       "messages_included        2.0    525.0    671.751     50.0    287.5    525.0   \n",
       "mb_per_month_included    2.0  23040.0  10861.160  15360.0  19200.0  23040.0   \n",
       "minutes_included         2.0   1750.0   1767.767    500.0   1125.0   1750.0   \n",
       "rub_monthly_fee          2.0   1250.0    989.949    550.0    900.0   1250.0   \n",
       "rub_per_gb               2.0    175.0     35.355    150.0    162.5    175.0   \n",
       "rub_per_message          2.0      2.0      1.414      1.0      1.5      2.0   \n",
       "rub_per_minute           2.0      2.0      1.414      1.0      1.5      2.0   \n",
       "\n",
       "                           75%      max  \n",
       "messages_included        762.5   1000.0  \n",
       "mb_per_month_included  26880.0  30720.0  \n",
       "minutes_included        2375.0   3000.0  \n",
       "rub_monthly_fee         1600.0   1950.0  \n",
       "rub_per_gb               187.5    200.0  \n",
       "rub_per_message            2.5      3.0  \n",
       "rub_per_minute             2.5      3.0  "
      ]
     },
     "metadata": {},
     "output_type": "display_data"
    },
    {
     "name": "stdout",
     "output_type": "stream",
     "text": [
      "head\n"
     ]
    },
    {
     "data": {
      "text/html": [
       "<div>\n",
       "<style scoped>\n",
       "    .dataframe tbody tr th:only-of-type {\n",
       "        vertical-align: middle;\n",
       "    }\n",
       "\n",
       "    .dataframe tbody tr th {\n",
       "        vertical-align: top;\n",
       "    }\n",
       "\n",
       "    .dataframe thead th {\n",
       "        text-align: right;\n",
       "    }\n",
       "</style>\n",
       "<table border=\"1\" class=\"dataframe\">\n",
       "  <thead>\n",
       "    <tr style=\"text-align: right;\">\n",
       "      <th></th>\n",
       "      <th>messages_included</th>\n",
       "      <th>mb_per_month_included</th>\n",
       "      <th>minutes_included</th>\n",
       "      <th>rub_monthly_fee</th>\n",
       "      <th>rub_per_gb</th>\n",
       "      <th>rub_per_message</th>\n",
       "      <th>rub_per_minute</th>\n",
       "      <th>tariff_name</th>\n",
       "    </tr>\n",
       "  </thead>\n",
       "  <tbody>\n",
       "    <tr>\n",
       "      <th>0</th>\n",
       "      <td>50</td>\n",
       "      <td>15360</td>\n",
       "      <td>500</td>\n",
       "      <td>550</td>\n",
       "      <td>200</td>\n",
       "      <td>3</td>\n",
       "      <td>3</td>\n",
       "      <td>smart</td>\n",
       "    </tr>\n",
       "    <tr>\n",
       "      <th>1</th>\n",
       "      <td>1000</td>\n",
       "      <td>30720</td>\n",
       "      <td>3000</td>\n",
       "      <td>1950</td>\n",
       "      <td>150</td>\n",
       "      <td>1</td>\n",
       "      <td>1</td>\n",
       "      <td>ultra</td>\n",
       "    </tr>\n",
       "  </tbody>\n",
       "</table>\n",
       "</div>"
      ],
      "text/plain": [
       "   messages_included  mb_per_month_included  minutes_included  \\\n",
       "0                 50                  15360               500   \n",
       "1               1000                  30720              3000   \n",
       "\n",
       "   rub_monthly_fee  rub_per_gb  rub_per_message  rub_per_minute tariff_name  \n",
       "0              550         200                3               3       smart  \n",
       "1             1950         150                1               1       ultra  "
      ]
     },
     "metadata": {},
     "output_type": "display_data"
    },
    {
     "name": "stdout",
     "output_type": "stream",
     "text": [
      "duplicated\n"
     ]
    },
    {
     "data": {
      "text/plain": [
       "0"
      ]
     },
     "metadata": {},
     "output_type": "display_data"
    }
   ],
   "source": [
    "first_rev(df_tariffs)"
   ]
  },
  {
   "cell_type": "markdown",
   "id": "10a929ac",
   "metadata": {},
   "source": [
    "#### 1.6.1 Вывод\n",
    "\n",
    "Таблица tariffs (информация о тарифах):\n",
    "* `tariff_name` — название тарифа\n",
    "* `rub_monthly_fee` — ежемесячная абонентская плата в рублях\n",
    "* `minutes_included` — количество минут разговора в месяц, включённых в абонентскую плату\n",
    "* `messages_included` — количество сообщений в месяц, включённых в абонентскую плату\n",
    "* `mb_per_month_included` — объём интернет-трафика, включённого в абонентскую плату (в мегабайтах)\n",
    "* `rub_per_minute` — стоимость минуты разговора сверх тарифного пакета (например, если в тарифе 100 минут разговора в месяц, то со 101 минуты будет взиматься плата)\n",
    "* `rub_per_message` — стоимость отправки сообщения сверх тарифного пакета\n",
    "* `rub_per_gb` — стоимость дополнительного гигабайта интернет-трафика сверх тарифного пакета (1 гигабайт = 1024 мегабайта)\n",
    "\n",
    "**Описание тарифов:**\n",
    "1. Тариф «Смарт»\n",
    "* Ежемесячная плата: 550 рублей\n",
    "* Включено 500 минут разговора, 50 сообщений и 15 Гб интернет-трафика\n",
    "* Стоимость услуг сверх тарифного пакета:\n",
    "* минута разговора: 3 рубля\n",
    "* сообщение: 3 рубля\n",
    "* 1 Гб интернет-трафика: 200 рублей\n",
    "2. Тариф «Ультра»\n",
    "* Ежемесячная плата: 1950 рублей\n",
    "* Включено 3000 минут разговора, 1000 сообщений и 30 Гб интернет-трафика\n",
    "* Стоимость услуг сверх тарифного пакета:\n",
    "* минута разговора: 1 рубль\n",
    "* сообщение: 1 рубль\n",
    "* 1 Гб интернет-трафика: 150 рублей\n",
    "\n",
    "**Примечание:**\n",
    "«Мегалайн» всегда округляет:\n",
    "* Секунды до минут. Каждый звонок округляется отдельно: даже если он длился всего 1 секунду, будет засчитан как 1 минута.\n",
    "* Мегабайты — до гигабайт. Для веб-трафика отдельные сессии не считаются. Вместо этого общая сумма за месяц округляется в бо́льшую сторону. Если абонент использует 1025 мегабайт в этом месяце, с него возьмут плату за 2 гигабайта."
   ]
  },
  {
   "cell_type": "markdown",
   "id": "6fee28fe",
   "metadata": {},
   "source": [
    "## 2. Предобработка данных"
   ]
  },
  {
   "cell_type": "markdown",
   "id": "9783a2f8",
   "metadata": {},
   "source": [
    "### 2.1 Пропуски значений"
   ]
  },
  {
   "cell_type": "code",
   "execution_count": 15,
   "id": "86230f95",
   "metadata": {},
   "outputs": [
    {
     "data": {
      "text/plain": [
       "user_id         0\n",
       "age             0\n",
       "churn_date    462\n",
       "city            0\n",
       "first_name      0\n",
       "last_name       0\n",
       "reg_date        0\n",
       "tariff          0\n",
       "dtype: int64"
      ]
     },
     "execution_count": 15,
     "metadata": {},
     "output_type": "execute_result"
    }
   ],
   "source": [
    "df_users.isna().sum()"
   ]
  },
  {
   "cell_type": "markdown",
   "id": "0dbfc011",
   "metadata": {},
   "source": [
    "#### 2.1.1 Вывод\n",
    "\n",
    "Пропуски в датафрейме df_users `churn_date`, значит, что тариф ещё действовал на момент выгрузки данных.\n",
    "\n",
    "Других пропусков не обнаружено."
   ]
  },
  {
   "cell_type": "markdown",
   "id": "5a906538",
   "metadata": {},
   "source": [
    "### 2.2 Тип данных\n",
    "У части столбцов можно изменить тип данных для удобства и скорости анализа."
   ]
  },
  {
   "cell_type": "markdown",
   "id": "417ca1cd",
   "metadata": {},
   "source": [
    "#### 2.2.1 Пользователи"
   ]
  },
  {
   "cell_type": "code",
   "execution_count": 16,
   "id": "e74d5b32",
   "metadata": {},
   "outputs": [],
   "source": [
    "df_users['age'] = df_users['age'].astype(np.uint8, errors='ignore')"
   ]
  },
  {
   "cell_type": "code",
   "execution_count": 17,
   "id": "34d2c141",
   "metadata": {},
   "outputs": [],
   "source": [
    "df_users['user_id'] = df_users['user_id'].astype(np.uint16, errors='ignore')"
   ]
  },
  {
   "cell_type": "code",
   "execution_count": 18,
   "id": "13483530",
   "metadata": {},
   "outputs": [],
   "source": [
    "df_users['churn_date'] = pd.to_datetime(df_users['churn_date'], format='%Y-%m-%d')"
   ]
  },
  {
   "cell_type": "code",
   "execution_count": 19,
   "id": "daf40aa2",
   "metadata": {},
   "outputs": [],
   "source": [
    "df_users['reg_date'] = pd.to_datetime(df_users['reg_date'], format='%Y-%m-%d')"
   ]
  },
  {
   "cell_type": "code",
   "execution_count": 20,
   "id": "e81c8eaf",
   "metadata": {},
   "outputs": [
    {
     "name": "stdout",
     "output_type": "stream",
     "text": [
      "<class 'pandas.core.frame.DataFrame'>\n",
      "RangeIndex: 500 entries, 0 to 499\n",
      "Data columns (total 8 columns):\n",
      " #   Column      Non-Null Count  Dtype         \n",
      "---  ------      --------------  -----         \n",
      " 0   user_id     500 non-null    uint16        \n",
      " 1   age         500 non-null    uint8         \n",
      " 2   churn_date  38 non-null     datetime64[ns]\n",
      " 3   city        500 non-null    object        \n",
      " 4   first_name  500 non-null    object        \n",
      " 5   last_name   500 non-null    object        \n",
      " 6   reg_date    500 non-null    datetime64[ns]\n",
      " 7   tariff      500 non-null    object        \n",
      "dtypes: datetime64[ns](2), object(4), uint16(1), uint8(1)\n",
      "memory usage: 204.5 KB\n"
     ]
    }
   ],
   "source": [
    "df_users.info(memory_usage='deep')"
   ]
  },
  {
   "cell_type": "markdown",
   "id": "412f26e3",
   "metadata": {},
   "source": [
    "#### 2.2.2 Звонки\n",
    "При изменении типов сразу округлим продолжительность звонков в большую сторону, так как «Мегалайн» всегда округляет секунды до минут. Каждый звонок округляется отдельно: даже если он длился всего 1 секунду, будет засчитан как 1 минута."
   ]
  },
  {
   "cell_type": "code",
   "execution_count": 21,
   "id": "e2770660",
   "metadata": {},
   "outputs": [],
   "source": [
    "df_calls['call_date'] = pd.to_datetime(df_calls['call_date'], format='%Y-%m-%d')"
   ]
  },
  {
   "cell_type": "code",
   "execution_count": 22,
   "id": "23144af3",
   "metadata": {},
   "outputs": [],
   "source": [
    "df_calls['duration'] = np.ceil(df_calls['duration']).astype(np.uint8, errors='ignore')"
   ]
  },
  {
   "cell_type": "code",
   "execution_count": 23,
   "id": "6fc8215c",
   "metadata": {},
   "outputs": [],
   "source": [
    "df_calls['user_id'] = df_calls['user_id'].astype(np.uint16, errors='ignore')"
   ]
  },
  {
   "cell_type": "code",
   "execution_count": 24,
   "id": "4c542736",
   "metadata": {},
   "outputs": [
    {
     "name": "stdout",
     "output_type": "stream",
     "text": [
      "<class 'pandas.core.frame.DataFrame'>\n",
      "RangeIndex: 202607 entries, 0 to 202606\n",
      "Data columns (total 4 columns):\n",
      " #   Column     Non-Null Count   Dtype         \n",
      "---  ------     --------------   -----         \n",
      " 0   id         202607 non-null  object        \n",
      " 1   call_date  202607 non-null  datetime64[ns]\n",
      " 2   duration   202607 non-null  uint8         \n",
      " 3   user_id    202607 non-null  uint16        \n",
      "dtypes: datetime64[ns](1), object(1), uint16(1), uint8(1)\n",
      "memory usage: 14.6 MB\n"
     ]
    }
   ],
   "source": [
    "df_calls.info(memory_usage='deep')"
   ]
  },
  {
   "cell_type": "markdown",
   "id": "7b45f5e6",
   "metadata": {},
   "source": [
    "#### 2.2.3 Сообщения"
   ]
  },
  {
   "cell_type": "code",
   "execution_count": 25,
   "id": "4b8285ec",
   "metadata": {},
   "outputs": [],
   "source": [
    "df_messages['user_id'] = df_messages['user_id'].astype(np.uint16, errors='ignore')"
   ]
  },
  {
   "cell_type": "code",
   "execution_count": 26,
   "id": "6ef895a9",
   "metadata": {},
   "outputs": [],
   "source": [
    "df_messages['message_date'] = pd.to_datetime(df_messages['message_date'], format='%Y-%m-%d')"
   ]
  },
  {
   "cell_type": "code",
   "execution_count": 27,
   "id": "af8ee87a",
   "metadata": {},
   "outputs": [
    {
     "name": "stdout",
     "output_type": "stream",
     "text": [
      "<class 'pandas.core.frame.DataFrame'>\n",
      "RangeIndex: 123036 entries, 0 to 123035\n",
      "Data columns (total 3 columns):\n",
      " #   Column        Non-Null Count   Dtype         \n",
      "---  ------        --------------   -----         \n",
      " 0   id            123036 non-null  object        \n",
      " 1   message_date  123036 non-null  datetime64[ns]\n",
      " 2   user_id       123036 non-null  uint16        \n",
      "dtypes: datetime64[ns](1), object(1), uint16(1)\n",
      "memory usage: 8.8 MB\n"
     ]
    }
   ],
   "source": [
    "df_messages.info(memory_usage='deep')"
   ]
  },
  {
   "cell_type": "markdown",
   "id": "c606317b",
   "metadata": {},
   "source": [
    "#### 2.2.4 Интернет-сессии"
   ]
  },
  {
   "cell_type": "code",
   "execution_count": 28,
   "id": "123def61",
   "metadata": {},
   "outputs": [],
   "source": [
    "df_internet['mb_used'] = df_internet['mb_used'].astype(np.float16, errors='ignore')"
   ]
  },
  {
   "cell_type": "code",
   "execution_count": 29,
   "id": "77be5ae8",
   "metadata": {},
   "outputs": [],
   "source": [
    "df_internet['session_date'] = pd.to_datetime(df_internet['session_date'], format='%Y-%m-%d')"
   ]
  },
  {
   "cell_type": "code",
   "execution_count": 30,
   "id": "8f98271a",
   "metadata": {},
   "outputs": [],
   "source": [
    "df_internet['user_id'] = df_internet['user_id'].astype(np.uint16, errors='ignore')"
   ]
  },
  {
   "cell_type": "code",
   "execution_count": 31,
   "id": "472a45e5",
   "metadata": {},
   "outputs": [
    {
     "name": "stdout",
     "output_type": "stream",
     "text": [
      "<class 'pandas.core.frame.DataFrame'>\n",
      "RangeIndex: 149396 entries, 0 to 149395\n",
      "Data columns (total 4 columns):\n",
      " #   Column        Non-Null Count   Dtype         \n",
      "---  ------        --------------   -----         \n",
      " 0   id            149396 non-null  object        \n",
      " 1   mb_used       149396 non-null  float16       \n",
      " 2   session_date  149396 non-null  datetime64[ns]\n",
      " 3   user_id       149396 non-null  uint16        \n",
      "dtypes: datetime64[ns](1), float16(1), object(1), uint16(1)\n",
      "memory usage: 10.9 MB\n"
     ]
    }
   ],
   "source": [
    "df_internet.info(memory_usage='deep')"
   ]
  },
  {
   "cell_type": "markdown",
   "id": "d2e50153",
   "metadata": {},
   "source": [
    "#### 2.2.5 Тарифы"
   ]
  },
  {
   "cell_type": "code",
   "execution_count": 32,
   "id": "5b8982c0",
   "metadata": {},
   "outputs": [],
   "source": [
    "for colomns in df_tariffs:\n",
    "    if colomns != 'tariff_name':\n",
    "        df_tariffs[colomns] = df_tariffs[colomns].astype(np.uint16, errors='ignore')"
   ]
  },
  {
   "cell_type": "code",
   "execution_count": 33,
   "id": "9574e28a",
   "metadata": {},
   "outputs": [
    {
     "name": "stdout",
     "output_type": "stream",
     "text": [
      "<class 'pandas.core.frame.DataFrame'>\n",
      "RangeIndex: 2 entries, 0 to 1\n",
      "Data columns (total 8 columns):\n",
      " #   Column                 Non-Null Count  Dtype \n",
      "---  ------                 --------------  ----- \n",
      " 0   messages_included      2 non-null      uint16\n",
      " 1   mb_per_month_included  2 non-null      uint16\n",
      " 2   minutes_included       2 non-null      uint16\n",
      " 3   rub_monthly_fee        2 non-null      uint16\n",
      " 4   rub_per_gb             2 non-null      uint16\n",
      " 5   rub_per_message        2 non-null      uint16\n",
      " 6   rub_per_minute         2 non-null      uint16\n",
      " 7   tariff_name            2 non-null      object\n",
      "dtypes: object(1), uint16(7)\n",
      "memory usage: 280.0 bytes\n"
     ]
    }
   ],
   "source": [
    "df_tariffs.info(memory_usage='deep')"
   ]
  },
  {
   "cell_type": "markdown",
   "id": "e4844b14",
   "metadata": {},
   "source": [
    "#### 2.2.6 Вывод\n",
    "Изменили типы данных для датафреймов."
   ]
  },
  {
   "cell_type": "markdown",
   "id": "50eb93d5",
   "metadata": {},
   "source": [
    "### 2.3 Проверка на нормальность\n",
    "Проверка неявных дубликатов и выбивающихся значений."
   ]
  },
  {
   "cell_type": "markdown",
   "id": "d5a757b6",
   "metadata": {},
   "source": [
    "#### 2.3.1 Пользователи"
   ]
  },
  {
   "cell_type": "code",
   "execution_count": 34,
   "id": "615a5b80",
   "metadata": {},
   "outputs": [
    {
     "data": {
      "text/plain": [
       "2018.0    38\n",
       "Name: churn_date, dtype: int64"
      ]
     },
     "execution_count": 34,
     "metadata": {},
     "output_type": "execute_result"
    }
   ],
   "source": [
    "df_users['churn_date'].dt.year.value_counts()"
   ]
  },
  {
   "cell_type": "code",
   "execution_count": 35,
   "id": "be9dbc7f",
   "metadata": {},
   "outputs": [
    {
     "data": {
      "text/plain": [
       "['Архангельск',\n",
       " 'Астрахань',\n",
       " 'Балашиха',\n",
       " 'Барнаул',\n",
       " 'Белгород',\n",
       " 'Брянск',\n",
       " 'Владивосток',\n",
       " 'Владикавказ',\n",
       " 'Владимир',\n",
       " 'Волгоград',\n",
       " 'Волжский',\n",
       " 'Вологда',\n",
       " 'Воронеж',\n",
       " 'Грозный',\n",
       " 'Екатеринбург',\n",
       " 'Иваново',\n",
       " 'Ижевск',\n",
       " 'Иркутск',\n",
       " 'Казань',\n",
       " 'Калининград',\n",
       " 'Калуга',\n",
       " 'Кемерово',\n",
       " 'Киров',\n",
       " 'Кострома',\n",
       " 'Краснодар',\n",
       " 'Красноярск',\n",
       " 'Курган',\n",
       " 'Курск',\n",
       " 'Липецк',\n",
       " 'Магнитогорск',\n",
       " 'Махачкала',\n",
       " 'Москва',\n",
       " 'Мурманск',\n",
       " 'Набережные Челны',\n",
       " 'Нижневартовск',\n",
       " 'Нижний Новгород',\n",
       " 'Нижний Тагил',\n",
       " 'Новокузнецк',\n",
       " 'Новороссийск',\n",
       " 'Новосибирск',\n",
       " 'Омск',\n",
       " 'Оренбург',\n",
       " 'Орёл',\n",
       " 'Пенза',\n",
       " 'Пермь',\n",
       " 'Петрозаводск',\n",
       " 'Подольск',\n",
       " 'Ростов-на-Дону',\n",
       " 'Рязань',\n",
       " 'Самара',\n",
       " 'Санкт-Петербург',\n",
       " 'Саранск',\n",
       " 'Саратов',\n",
       " 'Севастополь',\n",
       " 'Смоленск',\n",
       " 'Сочи',\n",
       " 'Ставрополь',\n",
       " 'Стерлитамак',\n",
       " 'Сургут',\n",
       " 'Тамбов',\n",
       " 'Тверь',\n",
       " 'Тольятти',\n",
       " 'Томск',\n",
       " 'Тула',\n",
       " 'Тюмень',\n",
       " 'Улан-Удэ',\n",
       " 'Ульяновск',\n",
       " 'Уфа',\n",
       " 'Хабаровск',\n",
       " 'Химки',\n",
       " 'Чебоксары',\n",
       " 'Челябинск',\n",
       " 'Череповец',\n",
       " 'Чита',\n",
       " 'Якутск',\n",
       " 'Ярославль']"
      ]
     },
     "execution_count": 35,
     "metadata": {},
     "output_type": "execute_result"
    }
   ],
   "source": [
    "sorted(df_users['city'].unique())"
   ]
  },
  {
   "cell_type": "code",
   "execution_count": 36,
   "id": "b2b90f71",
   "metadata": {},
   "outputs": [
    {
     "data": {
      "text/plain": [
       "2018    500\n",
       "Name: reg_date, dtype: int64"
      ]
     },
     "execution_count": 36,
     "metadata": {},
     "output_type": "execute_result"
    }
   ],
   "source": [
    "df_users['reg_date'].dt.year.value_counts()"
   ]
  },
  {
   "cell_type": "markdown",
   "id": "aaf47741",
   "metadata": {},
   "source": [
    "#### 2.3.2 Звонки"
   ]
  },
  {
   "cell_type": "code",
   "execution_count": 37,
   "id": "3a414991",
   "metadata": {},
   "outputs": [
    {
     "data": {
      "text/plain": [
       "2018    202607\n",
       "Name: call_date, dtype: int64"
      ]
     },
     "execution_count": 37,
     "metadata": {},
     "output_type": "execute_result"
    }
   ],
   "source": [
    "df_calls['call_date'].dt.year.value_counts()"
   ]
  },
  {
   "cell_type": "code",
   "execution_count": 38,
   "id": "797d7316",
   "metadata": {},
   "outputs": [
    {
     "data": {
      "text/plain": [
       "2018    500\n",
       "Name: reg_date, dtype: int64"
      ]
     },
     "execution_count": 38,
     "metadata": {},
     "output_type": "execute_result"
    }
   ],
   "source": [
    "df_users['reg_date'].dt.year.value_counts()"
   ]
  },
  {
   "cell_type": "markdown",
   "id": "31ff8036",
   "metadata": {},
   "source": [
    "#### 2.3.3 Сообщения"
   ]
  },
  {
   "cell_type": "code",
   "execution_count": 39,
   "id": "84ab30a0",
   "metadata": {},
   "outputs": [
    {
     "data": {
      "text/plain": [
       "2018    123036\n",
       "Name: message_date, dtype: int64"
      ]
     },
     "execution_count": 39,
     "metadata": {},
     "output_type": "execute_result"
    }
   ],
   "source": [
    "df_messages['message_date'].dt.year.value_counts()"
   ]
  },
  {
   "cell_type": "markdown",
   "id": "8089122b",
   "metadata": {},
   "source": [
    "#### 2.3.4 Интернет-сессии"
   ]
  },
  {
   "cell_type": "code",
   "execution_count": 40,
   "id": "61983a28",
   "metadata": {},
   "outputs": [
    {
     "data": {
      "text/plain": [
       "2018    149396\n",
       "Name: session_date, dtype: int64"
      ]
     },
     "execution_count": 40,
     "metadata": {},
     "output_type": "execute_result"
    }
   ],
   "source": [
    "df_internet['session_date'].dt.year.value_counts()"
   ]
  },
  {
   "cell_type": "markdown",
   "id": "3a83a177",
   "metadata": {},
   "source": [
    "#### 2.3.5 Вывод\n",
    "Существенных отклонений не найдено."
   ]
  },
  {
   "cell_type": "markdown",
   "id": "415dee85",
   "metadata": {},
   "source": [
    "### 2.4 Вывод\n",
    "\n",
    "Проверили на ошибки стили заголовков, дубликаты, пропуски значений. Существенных отклонений не найдено.\n",
    "\n",
    "Изменили тип данных в датафреймах для удобства и скорости анализа, в том числе округлили значения исрасходованных минут и интернет-трафика в мегабайтах в большую сторону.\n",
    "\n",
    "Проверили данные на нормальность и выбивающиеся значения. Существенных отклонений не найдено."
   ]
  },
  {
   "cell_type": "markdown",
   "id": "ed6dd3d9",
   "metadata": {},
   "source": [
    "## 3 Добавление данных"
   ]
  },
  {
   "cell_type": "markdown",
   "id": "9bc95697",
   "metadata": {},
   "source": [
    "### 3.1 Количество сделанных звонков и израсходованных минут разговора по месяцам для каждого пользователя"
   ]
  },
  {
   "cell_type": "code",
   "execution_count": 41,
   "id": "e1a7e54c",
   "metadata": {},
   "outputs": [],
   "source": [
    "df_calls['month'] = df_calls['call_date'].dt.month"
   ]
  },
  {
   "cell_type": "code",
   "execution_count": 42,
   "id": "d8ef918f",
   "metadata": {},
   "outputs": [
    {
     "data": {
      "text/html": [
       "<div>\n",
       "<style scoped>\n",
       "    .dataframe tbody tr th:only-of-type {\n",
       "        vertical-align: middle;\n",
       "    }\n",
       "\n",
       "    .dataframe tbody tr th {\n",
       "        vertical-align: top;\n",
       "    }\n",
       "\n",
       "    .dataframe thead tr th {\n",
       "        text-align: left;\n",
       "    }\n",
       "</style>\n",
       "<table border=\"1\" class=\"dataframe\">\n",
       "  <thead>\n",
       "    <tr>\n",
       "      <th></th>\n",
       "      <th>user_id</th>\n",
       "      <th>month</th>\n",
       "      <th>count</th>\n",
       "      <th>sum</th>\n",
       "    </tr>\n",
       "    <tr>\n",
       "      <th></th>\n",
       "      <th></th>\n",
       "      <th></th>\n",
       "      <th>duration</th>\n",
       "      <th>duration</th>\n",
       "    </tr>\n",
       "  </thead>\n",
       "  <tbody>\n",
       "    <tr>\n",
       "      <th>0</th>\n",
       "      <td>1000</td>\n",
       "      <td>5</td>\n",
       "      <td>22</td>\n",
       "      <td>159.0</td>\n",
       "    </tr>\n",
       "    <tr>\n",
       "      <th>1</th>\n",
       "      <td>1000</td>\n",
       "      <td>6</td>\n",
       "      <td>43</td>\n",
       "      <td>172.0</td>\n",
       "    </tr>\n",
       "    <tr>\n",
       "      <th>2</th>\n",
       "      <td>1000</td>\n",
       "      <td>7</td>\n",
       "      <td>47</td>\n",
       "      <td>340.0</td>\n",
       "    </tr>\n",
       "    <tr>\n",
       "      <th>3</th>\n",
       "      <td>1000</td>\n",
       "      <td>8</td>\n",
       "      <td>52</td>\n",
       "      <td>408.0</td>\n",
       "    </tr>\n",
       "    <tr>\n",
       "      <th>4</th>\n",
       "      <td>1000</td>\n",
       "      <td>9</td>\n",
       "      <td>58</td>\n",
       "      <td>466.0</td>\n",
       "    </tr>\n",
       "    <tr>\n",
       "      <th>...</th>\n",
       "      <td>...</td>\n",
       "      <td>...</td>\n",
       "      <td>...</td>\n",
       "      <td>...</td>\n",
       "    </tr>\n",
       "    <tr>\n",
       "      <th>3169</th>\n",
       "      <td>1498</td>\n",
       "      <td>10</td>\n",
       "      <td>41</td>\n",
       "      <td>247.0</td>\n",
       "    </tr>\n",
       "    <tr>\n",
       "      <th>3170</th>\n",
       "      <td>1499</td>\n",
       "      <td>9</td>\n",
       "      <td>9</td>\n",
       "      <td>70.0</td>\n",
       "    </tr>\n",
       "    <tr>\n",
       "      <th>3171</th>\n",
       "      <td>1499</td>\n",
       "      <td>10</td>\n",
       "      <td>68</td>\n",
       "      <td>449.0</td>\n",
       "    </tr>\n",
       "    <tr>\n",
       "      <th>3172</th>\n",
       "      <td>1499</td>\n",
       "      <td>11</td>\n",
       "      <td>74</td>\n",
       "      <td>612.0</td>\n",
       "    </tr>\n",
       "    <tr>\n",
       "      <th>3173</th>\n",
       "      <td>1499</td>\n",
       "      <td>12</td>\n",
       "      <td>69</td>\n",
       "      <td>492.0</td>\n",
       "    </tr>\n",
       "  </tbody>\n",
       "</table>\n",
       "<p>3174 rows × 4 columns</p>\n",
       "</div>"
      ],
      "text/plain": [
       "     user_id month    count      sum\n",
       "                   duration duration\n",
       "0       1000     5       22    159.0\n",
       "1       1000     6       43    172.0\n",
       "2       1000     7       47    340.0\n",
       "3       1000     8       52    408.0\n",
       "4       1000     9       58    466.0\n",
       "...      ...   ...      ...      ...\n",
       "3169    1498    10       41    247.0\n",
       "3170    1499     9        9     70.0\n",
       "3171    1499    10       68    449.0\n",
       "3172    1499    11       74    612.0\n",
       "3173    1499    12       69    492.0\n",
       "\n",
       "[3174 rows x 4 columns]"
      ]
     },
     "execution_count": 42,
     "metadata": {},
     "output_type": "execute_result"
    }
   ],
   "source": [
    "df_calls_user = df_calls.pivot_table(index=['user_id', 'month'], values='duration', aggfunc=['count', 'sum']).reset_index()\n",
    "df_calls_user"
   ]
  },
  {
   "cell_type": "code",
   "execution_count": 43,
   "id": "8dffa095",
   "metadata": {},
   "outputs": [],
   "source": [
    "df_calls_user.columns = ['user_id', 'month', 'calls', 'calls_duration']"
   ]
  },
  {
   "cell_type": "markdown",
   "id": "2a2a4e34",
   "metadata": {},
   "source": [
    "### 3.2 Количество отправленных сообщений по месяцам для каждого пользователя"
   ]
  },
  {
   "cell_type": "code",
   "execution_count": 44,
   "id": "f8d950f0",
   "metadata": {},
   "outputs": [],
   "source": [
    "df_messages['month'] = df_messages['message_date'].dt.month"
   ]
  },
  {
   "cell_type": "code",
   "execution_count": 45,
   "id": "4e02c8cd",
   "metadata": {},
   "outputs": [
    {
     "data": {
      "text/html": [
       "<div>\n",
       "<style scoped>\n",
       "    .dataframe tbody tr th:only-of-type {\n",
       "        vertical-align: middle;\n",
       "    }\n",
       "\n",
       "    .dataframe tbody tr th {\n",
       "        vertical-align: top;\n",
       "    }\n",
       "\n",
       "    .dataframe thead th {\n",
       "        text-align: right;\n",
       "    }\n",
       "</style>\n",
       "<table border=\"1\" class=\"dataframe\">\n",
       "  <thead>\n",
       "    <tr style=\"text-align: right;\">\n",
       "      <th></th>\n",
       "      <th>user_id</th>\n",
       "      <th>month</th>\n",
       "      <th>id</th>\n",
       "    </tr>\n",
       "  </thead>\n",
       "  <tbody>\n",
       "    <tr>\n",
       "      <th>0</th>\n",
       "      <td>1000</td>\n",
       "      <td>5</td>\n",
       "      <td>22</td>\n",
       "    </tr>\n",
       "    <tr>\n",
       "      <th>1</th>\n",
       "      <td>1000</td>\n",
       "      <td>6</td>\n",
       "      <td>60</td>\n",
       "    </tr>\n",
       "    <tr>\n",
       "      <th>2</th>\n",
       "      <td>1000</td>\n",
       "      <td>7</td>\n",
       "      <td>75</td>\n",
       "    </tr>\n",
       "    <tr>\n",
       "      <th>3</th>\n",
       "      <td>1000</td>\n",
       "      <td>8</td>\n",
       "      <td>81</td>\n",
       "    </tr>\n",
       "    <tr>\n",
       "      <th>4</th>\n",
       "      <td>1000</td>\n",
       "      <td>9</td>\n",
       "      <td>57</td>\n",
       "    </tr>\n",
       "    <tr>\n",
       "      <th>...</th>\n",
       "      <td>...</td>\n",
       "      <td>...</td>\n",
       "      <td>...</td>\n",
       "    </tr>\n",
       "    <tr>\n",
       "      <th>2712</th>\n",
       "      <td>1498</td>\n",
       "      <td>10</td>\n",
       "      <td>42</td>\n",
       "    </tr>\n",
       "    <tr>\n",
       "      <th>2713</th>\n",
       "      <td>1499</td>\n",
       "      <td>9</td>\n",
       "      <td>11</td>\n",
       "    </tr>\n",
       "    <tr>\n",
       "      <th>2714</th>\n",
       "      <td>1499</td>\n",
       "      <td>10</td>\n",
       "      <td>48</td>\n",
       "    </tr>\n",
       "    <tr>\n",
       "      <th>2715</th>\n",
       "      <td>1499</td>\n",
       "      <td>11</td>\n",
       "      <td>59</td>\n",
       "    </tr>\n",
       "    <tr>\n",
       "      <th>2716</th>\n",
       "      <td>1499</td>\n",
       "      <td>12</td>\n",
       "      <td>66</td>\n",
       "    </tr>\n",
       "  </tbody>\n",
       "</table>\n",
       "<p>2717 rows × 3 columns</p>\n",
       "</div>"
      ],
      "text/plain": [
       "      user_id  month  id\n",
       "0        1000      5  22\n",
       "1        1000      6  60\n",
       "2        1000      7  75\n",
       "3        1000      8  81\n",
       "4        1000      9  57\n",
       "...       ...    ...  ..\n",
       "2712     1498     10  42\n",
       "2713     1499      9  11\n",
       "2714     1499     10  48\n",
       "2715     1499     11  59\n",
       "2716     1499     12  66\n",
       "\n",
       "[2717 rows x 3 columns]"
      ]
     },
     "execution_count": 45,
     "metadata": {},
     "output_type": "execute_result"
    }
   ],
   "source": [
    "df_messages_user = df_messages.pivot_table(index=['user_id', 'month'], values='id', aggfunc='count').reset_index()\n",
    "df_messages_user"
   ]
  },
  {
   "cell_type": "code",
   "execution_count": 46,
   "id": "ec27dda7",
   "metadata": {},
   "outputs": [],
   "source": [
    "df_messages_user.columns = ['user_id', 'month', 'messages']"
   ]
  },
  {
   "cell_type": "markdown",
   "id": "9ec046c0",
   "metadata": {},
   "source": [
    "### 3.3 Объем израсходованного интернет-трафика по месяцам для каждого пользователя\n",
    "\n",
    "При расчете округлим общую сумму трафика за месяц в бо́льшую сторону и переведем мегабайты в гигабайты, так как если абонент использует 1025 мегабайт в этом месяце, с него возьмут плату за 2 гигабайта."
   ]
  },
  {
   "cell_type": "code",
   "execution_count": 47,
   "id": "bfc053df",
   "metadata": {},
   "outputs": [],
   "source": [
    "df_internet['month'] = df_internet['session_date'].dt.month"
   ]
  },
  {
   "cell_type": "code",
   "execution_count": 48,
   "id": "effa2d93",
   "metadata": {},
   "outputs": [
    {
     "data": {
      "text/html": [
       "<div>\n",
       "<style scoped>\n",
       "    .dataframe tbody tr th:only-of-type {\n",
       "        vertical-align: middle;\n",
       "    }\n",
       "\n",
       "    .dataframe tbody tr th {\n",
       "        vertical-align: top;\n",
       "    }\n",
       "\n",
       "    .dataframe thead th {\n",
       "        text-align: right;\n",
       "    }\n",
       "</style>\n",
       "<table border=\"1\" class=\"dataframe\">\n",
       "  <thead>\n",
       "    <tr style=\"text-align: right;\">\n",
       "      <th></th>\n",
       "      <th>user_id</th>\n",
       "      <th>month</th>\n",
       "      <th>mb_used</th>\n",
       "    </tr>\n",
       "  </thead>\n",
       "  <tbody>\n",
       "    <tr>\n",
       "      <th>0</th>\n",
       "      <td>1000</td>\n",
       "      <td>5</td>\n",
       "      <td>2254.0</td>\n",
       "    </tr>\n",
       "    <tr>\n",
       "      <th>1</th>\n",
       "      <td>1000</td>\n",
       "      <td>6</td>\n",
       "      <td>23232.0</td>\n",
       "    </tr>\n",
       "    <tr>\n",
       "      <th>2</th>\n",
       "      <td>1000</td>\n",
       "      <td>7</td>\n",
       "      <td>14008.0</td>\n",
       "    </tr>\n",
       "    <tr>\n",
       "      <th>3</th>\n",
       "      <td>1000</td>\n",
       "      <td>8</td>\n",
       "      <td>14056.0</td>\n",
       "    </tr>\n",
       "    <tr>\n",
       "      <th>4</th>\n",
       "      <td>1000</td>\n",
       "      <td>9</td>\n",
       "      <td>14568.0</td>\n",
       "    </tr>\n",
       "    <tr>\n",
       "      <th>...</th>\n",
       "      <td>...</td>\n",
       "      <td>...</td>\n",
       "      <td>...</td>\n",
       "    </tr>\n",
       "    <tr>\n",
       "      <th>3198</th>\n",
       "      <td>1498</td>\n",
       "      <td>10</td>\n",
       "      <td>20576.0</td>\n",
       "    </tr>\n",
       "    <tr>\n",
       "      <th>3199</th>\n",
       "      <td>1499</td>\n",
       "      <td>9</td>\n",
       "      <td>1846.0</td>\n",
       "    </tr>\n",
       "    <tr>\n",
       "      <th>3200</th>\n",
       "      <td>1499</td>\n",
       "      <td>10</td>\n",
       "      <td>17792.0</td>\n",
       "    </tr>\n",
       "    <tr>\n",
       "      <th>3201</th>\n",
       "      <td>1499</td>\n",
       "      <td>11</td>\n",
       "      <td>17968.0</td>\n",
       "    </tr>\n",
       "    <tr>\n",
       "      <th>3202</th>\n",
       "      <td>1499</td>\n",
       "      <td>12</td>\n",
       "      <td>13056.0</td>\n",
       "    </tr>\n",
       "  </tbody>\n",
       "</table>\n",
       "<p>3203 rows × 3 columns</p>\n",
       "</div>"
      ],
      "text/plain": [
       "      user_id  month  mb_used\n",
       "0        1000      5   2254.0\n",
       "1        1000      6  23232.0\n",
       "2        1000      7  14008.0\n",
       "3        1000      8  14056.0\n",
       "4        1000      9  14568.0\n",
       "...       ...    ...      ...\n",
       "3198     1498     10  20576.0\n",
       "3199     1499      9   1846.0\n",
       "3200     1499     10  17792.0\n",
       "3201     1499     11  17968.0\n",
       "3202     1499     12  13056.0\n",
       "\n",
       "[3203 rows x 3 columns]"
      ]
     },
     "execution_count": 48,
     "metadata": {},
     "output_type": "execute_result"
    }
   ],
   "source": [
    "df_internet_user = df_internet.pivot_table(index=['user_id', 'month'], values='mb_used', aggfunc='sum').reset_index()\n",
    "df_internet_user"
   ]
  },
  {
   "cell_type": "code",
   "execution_count": 49,
   "id": "9c88471d",
   "metadata": {},
   "outputs": [
    {
     "data": {
      "text/html": [
       "<div>\n",
       "<style scoped>\n",
       "    .dataframe tbody tr th:only-of-type {\n",
       "        vertical-align: middle;\n",
       "    }\n",
       "\n",
       "    .dataframe tbody tr th {\n",
       "        vertical-align: top;\n",
       "    }\n",
       "\n",
       "    .dataframe thead th {\n",
       "        text-align: right;\n",
       "    }\n",
       "</style>\n",
       "<table border=\"1\" class=\"dataframe\">\n",
       "  <thead>\n",
       "    <tr style=\"text-align: right;\">\n",
       "      <th></th>\n",
       "      <th>user_id</th>\n",
       "      <th>month</th>\n",
       "      <th>mb_used</th>\n",
       "      <th>gb_used</th>\n",
       "    </tr>\n",
       "  </thead>\n",
       "  <tbody>\n",
       "    <tr>\n",
       "      <th>0</th>\n",
       "      <td>1000</td>\n",
       "      <td>5</td>\n",
       "      <td>2254.0</td>\n",
       "      <td>3</td>\n",
       "    </tr>\n",
       "    <tr>\n",
       "      <th>1</th>\n",
       "      <td>1000</td>\n",
       "      <td>6</td>\n",
       "      <td>23232.0</td>\n",
       "      <td>23</td>\n",
       "    </tr>\n",
       "    <tr>\n",
       "      <th>2</th>\n",
       "      <td>1000</td>\n",
       "      <td>7</td>\n",
       "      <td>14008.0</td>\n",
       "      <td>14</td>\n",
       "    </tr>\n",
       "    <tr>\n",
       "      <th>3</th>\n",
       "      <td>1000</td>\n",
       "      <td>8</td>\n",
       "      <td>14056.0</td>\n",
       "      <td>14</td>\n",
       "    </tr>\n",
       "    <tr>\n",
       "      <th>4</th>\n",
       "      <td>1000</td>\n",
       "      <td>9</td>\n",
       "      <td>14568.0</td>\n",
       "      <td>15</td>\n",
       "    </tr>\n",
       "    <tr>\n",
       "      <th>...</th>\n",
       "      <td>...</td>\n",
       "      <td>...</td>\n",
       "      <td>...</td>\n",
       "      <td>...</td>\n",
       "    </tr>\n",
       "    <tr>\n",
       "      <th>3198</th>\n",
       "      <td>1498</td>\n",
       "      <td>10</td>\n",
       "      <td>20576.0</td>\n",
       "      <td>21</td>\n",
       "    </tr>\n",
       "    <tr>\n",
       "      <th>3199</th>\n",
       "      <td>1499</td>\n",
       "      <td>9</td>\n",
       "      <td>1846.0</td>\n",
       "      <td>2</td>\n",
       "    </tr>\n",
       "    <tr>\n",
       "      <th>3200</th>\n",
       "      <td>1499</td>\n",
       "      <td>10</td>\n",
       "      <td>17792.0</td>\n",
       "      <td>18</td>\n",
       "    </tr>\n",
       "    <tr>\n",
       "      <th>3201</th>\n",
       "      <td>1499</td>\n",
       "      <td>11</td>\n",
       "      <td>17968.0</td>\n",
       "      <td>18</td>\n",
       "    </tr>\n",
       "    <tr>\n",
       "      <th>3202</th>\n",
       "      <td>1499</td>\n",
       "      <td>12</td>\n",
       "      <td>13056.0</td>\n",
       "      <td>13</td>\n",
       "    </tr>\n",
       "  </tbody>\n",
       "</table>\n",
       "<p>3203 rows × 4 columns</p>\n",
       "</div>"
      ],
      "text/plain": [
       "      user_id  month  mb_used  gb_used\n",
       "0        1000      5   2254.0        3\n",
       "1        1000      6  23232.0       23\n",
       "2        1000      7  14008.0       14\n",
       "3        1000      8  14056.0       14\n",
       "4        1000      9  14568.0       15\n",
       "...       ...    ...      ...      ...\n",
       "3198     1498     10  20576.0       21\n",
       "3199     1499      9   1846.0        2\n",
       "3200     1499     10  17792.0       18\n",
       "3201     1499     11  17968.0       18\n",
       "3202     1499     12  13056.0       13\n",
       "\n",
       "[3203 rows x 4 columns]"
      ]
     },
     "execution_count": 49,
     "metadata": {},
     "output_type": "execute_result"
    }
   ],
   "source": [
    "df_internet_user['gb_used'] = np.ceil(df_internet_user['mb_used']/1024).astype(np.uint16, errors='ignore')\n",
    "df_internet_user"
   ]
  },
  {
   "cell_type": "code",
   "execution_count": 50,
   "id": "5faaa33a",
   "metadata": {},
   "outputs": [],
   "source": [
    "df_internet_user = df_internet_user.drop(columns = ['mb_used'],axis = 1)"
   ]
  },
  {
   "cell_type": "markdown",
   "id": "7c70daf1",
   "metadata": {},
   "source": [
    "### 3.4 Объединение данных\n",
    "\n",
    "Соединим в единую табличку данные по израсходованным звонкам, сообщениям и интернет-трафике по месяцам для каждого пользователя, а также добавим о самих пользователях и о тарифе."
   ]
  },
  {
   "cell_type": "code",
   "execution_count": 51,
   "id": "8c09033c",
   "metadata": {},
   "outputs": [
    {
     "data": {
      "text/html": [
       "<div>\n",
       "<style scoped>\n",
       "    .dataframe tbody tr th:only-of-type {\n",
       "        vertical-align: middle;\n",
       "    }\n",
       "\n",
       "    .dataframe tbody tr th {\n",
       "        vertical-align: top;\n",
       "    }\n",
       "\n",
       "    .dataframe thead th {\n",
       "        text-align: right;\n",
       "    }\n",
       "</style>\n",
       "<table border=\"1\" class=\"dataframe\">\n",
       "  <thead>\n",
       "    <tr style=\"text-align: right;\">\n",
       "      <th></th>\n",
       "      <th>user_id</th>\n",
       "      <th>month</th>\n",
       "      <th>calls</th>\n",
       "      <th>calls_duration</th>\n",
       "      <th>messages</th>\n",
       "      <th>gb_used</th>\n",
       "    </tr>\n",
       "  </thead>\n",
       "  <tbody>\n",
       "    <tr>\n",
       "      <th>0</th>\n",
       "      <td>1000</td>\n",
       "      <td>5</td>\n",
       "      <td>22.0</td>\n",
       "      <td>159.0</td>\n",
       "      <td>22.0</td>\n",
       "      <td>3.0</td>\n",
       "    </tr>\n",
       "    <tr>\n",
       "      <th>1</th>\n",
       "      <td>1000</td>\n",
       "      <td>6</td>\n",
       "      <td>43.0</td>\n",
       "      <td>172.0</td>\n",
       "      <td>60.0</td>\n",
       "      <td>23.0</td>\n",
       "    </tr>\n",
       "    <tr>\n",
       "      <th>2</th>\n",
       "      <td>1000</td>\n",
       "      <td>7</td>\n",
       "      <td>47.0</td>\n",
       "      <td>340.0</td>\n",
       "      <td>75.0</td>\n",
       "      <td>14.0</td>\n",
       "    </tr>\n",
       "    <tr>\n",
       "      <th>3</th>\n",
       "      <td>1000</td>\n",
       "      <td>8</td>\n",
       "      <td>52.0</td>\n",
       "      <td>408.0</td>\n",
       "      <td>81.0</td>\n",
       "      <td>14.0</td>\n",
       "    </tr>\n",
       "    <tr>\n",
       "      <th>4</th>\n",
       "      <td>1000</td>\n",
       "      <td>9</td>\n",
       "      <td>58.0</td>\n",
       "      <td>466.0</td>\n",
       "      <td>57.0</td>\n",
       "      <td>15.0</td>\n",
       "    </tr>\n",
       "    <tr>\n",
       "      <th>...</th>\n",
       "      <td>...</td>\n",
       "      <td>...</td>\n",
       "      <td>...</td>\n",
       "      <td>...</td>\n",
       "      <td>...</td>\n",
       "      <td>...</td>\n",
       "    </tr>\n",
       "    <tr>\n",
       "      <th>3209</th>\n",
       "      <td>1489</td>\n",
       "      <td>9</td>\n",
       "      <td>NaN</td>\n",
       "      <td>NaN</td>\n",
       "      <td>32.0</td>\n",
       "      <td>17.0</td>\n",
       "    </tr>\n",
       "    <tr>\n",
       "      <th>3210</th>\n",
       "      <td>1489</td>\n",
       "      <td>10</td>\n",
       "      <td>NaN</td>\n",
       "      <td>NaN</td>\n",
       "      <td>21.0</td>\n",
       "      <td>20.0</td>\n",
       "    </tr>\n",
       "    <tr>\n",
       "      <th>3211</th>\n",
       "      <td>1489</td>\n",
       "      <td>11</td>\n",
       "      <td>NaN</td>\n",
       "      <td>NaN</td>\n",
       "      <td>20.0</td>\n",
       "      <td>18.0</td>\n",
       "    </tr>\n",
       "    <tr>\n",
       "      <th>3212</th>\n",
       "      <td>1489</td>\n",
       "      <td>12</td>\n",
       "      <td>NaN</td>\n",
       "      <td>NaN</td>\n",
       "      <td>35.0</td>\n",
       "      <td>17.0</td>\n",
       "    </tr>\n",
       "    <tr>\n",
       "      <th>3213</th>\n",
       "      <td>1476</td>\n",
       "      <td>4</td>\n",
       "      <td>NaN</td>\n",
       "      <td>NaN</td>\n",
       "      <td>NaN</td>\n",
       "      <td>1.0</td>\n",
       "    </tr>\n",
       "  </tbody>\n",
       "</table>\n",
       "<p>3214 rows × 6 columns</p>\n",
       "</div>"
      ],
      "text/plain": [
       "      user_id  month  calls  calls_duration  messages  gb_used\n",
       "0        1000      5   22.0           159.0      22.0      3.0\n",
       "1        1000      6   43.0           172.0      60.0     23.0\n",
       "2        1000      7   47.0           340.0      75.0     14.0\n",
       "3        1000      8   52.0           408.0      81.0     14.0\n",
       "4        1000      9   58.0           466.0      57.0     15.0\n",
       "...       ...    ...    ...             ...       ...      ...\n",
       "3209     1489      9    NaN             NaN      32.0     17.0\n",
       "3210     1489     10    NaN             NaN      21.0     20.0\n",
       "3211     1489     11    NaN             NaN      20.0     18.0\n",
       "3212     1489     12    NaN             NaN      35.0     17.0\n",
       "3213     1476      4    NaN             NaN       NaN      1.0\n",
       "\n",
       "[3214 rows x 6 columns]"
      ]
     },
     "execution_count": 51,
     "metadata": {},
     "output_type": "execute_result"
    }
   ],
   "source": [
    "df = df_calls_user.merge(df_messages_user, on=['user_id', 'month'], how='outer')\n",
    "df = df.merge(df_internet_user, on=['user_id', 'month'], how='outer')\n",
    "df"
   ]
  },
  {
   "cell_type": "code",
   "execution_count": 52,
   "id": "ff971b99",
   "metadata": {},
   "outputs": [],
   "source": [
    "columns_to_replace = ['calls', 'calls_duration', 'messages', 'gb_used']\n",
    "for colomns in columns_to_replace:\n",
    "    df[colomns] = df[colomns].fillna(0)"
   ]
  },
  {
   "cell_type": "code",
   "execution_count": 53,
   "id": "c7112f23",
   "metadata": {},
   "outputs": [],
   "source": [
    "df = df.astype(np.uint16, errors='ignore')"
   ]
  },
  {
   "cell_type": "code",
   "execution_count": 54,
   "id": "7308d50c",
   "metadata": {},
   "outputs": [
    {
     "data": {
      "text/html": [
       "<div>\n",
       "<style scoped>\n",
       "    .dataframe tbody tr th:only-of-type {\n",
       "        vertical-align: middle;\n",
       "    }\n",
       "\n",
       "    .dataframe tbody tr th {\n",
       "        vertical-align: top;\n",
       "    }\n",
       "\n",
       "    .dataframe thead th {\n",
       "        text-align: right;\n",
       "    }\n",
       "</style>\n",
       "<table border=\"1\" class=\"dataframe\">\n",
       "  <thead>\n",
       "    <tr style=\"text-align: right;\">\n",
       "      <th></th>\n",
       "      <th>user_id</th>\n",
       "      <th>age</th>\n",
       "      <th>churn_date</th>\n",
       "      <th>city</th>\n",
       "      <th>first_name</th>\n",
       "      <th>last_name</th>\n",
       "      <th>reg_date</th>\n",
       "      <th>tariff</th>\n",
       "    </tr>\n",
       "  </thead>\n",
       "  <tbody>\n",
       "    <tr>\n",
       "      <th>0</th>\n",
       "      <td>1000</td>\n",
       "      <td>52</td>\n",
       "      <td>NaT</td>\n",
       "      <td>Краснодар</td>\n",
       "      <td>Рафаил</td>\n",
       "      <td>Верещагин</td>\n",
       "      <td>2018-05-25</td>\n",
       "      <td>ultra</td>\n",
       "    </tr>\n",
       "    <tr>\n",
       "      <th>1</th>\n",
       "      <td>1001</td>\n",
       "      <td>41</td>\n",
       "      <td>NaT</td>\n",
       "      <td>Москва</td>\n",
       "      <td>Иван</td>\n",
       "      <td>Ежов</td>\n",
       "      <td>2018-11-01</td>\n",
       "      <td>smart</td>\n",
       "    </tr>\n",
       "    <tr>\n",
       "      <th>2</th>\n",
       "      <td>1002</td>\n",
       "      <td>59</td>\n",
       "      <td>NaT</td>\n",
       "      <td>Стерлитамак</td>\n",
       "      <td>Евгений</td>\n",
       "      <td>Абрамович</td>\n",
       "      <td>2018-06-17</td>\n",
       "      <td>smart</td>\n",
       "    </tr>\n",
       "    <tr>\n",
       "      <th>3</th>\n",
       "      <td>1003</td>\n",
       "      <td>23</td>\n",
       "      <td>NaT</td>\n",
       "      <td>Москва</td>\n",
       "      <td>Белла</td>\n",
       "      <td>Белякова</td>\n",
       "      <td>2018-08-17</td>\n",
       "      <td>ultra</td>\n",
       "    </tr>\n",
       "    <tr>\n",
       "      <th>4</th>\n",
       "      <td>1004</td>\n",
       "      <td>68</td>\n",
       "      <td>NaT</td>\n",
       "      <td>Новокузнецк</td>\n",
       "      <td>Татьяна</td>\n",
       "      <td>Авдеенко</td>\n",
       "      <td>2018-05-14</td>\n",
       "      <td>ultra</td>\n",
       "    </tr>\n",
       "  </tbody>\n",
       "</table>\n",
       "</div>"
      ],
      "text/plain": [
       "   user_id  age churn_date         city first_name  last_name   reg_date  \\\n",
       "0     1000   52        NaT    Краснодар     Рафаил  Верещагин 2018-05-25   \n",
       "1     1001   41        NaT       Москва       Иван       Ежов 2018-11-01   \n",
       "2     1002   59        NaT  Стерлитамак    Евгений  Абрамович 2018-06-17   \n",
       "3     1003   23        NaT       Москва      Белла   Белякова 2018-08-17   \n",
       "4     1004   68        NaT  Новокузнецк    Татьяна   Авдеенко 2018-05-14   \n",
       "\n",
       "  tariff  \n",
       "0  ultra  \n",
       "1  smart  \n",
       "2  smart  \n",
       "3  ultra  \n",
       "4  ultra  "
      ]
     },
     "execution_count": 54,
     "metadata": {},
     "output_type": "execute_result"
    }
   ],
   "source": [
    "df_users.head()"
   ]
  },
  {
   "cell_type": "code",
   "execution_count": 55,
   "id": "16bf172e",
   "metadata": {},
   "outputs": [],
   "source": [
    "df_users = df_users.drop(columns = ['churn_date', 'first_name', 'last_name', 'reg_date'],axis = 1)"
   ]
  },
  {
   "cell_type": "code",
   "execution_count": 56,
   "id": "4986cc6b",
   "metadata": {},
   "outputs": [
    {
     "data": {
      "text/html": [
       "<div>\n",
       "<style scoped>\n",
       "    .dataframe tbody tr th:only-of-type {\n",
       "        vertical-align: middle;\n",
       "    }\n",
       "\n",
       "    .dataframe tbody tr th {\n",
       "        vertical-align: top;\n",
       "    }\n",
       "\n",
       "    .dataframe thead th {\n",
       "        text-align: right;\n",
       "    }\n",
       "</style>\n",
       "<table border=\"1\" class=\"dataframe\">\n",
       "  <thead>\n",
       "    <tr style=\"text-align: right;\">\n",
       "      <th></th>\n",
       "      <th>user_id</th>\n",
       "      <th>month</th>\n",
       "      <th>calls</th>\n",
       "      <th>calls_duration</th>\n",
       "      <th>messages</th>\n",
       "      <th>gb_used</th>\n",
       "      <th>age</th>\n",
       "      <th>city</th>\n",
       "      <th>tariff</th>\n",
       "    </tr>\n",
       "  </thead>\n",
       "  <tbody>\n",
       "    <tr>\n",
       "      <th>0</th>\n",
       "      <td>1000</td>\n",
       "      <td>5</td>\n",
       "      <td>22</td>\n",
       "      <td>159</td>\n",
       "      <td>22</td>\n",
       "      <td>3</td>\n",
       "      <td>52</td>\n",
       "      <td>Краснодар</td>\n",
       "      <td>ultra</td>\n",
       "    </tr>\n",
       "    <tr>\n",
       "      <th>1</th>\n",
       "      <td>1000</td>\n",
       "      <td>6</td>\n",
       "      <td>43</td>\n",
       "      <td>172</td>\n",
       "      <td>60</td>\n",
       "      <td>23</td>\n",
       "      <td>52</td>\n",
       "      <td>Краснодар</td>\n",
       "      <td>ultra</td>\n",
       "    </tr>\n",
       "    <tr>\n",
       "      <th>2</th>\n",
       "      <td>1000</td>\n",
       "      <td>7</td>\n",
       "      <td>47</td>\n",
       "      <td>340</td>\n",
       "      <td>75</td>\n",
       "      <td>14</td>\n",
       "      <td>52</td>\n",
       "      <td>Краснодар</td>\n",
       "      <td>ultra</td>\n",
       "    </tr>\n",
       "    <tr>\n",
       "      <th>3</th>\n",
       "      <td>1000</td>\n",
       "      <td>8</td>\n",
       "      <td>52</td>\n",
       "      <td>408</td>\n",
       "      <td>81</td>\n",
       "      <td>14</td>\n",
       "      <td>52</td>\n",
       "      <td>Краснодар</td>\n",
       "      <td>ultra</td>\n",
       "    </tr>\n",
       "    <tr>\n",
       "      <th>4</th>\n",
       "      <td>1000</td>\n",
       "      <td>9</td>\n",
       "      <td>58</td>\n",
       "      <td>466</td>\n",
       "      <td>57</td>\n",
       "      <td>15</td>\n",
       "      <td>52</td>\n",
       "      <td>Краснодар</td>\n",
       "      <td>ultra</td>\n",
       "    </tr>\n",
       "  </tbody>\n",
       "</table>\n",
       "</div>"
      ],
      "text/plain": [
       "   user_id  month  calls  calls_duration  messages  gb_used  age       city  \\\n",
       "0     1000      5     22             159        22        3   52  Краснодар   \n",
       "1     1000      6     43             172        60       23   52  Краснодар   \n",
       "2     1000      7     47             340        75       14   52  Краснодар   \n",
       "3     1000      8     52             408        81       14   52  Краснодар   \n",
       "4     1000      9     58             466        57       15   52  Краснодар   \n",
       "\n",
       "  tariff  \n",
       "0  ultra  \n",
       "1  ultra  \n",
       "2  ultra  \n",
       "3  ultra  \n",
       "4  ultra  "
      ]
     },
     "execution_count": 56,
     "metadata": {},
     "output_type": "execute_result"
    }
   ],
   "source": [
    "df = df.merge(df_users, on='user_id', how='left')\n",
    "df.head()"
   ]
  },
  {
   "cell_type": "code",
   "execution_count": 57,
   "id": "6120ccab",
   "metadata": {},
   "outputs": [
    {
     "data": {
      "text/html": [
       "<div>\n",
       "<style scoped>\n",
       "    .dataframe tbody tr th:only-of-type {\n",
       "        vertical-align: middle;\n",
       "    }\n",
       "\n",
       "    .dataframe tbody tr th {\n",
       "        vertical-align: top;\n",
       "    }\n",
       "\n",
       "    .dataframe thead th {\n",
       "        text-align: right;\n",
       "    }\n",
       "</style>\n",
       "<table border=\"1\" class=\"dataframe\">\n",
       "  <thead>\n",
       "    <tr style=\"text-align: right;\">\n",
       "      <th></th>\n",
       "      <th>messages_included</th>\n",
       "      <th>mb_per_month_included</th>\n",
       "      <th>minutes_included</th>\n",
       "      <th>rub_monthly_fee</th>\n",
       "      <th>rub_per_gb</th>\n",
       "      <th>rub_per_message</th>\n",
       "      <th>rub_per_minute</th>\n",
       "      <th>tariff_name</th>\n",
       "    </tr>\n",
       "  </thead>\n",
       "  <tbody>\n",
       "    <tr>\n",
       "      <th>0</th>\n",
       "      <td>50</td>\n",
       "      <td>15360</td>\n",
       "      <td>500</td>\n",
       "      <td>550</td>\n",
       "      <td>200</td>\n",
       "      <td>3</td>\n",
       "      <td>3</td>\n",
       "      <td>smart</td>\n",
       "    </tr>\n",
       "    <tr>\n",
       "      <th>1</th>\n",
       "      <td>1000</td>\n",
       "      <td>30720</td>\n",
       "      <td>3000</td>\n",
       "      <td>1950</td>\n",
       "      <td>150</td>\n",
       "      <td>1</td>\n",
       "      <td>1</td>\n",
       "      <td>ultra</td>\n",
       "    </tr>\n",
       "  </tbody>\n",
       "</table>\n",
       "</div>"
      ],
      "text/plain": [
       "   messages_included  mb_per_month_included  minutes_included  \\\n",
       "0                 50                  15360               500   \n",
       "1               1000                  30720              3000   \n",
       "\n",
       "   rub_monthly_fee  rub_per_gb  rub_per_message  rub_per_minute tariff_name  \n",
       "0              550         200                3               3       smart  \n",
       "1             1950         150                1               1       ultra  "
      ]
     },
     "execution_count": 57,
     "metadata": {},
     "output_type": "execute_result"
    }
   ],
   "source": [
    "df_tariffs"
   ]
  },
  {
   "cell_type": "code",
   "execution_count": 58,
   "id": "623f3ba2",
   "metadata": {},
   "outputs": [
    {
     "data": {
      "text/html": [
       "<div>\n",
       "<style scoped>\n",
       "    .dataframe tbody tr th:only-of-type {\n",
       "        vertical-align: middle;\n",
       "    }\n",
       "\n",
       "    .dataframe tbody tr th {\n",
       "        vertical-align: top;\n",
       "    }\n",
       "\n",
       "    .dataframe thead th {\n",
       "        text-align: right;\n",
       "    }\n",
       "</style>\n",
       "<table border=\"1\" class=\"dataframe\">\n",
       "  <thead>\n",
       "    <tr style=\"text-align: right;\">\n",
       "      <th></th>\n",
       "      <th>messages_included</th>\n",
       "      <th>minutes_included</th>\n",
       "      <th>rub_monthly_fee</th>\n",
       "      <th>rub_per_gb</th>\n",
       "      <th>rub_per_message</th>\n",
       "      <th>rub_per_minute</th>\n",
       "      <th>tariff_name</th>\n",
       "      <th>gb_per_month_included</th>\n",
       "    </tr>\n",
       "  </thead>\n",
       "  <tbody>\n",
       "    <tr>\n",
       "      <th>0</th>\n",
       "      <td>50</td>\n",
       "      <td>500</td>\n",
       "      <td>550</td>\n",
       "      <td>200</td>\n",
       "      <td>3</td>\n",
       "      <td>3</td>\n",
       "      <td>smart</td>\n",
       "      <td>15</td>\n",
       "    </tr>\n",
       "    <tr>\n",
       "      <th>1</th>\n",
       "      <td>1000</td>\n",
       "      <td>3000</td>\n",
       "      <td>1950</td>\n",
       "      <td>150</td>\n",
       "      <td>1</td>\n",
       "      <td>1</td>\n",
       "      <td>ultra</td>\n",
       "      <td>30</td>\n",
       "    </tr>\n",
       "  </tbody>\n",
       "</table>\n",
       "</div>"
      ],
      "text/plain": [
       "   messages_included  minutes_included  rub_monthly_fee  rub_per_gb  \\\n",
       "0                 50               500              550         200   \n",
       "1               1000              3000             1950         150   \n",
       "\n",
       "   rub_per_message  rub_per_minute tariff_name  gb_per_month_included  \n",
       "0                3               3       smart                     15  \n",
       "1                1               1       ultra                     30  "
      ]
     },
     "execution_count": 58,
     "metadata": {},
     "output_type": "execute_result"
    }
   ],
   "source": [
    "df_tariffs['gb_per_month_included'] = np.ceil(df_tariffs['mb_per_month_included']/1024).astype(np.uint16, errors='ignore')\n",
    "df_tariffs = df_tariffs.drop(columns = ['mb_per_month_included'],axis = 1)\n",
    "df_tariffs"
   ]
  },
  {
   "cell_type": "code",
   "execution_count": 59,
   "id": "2bd5618c",
   "metadata": {},
   "outputs": [],
   "source": [
    "df_tariffs = df_tariffs.rename(columns={'tariff_name':'tariff'})"
   ]
  },
  {
   "cell_type": "code",
   "execution_count": 60,
   "id": "8013f8dd",
   "metadata": {},
   "outputs": [
    {
     "data": {
      "text/html": [
       "<div>\n",
       "<style scoped>\n",
       "    .dataframe tbody tr th:only-of-type {\n",
       "        vertical-align: middle;\n",
       "    }\n",
       "\n",
       "    .dataframe tbody tr th {\n",
       "        vertical-align: top;\n",
       "    }\n",
       "\n",
       "    .dataframe thead th {\n",
       "        text-align: right;\n",
       "    }\n",
       "</style>\n",
       "<table border=\"1\" class=\"dataframe\">\n",
       "  <thead>\n",
       "    <tr style=\"text-align: right;\">\n",
       "      <th></th>\n",
       "      <th>user_id</th>\n",
       "      <th>month</th>\n",
       "      <th>calls</th>\n",
       "      <th>calls_duration</th>\n",
       "      <th>messages</th>\n",
       "      <th>gb_used</th>\n",
       "      <th>age</th>\n",
       "      <th>city</th>\n",
       "      <th>tariff</th>\n",
       "      <th>messages_included</th>\n",
       "      <th>minutes_included</th>\n",
       "      <th>rub_monthly_fee</th>\n",
       "      <th>rub_per_gb</th>\n",
       "      <th>rub_per_message</th>\n",
       "      <th>rub_per_minute</th>\n",
       "      <th>gb_per_month_included</th>\n",
       "    </tr>\n",
       "  </thead>\n",
       "  <tbody>\n",
       "    <tr>\n",
       "      <th>0</th>\n",
       "      <td>1000</td>\n",
       "      <td>5</td>\n",
       "      <td>22</td>\n",
       "      <td>159</td>\n",
       "      <td>22</td>\n",
       "      <td>3</td>\n",
       "      <td>52</td>\n",
       "      <td>Краснодар</td>\n",
       "      <td>ultra</td>\n",
       "      <td>1000</td>\n",
       "      <td>3000</td>\n",
       "      <td>1950</td>\n",
       "      <td>150</td>\n",
       "      <td>1</td>\n",
       "      <td>1</td>\n",
       "      <td>30</td>\n",
       "    </tr>\n",
       "    <tr>\n",
       "      <th>1</th>\n",
       "      <td>1000</td>\n",
       "      <td>6</td>\n",
       "      <td>43</td>\n",
       "      <td>172</td>\n",
       "      <td>60</td>\n",
       "      <td>23</td>\n",
       "      <td>52</td>\n",
       "      <td>Краснодар</td>\n",
       "      <td>ultra</td>\n",
       "      <td>1000</td>\n",
       "      <td>3000</td>\n",
       "      <td>1950</td>\n",
       "      <td>150</td>\n",
       "      <td>1</td>\n",
       "      <td>1</td>\n",
       "      <td>30</td>\n",
       "    </tr>\n",
       "    <tr>\n",
       "      <th>2</th>\n",
       "      <td>1000</td>\n",
       "      <td>7</td>\n",
       "      <td>47</td>\n",
       "      <td>340</td>\n",
       "      <td>75</td>\n",
       "      <td>14</td>\n",
       "      <td>52</td>\n",
       "      <td>Краснодар</td>\n",
       "      <td>ultra</td>\n",
       "      <td>1000</td>\n",
       "      <td>3000</td>\n",
       "      <td>1950</td>\n",
       "      <td>150</td>\n",
       "      <td>1</td>\n",
       "      <td>1</td>\n",
       "      <td>30</td>\n",
       "    </tr>\n",
       "    <tr>\n",
       "      <th>3</th>\n",
       "      <td>1000</td>\n",
       "      <td>8</td>\n",
       "      <td>52</td>\n",
       "      <td>408</td>\n",
       "      <td>81</td>\n",
       "      <td>14</td>\n",
       "      <td>52</td>\n",
       "      <td>Краснодар</td>\n",
       "      <td>ultra</td>\n",
       "      <td>1000</td>\n",
       "      <td>3000</td>\n",
       "      <td>1950</td>\n",
       "      <td>150</td>\n",
       "      <td>1</td>\n",
       "      <td>1</td>\n",
       "      <td>30</td>\n",
       "    </tr>\n",
       "    <tr>\n",
       "      <th>4</th>\n",
       "      <td>1000</td>\n",
       "      <td>9</td>\n",
       "      <td>58</td>\n",
       "      <td>466</td>\n",
       "      <td>57</td>\n",
       "      <td>15</td>\n",
       "      <td>52</td>\n",
       "      <td>Краснодар</td>\n",
       "      <td>ultra</td>\n",
       "      <td>1000</td>\n",
       "      <td>3000</td>\n",
       "      <td>1950</td>\n",
       "      <td>150</td>\n",
       "      <td>1</td>\n",
       "      <td>1</td>\n",
       "      <td>30</td>\n",
       "    </tr>\n",
       "  </tbody>\n",
       "</table>\n",
       "</div>"
      ],
      "text/plain": [
       "   user_id  month  calls  calls_duration  messages  gb_used  age       city  \\\n",
       "0     1000      5     22             159        22        3   52  Краснодар   \n",
       "1     1000      6     43             172        60       23   52  Краснодар   \n",
       "2     1000      7     47             340        75       14   52  Краснодар   \n",
       "3     1000      8     52             408        81       14   52  Краснодар   \n",
       "4     1000      9     58             466        57       15   52  Краснодар   \n",
       "\n",
       "  tariff  messages_included  minutes_included  rub_monthly_fee  rub_per_gb  \\\n",
       "0  ultra               1000              3000             1950         150   \n",
       "1  ultra               1000              3000             1950         150   \n",
       "2  ultra               1000              3000             1950         150   \n",
       "3  ultra               1000              3000             1950         150   \n",
       "4  ultra               1000              3000             1950         150   \n",
       "\n",
       "   rub_per_message  rub_per_minute  gb_per_month_included  \n",
       "0                1               1                     30  \n",
       "1                1               1                     30  \n",
       "2                1               1                     30  \n",
       "3                1               1                     30  \n",
       "4                1               1                     30  "
      ]
     },
     "execution_count": 60,
     "metadata": {},
     "output_type": "execute_result"
    }
   ],
   "source": [
    "df = df.merge(df_tariffs, on='tariff', how='left')\n",
    "df.head()"
   ]
  },
  {
   "cell_type": "code",
   "execution_count": 61,
   "id": "4ac15197",
   "metadata": {},
   "outputs": [
    {
     "name": "stdout",
     "output_type": "stream",
     "text": [
      "<class 'pandas.core.frame.DataFrame'>\n",
      "Int64Index: 3214 entries, 0 to 3213\n",
      "Data columns (total 16 columns):\n",
      " #   Column                 Non-Null Count  Dtype \n",
      "---  ------                 --------------  ----- \n",
      " 0   user_id                3214 non-null   uint16\n",
      " 1   month                  3214 non-null   uint16\n",
      " 2   calls                  3214 non-null   uint16\n",
      " 3   calls_duration         3214 non-null   uint16\n",
      " 4   messages               3214 non-null   uint16\n",
      " 5   gb_used                3214 non-null   uint16\n",
      " 6   age                    3214 non-null   uint8 \n",
      " 7   city                   3214 non-null   object\n",
      " 8   tariff                 3214 non-null   object\n",
      " 9   messages_included      3214 non-null   uint16\n",
      " 10  minutes_included       3214 non-null   uint16\n",
      " 11  rub_monthly_fee        3214 non-null   uint16\n",
      " 12  rub_per_gb             3214 non-null   uint16\n",
      " 13  rub_per_message        3214 non-null   uint16\n",
      " 14  rub_per_minute         3214 non-null   uint16\n",
      " 15  gb_per_month_included  3214 non-null   uint16\n",
      "dtypes: object(2), uint16(13), uint8(1)\n",
      "memory usage: 668.8 KB\n"
     ]
    }
   ],
   "source": [
    "df.info(memory_usage='deep')"
   ]
  },
  {
   "cell_type": "markdown",
   "id": "2c0e0823",
   "metadata": {},
   "source": [
    "### 3.5 Помесячная выручка с каждого пользователя\n",
    "\n",
    "Расчет: вычитаем бесплатный лимит из суммарного количества звонков, сообщений и интернет-трафика; остаток умножаем на значение из тарифного плана; плюс абонентская плата, соответствующую тарифному плану."
   ]
  },
  {
   "cell_type": "code",
   "execution_count": 62,
   "id": "3c45fbee",
   "metadata": {},
   "outputs": [
    {
     "data": {
      "text/html": [
       "<div>\n",
       "<style scoped>\n",
       "    .dataframe tbody tr th:only-of-type {\n",
       "        vertical-align: middle;\n",
       "    }\n",
       "\n",
       "    .dataframe tbody tr th {\n",
       "        vertical-align: top;\n",
       "    }\n",
       "\n",
       "    .dataframe thead th {\n",
       "        text-align: right;\n",
       "    }\n",
       "</style>\n",
       "<table border=\"1\" class=\"dataframe\">\n",
       "  <thead>\n",
       "    <tr style=\"text-align: right;\">\n",
       "      <th></th>\n",
       "      <th>user_id</th>\n",
       "      <th>month</th>\n",
       "      <th>calls</th>\n",
       "      <th>calls_duration</th>\n",
       "      <th>messages</th>\n",
       "      <th>gb_used</th>\n",
       "      <th>age</th>\n",
       "      <th>city</th>\n",
       "      <th>tariff</th>\n",
       "      <th>messages_included</th>\n",
       "      <th>minutes_included</th>\n",
       "      <th>rub_monthly_fee</th>\n",
       "      <th>rub_per_gb</th>\n",
       "      <th>rub_per_message</th>\n",
       "      <th>rub_per_minute</th>\n",
       "      <th>gb_per_month_included</th>\n",
       "    </tr>\n",
       "  </thead>\n",
       "  <tbody>\n",
       "    <tr>\n",
       "      <th>0</th>\n",
       "      <td>1000</td>\n",
       "      <td>5</td>\n",
       "      <td>22</td>\n",
       "      <td>159</td>\n",
       "      <td>22</td>\n",
       "      <td>3</td>\n",
       "      <td>52</td>\n",
       "      <td>Краснодар</td>\n",
       "      <td>ultra</td>\n",
       "      <td>1000</td>\n",
       "      <td>3000</td>\n",
       "      <td>1950</td>\n",
       "      <td>150</td>\n",
       "      <td>1</td>\n",
       "      <td>1</td>\n",
       "      <td>30</td>\n",
       "    </tr>\n",
       "    <tr>\n",
       "      <th>1</th>\n",
       "      <td>1000</td>\n",
       "      <td>6</td>\n",
       "      <td>43</td>\n",
       "      <td>172</td>\n",
       "      <td>60</td>\n",
       "      <td>23</td>\n",
       "      <td>52</td>\n",
       "      <td>Краснодар</td>\n",
       "      <td>ultra</td>\n",
       "      <td>1000</td>\n",
       "      <td>3000</td>\n",
       "      <td>1950</td>\n",
       "      <td>150</td>\n",
       "      <td>1</td>\n",
       "      <td>1</td>\n",
       "      <td>30</td>\n",
       "    </tr>\n",
       "    <tr>\n",
       "      <th>2</th>\n",
       "      <td>1000</td>\n",
       "      <td>7</td>\n",
       "      <td>47</td>\n",
       "      <td>340</td>\n",
       "      <td>75</td>\n",
       "      <td>14</td>\n",
       "      <td>52</td>\n",
       "      <td>Краснодар</td>\n",
       "      <td>ultra</td>\n",
       "      <td>1000</td>\n",
       "      <td>3000</td>\n",
       "      <td>1950</td>\n",
       "      <td>150</td>\n",
       "      <td>1</td>\n",
       "      <td>1</td>\n",
       "      <td>30</td>\n",
       "    </tr>\n",
       "    <tr>\n",
       "      <th>3</th>\n",
       "      <td>1000</td>\n",
       "      <td>8</td>\n",
       "      <td>52</td>\n",
       "      <td>408</td>\n",
       "      <td>81</td>\n",
       "      <td>14</td>\n",
       "      <td>52</td>\n",
       "      <td>Краснодар</td>\n",
       "      <td>ultra</td>\n",
       "      <td>1000</td>\n",
       "      <td>3000</td>\n",
       "      <td>1950</td>\n",
       "      <td>150</td>\n",
       "      <td>1</td>\n",
       "      <td>1</td>\n",
       "      <td>30</td>\n",
       "    </tr>\n",
       "    <tr>\n",
       "      <th>4</th>\n",
       "      <td>1000</td>\n",
       "      <td>9</td>\n",
       "      <td>58</td>\n",
       "      <td>466</td>\n",
       "      <td>57</td>\n",
       "      <td>15</td>\n",
       "      <td>52</td>\n",
       "      <td>Краснодар</td>\n",
       "      <td>ultra</td>\n",
       "      <td>1000</td>\n",
       "      <td>3000</td>\n",
       "      <td>1950</td>\n",
       "      <td>150</td>\n",
       "      <td>1</td>\n",
       "      <td>1</td>\n",
       "      <td>30</td>\n",
       "    </tr>\n",
       "  </tbody>\n",
       "</table>\n",
       "</div>"
      ],
      "text/plain": [
       "   user_id  month  calls  calls_duration  messages  gb_used  age       city  \\\n",
       "0     1000      5     22             159        22        3   52  Краснодар   \n",
       "1     1000      6     43             172        60       23   52  Краснодар   \n",
       "2     1000      7     47             340        75       14   52  Краснодар   \n",
       "3     1000      8     52             408        81       14   52  Краснодар   \n",
       "4     1000      9     58             466        57       15   52  Краснодар   \n",
       "\n",
       "  tariff  messages_included  minutes_included  rub_monthly_fee  rub_per_gb  \\\n",
       "0  ultra               1000              3000             1950         150   \n",
       "1  ultra               1000              3000             1950         150   \n",
       "2  ultra               1000              3000             1950         150   \n",
       "3  ultra               1000              3000             1950         150   \n",
       "4  ultra               1000              3000             1950         150   \n",
       "\n",
       "   rub_per_message  rub_per_minute  gb_per_month_included  \n",
       "0                1               1                     30  \n",
       "1                1               1                     30  \n",
       "2                1               1                     30  \n",
       "3                1               1                     30  \n",
       "4                1               1                     30  "
      ]
     },
     "execution_count": 62,
     "metadata": {},
     "output_type": "execute_result"
    }
   ],
   "source": [
    "df.head()"
   ]
  },
  {
   "cell_type": "code",
   "execution_count": 63,
   "id": "b1b126b1",
   "metadata": {},
   "outputs": [],
   "source": [
    "df['income'] = df.apply(income, axis=1)"
   ]
  },
  {
   "cell_type": "code",
   "execution_count": 64,
   "id": "13caba02",
   "metadata": {},
   "outputs": [
    {
     "data": {
      "text/html": [
       "<div>\n",
       "<style scoped>\n",
       "    .dataframe tbody tr th:only-of-type {\n",
       "        vertical-align: middle;\n",
       "    }\n",
       "\n",
       "    .dataframe tbody tr th {\n",
       "        vertical-align: top;\n",
       "    }\n",
       "\n",
       "    .dataframe thead th {\n",
       "        text-align: right;\n",
       "    }\n",
       "</style>\n",
       "<table border=\"1\" class=\"dataframe\">\n",
       "  <thead>\n",
       "    <tr style=\"text-align: right;\">\n",
       "      <th></th>\n",
       "      <th>user_id</th>\n",
       "      <th>month</th>\n",
       "      <th>calls</th>\n",
       "      <th>calls_duration</th>\n",
       "      <th>messages</th>\n",
       "      <th>gb_used</th>\n",
       "      <th>age</th>\n",
       "      <th>city</th>\n",
       "      <th>tariff</th>\n",
       "      <th>messages_included</th>\n",
       "      <th>minutes_included</th>\n",
       "      <th>rub_monthly_fee</th>\n",
       "      <th>rub_per_gb</th>\n",
       "      <th>rub_per_message</th>\n",
       "      <th>rub_per_minute</th>\n",
       "      <th>gb_per_month_included</th>\n",
       "      <th>income</th>\n",
       "    </tr>\n",
       "  </thead>\n",
       "  <tbody>\n",
       "    <tr>\n",
       "      <th>0</th>\n",
       "      <td>1000</td>\n",
       "      <td>5</td>\n",
       "      <td>22</td>\n",
       "      <td>159</td>\n",
       "      <td>22</td>\n",
       "      <td>3</td>\n",
       "      <td>52</td>\n",
       "      <td>Краснодар</td>\n",
       "      <td>ultra</td>\n",
       "      <td>1000</td>\n",
       "      <td>3000</td>\n",
       "      <td>1950</td>\n",
       "      <td>150</td>\n",
       "      <td>1</td>\n",
       "      <td>1</td>\n",
       "      <td>30</td>\n",
       "      <td>1950</td>\n",
       "    </tr>\n",
       "    <tr>\n",
       "      <th>1</th>\n",
       "      <td>1000</td>\n",
       "      <td>6</td>\n",
       "      <td>43</td>\n",
       "      <td>172</td>\n",
       "      <td>60</td>\n",
       "      <td>23</td>\n",
       "      <td>52</td>\n",
       "      <td>Краснодар</td>\n",
       "      <td>ultra</td>\n",
       "      <td>1000</td>\n",
       "      <td>3000</td>\n",
       "      <td>1950</td>\n",
       "      <td>150</td>\n",
       "      <td>1</td>\n",
       "      <td>1</td>\n",
       "      <td>30</td>\n",
       "      <td>1950</td>\n",
       "    </tr>\n",
       "    <tr>\n",
       "      <th>2</th>\n",
       "      <td>1000</td>\n",
       "      <td>7</td>\n",
       "      <td>47</td>\n",
       "      <td>340</td>\n",
       "      <td>75</td>\n",
       "      <td>14</td>\n",
       "      <td>52</td>\n",
       "      <td>Краснодар</td>\n",
       "      <td>ultra</td>\n",
       "      <td>1000</td>\n",
       "      <td>3000</td>\n",
       "      <td>1950</td>\n",
       "      <td>150</td>\n",
       "      <td>1</td>\n",
       "      <td>1</td>\n",
       "      <td>30</td>\n",
       "      <td>1950</td>\n",
       "    </tr>\n",
       "    <tr>\n",
       "      <th>3</th>\n",
       "      <td>1000</td>\n",
       "      <td>8</td>\n",
       "      <td>52</td>\n",
       "      <td>408</td>\n",
       "      <td>81</td>\n",
       "      <td>14</td>\n",
       "      <td>52</td>\n",
       "      <td>Краснодар</td>\n",
       "      <td>ultra</td>\n",
       "      <td>1000</td>\n",
       "      <td>3000</td>\n",
       "      <td>1950</td>\n",
       "      <td>150</td>\n",
       "      <td>1</td>\n",
       "      <td>1</td>\n",
       "      <td>30</td>\n",
       "      <td>1950</td>\n",
       "    </tr>\n",
       "    <tr>\n",
       "      <th>4</th>\n",
       "      <td>1000</td>\n",
       "      <td>9</td>\n",
       "      <td>58</td>\n",
       "      <td>466</td>\n",
       "      <td>57</td>\n",
       "      <td>15</td>\n",
       "      <td>52</td>\n",
       "      <td>Краснодар</td>\n",
       "      <td>ultra</td>\n",
       "      <td>1000</td>\n",
       "      <td>3000</td>\n",
       "      <td>1950</td>\n",
       "      <td>150</td>\n",
       "      <td>1</td>\n",
       "      <td>1</td>\n",
       "      <td>30</td>\n",
       "      <td>1950</td>\n",
       "    </tr>\n",
       "  </tbody>\n",
       "</table>\n",
       "</div>"
      ],
      "text/plain": [
       "   user_id  month  calls  calls_duration  messages  gb_used  age       city  \\\n",
       "0     1000      5     22             159        22        3   52  Краснодар   \n",
       "1     1000      6     43             172        60       23   52  Краснодар   \n",
       "2     1000      7     47             340        75       14   52  Краснодар   \n",
       "3     1000      8     52             408        81       14   52  Краснодар   \n",
       "4     1000      9     58             466        57       15   52  Краснодар   \n",
       "\n",
       "  tariff  messages_included  minutes_included  rub_monthly_fee  rub_per_gb  \\\n",
       "0  ultra               1000              3000             1950         150   \n",
       "1  ultra               1000              3000             1950         150   \n",
       "2  ultra               1000              3000             1950         150   \n",
       "3  ultra               1000              3000             1950         150   \n",
       "4  ultra               1000              3000             1950         150   \n",
       "\n",
       "   rub_per_message  rub_per_minute  gb_per_month_included  income  \n",
       "0                1               1                     30    1950  \n",
       "1                1               1                     30    1950  \n",
       "2                1               1                     30    1950  \n",
       "3                1               1                     30    1950  \n",
       "4                1               1                     30    1950  "
      ]
     },
     "execution_count": 64,
     "metadata": {},
     "output_type": "execute_result"
    }
   ],
   "source": [
    "df.head()"
   ]
  },
  {
   "cell_type": "code",
   "execution_count": 65,
   "id": "fe460fa1",
   "metadata": {},
   "outputs": [],
   "source": [
    "df = df.drop(columns = ['calls', 'rub_monthly_fee', 'rub_per_gb', 'rub_per_message', 'rub_per_minute'], axis = 1)"
   ]
  },
  {
   "cell_type": "markdown",
   "id": "a7b074ea",
   "metadata": {},
   "source": [
    "### 3.6 Вывод\n",
    "\n",
    "Соединили в одну таблицу данные для анализа для каждого пользователя по месяцам:\n",
    "* количество сделанных звонков и израсходованных минут разговора\n",
    "* количество отправленных сообщений\n",
    "* объем израсходованного интернет-трафика в гигабайтах\n",
    "\n",
    "Рассчитали выручку с каждого пользователя как ежемесячную тарифную плату плюс перерасход звонков, минут и интернет-трафика."
   ]
  },
  {
   "cell_type": "markdown",
   "id": "ab7b6a24",
   "metadata": {},
   "source": [
    "## 4. Анализ данных"
   ]
  },
  {
   "cell_type": "markdown",
   "id": "6c57b464",
   "metadata": {},
   "source": [
    "### 4.1 Пользователи тарифа Смарт"
   ]
  },
  {
   "cell_type": "code",
   "execution_count": 66,
   "id": "6f237c59",
   "metadata": {},
   "outputs": [],
   "source": [
    "df_smart = df.query('tariff == \"smart\"')"
   ]
  },
  {
   "cell_type": "code",
   "execution_count": 67,
   "id": "2091ab72",
   "metadata": {},
   "outputs": [
    {
     "data": {
      "text/html": [
       "<div>\n",
       "<style scoped>\n",
       "    .dataframe tbody tr th:only-of-type {\n",
       "        vertical-align: middle;\n",
       "    }\n",
       "\n",
       "    .dataframe tbody tr th {\n",
       "        vertical-align: top;\n",
       "    }\n",
       "\n",
       "    .dataframe thead th {\n",
       "        text-align: right;\n",
       "    }\n",
       "</style>\n",
       "<table border=\"1\" class=\"dataframe\">\n",
       "  <thead>\n",
       "    <tr style=\"text-align: right;\">\n",
       "      <th></th>\n",
       "      <th>count</th>\n",
       "      <th>mean</th>\n",
       "      <th>std</th>\n",
       "      <th>min</th>\n",
       "      <th>25%</th>\n",
       "      <th>50%</th>\n",
       "      <th>75%</th>\n",
       "      <th>max</th>\n",
       "    </tr>\n",
       "  </thead>\n",
       "  <tbody>\n",
       "    <tr>\n",
       "      <th>user_id</th>\n",
       "      <td>2229.0</td>\n",
       "      <td>1246.506505</td>\n",
       "      <td>146.119496</td>\n",
       "      <td>1001.0</td>\n",
       "      <td>1121.0</td>\n",
       "      <td>1239.0</td>\n",
       "      <td>1376.0</td>\n",
       "      <td>1499.0</td>\n",
       "    </tr>\n",
       "    <tr>\n",
       "      <th>month</th>\n",
       "      <td>2229.0</td>\n",
       "      <td>8.346792</td>\n",
       "      <td>2.920316</td>\n",
       "      <td>1.0</td>\n",
       "      <td>6.0</td>\n",
       "      <td>9.0</td>\n",
       "      <td>11.0</td>\n",
       "      <td>12.0</td>\n",
       "    </tr>\n",
       "    <tr>\n",
       "      <th>calls_duration</th>\n",
       "      <td>2229.0</td>\n",
       "      <td>417.934948</td>\n",
       "      <td>190.313730</td>\n",
       "      <td>0.0</td>\n",
       "      <td>282.0</td>\n",
       "      <td>422.0</td>\n",
       "      <td>545.0</td>\n",
       "      <td>1435.0</td>\n",
       "    </tr>\n",
       "    <tr>\n",
       "      <th>messages</th>\n",
       "      <td>2229.0</td>\n",
       "      <td>33.384029</td>\n",
       "      <td>28.227876</td>\n",
       "      <td>0.0</td>\n",
       "      <td>10.0</td>\n",
       "      <td>28.0</td>\n",
       "      <td>51.0</td>\n",
       "      <td>143.0</td>\n",
       "    </tr>\n",
       "    <tr>\n",
       "      <th>gb_used</th>\n",
       "      <td>2229.0</td>\n",
       "      <td>16.322118</td>\n",
       "      <td>5.745528</td>\n",
       "      <td>0.0</td>\n",
       "      <td>13.0</td>\n",
       "      <td>17.0</td>\n",
       "      <td>20.0</td>\n",
       "      <td>38.0</td>\n",
       "    </tr>\n",
       "    <tr>\n",
       "      <th>age</th>\n",
       "      <td>2229.0</td>\n",
       "      <td>46.556303</td>\n",
       "      <td>16.353371</td>\n",
       "      <td>18.0</td>\n",
       "      <td>32.0</td>\n",
       "      <td>47.0</td>\n",
       "      <td>62.0</td>\n",
       "      <td>75.0</td>\n",
       "    </tr>\n",
       "    <tr>\n",
       "      <th>messages_included</th>\n",
       "      <td>2229.0</td>\n",
       "      <td>50.000000</td>\n",
       "      <td>0.000000</td>\n",
       "      <td>50.0</td>\n",
       "      <td>50.0</td>\n",
       "      <td>50.0</td>\n",
       "      <td>50.0</td>\n",
       "      <td>50.0</td>\n",
       "    </tr>\n",
       "    <tr>\n",
       "      <th>minutes_included</th>\n",
       "      <td>2229.0</td>\n",
       "      <td>500.000000</td>\n",
       "      <td>0.000000</td>\n",
       "      <td>500.0</td>\n",
       "      <td>500.0</td>\n",
       "      <td>500.0</td>\n",
       "      <td>500.0</td>\n",
       "      <td>500.0</td>\n",
       "    </tr>\n",
       "    <tr>\n",
       "      <th>gb_per_month_included</th>\n",
       "      <td>2229.0</td>\n",
       "      <td>15.000000</td>\n",
       "      <td>0.000000</td>\n",
       "      <td>15.0</td>\n",
       "      <td>15.0</td>\n",
       "      <td>15.0</td>\n",
       "      <td>15.0</td>\n",
       "      <td>15.0</td>\n",
       "    </tr>\n",
       "    <tr>\n",
       "      <th>income</th>\n",
       "      <td>2229.0</td>\n",
       "      <td>1288.896815</td>\n",
       "      <td>818.065175</td>\n",
       "      <td>550.0</td>\n",
       "      <td>550.0</td>\n",
       "      <td>1019.0</td>\n",
       "      <td>1750.0</td>\n",
       "      <td>6770.0</td>\n",
       "    </tr>\n",
       "  </tbody>\n",
       "</table>\n",
       "</div>"
      ],
      "text/plain": [
       "                        count         mean         std     min     25%  \\\n",
       "user_id                2229.0  1246.506505  146.119496  1001.0  1121.0   \n",
       "month                  2229.0     8.346792    2.920316     1.0     6.0   \n",
       "calls_duration         2229.0   417.934948  190.313730     0.0   282.0   \n",
       "messages               2229.0    33.384029   28.227876     0.0    10.0   \n",
       "gb_used                2229.0    16.322118    5.745528     0.0    13.0   \n",
       "age                    2229.0    46.556303   16.353371    18.0    32.0   \n",
       "messages_included      2229.0    50.000000    0.000000    50.0    50.0   \n",
       "minutes_included       2229.0   500.000000    0.000000   500.0   500.0   \n",
       "gb_per_month_included  2229.0    15.000000    0.000000    15.0    15.0   \n",
       "income                 2229.0  1288.896815  818.065175   550.0   550.0   \n",
       "\n",
       "                          50%     75%     max  \n",
       "user_id                1239.0  1376.0  1499.0  \n",
       "month                     9.0    11.0    12.0  \n",
       "calls_duration          422.0   545.0  1435.0  \n",
       "messages                 28.0    51.0   143.0  \n",
       "gb_used                  17.0    20.0    38.0  \n",
       "age                      47.0    62.0    75.0  \n",
       "messages_included        50.0    50.0    50.0  \n",
       "minutes_included        500.0   500.0   500.0  \n",
       "gb_per_month_included    15.0    15.0    15.0  \n",
       "income                 1019.0  1750.0  6770.0  "
      ]
     },
     "execution_count": 67,
     "metadata": {},
     "output_type": "execute_result"
    }
   ],
   "source": [
    "df_smart.describe().T"
   ]
  },
  {
   "cell_type": "code",
   "execution_count": 68,
   "id": "af419cd2",
   "metadata": {},
   "outputs": [
    {
     "data": {
      "text/plain": [
       "36203.06665209469"
      ]
     },
     "execution_count": 68,
     "metadata": {},
     "output_type": "execute_result"
    }
   ],
   "source": [
    "np.var(df_smart['calls_duration'])"
   ]
  },
  {
   "cell_type": "code",
   "execution_count": 69,
   "id": "39120f68",
   "metadata": {},
   "outputs": [
    {
     "data": {
      "text/plain": [
       "796.455482917076"
      ]
     },
     "execution_count": 69,
     "metadata": {},
     "output_type": "execute_result"
    }
   ],
   "source": [
    "np.var(df_smart['messages'])"
   ]
  },
  {
   "cell_type": "code",
   "execution_count": 70,
   "id": "ba7fa405",
   "metadata": {},
   "outputs": [
    {
     "data": {
      "text/plain": [
       "32.99628515262635"
      ]
     },
     "execution_count": 70,
     "metadata": {},
     "output_type": "execute_result"
    }
   ],
   "source": [
    "np.var(df_smart['gb_used'])"
   ]
  },
  {
   "cell_type": "code",
   "execution_count": 71,
   "id": "13c9b38e",
   "metadata": {},
   "outputs": [
    {
     "data": {
      "text/plain": [
       "income\n",
       "550     568\n",
       "553       5\n",
       "556       3\n",
       "559       3\n",
       "562       3\n",
       "       ... \n",
       "5321      1\n",
       "5672      1\n",
       "5680      1\n",
       "5709      1\n",
       "6770      1\n",
       "Name: user_id, Length: 764, dtype: int64"
      ]
     },
     "execution_count": 71,
     "metadata": {},
     "output_type": "execute_result"
    }
   ],
   "source": [
    "df_smart.groupby('income')['user_id'].count()"
   ]
  },
  {
   "cell_type": "code",
   "execution_count": 72,
   "id": "39e42dd9",
   "metadata": {},
   "outputs": [
    {
     "data": {
      "text/plain": [
       "0.25"
      ]
     },
     "execution_count": 72,
     "metadata": {},
     "output_type": "execute_result"
    }
   ],
   "source": [
    "(df_smart['income'][df_smart['income'] == 550].count() / df_smart.shape[0]).round(2)"
   ]
  },
  {
   "cell_type": "code",
   "execution_count": 73,
   "id": "9945d03c",
   "metadata": {},
   "outputs": [
    {
     "data": {
      "text/plain": [
       "1041.5719446116798"
      ]
     },
     "execution_count": 73,
     "metadata": {},
     "output_type": "execute_result"
    }
   ],
   "source": [
    "df_smart['income'][df_smart['income'] > 550].mean() - 500"
   ]
  },
  {
   "cell_type": "code",
   "execution_count": 74,
   "id": "60c5c1a5",
   "metadata": {},
   "outputs": [
    {
     "data": {
      "image/png": "[encoded data removed]",
      "text/plain": [
       "<Figure size 432x288 with 1 Axes>"
      ]
     },
     "metadata": {
      "needs_background": "light"
     },
     "output_type": "display_data"
    }
   ],
   "source": [
    "df_smart.hist(column='calls_duration', color='skyblue', bins=100)\n",
    "plt.axvline(df_smart['minutes_included'].mean(), color='red', linestyle='dotted', label='Тарифный лимит')\n",
    "plt.legend()\n",
    "plt.xlabel('Длительность, мин')\n",
    "plt.ylabel('Пользователи')\n",
    "plt.title('Длительность звонков')\n",
    "plt.show()"
   ]
  },
  {
   "cell_type": "code",
   "execution_count": 75,
   "id": "dcbda2be",
   "metadata": {},
   "outputs": [
    {
     "data": {
      "image/png": "[encoded data removed]",
      "text/plain": [
       "<Figure size 432x288 with 1 Axes>"
      ]
     },
     "metadata": {
      "needs_background": "light"
     },
     "output_type": "display_data"
    }
   ],
   "source": [
    "df_smart.hist(column='messages', color='skyblue', bins=100)\n",
    "plt.axvline(df_smart['messages_included'].mean(), color='red', linestyle='dotted', label='Тарифный лимит')\n",
    "plt.legend()\n",
    "plt.xlabel('Сообщения, шт')\n",
    "plt.ylabel('Пользователи')\n",
    "plt.title('Сообщения')\n",
    "plt.show()"
   ]
  },
  {
   "cell_type": "code",
   "execution_count": 76,
   "id": "62d4d25a",
   "metadata": {},
   "outputs": [
    {
     "data": {
      "image/png": "[encoded data removed]",
      "text/plain": [
       "<Figure size 432x288 with 1 Axes>"
      ]
     },
     "metadata": {
      "needs_background": "light"
     },
     "output_type": "display_data"
    }
   ],
   "source": [
    "df_smart.hist(column='gb_used', color='skyblue', bins=100)\n",
    "plt.axvline(df_smart['gb_per_month_included'].mean(), color='red', linestyle='dotted', label='Тарифный лимит')\n",
    "plt.legend()\n",
    "plt.xlabel('Интернет-трафик, гб')\n",
    "plt.ylabel('Пользователи')\n",
    "plt.title('Интернет-трафик')\n",
    "plt.show()"
   ]
  },
  {
   "cell_type": "code",
   "execution_count": 77,
   "id": "7f949e1c",
   "metadata": {},
   "outputs": [
    {
     "data": {
      "image/png": "[encoded data removed]",
      "text/plain": [
       "<Figure size 432x288 with 1 Axes>"
      ]
     },
     "metadata": {
      "needs_background": "light"
     },
     "output_type": "display_data"
    }
   ],
   "source": [
    "df_smart.hist(column='income', color='skyblue', bins=50)\n",
    "plt.axvline(550, color='red', linestyle='dotted', label='Абонентская плата')\n",
    "plt.legend()\n",
    "plt.xlabel('Выручка, руб')\n",
    "plt.ylabel('Пользователи')\n",
    "plt.title('Выручка')\n",
    "plt.show()"
   ]
  },
  {
   "cell_type": "markdown",
   "id": "7cdc5da9",
   "metadata": {},
   "source": [
    "#### 4.1.1 Вывод\n",
    "\n",
    "Выявили следующие данные о пользователях тарифа Смарт:\n",
    "1. За год среднее время использования тарифа 8 месяцев.\n",
    "2. В среднем в месяц пользователь:\n",
    "    * общается 418 минут по телефону,\n",
    "    * отправляет 33 сообщения,\n",
    "    * использует 16 гб интернет-трафика.\n",
    "3. Средний возраст клиента 46 лет.\n",
    "4. Средняя выручка в месяц 1289 руб, при том, что абонентская плата 550 руб.\n",
    "    * Стандартное отклонение 818 руб.\n",
    "    * Медиана 1019 руб.\n",
    "    * Размах от миниального к максимульному значению от 550 руб до 6770 руб.\n",
    "5. По гистограммам видно, что в части звонков и сообщений пользователи редко выходят за тарифные лимиты, а в части интернет-трафика медиана и среднее значение выходят за пределы 15 гб.\n",
    "    * Распределение у звонков и интернет-трафика ближе к нормальному.\n",
    "    * Распределение у сообщений имеет пик на 0 и дальше длинный хвост в правой части. Это естественное положение дел, сообщения мало используются, так как более популярны мессенджеры.\n",
    "6. Только 25% пользователей не выходят за тарифные лимиты.\n",
    "7. Средняя переплата за превышение тарифных лимитов 1042 руб."
   ]
  },
  {
   "cell_type": "markdown",
   "id": "a33320e2",
   "metadata": {},
   "source": [
    "### 4.2 Пользователи тарифа Ультра"
   ]
  },
  {
   "cell_type": "code",
   "execution_count": 78,
   "id": "2d0ee75d",
   "metadata": {},
   "outputs": [],
   "source": [
    "df_ultra = df.query('tariff == \"ultra\"')"
   ]
  },
  {
   "cell_type": "code",
   "execution_count": 79,
   "id": "48499f2f",
   "metadata": {},
   "outputs": [
    {
     "data": {
      "text/html": [
       "<div>\n",
       "<style scoped>\n",
       "    .dataframe tbody tr th:only-of-type {\n",
       "        vertical-align: middle;\n",
       "    }\n",
       "\n",
       "    .dataframe tbody tr th {\n",
       "        vertical-align: top;\n",
       "    }\n",
       "\n",
       "    .dataframe thead th {\n",
       "        text-align: right;\n",
       "    }\n",
       "</style>\n",
       "<table border=\"1\" class=\"dataframe\">\n",
       "  <thead>\n",
       "    <tr style=\"text-align: right;\">\n",
       "      <th></th>\n",
       "      <th>count</th>\n",
       "      <th>mean</th>\n",
       "      <th>std</th>\n",
       "      <th>min</th>\n",
       "      <th>25%</th>\n",
       "      <th>50%</th>\n",
       "      <th>75%</th>\n",
       "      <th>max</th>\n",
       "    </tr>\n",
       "  </thead>\n",
       "  <tbody>\n",
       "    <tr>\n",
       "      <th>user_id</th>\n",
       "      <td>985.0</td>\n",
       "      <td>1263.094416</td>\n",
       "      <td>140.694908</td>\n",
       "      <td>1000.0</td>\n",
       "      <td>1143.0</td>\n",
       "      <td>1277.0</td>\n",
       "      <td>1381.0</td>\n",
       "      <td>1495.0</td>\n",
       "    </tr>\n",
       "    <tr>\n",
       "      <th>month</th>\n",
       "      <td>985.0</td>\n",
       "      <td>8.250761</td>\n",
       "      <td>2.871762</td>\n",
       "      <td>1.0</td>\n",
       "      <td>6.0</td>\n",
       "      <td>9.0</td>\n",
       "      <td>11.0</td>\n",
       "      <td>12.0</td>\n",
       "    </tr>\n",
       "    <tr>\n",
       "      <th>calls_duration</th>\n",
       "      <td>985.0</td>\n",
       "      <td>526.623350</td>\n",
       "      <td>317.606098</td>\n",
       "      <td>0.0</td>\n",
       "      <td>284.0</td>\n",
       "      <td>518.0</td>\n",
       "      <td>752.0</td>\n",
       "      <td>1673.0</td>\n",
       "    </tr>\n",
       "    <tr>\n",
       "      <th>messages</th>\n",
       "      <td>985.0</td>\n",
       "      <td>49.363452</td>\n",
       "      <td>47.804457</td>\n",
       "      <td>0.0</td>\n",
       "      <td>6.0</td>\n",
       "      <td>38.0</td>\n",
       "      <td>79.0</td>\n",
       "      <td>224.0</td>\n",
       "    </tr>\n",
       "    <tr>\n",
       "      <th>gb_used</th>\n",
       "      <td>985.0</td>\n",
       "      <td>19.487310</td>\n",
       "      <td>9.851648</td>\n",
       "      <td>0.0</td>\n",
       "      <td>12.0</td>\n",
       "      <td>19.0</td>\n",
       "      <td>27.0</td>\n",
       "      <td>49.0</td>\n",
       "    </tr>\n",
       "    <tr>\n",
       "      <th>age</th>\n",
       "      <td>985.0</td>\n",
       "      <td>46.834518</td>\n",
       "      <td>17.107979</td>\n",
       "      <td>18.0</td>\n",
       "      <td>30.0</td>\n",
       "      <td>45.0</td>\n",
       "      <td>63.0</td>\n",
       "      <td>75.0</td>\n",
       "    </tr>\n",
       "    <tr>\n",
       "      <th>messages_included</th>\n",
       "      <td>985.0</td>\n",
       "      <td>1000.000000</td>\n",
       "      <td>0.000000</td>\n",
       "      <td>1000.0</td>\n",
       "      <td>1000.0</td>\n",
       "      <td>1000.0</td>\n",
       "      <td>1000.0</td>\n",
       "      <td>1000.0</td>\n",
       "    </tr>\n",
       "    <tr>\n",
       "      <th>minutes_included</th>\n",
       "      <td>985.0</td>\n",
       "      <td>3000.000000</td>\n",
       "      <td>0.000000</td>\n",
       "      <td>3000.0</td>\n",
       "      <td>3000.0</td>\n",
       "      <td>3000.0</td>\n",
       "      <td>3000.0</td>\n",
       "      <td>3000.0</td>\n",
       "    </tr>\n",
       "    <tr>\n",
       "      <th>gb_per_month_included</th>\n",
       "      <td>985.0</td>\n",
       "      <td>30.000000</td>\n",
       "      <td>0.000000</td>\n",
       "      <td>30.0</td>\n",
       "      <td>30.0</td>\n",
       "      <td>30.0</td>\n",
       "      <td>30.0</td>\n",
       "      <td>30.0</td>\n",
       "    </tr>\n",
       "    <tr>\n",
       "      <th>income</th>\n",
       "      <td>985.0</td>\n",
       "      <td>2070.000000</td>\n",
       "      <td>375.840521</td>\n",
       "      <td>1950.0</td>\n",
       "      <td>1950.0</td>\n",
       "      <td>1950.0</td>\n",
       "      <td>1950.0</td>\n",
       "      <td>4800.0</td>\n",
       "    </tr>\n",
       "  </tbody>\n",
       "</table>\n",
       "</div>"
      ],
      "text/plain": [
       "                       count         mean         std     min     25%     50%  \\\n",
       "user_id                985.0  1263.094416  140.694908  1000.0  1143.0  1277.0   \n",
       "month                  985.0     8.250761    2.871762     1.0     6.0     9.0   \n",
       "calls_duration         985.0   526.623350  317.606098     0.0   284.0   518.0   \n",
       "messages               985.0    49.363452   47.804457     0.0     6.0    38.0   \n",
       "gb_used                985.0    19.487310    9.851648     0.0    12.0    19.0   \n",
       "age                    985.0    46.834518   17.107979    18.0    30.0    45.0   \n",
       "messages_included      985.0  1000.000000    0.000000  1000.0  1000.0  1000.0   \n",
       "minutes_included       985.0  3000.000000    0.000000  3000.0  3000.0  3000.0   \n",
       "gb_per_month_included  985.0    30.000000    0.000000    30.0    30.0    30.0   \n",
       "income                 985.0  2070.000000  375.840521  1950.0  1950.0  1950.0   \n",
       "\n",
       "                          75%     max  \n",
       "user_id                1381.0  1495.0  \n",
       "month                    11.0    12.0  \n",
       "calls_duration          752.0  1673.0  \n",
       "messages                 79.0   224.0  \n",
       "gb_used                  27.0    49.0  \n",
       "age                      63.0    75.0  \n",
       "messages_included      1000.0  1000.0  \n",
       "minutes_included       3000.0  3000.0  \n",
       "gb_per_month_included    30.0    30.0  \n",
       "income                 1950.0  4800.0  "
      ]
     },
     "execution_count": 79,
     "metadata": {},
     "output_type": "execute_result"
    }
   ],
   "source": [
    "df_ultra.describe().T"
   ]
  },
  {
   "cell_type": "code",
   "execution_count": 80,
   "id": "81665738",
   "metadata": {},
   "outputs": [
    {
     "data": {
      "text/plain": [
       "100771.2236172022"
      ]
     },
     "execution_count": 80,
     "metadata": {},
     "output_type": "execute_result"
    }
   ],
   "source": [
    "np.var(df_ultra['calls_duration'])"
   ]
  },
  {
   "cell_type": "code",
   "execution_count": 81,
   "id": "9ccde800",
   "metadata": {},
   "outputs": [
    {
     "data": {
      "text/plain": [
       "2282.946075394882"
      ]
     },
     "execution_count": 81,
     "metadata": {},
     "output_type": "execute_result"
    }
   ],
   "source": [
    "np.var(df_ultra['messages'])"
   ]
  },
  {
   "cell_type": "code",
   "execution_count": 82,
   "id": "c90ee473",
   "metadata": {},
   "outputs": [
    {
     "data": {
      "text/plain": [
       "96.95643793965318"
      ]
     },
     "execution_count": 82,
     "metadata": {},
     "output_type": "execute_result"
    }
   ],
   "source": [
    "np.var(df_ultra['gb_used'])"
   ]
  },
  {
   "cell_type": "code",
   "execution_count": 83,
   "id": "c5a03dc5",
   "metadata": {},
   "outputs": [
    {
     "data": {
      "text/plain": [
       "0.86"
      ]
     },
     "execution_count": 83,
     "metadata": {},
     "output_type": "execute_result"
    }
   ],
   "source": [
    "(df_ultra['income'][df_ultra['income'] == 1950].count() / df_ultra.shape[0]).round(2)"
   ]
  },
  {
   "cell_type": "code",
   "execution_count": 84,
   "id": "9a0197b3",
   "metadata": {},
   "outputs": [
    {
     "data": {
      "text/plain": [
       "882.0895522388059"
      ]
     },
     "execution_count": 84,
     "metadata": {},
     "output_type": "execute_result"
    }
   ],
   "source": [
    "df_ultra['income'][df_ultra['income'] > 1950].mean() - 1950"
   ]
  },
  {
   "cell_type": "code",
   "execution_count": 85,
   "id": "58666c72",
   "metadata": {},
   "outputs": [
    {
     "data": {
      "image/png": "[encoded data removed]",
      "text/plain": [
       "<Figure size 432x288 with 1 Axes>"
      ]
     },
     "metadata": {
      "needs_background": "light"
     },
     "output_type": "display_data"
    }
   ],
   "source": [
    "df_ultra.hist(column='calls_duration', color='skyblue', bins=50)\n",
    "plt.axvline(df_ultra['minutes_included'].mean(), color='red', linestyle='dotted', label='Тарифный лимит')\n",
    "plt.legend()\n",
    "plt.xlabel('Длительность, мин')\n",
    "plt.ylabel('Пользователи')\n",
    "plt.title('Длительность звонков')\n",
    "plt.show()"
   ]
  },
  {
   "cell_type": "code",
   "execution_count": 86,
   "id": "f6798d1d",
   "metadata": {},
   "outputs": [
    {
     "data": {
      "image/png": "[encoded data removed]",
      "text/plain": [
       "<Figure size 432x288 with 1 Axes>"
      ]
     },
     "metadata": {
      "needs_background": "light"
     },
     "output_type": "display_data"
    }
   ],
   "source": [
    "df_ultra.hist(column='messages', color='skyblue', bins=50)\n",
    "plt.axvline(df_ultra['messages_included'].mean(), color='red', linestyle='dotted', label='Тарифный лимит')\n",
    "plt.legend()\n",
    "plt.xlabel('Сообщения, шт')\n",
    "plt.ylabel('Пользователи')\n",
    "plt.title('Сообщения')\n",
    "plt.show()"
   ]
  },
  {
   "cell_type": "code",
   "execution_count": 87,
   "id": "2089da13",
   "metadata": {},
   "outputs": [
    {
     "data": {
      "image/png": "[encoded data removed]",
      "text/plain": [
       "<Figure size 432x288 with 1 Axes>"
      ]
     },
     "metadata": {
      "needs_background": "light"
     },
     "output_type": "display_data"
    }
   ],
   "source": [
    "df_ultra.hist(column='gb_used', color='skyblue', bins=50)\n",
    "plt.axvline(df_ultra['gb_per_month_included'].mean(), color='red', linestyle='dotted', label='Тарифный лимит')\n",
    "plt.legend()\n",
    "plt.xlabel('Интернет-трафик, гб')\n",
    "plt.ylabel('Пользователи')\n",
    "plt.title('Интернет-трафик')\n",
    "plt.show()"
   ]
  },
  {
   "cell_type": "code",
   "execution_count": 88,
   "id": "bb1214b1",
   "metadata": {},
   "outputs": [
    {
     "data": {
      "image/png": "[encoded data removed]",
      "text/plain": [
       "<Figure size 432x288 with 1 Axes>"
      ]
     },
     "metadata": {
      "needs_background": "light"
     },
     "output_type": "display_data"
    }
   ],
   "source": [
    "df_ultra.hist(column='income', color='skyblue', bins=50)\n",
    "plt.axvline(df_ultra['income'].mean(), color='red', linestyle='dotted', label='Абонентская плата')\n",
    "plt.legend()\n",
    "plt.xlabel('Выручка, руб')\n",
    "plt.ylabel('Пользователи')\n",
    "plt.title('Выручка')\n",
    "plt.show()"
   ]
  },
  {
   "cell_type": "markdown",
   "id": "adb684e5",
   "metadata": {},
   "source": [
    "#### 4.2.1 Вывод\n",
    "\n",
    "Выявили следующие данные о пользователях тарифа Смарт:\n",
    "1. За год среднее время использования тарифа 8 месяцев.\n",
    "2. В среднем в месяц пользователь:\n",
    "    * общается 527 минут по телефону,\n",
    "    * отправляет 49 сообщений,\n",
    "    * использует 20 гб интернет-трафика.\n",
    "3. Средний возраст клиента 47 лет.\n",
    "4. Средняя выручка в месяц 2070 руб, при том, что абонентская плата 1950 руб.\n",
    "    * Стандартное отклонение 376 руб.\n",
    "    * Медиана 1950 руб.\n",
    "    * Размах от миниального к максимульному значению от 1950 руб до 4800 руб.\n",
    "5. По гистограммам видно, что пользователи редко выходят за тарифные лимиты.\n",
    "    * Распределение у звонков и интернет-трафика ближе к нормальному.\n",
    "    * Распределение у сообщений имеет пик на 0 и дальше длинный хвост в правой части. Это естественное положение дел, сообщения мало используются, так как более популярны мессенджеры.\n",
    "6. 86% пользователей не выходят за тарифные лимиты.\n",
    "7. Средняя переплата за превышение тарифных лимитов 882 руб."
   ]
  },
  {
   "cell_type": "markdown",
   "id": "83c4b006",
   "metadata": {},
   "source": [
    "## 5. Проверка гипотез\n",
    "\n",
    "1. Средняя выручка пользователей тарифов «Ультра» и «Смарт» различаются.\n",
    "2. Средняя выручка пользователи из Москвы отличается от выручки пользователей из других регионов."
   ]
  },
  {
   "cell_type": "markdown",
   "id": "397b8ba1",
   "metadata": {},
   "source": [
    "### 5.1 Cредняя выручка пользователей тарифов «Ультра» и «Смарт» различаются\n",
    "\n",
    "**H₀**: Cредняя выручка пользователей тарифов «Ультра» и «Смарт» равны.\n",
    "\n",
    "**H₁**: Cредняя выручка пользователей тарифов «Ультра» и «Смарт» не равны.\n",
    "\n",
    "**Пороговое значение alpha**: 0.05"
   ]
  },
  {
   "cell_type": "code",
   "execution_count": 89,
   "id": "504e70de",
   "metadata": {},
   "outputs": [
    {
     "data": {
      "text/html": [
       "<div>\n",
       "<style scoped>\n",
       "    .dataframe tbody tr th:only-of-type {\n",
       "        vertical-align: middle;\n",
       "    }\n",
       "\n",
       "    .dataframe tbody tr th {\n",
       "        vertical-align: top;\n",
       "    }\n",
       "\n",
       "    .dataframe thead tr th {\n",
       "        text-align: left;\n",
       "    }\n",
       "\n",
       "    .dataframe thead tr:last-of-type th {\n",
       "        text-align: right;\n",
       "    }\n",
       "</style>\n",
       "<table border=\"1\" class=\"dataframe\">\n",
       "  <thead>\n",
       "    <tr>\n",
       "      <th></th>\n",
       "      <th>count</th>\n",
       "      <th>mean</th>\n",
       "      <th>sum</th>\n",
       "    </tr>\n",
       "    <tr>\n",
       "      <th></th>\n",
       "      <th>income</th>\n",
       "      <th>income</th>\n",
       "      <th>income</th>\n",
       "    </tr>\n",
       "    <tr>\n",
       "      <th>tariff</th>\n",
       "      <th></th>\n",
       "      <th></th>\n",
       "      <th></th>\n",
       "    </tr>\n",
       "  </thead>\n",
       "  <tbody>\n",
       "    <tr>\n",
       "      <th>smart</th>\n",
       "      <td>2229</td>\n",
       "      <td>1288.896815</td>\n",
       "      <td>2872951</td>\n",
       "    </tr>\n",
       "    <tr>\n",
       "      <th>ultra</th>\n",
       "      <td>985</td>\n",
       "      <td>2070.000000</td>\n",
       "      <td>2038950</td>\n",
       "    </tr>\n",
       "  </tbody>\n",
       "</table>\n",
       "</div>"
      ],
      "text/plain": [
       "        count         mean      sum\n",
       "       income       income   income\n",
       "tariff                             \n",
       "smart    2229  1288.896815  2872951\n",
       "ultra     985  2070.000000  2038950"
      ]
     },
     "execution_count": 89,
     "metadata": {},
     "output_type": "execute_result"
    }
   ],
   "source": [
    "df.pivot_table(index='tariff', values='income', aggfunc=['count', 'mean', 'sum'])"
   ]
  },
  {
   "cell_type": "code",
   "execution_count": 90,
   "id": "e162095b",
   "metadata": {},
   "outputs": [
    {
     "data": {
      "text/plain": [
       "668930.3931213078"
      ]
     },
     "execution_count": 90,
     "metadata": {},
     "output_type": "execute_result"
    }
   ],
   "source": [
    "np.var(df_smart['income'])"
   ]
  },
  {
   "cell_type": "code",
   "execution_count": 91,
   "id": "06611a6a",
   "metadata": {},
   "outputs": [
    {
     "data": {
      "text/plain": [
       "141112.69035532995"
      ]
     },
     "execution_count": 91,
     "metadata": {},
     "output_type": "execute_result"
    }
   ],
   "source": [
    "np.var(df_ultra['income'])"
   ]
  },
  {
   "cell_type": "code",
   "execution_count": 92,
   "id": "023bcf2d",
   "metadata": {},
   "outputs": [],
   "source": [
    "results = st.stats.ttest_ind(df_ultra['income'], df_smart['income'], equal_var=False)"
   ]
  },
  {
   "cell_type": "code",
   "execution_count": 93,
   "id": "5850ca3c",
   "metadata": {},
   "outputs": [
    {
     "name": "stdout",
     "output_type": "stream",
     "text": [
      "Отвергаем нулевую гипотезу.\n"
     ]
    }
   ],
   "source": [
    "alpha = .05\n",
    "if results.pvalue < alpha:\n",
    "    print(\"Отвергаем нулевую гипотезу.\")\n",
    "else:\n",
    "    print(\"Не получилось отвергнуть нулевую гипотезу.\")"
   ]
  },
  {
   "cell_type": "markdown",
   "id": "1bbf66f8",
   "metadata": {},
   "source": [
    "#### 5.1.1 Вывод\n",
    "\n",
    "По результатам анализа отвергаем нулевую гипотезу и принимаем, что средняя выручка пользователей тарифов «Ультра» и «Смарт» не равны."
   ]
  },
  {
   "cell_type": "markdown",
   "id": "d264d489",
   "metadata": {},
   "source": [
    "### 5.2 Средняя выручка пользователи из Москвы отличается от выручки пользователей из других регионов.\n",
    "\n",
    "**H₀**: Cредняя выручка пользователей из Москвы и средняя выручка пользователей из остальных регионов равны.\n",
    "\n",
    "**H₁**: Cредняя выручка пользователей из Москвы и средняя выручка пользователей из остальных регионов не равны.\n",
    "\n",
    "**Пороговое значение alpha**: 0.05"
   ]
  },
  {
   "cell_type": "code",
   "execution_count": 94,
   "id": "f8601fce",
   "metadata": {},
   "outputs": [
    {
     "data": {
      "text/plain": [
       "user_id    99\n",
       "age        99\n",
       "city       99\n",
       "tariff     99\n",
       "dtype: int64"
      ]
     },
     "execution_count": 94,
     "metadata": {},
     "output_type": "execute_result"
    }
   ],
   "source": [
    "df_users.query('city == \"Москва\"').count()"
   ]
  },
  {
   "cell_type": "code",
   "execution_count": 95,
   "id": "55065160",
   "metadata": {},
   "outputs": [
    {
     "data": {
      "text/plain": [
       "tariff\n",
       "smart    351\n",
       "ultra    149\n",
       "Name: user_id, dtype: int64"
      ]
     },
     "execution_count": 95,
     "metadata": {},
     "output_type": "execute_result"
    }
   ],
   "source": [
    "df_users.groupby('tariff')['user_id'].count()"
   ]
  },
  {
   "cell_type": "code",
   "execution_count": 96,
   "id": "662f236f",
   "metadata": {},
   "outputs": [],
   "source": [
    "df_moscow = df.query('city == \"Москва\"')['income']"
   ]
  },
  {
   "cell_type": "code",
   "execution_count": 97,
   "id": "7d7925ab",
   "metadata": {},
   "outputs": [
    {
     "data": {
      "text/plain": [
       "1545.8134206219313"
      ]
     },
     "execution_count": 97,
     "metadata": {},
     "output_type": "execute_result"
    }
   ],
   "source": [
    "df_moscow.mean()"
   ]
  },
  {
   "cell_type": "code",
   "execution_count": 98,
   "id": "816863ee",
   "metadata": {},
   "outputs": [],
   "source": [
    "df_not_moscow = df.query('city != \"Москва\"')['income']"
   ]
  },
  {
   "cell_type": "code",
   "execution_count": 99,
   "id": "2122292d",
   "metadata": {},
   "outputs": [
    {
     "data": {
      "text/plain": [
       "1524.1678832116788"
      ]
     },
     "execution_count": 99,
     "metadata": {},
     "output_type": "execute_result"
    }
   ],
   "source": [
    "df_not_moscow.mean()"
   ]
  },
  {
   "cell_type": "code",
   "execution_count": 100,
   "id": "1bd8ab4a",
   "metadata": {},
   "outputs": [
    {
     "data": {
      "text/plain": [
       "564945.3923567117"
      ]
     },
     "execution_count": 100,
     "metadata": {},
     "output_type": "execute_result"
    }
   ],
   "source": [
    "np.var(df_moscow)"
   ]
  },
  {
   "cell_type": "code",
   "execution_count": 101,
   "id": "0be3d70e",
   "metadata": {},
   "outputs": [
    {
     "data": {
      "text/plain": [
       "653637.4635555295"
      ]
     },
     "execution_count": 101,
     "metadata": {},
     "output_type": "execute_result"
    }
   ],
   "source": [
    "np.var(df_not_moscow)"
   ]
  },
  {
   "cell_type": "code",
   "execution_count": 102,
   "id": "2aecf64b",
   "metadata": {},
   "outputs": [],
   "source": [
    "results2 = st.stats.ttest_ind(df_moscow, df_not_moscow)"
   ]
  },
  {
   "cell_type": "code",
   "execution_count": 103,
   "id": "e46dc0c9",
   "metadata": {},
   "outputs": [
    {
     "name": "stdout",
     "output_type": "stream",
     "text": [
      "Не получилось отвергнуть нулевую гипотезу.\n"
     ]
    }
   ],
   "source": [
    "alpha = .05\n",
    "if results2.pvalue < alpha:\n",
    "    print(\"Отвергаем нулевую гипотезу.\")\n",
    "else:\n",
    "    print(\"Не получилось отвергнуть нулевую гипотезу.\")"
   ]
  },
  {
   "cell_type": "markdown",
   "id": "26b5728b",
   "metadata": {},
   "source": [
    "#### 5.2.1 Вывод\n",
    "\n",
    "По результатам анализа принимаем нулевую гипотезу о том, что средняя выручка пользователей из Москвы и средняя выручка пользователей из остальных регионов равны."
   ]
  },
  {
   "cell_type": "markdown",
   "id": "98f5e2e5",
   "metadata": {},
   "source": [
    "## 6. Общий вывод"
   ]
  },
  {
   "cell_type": "markdown",
   "id": "8ee056ff",
   "metadata": {},
   "source": [
    "### Задача исследования: проанализировать поведение клиентов и сделать вывод — какой тариф лучше.\n",
    "\n",
    "**Выделили следующие данные:**\n",
    "1. Тариф Смарт:\n",
    "    * Средняя выручка в месяц 1289 руб, при том, что абонентская плата 550 руб.\n",
    "    * Только 25% пользователей не выходят за тарифные лимиты.\n",
    "    * Средняя переплата за превышение тарифных лимитов 1042 руб.\n",
    "2. Тариф Ультра:\n",
    "    * Средняя выручка в месяц 2070 руб, при том, что абонентская плата 1950 руб.\n",
    "    * 86% пользователей не выходят за тарифные лимиты.\n",
    "    * Средняя переплата за превышение тарифных лимитов 882 руб.\n",
    "\n",
    "**Проверили гипотезы:**\n",
    "1. Средняя выручка пользователей тарифов «Ультра» и «Смарт» не равны.\n",
    "    * Средняя выручка пользователей тарифа Ультра 2070 руб. Общая выручка за год составляет 2 038 950 руб.\n",
    "    * Средняя выручка пользователей тарифа Смарт 1289 руб. Общая выручка за год составляет 2 872 951 руб.\n",
    "2. Средняя выручка пользователей из Москвы и средняя выручка пользователей из остальных регионов равны.\n",
    "    * Средняя выручка пользователей из Москвы 1546 руб.\n",
    "    * Средняя выручка пользователей из других регионов 1524 руб.\n",
    "\n",
    "**Вывод:**\n",
    "* 75% пользователей тарифа Смарт превышают тарифные лимиты и приносят компании дополнительную выручку. У тарифа Ультра только 14% пользователей превышают лимиты. При этом средняя переплата не сильно отличается друг от друга (1042 руб в тарифе Смарт и 882 руб в тарифе Ультра).\n",
    "* Мы выяснилии, что средняя выручка тарифа Ультра больше, чем тарифа Смарт. Стоит обратить также внимание на то, что пользователей тарифа Смарт 70% от всей выборки. При этом они приносят в год выручки только на 41 процент больше, чем пользователи тарифа Ультра. При расчете средних расходов на обслуживание 1 клиента можно будет получить более реальную картину получаемой прибыли.\n",
    "\n",
    "**По результатам данного анализа рекомендуем увеличить рекламные бюджеты для тарифа Ультра.**"
   ]
  }
 ],
 "metadata": {
  "ExecuteTimeLog": [
   {
    "duration": 436,
    "start_time": "2022-03-20T10:32:55.333Z"
   },
   {
    "duration": 294,
    "start_time": "2022-03-20T10:32:55.771Z"
   },
   {
    "duration": 3,
    "start_time": "2022-03-20T10:32:56.073Z"
   },
   {
    "duration": 467,
    "start_time": "2022-03-20T10:32:56.079Z"
   },
   {
    "duration": 6,
    "start_time": "2022-03-20T10:32:56.552Z"
   },
   {
    "duration": 16,
    "start_time": "2022-03-20T10:32:56.560Z"
   },
   {
    "duration": 19,
    "start_time": "2022-03-20T10:32:56.578Z"
   },
   {
    "duration": 10,
    "start_time": "2022-03-20T10:32:56.599Z"
   },
   {
    "duration": 21,
    "start_time": "2022-03-20T10:32:56.610Z"
   },
   {
    "duration": 21,
    "start_time": "2022-03-20T10:32:56.632Z"
   },
   {
    "duration": 29,
    "start_time": "2022-03-20T10:32:56.656Z"
   },
   {
    "duration": 157,
    "start_time": "2022-03-20T10:32:56.687Z"
   },
   {
    "duration": 38,
    "start_time": "2022-03-20T10:32:56.847Z"
   },
   {
    "duration": 26,
    "start_time": "2022-03-20T10:32:56.889Z"
   },
   {
    "duration": 23,
    "start_time": "2022-03-20T10:32:56.916Z"
   },
   {
    "duration": 35,
    "start_time": "2022-03-20T10:32:56.940Z"
   },
   {
    "duration": 95,
    "start_time": "2022-03-20T10:32:56.977Z"
   },
   {
    "duration": 20,
    "start_time": "2022-03-20T10:32:57.074Z"
   },
   {
    "duration": 16,
    "start_time": "2022-03-20T10:32:57.096Z"
   },
   {
    "duration": 34,
    "start_time": "2022-03-20T10:32:57.114Z"
   },
   {
    "duration": 28,
    "start_time": "2022-03-20T10:32:57.150Z"
   },
   {
    "duration": 132,
    "start_time": "2022-03-20T10:32:57.180Z"
   },
   {
    "duration": 26,
    "start_time": "2022-03-20T10:32:57.313Z"
   },
   {
    "duration": 33,
    "start_time": "2022-03-20T10:32:57.344Z"
   },
   {
    "duration": 8,
    "start_time": "2022-03-20T10:32:57.379Z"
   },
   {
    "duration": 7,
    "start_time": "2022-03-20T10:32:57.388Z"
   },
   {
    "duration": 3,
    "start_time": "2022-03-20T10:32:57.396Z"
   },
   {
    "duration": 11,
    "start_time": "2022-03-20T10:32:57.400Z"
   },
   {
    "duration": 14,
    "start_time": "2022-03-20T10:32:57.432Z"
   },
   {
    "duration": 33,
    "start_time": "2022-03-20T10:32:57.448Z"
   },
   {
    "duration": 4,
    "start_time": "2022-03-20T10:32:57.484Z"
   },
   {
    "duration": 4,
    "start_time": "2022-03-20T10:32:57.490Z"
   },
   {
    "duration": 5,
    "start_time": "2022-03-20T10:32:57.496Z"
   },
   {
    "duration": 4,
    "start_time": "2022-03-20T10:32:57.502Z"
   },
   {
    "duration": 5,
    "start_time": "2022-03-20T10:32:57.508Z"
   },
   {
    "duration": 7,
    "start_time": "2022-03-20T10:32:57.515Z"
   },
   {
    "duration": 128,
    "start_time": "2022-03-20T10:32:57.523Z"
   },
   {
    "duration": 50,
    "start_time": "2022-03-20T10:32:57.653Z"
   },
   {
    "duration": 69,
    "start_time": "2022-03-20T10:32:57.705Z"
   },
   {
    "duration": 5,
    "start_time": "2022-03-20T10:32:57.776Z"
   },
   {
    "duration": 6,
    "start_time": "2022-03-20T10:32:57.786Z"
   },
   {
    "duration": 49,
    "start_time": "2022-03-20T10:32:57.794Z"
   },
   {
    "duration": 26,
    "start_time": "2022-03-20T10:32:57.844Z"
   },
   {
    "duration": 23,
    "start_time": "2022-03-20T10:32:57.872Z"
   },
   {
    "duration": 5,
    "start_time": "2022-03-20T10:32:57.897Z"
   },
   {
    "duration": 9,
    "start_time": "2022-03-20T10:32:57.904Z"
   },
   {
    "duration": 35,
    "start_time": "2022-03-20T10:32:57.914Z"
   },
   {
    "duration": 39,
    "start_time": "2022-03-20T10:32:57.951Z"
   },
   {
    "duration": 4,
    "start_time": "2022-03-20T10:32:57.992Z"
   },
   {
    "duration": 5,
    "start_time": "2022-03-20T10:32:57.997Z"
   },
   {
    "duration": 9,
    "start_time": "2022-03-20T10:32:58.003Z"
   },
   {
    "duration": 6,
    "start_time": "2022-03-20T10:32:58.013Z"
   },
   {
    "duration": 10,
    "start_time": "2022-03-20T10:32:58.021Z"
   },
   {
    "duration": 80,
    "start_time": "2022-03-20T10:32:58.044Z"
   },
   {
    "duration": 15,
    "start_time": "2022-03-20T10:32:58.126Z"
   },
   {
    "duration": 58,
    "start_time": "2022-03-20T10:32:58.143Z"
   },
   {
    "duration": 27,
    "start_time": "2022-03-20T10:32:58.203Z"
   },
   {
    "duration": 6,
    "start_time": "2022-03-20T10:32:58.232Z"
   },
   {
    "duration": 35,
    "start_time": "2022-03-20T10:32:58.241Z"
   },
   {
    "duration": 32,
    "start_time": "2022-03-20T10:32:58.278Z"
   },
   {
    "duration": 57,
    "start_time": "2022-03-20T10:32:58.312Z"
   },
   {
    "duration": 10,
    "start_time": "2022-03-20T10:32:58.372Z"
   },
   {
    "duration": 16,
    "start_time": "2022-03-20T10:32:58.383Z"
   },
   {
    "duration": 3,
    "start_time": "2022-03-20T10:32:58.401Z"
   },
   {
    "duration": 35,
    "start_time": "2022-03-20T10:32:58.405Z"
   },
   {
    "duration": 40,
    "start_time": "2022-03-20T10:32:58.441Z"
   },
   {
    "duration": 42,
    "start_time": "2022-03-20T10:32:58.482Z"
   },
   {
    "duration": 18,
    "start_time": "2022-03-20T10:32:58.525Z"
   },
   {
    "duration": 62,
    "start_time": "2022-03-20T10:32:58.544Z"
   },
   {
    "duration": 4,
    "start_time": "2022-03-20T10:32:58.607Z"
   },
   {
    "duration": 27,
    "start_time": "2022-03-20T10:32:58.612Z"
   },
   {
    "duration": 6,
    "start_time": "2022-03-20T10:32:58.641Z"
   },
   {
    "duration": 48,
    "start_time": "2022-03-20T10:32:58.652Z"
   },
   {
    "duration": 7,
    "start_time": "2022-03-20T10:32:58.702Z"
   },
   {
    "duration": 13,
    "start_time": "2022-03-20T10:32:58.711Z"
   },
   {
    "duration": 25,
    "start_time": "2022-03-20T10:32:58.725Z"
   },
   {
    "duration": 35,
    "start_time": "2022-03-20T10:32:58.752Z"
   },
   {
    "duration": 17,
    "start_time": "2022-03-20T10:32:58.788Z"
   },
   {
    "duration": 6,
    "start_time": "2022-03-20T10:32:58.806Z"
   },
   {
    "duration": 5,
    "start_time": "2022-03-20T10:32:58.813Z"
   },
   {
    "duration": 4,
    "start_time": "2022-03-20T10:32:58.820Z"
   },
   {
    "duration": 18,
    "start_time": "2022-03-20T10:32:58.826Z"
   },
   {
    "duration": 53,
    "start_time": "2022-03-20T10:32:58.846Z"
   },
   {
    "duration": 24,
    "start_time": "2022-03-20T10:32:58.901Z"
   },
   {
    "duration": 5,
    "start_time": "2022-03-20T10:32:58.927Z"
   },
   {
    "duration": 44,
    "start_time": "2022-03-20T10:32:58.935Z"
   },
   {
    "duration": 17,
    "start_time": "2022-03-20T10:32:58.981Z"
   },
   {
    "duration": 17,
    "start_time": "2022-03-20T10:32:59.000Z"
   },
   {
    "duration": 8,
    "start_time": "2022-03-20T10:32:59.018Z"
   },
   {
    "duration": 60,
    "start_time": "2022-03-20T10:32:59.027Z"
   },
   {
    "duration": 20,
    "start_time": "2022-03-20T10:32:59.089Z"
   },
   {
    "duration": 36,
    "start_time": "2022-03-20T10:32:59.110Z"
   },
   {
    "duration": 72,
    "start_time": "2022-03-20T10:32:59.148Z"
   },
   {
    "duration": 3,
    "start_time": "2022-03-20T10:32:59.222Z"
   },
   {
    "duration": 32,
    "start_time": "2022-03-20T10:32:59.226Z"
   },
   {
    "duration": 48,
    "start_time": "2022-03-20T10:32:59.262Z"
   },
   {
    "duration": 3,
    "start_time": "2022-03-20T10:32:59.311Z"
   },
   {
    "duration": 33,
    "start_time": "2022-03-20T10:32:59.316Z"
   },
   {
    "duration": 33,
    "start_time": "2022-03-20T10:32:59.351Z"
   },
   {
    "duration": 11,
    "start_time": "2022-03-20T10:32:59.385Z"
   },
   {
    "duration": 5,
    "start_time": "2022-03-20T10:32:59.397Z"
   },
   {
    "duration": 48,
    "start_time": "2022-03-20T10:32:59.403Z"
   },
   {
    "duration": 5,
    "start_time": "2022-03-20T10:32:59.453Z"
   },
   {
    "duration": 15,
    "start_time": "2022-03-20T10:32:59.462Z"
   },
   {
    "duration": 13,
    "start_time": "2022-03-20T10:32:59.479Z"
   },
   {
    "duration": 6,
    "start_time": "2022-03-20T10:32:59.493Z"
   },
   {
    "duration": 14,
    "start_time": "2022-03-20T10:32:59.500Z"
   },
   {
    "duration": 7,
    "start_time": "2022-03-20T10:32:59.515Z"
   },
   {
    "duration": 23,
    "start_time": "2022-03-20T10:32:59.523Z"
   },
   {
    "duration": 33,
    "start_time": "2022-03-20T10:32:59.548Z"
   },
   {
    "duration": 18,
    "start_time": "2022-03-20T10:32:59.583Z"
   },
   {
    "duration": 10,
    "start_time": "2022-03-20T10:32:59.603Z"
   },
   {
    "duration": 11,
    "start_time": "2022-03-20T10:32:59.615Z"
   },
   {
    "duration": 33,
    "start_time": "2022-03-20T10:32:59.627Z"
   },
   {
    "duration": 117,
    "start_time": "2022-03-20T10:32:59.663Z"
   },
   {
    "duration": 10,
    "start_time": "2022-03-20T10:32:59.781Z"
   },
   {
    "duration": 7,
    "start_time": "2022-03-20T10:32:59.793Z"
   },
   {
    "duration": 7,
    "start_time": "2022-03-20T10:32:59.801Z"
   },
   {
    "duration": 57,
    "start_time": "2022-03-20T10:32:59.810Z"
   },
   {
    "duration": 9,
    "start_time": "2022-03-20T10:32:59.869Z"
   },
   {
    "duration": 5,
    "start_time": "2022-03-20T10:32:59.879Z"
   },
   {
    "duration": 4,
    "start_time": "2022-03-20T10:32:59.891Z"
   },
   {
    "duration": 12,
    "start_time": "2022-03-20T10:32:59.897Z"
   },
   {
    "duration": 4,
    "start_time": "2022-03-20T10:32:59.911Z"
   },
   {
    "duration": 32,
    "start_time": "2022-03-20T10:32:59.917Z"
   },
   {
    "duration": 441,
    "start_time": "2022-03-20T10:32:59.951Z"
   },
   {
    "duration": 433,
    "start_time": "2022-03-20T10:33:00.394Z"
   },
   {
    "duration": 406,
    "start_time": "2022-03-20T10:33:00.832Z"
   },
   {
    "duration": 331,
    "start_time": "2022-03-20T10:33:01.242Z"
   },
   {
    "duration": 6,
    "start_time": "2022-03-20T10:33:01.575Z"
   },
   {
    "duration": 56,
    "start_time": "2022-03-20T10:33:01.582Z"
   },
   {
    "duration": 7,
    "start_time": "2022-03-20T10:33:01.645Z"
   },
   {
    "duration": 31,
    "start_time": "2022-03-20T10:33:01.653Z"
   },
   {
    "duration": 8,
    "start_time": "2022-03-20T10:33:01.686Z"
   },
   {
    "duration": 6,
    "start_time": "2022-03-20T10:33:01.696Z"
   },
   {
    "duration": 6,
    "start_time": "2022-03-20T10:33:01.704Z"
   },
   {
    "duration": 451,
    "start_time": "2022-03-20T10:33:01.711Z"
   },
   {
    "duration": 321,
    "start_time": "2022-03-20T10:33:02.168Z"
   },
   {
    "duration": 322,
    "start_time": "2022-03-20T10:33:02.490Z"
   },
   {
    "duration": 374,
    "start_time": "2022-03-20T10:33:02.813Z"
   },
   {
    "duration": 32,
    "start_time": "2022-03-20T10:33:03.189Z"
   },
   {
    "duration": 24,
    "start_time": "2022-03-20T10:33:03.223Z"
   },
   {
    "duration": 42,
    "start_time": "2022-03-20T10:33:03.249Z"
   },
   {
    "duration": 5,
    "start_time": "2022-03-20T10:33:03.292Z"
   },
   {
    "duration": 6,
    "start_time": "2022-03-20T10:33:03.299Z"
   },
   {
    "duration": 9,
    "start_time": "2022-03-20T10:33:03.306Z"
   },
   {
    "duration": 7,
    "start_time": "2022-03-20T10:33:03.317Z"
   },
   {
    "duration": 5,
    "start_time": "2022-03-20T10:33:03.325Z"
   },
   {
    "duration": 52,
    "start_time": "2022-03-20T10:33:03.331Z"
   },
   {
    "duration": 7,
    "start_time": "2022-03-20T10:33:03.385Z"
   },
   {
    "duration": 7,
    "start_time": "2022-03-20T10:33:03.393Z"
   },
   {
    "duration": 7,
    "start_time": "2022-03-20T10:33:03.401Z"
   },
   {
    "duration": 8,
    "start_time": "2022-03-20T10:33:03.409Z"
   },
   {
    "duration": 5,
    "start_time": "2022-03-20T10:33:03.418Z"
   },
   {
    "duration": 6,
    "start_time": "2022-03-20T10:33:03.424Z"
   },
   {
    "duration": 132,
    "start_time": "2022-03-20T10:33:08.053Z"
   },
   {
    "duration": 11,
    "start_time": "2022-03-20T10:36:41.971Z"
   },
   {
    "duration": 164,
    "start_time": "2022-03-20T10:59:14.865Z"
   },
   {
    "duration": 423,
    "start_time": "2022-03-20T11:10:07.081Z"
   },
   {
    "duration": 457,
    "start_time": "2022-03-20T11:10:07.506Z"
   },
   {
    "duration": 3,
    "start_time": "2022-03-20T11:10:07.965Z"
   },
   {
    "duration": 557,
    "start_time": "2022-03-20T11:10:07.971Z"
   },
   {
    "duration": 2,
    "start_time": "2022-03-20T11:10:08.530Z"
   },
   {
    "duration": 6,
    "start_time": "2022-03-20T11:10:08.534Z"
   },
   {
    "duration": 64,
    "start_time": "2022-03-20T11:10:08.542Z"
   },
   {
    "duration": 13,
    "start_time": "2022-03-20T11:10:08.608Z"
   },
   {
    "duration": 27,
    "start_time": "2022-03-20T11:10:08.622Z"
   },
   {
    "duration": 10,
    "start_time": "2022-03-20T11:10:08.652Z"
   },
   {
    "duration": 5,
    "start_time": "2022-03-20T11:10:08.664Z"
   },
   {
    "duration": 166,
    "start_time": "2022-03-20T11:10:08.671Z"
   },
   {
    "duration": 30,
    "start_time": "2022-03-20T11:10:08.839Z"
   },
   {
    "duration": 31,
    "start_time": "2022-03-20T11:10:08.871Z"
   },
   {
    "duration": 30,
    "start_time": "2022-03-20T11:10:08.904Z"
   },
   {
    "duration": 3,
    "start_time": "2022-03-20T11:10:08.936Z"
   },
   {
    "duration": 91,
    "start_time": "2022-03-20T11:10:08.941Z"
   },
   {
    "duration": 21,
    "start_time": "2022-03-20T11:10:09.034Z"
   },
   {
    "duration": 17,
    "start_time": "2022-03-20T11:10:09.057Z"
   },
   {
    "duration": 7,
    "start_time": "2022-03-20T11:10:09.076Z"
   },
   {
    "duration": 5,
    "start_time": "2022-03-20T11:10:09.085Z"
   },
   {
    "duration": 164,
    "start_time": "2022-03-20T11:10:09.091Z"
   },
   {
    "duration": 24,
    "start_time": "2022-03-20T11:10:09.257Z"
   },
   {
    "duration": 49,
    "start_time": "2022-03-20T11:10:09.283Z"
   },
   {
    "duration": 10,
    "start_time": "2022-03-20T11:10:09.334Z"
   },
   {
    "duration": 9,
    "start_time": "2022-03-20T11:10:09.346Z"
   },
   {
    "duration": 3,
    "start_time": "2022-03-20T11:10:09.356Z"
   },
   {
    "duration": 14,
    "start_time": "2022-03-20T11:10:09.364Z"
   },
   {
    "duration": 10,
    "start_time": "2022-03-20T11:10:09.380Z"
   },
   {
    "duration": 13,
    "start_time": "2022-03-20T11:10:09.392Z"
   },
   {
    "duration": 5,
    "start_time": "2022-03-20T11:10:09.432Z"
   },
   {
    "duration": 6,
    "start_time": "2022-03-20T11:10:09.439Z"
   },
   {
    "duration": 6,
    "start_time": "2022-03-20T11:10:09.447Z"
   },
   {
    "duration": 21,
    "start_time": "2022-03-20T11:10:09.455Z"
   },
   {
    "duration": 7,
    "start_time": "2022-03-20T11:10:09.478Z"
   },
   {
    "duration": 9,
    "start_time": "2022-03-20T11:10:09.487Z"
   },
   {
    "duration": 134,
    "start_time": "2022-03-20T11:10:09.498Z"
   },
   {
    "duration": 54,
    "start_time": "2022-03-20T11:10:09.634Z"
   },
   {
    "duration": 75,
    "start_time": "2022-03-20T11:10:09.690Z"
   },
   {
    "duration": 6,
    "start_time": "2022-03-20T11:10:09.766Z"
   },
   {
    "duration": 8,
    "start_time": "2022-03-20T11:10:09.774Z"
   },
   {
    "duration": 24,
    "start_time": "2022-03-20T11:10:09.783Z"
   },
   {
    "duration": 36,
    "start_time": "2022-03-20T11:10:09.809Z"
   },
   {
    "duration": 18,
    "start_time": "2022-03-20T11:10:09.847Z"
   },
   {
    "duration": 6,
    "start_time": "2022-03-20T11:10:09.867Z"
   },
   {
    "duration": 15,
    "start_time": "2022-03-20T11:10:09.874Z"
   },
   {
    "duration": 12,
    "start_time": "2022-03-20T11:10:09.891Z"
   },
   {
    "duration": 43,
    "start_time": "2022-03-20T11:10:09.904Z"
   },
   {
    "duration": 12,
    "start_time": "2022-03-20T11:10:09.949Z"
   },
   {
    "duration": 6,
    "start_time": "2022-03-20T11:10:09.963Z"
   },
   {
    "duration": 7,
    "start_time": "2022-03-20T11:10:09.971Z"
   },
   {
    "duration": 10,
    "start_time": "2022-03-20T11:10:09.980Z"
   },
   {
    "duration": 12,
    "start_time": "2022-03-20T11:10:09.991Z"
   },
   {
    "duration": 77,
    "start_time": "2022-03-20T11:10:10.005Z"
   },
   {
    "duration": 8,
    "start_time": "2022-03-20T11:10:10.084Z"
   },
   {
    "duration": 44,
    "start_time": "2022-03-20T11:10:10.094Z"
   },
   {
    "duration": 31,
    "start_time": "2022-03-20T11:10:10.139Z"
   },
   {
    "duration": 4,
    "start_time": "2022-03-20T11:10:10.172Z"
   },
   {
    "duration": 5,
    "start_time": "2022-03-20T11:10:10.178Z"
   },
   {
    "duration": 58,
    "start_time": "2022-03-20T11:10:10.184Z"
   },
   {
    "duration": 38,
    "start_time": "2022-03-20T11:10:10.243Z"
   },
   {
    "duration": 7,
    "start_time": "2022-03-20T11:10:10.283Z"
   },
   {
    "duration": 21,
    "start_time": "2022-03-20T11:10:10.291Z"
   },
   {
    "duration": 4,
    "start_time": "2022-03-20T11:10:10.332Z"
   },
   {
    "duration": 22,
    "start_time": "2022-03-20T11:10:10.338Z"
   },
   {
    "duration": 24,
    "start_time": "2022-03-20T11:10:10.362Z"
   },
   {
    "duration": 70,
    "start_time": "2022-03-20T11:10:10.389Z"
   },
   {
    "duration": 9,
    "start_time": "2022-03-20T11:10:10.461Z"
   },
   {
    "duration": 30,
    "start_time": "2022-03-20T11:10:10.472Z"
   },
   {
    "duration": 4,
    "start_time": "2022-03-20T11:10:10.504Z"
   },
   {
    "duration": 25,
    "start_time": "2022-03-20T11:10:10.532Z"
   },
   {
    "duration": 4,
    "start_time": "2022-03-20T11:10:10.559Z"
   },
   {
    "duration": 34,
    "start_time": "2022-03-20T11:10:10.565Z"
   },
   {
    "duration": 31,
    "start_time": "2022-03-20T11:10:10.600Z"
   },
   {
    "duration": 6,
    "start_time": "2022-03-20T11:10:10.633Z"
   },
   {
    "duration": 12,
    "start_time": "2022-03-20T11:10:10.641Z"
   },
   {
    "duration": 12,
    "start_time": "2022-03-20T11:10:10.655Z"
   },
   {
    "duration": 18,
    "start_time": "2022-03-20T11:10:10.669Z"
   },
   {
    "duration": 9,
    "start_time": "2022-03-20T11:10:10.689Z"
   },
   {
    "duration": 32,
    "start_time": "2022-03-20T11:10:10.700Z"
   },
   {
    "duration": 8,
    "start_time": "2022-03-20T11:10:10.734Z"
   },
   {
    "duration": 8,
    "start_time": "2022-03-20T11:10:10.748Z"
   },
   {
    "duration": 29,
    "start_time": "2022-03-20T11:10:10.758Z"
   },
   {
    "duration": 48,
    "start_time": "2022-03-20T11:10:10.789Z"
   },
   {
    "duration": 6,
    "start_time": "2022-03-20T11:10:10.838Z"
   },
   {
    "duration": 19,
    "start_time": "2022-03-20T11:10:10.845Z"
   },
   {
    "duration": 20,
    "start_time": "2022-03-20T11:10:10.866Z"
   },
   {
    "duration": 18,
    "start_time": "2022-03-20T11:10:10.888Z"
   },
   {
    "duration": 30,
    "start_time": "2022-03-20T11:10:10.908Z"
   },
   {
    "duration": 48,
    "start_time": "2022-03-20T11:10:10.940Z"
   },
   {
    "duration": 21,
    "start_time": "2022-03-20T11:10:10.990Z"
   },
   {
    "duration": 24,
    "start_time": "2022-03-20T11:10:17.734Z"
   },
   {
    "duration": 3,
    "start_time": "2022-03-20T11:10:26.103Z"
   },
   {
    "duration": 6,
    "start_time": "2022-03-20T11:10:26.108Z"
   },
   {
    "duration": 4,
    "start_time": "2022-03-20T11:10:26.116Z"
   },
   {
    "duration": 5,
    "start_time": "2022-03-20T11:10:26.121Z"
   },
   {
    "duration": 4,
    "start_time": "2022-03-20T11:10:26.128Z"
   },
   {
    "duration": 6,
    "start_time": "2022-03-20T11:10:26.133Z"
   },
   {
    "duration": 44,
    "start_time": "2022-03-20T11:10:26.140Z"
   },
   {
    "duration": 10,
    "start_time": "2022-03-20T11:10:26.186Z"
   },
   {
    "duration": 21,
    "start_time": "2022-03-20T11:10:26.198Z"
   },
   {
    "duration": 11,
    "start_time": "2022-03-20T11:10:26.221Z"
   },
   {
    "duration": 4,
    "start_time": "2022-03-20T11:10:26.233Z"
   },
   {
    "duration": 204,
    "start_time": "2022-03-20T11:10:26.238Z"
   },
   {
    "duration": 30,
    "start_time": "2022-03-20T11:10:26.444Z"
   },
   {
    "duration": 32,
    "start_time": "2022-03-20T11:10:26.476Z"
   },
   {
    "duration": 9,
    "start_time": "2022-03-20T11:10:26.532Z"
   },
   {
    "duration": 3,
    "start_time": "2022-03-20T11:10:26.543Z"
   },
   {
    "duration": 100,
    "start_time": "2022-03-20T11:10:26.548Z"
   },
   {
    "duration": 21,
    "start_time": "2022-03-20T11:10:26.649Z"
   },
   {
    "duration": 18,
    "start_time": "2022-03-20T11:10:26.672Z"
   },
   {
    "duration": 7,
    "start_time": "2022-03-20T11:10:26.692Z"
   },
   {
    "duration": 5,
    "start_time": "2022-03-20T11:10:26.701Z"
   },
   {
    "duration": 133,
    "start_time": "2022-03-20T11:10:26.732Z"
   },
   {
    "duration": 23,
    "start_time": "2022-03-20T11:10:26.866Z"
   },
   {
    "duration": 43,
    "start_time": "2022-03-20T11:10:26.894Z"
   },
   {
    "duration": 8,
    "start_time": "2022-03-20T11:10:26.939Z"
   },
   {
    "duration": 9,
    "start_time": "2022-03-20T11:10:26.949Z"
   },
   {
    "duration": 2,
    "start_time": "2022-03-20T11:10:26.960Z"
   },
   {
    "duration": 20,
    "start_time": "2022-03-20T11:10:26.964Z"
   },
   {
    "duration": 11,
    "start_time": "2022-03-20T11:10:26.985Z"
   },
   {
    "duration": 12,
    "start_time": "2022-03-20T11:10:26.997Z"
   },
   {
    "duration": 24,
    "start_time": "2022-03-20T11:10:27.010Z"
   },
   {
    "duration": 9,
    "start_time": "2022-03-20T11:10:27.036Z"
   },
   {
    "duration": 6,
    "start_time": "2022-03-20T11:10:27.046Z"
   },
   {
    "duration": 6,
    "start_time": "2022-03-20T11:10:27.054Z"
   },
   {
    "duration": 5,
    "start_time": "2022-03-20T11:10:27.062Z"
   },
   {
    "duration": 7,
    "start_time": "2022-03-20T11:10:27.068Z"
   },
   {
    "duration": 132,
    "start_time": "2022-03-20T11:10:27.077Z"
   },
   {
    "duration": 59,
    "start_time": "2022-03-20T11:10:27.210Z"
   },
   {
    "duration": 45,
    "start_time": "2022-03-20T11:10:27.271Z"
   },
   {
    "duration": 5,
    "start_time": "2022-03-20T11:10:27.331Z"
   },
   {
    "duration": 9,
    "start_time": "2022-03-20T11:10:27.338Z"
   },
   {
    "duration": 24,
    "start_time": "2022-03-20T11:10:27.348Z"
   },
   {
    "duration": 15,
    "start_time": "2022-03-20T11:10:27.373Z"
   },
   {
    "duration": 42,
    "start_time": "2022-03-20T11:10:27.390Z"
   },
   {
    "duration": 6,
    "start_time": "2022-03-20T11:10:27.434Z"
   },
   {
    "duration": 11,
    "start_time": "2022-03-20T11:10:27.441Z"
   },
   {
    "duration": 13,
    "start_time": "2022-03-20T11:10:27.454Z"
   },
   {
    "duration": 19,
    "start_time": "2022-03-20T11:10:27.469Z"
   },
   {
    "duration": 5,
    "start_time": "2022-03-20T11:10:27.490Z"
   },
   {
    "duration": 36,
    "start_time": "2022-03-20T11:10:27.496Z"
   },
   {
    "duration": 8,
    "start_time": "2022-03-20T11:10:27.533Z"
   },
   {
    "duration": 6,
    "start_time": "2022-03-20T11:10:27.542Z"
   },
   {
    "duration": 11,
    "start_time": "2022-03-20T11:10:27.549Z"
   },
   {
    "duration": 77,
    "start_time": "2022-03-20T11:10:27.562Z"
   },
   {
    "duration": 8,
    "start_time": "2022-03-20T11:10:27.641Z"
   },
   {
    "duration": 32,
    "start_time": "2022-03-20T11:10:27.651Z"
   },
   {
    "duration": 47,
    "start_time": "2022-03-20T11:10:27.685Z"
   },
   {
    "duration": 4,
    "start_time": "2022-03-20T11:10:27.734Z"
   },
   {
    "duration": 5,
    "start_time": "2022-03-20T11:10:27.740Z"
   },
   {
    "duration": 35,
    "start_time": "2022-03-20T11:10:27.747Z"
   },
   {
    "duration": 60,
    "start_time": "2022-03-20T11:10:27.784Z"
   },
   {
    "duration": 7,
    "start_time": "2022-03-20T11:10:27.846Z"
   },
   {
    "duration": 20,
    "start_time": "2022-03-20T11:10:27.855Z"
   },
   {
    "duration": 3,
    "start_time": "2022-03-20T11:10:27.877Z"
   },
   {
    "duration": 30,
    "start_time": "2022-03-20T11:10:27.882Z"
   },
   {
    "duration": 27,
    "start_time": "2022-03-20T11:10:27.934Z"
   },
   {
    "duration": 49,
    "start_time": "2022-03-20T11:10:27.962Z"
   },
   {
    "duration": 26,
    "start_time": "2022-03-20T11:10:28.013Z"
   },
   {
    "duration": 31,
    "start_time": "2022-03-20T11:10:28.041Z"
   },
   {
    "duration": 4,
    "start_time": "2022-03-20T11:10:28.074Z"
   },
   {
    "duration": 30,
    "start_time": "2022-03-20T11:10:28.079Z"
   },
   {
    "duration": 22,
    "start_time": "2022-03-20T11:10:28.111Z"
   },
   {
    "duration": 32,
    "start_time": "2022-03-20T11:10:28.135Z"
   },
   {
    "duration": 8,
    "start_time": "2022-03-20T11:10:28.169Z"
   },
   {
    "duration": 9,
    "start_time": "2022-03-20T11:10:28.178Z"
   },
   {
    "duration": 12,
    "start_time": "2022-03-20T11:10:28.188Z"
   },
   {
    "duration": 31,
    "start_time": "2022-03-20T11:10:28.202Z"
   },
   {
    "duration": 20,
    "start_time": "2022-03-20T11:10:28.235Z"
   },
   {
    "duration": 6,
    "start_time": "2022-03-20T11:10:28.256Z"
   },
   {
    "duration": 7,
    "start_time": "2022-03-20T11:10:28.264Z"
   },
   {
    "duration": 8,
    "start_time": "2022-03-20T11:10:28.273Z"
   },
   {
    "duration": 10,
    "start_time": "2022-03-20T11:10:28.283Z"
   },
   {
    "duration": 59,
    "start_time": "2022-03-20T11:10:28.294Z"
   },
   {
    "duration": 25,
    "start_time": "2022-03-20T11:10:28.355Z"
   },
   {
    "duration": 5,
    "start_time": "2022-03-20T11:10:28.382Z"
   },
   {
    "duration": 11,
    "start_time": "2022-03-20T11:10:28.388Z"
   },
   {
    "duration": 41,
    "start_time": "2022-03-20T11:10:28.400Z"
   },
   {
    "duration": 19,
    "start_time": "2022-03-20T11:10:28.443Z"
   },
   {
    "duration": 9,
    "start_time": "2022-03-20T11:10:28.463Z"
   },
   {
    "duration": 69,
    "start_time": "2022-03-20T11:10:28.473Z"
   },
   {
    "duration": 20,
    "start_time": "2022-03-20T11:10:28.544Z"
   },
   {
    "duration": 106,
    "start_time": "2022-03-20T11:11:45.035Z"
   },
   {
    "duration": 11,
    "start_time": "2022-03-20T11:12:54.449Z"
   },
   {
    "duration": 11,
    "start_time": "2022-03-20T11:13:17.308Z"
   },
   {
    "duration": 24,
    "start_time": "2022-03-20T11:13:26.575Z"
   },
   {
    "duration": 27,
    "start_time": "2022-03-20T11:13:30.985Z"
   },
   {
    "duration": 2,
    "start_time": "2022-03-20T11:13:49.864Z"
   },
   {
    "duration": 6,
    "start_time": "2022-03-20T11:13:49.868Z"
   },
   {
    "duration": 6,
    "start_time": "2022-03-20T11:13:49.875Z"
   },
   {
    "duration": 6,
    "start_time": "2022-03-20T11:13:49.882Z"
   },
   {
    "duration": 5,
    "start_time": "2022-03-20T11:13:49.890Z"
   },
   {
    "duration": 5,
    "start_time": "2022-03-20T11:13:49.897Z"
   },
   {
    "duration": 46,
    "start_time": "2022-03-20T11:13:49.904Z"
   },
   {
    "duration": 11,
    "start_time": "2022-03-20T11:13:49.951Z"
   },
   {
    "duration": 21,
    "start_time": "2022-03-20T11:13:49.964Z"
   },
   {
    "duration": 12,
    "start_time": "2022-03-20T11:13:49.987Z"
   },
   {
    "duration": 4,
    "start_time": "2022-03-20T11:13:50.002Z"
   },
   {
    "duration": 194,
    "start_time": "2022-03-20T11:13:50.008Z"
   },
   {
    "duration": 39,
    "start_time": "2022-03-20T11:13:50.204Z"
   },
   {
    "duration": 30,
    "start_time": "2022-03-20T11:13:50.245Z"
   },
   {
    "duration": 8,
    "start_time": "2022-03-20T11:13:50.277Z"
   },
   {
    "duration": 6,
    "start_time": "2022-03-20T11:13:50.287Z"
   },
   {
    "duration": 102,
    "start_time": "2022-03-20T11:13:50.295Z"
   },
   {
    "duration": 19,
    "start_time": "2022-03-20T11:13:50.399Z"
   },
   {
    "duration": 26,
    "start_time": "2022-03-20T11:13:50.419Z"
   },
   {
    "duration": 7,
    "start_time": "2022-03-20T11:13:50.447Z"
   },
   {
    "duration": 5,
    "start_time": "2022-03-20T11:13:50.455Z"
   },
   {
    "duration": 143,
    "start_time": "2022-03-20T11:13:50.461Z"
   },
   {
    "duration": 28,
    "start_time": "2022-03-20T11:13:50.606Z"
   },
   {
    "duration": 31,
    "start_time": "2022-03-20T11:13:50.635Z"
   },
   {
    "duration": 9,
    "start_time": "2022-03-20T11:13:50.668Z"
   },
   {
    "duration": 7,
    "start_time": "2022-03-20T11:13:50.679Z"
   },
   {
    "duration": 3,
    "start_time": "2022-03-20T11:13:50.688Z"
   },
   {
    "duration": 15,
    "start_time": "2022-03-20T11:13:50.733Z"
   },
   {
    "duration": 11,
    "start_time": "2022-03-20T11:13:50.750Z"
   },
   {
    "duration": 12,
    "start_time": "2022-03-20T11:13:50.763Z"
   },
   {
    "duration": 6,
    "start_time": "2022-03-20T11:13:50.777Z"
   },
   {
    "duration": 6,
    "start_time": "2022-03-20T11:13:50.784Z"
   },
   {
    "duration": 5,
    "start_time": "2022-03-20T11:13:50.792Z"
   },
   {
    "duration": 5,
    "start_time": "2022-03-20T11:13:50.799Z"
   },
   {
    "duration": 28,
    "start_time": "2022-03-20T11:13:50.805Z"
   },
   {
    "duration": 9,
    "start_time": "2022-03-20T11:13:50.835Z"
   },
   {
    "duration": 150,
    "start_time": "2022-03-20T11:13:50.846Z"
   },
   {
    "duration": 66,
    "start_time": "2022-03-20T11:13:50.998Z"
   },
   {
    "duration": 51,
    "start_time": "2022-03-20T11:13:51.066Z"
   },
   {
    "duration": 6,
    "start_time": "2022-03-20T11:13:51.131Z"
   },
   {
    "duration": 12,
    "start_time": "2022-03-20T11:13:51.147Z"
   },
   {
    "duration": 27,
    "start_time": "2022-03-20T11:13:51.161Z"
   },
   {
    "duration": 16,
    "start_time": "2022-03-20T11:13:51.190Z"
   },
   {
    "duration": 37,
    "start_time": "2022-03-20T11:13:51.208Z"
   },
   {
    "duration": 6,
    "start_time": "2022-03-20T11:13:51.247Z"
   },
   {
    "duration": 11,
    "start_time": "2022-03-20T11:13:51.255Z"
   },
   {
    "duration": 11,
    "start_time": "2022-03-20T11:13:51.268Z"
   },
   {
    "duration": 19,
    "start_time": "2022-03-20T11:13:51.281Z"
   },
   {
    "duration": 4,
    "start_time": "2022-03-20T11:13:51.301Z"
   },
   {
    "duration": 4,
    "start_time": "2022-03-20T11:13:51.331Z"
   },
   {
    "duration": 8,
    "start_time": "2022-03-20T11:13:51.336Z"
   },
   {
    "duration": 8,
    "start_time": "2022-03-20T11:13:51.346Z"
   },
   {
    "duration": 13,
    "start_time": "2022-03-20T11:13:51.355Z"
   },
   {
    "duration": 79,
    "start_time": "2022-03-20T11:13:51.369Z"
   },
   {
    "duration": 8,
    "start_time": "2022-03-20T11:13:51.450Z"
   },
   {
    "duration": 35,
    "start_time": "2022-03-20T11:13:51.460Z"
   },
   {
    "duration": 54,
    "start_time": "2022-03-20T11:13:51.497Z"
   },
   {
    "duration": 6,
    "start_time": "2022-03-20T11:13:51.553Z"
   },
   {
    "duration": 5,
    "start_time": "2022-03-20T11:13:51.561Z"
   },
   {
    "duration": 38,
    "start_time": "2022-03-20T11:13:51.567Z"
   },
   {
    "duration": 64,
    "start_time": "2022-03-20T11:13:51.607Z"
   },
   {
    "duration": 8,
    "start_time": "2022-03-20T11:13:51.673Z"
   },
   {
    "duration": 18,
    "start_time": "2022-03-20T11:13:51.683Z"
   },
   {
    "duration": 4,
    "start_time": "2022-03-20T11:13:51.731Z"
   },
   {
    "duration": 22,
    "start_time": "2022-03-20T11:13:51.737Z"
   },
   {
    "duration": 25,
    "start_time": "2022-03-20T11:13:51.762Z"
   },
   {
    "duration": 71,
    "start_time": "2022-03-20T11:13:51.789Z"
   },
   {
    "duration": 10,
    "start_time": "2022-03-20T11:13:51.862Z"
   },
   {
    "duration": 30,
    "start_time": "2022-03-20T11:13:51.874Z"
   },
   {
    "duration": 26,
    "start_time": "2022-03-20T11:13:51.906Z"
   },
   {
    "duration": 24,
    "start_time": "2022-03-20T11:13:51.934Z"
   },
   {
    "duration": 4,
    "start_time": "2022-03-20T11:13:51.959Z"
   },
   {
    "duration": 37,
    "start_time": "2022-03-20T11:13:51.965Z"
   },
   {
    "duration": 34,
    "start_time": "2022-03-20T11:13:52.004Z"
   },
   {
    "duration": 10,
    "start_time": "2022-03-20T11:13:52.040Z"
   },
   {
    "duration": 15,
    "start_time": "2022-03-20T11:13:52.052Z"
   },
   {
    "duration": 15,
    "start_time": "2022-03-20T11:13:52.069Z"
   },
   {
    "duration": 20,
    "start_time": "2022-03-20T11:13:52.086Z"
   },
   {
    "duration": 7,
    "start_time": "2022-03-20T11:13:52.134Z"
   },
   {
    "duration": 7,
    "start_time": "2022-03-20T11:13:52.143Z"
   },
   {
    "duration": 8,
    "start_time": "2022-03-20T11:13:52.152Z"
   },
   {
    "duration": 10,
    "start_time": "2022-03-20T11:13:52.162Z"
   },
   {
    "duration": 29,
    "start_time": "2022-03-20T11:13:52.174Z"
   },
   {
    "duration": 27,
    "start_time": "2022-03-20T11:13:52.232Z"
   },
   {
    "duration": 6,
    "start_time": "2022-03-20T11:13:52.261Z"
   },
   {
    "duration": 10,
    "start_time": "2022-03-20T11:13:52.269Z"
   },
   {
    "duration": 19,
    "start_time": "2022-03-20T11:13:52.281Z"
   },
   {
    "duration": 19,
    "start_time": "2022-03-20T11:13:52.331Z"
   },
   {
    "duration": 10,
    "start_time": "2022-03-20T11:13:52.352Z"
   },
   {
    "duration": 68,
    "start_time": "2022-03-20T11:13:52.364Z"
   },
   {
    "duration": 21,
    "start_time": "2022-03-20T11:13:52.435Z"
   },
   {
    "duration": 4,
    "start_time": "2022-03-20T11:13:52.457Z"
   }
  ],
  "kernelspec": {
   "display_name": "Python 3 (ipykernel)",
   "language": "python",
   "name": "python3"
  },
  "language_info": {
   "codemirror_mode": {
    "name": "ipython",
    "version": 3
   },
   "file_extension": ".py",
   "mimetype": "text/x-python",
   "name": "python",
   "nbconvert_exporter": "python",
   "pygments_lexer": "ipython3",
   "version": "3.9.7"
  },
  "toc": {
   "base_numbering": 1,
   "nav_menu": {},
   "number_sections": true,
   "sideBar": true,
   "skip_h1_title": true,
   "title_cell": "Table of Contents",
   "title_sidebar": "Contents",
   "toc_cell": false,
   "toc_position": {},
   "toc_section_display": true,
   "toc_window_display": false
  }
 },
 "nbformat": 4,
 "nbformat_minor": 5
}
