{
 "cells": [
  {
   "cell_type": "markdown",
   "metadata": {
    "id": "E0vqbgi9ay0H"
   },
   "source": [
    "# Анализ пользователей Яндекс.Музыки в Москве и Санкт-Петербурге"
   ]
  },
  {
   "cell_type": "markdown",
   "metadata": {
    "id": "E0vqbgi9ay0H"
   },
   "source": [
    "## 1. Обзор данных"
   ]
  },
  {
   "cell_type": "code",
   "execution_count": 1,
   "metadata": {
    "id": "AXN7PHPN_Zcs"
   },
   "outputs": [],
   "source": [
    "import pandas as pd"
   ]
  },
  {
   "cell_type": "markdown",
   "metadata": {
    "id": "E0vqbgi9ay0H"
   },
   "source": [
    "### 1.1 Функции <a id=\"1.1\"></a>"
   ]
  },
  {
   "cell_type": "markdown",
   "metadata": {
    "id": "E0vqbgi9ay0H"
   },
   "source": [
    "#### 1.1.1 Функция для первичного анализа <a id=\"1.1.1\"></a>"
   ]
  },
  {
   "cell_type": "code",
   "execution_count": 2,
   "metadata": {},
   "outputs": [],
   "source": [
    "def first_rev(df):\n",
    "    print('info')\n",
    "    display(df.info(memory_usage='deep'))\n",
    "    print('describe')\n",
    "    display(df.describe().T.round(3))\n",
    "    print('head')\n",
    "    display(df.head())\n",
    "    print('duplicated')\n",
    "    display(df.duplicated().sum())"
   ]
  },
  {
   "cell_type": "markdown",
   "metadata": {
    "id": "E0vqbgi9ay0H"
   },
   "source": [
    "#### 1.1.2 Функция для быстрой замены неявных дубликатов <a id=\"1.1.2\"></a>"
   ]
  },
  {
   "cell_type": "code",
   "execution_count": 3,
   "metadata": {
    "id": "ErNDkmns_Zct"
   },
   "outputs": [],
   "source": [
    "def replace_genres(wrong_genres, correct_genre):\n",
    "    for wrong_genre in wrong_genres:\n",
    "        df['genre'] = df['genre'].replace(wrong_genre, correct_genre)"
   ]
  },
  {
   "cell_type": "markdown",
   "metadata": {
    "id": "E0vqbgi9ay0H"
   },
   "source": [
    "#### 1.1.3 Функция для оценки информации о самых популярных жанрах в определенный день и время <a id=\"1.1.3\"></a>"
   ]
  },
  {
   "cell_type": "code",
   "execution_count": 4,
   "metadata": {},
   "outputs": [],
   "source": [
    "# функция с 4 параметрами: датафрейм, день недели, время начала, время окончания,\n",
    "# которая возвращает информацию о самых популярных жанрах\n",
    "# в указанный день в заданное время\n",
    "def genre_weekday(df_city, day, time1, time2):\n",
    "    genre_df = df_city[\n",
    "        (df_city['day'] == day)\n",
    "        & (df_city['time'] > time1)\n",
    "        & (df_city['time'] < time2)\n",
    "    ]\n",
    "    # количество записей для каждого из присутствующих жанров\n",
    "    genre_df_count = genre_df.groupby('genre')['genre'].count()\n",
    "    # сортируем по убыванию встречаемости\n",
    "    genre_df_sorted = genre_df_count.sort_values(ascending=False)\n",
    "    # возвращаем топ-10 популярных жанров (в указанный день, в заданное время)\n",
    "    return(genre_df_sorted.head(10))"
   ]
  },
  {
   "cell_type": "markdown",
   "metadata": {
    "id": "E0vqbgi9ay0H"
   },
   "source": [
    "### 1.2 Данные <a id=\"1.2\"></a>"
   ]
  },
  {
   "cell_type": "code",
   "execution_count": 5,
   "metadata": {
    "id": "fFVu7vqh_Zct"
   },
   "outputs": [],
   "source": [
    "df = pd.read_csv(r\"C:\\Users\\csvic\\Desktop\\data analysis\\Проекты для git\\1. Яндекс.Музыка.csv\")"
   ]
  },
  {
   "cell_type": "code",
   "execution_count": 6,
   "metadata": {},
   "outputs": [
    {
     "name": "stdout",
     "output_type": "stream",
     "text": [
      "info\n",
      "<class 'pandas.core.frame.DataFrame'>\n",
      "RangeIndex: 65079 entries, 0 to 65078\n",
      "Data columns (total 7 columns):\n",
      " #   Column    Non-Null Count  Dtype \n",
      "---  ------    --------------  ----- \n",
      " 0     userID  65079 non-null  object\n",
      " 1   Track     63848 non-null  object\n",
      " 2   artist    57876 non-null  object\n",
      " 3   genre     63881 non-null  object\n",
      " 4     City    65079 non-null  object\n",
      " 5   time      65079 non-null  object\n",
      " 6   Day       65079 non-null  object\n",
      "dtypes: object(7)\n",
      "memory usage: 29.1 MB\n"
     ]
    },
    {
     "data": {
      "text/plain": [
       "None"
      ]
     },
     "metadata": {},
     "output_type": "display_data"
    },
    {
     "name": "stdout",
     "output_type": "stream",
     "text": [
      "describe\n"
     ]
    },
    {
     "data": {
      "text/html": [
       "<div>\n",
       "<style scoped>\n",
       "    .dataframe tbody tr th:only-of-type {\n",
       "        vertical-align: middle;\n",
       "    }\n",
       "\n",
       "    .dataframe tbody tr th {\n",
       "        vertical-align: top;\n",
       "    }\n",
       "\n",
       "    .dataframe thead th {\n",
       "        text-align: right;\n",
       "    }\n",
       "</style>\n",
       "<table border=\"1\" class=\"dataframe\">\n",
       "  <thead>\n",
       "    <tr style=\"text-align: right;\">\n",
       "      <th></th>\n",
       "      <th>count</th>\n",
       "      <th>unique</th>\n",
       "      <th>top</th>\n",
       "      <th>freq</th>\n",
       "    </tr>\n",
       "  </thead>\n",
       "  <tbody>\n",
       "    <tr>\n",
       "      <th>userID</th>\n",
       "      <td>65079</td>\n",
       "      <td>41748</td>\n",
       "      <td>A8AE9169</td>\n",
       "      <td>76</td>\n",
       "    </tr>\n",
       "    <tr>\n",
       "      <th>Track</th>\n",
       "      <td>63848</td>\n",
       "      <td>47245</td>\n",
       "      <td>Intro</td>\n",
       "      <td>34</td>\n",
       "    </tr>\n",
       "    <tr>\n",
       "      <th>artist</th>\n",
       "      <td>57876</td>\n",
       "      <td>43605</td>\n",
       "      <td>Sasha</td>\n",
       "      <td>6</td>\n",
       "    </tr>\n",
       "    <tr>\n",
       "      <th>genre</th>\n",
       "      <td>63881</td>\n",
       "      <td>289</td>\n",
       "      <td>pop</td>\n",
       "      <td>8850</td>\n",
       "    </tr>\n",
       "    <tr>\n",
       "      <th>City</th>\n",
       "      <td>65079</td>\n",
       "      <td>2</td>\n",
       "      <td>Moscow</td>\n",
       "      <td>45360</td>\n",
       "    </tr>\n",
       "    <tr>\n",
       "      <th>time</th>\n",
       "      <td>65079</td>\n",
       "      <td>20392</td>\n",
       "      <td>08:14:07</td>\n",
       "      <td>14</td>\n",
       "    </tr>\n",
       "    <tr>\n",
       "      <th>Day</th>\n",
       "      <td>65079</td>\n",
       "      <td>3</td>\n",
       "      <td>Friday</td>\n",
       "      <td>23149</td>\n",
       "    </tr>\n",
       "  </tbody>\n",
       "</table>\n",
       "</div>"
      ],
      "text/plain": [
       "          count unique       top   freq\n",
       "  userID  65079  41748  A8AE9169     76\n",
       "Track     63848  47245     Intro     34\n",
       "artist    57876  43605     Sasha      6\n",
       "genre     63881    289       pop   8850\n",
       "  City    65079      2    Moscow  45360\n",
       "time      65079  20392  08:14:07     14\n",
       "Day       65079      3    Friday  23149"
      ]
     },
     "metadata": {},
     "output_type": "display_data"
    },
    {
     "name": "stdout",
     "output_type": "stream",
     "text": [
      "head\n"
     ]
    },
    {
     "data": {
      "text/html": [
       "<div>\n",
       "<style scoped>\n",
       "    .dataframe tbody tr th:only-of-type {\n",
       "        vertical-align: middle;\n",
       "    }\n",
       "\n",
       "    .dataframe tbody tr th {\n",
       "        vertical-align: top;\n",
       "    }\n",
       "\n",
       "    .dataframe thead th {\n",
       "        text-align: right;\n",
       "    }\n",
       "</style>\n",
       "<table border=\"1\" class=\"dataframe\">\n",
       "  <thead>\n",
       "    <tr style=\"text-align: right;\">\n",
       "      <th></th>\n",
       "      <th>userID</th>\n",
       "      <th>Track</th>\n",
       "      <th>artist</th>\n",
       "      <th>genre</th>\n",
       "      <th>City</th>\n",
       "      <th>time</th>\n",
       "      <th>Day</th>\n",
       "    </tr>\n",
       "  </thead>\n",
       "  <tbody>\n",
       "    <tr>\n",
       "      <th>0</th>\n",
       "      <td>FFB692EC</td>\n",
       "      <td>Kamigata To Boots</td>\n",
       "      <td>The Mass Missile</td>\n",
       "      <td>rock</td>\n",
       "      <td>Saint-Petersburg</td>\n",
       "      <td>20:28:33</td>\n",
       "      <td>Wednesday</td>\n",
       "    </tr>\n",
       "    <tr>\n",
       "      <th>1</th>\n",
       "      <td>55204538</td>\n",
       "      <td>Delayed Because of Accident</td>\n",
       "      <td>Andreas Rönnberg</td>\n",
       "      <td>rock</td>\n",
       "      <td>Moscow</td>\n",
       "      <td>14:07:09</td>\n",
       "      <td>Friday</td>\n",
       "    </tr>\n",
       "    <tr>\n",
       "      <th>2</th>\n",
       "      <td>20EC38</td>\n",
       "      <td>Funiculì funiculà</td>\n",
       "      <td>Mario Lanza</td>\n",
       "      <td>pop</td>\n",
       "      <td>Saint-Petersburg</td>\n",
       "      <td>20:58:07</td>\n",
       "      <td>Wednesday</td>\n",
       "    </tr>\n",
       "    <tr>\n",
       "      <th>3</th>\n",
       "      <td>A3DD03C9</td>\n",
       "      <td>Dragons in the Sunset</td>\n",
       "      <td>Fire + Ice</td>\n",
       "      <td>folk</td>\n",
       "      <td>Saint-Petersburg</td>\n",
       "      <td>08:37:09</td>\n",
       "      <td>Monday</td>\n",
       "    </tr>\n",
       "    <tr>\n",
       "      <th>4</th>\n",
       "      <td>E2DC1FAE</td>\n",
       "      <td>Soul People</td>\n",
       "      <td>Space Echo</td>\n",
       "      <td>dance</td>\n",
       "      <td>Moscow</td>\n",
       "      <td>08:34:34</td>\n",
       "      <td>Monday</td>\n",
       "    </tr>\n",
       "  </tbody>\n",
       "</table>\n",
       "</div>"
      ],
      "text/plain": [
       "     userID                        Track            artist  genre  \\\n",
       "0  FFB692EC            Kamigata To Boots  The Mass Missile   rock   \n",
       "1  55204538  Delayed Because of Accident  Andreas Rönnberg   rock   \n",
       "2    20EC38            Funiculì funiculà       Mario Lanza    pop   \n",
       "3  A3DD03C9        Dragons in the Sunset        Fire + Ice   folk   \n",
       "4  E2DC1FAE                  Soul People        Space Echo  dance   \n",
       "\n",
       "             City        time        Day  \n",
       "0  Saint-Petersburg  20:28:33  Wednesday  \n",
       "1            Moscow  14:07:09     Friday  \n",
       "2  Saint-Petersburg  20:58:07  Wednesday  \n",
       "3  Saint-Petersburg  08:37:09     Monday  \n",
       "4            Moscow  08:34:34     Monday  "
      ]
     },
     "metadata": {},
     "output_type": "display_data"
    },
    {
     "name": "stdout",
     "output_type": "stream",
     "text": [
      "duplicated\n"
     ]
    },
    {
     "data": {
      "text/plain": [
       "3826"
      ]
     },
     "metadata": {},
     "output_type": "display_data"
    }
   ],
   "source": [
    "first_rev(df)"
   ]
  },
  {
   "cell_type": "markdown",
   "metadata": {},
   "source": [
    "### 1.3 Вывод\n",
    "\n",
    "Согласно документации к данным:\n",
    "* `userID` — идентификатор пользователя\n",
    "* `Track` — название трека\n",
    "* `artist` — имя исполнителя\n",
    "* `genre` — название жанра\n",
    "* `City` — город пользователя\n",
    "* `time` — время начала прослушивания\n",
    "* `Day` — день недели\n",
    "\n",
    "**Дополнительно:**\n",
    "* Изменить названия колонок для удобства анализа.\n",
    "* Удалить дубликаты.\n",
    "* Проверить и заменить/удалить пропуски значений в колонках `Track`, `artist` и `genre`.\n",
    "* Оптимизировать тип данных.\n",
    "* Проверить колонку `genre` на неявные дубликаты."
   ]
  },
  {
   "cell_type": "markdown",
   "metadata": {
    "id": "E0vqbgi9ay0H"
   },
   "source": [
    "## 2. Предобработка данных"
   ]
  },
  {
   "cell_type": "markdown",
   "metadata": {},
   "source": [
    "### 2.1 Стиль заголовков <a id=\"2.1\"></a>\n",
    "Изменим стиль заголовков."
   ]
  },
  {
   "cell_type": "code",
   "execution_count": 7,
   "metadata": {
    "id": "oKOTdF_Q_Zct"
   },
   "outputs": [],
   "source": [
    "df.columns = [x.lower().replace(' ', '') for x in df.columns]"
   ]
  },
  {
   "cell_type": "code",
   "execution_count": 8,
   "metadata": {},
   "outputs": [
    {
     "data": {
      "text/plain": [
       "Index(['userid', 'track', 'artist', 'genre', 'city', 'time', 'day'], dtype='object')"
      ]
     },
     "execution_count": 8,
     "metadata": {},
     "output_type": "execute_result"
    }
   ],
   "source": [
    "df.columns"
   ]
  },
  {
   "cell_type": "markdown",
   "metadata": {},
   "source": [
    "### 2.2 Дубликаты <a id=\"2.2\"></a>\n",
    "Удалим явные дубликаты."
   ]
  },
  {
   "cell_type": "code",
   "execution_count": 9,
   "metadata": {},
   "outputs": [],
   "source": [
    "df = df.drop_duplicates().reset_index(drop=True)"
   ]
  },
  {
   "cell_type": "code",
   "execution_count": 10,
   "metadata": {},
   "outputs": [
    {
     "data": {
      "text/plain": [
       "0"
      ]
     },
     "execution_count": 10,
     "metadata": {},
     "output_type": "execute_result"
    }
   ],
   "source": [
    "df.duplicated().sum()"
   ]
  },
  {
   "cell_type": "markdown",
   "metadata": {},
   "source": [
    "### 2.3 Пропуски значений <a id=\"2.3\"></a>\n",
    "\n",
    "* Заменим на `'unknown'` пропуски значений в `track` и `artist`, так как они не важны в данном исследовании.\n",
    "* В идеальном случае надо выявить причину пропусков в `genre`, хоть и доля пропусков всего 2%. В учебном проекте возможности узнать причину пропусков нет, поэтому их также заменим на `'unknown'`, чтобы позже можно было оценить влияние пропусков на ход исследования."
   ]
  },
  {
   "cell_type": "code",
   "execution_count": 11,
   "metadata": {
    "id": "RskX29qr_Zct",
    "scrolled": true
   },
   "outputs": [
    {
     "data": {
      "text/plain": [
       "userid       0\n",
       "track     1155\n",
       "artist    6772\n",
       "genre     1127\n",
       "city         0\n",
       "time         0\n",
       "day          0\n",
       "dtype: int64"
      ]
     },
     "execution_count": 11,
     "metadata": {},
     "output_type": "execute_result"
    }
   ],
   "source": [
    "df.isna().sum()"
   ]
  },
  {
   "cell_type": "code",
   "execution_count": 12,
   "metadata": {},
   "outputs": [
    {
     "data": {
      "text/plain": [
       "userid    0.00\n",
       "track     0.02\n",
       "artist    0.11\n",
       "genre     0.02\n",
       "city      0.00\n",
       "time      0.00\n",
       "day       0.00\n",
       "dtype: float64"
      ]
     },
     "execution_count": 12,
     "metadata": {},
     "output_type": "execute_result"
    }
   ],
   "source": [
    "df.isna().mean().round(2)"
   ]
  },
  {
   "cell_type": "code",
   "execution_count": 13,
   "metadata": {},
   "outputs": [],
   "source": [
    "columns_to_replace = ['track', 'artist', 'genre']\n",
    "for colomns in columns_to_replace:\n",
    "    df[colomns] = df[colomns].fillna('unknown')"
   ]
  },
  {
   "cell_type": "code",
   "execution_count": 14,
   "metadata": {},
   "outputs": [
    {
     "data": {
      "text/plain": [
       "userid    0\n",
       "track     0\n",
       "artist    0\n",
       "genre     0\n",
       "city      0\n",
       "time      0\n",
       "day       0\n",
       "dtype: int64"
      ]
     },
     "execution_count": 14,
     "metadata": {},
     "output_type": "execute_result"
    }
   ],
   "source": [
    "df.isna().sum()"
   ]
  },
  {
   "cell_type": "markdown",
   "metadata": {},
   "source": [
    "### 2.4 Тип данных <a id=\"2.4\"></a>\n",
    "Изменим тип данных для удобства и скорости анализа."
   ]
  },
  {
   "cell_type": "code",
   "execution_count": 15,
   "metadata": {},
   "outputs": [],
   "source": [
    "# не меняем тип данных у колонки `time`, так как используем это значение в функции\n",
    "for column in df.columns:\n",
    "    if column != 'time':\n",
    "        df[column] = df[column].astype('category')"
   ]
  },
  {
   "cell_type": "code",
   "execution_count": 16,
   "metadata": {},
   "outputs": [
    {
     "name": "stdout",
     "output_type": "stream",
     "text": [
      "<class 'pandas.core.frame.DataFrame'>\n",
      "RangeIndex: 61253 entries, 0 to 61252\n",
      "Data columns (total 7 columns):\n",
      " #   Column  Non-Null Count  Dtype   \n",
      "---  ------  --------------  -----   \n",
      " 0   userid  61253 non-null  category\n",
      " 1   track   61253 non-null  category\n",
      " 2   artist  61253 non-null  category\n",
      " 3   genre   61253 non-null  category\n",
      " 4   city    61253 non-null  category\n",
      " 5   time    61253 non-null  object  \n",
      " 6   day     61253 non-null  category\n",
      "dtypes: category(6), object(1)\n",
      "memory usage: 17.4 MB\n"
     ]
    }
   ],
   "source": [
    "df.info(memory_usage='deep')"
   ]
  },
  {
   "cell_type": "markdown",
   "metadata": {},
   "source": [
    "#### 2.4.1 Вывод\n",
    "Изменили тип данных и уменьшили размер используемой памяти с 27.7 MB до 15.2 MB."
   ]
  },
  {
   "cell_type": "markdown",
   "metadata": {},
   "source": [
    "### 2.5 Проверка на нормальность <a id=\"2.5\"></a>\n",
    "Проверим неявные дубликаты и выбивающиеся значения в колонке `genre`."
   ]
  },
  {
   "cell_type": "code",
   "execution_count": 17,
   "metadata": {},
   "outputs": [
    {
     "data": {
      "text/plain": [
       "pop                 8323\n",
       "dance               6367\n",
       "rock                5844\n",
       "electronic          5522\n",
       "hip                 2975\n",
       "                    ... \n",
       "malaysian              1\n",
       "lovers                 1\n",
       "loungeelectronic       1\n",
       "laiko                  1\n",
       "электроника            1\n",
       "Name: genre, Length: 290, dtype: int64"
      ]
     },
     "execution_count": 17,
     "metadata": {},
     "output_type": "execute_result"
    }
   ],
   "source": [
    "df['genre'].value_counts()"
   ]
  },
  {
   "cell_type": "code",
   "execution_count": 18,
   "metadata": {
    "scrolled": true
   },
   "outputs": [
    {
     "data": {
      "text/plain": [
       "['acid',\n",
       " 'acoustic',\n",
       " 'action',\n",
       " 'adult',\n",
       " 'africa',\n",
       " 'afrikaans',\n",
       " 'alternative',\n",
       " 'alternativepunk',\n",
       " 'ambient',\n",
       " 'americana',\n",
       " 'animated',\n",
       " 'anime',\n",
       " 'arabesk',\n",
       " 'arabic',\n",
       " 'arena',\n",
       " 'argentinetango',\n",
       " 'art',\n",
       " 'audiobook',\n",
       " 'author',\n",
       " 'avantgarde',\n",
       " 'axé',\n",
       " 'baile',\n",
       " 'balkan',\n",
       " 'beats',\n",
       " 'bigroom',\n",
       " 'black',\n",
       " 'bluegrass',\n",
       " 'blues',\n",
       " 'bollywood',\n",
       " 'bossa',\n",
       " 'brazilian',\n",
       " 'breakbeat',\n",
       " 'breaks',\n",
       " 'broadway',\n",
       " 'cantautori',\n",
       " 'cantopop',\n",
       " 'canzone',\n",
       " 'caribbean',\n",
       " 'caucasian',\n",
       " 'celtic',\n",
       " 'chamber',\n",
       " 'chanson',\n",
       " 'children',\n",
       " 'chill',\n",
       " 'chinese',\n",
       " 'choral',\n",
       " 'christian',\n",
       " 'christmas',\n",
       " 'classical',\n",
       " 'classicmetal',\n",
       " 'club',\n",
       " 'colombian',\n",
       " 'comedy',\n",
       " 'conjazz',\n",
       " 'contemporary',\n",
       " 'country',\n",
       " 'cuban',\n",
       " 'dance',\n",
       " 'dancehall',\n",
       " 'dancepop',\n",
       " 'dark',\n",
       " 'death',\n",
       " 'deep',\n",
       " 'deutschrock',\n",
       " 'deutschspr',\n",
       " 'dirty',\n",
       " 'disco',\n",
       " 'dnb',\n",
       " 'documentary',\n",
       " 'downbeat',\n",
       " 'downtempo',\n",
       " 'drum',\n",
       " 'dub',\n",
       " 'dubstep',\n",
       " 'eastern',\n",
       " 'easy',\n",
       " 'electronic',\n",
       " 'electropop',\n",
       " 'emo',\n",
       " 'entehno',\n",
       " 'epicmetal',\n",
       " 'estrada',\n",
       " 'ethnic',\n",
       " 'eurofolk',\n",
       " 'european',\n",
       " 'experimental',\n",
       " 'extrememetal',\n",
       " 'fado',\n",
       " 'fairytail',\n",
       " 'film',\n",
       " 'fitness',\n",
       " 'flamenco',\n",
       " 'folk',\n",
       " 'folklore',\n",
       " 'folkmetal',\n",
       " 'folkrock',\n",
       " 'folktronica',\n",
       " 'forró',\n",
       " 'frankreich',\n",
       " 'französisch',\n",
       " 'french',\n",
       " 'funk',\n",
       " 'future',\n",
       " 'gangsta',\n",
       " 'garage',\n",
       " 'german',\n",
       " 'ghazal',\n",
       " 'gitarre',\n",
       " 'glitch',\n",
       " 'gospel',\n",
       " 'gothic',\n",
       " 'grime',\n",
       " 'grunge',\n",
       " 'gypsy',\n",
       " 'handsup',\n",
       " \"hard'n'heavy\",\n",
       " 'hardcore',\n",
       " 'hardstyle',\n",
       " 'hardtechno',\n",
       " 'hip',\n",
       " 'hip-hop',\n",
       " 'hiphop',\n",
       " 'historisch',\n",
       " 'holiday',\n",
       " 'hop',\n",
       " 'horror',\n",
       " 'house',\n",
       " 'hymn',\n",
       " 'idm',\n",
       " 'independent',\n",
       " 'indian',\n",
       " 'indie',\n",
       " 'indipop',\n",
       " 'industrial',\n",
       " 'inspirational',\n",
       " 'instrumental',\n",
       " 'international',\n",
       " 'irish',\n",
       " 'jam',\n",
       " 'japanese',\n",
       " 'jazz',\n",
       " 'jewish',\n",
       " 'jpop',\n",
       " 'jungle',\n",
       " 'k-pop',\n",
       " 'karadeniz',\n",
       " 'karaoke',\n",
       " 'kayokyoku',\n",
       " 'korean',\n",
       " 'laiko',\n",
       " 'latin',\n",
       " 'latino',\n",
       " 'leftfield',\n",
       " 'local',\n",
       " 'lounge',\n",
       " 'loungeelectronic',\n",
       " 'lovers',\n",
       " 'malaysian',\n",
       " 'mandopop',\n",
       " 'marschmusik',\n",
       " 'meditative',\n",
       " 'mediterranean',\n",
       " 'melodic',\n",
       " 'metal',\n",
       " 'metalcore',\n",
       " 'mexican',\n",
       " 'middle',\n",
       " 'minimal',\n",
       " 'miscellaneous',\n",
       " 'modern',\n",
       " 'mood',\n",
       " 'mpb',\n",
       " 'muslim',\n",
       " 'native',\n",
       " 'neoklassik',\n",
       " 'neue',\n",
       " 'new',\n",
       " 'newage',\n",
       " 'newwave',\n",
       " 'nu',\n",
       " 'nujazz',\n",
       " 'numetal',\n",
       " 'oceania',\n",
       " 'old',\n",
       " 'opera',\n",
       " 'orchestral',\n",
       " 'other',\n",
       " 'piano',\n",
       " 'podcasts',\n",
       " 'pop',\n",
       " 'popdance',\n",
       " 'popelectronic',\n",
       " 'popeurodance',\n",
       " 'poprussian',\n",
       " 'post',\n",
       " 'posthardcore',\n",
       " 'postrock',\n",
       " 'power',\n",
       " 'progmetal',\n",
       " 'progressive',\n",
       " 'psychedelic',\n",
       " 'punjabi',\n",
       " 'punk',\n",
       " 'quebecois',\n",
       " 'ragga',\n",
       " 'ram',\n",
       " 'rancheras',\n",
       " 'rap',\n",
       " 'rave',\n",
       " 'reggae',\n",
       " 'reggaeton',\n",
       " 'regional',\n",
       " 'relax',\n",
       " 'religious',\n",
       " 'retro',\n",
       " 'rhythm',\n",
       " 'rnb',\n",
       " 'rnr',\n",
       " 'rock',\n",
       " 'rockabilly',\n",
       " 'rockalternative',\n",
       " 'rockindie',\n",
       " 'rockother',\n",
       " 'romance',\n",
       " 'roots',\n",
       " 'ruspop',\n",
       " 'rusrap',\n",
       " 'rusrock',\n",
       " 'russian',\n",
       " 'salsa',\n",
       " 'samba',\n",
       " 'scenic',\n",
       " 'schlager',\n",
       " 'self',\n",
       " 'sertanejo',\n",
       " 'shanson',\n",
       " 'shoegazing',\n",
       " 'showtunes',\n",
       " 'singer',\n",
       " 'ska',\n",
       " 'skarock',\n",
       " 'slow',\n",
       " 'smooth',\n",
       " 'soft',\n",
       " 'soul',\n",
       " 'soulful',\n",
       " 'sound',\n",
       " 'soundtrack',\n",
       " 'southern',\n",
       " 'specialty',\n",
       " 'speech',\n",
       " 'spiritual',\n",
       " 'sport',\n",
       " 'stonerrock',\n",
       " 'surf',\n",
       " 'swing',\n",
       " 'synthpop',\n",
       " 'synthrock',\n",
       " 'sängerportrait',\n",
       " 'tango',\n",
       " 'tanzorchester',\n",
       " 'taraftar',\n",
       " 'tatar',\n",
       " 'tech',\n",
       " 'techno',\n",
       " 'teen',\n",
       " 'thrash',\n",
       " 'top',\n",
       " 'traditional',\n",
       " 'tradjazz',\n",
       " 'trance',\n",
       " 'tribal',\n",
       " 'trip',\n",
       " 'triphop',\n",
       " 'tropical',\n",
       " 'türk',\n",
       " 'türkçe',\n",
       " 'ukrrock',\n",
       " 'unknown',\n",
       " 'urban',\n",
       " 'uzbek',\n",
       " 'variété',\n",
       " 'vi',\n",
       " 'videogame',\n",
       " 'vocal',\n",
       " 'western',\n",
       " 'world',\n",
       " 'worldbeat',\n",
       " 'ïîï',\n",
       " 'электроника']"
      ]
     },
     "execution_count": 18,
     "metadata": {},
     "output_type": "execute_result"
    }
   ],
   "source": [
    "sorted(df['genre'].unique())"
   ]
  },
  {
   "cell_type": "code",
   "execution_count": 19,
   "metadata": {
    "id": "YN5i2hpmSo09"
   },
   "outputs": [],
   "source": [
    "replace_genres(['hip', 'hop', 'hip-hop'], 'hiphop')\n",
    "replace_genres(['электроника'], 'electronic')\n",
    "replace_genres(['ïîï'], 'unknown')"
   ]
  },
  {
   "cell_type": "code",
   "execution_count": 20,
   "metadata": {},
   "outputs": [
    {
     "data": {
      "text/plain": [
       "['acid',\n",
       " 'acoustic',\n",
       " 'action',\n",
       " 'adult',\n",
       " 'africa',\n",
       " 'afrikaans',\n",
       " 'alternative',\n",
       " 'alternativepunk',\n",
       " 'ambient',\n",
       " 'americana',\n",
       " 'animated',\n",
       " 'anime',\n",
       " 'arabesk',\n",
       " 'arabic',\n",
       " 'arena',\n",
       " 'argentinetango',\n",
       " 'art',\n",
       " 'audiobook',\n",
       " 'author',\n",
       " 'avantgarde',\n",
       " 'axé',\n",
       " 'baile',\n",
       " 'balkan',\n",
       " 'beats',\n",
       " 'bigroom',\n",
       " 'black',\n",
       " 'bluegrass',\n",
       " 'blues',\n",
       " 'bollywood',\n",
       " 'bossa',\n",
       " 'brazilian',\n",
       " 'breakbeat',\n",
       " 'breaks',\n",
       " 'broadway',\n",
       " 'cantautori',\n",
       " 'cantopop',\n",
       " 'canzone',\n",
       " 'caribbean',\n",
       " 'caucasian',\n",
       " 'celtic',\n",
       " 'chamber',\n",
       " 'chanson',\n",
       " 'children',\n",
       " 'chill',\n",
       " 'chinese',\n",
       " 'choral',\n",
       " 'christian',\n",
       " 'christmas',\n",
       " 'classical',\n",
       " 'classicmetal',\n",
       " 'club',\n",
       " 'colombian',\n",
       " 'comedy',\n",
       " 'conjazz',\n",
       " 'contemporary',\n",
       " 'country',\n",
       " 'cuban',\n",
       " 'dance',\n",
       " 'dancehall',\n",
       " 'dancepop',\n",
       " 'dark',\n",
       " 'death',\n",
       " 'deep',\n",
       " 'deutschrock',\n",
       " 'deutschspr',\n",
       " 'dirty',\n",
       " 'disco',\n",
       " 'dnb',\n",
       " 'documentary',\n",
       " 'downbeat',\n",
       " 'downtempo',\n",
       " 'drum',\n",
       " 'dub',\n",
       " 'dubstep',\n",
       " 'eastern',\n",
       " 'easy',\n",
       " 'electronic',\n",
       " 'electropop',\n",
       " 'emo',\n",
       " 'entehno',\n",
       " 'epicmetal',\n",
       " 'estrada',\n",
       " 'ethnic',\n",
       " 'eurofolk',\n",
       " 'european',\n",
       " 'experimental',\n",
       " 'extrememetal',\n",
       " 'fado',\n",
       " 'fairytail',\n",
       " 'film',\n",
       " 'fitness',\n",
       " 'flamenco',\n",
       " 'folk',\n",
       " 'folklore',\n",
       " 'folkmetal',\n",
       " 'folkrock',\n",
       " 'folktronica',\n",
       " 'forró',\n",
       " 'frankreich',\n",
       " 'französisch',\n",
       " 'french',\n",
       " 'funk',\n",
       " 'future',\n",
       " 'gangsta',\n",
       " 'garage',\n",
       " 'german',\n",
       " 'ghazal',\n",
       " 'gitarre',\n",
       " 'glitch',\n",
       " 'gospel',\n",
       " 'gothic',\n",
       " 'grime',\n",
       " 'grunge',\n",
       " 'gypsy',\n",
       " 'handsup',\n",
       " \"hard'n'heavy\",\n",
       " 'hardcore',\n",
       " 'hardstyle',\n",
       " 'hardtechno',\n",
       " 'hiphop',\n",
       " 'historisch',\n",
       " 'holiday',\n",
       " 'horror',\n",
       " 'house',\n",
       " 'hymn',\n",
       " 'idm',\n",
       " 'independent',\n",
       " 'indian',\n",
       " 'indie',\n",
       " 'indipop',\n",
       " 'industrial',\n",
       " 'inspirational',\n",
       " 'instrumental',\n",
       " 'international',\n",
       " 'irish',\n",
       " 'jam',\n",
       " 'japanese',\n",
       " 'jazz',\n",
       " 'jewish',\n",
       " 'jpop',\n",
       " 'jungle',\n",
       " 'k-pop',\n",
       " 'karadeniz',\n",
       " 'karaoke',\n",
       " 'kayokyoku',\n",
       " 'korean',\n",
       " 'laiko',\n",
       " 'latin',\n",
       " 'latino',\n",
       " 'leftfield',\n",
       " 'local',\n",
       " 'lounge',\n",
       " 'loungeelectronic',\n",
       " 'lovers',\n",
       " 'malaysian',\n",
       " 'mandopop',\n",
       " 'marschmusik',\n",
       " 'meditative',\n",
       " 'mediterranean',\n",
       " 'melodic',\n",
       " 'metal',\n",
       " 'metalcore',\n",
       " 'mexican',\n",
       " 'middle',\n",
       " 'minimal',\n",
       " 'miscellaneous',\n",
       " 'modern',\n",
       " 'mood',\n",
       " 'mpb',\n",
       " 'muslim',\n",
       " 'native',\n",
       " 'neoklassik',\n",
       " 'neue',\n",
       " 'new',\n",
       " 'newage',\n",
       " 'newwave',\n",
       " 'nu',\n",
       " 'nujazz',\n",
       " 'numetal',\n",
       " 'oceania',\n",
       " 'old',\n",
       " 'opera',\n",
       " 'orchestral',\n",
       " 'other',\n",
       " 'piano',\n",
       " 'podcasts',\n",
       " 'pop',\n",
       " 'popdance',\n",
       " 'popelectronic',\n",
       " 'popeurodance',\n",
       " 'poprussian',\n",
       " 'post',\n",
       " 'posthardcore',\n",
       " 'postrock',\n",
       " 'power',\n",
       " 'progmetal',\n",
       " 'progressive',\n",
       " 'psychedelic',\n",
       " 'punjabi',\n",
       " 'punk',\n",
       " 'quebecois',\n",
       " 'ragga',\n",
       " 'ram',\n",
       " 'rancheras',\n",
       " 'rap',\n",
       " 'rave',\n",
       " 'reggae',\n",
       " 'reggaeton',\n",
       " 'regional',\n",
       " 'relax',\n",
       " 'religious',\n",
       " 'retro',\n",
       " 'rhythm',\n",
       " 'rnb',\n",
       " 'rnr',\n",
       " 'rock',\n",
       " 'rockabilly',\n",
       " 'rockalternative',\n",
       " 'rockindie',\n",
       " 'rockother',\n",
       " 'romance',\n",
       " 'roots',\n",
       " 'ruspop',\n",
       " 'rusrap',\n",
       " 'rusrock',\n",
       " 'russian',\n",
       " 'salsa',\n",
       " 'samba',\n",
       " 'scenic',\n",
       " 'schlager',\n",
       " 'self',\n",
       " 'sertanejo',\n",
       " 'shanson',\n",
       " 'shoegazing',\n",
       " 'showtunes',\n",
       " 'singer',\n",
       " 'ska',\n",
       " 'skarock',\n",
       " 'slow',\n",
       " 'smooth',\n",
       " 'soft',\n",
       " 'soul',\n",
       " 'soulful',\n",
       " 'sound',\n",
       " 'soundtrack',\n",
       " 'southern',\n",
       " 'specialty',\n",
       " 'speech',\n",
       " 'spiritual',\n",
       " 'sport',\n",
       " 'stonerrock',\n",
       " 'surf',\n",
       " 'swing',\n",
       " 'synthpop',\n",
       " 'synthrock',\n",
       " 'sängerportrait',\n",
       " 'tango',\n",
       " 'tanzorchester',\n",
       " 'taraftar',\n",
       " 'tatar',\n",
       " 'tech',\n",
       " 'techno',\n",
       " 'teen',\n",
       " 'thrash',\n",
       " 'top',\n",
       " 'traditional',\n",
       " 'tradjazz',\n",
       " 'trance',\n",
       " 'tribal',\n",
       " 'trip',\n",
       " 'triphop',\n",
       " 'tropical',\n",
       " 'türk',\n",
       " 'türkçe',\n",
       " 'ukrrock',\n",
       " 'unknown',\n",
       " 'urban',\n",
       " 'uzbek',\n",
       " 'variété',\n",
       " 'vi',\n",
       " 'videogame',\n",
       " 'vocal',\n",
       " 'western',\n",
       " 'world',\n",
       " 'worldbeat']"
      ]
     },
     "execution_count": 20,
     "metadata": {},
     "output_type": "execute_result"
    }
   ],
   "source": [
    "sorted(df['genre'].unique())"
   ]
  },
  {
   "cell_type": "markdown",
   "metadata": {},
   "source": [
    "#### 2.5.1 Вывод\n",
    "Удалили неявные дубликаты в `genre`."
   ]
  },
  {
   "cell_type": "markdown",
   "metadata": {
    "id": "WttZHXH0SqKk"
   },
   "source": [
    "## 3. Проверка гипотез"
   ]
  },
  {
   "cell_type": "markdown",
   "metadata": {
    "id": "Im936VVi_Zcu"
   },
   "source": [
    "### 3.1 Активность пользователей в Москве и Санкт-Петербурге зависит от дня недели и проявляется по-разному <a id=\"3.1\"></a>\n",
    "Проверяем гипотезу по данным о трех днях недели — понедельник, среда и пятница."
   ]
  },
  {
   "cell_type": "code",
   "execution_count": 21,
   "metadata": {},
   "outputs": [
    {
     "data": {
      "text/html": [
       "<div>\n",
       "<style scoped>\n",
       "    .dataframe tbody tr th:only-of-type {\n",
       "        vertical-align: middle;\n",
       "    }\n",
       "\n",
       "    .dataframe tbody tr th {\n",
       "        vertical-align: top;\n",
       "    }\n",
       "\n",
       "    .dataframe thead th {\n",
       "        text-align: right;\n",
       "    }\n",
       "</style>\n",
       "<table border=\"1\" class=\"dataframe\">\n",
       "  <thead>\n",
       "    <tr style=\"text-align: right;\">\n",
       "      <th></th>\n",
       "      <th>track</th>\n",
       "      <th>perc</th>\n",
       "    </tr>\n",
       "    <tr>\n",
       "      <th>city</th>\n",
       "      <th></th>\n",
       "      <th></th>\n",
       "    </tr>\n",
       "  </thead>\n",
       "  <tbody>\n",
       "    <tr>\n",
       "      <th>Moscow</th>\n",
       "      <td>42741</td>\n",
       "      <td>69.8</td>\n",
       "    </tr>\n",
       "    <tr>\n",
       "      <th>Saint-Petersburg</th>\n",
       "      <td>18512</td>\n",
       "      <td>30.2</td>\n",
       "    </tr>\n",
       "  </tbody>\n",
       "</table>\n",
       "</div>"
      ],
      "text/plain": [
       "                  track  perc\n",
       "city                         \n",
       "Moscow            42741  69.8\n",
       "Saint-Petersburg  18512  30.2"
      ]
     },
     "execution_count": 21,
     "metadata": {},
     "output_type": "execute_result"
    }
   ],
   "source": [
    "h1_week = df.pivot_table(index='city', values='track', aggfunc='count')\n",
    "h1_week['perc'] = (h1_week['track'] / h1_week['track'].sum() * 100).round(1)\n",
    "h1_week"
   ]
  },
  {
   "cell_type": "code",
   "execution_count": 22,
   "metadata": {},
   "outputs": [
    {
     "data": {
      "text/html": [
       "<div>\n",
       "<style scoped>\n",
       "    .dataframe tbody tr th:only-of-type {\n",
       "        vertical-align: middle;\n",
       "    }\n",
       "\n",
       "    .dataframe tbody tr th {\n",
       "        vertical-align: top;\n",
       "    }\n",
       "\n",
       "    .dataframe thead th {\n",
       "        text-align: right;\n",
       "    }\n",
       "</style>\n",
       "<table border=\"1\" class=\"dataframe\">\n",
       "  <thead>\n",
       "    <tr style=\"text-align: right;\">\n",
       "      <th>city</th>\n",
       "      <th>Moscow</th>\n",
       "      <th>Saint-Petersburg</th>\n",
       "      <th>perc_msc</th>\n",
       "      <th>perc_spb</th>\n",
       "    </tr>\n",
       "    <tr>\n",
       "      <th>day</th>\n",
       "      <th></th>\n",
       "      <th></th>\n",
       "      <th></th>\n",
       "      <th></th>\n",
       "    </tr>\n",
       "  </thead>\n",
       "  <tbody>\n",
       "    <tr>\n",
       "      <th>Friday</th>\n",
       "      <td>15945</td>\n",
       "      <td>5895</td>\n",
       "      <td>37.3</td>\n",
       "      <td>31.8</td>\n",
       "    </tr>\n",
       "    <tr>\n",
       "      <th>Monday</th>\n",
       "      <td>15740</td>\n",
       "      <td>5614</td>\n",
       "      <td>36.8</td>\n",
       "      <td>30.3</td>\n",
       "    </tr>\n",
       "    <tr>\n",
       "      <th>Wednesday</th>\n",
       "      <td>11056</td>\n",
       "      <td>7003</td>\n",
       "      <td>25.9</td>\n",
       "      <td>37.8</td>\n",
       "    </tr>\n",
       "  </tbody>\n",
       "</table>\n",
       "</div>"
      ],
      "text/plain": [
       "city       Moscow  Saint-Petersburg  perc_msc  perc_spb\n",
       "day                                                    \n",
       "Friday      15945              5895      37.3      31.8\n",
       "Monday      15740              5614      36.8      30.3\n",
       "Wednesday   11056              7003      25.9      37.8"
      ]
     },
     "execution_count": 22,
     "metadata": {},
     "output_type": "execute_result"
    }
   ],
   "source": [
    "h1_days = df.pivot_table(index='city', columns='day', values='track', aggfunc='count').T\n",
    "h1_days['perc_msc'] = (h1_days['Moscow'] / h1_days['Moscow'].sum() * 100).round(1)\n",
    "h1_days['perc_spb'] = (h1_days['Saint-Petersburg'] / h1_days['Saint-Petersburg'].sum() * 100).round(1)\n",
    "h1_days"
   ]
  },
  {
   "cell_type": "markdown",
   "metadata": {
    "id": "Im936VVi_Zcu"
   },
   "source": [
    "#### 3.1.1 Вывод\n",
    "* В выборке 70% данных о слушателях в Москве и 30% — о слушателях в Санкт-Петербурге.\n",
    "\n",
    "**Выявили, что активность пользователей в Москве и Санкт-Петербурге зависит от дня недели и проявляется по-разному:**\n",
    "* В Москве пик прослушиваний приходится на понедельник и пятницу, а в среду заметен спад.\n",
    "* В Петербурге, наоборот, больше слушают музыку по средам. Активность в понедельник и пятницу здесь почти в равной мере уступает среде."
   ]
  },
  {
   "cell_type": "markdown",
   "metadata": {
    "id": "Im936VVi_Zcu"
   },
   "source": [
    "### 3.2 Преобладание жанров в понедельник и пятницу в разное время дня в Москве и Санкт-Петербурге различается <a id=\"3.2\"></a>\n",
    "В понедельник утром в Москве преобладают одни жанры, а в Петербурге — другие. Так же и вечером пятницы преобладают разные жанры — в зависимости от города."
   ]
  },
  {
   "cell_type": "code",
   "execution_count": 23,
   "metadata": {},
   "outputs": [],
   "source": [
    "moscow = df.query('city == \"Moscow\"')\n",
    "spb = df.query('city == \"Saint-Petersburg\"')"
   ]
  },
  {
   "cell_type": "code",
   "execution_count": 24,
   "metadata": {},
   "outputs": [
    {
     "data": {
      "text/plain": [
       "genre\n",
       "pop            781\n",
       "dance          549\n",
       "electronic     480\n",
       "rock           474\n",
       "hiphop         286\n",
       "ruspop         186\n",
       "world          181\n",
       "rusrap         175\n",
       "alternative    164\n",
       "unknown        161\n",
       "Name: genre, dtype: int64"
      ]
     },
     "execution_count": 24,
     "metadata": {},
     "output_type": "execute_result"
    }
   ],
   "source": [
    "genre_weekday(moscow, 'Monday', '07:00', '11:00')"
   ]
  },
  {
   "cell_type": "code",
   "execution_count": 25,
   "metadata": {},
   "outputs": [
    {
     "data": {
      "text/plain": [
       "genre\n",
       "pop            218\n",
       "dance          182\n",
       "rock           162\n",
       "electronic     147\n",
       "hiphop          80\n",
       "ruspop          64\n",
       "alternative     58\n",
       "rusrap          55\n",
       "jazz            44\n",
       "classical       40\n",
       "Name: genre, dtype: int64"
      ]
     },
     "execution_count": 25,
     "metadata": {},
     "output_type": "execute_result"
    }
   ],
   "source": [
    "genre_weekday(spb, 'Monday', '07:00', '11:00')"
   ]
  },
  {
   "cell_type": "code",
   "execution_count": 26,
   "metadata": {},
   "outputs": [
    {
     "data": {
      "text/plain": [
       "genre\n",
       "pop            713\n",
       "rock           517\n",
       "dance          495\n",
       "electronic     482\n",
       "hiphop         273\n",
       "world          208\n",
       "ruspop         170\n",
       "alternative    163\n",
       "classical      163\n",
       "rusrap         142\n",
       "Name: genre, dtype: int64"
      ]
     },
     "execution_count": 26,
     "metadata": {},
     "output_type": "execute_result"
    }
   ],
   "source": [
    "genre_weekday(moscow, 'Friday', '17:00', '23:00')"
   ]
  },
  {
   "cell_type": "code",
   "execution_count": 27,
   "metadata": {},
   "outputs": [
    {
     "data": {
      "text/plain": [
       "genre\n",
       "pop            256\n",
       "electronic     216\n",
       "rock           216\n",
       "dance          210\n",
       "hiphop          97\n",
       "alternative     63\n",
       "jazz            61\n",
       "classical       60\n",
       "rusrap          59\n",
       "world           54\n",
       "Name: genre, dtype: int64"
      ]
     },
     "execution_count": 27,
     "metadata": {},
     "output_type": "execute_result"
    }
   ],
   "source": [
    "genre_weekday(spb, 'Friday', '17:00', '23:00')"
   ]
  },
  {
   "cell_type": "markdown",
   "metadata": {
    "id": "wrCe4MNX_Zcu"
   },
   "source": [
    "#### 3.2.1 Вывод\n",
    "\n",
    "**Сравнение топ-10 жанров в понедельник утром:**\n",
    "\n",
    "1. В Москве и Петербурге слушают похожую музыку. Единственное отличие — в московский рейтинг вошел жанр “world”, а в петербургский — джаз и классика.\n",
    "2. В Москве пропущенных значений оказалось так много, что значение `'unknown'` заняло десятое место среди самых популярных жанров. Значит, пропущенные значения занимают существенную долю в данных и угрожают достоверности исследования.\n",
    "\n",
    "**Сравнение топ-10 жанров в пятницу вечером:**\n",
    "\n",
    "Вечер пятницы не меняет эту картину. Некоторые жанры поднимаются немного выше, другие спускаются, но в целом топ-10 остается тем же самым.\n",
    "\n",
    "<br>Таким образом, **вторая гипотеза подтвердилась лишь частично**:\n",
    "* Пользователи слушают похожую музыку в начале недели и в конце.\n",
    "* Разница между Москвой и Петербургом не слишком выражена. В Москве чаще слушают русскую популярную музыку, в Петербурге — джаз.\n",
    "\n",
    "Однако пропуски в данных ставят под сомнение этот результат. В Москве их так много, что рейтинг топ-10 мог бы выглядеть иначе, если бы не утерянные данные о жанрах."
   ]
  },
  {
   "cell_type": "markdown",
   "metadata": {
    "id": "Im936VVi_Zcu"
   },
   "source": [
    "### 3.3 Пользователи Яндекс.Музыки в Москве и Санкт-Петербурге предпочитают разные жанры музыки <a id=\"3.3\"></a>\n",
    "В Москве чаще слушают поп-музыку, в Петербурге — русский рэп."
   ]
  },
  {
   "cell_type": "code",
   "execution_count": 28,
   "metadata": {},
   "outputs": [
    {
     "data": {
      "text/plain": [
       "genre\n",
       "pop            5892\n",
       "dance          4435\n",
       "rock           3965\n",
       "electronic     3786\n",
       "hiphop         2096\n",
       "classical      1616\n",
       "world          1432\n",
       "alternative    1379\n",
       "ruspop         1372\n",
       "rusrap         1161\n",
       "Name: genre, dtype: int64"
      ]
     },
     "execution_count": 28,
     "metadata": {},
     "output_type": "execute_result"
    }
   ],
   "source": [
    "moscow.groupby('genre')['genre'].count().sort_values(ascending=False).head(10)"
   ]
  },
  {
   "cell_type": "code",
   "execution_count": 29,
   "metadata": {
    "id": "Nz3GdQB1_Zcu"
   },
   "outputs": [
    {
     "data": {
      "text/plain": [
       "genre\n",
       "pop            2431\n",
       "dance          1932\n",
       "rock           1879\n",
       "electronic     1737\n",
       "hiphop          960\n",
       "alternative     649\n",
       "classical       646\n",
       "rusrap          564\n",
       "ruspop          538\n",
       "world           515\n",
       "Name: genre, dtype: int64"
      ]
     },
     "execution_count": 29,
     "metadata": {},
     "output_type": "execute_result"
    }
   ],
   "source": [
    "spb.groupby('genre')['genre'].count().sort_values(ascending=False).head(10)"
   ]
  },
  {
   "cell_type": "markdown",
   "metadata": {
    "id": "wrCe4MNX_Zcu"
   },
   "source": [
    "#### 3.3.1 Вывод\n",
    "\n",
    "**Гипотеза частично подтвердилась:**\n",
    "* Поп-музыка — самый популярный жанр в Москве, как и предполагала гипотеза. Более того, в топ-10 жанров встречается близкий жанр — русская популярная музыка.\n",
    "* Вопреки ожиданиям, рэп одинаково популярен в Москве и Петербурге. "
   ]
  },
  {
   "cell_type": "markdown",
   "metadata": {
    "id": "ykKQ0N65_Zcv"
   },
   "source": [
    "## 4. Итоги исследования <a id=\"4\"></a>"
   ]
  },
  {
   "cell_type": "markdown",
   "metadata": {
    "id": "tjUwbHb3_Zcv"
   },
   "source": [
    "Проверили три гипотезы и установили:\n",
    "\n",
    "**Первая гипотеза полностью подтвердилась.** День недели по-разному влияет на активность пользователей в Москве и Петербурге. \n",
    "\n",
    "\n",
    "**Вторая гипотеза подтвердилась лишь отчасти.** Этот результат мог оказаться иным, если бы не пропуски в данных.\n",
    "\n",
    "Музыкальные предпочтения не сильно меняются в течение недели — будь то Москва или Петербург. Небольшие различия заметны в начале недели, по понедельникам:\n",
    "* в Москве слушают музыку жанра *'world'*,\n",
    "* в Петербурге — джаз и классику.\n",
    "\n",
    "\n",
    "**Третья гипотеза не подтвердилась.** Если различия в предпочтениях и существуют, на основной массе пользователей они незаметны.\n",
    "\n",
    "Во вкусах пользователей Москвы и Петербурга больше общего чем различий. Вопреки ожиданиям, предпочтения жанров в Петербурге напоминают московские."
   ]
  }
 ],
 "metadata": {
  "ExecuteTimeLog": [
   {
    "duration": 802,
    "start_time": "2022-01-28T09:26:01.294Z"
   },
   {
    "duration": 98,
    "start_time": "2022-01-28T09:27:20.805Z"
   },
   {
    "duration": 373,
    "start_time": "2022-01-28T09:27:28.673Z"
   },
   {
    "duration": 116,
    "start_time": "2022-01-28T09:27:34.560Z"
   },
   {
    "duration": 255,
    "start_time": "2022-01-28T09:27:37.464Z"
   },
   {
    "duration": 15,
    "start_time": "2022-01-28T09:27:54.982Z"
   },
   {
    "duration": 25,
    "start_time": "2022-01-28T09:28:10.775Z"
   },
   {
    "duration": 35,
    "start_time": "2022-01-28T09:30:36.069Z"
   },
   {
    "duration": 6,
    "start_time": "2022-01-28T09:37:17.580Z"
   },
   {
    "duration": 37,
    "start_time": "2022-01-28T09:39:17.476Z"
   },
   {
    "duration": 6,
    "start_time": "2022-01-28T09:39:25.478Z"
   },
   {
    "duration": 50,
    "start_time": "2022-01-28T09:40:15.696Z"
   },
   {
    "duration": 166,
    "start_time": "2022-01-28T09:41:24.467Z"
   },
   {
    "duration": 31,
    "start_time": "2022-01-28T09:41:40.987Z"
   },
   {
    "duration": 131,
    "start_time": "2022-01-28T09:41:48.899Z"
   },
   {
    "duration": 48,
    "start_time": "2022-01-28T09:42:04.139Z"
   },
   {
    "duration": 81,
    "start_time": "2022-01-28T09:42:57.334Z"
   },
   {
    "duration": 34,
    "start_time": "2022-01-28T09:42:59.015Z"
   },
   {
    "duration": 3,
    "start_time": "2022-01-28T09:44:18.027Z"
   },
   {
    "duration": 9,
    "start_time": "2022-01-28T09:44:22.001Z"
   },
   {
    "duration": 8578,
    "start_time": "2022-01-28T09:44:35.320Z"
   },
   {
    "duration": 5,
    "start_time": "2022-01-28T09:44:48.747Z"
   },
   {
    "duration": 6,
    "start_time": "2022-01-28T09:45:40.904Z"
   },
   {
    "duration": 5,
    "start_time": "2022-01-28T09:45:49.704Z"
   },
   {
    "duration": 295,
    "start_time": "2022-01-28T09:46:01.560Z"
   },
   {
    "duration": 285,
    "start_time": "2022-01-28T09:47:17.871Z"
   },
   {
    "duration": 6,
    "start_time": "2022-01-28T09:47:23.102Z"
   },
   {
    "duration": 7263,
    "start_time": "2022-01-28T09:47:38.232Z"
   },
   {
    "duration": 8703,
    "start_time": "2022-01-28T09:47:46.377Z"
   },
   {
    "duration": 5,
    "start_time": "2022-01-28T09:47:56.064Z"
   },
   {
    "duration": 27,
    "start_time": "2022-01-28T09:48:52.668Z"
   },
   {
    "duration": 50,
    "start_time": "2022-01-28T09:49:13.664Z"
   },
   {
    "duration": 8,
    "start_time": "2022-01-28T09:49:29.056Z"
   },
   {
    "duration": 191,
    "start_time": "2022-01-28T09:49:34.312Z"
   },
   {
    "duration": 15,
    "start_time": "2022-01-28T09:49:38.795Z"
   },
   {
    "duration": 49,
    "start_time": "2022-01-28T09:49:45.898Z"
   },
   {
    "duration": 7,
    "start_time": "2022-01-28T09:49:54.629Z"
   },
   {
    "duration": 34,
    "start_time": "2022-01-28T09:50:02.748Z"
   },
   {
    "duration": 6,
    "start_time": "2022-01-28T09:50:20.658Z"
   },
   {
    "duration": 23,
    "start_time": "2022-01-28T09:50:41.043Z"
   },
   {
    "duration": 33,
    "start_time": "2022-01-28T09:50:42.564Z"
   },
   {
    "duration": 101,
    "start_time": "2022-01-28T09:51:03.345Z"
   },
   {
    "duration": 89,
    "start_time": "2022-01-28T09:51:23.827Z"
   },
   {
    "duration": 78,
    "start_time": "2022-01-28T09:51:29.349Z"
   },
   {
    "duration": 7800,
    "start_time": "2022-01-28T09:52:58.723Z"
   },
   {
    "duration": 7817,
    "start_time": "2022-01-28T09:53:11.516Z"
   },
   {
    "duration": 11,
    "start_time": "2022-01-28T09:54:22.500Z"
   },
   {
    "duration": 9,
    "start_time": "2022-01-28T09:55:09.099Z"
   },
   {
    "duration": 5,
    "start_time": "2022-01-28T09:57:27.205Z"
   },
   {
    "duration": 4,
    "start_time": "2022-01-28T09:58:09.425Z"
   },
   {
    "duration": 8,
    "start_time": "2022-01-28T09:58:22.187Z"
   },
   {
    "duration": 3,
    "start_time": "2022-01-28T10:02:42.903Z"
   },
   {
    "duration": 560,
    "start_time": "2022-01-28T10:02:47.153Z"
   },
   {
    "duration": 597,
    "start_time": "2022-01-28T10:03:27.989Z"
   },
   {
    "duration": 606,
    "start_time": "2022-01-28T10:03:32.435Z"
   },
   {
    "duration": 5,
    "start_time": "2022-01-28T10:05:50.243Z"
   },
   {
    "duration": 25,
    "start_time": "2022-01-28T10:05:52.046Z"
   },
   {
    "duration": 13,
    "start_time": "2022-01-28T10:05:55.434Z"
   },
   {
    "duration": 46,
    "start_time": "2022-01-28T10:08:57.595Z"
   },
   {
    "duration": 24,
    "start_time": "2022-01-28T10:09:11.460Z"
   },
   {
    "duration": 17,
    "start_time": "2022-01-28T10:09:46.108Z"
   },
   {
    "duration": 58,
    "start_time": "2022-01-28T10:09:57.684Z"
   },
   {
    "duration": 15,
    "start_time": "2022-01-28T10:10:15.885Z"
   },
   {
    "duration": 279,
    "start_time": "2022-01-28T10:46:41.604Z"
   },
   {
    "duration": 105,
    "start_time": "2022-01-28T10:46:49.240Z"
   },
   {
    "duration": 129,
    "start_time": "2022-01-28T10:47:08.311Z"
   },
   {
    "duration": 5,
    "start_time": "2022-01-28T10:47:27.545Z"
   },
   {
    "duration": 27,
    "start_time": "2022-01-28T10:47:30.841Z"
   },
   {
    "duration": 19,
    "start_time": "2022-01-28T10:47:48.033Z"
   },
   {
    "duration": 19,
    "start_time": "2022-01-28T10:48:23.779Z"
   },
   {
    "duration": 21,
    "start_time": "2022-01-28T10:48:25.411Z"
   },
   {
    "duration": 23,
    "start_time": "2022-01-28T10:48:26.718Z"
   },
   {
    "duration": 20,
    "start_time": "2022-01-28T10:48:28.136Z"
   },
   {
    "duration": 399,
    "start_time": "2022-01-28T10:49:22.835Z"
   },
   {
    "duration": 14,
    "start_time": "2022-01-28T10:51:48.721Z"
   },
   {
    "duration": 16,
    "start_time": "2022-01-28T10:53:13.309Z"
   },
   {
    "duration": 12,
    "start_time": "2022-01-28T10:53:24.380Z"
   },
   {
    "duration": 10,
    "start_time": "2022-01-28T10:54:17.066Z"
   },
   {
    "duration": 8,
    "start_time": "2022-01-28T10:54:21.060Z"
   },
   {
    "duration": 14,
    "start_time": "2022-01-28T10:54:42.583Z"
   },
   {
    "duration": 12,
    "start_time": "2022-01-28T10:54:46.776Z"
   },
   {
    "duration": 16,
    "start_time": "2022-01-28T10:54:51.630Z"
   },
   {
    "duration": 5,
    "start_time": "2022-01-28T10:59:20.936Z"
   },
   {
    "duration": 6,
    "start_time": "2022-01-28T11:01:25.453Z"
   },
   {
    "duration": 103,
    "start_time": "2022-01-28T11:02:09.463Z"
   },
   {
    "duration": 824,
    "start_time": "2022-01-28T11:02:16.802Z"
   },
   {
    "duration": 8,
    "start_time": "2022-01-28T11:04:13.231Z"
   },
   {
    "duration": 7,
    "start_time": "2022-01-28T11:04:20.668Z"
   },
   {
    "duration": 867,
    "start_time": "2022-01-28T11:04:24.990Z"
   },
   {
    "duration": 6,
    "start_time": "2022-01-28T11:05:06.504Z"
   },
   {
    "duration": 626,
    "start_time": "2022-01-28T11:05:09.429Z"
   },
   {
    "duration": 5,
    "start_time": "2022-01-28T11:05:38.276Z"
   },
   {
    "duration": 8531,
    "start_time": "2022-01-28T11:05:40.118Z"
   },
   {
    "duration": 100,
    "start_time": "2022-01-28T11:06:14.480Z"
   },
   {
    "duration": 103,
    "start_time": "2022-01-28T11:09:14.325Z"
   },
   {
    "duration": 9,
    "start_time": "2022-01-28T11:19:49.608Z"
   },
   {
    "duration": 628,
    "start_time": "2022-01-28T11:19:51.771Z"
   },
   {
    "duration": 7,
    "start_time": "2022-01-28T11:22:58.497Z"
   },
   {
    "duration": 580,
    "start_time": "2022-01-28T11:23:01.856Z"
   },
   {
    "duration": 5,
    "start_time": "2022-01-28T11:24:53.679Z"
   },
   {
    "duration": 770,
    "start_time": "2022-01-28T11:24:59.041Z"
   },
   {
    "duration": 826,
    "start_time": "2022-01-28T11:25:23.894Z"
   },
   {
    "duration": 6,
    "start_time": "2022-01-28T11:25:59.476Z"
   },
   {
    "duration": 39,
    "start_time": "2022-01-28T11:26:01.558Z"
   },
   {
    "duration": 23,
    "start_time": "2022-01-28T11:27:03.421Z"
   },
   {
    "duration": 25,
    "start_time": "2022-01-28T11:27:06.676Z"
   },
   {
    "duration": 18,
    "start_time": "2022-01-28T11:27:12.010Z"
   },
   {
    "duration": 338,
    "start_time": "2022-01-28T11:30:19.255Z"
   },
   {
    "duration": 31,
    "start_time": "2022-01-28T11:31:21.755Z"
   },
   {
    "duration": 13,
    "start_time": "2022-01-28T11:31:32.328Z"
   },
   {
    "duration": 66,
    "start_time": "2022-01-28T11:32:17.028Z"
   },
   {
    "duration": 13,
    "start_time": "2022-01-28T11:32:27.691Z"
   },
   {
    "duration": 346,
    "start_time": "2022-01-28T11:32:35.357Z"
   },
   {
    "duration": 15,
    "start_time": "2022-01-28T11:32:46.085Z"
   },
   {
    "duration": 7,
    "start_time": "2022-01-28T11:32:49.892Z"
   },
   {
    "duration": 11,
    "start_time": "2022-01-28T11:33:02.905Z"
   },
   {
    "duration": 6,
    "start_time": "2022-01-28T11:33:05.192Z"
   },
   {
    "duration": 302,
    "start_time": "2022-01-28T11:34:25.364Z"
   },
   {
    "duration": 300,
    "start_time": "2022-01-28T11:34:33.654Z"
   },
   {
    "duration": 301,
    "start_time": "2022-01-28T11:34:41.404Z"
   },
   {
    "duration": 284,
    "start_time": "2022-01-28T11:34:52.804Z"
   },
   {
    "duration": 301,
    "start_time": "2022-01-28T11:35:22.391Z"
   },
   {
    "duration": 321,
    "start_time": "2022-01-28T11:35:29.650Z"
   },
   {
    "duration": 285,
    "start_time": "2022-01-28T11:35:45.969Z"
   },
   {
    "duration": 615,
    "start_time": "2022-01-28T11:36:16.086Z"
   },
   {
    "duration": 296,
    "start_time": "2022-01-28T11:36:43.268Z"
   },
   {
    "duration": 294,
    "start_time": "2022-01-28T11:37:05.219Z"
   },
   {
    "duration": 304,
    "start_time": "2022-01-28T11:37:28.256Z"
   },
   {
    "duration": 17,
    "start_time": "2022-01-28T11:37:48.561Z"
   },
   {
    "duration": 8,
    "start_time": "2022-01-28T11:38:31.320Z"
   },
   {
    "duration": 13,
    "start_time": "2022-01-28T11:38:42.218Z"
   },
   {
    "duration": 7,
    "start_time": "2022-01-28T11:38:48.965Z"
   },
   {
    "duration": 7283,
    "start_time": "2022-01-28T11:39:15.629Z"
   },
   {
    "duration": 330,
    "start_time": "2022-01-28T11:39:40.949Z"
   },
   {
    "duration": 367,
    "start_time": "2022-01-28T11:41:00.422Z"
   },
   {
    "duration": 318,
    "start_time": "2022-01-28T11:41:08.452Z"
   },
   {
    "duration": 712,
    "start_time": "2022-01-28T11:41:20.457Z"
   },
   {
    "duration": 179,
    "start_time": "2022-01-28T11:41:25.196Z"
   },
   {
    "duration": 3,
    "start_time": "2022-01-28T11:41:38.686Z"
   },
   {
    "duration": 213,
    "start_time": "2022-01-28T11:42:02.880Z"
   },
   {
    "duration": 40,
    "start_time": "2022-01-28T11:42:03.096Z"
   },
   {
    "duration": 33,
    "start_time": "2022-01-28T11:42:03.140Z"
   },
   {
    "duration": 6,
    "start_time": "2022-01-28T11:42:03.176Z"
   },
   {
    "duration": 61,
    "start_time": "2022-01-28T11:42:03.184Z"
   },
   {
    "duration": 7,
    "start_time": "2022-01-28T11:42:03.248Z"
   },
   {
    "duration": 32,
    "start_time": "2022-01-28T11:42:03.258Z"
   },
   {
    "duration": 64,
    "start_time": "2022-01-28T11:42:03.294Z"
   },
   {
    "duration": 68,
    "start_time": "2022-01-28T11:42:03.362Z"
   },
   {
    "duration": 135,
    "start_time": "2022-01-28T11:42:03.433Z"
   },
   {
    "duration": 113,
    "start_time": "2022-01-28T11:42:03.571Z"
   },
   {
    "duration": 88,
    "start_time": "2022-01-28T11:42:03.687Z"
   },
   {
    "duration": 11,
    "start_time": "2022-01-28T11:42:03.778Z"
   },
   {
    "duration": 6,
    "start_time": "2022-01-28T11:42:03.792Z"
   },
   {
    "duration": 32,
    "start_time": "2022-01-28T11:42:03.823Z"
   },
   {
    "duration": 10,
    "start_time": "2022-01-28T11:42:03.859Z"
   },
   {
    "duration": 53,
    "start_time": "2022-01-28T11:42:03.872Z"
   },
   {
    "duration": 23,
    "start_time": "2022-01-28T11:42:03.929Z"
   },
   {
    "duration": 7,
    "start_time": "2022-01-28T11:42:03.955Z"
   },
   {
    "duration": 60,
    "start_time": "2022-01-28T11:42:03.965Z"
   },
   {
    "duration": 28,
    "start_time": "2022-01-28T11:42:04.028Z"
   },
   {
    "duration": 29,
    "start_time": "2022-01-28T11:42:04.059Z"
   },
   {
    "duration": 46,
    "start_time": "2022-01-28T11:42:04.093Z"
   },
   {
    "duration": 24,
    "start_time": "2022-01-28T11:42:04.143Z"
   },
   {
    "duration": 19,
    "start_time": "2022-01-28T11:42:04.170Z"
   },
   {
    "duration": 13,
    "start_time": "2022-01-28T11:42:04.224Z"
   },
   {
    "duration": 16,
    "start_time": "2022-01-28T11:42:04.240Z"
   },
   {
    "duration": 10,
    "start_time": "2022-01-28T11:42:04.259Z"
   },
   {
    "duration": 5,
    "start_time": "2022-01-28T11:42:04.272Z"
   },
   {
    "duration": 64,
    "start_time": "2022-01-28T11:42:04.279Z"
   },
   {
    "duration": 18,
    "start_time": "2022-01-28T11:42:04.346Z"
   },
   {
    "duration": 58,
    "start_time": "2022-01-28T11:42:04.366Z"
   },
   {
    "duration": 25,
    "start_time": "2022-01-28T11:42:04.428Z"
   },
   {
    "duration": 17,
    "start_time": "2022-01-28T11:42:04.456Z"
   },
   {
    "duration": 7,
    "start_time": "2022-01-28T11:42:04.476Z"
   },
   {
    "duration": 43,
    "start_time": "2022-01-28T11:42:04.486Z"
   },
   {
    "duration": 7,
    "start_time": "2022-01-28T11:42:04.533Z"
   },
   {
    "duration": 625,
    "start_time": "2022-02-06T08:28:39.880Z"
   },
   {
    "duration": 151,
    "start_time": "2022-02-06T08:28:40.507Z"
   },
   {
    "duration": 18,
    "start_time": "2022-02-06T08:28:40.660Z"
   },
   {
    "duration": 36,
    "start_time": "2022-02-06T08:28:40.681Z"
   },
   {
    "duration": 6,
    "start_time": "2022-02-06T08:28:40.719Z"
   },
   {
    "duration": 30,
    "start_time": "2022-02-06T08:28:40.726Z"
   },
   {
    "duration": 9,
    "start_time": "2022-02-06T08:28:40.758Z"
   },
   {
    "duration": 38,
    "start_time": "2022-02-06T08:28:40.770Z"
   },
   {
    "duration": 23,
    "start_time": "2022-02-06T08:28:40.811Z"
   },
   {
    "duration": 28,
    "start_time": "2022-02-06T08:28:40.835Z"
   },
   {
    "duration": 78,
    "start_time": "2022-02-06T08:28:40.865Z"
   },
   {
    "duration": 77,
    "start_time": "2022-02-06T08:28:40.944Z"
   },
   {
    "duration": 55,
    "start_time": "2022-02-06T08:28:41.023Z"
   },
   {
    "duration": 20,
    "start_time": "2022-02-06T08:28:41.080Z"
   },
   {
    "duration": 4,
    "start_time": "2022-02-06T08:28:41.101Z"
   },
   {
    "duration": 22,
    "start_time": "2022-02-06T08:28:41.106Z"
   },
   {
    "duration": 12,
    "start_time": "2022-02-06T08:28:41.130Z"
   },
   {
    "duration": 18,
    "start_time": "2022-02-06T08:28:41.144Z"
   },
   {
    "duration": 13,
    "start_time": "2022-02-06T08:28:41.165Z"
   },
   {
    "duration": 22,
    "start_time": "2022-02-06T08:28:41.180Z"
   },
   {
    "duration": 33,
    "start_time": "2022-02-06T08:28:41.204Z"
   },
   {
    "duration": 23,
    "start_time": "2022-02-06T08:28:41.239Z"
   },
   {
    "duration": 29,
    "start_time": "2022-02-06T08:28:41.266Z"
   },
   {
    "duration": 26,
    "start_time": "2022-02-06T08:28:41.298Z"
   },
   {
    "duration": 18,
    "start_time": "2022-02-06T08:28:41.326Z"
   },
   {
    "duration": 15,
    "start_time": "2022-02-06T08:28:41.346Z"
   },
   {
    "duration": 18,
    "start_time": "2022-02-06T08:28:41.362Z"
   },
   {
    "duration": 25,
    "start_time": "2022-02-06T08:28:41.382Z"
   },
   {
    "duration": 12,
    "start_time": "2022-02-06T08:28:41.409Z"
   },
   {
    "duration": 9,
    "start_time": "2022-02-06T08:28:41.423Z"
   },
   {
    "duration": 34,
    "start_time": "2022-02-06T08:28:41.434Z"
   },
   {
    "duration": 23,
    "start_time": "2022-02-06T08:28:41.470Z"
   },
   {
    "duration": 22,
    "start_time": "2022-02-06T08:28:41.495Z"
   },
   {
    "duration": 14,
    "start_time": "2022-02-06T08:28:41.519Z"
   },
   {
    "duration": 8,
    "start_time": "2022-02-06T08:28:41.534Z"
   },
   {
    "duration": 4,
    "start_time": "2022-02-06T08:28:41.544Z"
   },
   {
    "duration": 11,
    "start_time": "2022-02-06T08:28:41.550Z"
   },
   {
    "duration": 5,
    "start_time": "2022-02-06T08:28:41.563Z"
   },
   {
    "duration": 389,
    "start_time": "2022-02-12T10:10:30.754Z"
   },
   {
    "duration": 168,
    "start_time": "2022-02-12T10:10:41.142Z"
   },
   {
    "duration": 176,
    "start_time": "2022-02-12T10:11:15.166Z"
   },
   {
    "duration": 166,
    "start_time": "2022-02-12T10:11:29.089Z"
   },
   {
    "duration": 560,
    "start_time": "2022-02-12T10:11:39.269Z"
   },
   {
    "duration": 131,
    "start_time": "2022-02-12T10:11:39.831Z"
   },
   {
    "duration": 16,
    "start_time": "2022-02-12T10:11:39.964Z"
   },
   {
    "duration": 10,
    "start_time": "2022-02-12T10:11:51.687Z"
   },
   {
    "duration": 11,
    "start_time": "2022-02-12T10:11:58.931Z"
   },
   {
    "duration": 62,
    "start_time": "2022-02-12T10:12:49.277Z"
   },
   {
    "duration": 2,
    "start_time": "2022-02-12T10:16:47.168Z"
   },
   {
    "duration": 123,
    "start_time": "2022-02-12T10:16:47.172Z"
   },
   {
    "duration": 10,
    "start_time": "2022-02-12T10:16:47.297Z"
   },
   {
    "duration": 26,
    "start_time": "2022-02-12T10:16:47.309Z"
   },
   {
    "duration": 7,
    "start_time": "2022-02-12T10:16:47.336Z"
   },
   {
    "duration": 21,
    "start_time": "2022-02-12T10:16:47.359Z"
   },
   {
    "duration": 3,
    "start_time": "2022-02-12T10:16:47.383Z"
   },
   {
    "duration": 23,
    "start_time": "2022-02-12T10:16:47.388Z"
   },
   {
    "duration": 16,
    "start_time": "2022-02-12T10:16:47.413Z"
   },
   {
    "duration": 40,
    "start_time": "2022-02-12T10:16:47.431Z"
   },
   {
    "duration": 55,
    "start_time": "2022-02-12T10:16:47.473Z"
   },
   {
    "duration": 82,
    "start_time": "2022-02-12T10:16:47.530Z"
   },
   {
    "duration": 58,
    "start_time": "2022-02-12T10:16:47.614Z"
   },
   {
    "duration": 5,
    "start_time": "2022-02-12T10:16:47.674Z"
   },
   {
    "duration": 3,
    "start_time": "2022-02-12T10:16:49.587Z"
   },
   {
    "duration": 61,
    "start_time": "2022-02-12T10:19:46.654Z"
   },
   {
    "duration": 209,
    "start_time": "2022-02-12T20:10:58.599Z"
   },
   {
    "duration": 557,
    "start_time": "2022-02-12T20:11:04.774Z"
   },
   {
    "duration": 140,
    "start_time": "2022-02-12T20:11:05.333Z"
   },
   {
    "duration": 16,
    "start_time": "2022-02-12T20:11:05.475Z"
   },
   {
    "duration": 27,
    "start_time": "2022-02-12T20:11:05.493Z"
   },
   {
    "duration": 4,
    "start_time": "2022-02-12T20:11:05.522Z"
   },
   {
    "duration": 42,
    "start_time": "2022-02-12T20:11:05.528Z"
   },
   {
    "duration": 5,
    "start_time": "2022-02-12T20:11:05.572Z"
   },
   {
    "duration": 25,
    "start_time": "2022-02-12T20:11:05.580Z"
   },
   {
    "duration": 19,
    "start_time": "2022-02-12T20:11:05.608Z"
   },
   {
    "duration": 49,
    "start_time": "2022-02-12T20:11:05.629Z"
   },
   {
    "duration": 58,
    "start_time": "2022-02-12T20:11:05.680Z"
   },
   {
    "duration": 91,
    "start_time": "2022-02-12T20:11:05.741Z"
   },
   {
    "duration": 67,
    "start_time": "2022-02-12T20:11:05.833Z"
   },
   {
    "duration": 6,
    "start_time": "2022-02-12T20:11:05.902Z"
   },
   {
    "duration": 3,
    "start_time": "2022-02-12T20:11:05.910Z"
   },
   {
    "duration": 15,
    "start_time": "2022-02-12T20:11:05.915Z"
   },
   {
    "duration": 6,
    "start_time": "2022-02-12T20:11:05.931Z"
   },
   {
    "duration": 31,
    "start_time": "2022-02-12T20:11:05.938Z"
   },
   {
    "duration": 10,
    "start_time": "2022-02-12T20:11:05.971Z"
   },
   {
    "duration": 4,
    "start_time": "2022-02-12T20:11:05.982Z"
   },
   {
    "duration": 21,
    "start_time": "2022-02-12T20:11:05.987Z"
   },
   {
    "duration": 14,
    "start_time": "2022-02-12T20:11:06.010Z"
   },
   {
    "duration": 42,
    "start_time": "2022-02-12T20:11:06.028Z"
   },
   {
    "duration": 14,
    "start_time": "2022-02-12T20:11:06.072Z"
   },
   {
    "duration": 16,
    "start_time": "2022-02-12T20:11:06.088Z"
   },
   {
    "duration": 14,
    "start_time": "2022-02-12T20:11:06.106Z"
   },
   {
    "duration": 43,
    "start_time": "2022-02-12T20:11:06.122Z"
   },
   {
    "duration": 16,
    "start_time": "2022-02-12T20:11:06.166Z"
   },
   {
    "duration": 12,
    "start_time": "2022-02-12T20:11:06.184Z"
   },
   {
    "duration": 4,
    "start_time": "2022-02-12T20:11:06.197Z"
   },
   {
    "duration": 29,
    "start_time": "2022-02-12T20:11:06.202Z"
   },
   {
    "duration": 12,
    "start_time": "2022-02-12T20:11:06.233Z"
   },
   {
    "duration": 32,
    "start_time": "2022-02-12T20:11:06.246Z"
   },
   {
    "duration": 14,
    "start_time": "2022-02-12T20:11:06.280Z"
   },
   {
    "duration": 9,
    "start_time": "2022-02-12T20:11:06.296Z"
   },
   {
    "duration": 5,
    "start_time": "2022-02-12T20:11:06.306Z"
   },
   {
    "duration": 9,
    "start_time": "2022-02-12T20:11:06.313Z"
   },
   {
    "duration": 6,
    "start_time": "2022-02-12T20:11:06.324Z"
   },
   {
    "duration": 4,
    "start_time": "2022-02-12T20:11:13.627Z"
   },
   {
    "duration": 11,
    "start_time": "2022-02-12T20:11:24.010Z"
   },
   {
    "duration": 5,
    "start_time": "2022-02-12T20:11:31.032Z"
   },
   {
    "duration": 7,
    "start_time": "2022-02-12T20:11:36.612Z"
   },
   {
    "duration": 5,
    "start_time": "2022-02-12T20:11:59.454Z"
   },
   {
    "duration": 5,
    "start_time": "2022-02-12T20:12:11.241Z"
   },
   {
    "duration": 5,
    "start_time": "2022-02-12T20:12:52.850Z"
   },
   {
    "duration": 8,
    "start_time": "2022-02-12T20:12:59.560Z"
   },
   {
    "duration": 5,
    "start_time": "2022-02-12T20:13:07.626Z"
   },
   {
    "duration": 5,
    "start_time": "2022-02-12T20:13:09.740Z"
   },
   {
    "duration": 4,
    "start_time": "2022-02-12T20:13:11.916Z"
   },
   {
    "duration": 4,
    "start_time": "2022-02-12T20:13:22.190Z"
   },
   {
    "duration": 6,
    "start_time": "2022-02-12T20:13:30.377Z"
   },
   {
    "duration": 4,
    "start_time": "2022-02-12T20:13:32.510Z"
   },
   {
    "duration": 6,
    "start_time": "2022-02-12T20:14:25.329Z"
   }
  ],
  "colab": {
   "collapsed_sections": [
    "E0vqbgi9ay0H",
    "VUC88oWjTJw2"
   ],
   "name": "yandex_music_project_2021.2.ipynb",
   "provenance": []
  },
  "kernelspec": {
   "display_name": "Python 3 (ipykernel)",
   "language": "python",
   "name": "python3"
  },
  "language_info": {
   "codemirror_mode": {
    "name": "ipython",
    "version": 3
   },
   "file_extension": ".py",
   "mimetype": "text/x-python",
   "name": "python",
   "nbconvert_exporter": "python",
   "pygments_lexer": "ipython3",
   "version": "3.9.7"
  },
  "toc": {
   "base_numbering": 1,
   "nav_menu": {},
   "number_sections": true,
   "sideBar": true,
   "skip_h1_title": true,
   "title_cell": "Table of Contents",
   "title_sidebar": "Contents",
   "toc_cell": false,
   "toc_position": {},
   "toc_section_display": true,
   "toc_window_display": false
  }
 },
 "nbformat": 4,
 "nbformat_minor": 1
}
