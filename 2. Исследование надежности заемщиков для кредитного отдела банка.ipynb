{
 "cells": [
  {
   "cell_type": "markdown",
   "id": "5989a5c3",
   "metadata": {},
   "source": [
    "# Исследование надежности заемщиков для кредитного отдела банка"
   ]
  },
  {
   "cell_type": "markdown",
   "id": "60a1edce",
   "metadata": {
    "id": "E0vqbgi9ay0H"
   },
   "source": [
    "## 1. Описание проекта\n",
    "\n",
    "**Цель: исследовать влияние семейного положения и количества детей клиента на факт погашения кредита в срок.** Получение данные будут учтены при построении модели кредитного скоринга — специальной системы, которая оценивает способность потенциального заемщика вернуть кредит банку.\n",
    "\n",
    "**Задачи исследования** — ответить на вопросы:\n",
    "1. Есть ли зависимость между количеством детей и возвратом кредита в срок?\n",
    "2. Есть ли зависимость между семейным положением и возвратом кредита в срок?\n",
    "3. Есть ли зависимость между уровнем дохода и возвратом кредита в срок?\n",
    "4. Как разные цели кредита влияют на его возврат в срок?\n",
    "\n",
    "**Данные для анализа:** данные о клиентах банка.\n",
    "\n",
    "**План исследования:**\n",
    "1. [Обзор данных.](#2.1)\n",
    "2. Предобработка данных:\n",
    "    * проверили [явные дубликаты](#3.1),\n",
    "    * проверили [пропуски значений](#3.2),\n",
    "    * оптимизировали [тип данных](#3.3),\n",
    "    * проверили данные на [неявные дубликаты](#3.4).\n",
    "3. Добавление данных:\n",
    "    * категоризировали данные о [доходах](#4.1.1) и [целях кредита](#4.1.2),\n",
    "    * создали словари с данными об [образовании](#4.2.1), [семейном положении](#4.2.2) и [доходе](#4.2.3).\n",
    "4. Исследовательский анализ:\n",
    "    * [зависимость между количеством детей и возвратом кредита в срок](#5.1),\n",
    "    * [зависимость между семейным положением и возвратом кредита в срок](#5.2),\n",
    "    * [зависимость между уровнем дохода и возвратом кредита в срок](#5.3),\n",
    "    * [влияние целей кредита на его возврат в срок](#5.4).\n",
    "5. [Итоги исследования.](#6)"
   ]
  },
  {
   "cell_type": "markdown",
   "id": "7ecf5658",
   "metadata": {},
   "source": [
    "## 2. Обзор данных"
   ]
  },
  {
   "cell_type": "code",
   "execution_count": 1,
   "id": "902f77c8",
   "metadata": {},
   "outputs": [],
   "source": [
    "import pandas as pd\n",
    "import numpy as np"
   ]
  },
  {
   "cell_type": "code",
   "execution_count": 2,
   "id": "638cbaf5",
   "metadata": {},
   "outputs": [],
   "source": [
    "# функция для первичного анализа\n",
    "def first_rev(df):\n",
    "    print('info')\n",
    "    display(df.info(memory_usage='deep'))\n",
    "    print('describe')\n",
    "    display(df.describe().T.round(3))\n",
    "    print('head')\n",
    "    display(df.head())\n",
    "    print('duplicated')\n",
    "    display(df.duplicated().sum())"
   ]
  },
  {
   "cell_type": "markdown",
   "id": "a3366fda",
   "metadata": {
    "id": "E0vqbgi9ay0H"
   },
   "source": [
    "### 2.1 Данные <a id=\"2.1\"></a>"
   ]
  },
  {
   "cell_type": "code",
   "execution_count": 3,
   "id": "9e1a4924",
   "metadata": {},
   "outputs": [],
   "source": [
    "df = pd.read_csv(r\"C:\\Users\\csvic\\Desktop\\data analysis\\Проекты для git\\2. Исследование надежности заемщиков для кредитного отдела банка.csv\")"
   ]
  },
  {
   "cell_type": "code",
   "execution_count": 4,
   "id": "55d461ae",
   "metadata": {},
   "outputs": [
    {
     "name": "stdout",
     "output_type": "stream",
     "text": [
      "info\n",
      "<class 'pandas.core.frame.DataFrame'>\n",
      "RangeIndex: 21525 entries, 0 to 21524\n",
      "Data columns (total 12 columns):\n",
      " #   Column            Non-Null Count  Dtype  \n",
      "---  ------            --------------  -----  \n",
      " 0   children          21525 non-null  int64  \n",
      " 1   days_employed     19351 non-null  float64\n",
      " 2   dob_years         21525 non-null  int64  \n",
      " 3   education         21525 non-null  object \n",
      " 4   education_id      21525 non-null  int64  \n",
      " 5   family_status     21525 non-null  object \n",
      " 6   family_status_id  21525 non-null  int64  \n",
      " 7   gender            21525 non-null  object \n",
      " 8   income_type       21525 non-null  object \n",
      " 9   debt              21525 non-null  int64  \n",
      " 10  total_income      19351 non-null  float64\n",
      " 11  purpose           21525 non-null  object \n",
      "dtypes: float64(2), int64(5), object(5)\n",
      "memory usage: 11.3 MB\n"
     ]
    },
    {
     "data": {
      "text/plain": [
       "None"
      ]
     },
     "metadata": {},
     "output_type": "display_data"
    },
    {
     "name": "stdout",
     "output_type": "stream",
     "text": [
      "describe\n"
     ]
    },
    {
     "data": {
      "text/html": [
       "<div>\n",
       "<style scoped>\n",
       "    .dataframe tbody tr th:only-of-type {\n",
       "        vertical-align: middle;\n",
       "    }\n",
       "\n",
       "    .dataframe tbody tr th {\n",
       "        vertical-align: top;\n",
       "    }\n",
       "\n",
       "    .dataframe thead th {\n",
       "        text-align: right;\n",
       "    }\n",
       "</style>\n",
       "<table border=\"1\" class=\"dataframe\">\n",
       "  <thead>\n",
       "    <tr style=\"text-align: right;\">\n",
       "      <th></th>\n",
       "      <th>count</th>\n",
       "      <th>mean</th>\n",
       "      <th>std</th>\n",
       "      <th>min</th>\n",
       "      <th>25%</th>\n",
       "      <th>50%</th>\n",
       "      <th>75%</th>\n",
       "      <th>max</th>\n",
       "    </tr>\n",
       "  </thead>\n",
       "  <tbody>\n",
       "    <tr>\n",
       "      <th>children</th>\n",
       "      <td>21525.0</td>\n",
       "      <td>0.539</td>\n",
       "      <td>1.382</td>\n",
       "      <td>-1.000</td>\n",
       "      <td>0.000</td>\n",
       "      <td>0.000</td>\n",
       "      <td>1.000</td>\n",
       "      <td>20.000</td>\n",
       "    </tr>\n",
       "    <tr>\n",
       "      <th>days_employed</th>\n",
       "      <td>19351.0</td>\n",
       "      <td>63046.498</td>\n",
       "      <td>140827.312</td>\n",
       "      <td>-18388.950</td>\n",
       "      <td>-2747.424</td>\n",
       "      <td>-1203.370</td>\n",
       "      <td>-291.096</td>\n",
       "      <td>401755.400</td>\n",
       "    </tr>\n",
       "    <tr>\n",
       "      <th>dob_years</th>\n",
       "      <td>21525.0</td>\n",
       "      <td>43.293</td>\n",
       "      <td>12.575</td>\n",
       "      <td>0.000</td>\n",
       "      <td>33.000</td>\n",
       "      <td>42.000</td>\n",
       "      <td>53.000</td>\n",
       "      <td>75.000</td>\n",
       "    </tr>\n",
       "    <tr>\n",
       "      <th>education_id</th>\n",
       "      <td>21525.0</td>\n",
       "      <td>0.817</td>\n",
       "      <td>0.548</td>\n",
       "      <td>0.000</td>\n",
       "      <td>1.000</td>\n",
       "      <td>1.000</td>\n",
       "      <td>1.000</td>\n",
       "      <td>4.000</td>\n",
       "    </tr>\n",
       "    <tr>\n",
       "      <th>family_status_id</th>\n",
       "      <td>21525.0</td>\n",
       "      <td>0.973</td>\n",
       "      <td>1.420</td>\n",
       "      <td>0.000</td>\n",
       "      <td>0.000</td>\n",
       "      <td>0.000</td>\n",
       "      <td>1.000</td>\n",
       "      <td>4.000</td>\n",
       "    </tr>\n",
       "    <tr>\n",
       "      <th>debt</th>\n",
       "      <td>21525.0</td>\n",
       "      <td>0.081</td>\n",
       "      <td>0.273</td>\n",
       "      <td>0.000</td>\n",
       "      <td>0.000</td>\n",
       "      <td>0.000</td>\n",
       "      <td>0.000</td>\n",
       "      <td>1.000</td>\n",
       "    </tr>\n",
       "    <tr>\n",
       "      <th>total_income</th>\n",
       "      <td>19351.0</td>\n",
       "      <td>167422.302</td>\n",
       "      <td>102971.566</td>\n",
       "      <td>20667.264</td>\n",
       "      <td>103053.153</td>\n",
       "      <td>145017.938</td>\n",
       "      <td>203435.068</td>\n",
       "      <td>2265604.029</td>\n",
       "    </tr>\n",
       "  </tbody>\n",
       "</table>\n",
       "</div>"
      ],
      "text/plain": [
       "                    count        mean         std        min         25%  \\\n",
       "children          21525.0       0.539       1.382     -1.000       0.000   \n",
       "days_employed     19351.0   63046.498  140827.312 -18388.950   -2747.424   \n",
       "dob_years         21525.0      43.293      12.575      0.000      33.000   \n",
       "education_id      21525.0       0.817       0.548      0.000       1.000   \n",
       "family_status_id  21525.0       0.973       1.420      0.000       0.000   \n",
       "debt              21525.0       0.081       0.273      0.000       0.000   \n",
       "total_income      19351.0  167422.302  102971.566  20667.264  103053.153   \n",
       "\n",
       "                         50%         75%          max  \n",
       "children               0.000       1.000       20.000  \n",
       "days_employed      -1203.370    -291.096   401755.400  \n",
       "dob_years             42.000      53.000       75.000  \n",
       "education_id           1.000       1.000        4.000  \n",
       "family_status_id       0.000       1.000        4.000  \n",
       "debt                   0.000       0.000        1.000  \n",
       "total_income      145017.938  203435.068  2265604.029  "
      ]
     },
     "metadata": {},
     "output_type": "display_data"
    },
    {
     "name": "stdout",
     "output_type": "stream",
     "text": [
      "head\n"
     ]
    },
    {
     "data": {
      "text/html": [
       "<div>\n",
       "<style scoped>\n",
       "    .dataframe tbody tr th:only-of-type {\n",
       "        vertical-align: middle;\n",
       "    }\n",
       "\n",
       "    .dataframe tbody tr th {\n",
       "        vertical-align: top;\n",
       "    }\n",
       "\n",
       "    .dataframe thead th {\n",
       "        text-align: right;\n",
       "    }\n",
       "</style>\n",
       "<table border=\"1\" class=\"dataframe\">\n",
       "  <thead>\n",
       "    <tr style=\"text-align: right;\">\n",
       "      <th></th>\n",
       "      <th>children</th>\n",
       "      <th>days_employed</th>\n",
       "      <th>dob_years</th>\n",
       "      <th>education</th>\n",
       "      <th>education_id</th>\n",
       "      <th>family_status</th>\n",
       "      <th>family_status_id</th>\n",
       "      <th>gender</th>\n",
       "      <th>income_type</th>\n",
       "      <th>debt</th>\n",
       "      <th>total_income</th>\n",
       "      <th>purpose</th>\n",
       "    </tr>\n",
       "  </thead>\n",
       "  <tbody>\n",
       "    <tr>\n",
       "      <th>0</th>\n",
       "      <td>1</td>\n",
       "      <td>-8437.673028</td>\n",
       "      <td>42</td>\n",
       "      <td>высшее</td>\n",
       "      <td>0</td>\n",
       "      <td>женат / замужем</td>\n",
       "      <td>0</td>\n",
       "      <td>F</td>\n",
       "      <td>сотрудник</td>\n",
       "      <td>0</td>\n",
       "      <td>253875.639453</td>\n",
       "      <td>покупка жилья</td>\n",
       "    </tr>\n",
       "    <tr>\n",
       "      <th>1</th>\n",
       "      <td>1</td>\n",
       "      <td>-4024.803754</td>\n",
       "      <td>36</td>\n",
       "      <td>среднее</td>\n",
       "      <td>1</td>\n",
       "      <td>женат / замужем</td>\n",
       "      <td>0</td>\n",
       "      <td>F</td>\n",
       "      <td>сотрудник</td>\n",
       "      <td>0</td>\n",
       "      <td>112080.014102</td>\n",
       "      <td>приобретение автомобиля</td>\n",
       "    </tr>\n",
       "    <tr>\n",
       "      <th>2</th>\n",
       "      <td>0</td>\n",
       "      <td>-5623.422610</td>\n",
       "      <td>33</td>\n",
       "      <td>Среднее</td>\n",
       "      <td>1</td>\n",
       "      <td>женат / замужем</td>\n",
       "      <td>0</td>\n",
       "      <td>M</td>\n",
       "      <td>сотрудник</td>\n",
       "      <td>0</td>\n",
       "      <td>145885.952297</td>\n",
       "      <td>покупка жилья</td>\n",
       "    </tr>\n",
       "    <tr>\n",
       "      <th>3</th>\n",
       "      <td>3</td>\n",
       "      <td>-4124.747207</td>\n",
       "      <td>32</td>\n",
       "      <td>среднее</td>\n",
       "      <td>1</td>\n",
       "      <td>женат / замужем</td>\n",
       "      <td>0</td>\n",
       "      <td>M</td>\n",
       "      <td>сотрудник</td>\n",
       "      <td>0</td>\n",
       "      <td>267628.550329</td>\n",
       "      <td>дополнительное образование</td>\n",
       "    </tr>\n",
       "    <tr>\n",
       "      <th>4</th>\n",
       "      <td>0</td>\n",
       "      <td>340266.072047</td>\n",
       "      <td>53</td>\n",
       "      <td>среднее</td>\n",
       "      <td>1</td>\n",
       "      <td>гражданский брак</td>\n",
       "      <td>1</td>\n",
       "      <td>F</td>\n",
       "      <td>пенсионер</td>\n",
       "      <td>0</td>\n",
       "      <td>158616.077870</td>\n",
       "      <td>сыграть свадьбу</td>\n",
       "    </tr>\n",
       "  </tbody>\n",
       "</table>\n",
       "</div>"
      ],
      "text/plain": [
       "   children  days_employed  dob_years education  education_id  \\\n",
       "0         1   -8437.673028         42    высшее             0   \n",
       "1         1   -4024.803754         36   среднее             1   \n",
       "2         0   -5623.422610         33   Среднее             1   \n",
       "3         3   -4124.747207         32   среднее             1   \n",
       "4         0  340266.072047         53   среднее             1   \n",
       "\n",
       "      family_status  family_status_id gender income_type  debt   total_income  \\\n",
       "0   женат / замужем                 0      F   сотрудник     0  253875.639453   \n",
       "1   женат / замужем                 0      F   сотрудник     0  112080.014102   \n",
       "2   женат / замужем                 0      M   сотрудник     0  145885.952297   \n",
       "3   женат / замужем                 0      M   сотрудник     0  267628.550329   \n",
       "4  гражданский брак                 1      F   пенсионер     0  158616.077870   \n",
       "\n",
       "                      purpose  \n",
       "0               покупка жилья  \n",
       "1     приобретение автомобиля  \n",
       "2               покупка жилья  \n",
       "3  дополнительное образование  \n",
       "4             сыграть свадьбу  "
      ]
     },
     "metadata": {},
     "output_type": "display_data"
    },
    {
     "name": "stdout",
     "output_type": "stream",
     "text": [
      "duplicated\n"
     ]
    },
    {
     "data": {
      "text/plain": [
       "54"
      ]
     },
     "metadata": {},
     "output_type": "display_data"
    }
   ],
   "source": [
    "first_rev(df)"
   ]
  },
  {
   "cell_type": "markdown",
   "id": "0b1ccb92",
   "metadata": {},
   "source": [
    "### 2.1 Вывод\n",
    "\n",
    "Согласно документации к данным:\n",
    "* `children` — количество детей в семье\n",
    "* `days_employed` — общий трудовой стаж в днях\n",
    "* `dob_years` — возраст клиента в годах\n",
    "* `education` — уровень образования клиента\n",
    "* `education_id` — идентификатор уровня образования\n",
    "* `family_status` — семейное положение\n",
    "* `family_status_id` — идентификатор семейного положения\n",
    "* `gender` — пол клиента\n",
    "* `income_type` — тип занятости\n",
    "* `debt` — имел ли задолженность по возврату кредитов\n",
    "* `total_income` — ежемесячный доход\n",
    "* `purpose` — цель получения кредита\n",
    "\n",
    "**Дополнительно:**\n",
    "* Удалить дубликаты.\n",
    "* Проверить и заменить/удалить пропуски значений в колонках `days_employed` и `total_income`.\n",
    "* Оптимизировать тип данных.\n",
    "* Проверить датафрейм на неявные дубликаты."
   ]
  },
  {
   "cell_type": "markdown",
   "id": "8231b1e5",
   "metadata": {
    "id": "E0vqbgi9ay0H"
   },
   "source": [
    "## 3. Предобработка данных"
   ]
  },
  {
   "cell_type": "markdown",
   "id": "82d4022a",
   "metadata": {},
   "source": [
    "### 3.1 Дубликаты <a id=\"3.1\"></a>\n",
    "Удалим явные дубликаты."
   ]
  },
  {
   "cell_type": "code",
   "execution_count": 5,
   "id": "4366bd98",
   "metadata": {},
   "outputs": [],
   "source": [
    "df = df.drop_duplicates().reset_index(drop=True)"
   ]
  },
  {
   "cell_type": "code",
   "execution_count": 6,
   "id": "39a05d94",
   "metadata": {},
   "outputs": [
    {
     "data": {
      "text/plain": [
       "0"
      ]
     },
     "execution_count": 6,
     "metadata": {},
     "output_type": "execute_result"
    }
   ],
   "source": [
    "df.duplicated().sum()"
   ]
  },
  {
   "cell_type": "markdown",
   "id": "35c2250e",
   "metadata": {},
   "source": [
    "### 3.2 Пропуски значений <a id=\"3.2\"></a>"
   ]
  },
  {
   "cell_type": "code",
   "execution_count": 7,
   "id": "d2ed6edc",
   "metadata": {
    "scrolled": true
   },
   "outputs": [
    {
     "data": {
      "text/plain": [
       "children               0\n",
       "days_employed       2120\n",
       "dob_years              0\n",
       "education              0\n",
       "education_id           0\n",
       "family_status          0\n",
       "family_status_id       0\n",
       "gender                 0\n",
       "income_type            0\n",
       "debt                   0\n",
       "total_income        2120\n",
       "purpose                0\n",
       "dtype: int64"
      ]
     },
     "execution_count": 7,
     "metadata": {},
     "output_type": "execute_result"
    }
   ],
   "source": [
    "df.isna().sum()"
   ]
  },
  {
   "cell_type": "code",
   "execution_count": 8,
   "id": "693c2b09",
   "metadata": {},
   "outputs": [
    {
     "data": {
      "text/plain": [
       "children            0.0\n",
       "days_employed       0.1\n",
       "dob_years           0.0\n",
       "education           0.0\n",
       "education_id        0.0\n",
       "family_status       0.0\n",
       "family_status_id    0.0\n",
       "gender              0.0\n",
       "income_type         0.0\n",
       "debt                0.0\n",
       "total_income        0.1\n",
       "purpose             0.0\n",
       "dtype: float64"
      ]
     },
     "execution_count": 8,
     "metadata": {},
     "output_type": "execute_result"
    }
   ],
   "source": [
    "df.isna().mean().round(2)"
   ]
  },
  {
   "cell_type": "code",
   "execution_count": 9,
   "id": "8db3cc37",
   "metadata": {},
   "outputs": [
    {
     "data": {
      "text/html": [
       "<div>\n",
       "<style scoped>\n",
       "    .dataframe tbody tr th:only-of-type {\n",
       "        vertical-align: middle;\n",
       "    }\n",
       "\n",
       "    .dataframe tbody tr th {\n",
       "        vertical-align: top;\n",
       "    }\n",
       "\n",
       "    .dataframe thead th {\n",
       "        text-align: right;\n",
       "    }\n",
       "</style>\n",
       "<table border=\"1\" class=\"dataframe\">\n",
       "  <thead>\n",
       "    <tr style=\"text-align: right;\">\n",
       "      <th></th>\n",
       "      <th>children</th>\n",
       "      <th>days_employed</th>\n",
       "      <th>dob_years</th>\n",
       "      <th>education</th>\n",
       "      <th>education_id</th>\n",
       "      <th>family_status</th>\n",
       "      <th>family_status_id</th>\n",
       "      <th>gender</th>\n",
       "      <th>income_type</th>\n",
       "      <th>debt</th>\n",
       "      <th>total_income</th>\n",
       "      <th>purpose</th>\n",
       "    </tr>\n",
       "  </thead>\n",
       "  <tbody>\n",
       "    <tr>\n",
       "      <th>12</th>\n",
       "      <td>0</td>\n",
       "      <td>NaN</td>\n",
       "      <td>65</td>\n",
       "      <td>среднее</td>\n",
       "      <td>1</td>\n",
       "      <td>гражданский брак</td>\n",
       "      <td>1</td>\n",
       "      <td>M</td>\n",
       "      <td>пенсионер</td>\n",
       "      <td>0</td>\n",
       "      <td>NaN</td>\n",
       "      <td>сыграть свадьбу</td>\n",
       "    </tr>\n",
       "    <tr>\n",
       "      <th>26</th>\n",
       "      <td>0</td>\n",
       "      <td>NaN</td>\n",
       "      <td>41</td>\n",
       "      <td>среднее</td>\n",
       "      <td>1</td>\n",
       "      <td>женат / замужем</td>\n",
       "      <td>0</td>\n",
       "      <td>M</td>\n",
       "      <td>госслужащий</td>\n",
       "      <td>0</td>\n",
       "      <td>NaN</td>\n",
       "      <td>образование</td>\n",
       "    </tr>\n",
       "    <tr>\n",
       "      <th>29</th>\n",
       "      <td>0</td>\n",
       "      <td>NaN</td>\n",
       "      <td>63</td>\n",
       "      <td>среднее</td>\n",
       "      <td>1</td>\n",
       "      <td>Не женат / не замужем</td>\n",
       "      <td>4</td>\n",
       "      <td>F</td>\n",
       "      <td>пенсионер</td>\n",
       "      <td>0</td>\n",
       "      <td>NaN</td>\n",
       "      <td>строительство жилой недвижимости</td>\n",
       "    </tr>\n",
       "    <tr>\n",
       "      <th>41</th>\n",
       "      <td>0</td>\n",
       "      <td>NaN</td>\n",
       "      <td>50</td>\n",
       "      <td>среднее</td>\n",
       "      <td>1</td>\n",
       "      <td>женат / замужем</td>\n",
       "      <td>0</td>\n",
       "      <td>F</td>\n",
       "      <td>госслужащий</td>\n",
       "      <td>0</td>\n",
       "      <td>NaN</td>\n",
       "      <td>сделка с подержанным автомобилем</td>\n",
       "    </tr>\n",
       "    <tr>\n",
       "      <th>55</th>\n",
       "      <td>0</td>\n",
       "      <td>NaN</td>\n",
       "      <td>54</td>\n",
       "      <td>среднее</td>\n",
       "      <td>1</td>\n",
       "      <td>гражданский брак</td>\n",
       "      <td>1</td>\n",
       "      <td>F</td>\n",
       "      <td>пенсионер</td>\n",
       "      <td>1</td>\n",
       "      <td>NaN</td>\n",
       "      <td>сыграть свадьбу</td>\n",
       "    </tr>\n",
       "    <tr>\n",
       "      <th>...</th>\n",
       "      <td>...</td>\n",
       "      <td>...</td>\n",
       "      <td>...</td>\n",
       "      <td>...</td>\n",
       "      <td>...</td>\n",
       "      <td>...</td>\n",
       "      <td>...</td>\n",
       "      <td>...</td>\n",
       "      <td>...</td>\n",
       "      <td>...</td>\n",
       "      <td>...</td>\n",
       "      <td>...</td>\n",
       "    </tr>\n",
       "    <tr>\n",
       "      <th>21435</th>\n",
       "      <td>2</td>\n",
       "      <td>NaN</td>\n",
       "      <td>47</td>\n",
       "      <td>Среднее</td>\n",
       "      <td>1</td>\n",
       "      <td>женат / замужем</td>\n",
       "      <td>0</td>\n",
       "      <td>M</td>\n",
       "      <td>компаньон</td>\n",
       "      <td>0</td>\n",
       "      <td>NaN</td>\n",
       "      <td>сделка с автомобилем</td>\n",
       "    </tr>\n",
       "    <tr>\n",
       "      <th>21441</th>\n",
       "      <td>1</td>\n",
       "      <td>NaN</td>\n",
       "      <td>50</td>\n",
       "      <td>среднее</td>\n",
       "      <td>1</td>\n",
       "      <td>гражданский брак</td>\n",
       "      <td>1</td>\n",
       "      <td>F</td>\n",
       "      <td>сотрудник</td>\n",
       "      <td>0</td>\n",
       "      <td>NaN</td>\n",
       "      <td>свадьба</td>\n",
       "    </tr>\n",
       "    <tr>\n",
       "      <th>21443</th>\n",
       "      <td>0</td>\n",
       "      <td>NaN</td>\n",
       "      <td>48</td>\n",
       "      <td>ВЫСШЕЕ</td>\n",
       "      <td>0</td>\n",
       "      <td>женат / замужем</td>\n",
       "      <td>0</td>\n",
       "      <td>F</td>\n",
       "      <td>компаньон</td>\n",
       "      <td>0</td>\n",
       "      <td>NaN</td>\n",
       "      <td>строительство недвижимости</td>\n",
       "    </tr>\n",
       "    <tr>\n",
       "      <th>21448</th>\n",
       "      <td>1</td>\n",
       "      <td>NaN</td>\n",
       "      <td>42</td>\n",
       "      <td>среднее</td>\n",
       "      <td>1</td>\n",
       "      <td>женат / замужем</td>\n",
       "      <td>0</td>\n",
       "      <td>F</td>\n",
       "      <td>сотрудник</td>\n",
       "      <td>0</td>\n",
       "      <td>NaN</td>\n",
       "      <td>строительство жилой недвижимости</td>\n",
       "    </tr>\n",
       "    <tr>\n",
       "      <th>21456</th>\n",
       "      <td>2</td>\n",
       "      <td>NaN</td>\n",
       "      <td>28</td>\n",
       "      <td>среднее</td>\n",
       "      <td>1</td>\n",
       "      <td>женат / замужем</td>\n",
       "      <td>0</td>\n",
       "      <td>F</td>\n",
       "      <td>сотрудник</td>\n",
       "      <td>0</td>\n",
       "      <td>NaN</td>\n",
       "      <td>приобретение автомобиля</td>\n",
       "    </tr>\n",
       "  </tbody>\n",
       "</table>\n",
       "<p>2120 rows × 12 columns</p>\n",
       "</div>"
      ],
      "text/plain": [
       "       children  days_employed  dob_years education  education_id  \\\n",
       "12            0            NaN         65   среднее             1   \n",
       "26            0            NaN         41   среднее             1   \n",
       "29            0            NaN         63   среднее             1   \n",
       "41            0            NaN         50   среднее             1   \n",
       "55            0            NaN         54   среднее             1   \n",
       "...         ...            ...        ...       ...           ...   \n",
       "21435         2            NaN         47   Среднее             1   \n",
       "21441         1            NaN         50   среднее             1   \n",
       "21443         0            NaN         48    ВЫСШЕЕ             0   \n",
       "21448         1            NaN         42   среднее             1   \n",
       "21456         2            NaN         28   среднее             1   \n",
       "\n",
       "               family_status  family_status_id gender  income_type  debt  \\\n",
       "12          гражданский брак                 1      M    пенсионер     0   \n",
       "26           женат / замужем                 0      M  госслужащий     0   \n",
       "29     Не женат / не замужем                 4      F    пенсионер     0   \n",
       "41           женат / замужем                 0      F  госслужащий     0   \n",
       "55          гражданский брак                 1      F    пенсионер     1   \n",
       "...                      ...               ...    ...          ...   ...   \n",
       "21435        женат / замужем                 0      M    компаньон     0   \n",
       "21441       гражданский брак                 1      F    сотрудник     0   \n",
       "21443        женат / замужем                 0      F    компаньон     0   \n",
       "21448        женат / замужем                 0      F    сотрудник     0   \n",
       "21456        женат / замужем                 0      F    сотрудник     0   \n",
       "\n",
       "       total_income                           purpose  \n",
       "12              NaN                   сыграть свадьбу  \n",
       "26              NaN                       образование  \n",
       "29              NaN  строительство жилой недвижимости  \n",
       "41              NaN  сделка с подержанным автомобилем  \n",
       "55              NaN                   сыграть свадьбу  \n",
       "...             ...                               ...  \n",
       "21435           NaN              сделка с автомобилем  \n",
       "21441           NaN                           свадьба  \n",
       "21443           NaN        строительство недвижимости  \n",
       "21448           NaN  строительство жилой недвижимости  \n",
       "21456           NaN           приобретение автомобиля  \n",
       "\n",
       "[2120 rows x 12 columns]"
      ]
     },
     "execution_count": 9,
     "metadata": {},
     "output_type": "execute_result"
    }
   ],
   "source": [
    "df[\n",
    "    df['days_employed'].isna()\n",
    "    &df['total_income'].isna()\n",
    "]"
   ]
  },
  {
   "cell_type": "code",
   "execution_count": 10,
   "id": "4d3c05f0",
   "metadata": {},
   "outputs": [],
   "source": [
    "df['days_employed'] = df['days_employed'].fillna(abs(df['days_employed']).median())\n",
    "df['total_income'] = df['total_income'].fillna(df.groupby('income_type')['total_income'].transform('median'))"
   ]
  },
  {
   "cell_type": "code",
   "execution_count": 11,
   "id": "22c10ca6",
   "metadata": {},
   "outputs": [
    {
     "data": {
      "text/plain": [
       "children            0\n",
       "days_employed       0\n",
       "dob_years           0\n",
       "education           0\n",
       "education_id        0\n",
       "family_status       0\n",
       "family_status_id    0\n",
       "gender              0\n",
       "income_type         0\n",
       "debt                0\n",
       "total_income        0\n",
       "purpose             0\n",
       "dtype: int64"
      ]
     },
     "execution_count": 11,
     "metadata": {},
     "output_type": "execute_result"
    }
   ],
   "source": [
    "df.isna().sum()"
   ]
  },
  {
   "cell_type": "markdown",
   "id": "8bb8d86c",
   "metadata": {},
   "source": [
    "#### 3.2.1 Вывод\n",
    "\n",
    "Люди с пропущенными значениями количества дней трудового стажа являются также людьми с пропущенным значением ежемесячного дохода (видно по количеству строк).\n",
    "\n",
    "В выборке не просматривается какая-либо системность данных — разные количество детей, возраст, образование, семейное положение, гендер, тип занятости, наличие/отсутствие задолженности по возврату кредитов и цель получения кредита.\n",
    "\n",
    "Пропуски в данных являются случайными. Это технологическая ошибка или люди по личной причине не захотели указывать свой доход.\n",
    "\n",
    "**Заменили пропуски значений в `days_employed` и `total_income` на медианные значения.**"
   ]
  },
  {
   "cell_type": "markdown",
   "id": "a4e1d2d1",
   "metadata": {},
   "source": [
    "### 3.3 Тип данных <a id=\"3.3\"></a>\n",
    "Изменим тип данных для удобства и скорости анализа."
   ]
  },
  {
   "cell_type": "code",
   "execution_count": 12,
   "id": "e719897a",
   "metadata": {},
   "outputs": [],
   "source": [
    "df['children'] = abs(df['children']).astype(np.uint8, errors='ignore')"
   ]
  },
  {
   "cell_type": "code",
   "execution_count": 13,
   "id": "dbaac66c",
   "metadata": {},
   "outputs": [],
   "source": [
    "columns_to_replace = [\n",
    "    'dob_years',\n",
    "    'education_id',\n",
    "    'family_status_id',\n",
    "    'debt'\n",
    "]\n",
    "for columns in columns_to_replace:\n",
    "    df[columns] = df[columns].astype(np.uint8, errors='ignore')"
   ]
  },
  {
   "cell_type": "code",
   "execution_count": 14,
   "id": "05f013c6",
   "metadata": {},
   "outputs": [],
   "source": [
    "df['days_employed'] = abs(df['days_employed']).astype(np.uint16, errors='ignore')"
   ]
  },
  {
   "cell_type": "code",
   "execution_count": 15,
   "id": "ce825afa",
   "metadata": {},
   "outputs": [],
   "source": [
    "df['total_income'] = df['total_income'].astype(np.uint32, errors='ignore')"
   ]
  },
  {
   "cell_type": "code",
   "execution_count": 16,
   "id": "e01ec2d4",
   "metadata": {},
   "outputs": [],
   "source": [
    "columns_to_replace = [\n",
    "    'education',\n",
    "    'family_status',\n",
    "    'gender',\n",
    "    'income_type',\n",
    "    'purpose'\n",
    "]\n",
    "for columns in columns_to_replace:\n",
    "    df[columns] = df[columns].astype('category')"
   ]
  },
  {
   "cell_type": "code",
   "execution_count": 17,
   "id": "d3ea9a1c",
   "metadata": {},
   "outputs": [
    {
     "name": "stdout",
     "output_type": "stream",
     "text": [
      "<class 'pandas.core.frame.DataFrame'>\n",
      "RangeIndex: 21471 entries, 0 to 21470\n",
      "Data columns (total 12 columns):\n",
      " #   Column            Non-Null Count  Dtype   \n",
      "---  ------            --------------  -----   \n",
      " 0   children          21471 non-null  uint8   \n",
      " 1   days_employed     21471 non-null  uint16  \n",
      " 2   dob_years         21471 non-null  uint8   \n",
      " 3   education         21471 non-null  category\n",
      " 4   education_id      21471 non-null  uint8   \n",
      " 5   family_status     21471 non-null  category\n",
      " 6   family_status_id  21471 non-null  uint8   \n",
      " 7   gender            21471 non-null  category\n",
      " 8   income_type       21471 non-null  category\n",
      " 9   debt              21471 non-null  uint8   \n",
      " 10  total_income      21471 non-null  uint32  \n",
      " 11  purpose           21471 non-null  category\n",
      "dtypes: category(5), uint16(1), uint32(1), uint8(5)\n",
      "memory usage: 347.7 KB\n"
     ]
    }
   ],
   "source": [
    "df.info(memory_usage='deep')"
   ]
  },
  {
   "cell_type": "markdown",
   "id": "3444f66f",
   "metadata": {},
   "source": [
    "#### 3.3.1 Вывод\n",
    "Изменили тип данных и уменьшили размер используемой памяти с 13.5 MB до 347.7 KB."
   ]
  },
  {
   "cell_type": "markdown",
   "id": "c2b68bba",
   "metadata": {},
   "source": [
    "### 3.4 Проверка на нормальность <a id=\"3.4\"></a>\n",
    "Проверим неявные дубликаты и выбивающиеся значения."
   ]
  },
  {
   "cell_type": "markdown",
   "id": "63e8028b",
   "metadata": {},
   "source": [
    "**Колонка `children`**"
   ]
  },
  {
   "cell_type": "code",
   "execution_count": 18,
   "id": "d2afa55c",
   "metadata": {},
   "outputs": [
    {
     "data": {
      "text/plain": [
       "0     14107\n",
       "1      4856\n",
       "2      2052\n",
       "3       330\n",
       "20       76\n",
       "4        41\n",
       "5         9\n",
       "Name: children, dtype: int64"
      ]
     },
     "execution_count": 18,
     "metadata": {},
     "output_type": "execute_result"
    }
   ],
   "source": [
    "df['children'].value_counts()"
   ]
  },
  {
   "cell_type": "code",
   "execution_count": 19,
   "id": "25d7b3a0",
   "metadata": {},
   "outputs": [],
   "source": [
    "df = df[df['children'] != 20].reset_index(drop=True)"
   ]
  },
  {
   "cell_type": "markdown",
   "id": "4c1be481",
   "metadata": {},
   "source": [
    "**Колонка `education`**"
   ]
  },
  {
   "cell_type": "code",
   "execution_count": 20,
   "id": "9a6f8235",
   "metadata": {},
   "outputs": [
    {
     "data": {
      "text/plain": [
       "среднее                13653\n",
       "высшее                  4698\n",
       "СРЕДНЕЕ                  770\n",
       "Среднее                  705\n",
       "неоконченное высшее      666\n",
       "ВЫСШЕЕ                   271\n",
       "Высшее                   268\n",
       "начальное                250\n",
       "Неоконченное высшее       47\n",
       "НЕОКОНЧЕННОЕ ВЫСШЕЕ       29\n",
       "НАЧАЛЬНОЕ                 17\n",
       "Начальное                 15\n",
       "ученая степень             4\n",
       "УЧЕНАЯ СТЕПЕНЬ             1\n",
       "Ученая степень             1\n",
       "Name: education, dtype: int64"
      ]
     },
     "execution_count": 20,
     "metadata": {},
     "output_type": "execute_result"
    }
   ],
   "source": [
    "df['education'].value_counts()"
   ]
  },
  {
   "cell_type": "code",
   "execution_count": 21,
   "id": "a82314e6",
   "metadata": {},
   "outputs": [],
   "source": [
    "df['education'] = df['education'].str.lower()"
   ]
  },
  {
   "cell_type": "code",
   "execution_count": 22,
   "id": "0c2e3553",
   "metadata": {},
   "outputs": [
    {
     "data": {
      "text/plain": [
       "среднее                15128\n",
       "высшее                  5237\n",
       "неоконченное высшее      742\n",
       "начальное                282\n",
       "ученая степень             6\n",
       "Name: education, dtype: int64"
      ]
     },
     "execution_count": 22,
     "metadata": {},
     "output_type": "execute_result"
    }
   ],
   "source": [
    "df['education'].value_counts()"
   ]
  },
  {
   "cell_type": "markdown",
   "id": "e7448acd",
   "metadata": {},
   "source": [
    "**Колонка `family_status`**"
   ]
  },
  {
   "cell_type": "code",
   "execution_count": 23,
   "id": "49d90ca1",
   "metadata": {
    "scrolled": false
   },
   "outputs": [
    {
     "data": {
      "text/plain": [
       "женат / замужем          12295\n",
       "гражданский брак          4151\n",
       "Не женат / не замужем     2801\n",
       "в разводе                 1193\n",
       "вдовец / вдова             955\n",
       "Name: family_status, dtype: int64"
      ]
     },
     "execution_count": 23,
     "metadata": {},
     "output_type": "execute_result"
    }
   ],
   "source": [
    "df['family_status'].value_counts()"
   ]
  },
  {
   "cell_type": "markdown",
   "id": "89b98a97",
   "metadata": {},
   "source": [
    "**Колонка `gender`**"
   ]
  },
  {
   "cell_type": "code",
   "execution_count": 24,
   "id": "d7b0819d",
   "metadata": {
    "scrolled": false
   },
   "outputs": [
    {
     "data": {
      "text/plain": [
       "F      14142\n",
       "M       7252\n",
       "XNA        1\n",
       "Name: gender, dtype: int64"
      ]
     },
     "execution_count": 24,
     "metadata": {},
     "output_type": "execute_result"
    }
   ],
   "source": [
    "df['gender'].value_counts()"
   ]
  },
  {
   "cell_type": "code",
   "execution_count": 25,
   "id": "b4927169",
   "metadata": {},
   "outputs": [],
   "source": [
    "df = df[df['gender'] != 'XNA'].reset_index(drop=True)"
   ]
  },
  {
   "cell_type": "markdown",
   "id": "3256693b",
   "metadata": {},
   "source": [
    "**Колонка `income_type`**"
   ]
  },
  {
   "cell_type": "code",
   "execution_count": 26,
   "id": "02d718b2",
   "metadata": {
    "scrolled": false
   },
   "outputs": [
    {
     "data": {
      "text/plain": [
       "сотрудник          11048\n",
       "компаньон           5057\n",
       "пенсионер           3828\n",
       "госслужащий         1455\n",
       "безработный            2\n",
       "предприниматель        2\n",
       "в декрете              1\n",
       "студент                1\n",
       "Name: income_type, dtype: int64"
      ]
     },
     "execution_count": 26,
     "metadata": {},
     "output_type": "execute_result"
    }
   ],
   "source": [
    "df['income_type'].value_counts()"
   ]
  },
  {
   "cell_type": "markdown",
   "id": "bfdc0abd",
   "metadata": {},
   "source": [
    "**Колонка `debt`**"
   ]
  },
  {
   "cell_type": "code",
   "execution_count": 27,
   "id": "1519ebe2",
   "metadata": {},
   "outputs": [
    {
     "data": {
      "text/plain": [
       "0    19661\n",
       "1     1733\n",
       "Name: debt, dtype: int64"
      ]
     },
     "execution_count": 27,
     "metadata": {},
     "output_type": "execute_result"
    }
   ],
   "source": [
    "df['debt'].value_counts()"
   ]
  },
  {
   "cell_type": "markdown",
   "id": "e02febe7",
   "metadata": {},
   "source": [
    "**Колонка `purpose`**"
   ]
  },
  {
   "cell_type": "code",
   "execution_count": 28,
   "id": "e4e3ee48",
   "metadata": {
    "scrolled": true
   },
   "outputs": [
    {
     "data": {
      "text/plain": [
       "свадьба                                   792\n",
       "на проведение свадьбы                     769\n",
       "сыграть свадьбу                           765\n",
       "операции с недвижимостью                  674\n",
       "покупка коммерческой недвижимости         659\n",
       "покупка жилья для сдачи                   651\n",
       "операции с жильем                         648\n",
       "операции с коммерческой недвижимостью     646\n",
       "покупка жилья                             643\n",
       "жилье                                     642\n",
       "покупка жилья для семьи                   637\n",
       "недвижимость                              632\n",
       "строительство собственной недвижимости    629\n",
       "операции со своей недвижимостью           626\n",
       "строительство жилой недвижимости          624\n",
       "покупка своего жилья                      620\n",
       "строительство недвижимости                619\n",
       "покупка недвижимости                      618\n",
       "ремонт жилью                              605\n",
       "покупка жилой недвижимости                604\n",
       "на покупку своего автомобиля              505\n",
       "заняться высшим образованием              496\n",
       "автомобиль                                493\n",
       "сделка с подержанным автомобилем          482\n",
       "автомобили                                477\n",
       "свой автомобиль                           476\n",
       "на покупку подержанного автомобиля        472\n",
       "на покупку автомобиля                     471\n",
       "приобретение автомобиля                   461\n",
       "дополнительное образование                457\n",
       "сделка с автомобилем                      455\n",
       "высшее образование                        447\n",
       "получение дополнительного образования     446\n",
       "образование                               445\n",
       "получение образования                     441\n",
       "профильное образование                    434\n",
       "получение высшего образования             425\n",
       "заняться образованием                     408\n",
       "Name: purpose, dtype: int64"
      ]
     },
     "execution_count": 28,
     "metadata": {},
     "output_type": "execute_result"
    }
   ],
   "source": [
    "df['purpose'].value_counts()"
   ]
  },
  {
   "cell_type": "markdown",
   "id": "2d6f0def",
   "metadata": {},
   "source": [
    "#### 3.4.1 Вывод\n",
    "Исправили данные:\n",
    "\n",
    "* `children` — количество детей в семье. Удалили небольшую часть данных с выбивающимися слишком большими значениями (20 детей). Возможно там поставили лишний 0, но так таких строк менее 1% от выборки, выбрали удалить их.\n",
    "* `gender` — пол. Удалили одну строку со значением `'XNA'`.\n",
    "\n",
    "Необходимо категоризировать данные для колонок:\n",
    "* `total_income` — ежемесячный доход\n",
    "* `purpose` — цель получения кредита"
   ]
  },
  {
   "cell_type": "markdown",
   "id": "32867f4e",
   "metadata": {},
   "source": [
    "## 4. Добавление данных"
   ]
  },
  {
   "cell_type": "markdown",
   "id": "fe4f523e",
   "metadata": {},
   "source": [
    "### 4.1 Категоризация данных"
   ]
  },
  {
   "cell_type": "markdown",
   "id": "a6e6f007",
   "metadata": {},
   "source": [
    "#### 4.1.1 Доход <a id=\"4.1.1\"></a>"
   ]
  },
  {
   "cell_type": "code",
   "execution_count": 29,
   "id": "2eadc509",
   "metadata": {},
   "outputs": [],
   "source": [
    "# функция для категоризации данных о доходах\n",
    "def total_income_category(row):\n",
    "    income = row['total_income']\n",
    "    if 0 <= income <= 30000:\n",
    "        return 'E'\n",
    "    if 30001 <= income <= 50000:\n",
    "        return 'D'\n",
    "    if 50001 <= income <= 200000:\n",
    "        return 'C'\n",
    "    if 200001 <= income <= 1000000:\n",
    "        return 'B'\n",
    "    if income >= 1000001:\n",
    "        return 'A'"
   ]
  },
  {
   "cell_type": "code",
   "execution_count": 30,
   "id": "c543dad6",
   "metadata": {},
   "outputs": [],
   "source": [
    "df['total_income_category'] = df.apply(total_income_category, axis=1)"
   ]
  },
  {
   "cell_type": "markdown",
   "id": "14f0f4c2",
   "metadata": {},
   "source": [
    "#### 4.1.2 Цели кредита <a id=\"4.1.2\"></a>"
   ]
  },
  {
   "cell_type": "code",
   "execution_count": 31,
   "id": "4f3fbf30",
   "metadata": {},
   "outputs": [],
   "source": [
    "# функция для категоризации целей кредита\n",
    "def purpose_category(row):\n",
    "    purpose = row['purpose']\n",
    "    if 'авто' in purpose:\n",
    "        return 'операции с автомобилем'\n",
    "    elif 'недвиж' in purpose or 'жиль' in purpose:\n",
    "        return 'операции с недвижимостью'\n",
    "    elif 'свадьб' in purpose:\n",
    "        return 'проведение свадьбы'\n",
    "    elif 'образо' in purpose:\n",
    "        return 'получение образования'"
   ]
  },
  {
   "cell_type": "code",
   "execution_count": 32,
   "id": "1512d6f4",
   "metadata": {},
   "outputs": [],
   "source": [
    "df['purpose'] = df.apply(purpose_category, axis=1)"
   ]
  },
  {
   "cell_type": "code",
   "execution_count": 33,
   "id": "1197a6b4",
   "metadata": {},
   "outputs": [
    {
     "data": {
      "text/plain": [
       "['операции с автомобилем',\n",
       " 'операции с недвижимостью',\n",
       " 'получение образования',\n",
       " 'проведение свадьбы']"
      ]
     },
     "execution_count": 33,
     "metadata": {},
     "output_type": "execute_result"
    }
   ],
   "source": [
    "sorted(df['purpose'].unique())"
   ]
  },
  {
   "cell_type": "markdown",
   "id": "530cac3b",
   "metadata": {},
   "source": [
    "### 4.2 Словари"
   ]
  },
  {
   "cell_type": "markdown",
   "id": "d7a96f31",
   "metadata": {},
   "source": [
    "#### 4.2.1 Образование <a id=\"4.2.1\"></a>"
   ]
  },
  {
   "cell_type": "code",
   "execution_count": 34,
   "id": "bc347fd5",
   "metadata": {},
   "outputs": [
    {
     "data": {
      "text/html": [
       "<div>\n",
       "<style scoped>\n",
       "    .dataframe tbody tr th:only-of-type {\n",
       "        vertical-align: middle;\n",
       "    }\n",
       "\n",
       "    .dataframe tbody tr th {\n",
       "        vertical-align: top;\n",
       "    }\n",
       "\n",
       "    .dataframe thead th {\n",
       "        text-align: right;\n",
       "    }\n",
       "</style>\n",
       "<table border=\"1\" class=\"dataframe\">\n",
       "  <thead>\n",
       "    <tr style=\"text-align: right;\">\n",
       "      <th></th>\n",
       "      <th>education_id</th>\n",
       "      <th>education</th>\n",
       "    </tr>\n",
       "  </thead>\n",
       "  <tbody>\n",
       "    <tr>\n",
       "      <th>0</th>\n",
       "      <td>0</td>\n",
       "      <td>высшее</td>\n",
       "    </tr>\n",
       "    <tr>\n",
       "      <th>1</th>\n",
       "      <td>1</td>\n",
       "      <td>среднее</td>\n",
       "    </tr>\n",
       "    <tr>\n",
       "      <th>2</th>\n",
       "      <td>2</td>\n",
       "      <td>неоконченное высшее</td>\n",
       "    </tr>\n",
       "    <tr>\n",
       "      <th>3</th>\n",
       "      <td>3</td>\n",
       "      <td>начальное</td>\n",
       "    </tr>\n",
       "    <tr>\n",
       "      <th>4</th>\n",
       "      <td>4</td>\n",
       "      <td>ученая степень</td>\n",
       "    </tr>\n",
       "  </tbody>\n",
       "</table>\n",
       "</div>"
      ],
      "text/plain": [
       "   education_id            education\n",
       "0             0               высшее\n",
       "1             1              среднее\n",
       "2             2  неоконченное высшее\n",
       "3             3            начальное\n",
       "4             4       ученая степень"
      ]
     },
     "execution_count": 34,
     "metadata": {},
     "output_type": "execute_result"
    }
   ],
   "source": [
    "education = df.pivot_table(index=['education_id', 'education'], values='gender', aggfunc='count').reset_index()\n",
    "education = education.drop(columns='gender', axis = 1)\n",
    "education"
   ]
  },
  {
   "cell_type": "markdown",
   "id": "dc2434e8",
   "metadata": {},
   "source": [
    "#### 4.2.2 Семейное положение <a id=\"4.2.2\"></a>"
   ]
  },
  {
   "cell_type": "code",
   "execution_count": 35,
   "id": "8368953a",
   "metadata": {},
   "outputs": [
    {
     "data": {
      "text/html": [
       "<div>\n",
       "<style scoped>\n",
       "    .dataframe tbody tr th:only-of-type {\n",
       "        vertical-align: middle;\n",
       "    }\n",
       "\n",
       "    .dataframe tbody tr th {\n",
       "        vertical-align: top;\n",
       "    }\n",
       "\n",
       "    .dataframe thead th {\n",
       "        text-align: right;\n",
       "    }\n",
       "</style>\n",
       "<table border=\"1\" class=\"dataframe\">\n",
       "  <thead>\n",
       "    <tr style=\"text-align: right;\">\n",
       "      <th></th>\n",
       "      <th>family_status_id</th>\n",
       "      <th>family_status</th>\n",
       "    </tr>\n",
       "  </thead>\n",
       "  <tbody>\n",
       "    <tr>\n",
       "      <th>4</th>\n",
       "      <td>0</td>\n",
       "      <td>женат / замужем</td>\n",
       "    </tr>\n",
       "    <tr>\n",
       "      <th>8</th>\n",
       "      <td>1</td>\n",
       "      <td>гражданский брак</td>\n",
       "    </tr>\n",
       "    <tr>\n",
       "      <th>12</th>\n",
       "      <td>2</td>\n",
       "      <td>вдовец / вдова</td>\n",
       "    </tr>\n",
       "    <tr>\n",
       "      <th>16</th>\n",
       "      <td>3</td>\n",
       "      <td>в разводе</td>\n",
       "    </tr>\n",
       "    <tr>\n",
       "      <th>20</th>\n",
       "      <td>4</td>\n",
       "      <td>Не женат / не замужем</td>\n",
       "    </tr>\n",
       "  </tbody>\n",
       "</table>\n",
       "</div>"
      ],
      "text/plain": [
       "    family_status_id          family_status\n",
       "4                  0        женат / замужем\n",
       "8                  1       гражданский брак\n",
       "12                 2         вдовец / вдова\n",
       "16                 3              в разводе\n",
       "20                 4  Не женат / не замужем"
      ]
     },
     "execution_count": 35,
     "metadata": {},
     "output_type": "execute_result"
    }
   ],
   "source": [
    "family_status = df.pivot_table(index=['family_status_id', 'family_status'], values='gender', aggfunc='count').reset_index()\n",
    "family_status = family_status.loc[family_status['gender'] != 0]\n",
    "family_status = family_status.drop(columns='gender', axis = 1)\n",
    "family_status"
   ]
  },
  {
   "cell_type": "markdown",
   "id": "444483cb",
   "metadata": {},
   "source": [
    "#### 4.2.3 Доход <a id=\"4.2.3\"></a>"
   ]
  },
  {
   "cell_type": "code",
   "execution_count": 36,
   "id": "57229583",
   "metadata": {},
   "outputs": [
    {
     "data": {
      "text/html": [
       "<div>\n",
       "<style scoped>\n",
       "    .dataframe tbody tr th:only-of-type {\n",
       "        vertical-align: middle;\n",
       "    }\n",
       "\n",
       "    .dataframe tbody tr th {\n",
       "        vertical-align: top;\n",
       "    }\n",
       "\n",
       "    .dataframe thead th {\n",
       "        text-align: right;\n",
       "    }\n",
       "</style>\n",
       "<table border=\"1\" class=\"dataframe\">\n",
       "  <thead>\n",
       "    <tr style=\"text-align: right;\">\n",
       "      <th></th>\n",
       "      <th>total_income_category</th>\n",
       "      <th>total_income</th>\n",
       "    </tr>\n",
       "  </thead>\n",
       "  <tbody>\n",
       "    <tr>\n",
       "      <th>0</th>\n",
       "      <td>A</td>\n",
       "      <td>до 30000</td>\n",
       "    </tr>\n",
       "    <tr>\n",
       "      <th>1</th>\n",
       "      <td>B</td>\n",
       "      <td>30001-50000</td>\n",
       "    </tr>\n",
       "    <tr>\n",
       "      <th>2</th>\n",
       "      <td>C</td>\n",
       "      <td>50001-200000</td>\n",
       "    </tr>\n",
       "    <tr>\n",
       "      <th>3</th>\n",
       "      <td>D</td>\n",
       "      <td>200001-1000000</td>\n",
       "    </tr>\n",
       "    <tr>\n",
       "      <th>4</th>\n",
       "      <td>E</td>\n",
       "      <td>от 1000001</td>\n",
       "    </tr>\n",
       "  </tbody>\n",
       "</table>\n",
       "</div>"
      ],
      "text/plain": [
       "  total_income_category    total_income\n",
       "0                     A        до 30000\n",
       "1                     B     30001-50000\n",
       "2                     C    50001-200000\n",
       "3                     D  200001-1000000\n",
       "4                     E      от 1000001"
      ]
     },
     "execution_count": 36,
     "metadata": {},
     "output_type": "execute_result"
    }
   ],
   "source": [
    "total_income = pd.DataFrame(sorted(df['total_income_category'].unique()))\n",
    "total_income['total_income'] = [\n",
    "    'до 30000',\n",
    "    '30001-50000',\n",
    "    '50001-200000',\n",
    "    '200001-1000000',\n",
    "    'от 1000001'\n",
    "]\n",
    "total_income.columns = ['total_income_category', 'total_income']\n",
    "total_income"
   ]
  },
  {
   "cell_type": "markdown",
   "id": "6e984d49",
   "metadata": {},
   "source": [
    "**Удаление столбцов из датафрейма**"
   ]
  },
  {
   "cell_type": "code",
   "execution_count": 37,
   "id": "4c5cab8d",
   "metadata": {},
   "outputs": [],
   "source": [
    "df = df.drop(columns = ['education', 'family_status', 'total_income'],axis = 1)"
   ]
  },
  {
   "cell_type": "markdown",
   "id": "ce7d58ac",
   "metadata": {},
   "source": [
    "### 4.3 Вывод\n",
    "\n",
    "Для оптимизации работы с датафреймом:\n",
    "\n",
    "1. Создали 5 категорий дохода.\n",
    "2. Оптимизировали данные о цели получения кредита и объединили их в 4 категории.\n",
    "3. Создали словари с данными об образовании, семейном положении и доходе.\n",
    "4. Удалили данные об образовании, семейном положении и доходе из основного датафрейма, оставив только идентификаторы/категории."
   ]
  },
  {
   "cell_type": "markdown",
   "id": "f945627d",
   "metadata": {},
   "source": [
    "## 5. Анализ данных"
   ]
  },
  {
   "cell_type": "markdown",
   "id": "408946a3",
   "metadata": {},
   "source": [
    "### 5.1 Зависимость между количеством детей и возвратом кредита в срок <a id=\"5.1\"></a>"
   ]
  },
  {
   "cell_type": "code",
   "execution_count": 38,
   "id": "18fbd283",
   "metadata": {},
   "outputs": [
    {
     "data": {
      "text/html": [
       "<div>\n",
       "<style scoped>\n",
       "    .dataframe tbody tr th:only-of-type {\n",
       "        vertical-align: middle;\n",
       "    }\n",
       "\n",
       "    .dataframe tbody tr th {\n",
       "        vertical-align: top;\n",
       "    }\n",
       "\n",
       "    .dataframe thead th {\n",
       "        text-align: right;\n",
       "    }\n",
       "</style>\n",
       "<table border=\"1\" class=\"dataframe\">\n",
       "  <thead>\n",
       "    <tr style=\"text-align: right;\">\n",
       "      <th>debt</th>\n",
       "      <th>0</th>\n",
       "      <th>1</th>\n",
       "      <th>no_debt_perc</th>\n",
       "      <th>debt_perc</th>\n",
       "    </tr>\n",
       "    <tr>\n",
       "      <th>children</th>\n",
       "      <th></th>\n",
       "      <th></th>\n",
       "      <th></th>\n",
       "      <th></th>\n",
       "    </tr>\n",
       "  </thead>\n",
       "  <tbody>\n",
       "    <tr>\n",
       "      <th>0</th>\n",
       "      <td>13043.0</td>\n",
       "      <td>1063.0</td>\n",
       "      <td>92.5</td>\n",
       "      <td>7.5</td>\n",
       "    </tr>\n",
       "    <tr>\n",
       "      <th>1</th>\n",
       "      <td>4411.0</td>\n",
       "      <td>445.0</td>\n",
       "      <td>90.8</td>\n",
       "      <td>9.2</td>\n",
       "    </tr>\n",
       "    <tr>\n",
       "      <th>2</th>\n",
       "      <td>1858.0</td>\n",
       "      <td>194.0</td>\n",
       "      <td>90.5</td>\n",
       "      <td>9.5</td>\n",
       "    </tr>\n",
       "    <tr>\n",
       "      <th>3</th>\n",
       "      <td>303.0</td>\n",
       "      <td>27.0</td>\n",
       "      <td>91.8</td>\n",
       "      <td>8.2</td>\n",
       "    </tr>\n",
       "    <tr>\n",
       "      <th>4</th>\n",
       "      <td>37.0</td>\n",
       "      <td>4.0</td>\n",
       "      <td>90.2</td>\n",
       "      <td>9.8</td>\n",
       "    </tr>\n",
       "    <tr>\n",
       "      <th>5</th>\n",
       "      <td>9.0</td>\n",
       "      <td>NaN</td>\n",
       "      <td>100.0</td>\n",
       "      <td>NaN</td>\n",
       "    </tr>\n",
       "  </tbody>\n",
       "</table>\n",
       "</div>"
      ],
      "text/plain": [
       "debt            0       1  no_debt_perc  debt_perc\n",
       "children                                          \n",
       "0         13043.0  1063.0          92.5        7.5\n",
       "1          4411.0   445.0          90.8        9.2\n",
       "2          1858.0   194.0          90.5        9.5\n",
       "3           303.0    27.0          91.8        8.2\n",
       "4            37.0     4.0          90.2        9.8\n",
       "5             9.0     NaN         100.0        NaN"
      ]
     },
     "execution_count": 38,
     "metadata": {},
     "output_type": "execute_result"
    }
   ],
   "source": [
    "children_debt = df.pivot_table(index='children', columns='debt', values='gender', aggfunc='count', margins=True)\n",
    "children_debt['no_debt_perc'] = (children_debt[0] / children_debt['All'] * 100).round(1)\n",
    "children_debt['debt_perc'] = (children_debt[1] / children_debt['All'] * 100).round(1)\n",
    "children_debt = children_debt.query('index != \"All\"').drop(columns='All', axis = 1)\n",
    "children_debt"
   ]
  },
  {
   "cell_type": "markdown",
   "id": "105c3364",
   "metadata": {},
   "source": [
    "#### 5.1.1 Вывод\n",
    "Люди без детей с большей вероятностью не имеют задолженность по кредиту.\n",
    "\n",
    "При этом из-за небольшого количества данных по категориям людей с 3, 4 и 5 детьми полученные результаты можно считать статистически недостоверными."
   ]
  },
  {
   "cell_type": "markdown",
   "id": "9caa76a0",
   "metadata": {},
   "source": [
    "### 5.2 Зависимость между семейным положением и возвратом кредита в срок <a id=\"5.2\"></a>"
   ]
  },
  {
   "cell_type": "code",
   "execution_count": 39,
   "id": "46b3e08b",
   "metadata": {},
   "outputs": [
    {
     "data": {
      "text/html": [
       "<div>\n",
       "<style scoped>\n",
       "    .dataframe tbody tr th:only-of-type {\n",
       "        vertical-align: middle;\n",
       "    }\n",
       "\n",
       "    .dataframe tbody tr th {\n",
       "        vertical-align: top;\n",
       "    }\n",
       "\n",
       "    .dataframe thead th {\n",
       "        text-align: right;\n",
       "    }\n",
       "</style>\n",
       "<table border=\"1\" class=\"dataframe\">\n",
       "  <thead>\n",
       "    <tr style=\"text-align: right;\">\n",
       "      <th></th>\n",
       "      <th>family_status_id</th>\n",
       "      <th>0</th>\n",
       "      <th>1</th>\n",
       "      <th>no_debt_perc</th>\n",
       "      <th>debt_perc</th>\n",
       "      <th>family_status</th>\n",
       "    </tr>\n",
       "  </thead>\n",
       "  <tbody>\n",
       "    <tr>\n",
       "      <th>0</th>\n",
       "      <td>0</td>\n",
       "      <td>11367</td>\n",
       "      <td>928</td>\n",
       "      <td>92.5</td>\n",
       "      <td>7.5</td>\n",
       "      <td>женат / замужем</td>\n",
       "    </tr>\n",
       "    <tr>\n",
       "      <th>1</th>\n",
       "      <td>1</td>\n",
       "      <td>3765</td>\n",
       "      <td>385</td>\n",
       "      <td>90.7</td>\n",
       "      <td>9.3</td>\n",
       "      <td>гражданский брак</td>\n",
       "    </tr>\n",
       "    <tr>\n",
       "      <th>2</th>\n",
       "      <td>2</td>\n",
       "      <td>892</td>\n",
       "      <td>63</td>\n",
       "      <td>93.4</td>\n",
       "      <td>6.6</td>\n",
       "      <td>вдовец / вдова</td>\n",
       "    </tr>\n",
       "    <tr>\n",
       "      <th>3</th>\n",
       "      <td>3</td>\n",
       "      <td>1109</td>\n",
       "      <td>84</td>\n",
       "      <td>93.0</td>\n",
       "      <td>7.0</td>\n",
       "      <td>в разводе</td>\n",
       "    </tr>\n",
       "    <tr>\n",
       "      <th>4</th>\n",
       "      <td>4</td>\n",
       "      <td>2528</td>\n",
       "      <td>273</td>\n",
       "      <td>90.3</td>\n",
       "      <td>9.7</td>\n",
       "      <td>Не женат / не замужем</td>\n",
       "    </tr>\n",
       "  </tbody>\n",
       "</table>\n",
       "</div>"
      ],
      "text/plain": [
       "  family_status_id      0    1  no_debt_perc  debt_perc          family_status\n",
       "0                0  11367  928          92.5        7.5        женат / замужем\n",
       "1                1   3765  385          90.7        9.3       гражданский брак\n",
       "2                2    892   63          93.4        6.6         вдовец / вдова\n",
       "3                3   1109   84          93.0        7.0              в разводе\n",
       "4                4   2528  273          90.3        9.7  Не женат / не замужем"
      ]
     },
     "execution_count": 39,
     "metadata": {},
     "output_type": "execute_result"
    }
   ],
   "source": [
    "family_debt = df.pivot_table(index='family_status_id', columns='debt', values='gender', aggfunc='count', margins=True).reset_index()\n",
    "family_debt['no_debt_perc'] = (family_debt[0] / family_debt['All'] * 100).round(1)\n",
    "family_debt['debt_perc'] = (family_debt[1] / family_debt['All'] * 100).round(1)\n",
    "family_debt = family_debt.query('index != 5').drop(columns='All', axis = 1)\n",
    "family_debt.merge(family_status, on='family_status_id')"
   ]
  },
  {
   "cell_type": "markdown",
   "id": "761254fc",
   "metadata": {},
   "source": [
    "#### 5.2.1 Вывод\n",
    "Люди со статусом *'женат / замужем'*, *'вдовец / вдова'* и *'в разводе'* с большей вероятностью не имеют задолженность по кредиту.\n",
    "\n",
    "Наибольшую вероятность не заплатить вовремя по кредиту у людей, которые не были в браке — со статусом *'гражданский брак'* и *'Не женат / не замужем'*.\n",
    "\n",
    "При этом из-за небольшого количества данных по людям по статусом *'вдовец / вдова'* и *'в разводе'* полученные результаты можно считать статистически недостоверными."
   ]
  },
  {
   "cell_type": "markdown",
   "id": "eacc3f88",
   "metadata": {},
   "source": [
    "### 5.3 Зависимость между уровнем дохода и возвратом кредита в срок <a id=\"5.3\"></a>"
   ]
  },
  {
   "cell_type": "code",
   "execution_count": 40,
   "id": "6f443d39",
   "metadata": {},
   "outputs": [
    {
     "data": {
      "text/html": [
       "<div>\n",
       "<style scoped>\n",
       "    .dataframe tbody tr th:only-of-type {\n",
       "        vertical-align: middle;\n",
       "    }\n",
       "\n",
       "    .dataframe tbody tr th {\n",
       "        vertical-align: top;\n",
       "    }\n",
       "\n",
       "    .dataframe thead th {\n",
       "        text-align: right;\n",
       "    }\n",
       "</style>\n",
       "<table border=\"1\" class=\"dataframe\">\n",
       "  <thead>\n",
       "    <tr style=\"text-align: right;\">\n",
       "      <th></th>\n",
       "      <th>total_income_category</th>\n",
       "      <th>0</th>\n",
       "      <th>1</th>\n",
       "      <th>no_debt_perc</th>\n",
       "      <th>debt_perc</th>\n",
       "      <th>total_income</th>\n",
       "    </tr>\n",
       "  </thead>\n",
       "  <tbody>\n",
       "    <tr>\n",
       "      <th>0</th>\n",
       "      <td>A</td>\n",
       "      <td>23</td>\n",
       "      <td>2</td>\n",
       "      <td>92.0</td>\n",
       "      <td>8.0</td>\n",
       "      <td>до 30000</td>\n",
       "    </tr>\n",
       "    <tr>\n",
       "      <th>1</th>\n",
       "      <td>B</td>\n",
       "      <td>4667</td>\n",
       "      <td>354</td>\n",
       "      <td>92.9</td>\n",
       "      <td>7.1</td>\n",
       "      <td>30001-50000</td>\n",
       "    </tr>\n",
       "    <tr>\n",
       "      <th>2</th>\n",
       "      <td>C</td>\n",
       "      <td>14622</td>\n",
       "      <td>1354</td>\n",
       "      <td>91.5</td>\n",
       "      <td>8.5</td>\n",
       "      <td>50001-200000</td>\n",
       "    </tr>\n",
       "    <tr>\n",
       "      <th>3</th>\n",
       "      <td>D</td>\n",
       "      <td>329</td>\n",
       "      <td>21</td>\n",
       "      <td>94.0</td>\n",
       "      <td>6.0</td>\n",
       "      <td>200001-1000000</td>\n",
       "    </tr>\n",
       "    <tr>\n",
       "      <th>4</th>\n",
       "      <td>E</td>\n",
       "      <td>20</td>\n",
       "      <td>2</td>\n",
       "      <td>90.9</td>\n",
       "      <td>9.1</td>\n",
       "      <td>от 1000001</td>\n",
       "    </tr>\n",
       "  </tbody>\n",
       "</table>\n",
       "</div>"
      ],
      "text/plain": [
       "  total_income_category      0     1  no_debt_perc  debt_perc    total_income\n",
       "0                     A     23     2          92.0        8.0        до 30000\n",
       "1                     B   4667   354          92.9        7.1     30001-50000\n",
       "2                     C  14622  1354          91.5        8.5    50001-200000\n",
       "3                     D    329    21          94.0        6.0  200001-1000000\n",
       "4                     E     20     2          90.9        9.1      от 1000001"
      ]
     },
     "execution_count": 40,
     "metadata": {},
     "output_type": "execute_result"
    }
   ],
   "source": [
    "income_debt = df.pivot_table(index='total_income_category', columns='debt', values='gender', aggfunc='count', margins=True)\n",
    "income_debt['no_debt_perc'] = (income_debt[0] / income_debt['All'] * 100).round(1)\n",
    "income_debt['debt_perc'] = (income_debt[1] / income_debt['All'] * 100).round(1)\n",
    "income_debt = income_debt.query('index != \"All\"').drop(columns='All', axis = 1)\n",
    "income_debt.merge(total_income, on='total_income_category')"
   ]
  },
  {
   "cell_type": "markdown",
   "id": "34f44962",
   "metadata": {},
   "source": [
    "#### 5.3.1 Вывод\n",
    "\n",
    "При этом из-за небольшого количества данных по категориям A, D и E можно считать статистически достоверными данные только по категориям B и C.\n",
    "\n",
    "В таком случае, люди с доходом  30001-50000 с большей вероятностью не имеют задолженность по кредиту."
   ]
  },
  {
   "cell_type": "markdown",
   "id": "5064c448",
   "metadata": {},
   "source": [
    "### 5.4 Влияние целей кредита на его возврат в срок <a id=\"5.4\"></a>"
   ]
  },
  {
   "cell_type": "code",
   "execution_count": 41,
   "id": "4aeb7175",
   "metadata": {},
   "outputs": [
    {
     "data": {
      "text/html": [
       "<div>\n",
       "<style scoped>\n",
       "    .dataframe tbody tr th:only-of-type {\n",
       "        vertical-align: middle;\n",
       "    }\n",
       "\n",
       "    .dataframe tbody tr th {\n",
       "        vertical-align: top;\n",
       "    }\n",
       "\n",
       "    .dataframe thead th {\n",
       "        text-align: right;\n",
       "    }\n",
       "</style>\n",
       "<table border=\"1\" class=\"dataframe\">\n",
       "  <thead>\n",
       "    <tr style=\"text-align: right;\">\n",
       "      <th>debt</th>\n",
       "      <th>0</th>\n",
       "      <th>1</th>\n",
       "      <th>no_debt_perc</th>\n",
       "      <th>debt_perc</th>\n",
       "    </tr>\n",
       "    <tr>\n",
       "      <th>purpose</th>\n",
       "      <th></th>\n",
       "      <th></th>\n",
       "      <th></th>\n",
       "      <th></th>\n",
       "    </tr>\n",
       "  </thead>\n",
       "  <tbody>\n",
       "    <tr>\n",
       "      <th>операции с автомобилем</th>\n",
       "      <td>3891</td>\n",
       "      <td>401</td>\n",
       "      <td>90.7</td>\n",
       "      <td>9.3</td>\n",
       "    </tr>\n",
       "    <tr>\n",
       "      <th>операции с недвижимостью</th>\n",
       "      <td>9997</td>\n",
       "      <td>780</td>\n",
       "      <td>92.8</td>\n",
       "      <td>7.2</td>\n",
       "    </tr>\n",
       "    <tr>\n",
       "      <th>получение образования</th>\n",
       "      <td>3630</td>\n",
       "      <td>369</td>\n",
       "      <td>90.8</td>\n",
       "      <td>9.2</td>\n",
       "    </tr>\n",
       "    <tr>\n",
       "      <th>проведение свадьбы</th>\n",
       "      <td>2143</td>\n",
       "      <td>183</td>\n",
       "      <td>92.1</td>\n",
       "      <td>7.9</td>\n",
       "    </tr>\n",
       "  </tbody>\n",
       "</table>\n",
       "</div>"
      ],
      "text/plain": [
       "debt                         0    1  no_debt_perc  debt_perc\n",
       "purpose                                                     \n",
       "операции с автомобилем    3891  401          90.7        9.3\n",
       "операции с недвижимостью  9997  780          92.8        7.2\n",
       "получение образования     3630  369          90.8        9.2\n",
       "проведение свадьбы        2143  183          92.1        7.9"
      ]
     },
     "execution_count": 41,
     "metadata": {},
     "output_type": "execute_result"
    }
   ],
   "source": [
    "purpose_debt = df.pivot_table(index='purpose', columns='debt', values='gender', aggfunc='count', margins=True)\n",
    "purpose_debt['no_debt_perc'] = (purpose_debt[0] / purpose_debt['All'] * 100).round(1)\n",
    "purpose_debt['debt_perc'] = (purpose_debt[1] / purpose_debt['All'] * 100).round(1)\n",
    "purpose_debt = purpose_debt.query('index != \"All\"').drop(columns='All', axis = 1)\n",
    "purpose_debt"
   ]
  },
  {
   "cell_type": "markdown",
   "id": "0f4aaa44",
   "metadata": {},
   "source": [
    "#### 5.4.1 Вывод\n",
    "\n",
    "Люди, которые берут кредит на недвижимость или свадьбу с большей вероятностью не имеют задолженность по кредиту."
   ]
  },
  {
   "cell_type": "markdown",
   "id": "18ba7bcc",
   "metadata": {},
   "source": [
    "## 6. Общий вывод <a id=\"6\"></a>\n",
    "\n",
    "Первичный анализ показывает, что для полноценного анализа нужно больше данных.\n",
    "\n",
    "Предварительно можно выделить **портрет клиента, который будет платить вовремя** — люди в браке, без детей, с доходом 30001-50000, которые берут кредит на недвижимость.\n",
    "\n",
    "И **клиента, который имеет наибольшую вероятностью задолженности по кредиту** — люди не в браке (со статусом *'гражданский брак'* и *'Не женат / не замужем'*),  с 2 детьми, с доходом 50001-200000, которые берут кредит на автомобиль или образование."
   ]
  }
 ],
 "metadata": {
  "ExecuteTimeLog": [
   {
    "duration": 371,
    "start_time": "2022-02-13T17:12:39.005Z"
   },
   {
    "duration": 364,
    "start_time": "2022-02-13T17:12:51.325Z"
   },
   {
    "duration": 596,
    "start_time": "2022-02-13T17:12:56.364Z"
   },
   {
    "duration": 48,
    "start_time": "2022-02-13T17:12:58.357Z"
   },
   {
    "duration": 23,
    "start_time": "2022-02-13T17:13:26.026Z"
   },
   {
    "duration": 10,
    "start_time": "2022-02-13T17:19:56.944Z"
   },
   {
    "duration": 9,
    "start_time": "2022-02-13T17:29:44.845Z"
   },
   {
    "duration": 4,
    "start_time": "2022-02-13T17:31:36.699Z"
   },
   {
    "duration": 4,
    "start_time": "2022-02-13T17:32:58.405Z"
   },
   {
    "duration": 4,
    "start_time": "2022-02-13T17:33:21.719Z"
   },
   {
    "duration": 8,
    "start_time": "2022-02-13T17:33:27.614Z"
   },
   {
    "duration": 6,
    "start_time": "2022-02-13T17:33:30.000Z"
   },
   {
    "duration": 9,
    "start_time": "2022-02-13T17:33:32.728Z"
   },
   {
    "duration": 2686,
    "start_time": "2022-02-13T17:35:20.611Z"
   },
   {
    "duration": 15,
    "start_time": "2022-02-13T17:35:34.022Z"
   },
   {
    "duration": 13,
    "start_time": "2022-02-13T17:36:15.697Z"
   },
   {
    "duration": 5,
    "start_time": "2022-02-13T17:37:18.588Z"
   },
   {
    "duration": 4,
    "start_time": "2022-02-13T17:37:33.342Z"
   },
   {
    "duration": 10,
    "start_time": "2022-02-13T17:39:28.279Z"
   },
   {
    "duration": 9,
    "start_time": "2022-02-13T17:39:30.304Z"
   },
   {
    "duration": 9,
    "start_time": "2022-02-13T17:39:44.263Z"
   },
   {
    "duration": 8,
    "start_time": "2022-02-13T17:39:46.337Z"
   },
   {
    "duration": 12,
    "start_time": "2022-02-13T17:39:54.963Z"
   },
   {
    "duration": 14,
    "start_time": "2022-02-13T17:40:28.583Z"
   },
   {
    "duration": 9,
    "start_time": "2022-02-13T17:42:13.553Z"
   },
   {
    "duration": 2,
    "start_time": "2022-02-13T17:42:18.044Z"
   },
   {
    "duration": 44,
    "start_time": "2022-02-13T17:42:19.541Z"
   },
   {
    "duration": 11,
    "start_time": "2022-02-13T17:42:20.898Z"
   },
   {
    "duration": 9,
    "start_time": "2022-02-13T17:42:25.859Z"
   },
   {
    "duration": 23,
    "start_time": "2022-02-13T17:42:31.807Z"
   },
   {
    "duration": 7,
    "start_time": "2022-02-13T17:42:43.155Z"
   },
   {
    "duration": 9,
    "start_time": "2022-02-13T17:42:45.110Z"
   },
   {
    "duration": 8,
    "start_time": "2022-02-13T17:43:10.063Z"
   },
   {
    "duration": 14,
    "start_time": "2022-02-13T17:43:24.538Z"
   },
   {
    "duration": 13,
    "start_time": "2022-02-13T17:43:32.751Z"
   },
   {
    "duration": 8,
    "start_time": "2022-02-13T17:43:35.581Z"
   },
   {
    "duration": 12,
    "start_time": "2022-02-13T17:43:37.509Z"
   },
   {
    "duration": 2,
    "start_time": "2022-02-13T17:43:42.905Z"
   },
   {
    "duration": 47,
    "start_time": "2022-02-13T17:43:42.908Z"
   },
   {
    "duration": 11,
    "start_time": "2022-02-13T17:43:42.957Z"
   },
   {
    "duration": 10,
    "start_time": "2022-02-13T17:43:42.969Z"
   },
   {
    "duration": 7,
    "start_time": "2022-02-13T17:43:42.981Z"
   },
   {
    "duration": 5,
    "start_time": "2022-02-13T17:43:42.989Z"
   },
   {
    "duration": 31,
    "start_time": "2022-02-13T17:43:42.996Z"
   },
   {
    "duration": 2,
    "start_time": "2022-02-13T17:43:54.731Z"
   },
   {
    "duration": 45,
    "start_time": "2022-02-13T17:43:56.180Z"
   },
   {
    "duration": 11,
    "start_time": "2022-02-13T17:43:57.382Z"
   },
   {
    "duration": 10,
    "start_time": "2022-02-13T17:44:00.030Z"
   },
   {
    "duration": 9,
    "start_time": "2022-02-13T17:44:06.001Z"
   },
   {
    "duration": 7,
    "start_time": "2022-02-13T17:44:07.782Z"
   },
   {
    "duration": 9,
    "start_time": "2022-02-13T17:44:10.479Z"
   },
   {
    "duration": 14,
    "start_time": "2022-02-13T17:44:12.254Z"
   },
   {
    "duration": 13,
    "start_time": "2022-02-13T17:44:26.143Z"
   },
   {
    "duration": 2,
    "start_time": "2022-02-13T17:44:41.872Z"
   },
   {
    "duration": 46,
    "start_time": "2022-02-13T17:44:41.876Z"
   },
   {
    "duration": 10,
    "start_time": "2022-02-13T17:44:41.924Z"
   },
   {
    "duration": 10,
    "start_time": "2022-02-13T17:44:41.935Z"
   },
   {
    "duration": 8,
    "start_time": "2022-02-13T17:44:41.946Z"
   },
   {
    "duration": 5,
    "start_time": "2022-02-13T17:44:41.955Z"
   },
   {
    "duration": 7,
    "start_time": "2022-02-13T17:44:41.962Z"
   },
   {
    "duration": 2,
    "start_time": "2022-02-13T17:44:45.272Z"
   },
   {
    "duration": 47,
    "start_time": "2022-02-13T17:44:45.276Z"
   },
   {
    "duration": 11,
    "start_time": "2022-02-13T17:44:45.325Z"
   },
   {
    "duration": 12,
    "start_time": "2022-02-13T17:44:45.337Z"
   },
   {
    "duration": 7,
    "start_time": "2022-02-13T17:44:45.351Z"
   },
   {
    "duration": 6,
    "start_time": "2022-02-13T17:44:45.360Z"
   },
   {
    "duration": 8,
    "start_time": "2022-02-13T17:44:45.367Z"
   },
   {
    "duration": 12,
    "start_time": "2022-02-13T17:44:45.376Z"
   },
   {
    "duration": 321,
    "start_time": "2022-02-13T17:45:20.723Z"
   },
   {
    "duration": 4,
    "start_time": "2022-02-13T17:49:51.851Z"
   },
   {
    "duration": 9231,
    "start_time": "2022-02-13T17:50:20.558Z"
   },
   {
    "duration": 94,
    "start_time": "2022-02-13T17:52:19.101Z"
   },
   {
    "duration": 1245,
    "start_time": "2022-02-13T17:52:21.624Z"
   },
   {
    "duration": 1608,
    "start_time": "2022-02-13T17:52:58.732Z"
   },
   {
    "duration": 1209,
    "start_time": "2022-02-13T17:53:21.750Z"
   },
   {
    "duration": 9,
    "start_time": "2022-02-13T17:53:44.176Z"
   },
   {
    "duration": 337,
    "start_time": "2022-02-13T17:58:15.832Z"
   },
   {
    "duration": 101,
    "start_time": "2022-02-13T17:58:21.066Z"
   },
   {
    "duration": 324,
    "start_time": "2022-02-13T17:58:24.202Z"
   },
   {
    "duration": 329,
    "start_time": "2022-02-13T17:58:34.425Z"
   },
   {
    "duration": 3,
    "start_time": "2022-02-13T17:58:40.462Z"
   },
   {
    "duration": 4,
    "start_time": "2022-02-13T17:58:46.042Z"
   },
   {
    "duration": 6,
    "start_time": "2022-02-13T17:59:29.389Z"
   },
   {
    "duration": 4,
    "start_time": "2022-02-13T17:59:42.017Z"
   },
   {
    "duration": 9,
    "start_time": "2022-02-13T17:59:47.753Z"
   },
   {
    "duration": 2,
    "start_time": "2022-02-13T17:59:51.652Z"
   },
   {
    "duration": 48,
    "start_time": "2022-02-13T17:59:51.656Z"
   },
   {
    "duration": 11,
    "start_time": "2022-02-13T17:59:51.706Z"
   },
   {
    "duration": 15,
    "start_time": "2022-02-13T17:59:51.719Z"
   },
   {
    "duration": 9,
    "start_time": "2022-02-13T17:59:53.492Z"
   },
   {
    "duration": 5,
    "start_time": "2022-02-13T17:59:58.563Z"
   },
   {
    "duration": 323,
    "start_time": "2022-02-13T18:00:13.801Z"
   },
   {
    "duration": 100,
    "start_time": "2022-02-13T18:00:28.352Z"
   },
   {
    "duration": 107,
    "start_time": "2022-02-13T18:00:46.779Z"
   },
   {
    "duration": 4,
    "start_time": "2022-02-13T18:00:50.999Z"
   },
   {
    "duration": 5,
    "start_time": "2022-02-13T18:02:21.919Z"
   },
   {
    "duration": 104,
    "start_time": "2022-02-13T18:02:26.727Z"
   },
   {
    "duration": 4,
    "start_time": "2022-02-13T18:02:37.216Z"
   },
   {
    "duration": 4,
    "start_time": "2022-02-13T18:02:48.582Z"
   },
   {
    "duration": 5,
    "start_time": "2022-02-13T18:03:00.261Z"
   },
   {
    "duration": 5,
    "start_time": "2022-02-13T18:04:11.280Z"
   },
   {
    "duration": 9,
    "start_time": "2022-02-13T18:11:50.085Z"
   },
   {
    "duration": 5,
    "start_time": "2022-02-13T18:11:58.520Z"
   },
   {
    "duration": 5,
    "start_time": "2022-02-13T18:12:00.621Z"
   },
   {
    "duration": 351,
    "start_time": "2022-02-13T18:18:47.702Z"
   },
   {
    "duration": 5,
    "start_time": "2022-02-13T18:20:10.021Z"
   },
   {
    "duration": 4,
    "start_time": "2022-02-13T18:20:16.275Z"
   },
   {
    "duration": 8,
    "start_time": "2022-02-13T18:23:03.691Z"
   },
   {
    "duration": 4,
    "start_time": "2022-02-13T18:23:25.350Z"
   },
   {
    "duration": 332,
    "start_time": "2022-02-13T18:23:44.343Z"
   },
   {
    "duration": 317,
    "start_time": "2022-02-13T18:24:20.030Z"
   },
   {
    "duration": 2,
    "start_time": "2022-02-13T18:25:08.944Z"
   },
   {
    "duration": 54,
    "start_time": "2022-02-13T18:25:08.948Z"
   },
   {
    "duration": 11,
    "start_time": "2022-02-13T18:25:09.004Z"
   },
   {
    "duration": 26,
    "start_time": "2022-02-13T18:25:09.016Z"
   },
   {
    "duration": 18,
    "start_time": "2022-02-13T18:25:09.044Z"
   },
   {
    "duration": 15,
    "start_time": "2022-02-13T18:25:09.063Z"
   },
   {
    "duration": 16,
    "start_time": "2022-02-13T18:25:09.079Z"
   },
   {
    "duration": 5,
    "start_time": "2022-02-13T18:25:10.683Z"
   },
   {
    "duration": 4,
    "start_time": "2022-02-13T18:26:52.907Z"
   },
   {
    "duration": 3,
    "start_time": "2022-02-13T18:32:36.340Z"
   },
   {
    "duration": 2,
    "start_time": "2022-02-13T18:32:45.491Z"
   },
   {
    "duration": 49,
    "start_time": "2022-02-13T18:32:45.494Z"
   },
   {
    "duration": 11,
    "start_time": "2022-02-13T18:32:45.545Z"
   },
   {
    "duration": 11,
    "start_time": "2022-02-13T18:32:45.557Z"
   },
   {
    "duration": 7,
    "start_time": "2022-02-13T18:32:45.570Z"
   },
   {
    "duration": 3,
    "start_time": "2022-02-13T18:32:45.579Z"
   },
   {
    "duration": 5,
    "start_time": "2022-02-13T18:32:45.584Z"
   },
   {
    "duration": 4,
    "start_time": "2022-02-13T18:33:13.562Z"
   },
   {
    "duration": 5,
    "start_time": "2022-02-13T18:33:26.138Z"
   },
   {
    "duration": 6,
    "start_time": "2022-02-13T18:33:31.029Z"
   },
   {
    "duration": 6,
    "start_time": "2022-02-13T18:33:34.438Z"
   },
   {
    "duration": 4,
    "start_time": "2022-02-13T18:34:03.095Z"
   },
   {
    "duration": 5,
    "start_time": "2022-02-13T18:34:11.548Z"
   },
   {
    "duration": 6,
    "start_time": "2022-02-13T18:34:33.254Z"
   },
   {
    "duration": 4,
    "start_time": "2022-02-13T18:36:15.406Z"
   },
   {
    "duration": 4,
    "start_time": "2022-02-13T18:36:28.845Z"
   },
   {
    "duration": 8,
    "start_time": "2022-02-13T18:36:38.164Z"
   },
   {
    "duration": 8,
    "start_time": "2022-02-13T18:36:46.936Z"
   },
   {
    "duration": 3,
    "start_time": "2022-02-13T18:36:49.512Z"
   },
   {
    "duration": 47,
    "start_time": "2022-02-13T18:36:49.516Z"
   },
   {
    "duration": 10,
    "start_time": "2022-02-13T18:36:49.565Z"
   },
   {
    "duration": 14,
    "start_time": "2022-02-13T18:36:49.576Z"
   },
   {
    "duration": 9,
    "start_time": "2022-02-13T18:36:49.591Z"
   },
   {
    "duration": 6,
    "start_time": "2022-02-13T18:36:49.602Z"
   },
   {
    "duration": 19,
    "start_time": "2022-02-13T18:36:49.609Z"
   },
   {
    "duration": 3,
    "start_time": "2022-02-13T18:36:49.629Z"
   },
   {
    "duration": 7,
    "start_time": "2022-02-13T18:36:49.634Z"
   },
   {
    "duration": 14,
    "start_time": "2022-02-13T18:36:49.642Z"
   },
   {
    "duration": 9,
    "start_time": "2022-02-13T18:36:51.601Z"
   },
   {
    "duration": 3,
    "start_time": "2022-02-13T18:37:52.134Z"
   },
   {
    "duration": 5,
    "start_time": "2022-02-13T18:38:07.582Z"
   },
   {
    "duration": 2,
    "start_time": "2022-02-13T18:43:17.027Z"
   },
   {
    "duration": 47,
    "start_time": "2022-02-13T18:43:17.031Z"
   },
   {
    "duration": 12,
    "start_time": "2022-02-13T18:43:17.080Z"
   },
   {
    "duration": 10,
    "start_time": "2022-02-13T18:43:17.094Z"
   },
   {
    "duration": 23,
    "start_time": "2022-02-13T18:43:17.105Z"
   },
   {
    "duration": 5,
    "start_time": "2022-02-13T18:43:17.129Z"
   },
   {
    "duration": 5,
    "start_time": "2022-02-13T18:43:17.135Z"
   },
   {
    "duration": 13,
    "start_time": "2022-02-13T18:43:17.141Z"
   },
   {
    "duration": 3,
    "start_time": "2022-02-13T18:43:17.156Z"
   },
   {
    "duration": 6,
    "start_time": "2022-02-13T18:43:17.161Z"
   },
   {
    "duration": 8,
    "start_time": "2022-02-13T18:43:17.168Z"
   },
   {
    "duration": 3,
    "start_time": "2022-02-13T18:43:17.178Z"
   },
   {
    "duration": 303,
    "start_time": "2022-02-13T18:43:19.175Z"
   },
   {
    "duration": 4,
    "start_time": "2022-02-13T18:43:41.348Z"
   },
   {
    "duration": 5,
    "start_time": "2022-02-13T18:44:18.711Z"
   },
   {
    "duration": 4,
    "start_time": "2022-02-13T18:44:29.282Z"
   },
   {
    "duration": 311,
    "start_time": "2022-02-13T18:44:46.843Z"
   },
   {
    "duration": 309,
    "start_time": "2022-02-13T18:44:53.297Z"
   },
   {
    "duration": 5,
    "start_time": "2022-02-13T18:45:14.461Z"
   },
   {
    "duration": 5,
    "start_time": "2022-02-13T18:45:28.847Z"
   },
   {
    "duration": 5,
    "start_time": "2022-02-13T18:45:49.820Z"
   },
   {
    "duration": 3,
    "start_time": "2022-02-13T18:46:00.196Z"
   },
   {
    "duration": 55,
    "start_time": "2022-02-13T18:46:00.201Z"
   },
   {
    "duration": 12,
    "start_time": "2022-02-13T18:46:00.258Z"
   },
   {
    "duration": 15,
    "start_time": "2022-02-13T18:46:00.272Z"
   },
   {
    "duration": 16,
    "start_time": "2022-02-13T18:46:00.288Z"
   },
   {
    "duration": 5,
    "start_time": "2022-02-13T18:46:00.395Z"
   },
   {
    "duration": 13,
    "start_time": "2022-02-13T18:46:00.401Z"
   },
   {
    "duration": 9,
    "start_time": "2022-02-13T18:46:00.416Z"
   },
   {
    "duration": 20,
    "start_time": "2022-02-13T18:46:00.427Z"
   },
   {
    "duration": 5,
    "start_time": "2022-02-13T18:46:00.478Z"
   },
   {
    "duration": 13,
    "start_time": "2022-02-13T18:46:00.485Z"
   },
   {
    "duration": 7,
    "start_time": "2022-02-13T18:46:00.500Z"
   },
   {
    "duration": 6,
    "start_time": "2022-02-13T18:46:01.468Z"
   },
   {
    "duration": 5,
    "start_time": "2022-02-13T18:46:02.817Z"
   },
   {
    "duration": 5,
    "start_time": "2022-02-13T18:46:25.361Z"
   },
   {
    "duration": 4,
    "start_time": "2022-02-13T18:46:32.219Z"
   },
   {
    "duration": 5,
    "start_time": "2022-02-13T18:46:37.312Z"
   },
   {
    "duration": 3,
    "start_time": "2022-02-13T18:47:27.101Z"
   },
   {
    "duration": 47,
    "start_time": "2022-02-13T18:47:27.106Z"
   },
   {
    "duration": 11,
    "start_time": "2022-02-13T18:47:27.156Z"
   },
   {
    "duration": 9,
    "start_time": "2022-02-13T18:47:27.169Z"
   },
   {
    "duration": 8,
    "start_time": "2022-02-13T18:47:27.180Z"
   },
   {
    "duration": 3,
    "start_time": "2022-02-13T18:47:27.190Z"
   },
   {
    "duration": 32,
    "start_time": "2022-02-13T18:47:27.195Z"
   },
   {
    "duration": 3,
    "start_time": "2022-02-13T18:47:27.229Z"
   },
   {
    "duration": 6,
    "start_time": "2022-02-13T18:47:27.234Z"
   },
   {
    "duration": 6,
    "start_time": "2022-02-13T18:47:27.241Z"
   },
   {
    "duration": 9,
    "start_time": "2022-02-13T18:47:27.249Z"
   },
   {
    "duration": 3,
    "start_time": "2022-02-13T18:47:27.260Z"
   },
   {
    "duration": 6,
    "start_time": "2022-02-13T18:47:27.265Z"
   },
   {
    "duration": 5,
    "start_time": "2022-02-13T18:47:27.272Z"
   },
   {
    "duration": 6,
    "start_time": "2022-02-13T18:47:27.278Z"
   },
   {
    "duration": 4,
    "start_time": "2022-02-13T18:47:29.496Z"
   },
   {
    "duration": 5,
    "start_time": "2022-02-13T18:47:30.814Z"
   },
   {
    "duration": 5,
    "start_time": "2022-02-13T18:47:33.675Z"
   },
   {
    "duration": 6,
    "start_time": "2022-02-13T18:47:36.231Z"
   },
   {
    "duration": 6,
    "start_time": "2022-02-13T18:47:38.021Z"
   },
   {
    "duration": 6,
    "start_time": "2022-02-13T18:47:42.048Z"
   },
   {
    "duration": 35,
    "start_time": "2022-02-13T18:47:44.992Z"
   },
   {
    "duration": 7,
    "start_time": "2022-02-13T18:47:55.286Z"
   },
   {
    "duration": 2,
    "start_time": "2022-02-13T18:49:59.776Z"
   },
   {
    "duration": 49,
    "start_time": "2022-02-13T18:49:59.780Z"
   },
   {
    "duration": 12,
    "start_time": "2022-02-13T18:49:59.831Z"
   },
   {
    "duration": 10,
    "start_time": "2022-02-13T18:49:59.845Z"
   },
   {
    "duration": 8,
    "start_time": "2022-02-13T18:49:59.856Z"
   },
   {
    "duration": 9,
    "start_time": "2022-02-13T18:49:59.866Z"
   },
   {
    "duration": 5,
    "start_time": "2022-02-13T18:49:59.877Z"
   },
   {
    "duration": 4,
    "start_time": "2022-02-13T18:51:04.362Z"
   },
   {
    "duration": 5,
    "start_time": "2022-02-13T18:51:08.740Z"
   },
   {
    "duration": 5,
    "start_time": "2022-02-13T18:51:27.600Z"
   },
   {
    "duration": 344,
    "start_time": "2022-02-13T18:52:04.146Z"
   },
   {
    "duration": 312,
    "start_time": "2022-02-13T18:52:15.832Z"
   },
   {
    "duration": 331,
    "start_time": "2022-02-13T18:52:21.491Z"
   },
   {
    "duration": 141,
    "start_time": "2022-02-13T18:52:35.638Z"
   },
   {
    "duration": 115,
    "start_time": "2022-02-13T18:52:38.665Z"
   },
   {
    "duration": 114,
    "start_time": "2022-02-13T18:52:44.186Z"
   },
   {
    "duration": 114,
    "start_time": "2022-02-13T18:53:54.309Z"
   },
   {
    "duration": 333,
    "start_time": "2022-02-13T18:53:57.840Z"
   },
   {
    "duration": 3,
    "start_time": "2022-02-13T18:54:08.095Z"
   },
   {
    "duration": 73,
    "start_time": "2022-02-13T18:54:08.100Z"
   },
   {
    "duration": 15,
    "start_time": "2022-02-13T18:54:08.176Z"
   },
   {
    "duration": 11,
    "start_time": "2022-02-13T18:54:08.192Z"
   },
   {
    "duration": 27,
    "start_time": "2022-02-13T18:54:08.204Z"
   },
   {
    "duration": 5,
    "start_time": "2022-02-13T18:54:08.233Z"
   },
   {
    "duration": 6,
    "start_time": "2022-02-13T18:54:08.240Z"
   },
   {
    "duration": 315,
    "start_time": "2022-02-13T18:54:09.721Z"
   },
   {
    "duration": 309,
    "start_time": "2022-02-13T18:54:19.324Z"
   },
   {
    "duration": 320,
    "start_time": "2022-02-13T18:54:26.437Z"
   },
   {
    "duration": 3074,
    "start_time": "2022-02-13T18:55:01.911Z"
   },
   {
    "duration": 315,
    "start_time": "2022-02-13T18:55:52.160Z"
   },
   {
    "duration": 1578,
    "start_time": "2022-02-13T18:56:42.669Z"
   },
   {
    "duration": 320,
    "start_time": "2022-02-13T18:56:53.731Z"
   },
   {
    "duration": 107,
    "start_time": "2022-02-13T18:57:04.353Z"
   },
   {
    "duration": 6,
    "start_time": "2022-02-13T18:57:09.868Z"
   },
   {
    "duration": 8,
    "start_time": "2022-02-13T18:57:14.870Z"
   },
   {
    "duration": 8,
    "start_time": "2022-02-13T18:57:37.365Z"
   },
   {
    "duration": 319,
    "start_time": "2022-02-13T18:58:40.735Z"
   },
   {
    "duration": 402,
    "start_time": "2022-02-13T18:58:43.366Z"
   },
   {
    "duration": 12,
    "start_time": "2022-02-13T18:59:40.651Z"
   },
   {
    "duration": 11,
    "start_time": "2022-02-13T18:59:47.679Z"
   },
   {
    "duration": 3048,
    "start_time": "2022-02-13T18:59:55.019Z"
   },
   {
    "duration": 2,
    "start_time": "2022-02-13T19:02:35.446Z"
   },
   {
    "duration": 5,
    "start_time": "2022-02-13T19:02:43.656Z"
   },
   {
    "duration": 106,
    "start_time": "2022-02-13T19:03:31.055Z"
   },
   {
    "duration": 7,
    "start_time": "2022-02-13T19:03:36.027Z"
   },
   {
    "duration": 1532,
    "start_time": "2022-02-13T19:04:46.592Z"
   },
   {
    "duration": 1546,
    "start_time": "2022-02-13T19:05:16.292Z"
   },
   {
    "duration": 311,
    "start_time": "2022-02-13T19:05:22.433Z"
   },
   {
    "duration": 395,
    "start_time": "2022-02-13T19:06:16.721Z"
   },
   {
    "duration": 319,
    "start_time": "2022-02-13T19:06:42.103Z"
   },
   {
    "duration": 10,
    "start_time": "2022-02-13T19:06:49.400Z"
   },
   {
    "duration": 330,
    "start_time": "2022-02-13T19:07:10.410Z"
   },
   {
    "duration": 2950,
    "start_time": "2022-02-13T19:07:14.061Z"
   },
   {
    "duration": 1642,
    "start_time": "2022-02-13T19:07:24.004Z"
   },
   {
    "duration": 314,
    "start_time": "2022-02-13T19:07:34.471Z"
   },
   {
    "duration": 10,
    "start_time": "2022-02-13T19:07:37.543Z"
   },
   {
    "duration": 10,
    "start_time": "2022-02-13T19:07:48.011Z"
   },
   {
    "duration": 1560,
    "start_time": "2022-02-13T19:07:53.552Z"
   },
   {
    "duration": 5,
    "start_time": "2022-02-13T19:08:41.160Z"
   },
   {
    "duration": 23,
    "start_time": "2022-02-13T19:08:48.959Z"
   },
   {
    "duration": 10,
    "start_time": "2022-02-13T19:09:00.489Z"
   },
   {
    "duration": 10,
    "start_time": "2022-02-13T19:09:13.589Z"
   },
   {
    "duration": 12,
    "start_time": "2022-02-13T19:09:17.756Z"
   },
   {
    "duration": 377,
    "start_time": "2022-02-13T19:10:01.684Z"
   },
   {
    "duration": 319,
    "start_time": "2022-02-13T19:10:20.945Z"
   },
   {
    "duration": 3,
    "start_time": "2022-02-13T19:11:11.706Z"
   },
   {
    "duration": 49,
    "start_time": "2022-02-13T19:11:11.711Z"
   },
   {
    "duration": 12,
    "start_time": "2022-02-13T19:11:11.761Z"
   },
   {
    "duration": 11,
    "start_time": "2022-02-13T19:11:11.774Z"
   },
   {
    "duration": 9,
    "start_time": "2022-02-13T19:11:11.786Z"
   },
   {
    "duration": 4,
    "start_time": "2022-02-13T19:11:11.797Z"
   },
   {
    "duration": 25,
    "start_time": "2022-02-13T19:11:11.803Z"
   },
   {
    "duration": 6,
    "start_time": "2022-02-13T19:11:20.118Z"
   },
   {
    "duration": 18,
    "start_time": "2022-02-13T19:11:29.437Z"
   },
   {
    "duration": 7,
    "start_time": "2022-02-13T19:12:01.951Z"
   },
   {
    "duration": 6,
    "start_time": "2022-02-13T19:12:09.761Z"
   },
   {
    "duration": 7,
    "start_time": "2022-02-13T19:12:15.894Z"
   },
   {
    "duration": 5,
    "start_time": "2022-02-13T19:12:24.496Z"
   },
   {
    "duration": 9,
    "start_time": "2022-02-13T19:12:28.257Z"
   },
   {
    "duration": 11,
    "start_time": "2022-02-13T19:12:35.893Z"
   },
   {
    "duration": 316,
    "start_time": "2022-02-13T19:12:39.070Z"
   },
   {
    "duration": 7,
    "start_time": "2022-02-13T19:12:45.198Z"
   },
   {
    "duration": 6,
    "start_time": "2022-02-13T19:12:50.880Z"
   },
   {
    "duration": 6,
    "start_time": "2022-02-13T19:12:57.852Z"
   },
   {
    "duration": 6,
    "start_time": "2022-02-13T19:13:10.308Z"
   },
   {
    "duration": 11,
    "start_time": "2022-02-13T19:13:14.456Z"
   },
   {
    "duration": 19,
    "start_time": "2022-02-13T19:13:25.441Z"
   },
   {
    "duration": 2,
    "start_time": "2022-02-13T19:14:18.782Z"
   },
   {
    "duration": 51,
    "start_time": "2022-02-13T19:14:18.785Z"
   },
   {
    "duration": 12,
    "start_time": "2022-02-13T19:14:18.837Z"
   },
   {
    "duration": 13,
    "start_time": "2022-02-13T19:14:18.851Z"
   },
   {
    "duration": 13,
    "start_time": "2022-02-13T19:14:18.866Z"
   },
   {
    "duration": 11,
    "start_time": "2022-02-13T19:14:18.881Z"
   },
   {
    "duration": 16,
    "start_time": "2022-02-13T19:14:18.894Z"
   },
   {
    "duration": 18,
    "start_time": "2022-02-13T19:17:38.155Z"
   },
   {
    "duration": 19,
    "start_time": "2022-02-13T19:18:45.449Z"
   },
   {
    "duration": 4,
    "start_time": "2022-02-13T19:24:13.895Z"
   },
   {
    "duration": 3,
    "start_time": "2022-02-13T19:24:18.922Z"
   },
   {
    "duration": 49,
    "start_time": "2022-02-13T19:24:18.926Z"
   },
   {
    "duration": 11,
    "start_time": "2022-02-13T19:24:18.977Z"
   },
   {
    "duration": 10,
    "start_time": "2022-02-13T19:24:18.990Z"
   },
   {
    "duration": 8,
    "start_time": "2022-02-13T19:24:19.002Z"
   },
   {
    "duration": 4,
    "start_time": "2022-02-13T19:24:19.012Z"
   },
   {
    "duration": 12,
    "start_time": "2022-02-13T19:24:19.018Z"
   },
   {
    "duration": 20,
    "start_time": "2022-02-13T19:24:19.031Z"
   },
   {
    "duration": 3,
    "start_time": "2022-02-13T19:27:23.291Z"
   },
   {
    "duration": 49,
    "start_time": "2022-02-13T19:27:23.296Z"
   },
   {
    "duration": 11,
    "start_time": "2022-02-13T19:27:23.347Z"
   },
   {
    "duration": 10,
    "start_time": "2022-02-13T19:27:23.389Z"
   },
   {
    "duration": 10,
    "start_time": "2022-02-13T19:27:23.401Z"
   },
   {
    "duration": 4,
    "start_time": "2022-02-13T19:27:23.413Z"
   },
   {
    "duration": 9,
    "start_time": "2022-02-13T19:27:23.419Z"
   },
   {
    "duration": 20,
    "start_time": "2022-02-13T19:27:23.493Z"
   },
   {
    "duration": 3,
    "start_time": "2022-02-13T19:27:25.260Z"
   },
   {
    "duration": 4,
    "start_time": "2022-02-13T19:27:27.939Z"
   },
   {
    "duration": 3,
    "start_time": "2022-02-13T19:27:31.630Z"
   },
   {
    "duration": 4,
    "start_time": "2022-02-13T19:27:34.323Z"
   },
   {
    "duration": 9,
    "start_time": "2022-02-13T19:27:35.984Z"
   },
   {
    "duration": 4,
    "start_time": "2022-02-13T19:28:18.547Z"
   },
   {
    "duration": 5,
    "start_time": "2022-02-13T19:28:22.545Z"
   },
   {
    "duration": 6,
    "start_time": "2022-02-13T19:28:48.274Z"
   },
   {
    "duration": 5,
    "start_time": "2022-02-13T19:29:17.931Z"
   },
   {
    "duration": 3,
    "start_time": "2022-02-13T19:29:20.863Z"
   },
   {
    "duration": 5,
    "start_time": "2022-02-13T19:29:22.270Z"
   },
   {
    "duration": 4,
    "start_time": "2022-02-13T19:29:35.709Z"
   },
   {
    "duration": 5,
    "start_time": "2022-02-13T19:29:40.558Z"
   },
   {
    "duration": 3,
    "start_time": "2022-02-13T19:29:52.828Z"
   },
   {
    "duration": 9,
    "start_time": "2022-02-13T19:29:55.233Z"
   },
   {
    "duration": 3,
    "start_time": "2022-02-13T19:29:59.139Z"
   },
   {
    "duration": 54,
    "start_time": "2022-02-13T19:29:59.144Z"
   },
   {
    "duration": 12,
    "start_time": "2022-02-13T19:29:59.201Z"
   },
   {
    "duration": 13,
    "start_time": "2022-02-13T19:29:59.214Z"
   },
   {
    "duration": 9,
    "start_time": "2022-02-13T19:29:59.228Z"
   },
   {
    "duration": 4,
    "start_time": "2022-02-13T19:29:59.239Z"
   },
   {
    "duration": 4,
    "start_time": "2022-02-13T19:29:59.245Z"
   },
   {
    "duration": 21,
    "start_time": "2022-02-13T19:29:59.251Z"
   },
   {
    "duration": 5,
    "start_time": "2022-02-13T19:29:59.273Z"
   },
   {
    "duration": 3,
    "start_time": "2022-02-13T19:29:59.279Z"
   },
   {
    "duration": 6,
    "start_time": "2022-02-13T19:29:59.283Z"
   },
   {
    "duration": 4,
    "start_time": "2022-02-13T19:29:59.327Z"
   },
   {
    "duration": 11,
    "start_time": "2022-02-13T19:29:59.332Z"
   },
   {
    "duration": 4,
    "start_time": "2022-02-13T19:30:05.275Z"
   },
   {
    "duration": 5,
    "start_time": "2022-02-13T19:36:17.106Z"
   },
   {
    "duration": 5,
    "start_time": "2022-02-13T19:36:25.275Z"
   },
   {
    "duration": 5,
    "start_time": "2022-02-13T19:36:30.480Z"
   },
   {
    "duration": 21,
    "start_time": "2022-02-13T19:36:42.698Z"
   },
   {
    "duration": 20,
    "start_time": "2022-02-13T19:37:27.233Z"
   },
   {
    "duration": 20,
    "start_time": "2022-02-13T19:38:02.393Z"
   },
   {
    "duration": 19,
    "start_time": "2022-02-13T19:38:11.519Z"
   },
   {
    "duration": 7,
    "start_time": "2022-02-13T19:38:37.701Z"
   },
   {
    "duration": 6,
    "start_time": "2022-02-13T19:38:45.420Z"
   },
   {
    "duration": 8,
    "start_time": "2022-02-13T19:38:52.197Z"
   },
   {
    "duration": 6,
    "start_time": "2022-02-13T19:38:57.224Z"
   },
   {
    "duration": 344,
    "start_time": "2022-02-13T19:39:05.919Z"
   },
   {
    "duration": 352,
    "start_time": "2022-02-13T19:39:15.539Z"
   },
   {
    "duration": 7,
    "start_time": "2022-02-13T19:39:19.302Z"
   },
   {
    "duration": 7,
    "start_time": "2022-02-13T19:39:28.331Z"
   },
   {
    "duration": 344,
    "start_time": "2022-02-13T19:39:42.201Z"
   },
   {
    "duration": 5,
    "start_time": "2022-02-13T19:39:50.933Z"
   },
   {
    "duration": 110,
    "start_time": "2022-02-13T19:40:01.749Z"
   },
   {
    "duration": 4821,
    "start_time": "2022-02-13T19:40:05.463Z"
   },
   {
    "duration": 7,
    "start_time": "2022-02-13T19:40:13.278Z"
   },
   {
    "duration": 7,
    "start_time": "2022-02-13T19:48:56.797Z"
   },
   {
    "duration": 8401,
    "start_time": "2022-02-13T19:49:20.882Z"
   },
   {
    "duration": 355,
    "start_time": "2022-02-13T19:49:36.439Z"
   },
   {
    "duration": 96,
    "start_time": "2022-02-13T19:49:51.260Z"
   },
   {
    "duration": 297,
    "start_time": "2022-02-13T19:49:59.167Z"
   },
   {
    "duration": 354,
    "start_time": "2022-02-13T19:50:16.578Z"
   },
   {
    "duration": 320,
    "start_time": "2022-02-13T19:50:35.788Z"
   },
   {
    "duration": 340,
    "start_time": "2022-02-13T19:50:46.466Z"
   },
   {
    "duration": 5,
    "start_time": "2022-02-13T19:50:51.878Z"
   },
   {
    "duration": 365,
    "start_time": "2022-02-13T19:50:56.066Z"
   },
   {
    "duration": 11,
    "start_time": "2022-02-13T19:50:58.857Z"
   },
   {
    "duration": 12,
    "start_time": "2022-02-13T19:51:01.389Z"
   },
   {
    "duration": 9,
    "start_time": "2022-02-13T19:51:04.935Z"
   },
   {
    "duration": 8,
    "start_time": "2022-02-13T19:51:08.983Z"
   },
   {
    "duration": 6,
    "start_time": "2022-02-13T19:51:26.893Z"
   },
   {
    "duration": 6,
    "start_time": "2022-02-13T19:52:03.038Z"
   },
   {
    "duration": 317,
    "start_time": "2022-02-13T19:52:46.978Z"
   },
   {
    "duration": 6,
    "start_time": "2022-02-13T19:53:51.814Z"
   },
   {
    "duration": 354,
    "start_time": "2022-02-13T19:53:54.552Z"
   },
   {
    "duration": 309,
    "start_time": "2022-02-13T19:54:14.571Z"
   },
   {
    "duration": 7,
    "start_time": "2022-02-13T19:55:06.413Z"
   },
   {
    "duration": 306,
    "start_time": "2022-02-13T20:00:42.137Z"
   },
   {
    "duration": 2,
    "start_time": "2022-02-13T20:01:03.382Z"
   },
   {
    "duration": 49,
    "start_time": "2022-02-13T20:01:03.386Z"
   },
   {
    "duration": 11,
    "start_time": "2022-02-13T20:01:03.437Z"
   },
   {
    "duration": 10,
    "start_time": "2022-02-13T20:01:03.449Z"
   },
   {
    "duration": 8,
    "start_time": "2022-02-13T20:01:03.460Z"
   },
   {
    "duration": 4,
    "start_time": "2022-02-13T20:01:03.469Z"
   },
   {
    "duration": 5,
    "start_time": "2022-02-13T20:01:03.475Z"
   },
   {
    "duration": 20,
    "start_time": "2022-02-13T20:01:03.481Z"
   },
   {
    "duration": 4,
    "start_time": "2022-02-13T20:01:03.528Z"
   },
   {
    "duration": 3,
    "start_time": "2022-02-13T20:01:03.533Z"
   },
   {
    "duration": 7,
    "start_time": "2022-02-13T20:01:03.538Z"
   },
   {
    "duration": 2,
    "start_time": "2022-02-13T20:01:03.547Z"
   },
   {
    "duration": 8,
    "start_time": "2022-02-13T20:01:03.551Z"
   },
   {
    "duration": 3,
    "start_time": "2022-02-13T20:01:03.561Z"
   },
   {
    "duration": 6,
    "start_time": "2022-02-13T20:01:03.566Z"
   },
   {
    "duration": 7,
    "start_time": "2022-02-13T20:01:03.573Z"
   },
   {
    "duration": 305,
    "start_time": "2022-02-13T20:01:06.342Z"
   },
   {
    "duration": 6349,
    "start_time": "2022-02-13T20:03:27.812Z"
   },
   {
    "duration": 342,
    "start_time": "2022-02-13T20:04:18.910Z"
   },
   {
    "duration": 299,
    "start_time": "2022-02-13T20:04:40.699Z"
   },
   {
    "duration": 311,
    "start_time": "2022-02-13T20:04:56.676Z"
   },
   {
    "duration": 322,
    "start_time": "2022-02-13T20:05:03.608Z"
   },
   {
    "duration": 296,
    "start_time": "2022-02-13T20:05:21.378Z"
   },
   {
    "duration": 5,
    "start_time": "2022-02-13T20:05:28.559Z"
   },
   {
    "duration": 8,
    "start_time": "2022-02-13T20:05:38.207Z"
   },
   {
    "duration": 2,
    "start_time": "2022-02-13T20:05:43.889Z"
   },
   {
    "duration": 50,
    "start_time": "2022-02-13T20:05:43.894Z"
   },
   {
    "duration": 11,
    "start_time": "2022-02-13T20:05:43.946Z"
   },
   {
    "duration": 10,
    "start_time": "2022-02-13T20:05:43.960Z"
   },
   {
    "duration": 9,
    "start_time": "2022-02-13T20:05:43.972Z"
   },
   {
    "duration": 5,
    "start_time": "2022-02-13T20:05:43.982Z"
   },
   {
    "duration": 6,
    "start_time": "2022-02-13T20:05:43.988Z"
   },
   {
    "duration": 20,
    "start_time": "2022-02-13T20:05:44.027Z"
   },
   {
    "duration": 5,
    "start_time": "2022-02-13T20:05:44.050Z"
   },
   {
    "duration": 4,
    "start_time": "2022-02-13T20:05:44.056Z"
   },
   {
    "duration": 6,
    "start_time": "2022-02-13T20:05:44.061Z"
   },
   {
    "duration": 5,
    "start_time": "2022-02-13T20:05:44.068Z"
   },
   {
    "duration": 9,
    "start_time": "2022-02-13T20:05:44.074Z"
   },
   {
    "duration": 5,
    "start_time": "2022-02-13T20:05:44.085Z"
   },
   {
    "duration": 7,
    "start_time": "2022-02-13T20:05:44.128Z"
   },
   {
    "duration": 7,
    "start_time": "2022-02-13T20:05:44.136Z"
   },
   {
    "duration": 7,
    "start_time": "2022-02-13T20:05:44.144Z"
   },
   {
    "duration": 6,
    "start_time": "2022-02-13T20:05:48.427Z"
   },
   {
    "duration": 6,
    "start_time": "2022-02-13T20:05:51.139Z"
   },
   {
    "duration": 9,
    "start_time": "2022-02-13T20:06:04.831Z"
   },
   {
    "duration": 369,
    "start_time": "2022-02-13T20:06:25.172Z"
   },
   {
    "duration": 388,
    "start_time": "2022-02-13T20:06:36.288Z"
   },
   {
    "duration": 334,
    "start_time": "2022-02-13T20:06:42.114Z"
   },
   {
    "duration": 5,
    "start_time": "2022-02-13T20:06:48.878Z"
   },
   {
    "duration": 5,
    "start_time": "2022-02-13T20:07:11.758Z"
   },
   {
    "duration": 6,
    "start_time": "2022-02-13T20:07:27.233Z"
   },
   {
    "duration": 3,
    "start_time": "2022-02-13T20:07:31.135Z"
   },
   {
    "duration": 54,
    "start_time": "2022-02-13T20:07:31.140Z"
   },
   {
    "duration": 10,
    "start_time": "2022-02-13T20:07:31.196Z"
   },
   {
    "duration": 16,
    "start_time": "2022-02-13T20:07:31.208Z"
   },
   {
    "duration": 8,
    "start_time": "2022-02-13T20:07:31.226Z"
   },
   {
    "duration": 5,
    "start_time": "2022-02-13T20:07:31.235Z"
   },
   {
    "duration": 6,
    "start_time": "2022-02-13T20:07:31.241Z"
   },
   {
    "duration": 21,
    "start_time": "2022-02-13T20:07:31.249Z"
   },
   {
    "duration": 4,
    "start_time": "2022-02-13T20:07:31.273Z"
   },
   {
    "duration": 3,
    "start_time": "2022-02-13T20:07:31.279Z"
   },
   {
    "duration": 8,
    "start_time": "2022-02-13T20:07:31.284Z"
   },
   {
    "duration": 36,
    "start_time": "2022-02-13T20:07:31.293Z"
   },
   {
    "duration": 9,
    "start_time": "2022-02-13T20:07:31.331Z"
   },
   {
    "duration": 9,
    "start_time": "2022-02-13T20:07:31.342Z"
   },
   {
    "duration": 7,
    "start_time": "2022-02-13T20:07:31.352Z"
   },
   {
    "duration": 5,
    "start_time": "2022-02-13T20:07:31.361Z"
   },
   {
    "duration": 6,
    "start_time": "2022-02-13T20:07:38.794Z"
   },
   {
    "duration": 6,
    "start_time": "2022-02-13T20:07:40.425Z"
   },
   {
    "duration": 6,
    "start_time": "2022-02-13T20:07:55.362Z"
   },
   {
    "duration": 3,
    "start_time": "2022-02-13T20:08:20.320Z"
   },
   {
    "duration": 3,
    "start_time": "2022-02-13T20:09:00.105Z"
   },
   {
    "duration": 5,
    "start_time": "2022-02-13T20:09:04.379Z"
   },
   {
    "duration": 4,
    "start_time": "2022-02-13T20:09:07.484Z"
   },
   {
    "duration": 5,
    "start_time": "2022-02-13T20:09:15.796Z"
   },
   {
    "duration": 6,
    "start_time": "2022-02-13T20:09:54.439Z"
   },
   {
    "duration": 5,
    "start_time": "2022-02-13T20:10:38.682Z"
   },
   {
    "duration": 22,
    "start_time": "2022-02-13T20:10:55.762Z"
   },
   {
    "duration": 6,
    "start_time": "2022-02-13T20:11:09.104Z"
   },
   {
    "duration": 2,
    "start_time": "2022-02-13T20:13:50.470Z"
   },
   {
    "duration": 15,
    "start_time": "2022-02-13T20:17:04.144Z"
   },
   {
    "duration": 10,
    "start_time": "2022-02-13T20:17:41.528Z"
   },
   {
    "duration": 11,
    "start_time": "2022-02-13T20:19:14.272Z"
   },
   {
    "duration": 18,
    "start_time": "2022-02-13T20:21:04.311Z"
   },
   {
    "duration": 5,
    "start_time": "2022-02-13T20:21:28.928Z"
   },
   {
    "duration": 4,
    "start_time": "2022-02-13T20:21:43.796Z"
   },
   {
    "duration": 2,
    "start_time": "2022-02-13T20:21:48.569Z"
   },
   {
    "duration": 50,
    "start_time": "2022-02-13T20:21:48.573Z"
   },
   {
    "duration": 12,
    "start_time": "2022-02-13T20:21:48.625Z"
   },
   {
    "duration": 10,
    "start_time": "2022-02-13T20:21:48.639Z"
   },
   {
    "duration": 9,
    "start_time": "2022-02-13T20:21:48.651Z"
   },
   {
    "duration": 5,
    "start_time": "2022-02-13T20:21:48.661Z"
   },
   {
    "duration": 5,
    "start_time": "2022-02-13T20:21:48.667Z"
   },
   {
    "duration": 20,
    "start_time": "2022-02-13T20:21:48.674Z"
   },
   {
    "duration": 5,
    "start_time": "2022-02-13T20:21:48.727Z"
   },
   {
    "duration": 3,
    "start_time": "2022-02-13T20:21:48.734Z"
   },
   {
    "duration": 7,
    "start_time": "2022-02-13T20:21:48.739Z"
   },
   {
    "duration": 4,
    "start_time": "2022-02-13T20:21:48.747Z"
   },
   {
    "duration": 10,
    "start_time": "2022-02-13T20:21:48.753Z"
   },
   {
    "duration": 4,
    "start_time": "2022-02-13T20:21:48.764Z"
   },
   {
    "duration": 5,
    "start_time": "2022-02-13T20:21:48.770Z"
   },
   {
    "duration": 6,
    "start_time": "2022-02-13T20:21:48.776Z"
   },
   {
    "duration": 44,
    "start_time": "2022-02-13T20:21:48.783Z"
   },
   {
    "duration": 6,
    "start_time": "2022-02-13T20:21:48.828Z"
   },
   {
    "duration": 7,
    "start_time": "2022-02-13T20:21:48.835Z"
   },
   {
    "duration": 5,
    "start_time": "2022-02-13T20:21:48.843Z"
   },
   {
    "duration": 4,
    "start_time": "2022-02-13T20:21:48.849Z"
   },
   {
    "duration": 6,
    "start_time": "2022-02-13T20:21:48.855Z"
   },
   {
    "duration": 4,
    "start_time": "2022-02-13T20:21:48.862Z"
   },
   {
    "duration": 5,
    "start_time": "2022-02-13T20:21:48.867Z"
   },
   {
    "duration": 21,
    "start_time": "2022-02-13T20:21:48.873Z"
   },
   {
    "duration": 5,
    "start_time": "2022-02-13T20:21:48.927Z"
   },
   {
    "duration": 2,
    "start_time": "2022-02-13T20:21:48.935Z"
   },
   {
    "duration": 12,
    "start_time": "2022-02-13T20:21:48.938Z"
   },
   {
    "duration": 10,
    "start_time": "2022-02-13T20:21:48.951Z"
   },
   {
    "duration": 20,
    "start_time": "2022-02-13T20:21:48.962Z"
   },
   {
    "duration": 4,
    "start_time": "2022-02-13T20:21:48.983Z"
   },
   {
    "duration": 4,
    "start_time": "2022-02-13T20:29:47.835Z"
   },
   {
    "duration": 5,
    "start_time": "2022-02-13T20:29:54.282Z"
   },
   {
    "duration": 5,
    "start_time": "2022-02-13T20:30:05.000Z"
   },
   {
    "duration": 5,
    "start_time": "2022-02-13T20:30:09.652Z"
   },
   {
    "duration": 2,
    "start_time": "2022-02-13T20:30:21.837Z"
   },
   {
    "duration": 47,
    "start_time": "2022-02-13T20:30:21.842Z"
   },
   {
    "duration": 11,
    "start_time": "2022-02-13T20:30:21.891Z"
   },
   {
    "duration": 10,
    "start_time": "2022-02-13T20:30:21.903Z"
   },
   {
    "duration": 8,
    "start_time": "2022-02-13T20:30:21.914Z"
   },
   {
    "duration": 4,
    "start_time": "2022-02-13T20:30:21.923Z"
   },
   {
    "duration": 8,
    "start_time": "2022-02-13T20:30:21.928Z"
   },
   {
    "duration": 19,
    "start_time": "2022-02-13T20:30:21.937Z"
   },
   {
    "duration": 5,
    "start_time": "2022-02-13T20:30:21.958Z"
   },
   {
    "duration": 3,
    "start_time": "2022-02-13T20:30:21.965Z"
   },
   {
    "duration": 4,
    "start_time": "2022-02-13T20:30:21.997Z"
   },
   {
    "duration": 4,
    "start_time": "2022-02-13T20:30:22.003Z"
   },
   {
    "duration": 20,
    "start_time": "2022-02-13T20:30:22.008Z"
   },
   {
    "duration": 4,
    "start_time": "2022-02-13T20:30:22.029Z"
   },
   {
    "duration": 6,
    "start_time": "2022-02-13T20:30:22.034Z"
   },
   {
    "duration": 6,
    "start_time": "2022-02-13T20:30:22.041Z"
   },
   {
    "duration": 5,
    "start_time": "2022-02-13T20:30:22.064Z"
   },
   {
    "duration": 6,
    "start_time": "2022-02-13T20:30:22.071Z"
   },
   {
    "duration": 5,
    "start_time": "2022-02-13T20:30:22.078Z"
   },
   {
    "duration": 5,
    "start_time": "2022-02-13T20:30:22.085Z"
   },
   {
    "duration": 4,
    "start_time": "2022-02-13T20:30:22.091Z"
   },
   {
    "duration": 5,
    "start_time": "2022-02-13T20:30:22.097Z"
   },
   {
    "duration": 25,
    "start_time": "2022-02-13T20:30:22.104Z"
   },
   {
    "duration": 5,
    "start_time": "2022-02-13T20:30:22.130Z"
   },
   {
    "duration": 20,
    "start_time": "2022-02-13T20:30:22.201Z"
   },
   {
    "duration": 4,
    "start_time": "2022-02-13T20:30:22.223Z"
   },
   {
    "duration": 3,
    "start_time": "2022-02-13T20:30:22.229Z"
   },
   {
    "duration": 11,
    "start_time": "2022-02-13T20:30:22.233Z"
   },
   {
    "duration": 10,
    "start_time": "2022-02-13T20:30:22.246Z"
   },
   {
    "duration": 16,
    "start_time": "2022-02-13T20:30:22.258Z"
   },
   {
    "duration": 5,
    "start_time": "2022-02-13T20:30:22.305Z"
   },
   {
    "duration": 7,
    "start_time": "2022-02-13T20:30:22.311Z"
   },
   {
    "duration": 4,
    "start_time": "2022-02-13T20:30:22.319Z"
   },
   {
    "duration": 8,
    "start_time": "2022-02-13T20:30:22.324Z"
   },
   {
    "duration": 14,
    "start_time": "2022-02-13T20:30:24.621Z"
   },
   {
    "duration": 29,
    "start_time": "2022-02-13T20:36:25.198Z"
   },
   {
    "duration": 16,
    "start_time": "2022-02-13T20:36:45.389Z"
   },
   {
    "duration": 15,
    "start_time": "2022-02-13T20:37:03.807Z"
   },
   {
    "duration": 3,
    "start_time": "2022-02-13T20:37:11.934Z"
   },
   {
    "duration": 3,
    "start_time": "2022-02-13T20:37:20.451Z"
   },
   {
    "duration": 4,
    "start_time": "2022-02-13T20:37:34.121Z"
   },
   {
    "duration": 9,
    "start_time": "2022-02-13T20:48:44.117Z"
   },
   {
    "duration": 6,
    "start_time": "2022-02-13T20:48:52.773Z"
   },
   {
    "duration": 8,
    "start_time": "2022-02-13T20:48:58.118Z"
   },
   {
    "duration": 7,
    "start_time": "2022-02-13T20:49:10.915Z"
   },
   {
    "duration": 7,
    "start_time": "2022-02-13T20:49:19.765Z"
   },
   {
    "duration": 6,
    "start_time": "2022-02-13T20:49:22.420Z"
   },
   {
    "duration": 6,
    "start_time": "2022-02-13T20:49:25.163Z"
   },
   {
    "duration": 2,
    "start_time": "2022-02-13T20:49:29.994Z"
   },
   {
    "duration": 49,
    "start_time": "2022-02-13T20:49:29.998Z"
   },
   {
    "duration": 10,
    "start_time": "2022-02-13T20:49:30.049Z"
   },
   {
    "duration": 12,
    "start_time": "2022-02-13T20:49:30.061Z"
   },
   {
    "duration": 9,
    "start_time": "2022-02-13T20:49:30.075Z"
   },
   {
    "duration": 7,
    "start_time": "2022-02-13T20:49:30.086Z"
   },
   {
    "duration": 7,
    "start_time": "2022-02-13T20:49:30.094Z"
   },
   {
    "duration": 34,
    "start_time": "2022-02-13T20:49:30.102Z"
   },
   {
    "duration": 4,
    "start_time": "2022-02-13T20:49:30.138Z"
   },
   {
    "duration": 3,
    "start_time": "2022-02-13T20:49:30.144Z"
   },
   {
    "duration": 11,
    "start_time": "2022-02-13T20:49:30.148Z"
   },
   {
    "duration": 10,
    "start_time": "2022-02-13T20:49:30.161Z"
   },
   {
    "duration": 18,
    "start_time": "2022-02-13T20:49:30.173Z"
   },
   {
    "duration": 12,
    "start_time": "2022-02-13T20:49:30.192Z"
   },
   {
    "duration": 6,
    "start_time": "2022-02-13T20:49:31.578Z"
   },
   {
    "duration": 7,
    "start_time": "2022-02-13T20:49:35.251Z"
   },
   {
    "duration": 6,
    "start_time": "2022-02-13T20:49:40.484Z"
   },
   {
    "duration": 6,
    "start_time": "2022-02-13T20:49:47.172Z"
   },
   {
    "duration": 8,
    "start_time": "2022-02-13T20:49:58.058Z"
   },
   {
    "duration": 7,
    "start_time": "2022-02-13T20:50:05.919Z"
   },
   {
    "duration": 2,
    "start_time": "2022-02-13T20:51:32.110Z"
   },
   {
    "duration": 47,
    "start_time": "2022-02-13T20:51:32.114Z"
   },
   {
    "duration": 11,
    "start_time": "2022-02-13T20:51:32.163Z"
   },
   {
    "duration": 9,
    "start_time": "2022-02-13T20:51:32.176Z"
   },
   {
    "duration": 7,
    "start_time": "2022-02-13T20:51:32.187Z"
   },
   {
    "duration": 3,
    "start_time": "2022-02-13T20:51:32.196Z"
   },
   {
    "duration": 27,
    "start_time": "2022-02-13T20:51:32.201Z"
   },
   {
    "duration": 20,
    "start_time": "2022-02-13T20:51:32.229Z"
   },
   {
    "duration": 4,
    "start_time": "2022-02-13T20:51:32.251Z"
   },
   {
    "duration": 3,
    "start_time": "2022-02-13T20:51:32.256Z"
   },
   {
    "duration": 8,
    "start_time": "2022-02-13T20:51:32.260Z"
   },
   {
    "duration": 3,
    "start_time": "2022-02-13T20:51:32.269Z"
   },
   {
    "duration": 8,
    "start_time": "2022-02-13T20:51:32.273Z"
   },
   {
    "duration": 3,
    "start_time": "2022-02-13T20:51:32.283Z"
   },
   {
    "duration": 6,
    "start_time": "2022-02-13T20:51:34.204Z"
   },
   {
    "duration": 8,
    "start_time": "2022-02-13T20:51:40.980Z"
   },
   {
    "duration": 6,
    "start_time": "2022-02-13T20:52:16.649Z"
   },
   {
    "duration": 8,
    "start_time": "2022-02-13T20:53:16.432Z"
   },
   {
    "duration": 101,
    "start_time": "2022-02-13T20:53:21.703Z"
   },
   {
    "duration": 8,
    "start_time": "2022-02-13T20:53:24.554Z"
   },
   {
    "duration": 8,
    "start_time": "2022-02-13T20:54:06.956Z"
   },
   {
    "duration": 7,
    "start_time": "2022-02-13T20:55:13.784Z"
   },
   {
    "duration": 327,
    "start_time": "2022-02-13T20:55:29.997Z"
   },
   {
    "duration": 8,
    "start_time": "2022-02-13T20:56:00.128Z"
   },
   {
    "duration": 337,
    "start_time": "2022-02-13T20:56:26.775Z"
   },
   {
    "duration": 2093,
    "start_time": "2022-02-13T20:56:37.998Z"
   },
   {
    "duration": 302,
    "start_time": "2022-02-13T20:59:01.860Z"
   },
   {
    "duration": 6,
    "start_time": "2022-02-13T21:00:11.411Z"
   },
   {
    "duration": 6,
    "start_time": "2022-02-13T21:00:18.977Z"
   },
   {
    "duration": 6,
    "start_time": "2022-02-13T21:00:20.601Z"
   },
   {
    "duration": 7,
    "start_time": "2022-02-13T21:00:26.104Z"
   },
   {
    "duration": 2,
    "start_time": "2022-02-13T21:00:28.757Z"
   },
   {
    "duration": 50,
    "start_time": "2022-02-13T21:00:28.761Z"
   },
   {
    "duration": 11,
    "start_time": "2022-02-13T21:00:28.813Z"
   },
   {
    "duration": 12,
    "start_time": "2022-02-13T21:00:28.825Z"
   },
   {
    "duration": 8,
    "start_time": "2022-02-13T21:00:28.839Z"
   },
   {
    "duration": 5,
    "start_time": "2022-02-13T21:00:28.848Z"
   },
   {
    "duration": 6,
    "start_time": "2022-02-13T21:00:28.855Z"
   },
   {
    "duration": 19,
    "start_time": "2022-02-13T21:00:28.862Z"
   },
   {
    "duration": 4,
    "start_time": "2022-02-13T21:00:28.883Z"
   },
   {
    "duration": 3,
    "start_time": "2022-02-13T21:00:28.889Z"
   },
   {
    "duration": 35,
    "start_time": "2022-02-13T21:00:28.893Z"
   },
   {
    "duration": 3,
    "start_time": "2022-02-13T21:00:28.929Z"
   },
   {
    "duration": 9,
    "start_time": "2022-02-13T21:00:28.934Z"
   },
   {
    "duration": 3,
    "start_time": "2022-02-13T21:00:28.945Z"
   },
   {
    "duration": 7,
    "start_time": "2022-02-13T21:00:28.950Z"
   },
   {
    "duration": 6,
    "start_time": "2022-02-13T21:00:28.958Z"
   },
   {
    "duration": 13,
    "start_time": "2022-02-13T21:00:28.965Z"
   },
   {
    "duration": 6,
    "start_time": "2022-02-13T21:00:30.435Z"
   },
   {
    "duration": 7,
    "start_time": "2022-02-13T21:00:43.973Z"
   },
   {
    "duration": 3,
    "start_time": "2022-02-13T21:00:49.774Z"
   },
   {
    "duration": 64,
    "start_time": "2022-02-13T21:00:49.778Z"
   },
   {
    "duration": 12,
    "start_time": "2022-02-13T21:00:49.844Z"
   },
   {
    "duration": 30,
    "start_time": "2022-02-13T21:00:49.857Z"
   },
   {
    "duration": 25,
    "start_time": "2022-02-13T21:00:49.889Z"
   },
   {
    "duration": 12,
    "start_time": "2022-02-13T21:00:49.915Z"
   },
   {
    "duration": 23,
    "start_time": "2022-02-13T21:00:49.928Z"
   },
   {
    "duration": 39,
    "start_time": "2022-02-13T21:00:49.953Z"
   },
   {
    "duration": 6,
    "start_time": "2022-02-13T21:00:49.994Z"
   },
   {
    "duration": 38,
    "start_time": "2022-02-13T21:00:50.002Z"
   },
   {
    "duration": 25,
    "start_time": "2022-02-13T21:00:50.042Z"
   },
   {
    "duration": 16,
    "start_time": "2022-02-13T21:00:50.069Z"
   },
   {
    "duration": 28,
    "start_time": "2022-02-13T21:00:50.086Z"
   },
   {
    "duration": 13,
    "start_time": "2022-02-13T21:00:50.115Z"
   },
   {
    "duration": 30,
    "start_time": "2022-02-13T21:00:50.130Z"
   },
   {
    "duration": 13,
    "start_time": "2022-02-13T21:00:50.162Z"
   },
   {
    "duration": 23,
    "start_time": "2022-02-13T21:00:50.176Z"
   },
   {
    "duration": 6,
    "start_time": "2022-02-13T21:00:52.309Z"
   },
   {
    "duration": 8,
    "start_time": "2022-02-13T21:00:54.134Z"
   },
   {
    "duration": 3,
    "start_time": "2022-02-13T21:00:59.316Z"
   },
   {
    "duration": 311,
    "start_time": "2022-02-13T21:01:07.237Z"
   },
   {
    "duration": 6,
    "start_time": "2022-02-13T21:01:17.141Z"
   },
   {
    "duration": 6,
    "start_time": "2022-02-13T21:01:21.079Z"
   },
   {
    "duration": 6,
    "start_time": "2022-02-13T21:01:22.929Z"
   },
   {
    "duration": 7,
    "start_time": "2022-02-13T21:01:24.043Z"
   },
   {
    "duration": 2,
    "start_time": "2022-02-13T21:01:26.175Z"
   },
   {
    "duration": 51,
    "start_time": "2022-02-13T21:01:26.179Z"
   },
   {
    "duration": 10,
    "start_time": "2022-02-13T21:01:26.232Z"
   },
   {
    "duration": 11,
    "start_time": "2022-02-13T21:01:26.244Z"
   },
   {
    "duration": 9,
    "start_time": "2022-02-13T21:01:26.257Z"
   },
   {
    "duration": 4,
    "start_time": "2022-02-13T21:01:26.268Z"
   },
   {
    "duration": 6,
    "start_time": "2022-02-13T21:01:26.274Z"
   },
   {
    "duration": 52,
    "start_time": "2022-02-13T21:01:26.281Z"
   },
   {
    "duration": 6,
    "start_time": "2022-02-13T21:01:26.336Z"
   },
   {
    "duration": 4,
    "start_time": "2022-02-13T21:01:26.343Z"
   },
   {
    "duration": 5,
    "start_time": "2022-02-13T21:01:26.349Z"
   },
   {
    "duration": 3,
    "start_time": "2022-02-13T21:01:26.356Z"
   },
   {
    "duration": 9,
    "start_time": "2022-02-13T21:01:26.361Z"
   },
   {
    "duration": 4,
    "start_time": "2022-02-13T21:01:26.372Z"
   },
   {
    "duration": 51,
    "start_time": "2022-02-13T21:01:26.377Z"
   },
   {
    "duration": 7,
    "start_time": "2022-02-13T21:01:26.429Z"
   },
   {
    "duration": 8,
    "start_time": "2022-02-13T21:01:26.437Z"
   },
   {
    "duration": 7,
    "start_time": "2022-02-13T21:01:28.551Z"
   },
   {
    "duration": 7,
    "start_time": "2022-02-13T21:01:32.359Z"
   },
   {
    "duration": 6,
    "start_time": "2022-02-13T21:01:33.740Z"
   },
   {
    "duration": 4,
    "start_time": "2022-02-13T21:01:38.398Z"
   },
   {
    "duration": 2,
    "start_time": "2022-02-13T21:01:53.721Z"
   },
   {
    "duration": 50,
    "start_time": "2022-02-13T21:01:53.725Z"
   },
   {
    "duration": 11,
    "start_time": "2022-02-13T21:01:53.777Z"
   },
   {
    "duration": 10,
    "start_time": "2022-02-13T21:01:53.790Z"
   },
   {
    "duration": 8,
    "start_time": "2022-02-13T21:01:53.801Z"
   },
   {
    "duration": 4,
    "start_time": "2022-02-13T21:01:53.810Z"
   },
   {
    "duration": 13,
    "start_time": "2022-02-13T21:01:53.815Z"
   },
   {
    "duration": 20,
    "start_time": "2022-02-13T21:01:53.830Z"
   },
   {
    "duration": 4,
    "start_time": "2022-02-13T21:01:53.852Z"
   },
   {
    "duration": 2,
    "start_time": "2022-02-13T21:01:53.858Z"
   },
   {
    "duration": 6,
    "start_time": "2022-02-13T21:01:53.862Z"
   },
   {
    "duration": 3,
    "start_time": "2022-02-13T21:01:53.870Z"
   },
   {
    "duration": 9,
    "start_time": "2022-02-13T21:01:53.874Z"
   },
   {
    "duration": 4,
    "start_time": "2022-02-13T21:01:53.884Z"
   },
   {
    "duration": 39,
    "start_time": "2022-02-13T21:01:53.889Z"
   },
   {
    "duration": 6,
    "start_time": "2022-02-13T21:01:53.929Z"
   },
   {
    "duration": 8,
    "start_time": "2022-02-13T21:01:53.936Z"
   },
   {
    "duration": 8,
    "start_time": "2022-02-13T21:01:53.945Z"
   },
   {
    "duration": 6,
    "start_time": "2022-02-13T21:01:53.955Z"
   },
   {
    "duration": 6,
    "start_time": "2022-02-13T21:01:53.962Z"
   },
   {
    "duration": 3,
    "start_time": "2022-02-13T21:01:53.970Z"
   },
   {
    "duration": 6,
    "start_time": "2022-02-13T21:01:53.975Z"
   },
   {
    "duration": 4,
    "start_time": "2022-02-13T21:01:53.982Z"
   },
   {
    "duration": 3,
    "start_time": "2022-02-13T21:01:54.031Z"
   },
   {
    "duration": 24,
    "start_time": "2022-02-13T21:01:54.036Z"
   },
   {
    "duration": 4,
    "start_time": "2022-02-13T21:01:54.062Z"
   },
   {
    "duration": 5,
    "start_time": "2022-02-13T21:01:54.068Z"
   },
   {
    "duration": 17,
    "start_time": "2022-02-13T21:01:54.075Z"
   },
   {
    "duration": 10,
    "start_time": "2022-02-13T21:01:54.093Z"
   },
   {
    "duration": 36,
    "start_time": "2022-02-13T21:01:54.104Z"
   },
   {
    "duration": 5,
    "start_time": "2022-02-13T21:01:54.141Z"
   },
   {
    "duration": 7,
    "start_time": "2022-02-13T21:01:54.147Z"
   },
   {
    "duration": 7,
    "start_time": "2022-02-13T21:01:54.155Z"
   },
   {
    "duration": 19,
    "start_time": "2022-02-13T21:01:54.164Z"
   },
   {
    "duration": 14,
    "start_time": "2022-02-13T21:01:56.018Z"
   },
   {
    "duration": 16,
    "start_time": "2022-02-13T21:01:57.628Z"
   },
   {
    "duration": 3,
    "start_time": "2022-02-13T21:01:58.821Z"
   },
   {
    "duration": 16,
    "start_time": "2022-02-13T21:03:26.662Z"
   },
   {
    "duration": 322,
    "start_time": "2022-02-13T21:03:39.906Z"
   },
   {
    "duration": 318,
    "start_time": "2022-02-13T21:03:45.301Z"
   },
   {
    "duration": 15,
    "start_time": "2022-02-13T21:03:47.991Z"
   },
   {
    "duration": 13,
    "start_time": "2022-02-13T21:03:50.298Z"
   },
   {
    "duration": 12,
    "start_time": "2022-02-13T21:04:37.255Z"
   },
   {
    "duration": 4,
    "start_time": "2022-02-13T21:04:44.606Z"
   },
   {
    "duration": 4,
    "start_time": "2022-02-13T21:04:52.088Z"
   },
   {
    "duration": 13,
    "start_time": "2022-02-13T21:04:57.553Z"
   },
   {
    "duration": 13,
    "start_time": "2022-02-13T21:05:01.280Z"
   },
   {
    "duration": 13,
    "start_time": "2022-02-13T21:05:10.592Z"
   },
   {
    "duration": 3,
    "start_time": "2022-02-13T21:05:25.631Z"
   },
   {
    "duration": 51,
    "start_time": "2022-02-13T21:05:25.635Z"
   },
   {
    "duration": 10,
    "start_time": "2022-02-13T21:05:25.688Z"
   },
   {
    "duration": 10,
    "start_time": "2022-02-13T21:05:25.700Z"
   },
   {
    "duration": 7,
    "start_time": "2022-02-13T21:05:25.712Z"
   },
   {
    "duration": 9,
    "start_time": "2022-02-13T21:05:25.720Z"
   },
   {
    "duration": 7,
    "start_time": "2022-02-13T21:05:25.730Z"
   },
   {
    "duration": 19,
    "start_time": "2022-02-13T21:05:25.738Z"
   },
   {
    "duration": 4,
    "start_time": "2022-02-13T21:05:25.759Z"
   },
   {
    "duration": 5,
    "start_time": "2022-02-13T21:05:25.764Z"
   },
   {
    "duration": 6,
    "start_time": "2022-02-13T21:05:25.770Z"
   },
   {
    "duration": 4,
    "start_time": "2022-02-13T21:05:25.778Z"
   },
   {
    "duration": 9,
    "start_time": "2022-02-13T21:05:25.784Z"
   },
   {
    "duration": 4,
    "start_time": "2022-02-13T21:05:25.827Z"
   },
   {
    "duration": 7,
    "start_time": "2022-02-13T21:05:25.832Z"
   },
   {
    "duration": 6,
    "start_time": "2022-02-13T21:05:25.840Z"
   },
   {
    "duration": 9,
    "start_time": "2022-02-13T21:05:25.848Z"
   },
   {
    "duration": 6,
    "start_time": "2022-02-13T21:05:25.859Z"
   },
   {
    "duration": 5,
    "start_time": "2022-02-13T21:05:25.866Z"
   },
   {
    "duration": 5,
    "start_time": "2022-02-13T21:05:25.873Z"
   },
   {
    "duration": 4,
    "start_time": "2022-02-13T21:05:25.880Z"
   },
   {
    "duration": 6,
    "start_time": "2022-02-13T21:05:25.885Z"
   },
   {
    "duration": 36,
    "start_time": "2022-02-13T21:05:25.892Z"
   },
   {
    "duration": 4,
    "start_time": "2022-02-13T21:05:25.930Z"
   },
   {
    "duration": 25,
    "start_time": "2022-02-13T21:05:25.935Z"
   },
   {
    "duration": 5,
    "start_time": "2022-02-13T21:05:25.961Z"
   },
   {
    "duration": 5,
    "start_time": "2022-02-13T21:05:25.967Z"
   },
   {
    "duration": 13,
    "start_time": "2022-02-13T21:05:25.973Z"
   },
   {
    "duration": 9,
    "start_time": "2022-02-13T21:05:25.988Z"
   },
   {
    "duration": 42,
    "start_time": "2022-02-13T21:05:25.999Z"
   },
   {
    "duration": 4,
    "start_time": "2022-02-13T21:05:26.043Z"
   },
   {
    "duration": 10,
    "start_time": "2022-02-13T21:05:26.049Z"
   },
   {
    "duration": 13,
    "start_time": "2022-02-13T21:05:26.060Z"
   },
   {
    "duration": 6,
    "start_time": "2022-02-13T21:05:26.075Z"
   },
   {
    "duration": 15,
    "start_time": "2022-02-13T21:05:28.158Z"
   },
   {
    "duration": 12,
    "start_time": "2022-02-13T21:05:29.297Z"
   },
   {
    "duration": 10,
    "start_time": "2022-02-13T21:10:03.802Z"
   },
   {
    "duration": 4,
    "start_time": "2022-02-13T21:10:31.989Z"
   },
   {
    "duration": 7,
    "start_time": "2022-02-13T21:10:35.004Z"
   },
   {
    "duration": 6,
    "start_time": "2022-02-13T21:10:58.905Z"
   },
   {
    "duration": 3,
    "start_time": "2022-02-13T21:13:22.325Z"
   },
   {
    "duration": 49,
    "start_time": "2022-02-13T21:13:22.330Z"
   },
   {
    "duration": 12,
    "start_time": "2022-02-13T21:13:22.380Z"
   },
   {
    "duration": 10,
    "start_time": "2022-02-13T21:13:22.394Z"
   },
   {
    "duration": 13,
    "start_time": "2022-02-13T21:13:22.405Z"
   },
   {
    "duration": 10,
    "start_time": "2022-02-13T21:13:22.419Z"
   },
   {
    "duration": 6,
    "start_time": "2022-02-13T21:13:22.430Z"
   },
   {
    "duration": 20,
    "start_time": "2022-02-13T21:13:22.438Z"
   },
   {
    "duration": 5,
    "start_time": "2022-02-13T21:13:22.460Z"
   },
   {
    "duration": 4,
    "start_time": "2022-02-13T21:13:22.466Z"
   },
   {
    "duration": 6,
    "start_time": "2022-02-13T21:13:22.471Z"
   },
   {
    "duration": 4,
    "start_time": "2022-02-13T21:13:22.479Z"
   },
   {
    "duration": 14,
    "start_time": "2022-02-13T21:13:22.484Z"
   },
   {
    "duration": 29,
    "start_time": "2022-02-13T21:13:22.499Z"
   },
   {
    "duration": 7,
    "start_time": "2022-02-13T21:13:22.530Z"
   },
   {
    "duration": 6,
    "start_time": "2022-02-13T21:13:22.538Z"
   },
   {
    "duration": 8,
    "start_time": "2022-02-13T21:13:22.546Z"
   },
   {
    "duration": 6,
    "start_time": "2022-02-13T21:13:22.555Z"
   },
   {
    "duration": 5,
    "start_time": "2022-02-13T21:13:22.563Z"
   },
   {
    "duration": 6,
    "start_time": "2022-02-13T21:13:22.570Z"
   },
   {
    "duration": 3,
    "start_time": "2022-02-13T21:13:22.578Z"
   },
   {
    "duration": 48,
    "start_time": "2022-02-13T21:13:22.583Z"
   },
   {
    "duration": 5,
    "start_time": "2022-02-13T21:13:22.633Z"
   },
   {
    "duration": 6,
    "start_time": "2022-02-13T21:13:22.640Z"
   },
   {
    "duration": 24,
    "start_time": "2022-02-13T21:13:22.647Z"
   },
   {
    "duration": 7,
    "start_time": "2022-02-13T21:13:22.672Z"
   },
   {
    "duration": 3,
    "start_time": "2022-02-13T21:13:22.682Z"
   },
   {
    "duration": 44,
    "start_time": "2022-02-13T21:13:22.687Z"
   },
   {
    "duration": 10,
    "start_time": "2022-02-13T21:13:22.733Z"
   },
   {
    "duration": 17,
    "start_time": "2022-02-13T21:13:22.744Z"
   },
   {
    "duration": 4,
    "start_time": "2022-02-13T21:13:22.762Z"
   },
   {
    "duration": 6,
    "start_time": "2022-02-13T21:13:22.767Z"
   },
   {
    "duration": 6,
    "start_time": "2022-02-13T21:13:22.774Z"
   },
   {
    "duration": 5,
    "start_time": "2022-02-13T21:13:22.782Z"
   },
   {
    "duration": 40,
    "start_time": "2022-02-13T21:13:22.788Z"
   },
   {
    "duration": 12,
    "start_time": "2022-02-13T21:13:22.829Z"
   },
   {
    "duration": 14,
    "start_time": "2022-02-13T21:13:22.843Z"
   },
   {
    "duration": 2,
    "start_time": "2022-02-13T21:13:22.859Z"
   },
   {
    "duration": 11,
    "start_time": "2022-02-13T21:13:22.863Z"
   },
   {
    "duration": 4,
    "start_time": "2022-02-13T21:20:15.082Z"
   },
   {
    "duration": 10,
    "start_time": "2022-02-13T21:20:18.934Z"
   },
   {
    "duration": 4,
    "start_time": "2022-02-13T21:20:32.310Z"
   },
   {
    "duration": 4,
    "start_time": "2022-02-13T21:20:47.253Z"
   },
   {
    "duration": 10,
    "start_time": "2022-02-13T21:21:08.559Z"
   },
   {
    "duration": 316,
    "start_time": "2022-02-13T21:22:53.382Z"
   },
   {
    "duration": -98,
    "start_time": "2022-02-13T21:23:09.626Z"
   },
   {
    "duration": 5,
    "start_time": "2022-02-13T21:26:20.634Z"
   },
   {
    "duration": 8,
    "start_time": "2022-02-13T21:26:31.363Z"
   },
   {
    "duration": 4179,
    "start_time": "2022-02-13T21:26:46.916Z"
   },
   {
    "duration": 2,
    "start_time": "2022-02-13T21:26:53.910Z"
   },
   {
    "duration": 48,
    "start_time": "2022-02-13T21:26:53.914Z"
   },
   {
    "duration": 13,
    "start_time": "2022-02-13T21:26:53.964Z"
   },
   {
    "duration": 11,
    "start_time": "2022-02-13T21:26:53.978Z"
   },
   {
    "duration": 8,
    "start_time": "2022-02-13T21:26:53.990Z"
   },
   {
    "duration": 3,
    "start_time": "2022-02-13T21:26:54.000Z"
   },
   {
    "duration": 23,
    "start_time": "2022-02-13T21:26:54.005Z"
   },
   {
    "duration": 20,
    "start_time": "2022-02-13T21:26:54.029Z"
   },
   {
    "duration": 4,
    "start_time": "2022-02-13T21:26:54.052Z"
   },
   {
    "duration": 3,
    "start_time": "2022-02-13T21:26:54.058Z"
   },
   {
    "duration": 5,
    "start_time": "2022-02-13T21:26:54.063Z"
   },
   {
    "duration": 3,
    "start_time": "2022-02-13T21:26:54.070Z"
   },
   {
    "duration": 12,
    "start_time": "2022-02-13T21:26:54.075Z"
   },
   {
    "duration": 41,
    "start_time": "2022-02-13T21:26:54.088Z"
   },
   {
    "duration": 9,
    "start_time": "2022-02-13T21:26:54.130Z"
   },
   {
    "duration": 8,
    "start_time": "2022-02-13T21:26:54.141Z"
   },
   {
    "duration": 12,
    "start_time": "2022-02-13T21:26:54.151Z"
   },
   {
    "duration": 7,
    "start_time": "2022-02-13T21:26:54.164Z"
   },
   {
    "duration": 9,
    "start_time": "2022-02-13T21:26:54.172Z"
   },
   {
    "duration": 8,
    "start_time": "2022-02-13T21:26:54.182Z"
   },
   {
    "duration": 5,
    "start_time": "2022-02-13T21:26:54.191Z"
   },
   {
    "duration": 32,
    "start_time": "2022-02-13T21:26:54.197Z"
   },
   {
    "duration": 5,
    "start_time": "2022-02-13T21:26:54.231Z"
   },
   {
    "duration": 5,
    "start_time": "2022-02-13T21:26:54.237Z"
   },
   {
    "duration": 28,
    "start_time": "2022-02-13T21:26:54.244Z"
   },
   {
    "duration": 7,
    "start_time": "2022-02-13T21:26:54.274Z"
   },
   {
    "duration": 3,
    "start_time": "2022-02-13T21:26:54.284Z"
   },
   {
    "duration": 45,
    "start_time": "2022-02-13T21:26:54.288Z"
   },
   {
    "duration": 10,
    "start_time": "2022-02-13T21:26:54.334Z"
   },
   {
    "duration": 16,
    "start_time": "2022-02-13T21:26:54.345Z"
   },
   {
    "duration": 4,
    "start_time": "2022-02-13T21:26:54.363Z"
   },
   {
    "duration": 7,
    "start_time": "2022-02-13T21:26:54.368Z"
   },
   {
    "duration": 6,
    "start_time": "2022-02-13T21:26:54.377Z"
   },
   {
    "duration": 10,
    "start_time": "2022-02-13T21:26:54.384Z"
   },
   {
    "duration": 37,
    "start_time": "2022-02-13T21:26:54.396Z"
   },
   {
    "duration": 13,
    "start_time": "2022-02-13T21:26:54.434Z"
   },
   {
    "duration": 15,
    "start_time": "2022-02-13T21:26:54.448Z"
   },
   {
    "duration": 3,
    "start_time": "2022-02-13T21:26:54.465Z"
   },
   {
    "duration": 12,
    "start_time": "2022-02-13T21:26:54.469Z"
   },
   {
    "duration": 6,
    "start_time": "2022-02-13T21:26:54.483Z"
   },
   {
    "duration": 4052,
    "start_time": "2022-02-13T21:26:55.521Z"
   },
   {
    "duration": 8,
    "start_time": "2022-02-13T21:27:50.942Z"
   },
   {
    "duration": 8,
    "start_time": "2022-02-13T21:28:13.260Z"
   },
   {
    "duration": 8,
    "start_time": "2022-02-13T21:28:16.828Z"
   },
   {
    "duration": 5,
    "start_time": "2022-02-13T21:28:24.913Z"
   },
   {
    "duration": 321,
    "start_time": "2022-02-13T21:28:44.491Z"
   },
   {
    "duration": 7,
    "start_time": "2022-02-13T21:28:49.297Z"
   },
   {
    "duration": 11,
    "start_time": "2022-02-13T21:29:12.938Z"
   },
   {
    "duration": 7,
    "start_time": "2022-02-13T21:29:25.235Z"
   },
   {
    "duration": 9,
    "start_time": "2022-02-13T21:29:30.798Z"
   },
   {
    "duration": 549,
    "start_time": "2022-02-13T21:29:43.939Z"
   },
   {
    "duration": 17,
    "start_time": "2022-02-13T21:29:48.803Z"
   },
   {
    "duration": 14,
    "start_time": "2022-02-13T21:29:51.511Z"
   },
   {
    "duration": 8,
    "start_time": "2022-02-13T21:29:54.376Z"
   },
   {
    "duration": 3,
    "start_time": "2022-02-13T21:30:19.477Z"
   },
   {
    "duration": 57,
    "start_time": "2022-02-13T21:30:19.481Z"
   },
   {
    "duration": 10,
    "start_time": "2022-02-13T21:30:19.540Z"
   },
   {
    "duration": 11,
    "start_time": "2022-02-13T21:30:19.552Z"
   },
   {
    "duration": 8,
    "start_time": "2022-02-13T21:30:19.564Z"
   },
   {
    "duration": 4,
    "start_time": "2022-02-13T21:30:19.573Z"
   },
   {
    "duration": 5,
    "start_time": "2022-02-13T21:30:19.578Z"
   },
   {
    "duration": 48,
    "start_time": "2022-02-13T21:30:19.584Z"
   },
   {
    "duration": 5,
    "start_time": "2022-02-13T21:30:19.633Z"
   },
   {
    "duration": 3,
    "start_time": "2022-02-13T21:30:19.639Z"
   },
   {
    "duration": 5,
    "start_time": "2022-02-13T21:30:19.643Z"
   },
   {
    "duration": 3,
    "start_time": "2022-02-13T21:30:19.649Z"
   },
   {
    "duration": 11,
    "start_time": "2022-02-13T21:30:19.653Z"
   },
   {
    "duration": 5,
    "start_time": "2022-02-13T21:30:19.665Z"
   },
   {
    "duration": 8,
    "start_time": "2022-02-13T21:30:19.671Z"
   },
   {
    "duration": 5,
    "start_time": "2022-02-13T21:30:19.681Z"
   },
   {
    "duration": 40,
    "start_time": "2022-02-13T21:30:19.688Z"
   },
   {
    "duration": 5,
    "start_time": "2022-02-13T21:30:19.730Z"
   },
   {
    "duration": 6,
    "start_time": "2022-02-13T21:30:19.737Z"
   },
   {
    "duration": 7,
    "start_time": "2022-02-13T21:30:19.745Z"
   },
   {
    "duration": 9,
    "start_time": "2022-02-13T21:30:19.753Z"
   },
   {
    "duration": 7,
    "start_time": "2022-02-13T21:30:19.764Z"
   },
   {
    "duration": 6,
    "start_time": "2022-02-13T21:30:19.772Z"
   },
   {
    "duration": 8,
    "start_time": "2022-02-13T21:30:19.779Z"
   },
   {
    "duration": 51,
    "start_time": "2022-02-13T21:30:19.788Z"
   },
   {
    "duration": 5,
    "start_time": "2022-02-13T21:30:19.841Z"
   },
   {
    "duration": 2,
    "start_time": "2022-02-13T21:30:19.850Z"
   },
   {
    "duration": 11,
    "start_time": "2022-02-13T21:30:19.854Z"
   },
   {
    "duration": 11,
    "start_time": "2022-02-13T21:30:19.867Z"
   },
   {
    "duration": 47,
    "start_time": "2022-02-13T21:30:19.880Z"
   },
   {
    "duration": 6,
    "start_time": "2022-02-13T21:30:19.928Z"
   },
   {
    "duration": 5,
    "start_time": "2022-02-13T21:30:19.936Z"
   },
   {
    "duration": 4,
    "start_time": "2022-02-13T21:30:19.942Z"
   },
   {
    "duration": 6,
    "start_time": "2022-02-13T21:30:19.947Z"
   },
   {
    "duration": 18,
    "start_time": "2022-02-13T21:30:19.954Z"
   },
   {
    "duration": 12,
    "start_time": "2022-02-13T21:30:19.974Z"
   },
   {
    "duration": 49,
    "start_time": "2022-02-13T21:30:19.988Z"
   },
   {
    "duration": 4,
    "start_time": "2022-02-13T21:30:20.039Z"
   },
   {
    "duration": 14,
    "start_time": "2022-02-13T21:30:20.044Z"
   },
   {
    "duration": 7,
    "start_time": "2022-02-13T21:30:20.059Z"
   },
   {
    "duration": 8,
    "start_time": "2022-02-13T21:30:22.260Z"
   },
   {
    "duration": 8,
    "start_time": "2022-02-13T21:30:34.045Z"
   },
   {
    "duration": 2,
    "start_time": "2022-02-13T21:32:24.424Z"
   },
   {
    "duration": 15,
    "start_time": "2022-02-13T21:40:50.404Z"
   },
   {
    "duration": 108,
    "start_time": "2022-02-13T21:43:40.173Z"
   },
   {
    "duration": 3,
    "start_time": "2022-02-13T21:49:20.250Z"
   },
   {
    "duration": 312,
    "start_time": "2022-02-13T21:50:24.432Z"
   },
   {
    "duration": 201,
    "start_time": "2022-02-13T21:50:31.004Z"
   },
   {
    "duration": 209,
    "start_time": "2022-02-13T21:50:41.614Z"
   },
   {
    "duration": 196,
    "start_time": "2022-02-13T21:51:22.742Z"
   },
   {
    "duration": 11,
    "start_time": "2022-02-13T21:51:40.323Z"
   },
   {
    "duration": 16,
    "start_time": "2022-02-13T21:55:40.866Z"
   },
   {
    "duration": 19,
    "start_time": "2022-02-13T21:57:04.961Z"
   },
   {
    "duration": 2,
    "start_time": "2022-02-13T21:57:22.758Z"
   },
   {
    "duration": 50,
    "start_time": "2022-02-13T21:57:22.762Z"
   },
   {
    "duration": 10,
    "start_time": "2022-02-13T21:57:22.814Z"
   },
   {
    "duration": 10,
    "start_time": "2022-02-13T21:57:22.826Z"
   },
   {
    "duration": 8,
    "start_time": "2022-02-13T21:57:22.837Z"
   },
   {
    "duration": 4,
    "start_time": "2022-02-13T21:57:22.846Z"
   },
   {
    "duration": 10,
    "start_time": "2022-02-13T21:57:22.852Z"
   },
   {
    "duration": 18,
    "start_time": "2022-02-13T21:57:22.863Z"
   },
   {
    "duration": 4,
    "start_time": "2022-02-13T21:57:22.883Z"
   },
   {
    "duration": 3,
    "start_time": "2022-02-13T21:57:22.888Z"
   },
   {
    "duration": 6,
    "start_time": "2022-02-13T21:57:22.892Z"
   },
   {
    "duration": 30,
    "start_time": "2022-02-13T21:57:22.899Z"
   },
   {
    "duration": 9,
    "start_time": "2022-02-13T21:57:22.930Z"
   },
   {
    "duration": 4,
    "start_time": "2022-02-13T21:57:22.941Z"
   },
   {
    "duration": 5,
    "start_time": "2022-02-13T21:57:22.947Z"
   },
   {
    "duration": 6,
    "start_time": "2022-02-13T21:57:22.953Z"
   },
   {
    "duration": 7,
    "start_time": "2022-02-13T21:57:22.960Z"
   },
   {
    "duration": 6,
    "start_time": "2022-02-13T21:57:22.968Z"
   },
   {
    "duration": 5,
    "start_time": "2022-02-13T21:57:22.975Z"
   },
   {
    "duration": 49,
    "start_time": "2022-02-13T21:57:22.981Z"
   },
   {
    "duration": 8,
    "start_time": "2022-02-13T21:57:23.033Z"
   },
   {
    "duration": 6,
    "start_time": "2022-02-13T21:57:23.043Z"
   },
   {
    "duration": 3,
    "start_time": "2022-02-13T21:57:23.050Z"
   },
   {
    "duration": 4,
    "start_time": "2022-02-13T21:57:23.055Z"
   },
   {
    "duration": 21,
    "start_time": "2022-02-13T21:57:23.061Z"
   },
   {
    "duration": 4,
    "start_time": "2022-02-13T21:57:23.083Z"
   },
   {
    "duration": 3,
    "start_time": "2022-02-13T21:57:23.089Z"
   },
   {
    "duration": 35,
    "start_time": "2022-02-13T21:57:23.093Z"
   },
   {
    "duration": 15,
    "start_time": "2022-02-13T21:57:23.129Z"
   },
   {
    "duration": 18,
    "start_time": "2022-02-13T21:57:23.145Z"
   },
   {
    "duration": 14,
    "start_time": "2022-02-13T21:57:23.165Z"
   },
   {
    "duration": 3,
    "start_time": "2022-02-13T21:57:23.180Z"
   },
   {
    "duration": 12,
    "start_time": "2022-02-13T21:57:23.184Z"
   },
   {
    "duration": 34,
    "start_time": "2022-02-13T21:57:23.197Z"
   },
   {
    "duration": 7,
    "start_time": "2022-02-13T21:57:23.232Z"
   },
   {
    "duration": 6,
    "start_time": "2022-02-13T21:57:23.241Z"
   },
   {
    "duration": 15,
    "start_time": "2022-02-13T21:57:23.249Z"
   },
   {
    "duration": 3,
    "start_time": "2022-02-13T21:57:23.266Z"
   },
   {
    "duration": 225,
    "start_time": "2022-02-13T21:57:23.270Z"
   },
   {
    "duration": 11,
    "start_time": "2022-02-13T21:57:23.496Z"
   },
   {
    "duration": 24,
    "start_time": "2022-02-13T21:57:23.509Z"
   },
   {
    "duration": 17,
    "start_time": "2022-02-13T21:57:23.535Z"
   },
   {
    "duration": 4,
    "start_time": "2022-02-13T21:57:29.621Z"
   },
   {
    "duration": 3,
    "start_time": "2022-02-13T21:58:00.002Z"
   },
   {
    "duration": 2,
    "start_time": "2022-02-13T21:58:29.675Z"
   },
   {
    "duration": 12,
    "start_time": "2022-02-13T21:59:14.842Z"
   },
   {
    "duration": 11,
    "start_time": "2022-02-13T21:59:58.332Z"
   },
   {
    "duration": 20,
    "start_time": "2022-02-13T22:00:26.426Z"
   },
   {
    "duration": 6,
    "start_time": "2022-02-13T22:00:51.051Z"
   },
   {
    "duration": 3,
    "start_time": "2022-02-13T22:01:31.333Z"
   },
   {
    "duration": 52,
    "start_time": "2022-02-13T22:01:31.337Z"
   },
   {
    "duration": 10,
    "start_time": "2022-02-13T22:01:31.391Z"
   },
   {
    "duration": 11,
    "start_time": "2022-02-13T22:01:31.402Z"
   },
   {
    "duration": 13,
    "start_time": "2022-02-13T22:01:31.414Z"
   },
   {
    "duration": 4,
    "start_time": "2022-02-13T22:01:31.428Z"
   },
   {
    "duration": 6,
    "start_time": "2022-02-13T22:01:31.434Z"
   },
   {
    "duration": 20,
    "start_time": "2022-02-13T22:01:31.441Z"
   },
   {
    "duration": 4,
    "start_time": "2022-02-13T22:01:31.462Z"
   },
   {
    "duration": 11,
    "start_time": "2022-02-13T22:01:31.467Z"
   },
   {
    "duration": 8,
    "start_time": "2022-02-13T22:01:31.479Z"
   },
   {
    "duration": 4,
    "start_time": "2022-02-13T22:01:31.488Z"
   },
   {
    "duration": 21,
    "start_time": "2022-02-13T22:01:31.493Z"
   },
   {
    "duration": 19,
    "start_time": "2022-02-13T22:01:31.515Z"
   },
   {
    "duration": 19,
    "start_time": "2022-02-13T22:01:31.535Z"
   },
   {
    "duration": 18,
    "start_time": "2022-02-13T22:01:31.555Z"
   },
   {
    "duration": 25,
    "start_time": "2022-02-13T22:01:31.575Z"
   },
   {
    "duration": 13,
    "start_time": "2022-02-13T22:01:31.601Z"
   },
   {
    "duration": 11,
    "start_time": "2022-02-13T22:01:31.616Z"
   },
   {
    "duration": 13,
    "start_time": "2022-02-13T22:01:31.629Z"
   },
   {
    "duration": 17,
    "start_time": "2022-02-13T22:01:31.643Z"
   },
   {
    "duration": 10,
    "start_time": "2022-02-13T22:01:31.662Z"
   },
   {
    "duration": 29,
    "start_time": "2022-02-13T22:01:31.673Z"
   },
   {
    "duration": 29,
    "start_time": "2022-02-13T22:01:31.704Z"
   },
   {
    "duration": 28,
    "start_time": "2022-02-13T22:01:31.734Z"
   },
   {
    "duration": 6,
    "start_time": "2022-02-13T22:01:31.764Z"
   },
   {
    "duration": 9,
    "start_time": "2022-02-13T22:01:31.772Z"
   },
   {
    "duration": 11,
    "start_time": "2022-02-13T22:01:31.782Z"
   },
   {
    "duration": 22,
    "start_time": "2022-02-13T22:01:31.795Z"
   },
   {
    "duration": 17,
    "start_time": "2022-02-13T22:01:31.819Z"
   },
   {
    "duration": 26,
    "start_time": "2022-02-13T22:01:31.838Z"
   },
   {
    "duration": 4,
    "start_time": "2022-02-13T22:01:31.865Z"
   },
   {
    "duration": 20,
    "start_time": "2022-02-13T22:01:31.871Z"
   },
   {
    "duration": 8,
    "start_time": "2022-02-13T22:01:31.892Z"
   },
   {
    "duration": 9,
    "start_time": "2022-02-13T22:01:31.901Z"
   },
   {
    "duration": 7,
    "start_time": "2022-02-13T22:01:31.912Z"
   },
   {
    "duration": 16,
    "start_time": "2022-02-13T22:01:31.927Z"
   },
   {
    "duration": 3,
    "start_time": "2022-02-13T22:01:31.945Z"
   },
   {
    "duration": 219,
    "start_time": "2022-02-13T22:01:31.950Z"
   },
   {
    "duration": 13,
    "start_time": "2022-02-13T22:01:32.171Z"
   },
   {
    "duration": 17,
    "start_time": "2022-02-13T22:01:32.185Z"
   },
   {
    "duration": 39,
    "start_time": "2022-02-13T22:01:32.203Z"
   },
   {
    "duration": 4,
    "start_time": "2022-02-13T22:01:32.243Z"
   },
   {
    "duration": 12,
    "start_time": "2022-02-13T22:01:32.248Z"
   },
   {
    "duration": 18,
    "start_time": "2022-02-13T22:01:32.263Z"
   },
   {
    "duration": 7,
    "start_time": "2022-02-13T22:01:32.283Z"
   },
   {
    "duration": 42,
    "start_time": "2022-02-13T22:01:32.291Z"
   },
   {
    "duration": 4,
    "start_time": "2022-02-13T22:01:35.994Z"
   },
   {
    "duration": 3,
    "start_time": "2022-02-13T22:07:16.781Z"
   },
   {
    "duration": 52,
    "start_time": "2022-02-13T22:07:16.786Z"
   },
   {
    "duration": 11,
    "start_time": "2022-02-13T22:07:16.840Z"
   },
   {
    "duration": 10,
    "start_time": "2022-02-13T22:07:16.853Z"
   },
   {
    "duration": 7,
    "start_time": "2022-02-13T22:07:16.864Z"
   },
   {
    "duration": 4,
    "start_time": "2022-02-13T22:07:16.873Z"
   },
   {
    "duration": 5,
    "start_time": "2022-02-13T22:07:16.878Z"
   },
   {
    "duration": 48,
    "start_time": "2022-02-13T22:07:16.884Z"
   },
   {
    "duration": 4,
    "start_time": "2022-02-13T22:07:16.935Z"
   },
   {
    "duration": 6,
    "start_time": "2022-02-13T22:07:16.940Z"
   },
   {
    "duration": 6,
    "start_time": "2022-02-13T22:07:16.947Z"
   },
   {
    "duration": 3,
    "start_time": "2022-02-13T22:07:16.954Z"
   },
   {
    "duration": 11,
    "start_time": "2022-02-13T22:07:16.958Z"
   },
   {
    "duration": 3,
    "start_time": "2022-02-13T22:07:16.970Z"
   },
   {
    "duration": 6,
    "start_time": "2022-02-13T22:07:16.974Z"
   },
   {
    "duration": 7,
    "start_time": "2022-02-13T22:07:16.981Z"
   },
   {
    "duration": 42,
    "start_time": "2022-02-13T22:07:16.989Z"
   },
   {
    "duration": 6,
    "start_time": "2022-02-13T22:07:17.032Z"
   },
   {
    "duration": 6,
    "start_time": "2022-02-13T22:07:17.041Z"
   },
   {
    "duration": 6,
    "start_time": "2022-02-13T22:07:17.049Z"
   },
   {
    "duration": 4,
    "start_time": "2022-02-13T22:07:17.056Z"
   },
   {
    "duration": 7,
    "start_time": "2022-02-13T22:07:17.061Z"
   },
   {
    "duration": 4,
    "start_time": "2022-02-13T22:07:17.069Z"
   },
   {
    "duration": 6,
    "start_time": "2022-02-13T22:07:17.074Z"
   },
   {
    "duration": 55,
    "start_time": "2022-02-13T22:07:17.081Z"
   },
   {
    "duration": 5,
    "start_time": "2022-02-13T22:07:17.138Z"
   },
   {
    "duration": 6,
    "start_time": "2022-02-13T22:07:17.144Z"
   },
   {
    "duration": 7,
    "start_time": "2022-02-13T22:07:17.151Z"
   },
   {
    "duration": 15,
    "start_time": "2022-02-13T22:07:17.160Z"
   },
   {
    "duration": 14,
    "start_time": "2022-02-13T22:07:17.176Z"
   },
   {
    "duration": 44,
    "start_time": "2022-02-13T22:07:17.191Z"
   },
   {
    "duration": 3,
    "start_time": "2022-02-13T22:07:17.236Z"
   },
   {
    "duration": 17,
    "start_time": "2022-02-13T22:07:17.241Z"
   },
   {
    "duration": 10,
    "start_time": "2022-02-13T22:07:17.259Z"
   },
   {
    "duration": 8,
    "start_time": "2022-02-13T22:07:17.270Z"
   },
   {
    "duration": 6,
    "start_time": "2022-02-13T22:07:17.279Z"
   },
   {
    "duration": 14,
    "start_time": "2022-02-13T22:07:17.288Z"
   },
   {
    "duration": 23,
    "start_time": "2022-02-13T22:07:17.304Z"
   },
   {
    "duration": 213,
    "start_time": "2022-02-13T22:07:17.329Z"
   },
   {
    "duration": 13,
    "start_time": "2022-02-13T22:07:17.544Z"
   },
   {
    "duration": 16,
    "start_time": "2022-02-13T22:07:17.558Z"
   },
   {
    "duration": 18,
    "start_time": "2022-02-13T22:07:17.576Z"
   },
   {
    "duration": 3,
    "start_time": "2022-02-13T22:07:17.596Z"
   },
   {
    "duration": 12,
    "start_time": "2022-02-13T22:07:17.628Z"
   },
   {
    "duration": 19,
    "start_time": "2022-02-13T22:07:17.642Z"
   },
   {
    "duration": 7,
    "start_time": "2022-02-13T22:07:17.662Z"
   },
   {
    "duration": 18,
    "start_time": "2022-02-13T22:07:17.670Z"
   },
   {
    "duration": 5,
    "start_time": "2022-02-13T22:07:17.689Z"
   },
   {
    "duration": 3,
    "start_time": "2022-02-13T22:12:12.275Z"
   },
   {
    "duration": 54,
    "start_time": "2022-02-13T22:12:12.279Z"
   },
   {
    "duration": 11,
    "start_time": "2022-02-13T22:12:12.335Z"
   },
   {
    "duration": 11,
    "start_time": "2022-02-13T22:12:12.348Z"
   },
   {
    "duration": 9,
    "start_time": "2022-02-13T22:12:12.361Z"
   },
   {
    "duration": 6,
    "start_time": "2022-02-13T22:12:12.371Z"
   },
   {
    "duration": 5,
    "start_time": "2022-02-13T22:12:12.378Z"
   },
   {
    "duration": 58,
    "start_time": "2022-02-13T22:12:12.385Z"
   },
   {
    "duration": 5,
    "start_time": "2022-02-13T22:12:12.446Z"
   },
   {
    "duration": 3,
    "start_time": "2022-02-13T22:12:12.453Z"
   },
   {
    "duration": 8,
    "start_time": "2022-02-13T22:12:12.457Z"
   },
   {
    "duration": 4,
    "start_time": "2022-02-13T22:12:12.467Z"
   },
   {
    "duration": 10,
    "start_time": "2022-02-13T22:12:12.472Z"
   },
   {
    "duration": 5,
    "start_time": "2022-02-13T22:12:12.483Z"
   },
   {
    "duration": 41,
    "start_time": "2022-02-13T22:12:12.489Z"
   },
   {
    "duration": 6,
    "start_time": "2022-02-13T22:12:12.532Z"
   },
   {
    "duration": 9,
    "start_time": "2022-02-13T22:12:12.539Z"
   },
   {
    "duration": 6,
    "start_time": "2022-02-13T22:12:12.549Z"
   },
   {
    "duration": 5,
    "start_time": "2022-02-13T22:12:12.557Z"
   },
   {
    "duration": 6,
    "start_time": "2022-02-13T22:12:12.564Z"
   },
   {
    "duration": 4,
    "start_time": "2022-02-13T22:12:12.571Z"
   },
   {
    "duration": 51,
    "start_time": "2022-02-13T22:12:12.577Z"
   },
   {
    "duration": 4,
    "start_time": "2022-02-13T22:12:12.629Z"
   },
   {
    "duration": 5,
    "start_time": "2022-02-13T22:12:12.634Z"
   },
   {
    "duration": 21,
    "start_time": "2022-02-13T22:12:12.640Z"
   },
   {
    "duration": 6,
    "start_time": "2022-02-13T22:12:12.662Z"
   },
   {
    "duration": 3,
    "start_time": "2022-02-13T22:12:12.671Z"
   },
   {
    "duration": 6,
    "start_time": "2022-02-13T22:12:12.675Z"
   },
   {
    "duration": 15,
    "start_time": "2022-02-13T22:12:12.682Z"
   },
   {
    "duration": 13,
    "start_time": "2022-02-13T22:12:12.727Z"
   },
   {
    "duration": 15,
    "start_time": "2022-02-13T22:12:12.742Z"
   },
   {
    "duration": 3,
    "start_time": "2022-02-13T22:12:12.759Z"
   },
   {
    "duration": 11,
    "start_time": "2022-02-13T22:12:12.764Z"
   },
   {
    "duration": 9,
    "start_time": "2022-02-13T22:12:12.776Z"
   },
   {
    "duration": 10,
    "start_time": "2022-02-13T22:12:12.786Z"
   },
   {
    "duration": 32,
    "start_time": "2022-02-13T22:12:12.797Z"
   },
   {
    "duration": 15,
    "start_time": "2022-02-13T22:12:12.830Z"
   },
   {
    "duration": 3,
    "start_time": "2022-02-13T22:12:12.847Z"
   },
   {
    "duration": 221,
    "start_time": "2022-02-13T22:12:12.851Z"
   },
   {
    "duration": 11,
    "start_time": "2022-02-13T22:12:13.074Z"
   },
   {
    "duration": 4,
    "start_time": "2022-02-13T22:12:25.408Z"
   },
   {
    "duration": 7,
    "start_time": "2022-02-13T22:13:21.743Z"
   },
   {
    "duration": 9,
    "start_time": "2022-02-13T22:13:34.826Z"
   },
   {
    "duration": 6,
    "start_time": "2022-02-13T22:14:28.116Z"
   },
   {
    "duration": 9,
    "start_time": "2022-02-13T22:14:56.575Z"
   },
   {
    "duration": 6,
    "start_time": "2022-02-13T22:18:05.842Z"
   },
   {
    "duration": 8,
    "start_time": "2022-02-13T22:18:09.132Z"
   },
   {
    "duration": 333,
    "start_time": "2022-02-13T22:18:35.100Z"
   },
   {
    "duration": 108,
    "start_time": "2022-02-13T22:18:41.729Z"
   },
   {
    "duration": 303,
    "start_time": "2022-02-13T22:18:43.631Z"
   },
   {
    "duration": 23,
    "start_time": "2022-02-13T22:19:25.398Z"
   },
   {
    "duration": 110,
    "start_time": "2022-02-13T22:23:01.464Z"
   },
   {
    "duration": 21,
    "start_time": "2022-02-13T22:24:23.071Z"
   },
   {
    "duration": 20,
    "start_time": "2022-02-13T22:33:54.594Z"
   },
   {
    "duration": 2081,
    "start_time": "2022-02-13T22:34:32.849Z"
   },
   {
    "duration": 6,
    "start_time": "2022-02-13T22:35:12.070Z"
   },
   {
    "duration": 20,
    "start_time": "2022-02-13T22:35:51.979Z"
   },
   {
    "duration": 354,
    "start_time": "2022-02-13T22:38:22.597Z"
   },
   {
    "duration": 12,
    "start_time": "2022-02-13T22:39:48.965Z"
   },
   {
    "duration": 17,
    "start_time": "2022-02-13T22:39:57.849Z"
   },
   {
    "duration": 27,
    "start_time": "2022-02-13T22:40:25.827Z"
   },
   {
    "duration": 457,
    "start_time": "2022-02-13T22:40:40.269Z"
   },
   {
    "duration": 11,
    "start_time": "2022-02-13T22:40:44.693Z"
   },
   {
    "duration": 311,
    "start_time": "2022-02-13T22:40:58.325Z"
   },
   {
    "duration": 28,
    "start_time": "2022-02-13T22:41:32.957Z"
   },
   {
    "duration": 310,
    "start_time": "2022-02-13T22:42:06.405Z"
   },
   {
    "duration": 337,
    "start_time": "2022-02-13T22:42:46.988Z"
   },
   {
    "duration": 28,
    "start_time": "2022-02-13T22:42:49.968Z"
   },
   {
    "duration": 30,
    "start_time": "2022-02-13T22:42:59.817Z"
   },
   {
    "duration": 351,
    "start_time": "2022-02-13T22:43:24.234Z"
   },
   {
    "duration": 317,
    "start_time": "2022-02-13T22:43:26.292Z"
   },
   {
    "duration": 38,
    "start_time": "2022-02-13T22:43:44.953Z"
   },
   {
    "duration": 16,
    "start_time": "2022-02-13T22:43:57.155Z"
   },
   {
    "duration": 311,
    "start_time": "2022-02-13T22:44:08.520Z"
   },
   {
    "duration": 16,
    "start_time": "2022-02-13T22:44:42.892Z"
   },
   {
    "duration": 23,
    "start_time": "2022-02-13T22:44:55.080Z"
   },
   {
    "duration": 16,
    "start_time": "2022-02-13T22:45:00.252Z"
   },
   {
    "duration": 344,
    "start_time": "2022-02-13T22:45:02.272Z"
   },
   {
    "duration": 16,
    "start_time": "2022-02-13T22:45:04.924Z"
   },
   {
    "duration": 333,
    "start_time": "2022-02-13T22:47:24.630Z"
   },
   {
    "duration": 354,
    "start_time": "2022-02-13T22:48:23.473Z"
   },
   {
    "duration": 105,
    "start_time": "2022-02-13T22:48:32.386Z"
   },
   {
    "duration": 329,
    "start_time": "2022-02-13T22:49:30.028Z"
   },
   {
    "duration": 24,
    "start_time": "2022-02-13T22:49:33.935Z"
   },
   {
    "duration": 16,
    "start_time": "2022-02-13T22:49:38.657Z"
   },
   {
    "duration": 357,
    "start_time": "2022-02-13T22:49:43.345Z"
   },
   {
    "duration": 21,
    "start_time": "2022-02-13T22:50:14.777Z"
   },
   {
    "duration": 884,
    "start_time": "2022-02-13T22:50:43.735Z"
   },
   {
    "duration": 587,
    "start_time": "2022-02-13T22:50:49.966Z"
   },
   {
    "duration": 334,
    "start_time": "2022-02-13T22:53:41.215Z"
   },
   {
    "duration": 316,
    "start_time": "2022-02-13T22:54:13.584Z"
   },
   {
    "duration": 311,
    "start_time": "2022-02-13T22:54:23.711Z"
   },
   {
    "duration": 313,
    "start_time": "2022-02-13T22:54:37.021Z"
   },
   {
    "duration": 322,
    "start_time": "2022-02-13T22:54:45.224Z"
   },
   {
    "duration": 332,
    "start_time": "2022-02-13T22:54:48.971Z"
   },
   {
    "duration": 79,
    "start_time": "2022-02-13T22:55:02.042Z"
   },
   {
    "duration": 321,
    "start_time": "2022-02-13T22:55:07.356Z"
   },
   {
    "duration": 302,
    "start_time": "2022-02-13T22:55:11.210Z"
   },
   {
    "duration": 315,
    "start_time": "2022-02-13T22:57:07.004Z"
   },
   {
    "duration": 341,
    "start_time": "2022-02-13T22:57:13.881Z"
   },
   {
    "duration": 306,
    "start_time": "2022-02-13T22:58:21.367Z"
   },
   {
    "duration": 2,
    "start_time": "2022-02-13T22:58:24.874Z"
   },
   {
    "duration": 54,
    "start_time": "2022-02-13T22:58:24.878Z"
   },
   {
    "duration": 11,
    "start_time": "2022-02-13T22:58:24.933Z"
   },
   {
    "duration": 10,
    "start_time": "2022-02-13T22:58:24.946Z"
   },
   {
    "duration": 7,
    "start_time": "2022-02-13T22:58:24.958Z"
   },
   {
    "duration": 3,
    "start_time": "2022-02-13T22:58:24.967Z"
   },
   {
    "duration": 4,
    "start_time": "2022-02-13T22:58:24.972Z"
   },
   {
    "duration": 19,
    "start_time": "2022-02-13T22:58:24.977Z"
   },
   {
    "duration": 4,
    "start_time": "2022-02-13T22:58:25.027Z"
   },
   {
    "duration": 11,
    "start_time": "2022-02-13T22:58:25.033Z"
   },
   {
    "duration": 8,
    "start_time": "2022-02-13T22:58:25.046Z"
   },
   {
    "duration": 3,
    "start_time": "2022-02-13T22:58:25.056Z"
   },
   {
    "duration": 9,
    "start_time": "2022-02-13T22:58:25.060Z"
   },
   {
    "duration": 7,
    "start_time": "2022-02-13T22:58:25.071Z"
   },
   {
    "duration": 9,
    "start_time": "2022-02-13T22:58:25.079Z"
   },
   {
    "duration": 11,
    "start_time": "2022-02-13T22:58:25.089Z"
   },
   {
    "duration": 8,
    "start_time": "2022-02-13T22:58:25.101Z"
   },
   {
    "duration": 20,
    "start_time": "2022-02-13T22:58:25.111Z"
   },
   {
    "duration": 7,
    "start_time": "2022-02-13T22:58:25.132Z"
   },
   {
    "duration": 5,
    "start_time": "2022-02-13T22:58:25.141Z"
   },
   {
    "duration": 6,
    "start_time": "2022-02-13T22:58:25.148Z"
   },
   {
    "duration": 8,
    "start_time": "2022-02-13T22:58:25.156Z"
   },
   {
    "duration": 4,
    "start_time": "2022-02-13T22:58:25.165Z"
   },
   {
    "duration": 4,
    "start_time": "2022-02-13T22:58:25.171Z"
   },
   {
    "duration": 21,
    "start_time": "2022-02-13T22:58:25.176Z"
   },
   {
    "duration": 29,
    "start_time": "2022-02-13T22:58:25.199Z"
   },
   {
    "duration": 2,
    "start_time": "2022-02-13T22:58:25.231Z"
   },
   {
    "duration": 5,
    "start_time": "2022-02-13T22:58:25.235Z"
   },
   {
    "duration": 14,
    "start_time": "2022-02-13T22:58:25.242Z"
   },
   {
    "duration": 11,
    "start_time": "2022-02-13T22:58:25.258Z"
   },
   {
    "duration": 14,
    "start_time": "2022-02-13T22:58:25.270Z"
   },
   {
    "duration": 3,
    "start_time": "2022-02-13T22:58:25.285Z"
   },
   {
    "duration": 40,
    "start_time": "2022-02-13T22:58:25.289Z"
   },
   {
    "duration": 7,
    "start_time": "2022-02-13T22:58:25.330Z"
   },
   {
    "duration": 7,
    "start_time": "2022-02-13T22:58:25.338Z"
   },
   {
    "duration": 7,
    "start_time": "2022-02-13T22:58:25.346Z"
   },
   {
    "duration": 14,
    "start_time": "2022-02-13T22:58:25.355Z"
   },
   {
    "duration": 3,
    "start_time": "2022-02-13T22:58:25.370Z"
   },
   {
    "duration": 225,
    "start_time": "2022-02-13T22:58:25.374Z"
   },
   {
    "duration": 10,
    "start_time": "2022-02-13T22:58:25.601Z"
   },
   {
    "duration": 25,
    "start_time": "2022-02-13T22:58:25.613Z"
   },
   {
    "duration": 18,
    "start_time": "2022-02-13T22:58:25.639Z"
   },
   {
    "duration": 2,
    "start_time": "2022-02-13T22:58:25.658Z"
   },
   {
    "duration": 14,
    "start_time": "2022-02-13T22:58:25.662Z"
   },
   {
    "duration": 18,
    "start_time": "2022-02-13T22:58:25.677Z"
   },
   {
    "duration": 5,
    "start_time": "2022-02-13T22:58:25.696Z"
   },
   {
    "duration": 33,
    "start_time": "2022-02-13T22:58:25.703Z"
   },
   {
    "duration": 4,
    "start_time": "2022-02-13T22:58:25.737Z"
   },
   {
    "duration": 19,
    "start_time": "2022-02-13T22:58:25.743Z"
   },
   {
    "duration": 311,
    "start_time": "2022-02-13T22:58:27.507Z"
   },
   {
    "duration": 381,
    "start_time": "2022-02-13T22:58:38.938Z"
   },
   {
    "duration": 310,
    "start_time": "2022-02-13T22:58:56.121Z"
   },
   {
    "duration": 343,
    "start_time": "2022-02-13T22:59:42.177Z"
   },
   {
    "duration": 336,
    "start_time": "2022-02-13T22:59:57.565Z"
   },
   {
    "duration": 17,
    "start_time": "2022-02-13T23:00:02.710Z"
   },
   {
    "duration": 301,
    "start_time": "2022-02-13T23:01:23.000Z"
   },
   {
    "duration": 26,
    "start_time": "2022-02-13T23:01:48.227Z"
   },
   {
    "duration": 364,
    "start_time": "2022-02-13T23:01:53.511Z"
   },
   {
    "duration": 94,
    "start_time": "2022-02-13T23:02:40.608Z"
   },
   {
    "duration": 44,
    "start_time": "2022-02-13T23:02:55.697Z"
   },
   {
    "duration": 1004,
    "start_time": "2022-02-13T23:08:31.761Z"
   },
   {
    "duration": 304,
    "start_time": "2022-02-13T23:09:49.930Z"
   },
   {
    "duration": 16,
    "start_time": "2022-02-13T23:09:57.244Z"
   },
   {
    "duration": 20,
    "start_time": "2022-02-13T23:11:06.344Z"
   },
   {
    "duration": 20,
    "start_time": "2022-02-13T23:11:28.347Z"
   },
   {
    "duration": 541,
    "start_time": "2022-02-13T23:11:59.554Z"
   },
   {
    "duration": 625,
    "start_time": "2022-02-13T23:12:04.431Z"
   },
   {
    "duration": 19,
    "start_time": "2022-02-13T23:12:21.655Z"
   },
   {
    "duration": 314,
    "start_time": "2022-02-13T23:13:08.972Z"
   },
   {
    "duration": 329,
    "start_time": "2022-02-13T23:17:11.494Z"
   },
   {
    "duration": 17,
    "start_time": "2022-02-13T23:17:15.985Z"
   },
   {
    "duration": 18,
    "start_time": "2022-02-13T23:17:21.311Z"
   },
   {
    "duration": 18,
    "start_time": "2022-02-13T23:17:30.159Z"
   },
   {
    "duration": 2725,
    "start_time": "2022-02-13T23:18:00.954Z"
   },
   {
    "duration": 19,
    "start_time": "2022-02-13T23:18:06.806Z"
   },
   {
    "duration": 325,
    "start_time": "2022-02-13T23:18:54.096Z"
   },
   {
    "duration": -6,
    "start_time": "2022-02-13T23:19:10.337Z"
   },
   {
    "duration": 32,
    "start_time": "2022-02-13T23:19:17.569Z"
   },
   {
    "duration": 18,
    "start_time": "2022-02-13T23:19:47.568Z"
   },
   {
    "duration": 1294,
    "start_time": "2022-02-13T23:20:18.457Z"
   },
   {
    "duration": 394,
    "start_time": "2022-02-14T09:47:56.331Z"
   },
   {
    "duration": 596,
    "start_time": "2022-02-14T09:48:01.027Z"
   },
   {
    "duration": 47,
    "start_time": "2022-02-14T09:48:01.625Z"
   },
   {
    "duration": 17,
    "start_time": "2022-02-14T09:48:01.674Z"
   },
   {
    "duration": 15,
    "start_time": "2022-02-14T09:48:01.693Z"
   },
   {
    "duration": 19,
    "start_time": "2022-02-14T09:48:01.709Z"
   },
   {
    "duration": 4,
    "start_time": "2022-02-14T09:48:01.729Z"
   },
   {
    "duration": 6,
    "start_time": "2022-02-14T09:48:01.735Z"
   },
   {
    "duration": 24,
    "start_time": "2022-02-14T09:48:01.742Z"
   },
   {
    "duration": 5,
    "start_time": "2022-02-14T09:48:02.993Z"
   },
   {
    "duration": 3,
    "start_time": "2022-02-14T09:49:05.987Z"
   },
   {
    "duration": 53,
    "start_time": "2022-02-14T09:49:05.991Z"
   },
   {
    "duration": 11,
    "start_time": "2022-02-14T09:49:06.046Z"
   },
   {
    "duration": 26,
    "start_time": "2022-02-14T09:49:06.059Z"
   },
   {
    "duration": 13,
    "start_time": "2022-02-14T09:49:06.086Z"
   },
   {
    "duration": 14,
    "start_time": "2022-02-14T09:49:06.101Z"
   },
   {
    "duration": 11,
    "start_time": "2022-02-14T09:49:06.117Z"
   },
   {
    "duration": 29,
    "start_time": "2022-02-14T09:49:06.129Z"
   },
   {
    "duration": 5,
    "start_time": "2022-02-14T09:49:06.160Z"
   },
   {
    "duration": 10,
    "start_time": "2022-02-14T09:49:06.167Z"
   },
   {
    "duration": 12,
    "start_time": "2022-02-14T09:49:06.178Z"
   },
   {
    "duration": 10,
    "start_time": "2022-02-14T09:49:06.191Z"
   },
   {
    "duration": 20,
    "start_time": "2022-02-14T09:49:06.202Z"
   },
   {
    "duration": 14,
    "start_time": "2022-02-14T09:49:06.224Z"
   },
   {
    "duration": 41,
    "start_time": "2022-02-14T09:49:06.240Z"
   },
   {
    "duration": 33,
    "start_time": "2022-02-14T09:49:06.283Z"
   },
   {
    "duration": 3,
    "start_time": "2022-02-14T09:49:16.685Z"
   },
   {
    "duration": 370,
    "start_time": "2022-02-14T09:49:16.690Z"
   },
   {
    "duration": 11,
    "start_time": "2022-02-14T09:49:17.062Z"
   },
   {
    "duration": 47,
    "start_time": "2022-02-14T09:49:17.074Z"
   },
   {
    "duration": 13,
    "start_time": "2022-02-14T09:49:17.123Z"
   },
   {
    "duration": 11,
    "start_time": "2022-02-14T09:49:17.137Z"
   },
   {
    "duration": 10,
    "start_time": "2022-02-14T09:49:17.150Z"
   },
   {
    "duration": 22,
    "start_time": "2022-02-14T09:49:17.162Z"
   },
   {
    "duration": 5,
    "start_time": "2022-02-14T09:49:17.185Z"
   },
   {
    "duration": 9,
    "start_time": "2022-02-14T09:49:17.191Z"
   },
   {
    "duration": 10,
    "start_time": "2022-02-14T09:49:17.201Z"
   },
   {
    "duration": 15,
    "start_time": "2022-02-14T09:49:17.212Z"
   },
   {
    "duration": 13,
    "start_time": "2022-02-14T09:49:17.229Z"
   },
   {
    "duration": 3,
    "start_time": "2022-02-14T09:49:17.244Z"
   },
   {
    "duration": 7,
    "start_time": "2022-02-14T09:49:17.249Z"
   },
   {
    "duration": 8,
    "start_time": "2022-02-14T09:49:17.258Z"
   },
   {
    "duration": 17,
    "start_time": "2022-02-14T09:49:17.267Z"
   },
   {
    "duration": 8,
    "start_time": "2022-02-14T09:49:19.189Z"
   },
   {
    "duration": 6,
    "start_time": "2022-02-14T09:49:22.453Z"
   },
   {
    "duration": 6,
    "start_time": "2022-02-14T09:49:25.296Z"
   },
   {
    "duration": 3,
    "start_time": "2022-02-14T09:49:26.395Z"
   },
   {
    "duration": 2,
    "start_time": "2022-02-14T09:50:19.182Z"
   },
   {
    "duration": 52,
    "start_time": "2022-02-14T09:50:19.186Z"
   },
   {
    "duration": 12,
    "start_time": "2022-02-14T09:50:19.240Z"
   },
   {
    "duration": 11,
    "start_time": "2022-02-14T09:50:19.253Z"
   },
   {
    "duration": 9,
    "start_time": "2022-02-14T09:50:19.265Z"
   },
   {
    "duration": 9,
    "start_time": "2022-02-14T09:50:19.275Z"
   },
   {
    "duration": 5,
    "start_time": "2022-02-14T09:50:19.286Z"
   },
   {
    "duration": 20,
    "start_time": "2022-02-14T09:50:19.327Z"
   },
   {
    "duration": 4,
    "start_time": "2022-02-14T09:50:19.349Z"
   },
   {
    "duration": 4,
    "start_time": "2022-02-14T09:50:19.354Z"
   },
   {
    "duration": 6,
    "start_time": "2022-02-14T09:50:19.359Z"
   },
   {
    "duration": 3,
    "start_time": "2022-02-14T09:50:19.366Z"
   },
   {
    "duration": 9,
    "start_time": "2022-02-14T09:50:19.371Z"
   },
   {
    "duration": 3,
    "start_time": "2022-02-14T09:50:19.382Z"
   },
   {
    "duration": 41,
    "start_time": "2022-02-14T09:50:19.387Z"
   },
   {
    "duration": 5,
    "start_time": "2022-02-14T09:50:19.429Z"
   },
   {
    "duration": 8,
    "start_time": "2022-02-14T09:50:19.436Z"
   },
   {
    "duration": 22,
    "start_time": "2022-02-14T09:50:19.445Z"
   },
   {
    "duration": 12,
    "start_time": "2022-02-14T09:50:19.469Z"
   },
   {
    "duration": 20,
    "start_time": "2022-02-14T09:50:19.482Z"
   },
   {
    "duration": 5,
    "start_time": "2022-02-14T09:50:19.504Z"
   },
   {
    "duration": 17,
    "start_time": "2022-02-14T09:50:19.511Z"
   },
   {
    "duration": 5,
    "start_time": "2022-02-14T09:50:19.529Z"
   },
   {
    "duration": 11,
    "start_time": "2022-02-14T09:50:19.536Z"
   },
   {
    "duration": 31,
    "start_time": "2022-02-14T09:50:19.548Z"
   },
   {
    "duration": 7,
    "start_time": "2022-02-14T09:50:19.581Z"
   },
   {
    "duration": 4,
    "start_time": "2022-02-14T09:50:19.591Z"
   },
   {
    "duration": 31,
    "start_time": "2022-02-14T09:50:19.597Z"
   },
   {
    "duration": 17,
    "start_time": "2022-02-14T09:50:19.630Z"
   },
   {
    "duration": 15,
    "start_time": "2022-02-14T09:50:22.230Z"
   },
   {
    "duration": 14,
    "start_time": "2022-02-14T09:50:24.133Z"
   },
   {
    "duration": 3,
    "start_time": "2022-02-14T09:50:42.514Z"
   },
   {
    "duration": 49,
    "start_time": "2022-02-14T09:50:42.519Z"
   },
   {
    "duration": 11,
    "start_time": "2022-02-14T09:50:42.570Z"
   },
   {
    "duration": 14,
    "start_time": "2022-02-14T09:50:42.583Z"
   },
   {
    "duration": 9,
    "start_time": "2022-02-14T09:50:42.598Z"
   },
   {
    "duration": 19,
    "start_time": "2022-02-14T09:50:42.609Z"
   },
   {
    "duration": 6,
    "start_time": "2022-02-14T09:50:42.630Z"
   },
   {
    "duration": 30,
    "start_time": "2022-02-14T09:50:42.638Z"
   },
   {
    "duration": 6,
    "start_time": "2022-02-14T09:50:42.671Z"
   },
   {
    "duration": 5,
    "start_time": "2022-02-14T09:50:42.679Z"
   },
   {
    "duration": 45,
    "start_time": "2022-02-14T09:50:42.685Z"
   },
   {
    "duration": 7,
    "start_time": "2022-02-14T09:50:42.732Z"
   },
   {
    "duration": 10,
    "start_time": "2022-02-14T09:50:42.740Z"
   },
   {
    "duration": 9,
    "start_time": "2022-02-14T09:50:42.751Z"
   },
   {
    "duration": 17,
    "start_time": "2022-02-14T09:50:42.762Z"
   },
   {
    "duration": 7,
    "start_time": "2022-02-14T09:50:42.780Z"
   },
   {
    "duration": 9,
    "start_time": "2022-02-14T09:50:42.788Z"
   },
   {
    "duration": 30,
    "start_time": "2022-02-14T09:50:42.798Z"
   },
   {
    "duration": 7,
    "start_time": "2022-02-14T09:50:42.830Z"
   },
   {
    "duration": 7,
    "start_time": "2022-02-14T09:50:42.838Z"
   },
   {
    "duration": 5,
    "start_time": "2022-02-14T09:50:42.847Z"
   },
   {
    "duration": 9,
    "start_time": "2022-02-14T09:50:42.853Z"
   },
   {
    "duration": 7,
    "start_time": "2022-02-14T09:50:42.863Z"
   },
   {
    "duration": 5,
    "start_time": "2022-02-14T09:50:42.872Z"
   },
   {
    "duration": 63,
    "start_time": "2022-02-14T09:50:42.878Z"
   },
   {
    "duration": 6,
    "start_time": "2022-02-14T09:50:42.943Z"
   },
   {
    "duration": 3,
    "start_time": "2022-02-14T09:50:42.950Z"
   },
   {
    "duration": 7,
    "start_time": "2022-02-14T09:50:42.954Z"
   },
   {
    "duration": 16,
    "start_time": "2022-02-14T09:50:45.281Z"
   },
   {
    "duration": 15,
    "start_time": "2022-02-14T09:50:46.803Z"
   },
   {
    "duration": 14,
    "start_time": "2022-02-14T09:50:48.395Z"
   },
   {
    "duration": 16,
    "start_time": "2022-02-14T09:50:56.088Z"
   },
   {
    "duration": 4,
    "start_time": "2022-02-14T09:50:57.407Z"
   },
   {
    "duration": 3,
    "start_time": "2022-02-14T09:51:16.810Z"
   },
   {
    "duration": 2,
    "start_time": "2022-02-14T09:51:20.548Z"
   },
   {
    "duration": 47,
    "start_time": "2022-02-14T09:51:20.552Z"
   },
   {
    "duration": 11,
    "start_time": "2022-02-14T09:51:20.600Z"
   },
   {
    "duration": 12,
    "start_time": "2022-02-14T09:51:20.612Z"
   },
   {
    "duration": 7,
    "start_time": "2022-02-14T09:51:20.626Z"
   },
   {
    "duration": 5,
    "start_time": "2022-02-14T09:51:20.634Z"
   },
   {
    "duration": 6,
    "start_time": "2022-02-14T09:51:20.640Z"
   },
   {
    "duration": 23,
    "start_time": "2022-02-14T09:51:20.647Z"
   },
   {
    "duration": 5,
    "start_time": "2022-02-14T09:51:20.672Z"
   },
   {
    "duration": 8,
    "start_time": "2022-02-14T09:51:20.678Z"
   },
   {
    "duration": 9,
    "start_time": "2022-02-14T09:51:20.687Z"
   },
   {
    "duration": 3,
    "start_time": "2022-02-14T09:51:20.728Z"
   },
   {
    "duration": 11,
    "start_time": "2022-02-14T09:51:20.733Z"
   },
   {
    "duration": 4,
    "start_time": "2022-02-14T09:51:20.746Z"
   },
   {
    "duration": 7,
    "start_time": "2022-02-14T09:51:20.752Z"
   },
   {
    "duration": 6,
    "start_time": "2022-02-14T09:51:20.760Z"
   },
   {
    "duration": 9,
    "start_time": "2022-02-14T09:51:20.767Z"
   },
   {
    "duration": 51,
    "start_time": "2022-02-14T09:51:20.777Z"
   },
   {
    "duration": 6,
    "start_time": "2022-02-14T09:51:20.829Z"
   },
   {
    "duration": 7,
    "start_time": "2022-02-14T09:51:20.836Z"
   },
   {
    "duration": 4,
    "start_time": "2022-02-14T09:51:20.845Z"
   },
   {
    "duration": 5,
    "start_time": "2022-02-14T09:51:20.851Z"
   },
   {
    "duration": 3,
    "start_time": "2022-02-14T09:51:20.858Z"
   },
   {
    "duration": 5,
    "start_time": "2022-02-14T09:51:20.863Z"
   },
   {
    "duration": 65,
    "start_time": "2022-02-14T09:51:20.869Z"
   },
   {
    "duration": 5,
    "start_time": "2022-02-14T09:51:20.936Z"
   },
   {
    "duration": 5,
    "start_time": "2022-02-14T09:51:20.944Z"
   },
   {
    "duration": 6,
    "start_time": "2022-02-14T09:51:20.951Z"
   },
   {
    "duration": 4,
    "start_time": "2022-02-14T09:51:28.392Z"
   },
   {
    "duration": 14,
    "start_time": "2022-02-14T09:51:31.549Z"
   },
   {
    "duration": 17,
    "start_time": "2022-02-14T09:51:33.320Z"
   },
   {
    "duration": 4,
    "start_time": "2022-02-14T09:51:34.930Z"
   },
   {
    "duration": 4,
    "start_time": "2022-02-14T09:53:49.655Z"
   },
   {
    "duration": 3,
    "start_time": "2022-02-14T09:53:55.799Z"
   },
   {
    "duration": 58,
    "start_time": "2022-02-14T09:53:55.805Z"
   },
   {
    "duration": 13,
    "start_time": "2022-02-14T09:53:55.865Z"
   },
   {
    "duration": 21,
    "start_time": "2022-02-14T09:53:55.880Z"
   },
   {
    "duration": 24,
    "start_time": "2022-02-14T09:53:55.903Z"
   },
   {
    "duration": 5,
    "start_time": "2022-02-14T09:53:55.931Z"
   },
   {
    "duration": 19,
    "start_time": "2022-02-14T09:53:55.938Z"
   },
   {
    "duration": 26,
    "start_time": "2022-02-14T09:53:55.959Z"
   },
   {
    "duration": 4,
    "start_time": "2022-02-14T09:53:55.987Z"
   },
   {
    "duration": 3,
    "start_time": "2022-02-14T09:53:55.993Z"
   },
   {
    "duration": 38,
    "start_time": "2022-02-14T09:53:55.998Z"
   },
   {
    "duration": 4,
    "start_time": "2022-02-14T09:53:56.039Z"
   },
   {
    "duration": 17,
    "start_time": "2022-02-14T09:53:56.045Z"
   },
   {
    "duration": 4,
    "start_time": "2022-02-14T09:53:56.064Z"
   },
   {
    "duration": 13,
    "start_time": "2022-02-14T09:53:56.070Z"
   },
   {
    "duration": 9,
    "start_time": "2022-02-14T09:53:56.085Z"
   },
   {
    "duration": 35,
    "start_time": "2022-02-14T09:53:56.097Z"
   },
   {
    "duration": 18,
    "start_time": "2022-02-14T09:53:56.134Z"
   },
   {
    "duration": 3,
    "start_time": "2022-02-14T09:54:03.516Z"
   },
   {
    "duration": 50,
    "start_time": "2022-02-14T09:54:03.521Z"
   },
   {
    "duration": 11,
    "start_time": "2022-02-14T09:54:03.572Z"
   },
   {
    "duration": 10,
    "start_time": "2022-02-14T09:54:03.585Z"
   },
   {
    "duration": 7,
    "start_time": "2022-02-14T09:54:03.597Z"
   },
   {
    "duration": 21,
    "start_time": "2022-02-14T09:54:03.606Z"
   },
   {
    "duration": 4,
    "start_time": "2022-02-14T09:54:03.628Z"
   },
   {
    "duration": 23,
    "start_time": "2022-02-14T09:54:03.633Z"
   },
   {
    "duration": 4,
    "start_time": "2022-02-14T09:54:03.658Z"
   },
   {
    "duration": 5,
    "start_time": "2022-02-14T09:54:03.664Z"
   },
   {
    "duration": 7,
    "start_time": "2022-02-14T09:54:03.670Z"
   },
   {
    "duration": 4,
    "start_time": "2022-02-14T09:54:03.678Z"
   },
   {
    "duration": 48,
    "start_time": "2022-02-14T09:54:03.683Z"
   },
   {
    "duration": 3,
    "start_time": "2022-02-14T09:54:03.733Z"
   },
   {
    "duration": 6,
    "start_time": "2022-02-14T09:54:03.737Z"
   },
   {
    "duration": 6,
    "start_time": "2022-02-14T09:54:03.745Z"
   },
   {
    "duration": 8,
    "start_time": "2022-02-14T09:54:03.753Z"
   },
   {
    "duration": 5,
    "start_time": "2022-02-14T09:54:03.762Z"
   },
   {
    "duration": 7,
    "start_time": "2022-02-14T09:54:03.768Z"
   },
   {
    "duration": 4,
    "start_time": "2022-02-14T09:54:03.777Z"
   },
   {
    "duration": 45,
    "start_time": "2022-02-14T09:54:03.783Z"
   },
   {
    "duration": 4,
    "start_time": "2022-02-14T09:54:14.576Z"
   },
   {
    "duration": 4,
    "start_time": "2022-02-14T09:54:27.477Z"
   },
   {
    "duration": 5,
    "start_time": "2022-02-14T09:54:29.610Z"
   },
   {
    "duration": 4,
    "start_time": "2022-02-14T09:54:33.825Z"
   },
   {
    "duration": 14,
    "start_time": "2022-02-14T09:54:40.970Z"
   },
   {
    "duration": 3,
    "start_time": "2022-02-14T09:54:50.467Z"
   },
   {
    "duration": 3,
    "start_time": "2022-02-14T09:55:00.665Z"
   },
   {
    "duration": 57,
    "start_time": "2022-02-14T09:55:00.669Z"
   },
   {
    "duration": 11,
    "start_time": "2022-02-14T09:55:00.728Z"
   },
   {
    "duration": 16,
    "start_time": "2022-02-14T09:55:00.741Z"
   },
   {
    "duration": 13,
    "start_time": "2022-02-14T09:55:00.759Z"
   },
   {
    "duration": 7,
    "start_time": "2022-02-14T09:55:00.774Z"
   },
   {
    "duration": 13,
    "start_time": "2022-02-14T09:55:00.783Z"
   },
   {
    "duration": 48,
    "start_time": "2022-02-14T09:55:00.798Z"
   },
   {
    "duration": 6,
    "start_time": "2022-02-14T09:55:00.848Z"
   },
   {
    "duration": 20,
    "start_time": "2022-02-14T09:55:00.856Z"
   },
   {
    "duration": 22,
    "start_time": "2022-02-14T09:55:00.877Z"
   },
   {
    "duration": 6,
    "start_time": "2022-02-14T09:55:00.901Z"
   },
   {
    "duration": 41,
    "start_time": "2022-02-14T09:55:00.908Z"
   },
   {
    "duration": 13,
    "start_time": "2022-02-14T09:55:00.951Z"
   },
   {
    "duration": 13,
    "start_time": "2022-02-14T09:55:00.966Z"
   },
   {
    "duration": 7,
    "start_time": "2022-02-14T09:55:00.981Z"
   },
   {
    "duration": 8,
    "start_time": "2022-02-14T09:55:00.990Z"
   },
   {
    "duration": 9,
    "start_time": "2022-02-14T09:55:01.000Z"
   },
   {
    "duration": 15,
    "start_time": "2022-02-14T09:55:01.012Z"
   },
   {
    "duration": 5,
    "start_time": "2022-02-14T09:55:01.028Z"
   },
   {
    "duration": 8,
    "start_time": "2022-02-14T09:55:01.034Z"
   },
   {
    "duration": 6,
    "start_time": "2022-02-14T09:55:01.043Z"
   },
   {
    "duration": 7,
    "start_time": "2022-02-14T09:55:01.050Z"
   },
   {
    "duration": 5,
    "start_time": "2022-02-14T09:55:01.058Z"
   },
   {
    "duration": 5,
    "start_time": "2022-02-14T09:55:01.065Z"
   },
   {
    "duration": 59,
    "start_time": "2022-02-14T09:55:01.071Z"
   },
   {
    "duration": 5,
    "start_time": "2022-02-14T09:55:01.132Z"
   },
   {
    "duration": 5,
    "start_time": "2022-02-14T09:55:01.139Z"
   },
   {
    "duration": 13,
    "start_time": "2022-02-14T09:55:01.146Z"
   },
   {
    "duration": 27,
    "start_time": "2022-02-14T09:55:01.160Z"
   },
   {
    "duration": 16,
    "start_time": "2022-02-14T09:55:01.189Z"
   },
   {
    "duration": 23,
    "start_time": "2022-02-14T09:55:01.206Z"
   },
   {
    "duration": 3,
    "start_time": "2022-02-14T09:55:11.239Z"
   },
   {
    "duration": 49,
    "start_time": "2022-02-14T09:55:11.244Z"
   },
   {
    "duration": 10,
    "start_time": "2022-02-14T09:55:11.295Z"
   },
   {
    "duration": 14,
    "start_time": "2022-02-14T09:55:11.307Z"
   },
   {
    "duration": 11,
    "start_time": "2022-02-14T09:55:11.323Z"
   },
   {
    "duration": 6,
    "start_time": "2022-02-14T09:55:11.335Z"
   },
   {
    "duration": 6,
    "start_time": "2022-02-14T09:55:11.342Z"
   },
   {
    "duration": 19,
    "start_time": "2022-02-14T09:55:11.350Z"
   },
   {
    "duration": 4,
    "start_time": "2022-02-14T09:55:11.372Z"
   },
   {
    "duration": 49,
    "start_time": "2022-02-14T09:55:11.378Z"
   },
   {
    "duration": 7,
    "start_time": "2022-02-14T09:55:11.429Z"
   },
   {
    "duration": 3,
    "start_time": "2022-02-14T09:55:11.438Z"
   },
   {
    "duration": 12,
    "start_time": "2022-02-14T09:55:11.442Z"
   },
   {
    "duration": 4,
    "start_time": "2022-02-14T09:55:11.455Z"
   },
   {
    "duration": 8,
    "start_time": "2022-02-14T09:55:11.460Z"
   },
   {
    "duration": 10,
    "start_time": "2022-02-14T09:55:11.469Z"
   },
   {
    "duration": 9,
    "start_time": "2022-02-14T09:55:11.480Z"
   },
   {
    "duration": 40,
    "start_time": "2022-02-14T09:55:11.491Z"
   },
   {
    "duration": 5,
    "start_time": "2022-02-14T09:55:11.532Z"
   },
   {
    "duration": 7,
    "start_time": "2022-02-14T09:55:11.539Z"
   },
   {
    "duration": 9,
    "start_time": "2022-02-14T09:55:11.548Z"
   },
   {
    "duration": 26,
    "start_time": "2022-02-14T09:55:11.559Z"
   },
   {
    "duration": 15,
    "start_time": "2022-02-14T09:55:11.587Z"
   },
   {
    "duration": 6,
    "start_time": "2022-02-14T09:55:11.604Z"
   },
   {
    "duration": 17,
    "start_time": "2022-02-14T09:55:11.611Z"
   },
   {
    "duration": 24,
    "start_time": "2022-02-14T09:55:11.629Z"
   },
   {
    "duration": 5,
    "start_time": "2022-02-14T09:55:11.656Z"
   },
   {
    "duration": 3,
    "start_time": "2022-02-14T09:55:11.663Z"
   },
   {
    "duration": 8,
    "start_time": "2022-02-14T09:55:11.668Z"
   },
   {
    "duration": 14,
    "start_time": "2022-02-14T09:55:11.678Z"
   },
   {
    "duration": 47,
    "start_time": "2022-02-14T09:55:11.694Z"
   },
   {
    "duration": 3,
    "start_time": "2022-02-14T09:55:11.743Z"
   },
   {
    "duration": 16,
    "start_time": "2022-02-14T09:55:11.747Z"
   },
   {
    "duration": 8,
    "start_time": "2022-02-14T09:55:11.764Z"
   },
   {
    "duration": 2,
    "start_time": "2022-02-14T09:55:36.964Z"
   },
   {
    "duration": 52,
    "start_time": "2022-02-14T09:55:36.968Z"
   },
   {
    "duration": 11,
    "start_time": "2022-02-14T09:55:37.022Z"
   },
   {
    "duration": 11,
    "start_time": "2022-02-14T09:55:37.034Z"
   },
   {
    "duration": 9,
    "start_time": "2022-02-14T09:55:37.046Z"
   },
   {
    "duration": 4,
    "start_time": "2022-02-14T09:55:37.056Z"
   },
   {
    "duration": 7,
    "start_time": "2022-02-14T09:55:37.061Z"
   },
   {
    "duration": 25,
    "start_time": "2022-02-14T09:55:37.070Z"
   },
   {
    "duration": 33,
    "start_time": "2022-02-14T09:55:37.097Z"
   },
   {
    "duration": 4,
    "start_time": "2022-02-14T09:55:37.131Z"
   },
   {
    "duration": 7,
    "start_time": "2022-02-14T09:55:37.136Z"
   },
   {
    "duration": 3,
    "start_time": "2022-02-14T09:55:37.144Z"
   },
   {
    "duration": 10,
    "start_time": "2022-02-14T09:55:37.149Z"
   },
   {
    "duration": 4,
    "start_time": "2022-02-14T09:55:37.161Z"
   },
   {
    "duration": 7,
    "start_time": "2022-02-14T09:55:37.166Z"
   },
   {
    "duration": 8,
    "start_time": "2022-02-14T09:55:37.175Z"
   },
   {
    "duration": 8,
    "start_time": "2022-02-14T09:55:37.227Z"
   },
   {
    "duration": 6,
    "start_time": "2022-02-14T09:55:37.236Z"
   },
   {
    "duration": 4,
    "start_time": "2022-02-14T09:55:37.243Z"
   },
   {
    "duration": 6,
    "start_time": "2022-02-14T09:55:37.249Z"
   },
   {
    "duration": 6,
    "start_time": "2022-02-14T09:55:37.256Z"
   },
   {
    "duration": 5,
    "start_time": "2022-02-14T09:55:37.263Z"
   },
   {
    "duration": 6,
    "start_time": "2022-02-14T09:55:37.271Z"
   },
   {
    "duration": 5,
    "start_time": "2022-02-14T09:55:37.327Z"
   },
   {
    "duration": 5,
    "start_time": "2022-02-14T09:55:37.333Z"
   },
   {
    "duration": 23,
    "start_time": "2022-02-14T09:55:37.340Z"
   },
   {
    "duration": 6,
    "start_time": "2022-02-14T09:55:37.365Z"
   },
   {
    "duration": 4,
    "start_time": "2022-02-14T09:55:37.373Z"
   },
   {
    "duration": 6,
    "start_time": "2022-02-14T09:55:37.378Z"
   },
   {
    "duration": 17,
    "start_time": "2022-02-14T09:55:37.428Z"
   },
   {
    "duration": 18,
    "start_time": "2022-02-14T09:55:37.446Z"
   },
   {
    "duration": 3,
    "start_time": "2022-02-14T09:55:37.465Z"
   },
   {
    "duration": 12,
    "start_time": "2022-02-14T09:55:37.469Z"
   },
   {
    "duration": 44,
    "start_time": "2022-02-14T09:55:37.483Z"
   },
   {
    "duration": 9,
    "start_time": "2022-02-14T09:55:37.528Z"
   },
   {
    "duration": 7,
    "start_time": "2022-02-14T09:55:37.538Z"
   },
   {
    "duration": 6,
    "start_time": "2022-02-14T09:55:54.245Z"
   },
   {
    "duration": 54,
    "start_time": "2022-02-14T09:55:54.253Z"
   },
   {
    "duration": 12,
    "start_time": "2022-02-14T09:55:54.309Z"
   },
   {
    "duration": 11,
    "start_time": "2022-02-14T09:55:54.327Z"
   },
   {
    "duration": 10,
    "start_time": "2022-02-14T09:55:54.340Z"
   },
   {
    "duration": 5,
    "start_time": "2022-02-14T09:55:54.352Z"
   },
   {
    "duration": 5,
    "start_time": "2022-02-14T09:55:54.359Z"
   },
   {
    "duration": 68,
    "start_time": "2022-02-14T09:55:54.367Z"
   },
   {
    "duration": 6,
    "start_time": "2022-02-14T09:55:54.437Z"
   },
   {
    "duration": 5,
    "start_time": "2022-02-14T09:55:54.445Z"
   },
   {
    "duration": 6,
    "start_time": "2022-02-14T09:55:54.451Z"
   },
   {
    "duration": 3,
    "start_time": "2022-02-14T09:55:54.459Z"
   },
   {
    "duration": 11,
    "start_time": "2022-02-14T09:55:54.463Z"
   },
   {
    "duration": 5,
    "start_time": "2022-02-14T09:55:54.475Z"
   },
   {
    "duration": 49,
    "start_time": "2022-02-14T09:55:54.482Z"
   },
   {
    "duration": 7,
    "start_time": "2022-02-14T09:55:54.533Z"
   },
   {
    "duration": 8,
    "start_time": "2022-02-14T09:55:54.541Z"
   },
   {
    "duration": 5,
    "start_time": "2022-02-14T09:55:54.551Z"
   },
   {
    "duration": 5,
    "start_time": "2022-02-14T09:55:54.557Z"
   },
   {
    "duration": 6,
    "start_time": "2022-02-14T09:55:54.563Z"
   },
   {
    "duration": 6,
    "start_time": "2022-02-14T09:55:54.570Z"
   },
   {
    "duration": 4,
    "start_time": "2022-02-14T09:55:54.578Z"
   },
   {
    "duration": 4,
    "start_time": "2022-02-14T09:55:54.630Z"
   },
   {
    "duration": 12,
    "start_time": "2022-02-14T09:55:54.636Z"
   },
   {
    "duration": 9,
    "start_time": "2022-02-14T09:55:54.649Z"
   },
   {
    "duration": 23,
    "start_time": "2022-02-14T09:55:54.660Z"
   },
   {
    "duration": 5,
    "start_time": "2022-02-14T09:55:54.684Z"
   },
   {
    "duration": 36,
    "start_time": "2022-02-14T09:55:54.691Z"
   },
   {
    "duration": 5,
    "start_time": "2022-02-14T09:55:54.729Z"
   },
   {
    "duration": 20,
    "start_time": "2022-02-14T09:55:54.736Z"
   },
   {
    "duration": 14,
    "start_time": "2022-02-14T09:55:54.758Z"
   },
   {
    "duration": 3,
    "start_time": "2022-02-14T09:55:54.774Z"
   },
   {
    "duration": 18,
    "start_time": "2022-02-14T09:55:54.778Z"
   },
   {
    "duration": 31,
    "start_time": "2022-02-14T09:55:54.797Z"
   },
   {
    "duration": 10,
    "start_time": "2022-02-14T09:55:54.829Z"
   },
   {
    "duration": 9,
    "start_time": "2022-02-14T09:55:54.840Z"
   },
   {
    "duration": 15,
    "start_time": "2022-02-14T09:55:54.850Z"
   },
   {
    "duration": 3,
    "start_time": "2022-02-14T09:56:41.260Z"
   },
   {
    "duration": 51,
    "start_time": "2022-02-14T09:56:41.265Z"
   },
   {
    "duration": 13,
    "start_time": "2022-02-14T09:56:41.318Z"
   },
   {
    "duration": 10,
    "start_time": "2022-02-14T09:56:41.333Z"
   },
   {
    "duration": 9,
    "start_time": "2022-02-14T09:56:41.344Z"
   },
   {
    "duration": 4,
    "start_time": "2022-02-14T09:56:41.354Z"
   },
   {
    "duration": 5,
    "start_time": "2022-02-14T09:56:41.360Z"
   },
   {
    "duration": 18,
    "start_time": "2022-02-14T09:56:41.367Z"
   },
   {
    "duration": 44,
    "start_time": "2022-02-14T09:56:41.386Z"
   },
   {
    "duration": 3,
    "start_time": "2022-02-14T09:56:41.431Z"
   },
   {
    "duration": 7,
    "start_time": "2022-02-14T09:56:41.436Z"
   },
   {
    "duration": 5,
    "start_time": "2022-02-14T09:56:41.444Z"
   },
   {
    "duration": 11,
    "start_time": "2022-02-14T09:56:41.450Z"
   },
   {
    "duration": 4,
    "start_time": "2022-02-14T09:56:41.462Z"
   },
   {
    "duration": 6,
    "start_time": "2022-02-14T09:56:41.467Z"
   },
   {
    "duration": 6,
    "start_time": "2022-02-14T09:56:41.475Z"
   },
   {
    "duration": 51,
    "start_time": "2022-02-14T09:56:41.482Z"
   },
   {
    "duration": 9,
    "start_time": "2022-02-14T09:56:41.535Z"
   },
   {
    "duration": 4,
    "start_time": "2022-02-14T09:56:41.546Z"
   },
   {
    "duration": 5,
    "start_time": "2022-02-14T09:56:41.552Z"
   },
   {
    "duration": 6,
    "start_time": "2022-02-14T09:56:41.559Z"
   },
   {
    "duration": 5,
    "start_time": "2022-02-14T09:56:41.566Z"
   },
   {
    "duration": 10,
    "start_time": "2022-02-14T09:56:41.572Z"
   },
   {
    "duration": 4,
    "start_time": "2022-02-14T09:56:41.583Z"
   },
   {
    "duration": 4,
    "start_time": "2022-02-14T09:56:41.627Z"
   },
   {
    "duration": 23,
    "start_time": "2022-02-14T09:56:41.633Z"
   },
   {
    "duration": 7,
    "start_time": "2022-02-14T09:56:41.657Z"
   },
   {
    "duration": 3,
    "start_time": "2022-02-14T09:56:41.666Z"
   },
   {
    "duration": 6,
    "start_time": "2022-02-14T09:56:41.671Z"
   },
   {
    "duration": 57,
    "start_time": "2022-02-14T09:56:41.679Z"
   },
   {
    "duration": 18,
    "start_time": "2022-02-14T09:56:41.737Z"
   },
   {
    "duration": 3,
    "start_time": "2022-02-14T09:56:41.757Z"
   },
   {
    "duration": 16,
    "start_time": "2022-02-14T09:56:41.762Z"
   },
   {
    "duration": 8,
    "start_time": "2022-02-14T09:56:41.780Z"
   },
   {
    "duration": 40,
    "start_time": "2022-02-14T09:56:41.789Z"
   },
   {
    "duration": 9,
    "start_time": "2022-02-14T09:56:41.831Z"
   },
   {
    "duration": 16,
    "start_time": "2022-02-14T09:56:41.841Z"
   },
   {
    "duration": 4,
    "start_time": "2022-02-14T09:56:41.859Z"
   },
   {
    "duration": 239,
    "start_time": "2022-02-14T09:56:41.865Z"
   },
   {
    "duration": 12,
    "start_time": "2022-02-14T09:56:44.902Z"
   },
   {
    "duration": 3,
    "start_time": "2022-02-14T09:57:13.856Z"
   },
   {
    "duration": 50,
    "start_time": "2022-02-14T09:57:13.861Z"
   },
   {
    "duration": 10,
    "start_time": "2022-02-14T09:57:13.913Z"
   },
   {
    "duration": 12,
    "start_time": "2022-02-14T09:57:13.925Z"
   },
   {
    "duration": 8,
    "start_time": "2022-02-14T09:57:13.938Z"
   },
   {
    "duration": 6,
    "start_time": "2022-02-14T09:57:13.947Z"
   },
   {
    "duration": 5,
    "start_time": "2022-02-14T09:57:13.955Z"
   },
   {
    "duration": 21,
    "start_time": "2022-02-14T09:57:13.961Z"
   },
   {
    "duration": 43,
    "start_time": "2022-02-14T09:57:13.984Z"
   },
   {
    "duration": 2,
    "start_time": "2022-02-14T09:57:14.029Z"
   },
   {
    "duration": 7,
    "start_time": "2022-02-14T09:57:14.033Z"
   },
   {
    "duration": 5,
    "start_time": "2022-02-14T09:57:14.041Z"
   },
   {
    "duration": 12,
    "start_time": "2022-02-14T09:57:14.047Z"
   },
   {
    "duration": 5,
    "start_time": "2022-02-14T09:57:14.061Z"
   },
   {
    "duration": 5,
    "start_time": "2022-02-14T09:57:14.067Z"
   },
   {
    "duration": 6,
    "start_time": "2022-02-14T09:57:14.074Z"
   },
   {
    "duration": 50,
    "start_time": "2022-02-14T09:57:14.082Z"
   },
   {
    "duration": 6,
    "start_time": "2022-02-14T09:57:14.134Z"
   },
   {
    "duration": 8,
    "start_time": "2022-02-14T09:57:14.142Z"
   },
   {
    "duration": 5,
    "start_time": "2022-02-14T09:57:14.152Z"
   },
   {
    "duration": 13,
    "start_time": "2022-02-14T09:57:14.158Z"
   },
   {
    "duration": 7,
    "start_time": "2022-02-14T09:57:14.173Z"
   },
   {
    "duration": 8,
    "start_time": "2022-02-14T09:57:14.181Z"
   },
   {
    "duration": 7,
    "start_time": "2022-02-14T09:57:14.190Z"
   },
   {
    "duration": 30,
    "start_time": "2022-02-14T09:57:14.199Z"
   },
   {
    "duration": 25,
    "start_time": "2022-02-14T09:57:14.230Z"
   },
   {
    "duration": 5,
    "start_time": "2022-02-14T09:57:14.258Z"
   },
   {
    "duration": 5,
    "start_time": "2022-02-14T09:57:14.265Z"
   },
   {
    "duration": 6,
    "start_time": "2022-02-14T09:57:14.272Z"
   },
   {
    "duration": 49,
    "start_time": "2022-02-14T09:57:14.280Z"
   },
   {
    "duration": 16,
    "start_time": "2022-02-14T09:57:14.330Z"
   },
   {
    "duration": 4,
    "start_time": "2022-02-14T09:57:14.347Z"
   },
   {
    "duration": 13,
    "start_time": "2022-02-14T09:57:14.352Z"
   },
   {
    "duration": 9,
    "start_time": "2022-02-14T09:57:14.367Z"
   },
   {
    "duration": 9,
    "start_time": "2022-02-14T09:57:14.378Z"
   },
   {
    "duration": 41,
    "start_time": "2022-02-14T09:57:14.389Z"
   },
   {
    "duration": 15,
    "start_time": "2022-02-14T09:57:14.432Z"
   },
   {
    "duration": 3,
    "start_time": "2022-02-14T09:57:14.448Z"
   },
   {
    "duration": 222,
    "start_time": "2022-02-14T09:57:14.453Z"
   },
   {
    "duration": 11,
    "start_time": "2022-02-14T09:57:14.677Z"
   },
   {
    "duration": 21,
    "start_time": "2022-02-14T09:57:14.690Z"
   },
   {
    "duration": 20,
    "start_time": "2022-02-14T09:57:18.823Z"
   },
   {
    "duration": 2,
    "start_time": "2022-02-14T09:58:05.530Z"
   },
   {
    "duration": 52,
    "start_time": "2022-02-14T09:58:05.534Z"
   },
   {
    "duration": 11,
    "start_time": "2022-02-14T09:58:05.588Z"
   },
   {
    "duration": 32,
    "start_time": "2022-02-14T09:58:05.600Z"
   },
   {
    "duration": 8,
    "start_time": "2022-02-14T09:58:05.634Z"
   },
   {
    "duration": 7,
    "start_time": "2022-02-14T09:58:05.644Z"
   },
   {
    "duration": 6,
    "start_time": "2022-02-14T09:58:05.653Z"
   },
   {
    "duration": 18,
    "start_time": "2022-02-14T09:58:05.661Z"
   },
   {
    "duration": 4,
    "start_time": "2022-02-14T09:58:05.681Z"
   },
   {
    "duration": 3,
    "start_time": "2022-02-14T09:58:05.727Z"
   },
   {
    "duration": 6,
    "start_time": "2022-02-14T09:58:05.732Z"
   },
   {
    "duration": 3,
    "start_time": "2022-02-14T09:58:05.739Z"
   },
   {
    "duration": 9,
    "start_time": "2022-02-14T09:58:05.744Z"
   },
   {
    "duration": 3,
    "start_time": "2022-02-14T09:58:05.755Z"
   },
   {
    "duration": 6,
    "start_time": "2022-02-14T09:58:05.760Z"
   },
   {
    "duration": 7,
    "start_time": "2022-02-14T09:58:05.767Z"
   },
   {
    "duration": 55,
    "start_time": "2022-02-14T09:58:05.775Z"
   },
   {
    "duration": 5,
    "start_time": "2022-02-14T09:58:05.832Z"
   },
   {
    "duration": 8,
    "start_time": "2022-02-14T09:58:05.838Z"
   },
   {
    "duration": 7,
    "start_time": "2022-02-14T09:58:05.847Z"
   },
   {
    "duration": 5,
    "start_time": "2022-02-14T09:58:05.855Z"
   },
   {
    "duration": 5,
    "start_time": "2022-02-14T09:58:05.862Z"
   },
   {
    "duration": 9,
    "start_time": "2022-02-14T09:58:05.869Z"
   },
   {
    "duration": 5,
    "start_time": "2022-02-14T09:58:05.879Z"
   },
   {
    "duration": 5,
    "start_time": "2022-02-14T09:58:05.885Z"
   },
   {
    "duration": 20,
    "start_time": "2022-02-14T09:58:05.927Z"
   },
   {
    "duration": 5,
    "start_time": "2022-02-14T09:58:05.949Z"
   },
   {
    "duration": 5,
    "start_time": "2022-02-14T09:58:05.955Z"
   },
   {
    "duration": 7,
    "start_time": "2022-02-14T09:58:05.961Z"
   },
   {
    "duration": 17,
    "start_time": "2022-02-14T09:58:05.970Z"
   },
   {
    "duration": 50,
    "start_time": "2022-02-14T09:58:05.989Z"
   },
   {
    "duration": 3,
    "start_time": "2022-02-14T09:58:06.040Z"
   },
   {
    "duration": 14,
    "start_time": "2022-02-14T09:58:06.044Z"
   },
   {
    "duration": 12,
    "start_time": "2022-02-14T09:58:06.059Z"
   },
   {
    "duration": 11,
    "start_time": "2022-02-14T09:58:06.072Z"
   },
   {
    "duration": 7,
    "start_time": "2022-02-14T09:58:06.085Z"
   },
   {
    "duration": 39,
    "start_time": "2022-02-14T09:58:06.093Z"
   },
   {
    "duration": 3,
    "start_time": "2022-02-14T09:58:06.134Z"
   },
   {
    "duration": 216,
    "start_time": "2022-02-14T09:58:06.138Z"
   },
   {
    "duration": 11,
    "start_time": "2022-02-14T09:58:06.356Z"
   },
   {
    "duration": 2,
    "start_time": "2022-02-14T09:58:29.451Z"
   },
   {
    "duration": 50,
    "start_time": "2022-02-14T09:58:29.454Z"
   },
   {
    "duration": 11,
    "start_time": "2022-02-14T09:58:29.506Z"
   },
   {
    "duration": 14,
    "start_time": "2022-02-14T09:58:29.519Z"
   },
   {
    "duration": 8,
    "start_time": "2022-02-14T09:58:29.534Z"
   },
   {
    "duration": 4,
    "start_time": "2022-02-14T09:58:29.543Z"
   },
   {
    "duration": 10,
    "start_time": "2022-02-14T09:58:29.548Z"
   },
   {
    "duration": 19,
    "start_time": "2022-02-14T09:58:29.559Z"
   },
   {
    "duration": 4,
    "start_time": "2022-02-14T09:58:29.580Z"
   },
   {
    "duration": 4,
    "start_time": "2022-02-14T09:58:29.586Z"
   },
   {
    "duration": 36,
    "start_time": "2022-02-14T09:58:29.592Z"
   },
   {
    "duration": 3,
    "start_time": "2022-02-14T09:58:29.629Z"
   },
   {
    "duration": 9,
    "start_time": "2022-02-14T09:58:29.634Z"
   },
   {
    "duration": 3,
    "start_time": "2022-02-14T09:58:29.645Z"
   },
   {
    "duration": 6,
    "start_time": "2022-02-14T09:58:29.650Z"
   },
   {
    "duration": 8,
    "start_time": "2022-02-14T09:58:29.658Z"
   },
   {
    "duration": 8,
    "start_time": "2022-02-14T09:58:29.667Z"
   },
   {
    "duration": 55,
    "start_time": "2022-02-14T09:58:29.676Z"
   },
   {
    "duration": 5,
    "start_time": "2022-02-14T09:58:29.733Z"
   },
   {
    "duration": 5,
    "start_time": "2022-02-14T09:58:29.739Z"
   },
   {
    "duration": 5,
    "start_time": "2022-02-14T09:58:29.746Z"
   },
   {
    "duration": 3,
    "start_time": "2022-02-14T09:58:29.752Z"
   },
   {
    "duration": 5,
    "start_time": "2022-02-14T09:58:29.757Z"
   },
   {
    "duration": 3,
    "start_time": "2022-02-14T09:58:29.764Z"
   },
   {
    "duration": 4,
    "start_time": "2022-02-14T09:58:29.770Z"
   },
   {
    "duration": 68,
    "start_time": "2022-02-14T09:58:29.776Z"
   },
   {
    "duration": 8,
    "start_time": "2022-02-14T09:58:29.846Z"
   },
   {
    "duration": 7,
    "start_time": "2022-02-14T09:58:29.855Z"
   },
   {
    "duration": 6,
    "start_time": "2022-02-14T09:58:29.863Z"
   },
   {
    "duration": 17,
    "start_time": "2022-02-14T09:58:29.870Z"
   },
   {
    "duration": 41,
    "start_time": "2022-02-14T09:58:29.888Z"
   },
   {
    "duration": 3,
    "start_time": "2022-02-14T09:58:29.930Z"
   },
   {
    "duration": 13,
    "start_time": "2022-02-14T09:58:29.934Z"
   },
   {
    "duration": 8,
    "start_time": "2022-02-14T09:58:29.948Z"
   },
   {
    "duration": 9,
    "start_time": "2022-02-14T09:58:29.957Z"
   },
   {
    "duration": 10,
    "start_time": "2022-02-14T09:58:29.968Z"
   },
   {
    "duration": 15,
    "start_time": "2022-02-14T09:58:29.979Z"
   },
   {
    "duration": 34,
    "start_time": "2022-02-14T09:58:29.995Z"
   },
   {
    "duration": 212,
    "start_time": "2022-02-14T09:58:30.031Z"
   },
   {
    "duration": 11,
    "start_time": "2022-02-14T09:58:30.245Z"
   },
   {
    "duration": 10,
    "start_time": "2022-02-14T09:58:30.258Z"
   },
   {
    "duration": 19,
    "start_time": "2022-02-14T09:58:30.269Z"
   },
   {
    "duration": 29,
    "start_time": "2022-02-14T09:58:30.289Z"
   },
   {
    "duration": 11,
    "start_time": "2022-02-14T09:58:30.319Z"
   },
   {
    "duration": 22,
    "start_time": "2022-02-14T09:58:30.331Z"
   },
   {
    "duration": 15,
    "start_time": "2022-02-14T09:58:30.355Z"
   },
   {
    "duration": 334,
    "start_time": "2022-02-14T09:58:52.863Z"
   },
   {
    "duration": 467,
    "start_time": "2022-02-14T09:59:03.256Z"
   },
   {
    "duration": 21,
    "start_time": "2022-02-14T09:59:12.971Z"
   },
   {
    "duration": 627,
    "start_time": "2022-02-14T09:59:37.517Z"
   },
   {
    "duration": 21,
    "start_time": "2022-02-14T09:59:49.074Z"
   },
   {
    "duration": 20,
    "start_time": "2022-02-14T10:02:12.117Z"
   },
   {
    "duration": 970,
    "start_time": "2022-02-14T10:02:31.866Z"
   },
   {
    "duration": 142,
    "start_time": "2022-02-14T10:02:38.294Z"
   },
   {
    "duration": 830,
    "start_time": "2022-02-14T10:06:04.929Z"
   },
   {
    "duration": 17,
    "start_time": "2022-02-14T10:06:15.275Z"
   },
   {
    "duration": 17,
    "start_time": "2022-02-14T10:07:31.096Z"
   },
   {
    "duration": 22,
    "start_time": "2022-02-14T10:07:32.980Z"
   },
   {
    "duration": 348,
    "start_time": "2022-02-14T10:09:09.114Z"
   },
   {
    "duration": 21,
    "start_time": "2022-02-14T10:10:12.884Z"
   },
   {
    "duration": 18,
    "start_time": "2022-02-14T10:12:38.307Z"
   },
   {
    "duration": 20,
    "start_time": "2022-02-14T10:12:55.583Z"
   },
   {
    "duration": 23,
    "start_time": "2022-02-14T10:12:59.064Z"
   },
   {
    "duration": 19,
    "start_time": "2022-02-14T10:13:04.180Z"
   },
   {
    "duration": 2743,
    "start_time": "2022-02-14T10:13:16.438Z"
   },
   {
    "duration": 27,
    "start_time": "2022-02-14T10:13:20.652Z"
   },
   {
    "duration": 19,
    "start_time": "2022-02-14T10:13:30.142Z"
   },
   {
    "duration": 19,
    "start_time": "2022-02-14T10:13:39.901Z"
   },
   {
    "duration": 35,
    "start_time": "2022-02-14T10:13:51.840Z"
   },
   {
    "duration": 17,
    "start_time": "2022-02-14T10:14:00.812Z"
   },
   {
    "duration": 21,
    "start_time": "2022-02-14T10:14:47.901Z"
   },
   {
    "duration": 117,
    "start_time": "2022-02-14T10:15:27.991Z"
   },
   {
    "duration": 20,
    "start_time": "2022-02-14T10:15:32.328Z"
   },
   {
    "duration": 20,
    "start_time": "2022-02-14T10:16:07.667Z"
   },
   {
    "duration": 17,
    "start_time": "2022-02-14T10:19:16.227Z"
   },
   {
    "duration": 101,
    "start_time": "2022-02-14T10:19:41.151Z"
   },
   {
    "duration": 15,
    "start_time": "2022-02-14T10:19:45.925Z"
   },
   {
    "duration": 5,
    "start_time": "2022-02-14T10:20:09.494Z"
   },
   {
    "duration": 316,
    "start_time": "2022-02-14T10:21:55.054Z"
   },
   {
    "duration": 339,
    "start_time": "2022-02-14T10:22:23.837Z"
   },
   {
    "duration": 42,
    "start_time": "2022-02-14T10:22:42.223Z"
   },
   {
    "duration": 43,
    "start_time": "2022-02-14T10:22:59.014Z"
   },
   {
    "duration": 338,
    "start_time": "2022-02-14T10:23:06.688Z"
   },
   {
    "duration": 66,
    "start_time": "2022-02-14T10:23:09.148Z"
   },
   {
    "duration": 39,
    "start_time": "2022-02-14T10:23:30.364Z"
   },
   {
    "duration": 105,
    "start_time": "2022-02-14T10:23:44.419Z"
   },
   {
    "duration": 44,
    "start_time": "2022-02-14T10:23:49.703Z"
   },
   {
    "duration": 17,
    "start_time": "2022-02-14T10:25:13.691Z"
   },
   {
    "duration": 21,
    "start_time": "2022-02-14T10:25:16.324Z"
   },
   {
    "duration": 11,
    "start_time": "2022-02-14T10:25:29.760Z"
   },
   {
    "duration": 2,
    "start_time": "2022-02-14T10:25:40.438Z"
   },
   {
    "duration": 53,
    "start_time": "2022-02-14T10:25:40.442Z"
   },
   {
    "duration": 11,
    "start_time": "2022-02-14T10:25:40.496Z"
   },
   {
    "duration": 24,
    "start_time": "2022-02-14T10:25:40.508Z"
   },
   {
    "duration": 19,
    "start_time": "2022-02-14T10:25:40.533Z"
   },
   {
    "duration": 12,
    "start_time": "2022-02-14T10:25:40.553Z"
   },
   {
    "duration": 7,
    "start_time": "2022-02-14T10:25:40.566Z"
   },
   {
    "duration": 26,
    "start_time": "2022-02-14T10:25:40.574Z"
   },
   {
    "duration": 4,
    "start_time": "2022-02-14T10:25:40.602Z"
   },
   {
    "duration": 3,
    "start_time": "2022-02-14T10:25:40.627Z"
   },
   {
    "duration": 14,
    "start_time": "2022-02-14T10:25:40.631Z"
   },
   {
    "duration": 15,
    "start_time": "2022-02-14T10:25:40.647Z"
   },
   {
    "duration": 24,
    "start_time": "2022-02-14T10:25:40.664Z"
   },
   {
    "duration": 12,
    "start_time": "2022-02-14T10:25:40.689Z"
   },
   {
    "duration": 15,
    "start_time": "2022-02-14T10:25:40.702Z"
   },
   {
    "duration": 13,
    "start_time": "2022-02-14T10:25:40.719Z"
   },
   {
    "duration": 20,
    "start_time": "2022-02-14T10:25:40.733Z"
   },
   {
    "duration": 22,
    "start_time": "2022-02-14T10:25:40.755Z"
   },
   {
    "duration": 11,
    "start_time": "2022-02-14T10:25:40.779Z"
   },
   {
    "duration": 27,
    "start_time": "2022-02-14T10:25:40.791Z"
   },
   {
    "duration": 28,
    "start_time": "2022-02-14T10:25:40.819Z"
   },
   {
    "duration": 30,
    "start_time": "2022-02-14T10:25:40.849Z"
   },
   {
    "duration": 24,
    "start_time": "2022-02-14T10:25:40.881Z"
   },
   {
    "duration": 18,
    "start_time": "2022-02-14T10:25:40.907Z"
   },
   {
    "duration": 9,
    "start_time": "2022-02-14T10:25:40.927Z"
   },
   {
    "duration": 36,
    "start_time": "2022-02-14T10:25:40.937Z"
   },
   {
    "duration": 5,
    "start_time": "2022-02-14T10:25:40.976Z"
   },
   {
    "duration": 7,
    "start_time": "2022-02-14T10:25:40.983Z"
   },
   {
    "duration": 10,
    "start_time": "2022-02-14T10:25:40.991Z"
   },
   {
    "duration": 29,
    "start_time": "2022-02-14T10:25:41.003Z"
   },
   {
    "duration": 15,
    "start_time": "2022-02-14T10:25:41.034Z"
   },
   {
    "duration": 3,
    "start_time": "2022-02-14T10:25:41.050Z"
   },
   {
    "duration": 12,
    "start_time": "2022-02-14T10:25:41.055Z"
   },
   {
    "duration": 7,
    "start_time": "2022-02-14T10:25:41.069Z"
   },
   {
    "duration": 7,
    "start_time": "2022-02-14T10:25:41.078Z"
   },
   {
    "duration": 45,
    "start_time": "2022-02-14T10:25:41.086Z"
   },
   {
    "duration": 16,
    "start_time": "2022-02-14T10:25:41.133Z"
   },
   {
    "duration": 6,
    "start_time": "2022-02-14T10:25:41.150Z"
   },
   {
    "duration": 223,
    "start_time": "2022-02-14T10:25:41.157Z"
   },
   {
    "duration": 12,
    "start_time": "2022-02-14T10:25:41.381Z"
   },
   {
    "duration": 4,
    "start_time": "2022-02-14T10:25:41.395Z"
   },
   {
    "duration": 30,
    "start_time": "2022-02-14T10:25:41.401Z"
   },
   {
    "duration": 19,
    "start_time": "2022-02-14T10:25:41.432Z"
   },
   {
    "duration": 12,
    "start_time": "2022-02-14T10:25:41.452Z"
   },
   {
    "duration": 14,
    "start_time": "2022-02-14T10:25:41.465Z"
   },
   {
    "duration": 7,
    "start_time": "2022-02-14T10:25:41.480Z"
   },
   {
    "duration": 40,
    "start_time": "2022-02-14T10:25:41.488Z"
   },
   {
    "duration": 22,
    "start_time": "2022-02-14T10:25:41.529Z"
   },
   {
    "duration": 11,
    "start_time": "2022-02-14T10:25:43.774Z"
   },
   {
    "duration": 16,
    "start_time": "2022-02-14T10:26:00.655Z"
   },
   {
    "duration": 10,
    "start_time": "2022-02-14T10:26:07.485Z"
   },
   {
    "duration": 2,
    "start_time": "2022-02-14T10:26:21.861Z"
   },
   {
    "duration": 56,
    "start_time": "2022-02-14T10:26:21.865Z"
   },
   {
    "duration": 11,
    "start_time": "2022-02-14T10:26:21.923Z"
   },
   {
    "duration": 11,
    "start_time": "2022-02-14T10:26:21.936Z"
   },
   {
    "duration": 8,
    "start_time": "2022-02-14T10:26:21.948Z"
   },
   {
    "duration": 4,
    "start_time": "2022-02-14T10:26:21.957Z"
   },
   {
    "duration": 11,
    "start_time": "2022-02-14T10:26:21.962Z"
   },
   {
    "duration": 60,
    "start_time": "2022-02-14T10:26:21.975Z"
   },
   {
    "duration": 4,
    "start_time": "2022-02-14T10:26:22.038Z"
   },
   {
    "duration": 5,
    "start_time": "2022-02-14T10:26:22.044Z"
   },
   {
    "duration": 6,
    "start_time": "2022-02-14T10:26:22.050Z"
   },
   {
    "duration": 4,
    "start_time": "2022-02-14T10:26:22.058Z"
   },
   {
    "duration": 10,
    "start_time": "2022-02-14T10:26:22.063Z"
   },
   {
    "duration": 3,
    "start_time": "2022-02-14T10:26:22.075Z"
   },
   {
    "duration": 7,
    "start_time": "2022-02-14T10:26:22.079Z"
   },
   {
    "duration": 44,
    "start_time": "2022-02-14T10:26:22.087Z"
   },
   {
    "duration": 8,
    "start_time": "2022-02-14T10:26:22.132Z"
   },
   {
    "duration": 6,
    "start_time": "2022-02-14T10:26:22.141Z"
   },
   {
    "duration": 4,
    "start_time": "2022-02-14T10:26:22.148Z"
   },
   {
    "duration": 6,
    "start_time": "2022-02-14T10:26:22.154Z"
   },
   {
    "duration": 6,
    "start_time": "2022-02-14T10:26:22.161Z"
   },
   {
    "duration": 5,
    "start_time": "2022-02-14T10:26:22.168Z"
   },
   {
    "duration": 55,
    "start_time": "2022-02-14T10:26:22.174Z"
   },
   {
    "duration": 4,
    "start_time": "2022-02-14T10:26:22.230Z"
   },
   {
    "duration": 6,
    "start_time": "2022-02-14T10:26:22.235Z"
   },
   {
    "duration": 20,
    "start_time": "2022-02-14T10:26:22.243Z"
   },
   {
    "duration": 5,
    "start_time": "2022-02-14T10:26:22.266Z"
   },
   {
    "duration": 6,
    "start_time": "2022-02-14T10:26:22.273Z"
   },
   {
    "duration": 6,
    "start_time": "2022-02-14T10:26:22.280Z"
   },
   {
    "duration": 48,
    "start_time": "2022-02-14T10:26:22.287Z"
   },
   {
    "duration": 15,
    "start_time": "2022-02-14T10:26:22.337Z"
   },
   {
    "duration": 3,
    "start_time": "2022-02-14T10:26:22.353Z"
   },
   {
    "duration": 12,
    "start_time": "2022-02-14T10:26:22.358Z"
   },
   {
    "duration": 7,
    "start_time": "2022-02-14T10:26:22.372Z"
   },
   {
    "duration": 8,
    "start_time": "2022-02-14T10:26:22.380Z"
   },
   {
    "duration": 6,
    "start_time": "2022-02-14T10:26:22.390Z"
   },
   {
    "duration": 11,
    "start_time": "2022-02-14T10:26:25.814Z"
   },
   {
    "duration": 3,
    "start_time": "2022-02-14T10:26:31.290Z"
   },
   {
    "duration": 70,
    "start_time": "2022-02-14T10:26:31.296Z"
   },
   {
    "duration": 15,
    "start_time": "2022-02-14T10:26:31.368Z"
   },
   {
    "duration": 20,
    "start_time": "2022-02-14T10:26:31.385Z"
   },
   {
    "duration": 29,
    "start_time": "2022-02-14T10:26:31.406Z"
   },
   {
    "duration": 4,
    "start_time": "2022-02-14T10:26:31.436Z"
   },
   {
    "duration": 6,
    "start_time": "2022-02-14T10:26:31.442Z"
   },
   {
    "duration": 22,
    "start_time": "2022-02-14T10:26:31.450Z"
   },
   {
    "duration": 4,
    "start_time": "2022-02-14T10:26:31.474Z"
   },
   {
    "duration": 10,
    "start_time": "2022-02-14T10:26:31.480Z"
   },
   {
    "duration": 6,
    "start_time": "2022-02-14T10:26:31.491Z"
   },
   {
    "duration": 31,
    "start_time": "2022-02-14T10:26:31.498Z"
   },
   {
    "duration": 12,
    "start_time": "2022-02-14T10:26:31.530Z"
   },
   {
    "duration": 4,
    "start_time": "2022-02-14T10:26:31.543Z"
   },
   {
    "duration": 8,
    "start_time": "2022-02-14T10:26:31.548Z"
   },
   {
    "duration": 6,
    "start_time": "2022-02-14T10:26:31.557Z"
   },
   {
    "duration": 9,
    "start_time": "2022-02-14T10:26:31.564Z"
   },
   {
    "duration": 53,
    "start_time": "2022-02-14T10:26:31.574Z"
   },
   {
    "duration": 4,
    "start_time": "2022-02-14T10:26:31.630Z"
   },
   {
    "duration": 6,
    "start_time": "2022-02-14T10:26:31.635Z"
   },
   {
    "duration": 5,
    "start_time": "2022-02-14T10:26:31.642Z"
   },
   {
    "duration": 5,
    "start_time": "2022-02-14T10:26:31.648Z"
   },
   {
    "duration": 6,
    "start_time": "2022-02-14T10:26:31.654Z"
   },
   {
    "duration": 7,
    "start_time": "2022-02-14T10:26:31.661Z"
   },
   {
    "duration": 5,
    "start_time": "2022-02-14T10:26:31.669Z"
   },
   {
    "duration": 64,
    "start_time": "2022-02-14T10:26:31.676Z"
   },
   {
    "duration": 7,
    "start_time": "2022-02-14T10:26:31.742Z"
   },
   {
    "duration": 6,
    "start_time": "2022-02-14T10:26:31.751Z"
   },
   {
    "duration": 7,
    "start_time": "2022-02-14T10:26:31.759Z"
   },
   {
    "duration": 29,
    "start_time": "2022-02-14T10:26:31.767Z"
   },
   {
    "duration": 41,
    "start_time": "2022-02-14T10:26:31.798Z"
   },
   {
    "duration": 4,
    "start_time": "2022-02-14T10:26:31.841Z"
   },
   {
    "duration": 15,
    "start_time": "2022-02-14T10:26:31.846Z"
   },
   {
    "duration": 9,
    "start_time": "2022-02-14T10:26:31.862Z"
   },
   {
    "duration": 9,
    "start_time": "2022-02-14T10:26:31.872Z"
   },
   {
    "duration": 10,
    "start_time": "2022-02-14T10:26:31.883Z"
   },
   {
    "duration": 16,
    "start_time": "2022-02-14T10:26:35.994Z"
   },
   {
    "duration": 10,
    "start_time": "2022-02-14T10:26:39.706Z"
   },
   {
    "duration": 591,
    "start_time": "2022-02-14T16:01:16.520Z"
   },
   {
    "duration": 51,
    "start_time": "2022-02-14T16:01:17.113Z"
   },
   {
    "duration": 18,
    "start_time": "2022-02-14T16:01:17.166Z"
   },
   {
    "duration": 11,
    "start_time": "2022-02-14T16:01:17.186Z"
   },
   {
    "duration": 31,
    "start_time": "2022-02-14T16:01:17.200Z"
   },
   {
    "duration": 6,
    "start_time": "2022-02-14T16:01:17.233Z"
   },
   {
    "duration": 10,
    "start_time": "2022-02-14T16:01:17.241Z"
   },
   {
    "duration": 29,
    "start_time": "2022-02-14T16:01:17.253Z"
   },
   {
    "duration": 7,
    "start_time": "2022-02-14T16:01:17.286Z"
   },
   {
    "duration": 37,
    "start_time": "2022-02-14T16:01:17.295Z"
   },
   {
    "duration": 6,
    "start_time": "2022-02-14T16:01:17.334Z"
   },
   {
    "duration": 6,
    "start_time": "2022-02-14T16:01:17.342Z"
   },
   {
    "duration": 15,
    "start_time": "2022-02-14T16:01:17.350Z"
   },
   {
    "duration": 6,
    "start_time": "2022-02-14T16:01:17.367Z"
   },
   {
    "duration": 11,
    "start_time": "2022-02-14T16:01:17.375Z"
   },
   {
    "duration": 42,
    "start_time": "2022-02-14T16:01:17.388Z"
   },
   {
    "duration": 7,
    "start_time": "2022-02-14T16:01:19.268Z"
   },
   {
    "duration": 12,
    "start_time": "2022-02-14T16:01:20.439Z"
   },
   {
    "duration": 7,
    "start_time": "2022-02-14T16:01:21.999Z"
   },
   {
    "duration": 4,
    "start_time": "2022-02-14T16:01:23.199Z"
   },
   {
    "duration": 6,
    "start_time": "2022-02-14T16:01:25.158Z"
   },
   {
    "duration": 6,
    "start_time": "2022-02-14T16:01:26.558Z"
   },
   {
    "duration": 4,
    "start_time": "2022-02-14T16:01:32.723Z"
   },
   {
    "duration": 5,
    "start_time": "2022-02-14T16:01:34.703Z"
   },
   {
    "duration": 4,
    "start_time": "2022-02-14T16:01:36.918Z"
   },
   {
    "duration": 4,
    "start_time": "2022-02-14T16:01:38.239Z"
   },
   {
    "duration": 23,
    "start_time": "2022-02-14T16:01:40.103Z"
   },
   {
    "duration": 6,
    "start_time": "2022-02-14T16:01:42.454Z"
   },
   {
    "duration": 4,
    "start_time": "2022-02-14T16:01:49.383Z"
   },
   {
    "duration": 5,
    "start_time": "2022-02-14T16:01:50.919Z"
   },
   {
    "duration": 18,
    "start_time": "2022-02-14T16:01:57.118Z"
   },
   {
    "duration": 18,
    "start_time": "2022-02-14T16:01:57.884Z"
   },
   {
    "duration": 4,
    "start_time": "2022-02-14T16:01:58.638Z"
   },
   {
    "duration": 12,
    "start_time": "2022-02-14T16:01:59.538Z"
   },
   {
    "duration": 7,
    "start_time": "2022-02-14T16:02:01.139Z"
   },
   {
    "duration": 3,
    "start_time": "2022-02-14T16:13:29.762Z"
   },
   {
    "duration": 50,
    "start_time": "2022-02-14T16:13:29.767Z"
   },
   {
    "duration": 12,
    "start_time": "2022-02-14T16:13:29.819Z"
   },
   {
    "duration": 12,
    "start_time": "2022-02-14T16:13:29.833Z"
   },
   {
    "duration": 9,
    "start_time": "2022-02-14T16:13:29.846Z"
   },
   {
    "duration": 4,
    "start_time": "2022-02-14T16:13:29.856Z"
   },
   {
    "duration": 5,
    "start_time": "2022-02-14T16:13:29.862Z"
   },
   {
    "duration": 22,
    "start_time": "2022-02-14T16:13:29.869Z"
   },
   {
    "duration": 38,
    "start_time": "2022-02-14T16:13:29.893Z"
   },
   {
    "duration": 3,
    "start_time": "2022-02-14T16:13:29.933Z"
   },
   {
    "duration": 7,
    "start_time": "2022-02-14T16:13:29.937Z"
   },
   {
    "duration": 3,
    "start_time": "2022-02-14T16:13:29.946Z"
   },
   {
    "duration": 11,
    "start_time": "2022-02-14T16:13:29.951Z"
   },
   {
    "duration": 5,
    "start_time": "2022-02-14T16:13:29.963Z"
   },
   {
    "duration": 6,
    "start_time": "2022-02-14T16:13:29.969Z"
   },
   {
    "duration": 7,
    "start_time": "2022-02-14T16:13:29.977Z"
   },
   {
    "duration": 45,
    "start_time": "2022-02-14T16:13:29.986Z"
   },
   {
    "duration": 7,
    "start_time": "2022-02-14T16:13:30.033Z"
   },
   {
    "duration": 13,
    "start_time": "2022-02-14T16:13:30.041Z"
   },
   {
    "duration": 9,
    "start_time": "2022-02-14T16:13:30.056Z"
   },
   {
    "duration": 13,
    "start_time": "2022-02-14T16:13:30.067Z"
   },
   {
    "duration": 14,
    "start_time": "2022-02-14T16:13:30.081Z"
   },
   {
    "duration": 12,
    "start_time": "2022-02-14T16:13:30.097Z"
   },
   {
    "duration": 9,
    "start_time": "2022-02-14T16:13:30.111Z"
   },
   {
    "duration": 6,
    "start_time": "2022-02-14T16:13:30.130Z"
   },
   {
    "duration": 27,
    "start_time": "2022-02-14T16:13:30.138Z"
   },
   {
    "duration": 6,
    "start_time": "2022-02-14T16:13:30.169Z"
   },
   {
    "duration": 8,
    "start_time": "2022-02-14T16:13:30.178Z"
   },
   {
    "duration": 9,
    "start_time": "2022-02-14T16:13:30.187Z"
   },
   {
    "duration": 43,
    "start_time": "2022-02-14T16:13:30.198Z"
   },
   {
    "duration": 17,
    "start_time": "2022-02-14T16:13:30.243Z"
   },
   {
    "duration": 4,
    "start_time": "2022-02-14T16:13:30.261Z"
   },
   {
    "duration": 12,
    "start_time": "2022-02-14T16:13:30.266Z"
   },
   {
    "duration": 17,
    "start_time": "2022-02-14T16:13:30.279Z"
   },
   {
    "duration": 11,
    "start_time": "2022-02-14T16:13:30.298Z"
   },
   {
    "duration": 9,
    "start_time": "2022-02-14T16:13:30.331Z"
   },
   {
    "duration": 19,
    "start_time": "2022-02-14T16:13:30.342Z"
   },
   {
    "duration": 4,
    "start_time": "2022-02-14T16:13:30.363Z"
   },
   {
    "duration": 241,
    "start_time": "2022-02-14T16:13:30.369Z"
   },
   {
    "duration": 18,
    "start_time": "2022-02-14T16:13:30.612Z"
   },
   {
    "duration": 3,
    "start_time": "2022-02-14T16:13:30.632Z"
   },
   {
    "duration": 18,
    "start_time": "2022-02-14T16:13:30.637Z"
   },
   {
    "duration": 25,
    "start_time": "2022-02-14T16:13:30.656Z"
   },
   {
    "duration": 6,
    "start_time": "2022-02-14T16:13:30.683Z"
   },
   {
    "duration": 19,
    "start_time": "2022-02-14T16:13:30.691Z"
   },
   {
    "duration": 22,
    "start_time": "2022-02-14T16:13:30.712Z"
   },
   {
    "duration": 13,
    "start_time": "2022-02-14T16:13:53.479Z"
   },
   {
    "duration": 285,
    "start_time": "2022-02-14T16:16:39.621Z"
   },
   {
    "duration": 12,
    "start_time": "2022-02-14T16:17:33.180Z"
   },
   {
    "duration": 199,
    "start_time": "2022-02-14T16:17:41.279Z"
   },
   {
    "duration": 5,
    "start_time": "2022-02-14T16:18:12.100Z"
   },
   {
    "duration": 7,
    "start_time": "2022-02-14T16:18:44.381Z"
   },
   {
    "duration": 17,
    "start_time": "2022-02-14T16:22:54.456Z"
   },
   {
    "duration": 6,
    "start_time": "2022-02-14T16:23:02.306Z"
   },
   {
    "duration": 18,
    "start_time": "2022-02-14T16:23:35.751Z"
   },
   {
    "duration": 181,
    "start_time": "2022-02-14T16:24:05.221Z"
   },
   {
    "duration": 7,
    "start_time": "2022-02-14T16:24:12.221Z"
   },
   {
    "duration": 54,
    "start_time": "2022-02-14T16:24:48.671Z"
   },
   {
    "duration": 23,
    "start_time": "2022-02-14T16:24:56.801Z"
   },
   {
    "duration": 15,
    "start_time": "2022-02-14T16:25:16.767Z"
   },
   {
    "duration": 217,
    "start_time": "2022-02-14T16:25:28.981Z"
   },
   {
    "duration": 7,
    "start_time": "2022-02-14T16:25:37.682Z"
   },
   {
    "duration": 572,
    "start_time": "2022-02-16T19:36:45.751Z"
   },
   {
    "duration": 44,
    "start_time": "2022-02-16T19:36:46.325Z"
   },
   {
    "duration": 15,
    "start_time": "2022-02-16T19:36:46.371Z"
   },
   {
    "duration": 10,
    "start_time": "2022-02-16T19:36:46.388Z"
   },
   {
    "duration": 8,
    "start_time": "2022-02-16T19:36:48.232Z"
   },
   {
    "duration": 5,
    "start_time": "2022-02-16T19:36:50.334Z"
   },
   {
    "duration": 4,
    "start_time": "2022-02-16T19:36:53.899Z"
   },
   {
    "duration": 4,
    "start_time": "2022-02-16T19:36:56.001Z"
   },
   {
    "duration": 20,
    "start_time": "2022-02-16T19:37:08.282Z"
   },
   {
    "duration": 5,
    "start_time": "2022-02-16T19:37:14.876Z"
   },
   {
    "duration": 3,
    "start_time": "2022-02-16T19:37:16.338Z"
   },
   {
    "duration": 5,
    "start_time": "2022-02-16T19:37:16.947Z"
   },
   {
    "duration": 3,
    "start_time": "2022-02-16T19:37:19.362Z"
   },
   {
    "duration": 9,
    "start_time": "2022-02-16T19:37:20.121Z"
   },
   {
    "duration": 4,
    "start_time": "2022-02-16T19:37:25.753Z"
   },
   {
    "duration": 6,
    "start_time": "2022-02-16T19:37:26.453Z"
   },
   {
    "duration": 6,
    "start_time": "2022-02-16T19:37:28.060Z"
   },
   {
    "duration": 7,
    "start_time": "2022-02-16T19:37:28.799Z"
   },
   {
    "duration": 5,
    "start_time": "2022-02-16T19:37:31.740Z"
   },
   {
    "duration": 4,
    "start_time": "2022-02-16T19:37:32.418Z"
   },
   {
    "duration": 6,
    "start_time": "2022-02-16T19:37:33.295Z"
   },
   {
    "duration": 6,
    "start_time": "2022-02-16T19:37:33.925Z"
   },
   {
    "duration": 3,
    "start_time": "2022-02-16T19:37:40.843Z"
   },
   {
    "duration": 5,
    "start_time": "2022-02-16T19:38:02.444Z"
   },
   {
    "duration": 4,
    "start_time": "2022-02-16T19:38:04.941Z"
   },
   {
    "duration": 4,
    "start_time": "2022-02-16T19:38:05.785Z"
   },
   {
    "duration": 21,
    "start_time": "2022-02-16T19:38:07.388Z"
   },
   {
    "duration": 5,
    "start_time": "2022-02-16T19:38:10.063Z"
   },
   {
    "duration": 3,
    "start_time": "2022-02-16T19:38:28.308Z"
   },
   {
    "duration": 5,
    "start_time": "2022-02-16T19:38:28.961Z"
   },
   {
    "duration": 15,
    "start_time": "2022-02-16T19:38:32.295Z"
   },
   {
    "duration": 17,
    "start_time": "2022-02-16T19:38:32.860Z"
   },
   {
    "duration": 3,
    "start_time": "2022-02-16T19:38:33.505Z"
   },
   {
    "duration": 10,
    "start_time": "2022-02-16T19:38:36.028Z"
   },
   {
    "duration": 6,
    "start_time": "2022-02-16T19:38:47.133Z"
   },
   {
    "duration": 511,
    "start_time": "2022-02-16T19:42:43.424Z"
   },
   {
    "duration": 20,
    "start_time": "2022-02-16T19:43:01.344Z"
   },
   {
    "duration": 13,
    "start_time": "2022-02-16T19:43:07.690Z"
   },
   {
    "duration": 4229,
    "start_time": "2022-02-16T19:44:11.467Z"
   },
   {
    "duration": 2,
    "start_time": "2022-02-16T19:44:21.875Z"
   },
   {
    "duration": 47,
    "start_time": "2022-02-16T19:44:21.879Z"
   },
   {
    "duration": 11,
    "start_time": "2022-02-16T19:44:21.928Z"
   },
   {
    "duration": 10,
    "start_time": "2022-02-16T19:44:21.940Z"
   },
   {
    "duration": 7,
    "start_time": "2022-02-16T19:44:21.952Z"
   },
   {
    "duration": 7,
    "start_time": "2022-02-16T19:44:21.961Z"
   },
   {
    "duration": 8,
    "start_time": "2022-02-16T19:44:21.969Z"
   },
   {
    "duration": 21,
    "start_time": "2022-02-16T19:44:21.978Z"
   },
   {
    "duration": 4,
    "start_time": "2022-02-16T19:44:22.002Z"
   },
   {
    "duration": 8,
    "start_time": "2022-02-16T19:44:22.008Z"
   },
   {
    "duration": 30,
    "start_time": "2022-02-16T19:44:22.017Z"
   },
   {
    "duration": 3,
    "start_time": "2022-02-16T19:44:22.048Z"
   },
   {
    "duration": 10,
    "start_time": "2022-02-16T19:44:22.053Z"
   },
   {
    "duration": 5,
    "start_time": "2022-02-16T19:44:22.064Z"
   },
   {
    "duration": 9,
    "start_time": "2022-02-16T19:44:22.070Z"
   },
   {
    "duration": 6,
    "start_time": "2022-02-16T19:44:22.080Z"
   },
   {
    "duration": 7,
    "start_time": "2022-02-16T19:44:22.087Z"
   },
   {
    "duration": 6,
    "start_time": "2022-02-16T19:44:22.096Z"
   },
   {
    "duration": 5,
    "start_time": "2022-02-16T19:44:22.104Z"
   },
   {
    "duration": 39,
    "start_time": "2022-02-16T19:44:22.110Z"
   },
   {
    "duration": 5,
    "start_time": "2022-02-16T19:44:22.151Z"
   },
   {
    "duration": 4,
    "start_time": "2022-02-16T19:44:22.158Z"
   },
   {
    "duration": 7,
    "start_time": "2022-02-16T19:44:22.163Z"
   },
   {
    "duration": 4,
    "start_time": "2022-02-16T19:44:22.171Z"
   },
   {
    "duration": 5,
    "start_time": "2022-02-16T19:44:22.176Z"
   },
   {
    "duration": 24,
    "start_time": "2022-02-16T19:44:22.183Z"
   },
   {
    "duration": 5,
    "start_time": "2022-02-16T19:44:22.209Z"
   },
   {
    "duration": 32,
    "start_time": "2022-02-16T19:44:22.216Z"
   },
   {
    "duration": 6,
    "start_time": "2022-02-16T19:44:22.249Z"
   },
   {
    "duration": 14,
    "start_time": "2022-02-16T19:44:22.257Z"
   },
   {
    "duration": 16,
    "start_time": "2022-02-16T19:44:22.272Z"
   },
   {
    "duration": 3,
    "start_time": "2022-02-16T19:44:22.290Z"
   },
   {
    "duration": 11,
    "start_time": "2022-02-16T19:44:22.294Z"
   },
   {
    "duration": 8,
    "start_time": "2022-02-16T19:44:22.306Z"
   },
   {
    "duration": 19,
    "start_time": "2022-02-16T19:44:25.181Z"
   },
   {
    "duration": 5,
    "start_time": "2022-02-16T19:44:48.926Z"
   },
   {
    "duration": 17,
    "start_time": "2022-02-16T19:44:55.218Z"
   },
   {
    "duration": 10,
    "start_time": "2022-02-16T19:45:11.302Z"
   },
   {
    "duration": 12,
    "start_time": "2022-02-16T19:45:20.236Z"
   },
   {
    "duration": 19,
    "start_time": "2022-02-16T19:45:44.276Z"
   },
   {
    "duration": 2,
    "start_time": "2022-02-16T19:50:05.736Z"
   },
   {
    "duration": 46,
    "start_time": "2022-02-16T19:50:05.740Z"
   },
   {
    "duration": 10,
    "start_time": "2022-02-16T19:50:05.788Z"
   },
   {
    "duration": 10,
    "start_time": "2022-02-16T19:50:05.817Z"
   },
   {
    "duration": 8,
    "start_time": "2022-02-16T19:50:05.829Z"
   },
   {
    "duration": 6,
    "start_time": "2022-02-16T19:50:05.839Z"
   },
   {
    "duration": 5,
    "start_time": "2022-02-16T19:50:05.846Z"
   },
   {
    "duration": 19,
    "start_time": "2022-02-16T19:50:05.853Z"
   },
   {
    "duration": 5,
    "start_time": "2022-02-16T19:50:05.925Z"
   },
   {
    "duration": 5,
    "start_time": "2022-02-16T19:50:05.931Z"
   },
   {
    "duration": 7,
    "start_time": "2022-02-16T19:50:05.937Z"
   },
   {
    "duration": 7,
    "start_time": "2022-02-16T19:50:05.946Z"
   },
   {
    "duration": 11,
    "start_time": "2022-02-16T19:50:05.955Z"
   },
   {
    "duration": 12,
    "start_time": "2022-02-16T19:50:05.967Z"
   },
   {
    "duration": 7,
    "start_time": "2022-02-16T19:50:05.980Z"
   },
   {
    "duration": 13,
    "start_time": "2022-02-16T19:50:05.989Z"
   },
   {
    "duration": 10,
    "start_time": "2022-02-16T19:50:06.004Z"
   },
   {
    "duration": 6,
    "start_time": "2022-02-16T19:50:06.016Z"
   },
   {
    "duration": 26,
    "start_time": "2022-02-16T19:50:06.023Z"
   },
   {
    "duration": 9,
    "start_time": "2022-02-16T19:50:06.050Z"
   },
   {
    "duration": 9,
    "start_time": "2022-02-16T19:50:06.060Z"
   },
   {
    "duration": 9,
    "start_time": "2022-02-16T19:50:06.070Z"
   },
   {
    "duration": 6,
    "start_time": "2022-02-16T19:50:06.080Z"
   },
   {
    "duration": 4,
    "start_time": "2022-02-16T19:50:06.087Z"
   },
   {
    "duration": 4,
    "start_time": "2022-02-16T19:50:06.092Z"
   },
   {
    "duration": 26,
    "start_time": "2022-02-16T19:50:06.097Z"
   },
   {
    "duration": 5,
    "start_time": "2022-02-16T19:50:06.145Z"
   },
   {
    "duration": 9,
    "start_time": "2022-02-16T19:50:06.152Z"
   },
   {
    "duration": 5,
    "start_time": "2022-02-16T19:50:06.163Z"
   },
   {
    "duration": 16,
    "start_time": "2022-02-16T19:50:06.169Z"
   },
   {
    "duration": 16,
    "start_time": "2022-02-16T19:50:06.186Z"
   },
   {
    "duration": 3,
    "start_time": "2022-02-16T19:50:06.203Z"
   },
   {
    "duration": 10,
    "start_time": "2022-02-16T19:50:06.208Z"
   },
   {
    "duration": 31,
    "start_time": "2022-02-16T19:50:06.219Z"
   },
   {
    "duration": 34,
    "start_time": "2022-02-16T19:50:06.252Z"
   },
   {
    "duration": 19,
    "start_time": "2022-02-16T19:50:06.287Z"
   },
   {
    "duration": 40,
    "start_time": "2022-02-16T19:50:06.307Z"
   },
   {
    "duration": 13,
    "start_time": "2022-02-16T19:50:12.740Z"
   },
   {
    "duration": 2,
    "start_time": "2022-02-16T19:53:47.617Z"
   },
   {
    "duration": 10,
    "start_time": "2022-02-16T19:54:01.960Z"
   },
   {
    "duration": 2,
    "start_time": "2022-02-16T19:54:18.198Z"
   },
   {
    "duration": 47,
    "start_time": "2022-02-16T19:54:18.202Z"
   },
   {
    "duration": 10,
    "start_time": "2022-02-16T19:54:18.251Z"
   },
   {
    "duration": 10,
    "start_time": "2022-02-16T19:54:18.263Z"
   },
   {
    "duration": 10,
    "start_time": "2022-02-16T19:54:18.275Z"
   },
   {
    "duration": 3,
    "start_time": "2022-02-16T19:54:18.287Z"
   },
   {
    "duration": 4,
    "start_time": "2022-02-16T19:54:18.342Z"
   },
   {
    "duration": 21,
    "start_time": "2022-02-16T19:54:18.348Z"
   },
   {
    "duration": 4,
    "start_time": "2022-02-16T19:54:18.371Z"
   },
   {
    "duration": 3,
    "start_time": "2022-02-16T19:54:18.377Z"
   },
   {
    "duration": 8,
    "start_time": "2022-02-16T19:54:18.381Z"
   },
   {
    "duration": 3,
    "start_time": "2022-02-16T19:54:18.391Z"
   },
   {
    "duration": 11,
    "start_time": "2022-02-16T19:54:18.395Z"
   },
   {
    "duration": 7,
    "start_time": "2022-02-16T19:54:18.408Z"
   },
   {
    "duration": 31,
    "start_time": "2022-02-16T19:54:18.417Z"
   },
   {
    "duration": 5,
    "start_time": "2022-02-16T19:54:18.449Z"
   },
   {
    "duration": 10,
    "start_time": "2022-02-16T19:54:18.456Z"
   },
   {
    "duration": 5,
    "start_time": "2022-02-16T19:54:18.468Z"
   },
   {
    "duration": 4,
    "start_time": "2022-02-16T19:54:18.474Z"
   },
   {
    "duration": 5,
    "start_time": "2022-02-16T19:54:18.479Z"
   },
   {
    "duration": 8,
    "start_time": "2022-02-16T19:54:18.486Z"
   },
   {
    "duration": 4,
    "start_time": "2022-02-16T19:54:18.496Z"
   },
   {
    "duration": 45,
    "start_time": "2022-02-16T19:54:18.502Z"
   },
   {
    "duration": 3,
    "start_time": "2022-02-16T19:54:18.548Z"
   },
   {
    "duration": 6,
    "start_time": "2022-02-16T19:54:18.552Z"
   },
   {
    "duration": 21,
    "start_time": "2022-02-16T19:54:18.646Z"
   },
   {
    "duration": 6,
    "start_time": "2022-02-16T19:54:18.668Z"
   },
   {
    "duration": 3,
    "start_time": "2022-02-16T19:54:18.675Z"
   },
   {
    "duration": 4,
    "start_time": "2022-02-16T19:54:18.680Z"
   },
   {
    "duration": 16,
    "start_time": "2022-02-16T19:54:18.686Z"
   },
   {
    "duration": 16,
    "start_time": "2022-02-16T19:54:18.704Z"
   },
   {
    "duration": 3,
    "start_time": "2022-02-16T19:54:18.745Z"
   },
   {
    "duration": 13,
    "start_time": "2022-02-16T19:54:18.750Z"
   },
   {
    "duration": 7,
    "start_time": "2022-02-16T19:54:18.765Z"
   },
   {
    "duration": 12,
    "start_time": "2022-02-16T19:54:18.774Z"
   },
   {
    "duration": 11,
    "start_time": "2022-02-16T19:54:18.787Z"
   },
   {
    "duration": 47,
    "start_time": "2022-02-16T19:54:18.800Z"
   },
   {
    "duration": 9,
    "start_time": "2022-02-16T19:54:18.848Z"
   },
   {
    "duration": 3,
    "start_time": "2022-02-16T19:54:18.858Z"
   },
   {
    "duration": 217,
    "start_time": "2022-02-16T19:54:18.863Z"
   },
   {
    "duration": 204,
    "start_time": "2022-02-16T19:54:20.100Z"
   },
   {
    "duration": 12,
    "start_time": "2022-02-16T19:54:20.779Z"
   },
   {
    "duration": 2,
    "start_time": "2022-02-16T19:54:31.326Z"
   },
   {
    "duration": 12,
    "start_time": "2022-02-16T19:54:32.101Z"
   },
   {
    "duration": 20,
    "start_time": "2022-02-16T19:54:33.273Z"
   },
   {
    "duration": 6,
    "start_time": "2022-02-16T19:54:33.876Z"
   },
   {
    "duration": 12,
    "start_time": "2022-02-16T19:54:34.396Z"
   },
   {
    "duration": 5,
    "start_time": "2022-02-16T19:54:35.092Z"
   },
   {
    "duration": 355,
    "start_time": "2022-02-16T19:55:56.253Z"
   },
   {
    "duration": 16,
    "start_time": "2022-02-16T19:56:07.565Z"
   },
   {
    "duration": 10,
    "start_time": "2022-02-16T19:57:32.659Z"
   },
   {
    "duration": 356,
    "start_time": "2022-02-16T19:58:07.395Z"
   },
   {
    "duration": 9,
    "start_time": "2022-02-16T19:58:21.811Z"
   },
   {
    "duration": 348,
    "start_time": "2022-02-16T19:58:32.587Z"
   },
   {
    "duration": 334,
    "start_time": "2022-02-16T19:58:40.864Z"
   },
   {
    "duration": 16,
    "start_time": "2022-02-16T19:59:02.547Z"
   },
   {
    "duration": 15,
    "start_time": "2022-02-16T19:59:11.548Z"
   },
   {
    "duration": 363,
    "start_time": "2022-02-16T19:59:28.604Z"
   },
   {
    "duration": 333,
    "start_time": "2022-02-16T19:59:39.672Z"
   },
   {
    "duration": 335,
    "start_time": "2022-02-16T19:59:47.865Z"
   },
   {
    "duration": 16,
    "start_time": "2022-02-16T19:59:52.056Z"
   },
   {
    "duration": 13,
    "start_time": "2022-02-16T20:00:15.495Z"
   },
   {
    "duration": 13,
    "start_time": "2022-02-16T20:00:27.767Z"
   },
   {
    "duration": 3,
    "start_time": "2022-02-16T20:00:33.379Z"
   },
   {
    "duration": 49,
    "start_time": "2022-02-16T20:00:33.383Z"
   },
   {
    "duration": 11,
    "start_time": "2022-02-16T20:00:33.434Z"
   },
   {
    "duration": 14,
    "start_time": "2022-02-16T20:00:33.447Z"
   },
   {
    "duration": 10,
    "start_time": "2022-02-16T20:00:33.463Z"
   },
   {
    "duration": 9,
    "start_time": "2022-02-16T20:00:33.474Z"
   },
   {
    "duration": 5,
    "start_time": "2022-02-16T20:00:33.485Z"
   },
   {
    "duration": 29,
    "start_time": "2022-02-16T20:00:33.491Z"
   },
   {
    "duration": 27,
    "start_time": "2022-02-16T20:00:33.522Z"
   },
   {
    "duration": 4,
    "start_time": "2022-02-16T20:00:33.551Z"
   },
   {
    "duration": 6,
    "start_time": "2022-02-16T20:00:33.556Z"
   },
   {
    "duration": 3,
    "start_time": "2022-02-16T20:00:33.564Z"
   },
   {
    "duration": 9,
    "start_time": "2022-02-16T20:00:33.568Z"
   },
   {
    "duration": 4,
    "start_time": "2022-02-16T20:00:33.579Z"
   },
   {
    "duration": 7,
    "start_time": "2022-02-16T20:00:33.585Z"
   },
   {
    "duration": 9,
    "start_time": "2022-02-16T20:00:33.594Z"
   },
   {
    "duration": 45,
    "start_time": "2022-02-16T20:00:33.604Z"
   },
   {
    "duration": 6,
    "start_time": "2022-02-16T20:00:33.650Z"
   },
   {
    "duration": 6,
    "start_time": "2022-02-16T20:00:33.657Z"
   },
   {
    "duration": 5,
    "start_time": "2022-02-16T20:00:33.665Z"
   },
   {
    "duration": 7,
    "start_time": "2022-02-16T20:00:33.671Z"
   },
   {
    "duration": 4,
    "start_time": "2022-02-16T20:00:33.679Z"
   },
   {
    "duration": 6,
    "start_time": "2022-02-16T20:00:33.685Z"
   },
   {
    "duration": 4,
    "start_time": "2022-02-16T20:00:33.692Z"
   },
   {
    "duration": 12,
    "start_time": "2022-02-16T20:00:33.697Z"
   },
   {
    "duration": 49,
    "start_time": "2022-02-16T20:00:33.711Z"
   },
   {
    "duration": 5,
    "start_time": "2022-02-16T20:00:33.762Z"
   },
   {
    "duration": 3,
    "start_time": "2022-02-16T20:00:33.769Z"
   },
   {
    "duration": 5,
    "start_time": "2022-02-16T20:00:33.773Z"
   },
   {
    "duration": 15,
    "start_time": "2022-02-16T20:00:33.779Z"
   },
   {
    "duration": 16,
    "start_time": "2022-02-16T20:00:33.795Z"
   },
   {
    "duration": 3,
    "start_time": "2022-02-16T20:00:33.812Z"
   },
   {
    "duration": 10,
    "start_time": "2022-02-16T20:00:33.846Z"
   },
   {
    "duration": 8,
    "start_time": "2022-02-16T20:00:33.857Z"
   },
   {
    "duration": 12,
    "start_time": "2022-02-16T20:00:33.866Z"
   },
   {
    "duration": 11,
    "start_time": "2022-02-16T20:00:33.879Z"
   },
   {
    "duration": 15,
    "start_time": "2022-02-16T20:00:33.892Z"
   },
   {
    "duration": 38,
    "start_time": "2022-02-16T20:00:33.908Z"
   },
   {
    "duration": 3,
    "start_time": "2022-02-16T20:00:33.947Z"
   },
   {
    "duration": 211,
    "start_time": "2022-02-16T20:00:33.952Z"
   },
   {
    "duration": 12,
    "start_time": "2022-02-16T20:00:34.165Z"
   },
   {
    "duration": 3,
    "start_time": "2022-02-16T20:00:34.179Z"
   },
   {
    "duration": 12,
    "start_time": "2022-02-16T20:00:34.184Z"
   },
   {
    "duration": 19,
    "start_time": "2022-02-16T20:00:34.198Z"
   },
   {
    "duration": 31,
    "start_time": "2022-02-16T20:00:34.218Z"
   },
   {
    "duration": 12,
    "start_time": "2022-02-16T20:00:34.250Z"
   },
   {
    "duration": 4,
    "start_time": "2022-02-16T20:00:34.263Z"
   },
   {
    "duration": 17,
    "start_time": "2022-02-16T20:00:34.268Z"
   },
   {
    "duration": 12,
    "start_time": "2022-02-16T20:00:36.800Z"
   },
   {
    "duration": 12,
    "start_time": "2022-02-16T20:01:01.173Z"
   },
   {
    "duration": 4,
    "start_time": "2022-02-16T20:01:06.088Z"
   },
   {
    "duration": 7,
    "start_time": "2022-02-16T20:01:10.091Z"
   },
   {
    "duration": 6,
    "start_time": "2022-02-16T20:01:14.094Z"
   },
   {
    "duration": 7,
    "start_time": "2022-02-16T20:01:20.692Z"
   },
   {
    "duration": 339,
    "start_time": "2022-02-16T20:02:04.728Z"
   },
   {
    "duration": 10,
    "start_time": "2022-02-16T20:02:11.131Z"
   },
   {
    "duration": 15,
    "start_time": "2022-02-16T20:02:20.228Z"
   },
   {
    "duration": 13,
    "start_time": "2022-02-16T20:02:24.257Z"
   },
   {
    "duration": 15,
    "start_time": "2022-02-16T20:02:39.138Z"
   },
   {
    "duration": 4199,
    "start_time": "2022-02-16T20:02:48.723Z"
   },
   {
    "duration": 7,
    "start_time": "2022-02-16T20:02:55.473Z"
   },
   {
    "duration": 16,
    "start_time": "2022-02-16T20:03:02.774Z"
   },
   {
    "duration": 330,
    "start_time": "2022-02-16T20:03:07.178Z"
   },
   {
    "duration": 365,
    "start_time": "2022-02-16T20:03:52.556Z"
   },
   {
    "duration": 15,
    "start_time": "2022-02-16T20:03:56.074Z"
   },
   {
    "duration": 15,
    "start_time": "2022-02-16T20:04:17.102Z"
   },
   {
    "duration": 13,
    "start_time": "2022-02-16T20:04:29.279Z"
   },
   {
    "duration": 16,
    "start_time": "2022-02-16T20:04:32.073Z"
   },
   {
    "duration": 19,
    "start_time": "2022-02-16T20:05:04.757Z"
   },
   {
    "duration": 6616,
    "start_time": "2022-02-16T20:05:39.091Z"
   },
   {
    "duration": 18,
    "start_time": "2022-02-16T20:06:00.393Z"
   },
   {
    "duration": 6597,
    "start_time": "2022-02-16T20:06:19.798Z"
   },
   {
    "duration": 6123,
    "start_time": "2022-02-16T20:06:35.436Z"
   },
   {
    "duration": 18,
    "start_time": "2022-02-16T20:06:53.257Z"
   },
   {
    "duration": 18,
    "start_time": "2022-02-16T20:07:06.653Z"
   },
   {
    "duration": 6396,
    "start_time": "2022-02-16T20:07:19.201Z"
   },
   {
    "duration": 6106,
    "start_time": "2022-02-16T20:07:32.785Z"
   },
   {
    "duration": 327,
    "start_time": "2022-02-16T20:08:38.571Z"
   },
   {
    "duration": 19,
    "start_time": "2022-02-16T20:08:49.906Z"
   },
   {
    "duration": 19,
    "start_time": "2022-02-16T20:09:24.114Z"
   },
   {
    "duration": 13,
    "start_time": "2022-02-16T20:10:14.186Z"
   },
   {
    "duration": 15,
    "start_time": "2022-02-16T20:10:40.254Z"
   },
   {
    "duration": 16,
    "start_time": "2022-02-16T20:12:03.814Z"
   },
   {
    "duration": 10,
    "start_time": "2022-02-16T20:12:07.284Z"
   },
   {
    "duration": 325,
    "start_time": "2022-02-16T20:12:46.470Z"
   },
   {
    "duration": 11,
    "start_time": "2022-02-16T20:12:50.850Z"
   },
   {
    "duration": 4026,
    "start_time": "2022-02-16T20:13:09.109Z"
   },
   {
    "duration": 110,
    "start_time": "2022-02-16T20:13:17.229Z"
   },
   {
    "duration": 4234,
    "start_time": "2022-02-16T20:13:28.447Z"
   },
   {
    "duration": 7,
    "start_time": "2022-02-16T20:14:18.095Z"
   },
   {
    "duration": 10,
    "start_time": "2022-02-16T20:14:39.592Z"
   },
   {
    "duration": 4241,
    "start_time": "2022-02-16T20:14:52.818Z"
   },
   {
    "duration": 3640,
    "start_time": "2022-02-16T20:15:02.917Z"
   },
   {
    "duration": 3634,
    "start_time": "2022-02-16T20:15:02.924Z"
   },
   {
    "duration": 7,
    "start_time": "2022-02-16T20:15:29.192Z"
   },
   {
    "duration": 10,
    "start_time": "2022-02-16T20:15:43.977Z"
   },
   {
    "duration": 110,
    "start_time": "2022-02-16T20:15:56.063Z"
   },
   {
    "duration": 354,
    "start_time": "2022-02-16T20:16:05.890Z"
   },
   {
    "duration": 9,
    "start_time": "2022-02-16T20:16:09.994Z"
   },
   {
    "duration": 11,
    "start_time": "2022-02-16T20:17:21.348Z"
   },
   {
    "duration": 12,
    "start_time": "2022-02-16T20:17:27.906Z"
   },
   {
    "duration": 4312,
    "start_time": "2022-02-16T20:17:53.454Z"
   },
   {
    "duration": 9,
    "start_time": "2022-02-16T20:18:27.774Z"
   },
   {
    "duration": 14,
    "start_time": "2022-02-16T20:21:00.639Z"
   },
   {
    "duration": 17,
    "start_time": "2022-02-16T20:23:27.851Z"
   },
   {
    "duration": 16,
    "start_time": "2022-02-16T20:23:38.504Z"
   },
   {
    "duration": 13,
    "start_time": "2022-02-16T20:25:55.447Z"
   },
   {
    "duration": 16,
    "start_time": "2022-02-16T20:25:59.274Z"
   },
   {
    "duration": 17,
    "start_time": "2022-02-16T20:26:01.480Z"
   },
   {
    "duration": 19,
    "start_time": "2022-02-16T20:26:32.820Z"
   },
   {
    "duration": 20,
    "start_time": "2022-02-16T20:26:42.502Z"
   },
   {
    "duration": 20,
    "start_time": "2022-02-16T20:26:45.903Z"
   },
   {
    "duration": 20,
    "start_time": "2022-02-16T20:28:10.482Z"
   },
   {
    "duration": 21,
    "start_time": "2022-02-16T20:28:20.491Z"
   },
   {
    "duration": 21,
    "start_time": "2022-02-16T20:28:26.387Z"
   },
   {
    "duration": 109,
    "start_time": "2022-02-16T20:28:34.341Z"
   },
   {
    "duration": 21,
    "start_time": "2022-02-16T20:28:44.813Z"
   },
   {
    "duration": 21,
    "start_time": "2022-02-16T20:29:05.783Z"
   },
   {
    "duration": 21,
    "start_time": "2022-02-16T20:29:24.605Z"
   },
   {
    "duration": 22,
    "start_time": "2022-02-16T20:29:35.952Z"
   },
   {
    "duration": 47,
    "start_time": "2022-02-16T20:30:05.709Z"
   },
   {
    "duration": 42,
    "start_time": "2022-02-16T20:30:23.783Z"
   },
   {
    "duration": 43,
    "start_time": "2022-02-16T20:30:29.125Z"
   },
   {
    "duration": 41,
    "start_time": "2022-02-16T20:30:36.267Z"
   },
   {
    "duration": 42,
    "start_time": "2022-02-16T20:31:04.814Z"
   },
   {
    "duration": 21,
    "start_time": "2022-02-16T20:31:13.049Z"
   },
   {
    "duration": 54,
    "start_time": "2022-02-16T20:32:35.938Z"
   },
   {
    "duration": 23,
    "start_time": "2022-02-16T20:33:20.627Z"
   },
   {
    "duration": 123,
    "start_time": "2022-02-16T20:36:57.796Z"
   },
   {
    "duration": 49,
    "start_time": "2022-02-16T20:37:00.910Z"
   },
   {
    "duration": 24,
    "start_time": "2022-02-16T20:37:07.442Z"
   },
   {
    "duration": 121,
    "start_time": "2022-02-16T20:38:52.981Z"
   },
   {
    "duration": 39,
    "start_time": "2022-02-16T20:40:39.613Z"
   },
   {
    "duration": 91,
    "start_time": "2022-02-16T20:41:17.597Z"
   },
   {
    "duration": 39,
    "start_time": "2022-02-16T20:41:25.536Z"
   },
   {
    "duration": 21,
    "start_time": "2022-02-16T20:42:18.018Z"
   },
   {
    "duration": 150,
    "start_time": "2022-02-16T20:50:25.164Z"
   },
   {
    "duration": 39,
    "start_time": "2022-02-16T20:50:33.004Z"
   },
   {
    "duration": 39,
    "start_time": "2022-02-16T20:50:40.609Z"
   },
   {
    "duration": 41,
    "start_time": "2022-02-16T20:50:53.484Z"
   },
   {
    "duration": 380,
    "start_time": "2022-02-16T20:51:00.679Z"
   },
   {
    "duration": 2,
    "start_time": "2022-02-16T20:51:14.766Z"
   },
   {
    "duration": 68,
    "start_time": "2022-02-16T20:51:14.770Z"
   },
   {
    "duration": 15,
    "start_time": "2022-02-16T20:51:14.840Z"
   },
   {
    "duration": 23,
    "start_time": "2022-02-16T20:51:14.857Z"
   },
   {
    "duration": 19,
    "start_time": "2022-02-16T20:51:14.882Z"
   },
   {
    "duration": 33,
    "start_time": "2022-02-16T20:51:14.903Z"
   },
   {
    "duration": 23,
    "start_time": "2022-02-16T20:51:14.938Z"
   },
   {
    "duration": 83,
    "start_time": "2022-02-16T20:51:14.964Z"
   },
   {
    "duration": 8,
    "start_time": "2022-02-16T20:51:15.049Z"
   },
   {
    "duration": 20,
    "start_time": "2022-02-16T20:51:15.059Z"
   },
   {
    "duration": 21,
    "start_time": "2022-02-16T20:51:15.081Z"
   },
   {
    "duration": 28,
    "start_time": "2022-02-16T20:51:15.104Z"
   },
   {
    "duration": 34,
    "start_time": "2022-02-16T20:51:15.134Z"
   },
   {
    "duration": 15,
    "start_time": "2022-02-16T20:51:15.169Z"
   },
   {
    "duration": 21,
    "start_time": "2022-02-16T20:51:15.186Z"
   },
   {
    "duration": 14,
    "start_time": "2022-02-16T20:51:15.209Z"
   },
   {
    "duration": 14,
    "start_time": "2022-02-16T20:51:15.225Z"
   },
   {
    "duration": 18,
    "start_time": "2022-02-16T20:51:15.241Z"
   },
   {
    "duration": 9,
    "start_time": "2022-02-16T20:51:15.262Z"
   },
   {
    "duration": 11,
    "start_time": "2022-02-16T20:51:15.273Z"
   },
   {
    "duration": 14,
    "start_time": "2022-02-16T20:51:15.286Z"
   },
   {
    "duration": 14,
    "start_time": "2022-02-16T20:51:15.302Z"
   },
   {
    "duration": 13,
    "start_time": "2022-02-16T20:51:15.317Z"
   },
   {
    "duration": 10,
    "start_time": "2022-02-16T20:51:15.331Z"
   },
   {
    "duration": 21,
    "start_time": "2022-02-16T20:51:15.343Z"
   },
   {
    "duration": 24,
    "start_time": "2022-02-16T20:51:15.365Z"
   },
   {
    "duration": 5,
    "start_time": "2022-02-16T20:51:15.391Z"
   },
   {
    "duration": 6,
    "start_time": "2022-02-16T20:51:15.397Z"
   },
   {
    "duration": 21,
    "start_time": "2022-02-16T20:51:15.405Z"
   },
   {
    "duration": 19,
    "start_time": "2022-02-16T20:51:15.427Z"
   },
   {
    "duration": 21,
    "start_time": "2022-02-16T20:51:15.448Z"
   },
   {
    "duration": 4,
    "start_time": "2022-02-16T20:51:15.470Z"
   },
   {
    "duration": 14,
    "start_time": "2022-02-16T20:51:15.475Z"
   },
   {
    "duration": 13,
    "start_time": "2022-02-16T20:51:15.491Z"
   },
   {
    "duration": 12,
    "start_time": "2022-02-16T20:51:15.506Z"
   },
   {
    "duration": 32,
    "start_time": "2022-02-16T20:51:15.520Z"
   },
   {
    "duration": 15,
    "start_time": "2022-02-16T20:51:15.553Z"
   },
   {
    "duration": 11,
    "start_time": "2022-02-16T20:51:15.569Z"
   },
   {
    "duration": 4,
    "start_time": "2022-02-16T20:51:15.582Z"
   },
   {
    "duration": 374,
    "start_time": "2022-02-16T20:51:15.587Z"
   },
   {
    "duration": 17,
    "start_time": "2022-02-16T20:51:15.963Z"
   },
   {
    "duration": 5,
    "start_time": "2022-02-16T20:51:15.982Z"
   },
   {
    "duration": 22,
    "start_time": "2022-02-16T20:51:15.988Z"
   },
   {
    "duration": 49,
    "start_time": "2022-02-16T20:51:16.012Z"
   },
   {
    "duration": 7,
    "start_time": "2022-02-16T20:51:16.063Z"
   },
   {
    "duration": 16,
    "start_time": "2022-02-16T20:51:16.072Z"
   },
   {
    "duration": 5,
    "start_time": "2022-02-16T20:51:16.090Z"
   },
   {
    "duration": 375,
    "start_time": "2022-02-16T20:51:17.678Z"
   },
   {
    "duration": 44,
    "start_time": "2022-02-16T20:51:30.633Z"
   },
   {
    "duration": 398,
    "start_time": "2022-02-16T20:51:43.357Z"
   },
   {
    "duration": 43,
    "start_time": "2022-02-16T20:52:51.093Z"
   },
   {
    "duration": 42,
    "start_time": "2022-02-16T20:54:02.478Z"
   },
   {
    "duration": 52,
    "start_time": "2022-02-16T20:54:21.113Z"
   },
   {
    "duration": 41,
    "start_time": "2022-02-16T20:55:52.747Z"
   },
   {
    "duration": 40,
    "start_time": "2022-02-16T20:58:04.516Z"
   },
   {
    "duration": 40,
    "start_time": "2022-02-16T20:58:08.179Z"
   },
   {
    "duration": 42,
    "start_time": "2022-02-16T20:58:12.787Z"
   },
   {
    "duration": 42,
    "start_time": "2022-02-16T20:58:18.155Z"
   },
   {
    "duration": 41,
    "start_time": "2022-02-16T20:58:20.322Z"
   },
   {
    "duration": 42,
    "start_time": "2022-02-16T20:58:35.520Z"
   },
   {
    "duration": 43,
    "start_time": "2022-02-16T20:58:38.259Z"
   },
   {
    "duration": 43,
    "start_time": "2022-02-16T20:59:01.239Z"
   },
   {
    "duration": 41,
    "start_time": "2022-02-16T20:59:23.493Z"
   },
   {
    "duration": 41,
    "start_time": "2022-02-16T20:59:40.917Z"
   },
   {
    "duration": 41,
    "start_time": "2022-02-16T21:00:21.770Z"
   },
   {
    "duration": 721,
    "start_time": "2022-02-25T16:44:37.827Z"
   },
   {
    "duration": 49,
    "start_time": "2022-02-25T16:44:38.550Z"
   },
   {
    "duration": 21,
    "start_time": "2022-02-25T16:44:38.602Z"
   },
   {
    "duration": 15,
    "start_time": "2022-02-25T16:44:38.626Z"
   },
   {
    "duration": 26,
    "start_time": "2022-02-25T16:44:38.644Z"
   },
   {
    "duration": 5,
    "start_time": "2022-02-25T16:44:38.671Z"
   },
   {
    "duration": 7,
    "start_time": "2022-02-25T16:44:38.678Z"
   },
   {
    "duration": 26,
    "start_time": "2022-02-25T16:44:38.687Z"
   },
   {
    "duration": 5,
    "start_time": "2022-02-25T16:44:38.716Z"
   },
   {
    "duration": 5,
    "start_time": "2022-02-25T16:44:38.723Z"
   },
   {
    "duration": 41,
    "start_time": "2022-02-25T16:44:38.729Z"
   },
   {
    "duration": 7,
    "start_time": "2022-02-25T16:44:38.772Z"
   },
   {
    "duration": 12,
    "start_time": "2022-02-25T16:44:38.781Z"
   },
   {
    "duration": 8,
    "start_time": "2022-02-25T16:44:38.795Z"
   },
   {
    "duration": 14,
    "start_time": "2022-02-25T16:44:38.805Z"
   },
   {
    "duration": 15,
    "start_time": "2022-02-25T16:44:38.821Z"
   },
   {
    "duration": 13,
    "start_time": "2022-02-25T16:44:38.839Z"
   },
   {
    "duration": 8,
    "start_time": "2022-02-25T16:44:38.869Z"
   },
   {
    "duration": 14,
    "start_time": "2022-02-25T16:44:38.879Z"
   },
   {
    "duration": 8,
    "start_time": "2022-02-25T16:44:38.895Z"
   },
   {
    "duration": 11,
    "start_time": "2022-02-25T16:44:38.905Z"
   },
   {
    "duration": 10,
    "start_time": "2022-02-25T16:44:38.918Z"
   },
   {
    "duration": 14,
    "start_time": "2022-02-25T16:44:38.930Z"
   },
   {
    "duration": 24,
    "start_time": "2022-02-25T16:44:38.946Z"
   },
   {
    "duration": 20,
    "start_time": "2022-02-25T16:44:38.972Z"
   },
   {
    "duration": 48,
    "start_time": "2022-02-25T16:44:38.994Z"
   },
   {
    "duration": 12,
    "start_time": "2022-02-25T16:44:39.046Z"
   },
   {
    "duration": 5,
    "start_time": "2022-02-25T16:44:39.060Z"
   },
   {
    "duration": 9,
    "start_time": "2022-02-25T16:44:39.067Z"
   },
   {
    "duration": 20,
    "start_time": "2022-02-25T16:44:39.078Z"
   },
   {
    "duration": 20,
    "start_time": "2022-02-25T16:44:39.100Z"
   },
   {
    "duration": 4,
    "start_time": "2022-02-25T16:44:39.121Z"
   },
   {
    "duration": 17,
    "start_time": "2022-02-25T16:44:39.126Z"
   },
   {
    "duration": 30,
    "start_time": "2022-02-25T16:44:39.145Z"
   },
   {
    "duration": 21,
    "start_time": "2022-02-25T16:44:39.177Z"
   },
   {
    "duration": 15,
    "start_time": "2022-02-25T16:44:39.200Z"
   },
   {
    "duration": 19,
    "start_time": "2022-02-25T16:44:39.217Z"
   },
   {
    "duration": 12,
    "start_time": "2022-02-25T16:44:39.269Z"
   },
   {
    "duration": 3,
    "start_time": "2022-02-25T16:44:39.283Z"
   },
   {
    "duration": 269,
    "start_time": "2022-02-25T16:44:39.288Z"
   },
   {
    "duration": 16,
    "start_time": "2022-02-25T16:44:39.559Z"
   },
   {
    "duration": 17,
    "start_time": "2022-02-25T16:44:39.577Z"
   },
   {
    "duration": 16,
    "start_time": "2022-02-25T16:44:39.597Z"
   },
   {
    "duration": 23,
    "start_time": "2022-02-25T16:44:39.615Z"
   },
   {
    "duration": 7,
    "start_time": "2022-02-25T16:44:39.640Z"
   },
   {
    "duration": 17,
    "start_time": "2022-02-25T16:44:39.668Z"
   },
   {
    "duration": 12,
    "start_time": "2022-02-25T16:44:39.687Z"
   },
   {
    "duration": 75,
    "start_time": "2022-02-25T16:44:39.701Z"
   },
   {
    "duration": 55,
    "start_time": "2022-02-25T16:44:39.778Z"
   },
   {
    "duration": 69,
    "start_time": "2022-02-25T16:44:39.835Z"
   },
   {
    "duration": 64,
    "start_time": "2022-02-25T16:44:39.906Z"
   },
   {
    "duration": 13,
    "start_time": "2022-02-25T16:49:11.768Z"
   },
   {
    "duration": 8,
    "start_time": "2022-02-25T16:52:11.946Z"
   },
   {
    "duration": 60,
    "start_time": "2022-02-25T17:10:16.759Z"
   },
   {
    "duration": 58,
    "start_time": "2022-02-25T17:16:01.505Z"
   },
   {
    "duration": 537,
    "start_time": "2022-02-25T17:16:23.369Z"
   },
   {
    "duration": 49,
    "start_time": "2022-02-25T17:16:23.907Z"
   },
   {
    "duration": 17,
    "start_time": "2022-02-25T17:16:23.958Z"
   },
   {
    "duration": 9,
    "start_time": "2022-02-25T17:16:23.977Z"
   },
   {
    "duration": 9,
    "start_time": "2022-02-25T17:16:23.987Z"
   },
   {
    "duration": 10,
    "start_time": "2022-02-25T17:16:25.965Z"
   },
   {
    "duration": 10,
    "start_time": "2022-02-25T17:16:35.647Z"
   },
   {
    "duration": 2,
    "start_time": "2022-02-25T17:18:34.801Z"
   },
   {
    "duration": 45,
    "start_time": "2022-02-25T17:18:34.805Z"
   },
   {
    "duration": 12,
    "start_time": "2022-02-25T17:18:34.852Z"
   },
   {
    "duration": 12,
    "start_time": "2022-02-25T17:18:34.865Z"
   },
   {
    "duration": 9,
    "start_time": "2022-02-25T17:18:34.878Z"
   },
   {
    "duration": 7,
    "start_time": "2022-02-25T17:18:34.889Z"
   },
   {
    "duration": 37,
    "start_time": "2022-02-25T17:18:34.897Z"
   },
   {
    "duration": 11,
    "start_time": "2022-02-25T17:18:34.936Z"
   },
   {
    "duration": 19,
    "start_time": "2022-02-25T17:18:34.950Z"
   },
   {
    "duration": 4,
    "start_time": "2022-02-25T17:18:34.972Z"
   },
   {
    "duration": 3,
    "start_time": "2022-02-25T17:18:34.978Z"
   },
   {
    "duration": 9,
    "start_time": "2022-02-25T17:18:34.983Z"
   },
   {
    "duration": 4,
    "start_time": "2022-02-25T17:18:34.993Z"
   },
   {
    "duration": 40,
    "start_time": "2022-02-25T17:18:34.998Z"
   },
   {
    "duration": 4,
    "start_time": "2022-02-25T17:18:35.040Z"
   },
   {
    "duration": 9,
    "start_time": "2022-02-25T17:18:35.046Z"
   },
   {
    "duration": 7,
    "start_time": "2022-02-25T17:18:35.057Z"
   },
   {
    "duration": 8,
    "start_time": "2022-02-25T17:18:35.066Z"
   },
   {
    "duration": 6,
    "start_time": "2022-02-25T17:18:35.076Z"
   },
   {
    "duration": 5,
    "start_time": "2022-02-25T17:18:35.083Z"
   },
   {
    "duration": 48,
    "start_time": "2022-02-25T17:18:35.089Z"
   },
   {
    "duration": 9,
    "start_time": "2022-02-25T17:18:35.139Z"
   },
   {
    "duration": 4,
    "start_time": "2022-02-25T17:18:35.150Z"
   },
   {
    "duration": 7,
    "start_time": "2022-02-25T17:18:35.156Z"
   },
   {
    "duration": 11,
    "start_time": "2022-02-25T17:18:35.165Z"
   },
   {
    "duration": 5,
    "start_time": "2022-02-25T17:18:35.178Z"
   },
   {
    "duration": 56,
    "start_time": "2022-02-25T17:18:35.187Z"
   },
   {
    "duration": 5,
    "start_time": "2022-02-25T17:18:35.245Z"
   },
   {
    "duration": 3,
    "start_time": "2022-02-25T17:18:35.252Z"
   },
   {
    "duration": 6,
    "start_time": "2022-02-25T17:18:35.257Z"
   },
   {
    "duration": 18,
    "start_time": "2022-02-25T17:18:35.264Z"
   },
   {
    "duration": 17,
    "start_time": "2022-02-25T17:18:35.283Z"
   },
   {
    "duration": 3,
    "start_time": "2022-02-25T17:18:35.302Z"
   },
   {
    "duration": 12,
    "start_time": "2022-02-25T17:18:35.333Z"
   },
   {
    "duration": 8,
    "start_time": "2022-02-25T17:18:35.346Z"
   },
   {
    "duration": 14,
    "start_time": "2022-02-25T17:18:35.356Z"
   },
   {
    "duration": 14,
    "start_time": "2022-02-25T17:18:35.372Z"
   },
   {
    "duration": 6,
    "start_time": "2022-02-25T17:18:35.387Z"
   },
   {
    "duration": 42,
    "start_time": "2022-02-25T17:18:35.395Z"
   },
   {
    "duration": 309,
    "start_time": "2022-02-25T17:20:30.905Z"
   },
   {
    "duration": 3,
    "start_time": "2022-02-25T17:20:41.147Z"
   },
   {
    "duration": 50,
    "start_time": "2022-02-25T17:20:41.152Z"
   },
   {
    "duration": 13,
    "start_time": "2022-02-25T17:20:41.204Z"
   },
   {
    "duration": 10,
    "start_time": "2022-02-25T17:20:41.233Z"
   },
   {
    "duration": 8,
    "start_time": "2022-02-25T17:20:41.245Z"
   },
   {
    "duration": 4,
    "start_time": "2022-02-25T17:20:41.255Z"
   },
   {
    "duration": 4,
    "start_time": "2022-02-25T17:20:41.261Z"
   },
   {
    "duration": 11,
    "start_time": "2022-02-25T17:20:41.267Z"
   },
   {
    "duration": 55,
    "start_time": "2022-02-25T17:20:41.279Z"
   },
   {
    "duration": 5,
    "start_time": "2022-02-25T17:20:41.335Z"
   },
   {
    "duration": 3,
    "start_time": "2022-02-25T17:20:41.342Z"
   },
   {
    "duration": 6,
    "start_time": "2022-02-25T17:20:41.347Z"
   },
   {
    "duration": 6,
    "start_time": "2022-02-25T17:20:41.354Z"
   },
   {
    "duration": 12,
    "start_time": "2022-02-25T17:20:41.361Z"
   },
   {
    "duration": 4,
    "start_time": "2022-02-25T17:20:41.375Z"
   },
   {
    "duration": 6,
    "start_time": "2022-02-25T17:20:41.381Z"
   },
   {
    "duration": 7,
    "start_time": "2022-02-25T17:20:41.389Z"
   },
   {
    "duration": 10,
    "start_time": "2022-02-25T17:20:41.433Z"
   },
   {
    "duration": 10,
    "start_time": "2022-02-25T17:20:41.446Z"
   },
   {
    "duration": 4,
    "start_time": "2022-02-25T17:20:41.458Z"
   },
   {
    "duration": 6,
    "start_time": "2022-02-25T17:20:41.463Z"
   },
   {
    "duration": 6,
    "start_time": "2022-02-25T17:20:41.471Z"
   },
   {
    "duration": 6,
    "start_time": "2022-02-25T17:20:41.478Z"
   },
   {
    "duration": 12,
    "start_time": "2022-02-25T17:20:41.485Z"
   },
   {
    "duration": 9,
    "start_time": "2022-02-25T17:20:41.498Z"
   },
   {
    "duration": 4,
    "start_time": "2022-02-25T17:20:41.533Z"
   },
   {
    "duration": 26,
    "start_time": "2022-02-25T17:20:41.538Z"
   },
   {
    "duration": 6,
    "start_time": "2022-02-25T17:20:41.565Z"
   },
   {
    "duration": 4,
    "start_time": "2022-02-25T17:20:41.572Z"
   },
   {
    "duration": 6,
    "start_time": "2022-02-25T17:20:41.578Z"
   },
   {
    "duration": 20,
    "start_time": "2022-02-25T17:20:41.585Z"
   },
   {
    "duration": 42,
    "start_time": "2022-02-25T17:20:41.607Z"
   },
   {
    "duration": 3,
    "start_time": "2022-02-25T17:20:41.651Z"
   },
   {
    "duration": 12,
    "start_time": "2022-02-25T17:20:41.656Z"
   },
   {
    "duration": 8,
    "start_time": "2022-02-25T17:20:41.670Z"
   },
   {
    "duration": 13,
    "start_time": "2022-02-25T17:20:41.680Z"
   },
   {
    "duration": 46,
    "start_time": "2022-02-25T17:20:41.695Z"
   },
   {
    "duration": 4,
    "start_time": "2022-02-25T17:20:41.743Z"
   },
   {
    "duration": 11,
    "start_time": "2022-02-25T17:20:41.748Z"
   },
   {
    "duration": 4,
    "start_time": "2022-02-25T17:20:41.760Z"
   },
   {
    "duration": 250,
    "start_time": "2022-02-25T17:20:41.765Z"
   },
   {
    "duration": 16,
    "start_time": "2022-02-25T17:20:42.017Z"
   },
   {
    "duration": 8,
    "start_time": "2022-02-25T17:20:42.035Z"
   },
   {
    "duration": 8,
    "start_time": "2022-02-25T17:20:42.045Z"
   },
   {
    "duration": 5,
    "start_time": "2022-02-25T17:20:42.054Z"
   },
   {
    "duration": 8,
    "start_time": "2022-02-25T17:20:42.060Z"
   },
   {
    "duration": 7,
    "start_time": "2022-02-25T17:20:42.070Z"
   },
   {
    "duration": 281,
    "start_time": "2022-02-25T17:20:44.161Z"
   },
   {
    "duration": 319,
    "start_time": "2022-02-25T17:20:52.366Z"
   },
   {
    "duration": 4,
    "start_time": "2022-02-25T17:21:41.003Z"
   },
   {
    "duration": 7,
    "start_time": "2022-02-25T17:21:44.567Z"
   },
   {
    "duration": 3,
    "start_time": "2022-02-25T17:22:10.933Z"
   },
   {
    "duration": 5,
    "start_time": "2022-02-25T17:22:15.716Z"
   },
   {
    "duration": 283,
    "start_time": "2022-02-25T17:22:59.119Z"
   },
   {
    "duration": 3,
    "start_time": "2022-02-25T17:27:28.516Z"
   },
   {
    "duration": 2,
    "start_time": "2022-02-25T17:27:58.540Z"
   },
   {
    "duration": 44,
    "start_time": "2022-02-25T17:27:58.581Z"
   },
   {
    "duration": 11,
    "start_time": "2022-02-25T17:27:58.626Z"
   },
   {
    "duration": 12,
    "start_time": "2022-02-25T17:27:58.639Z"
   },
   {
    "duration": 10,
    "start_time": "2022-02-25T17:27:58.652Z"
   },
   {
    "duration": 5,
    "start_time": "2022-02-25T17:27:58.663Z"
   },
   {
    "duration": 5,
    "start_time": "2022-02-25T17:27:58.669Z"
   },
   {
    "duration": 10,
    "start_time": "2022-02-25T17:27:58.675Z"
   },
   {
    "duration": 55,
    "start_time": "2022-02-25T17:27:58.686Z"
   },
   {
    "duration": 5,
    "start_time": "2022-02-25T17:27:58.743Z"
   },
   {
    "duration": 3,
    "start_time": "2022-02-25T17:27:58.750Z"
   },
   {
    "duration": 6,
    "start_time": "2022-02-25T17:27:58.754Z"
   },
   {
    "duration": 3,
    "start_time": "2022-02-25T17:27:58.761Z"
   },
   {
    "duration": 12,
    "start_time": "2022-02-25T17:27:58.766Z"
   },
   {
    "duration": 4,
    "start_time": "2022-02-25T17:27:58.779Z"
   },
   {
    "duration": 6,
    "start_time": "2022-02-25T17:27:58.785Z"
   },
   {
    "duration": 41,
    "start_time": "2022-02-25T17:27:58.792Z"
   },
   {
    "duration": 9,
    "start_time": "2022-02-25T17:27:58.835Z"
   },
   {
    "duration": 8,
    "start_time": "2022-02-25T17:27:58.845Z"
   },
   {
    "duration": 5,
    "start_time": "2022-02-25T17:27:58.854Z"
   },
   {
    "duration": 6,
    "start_time": "2022-02-25T17:27:58.860Z"
   },
   {
    "duration": 10,
    "start_time": "2022-02-25T17:27:58.867Z"
   },
   {
    "duration": 5,
    "start_time": "2022-02-25T17:27:58.878Z"
   },
   {
    "duration": 6,
    "start_time": "2022-02-25T17:27:58.885Z"
   },
   {
    "duration": 40,
    "start_time": "2022-02-25T17:27:58.893Z"
   },
   {
    "duration": 3,
    "start_time": "2022-02-25T17:27:58.935Z"
   },
   {
    "duration": 23,
    "start_time": "2022-02-25T17:27:58.940Z"
   },
   {
    "duration": 6,
    "start_time": "2022-02-25T17:27:58.966Z"
   },
   {
    "duration": 3,
    "start_time": "2022-02-25T17:27:58.974Z"
   },
   {
    "duration": 6,
    "start_time": "2022-02-25T17:27:58.979Z"
   },
   {
    "duration": 47,
    "start_time": "2022-02-25T17:27:58.986Z"
   },
   {
    "duration": 20,
    "start_time": "2022-02-25T17:27:59.035Z"
   },
   {
    "duration": 4,
    "start_time": "2022-02-25T17:27:59.057Z"
   },
   {
    "duration": 16,
    "start_time": "2022-02-25T17:27:59.063Z"
   },
   {
    "duration": 10,
    "start_time": "2022-02-25T17:27:59.080Z"
   },
   {
    "duration": 41,
    "start_time": "2022-02-25T17:27:59.092Z"
   },
   {
    "duration": 13,
    "start_time": "2022-02-25T17:27:59.135Z"
   },
   {
    "duration": 4,
    "start_time": "2022-02-25T17:27:59.150Z"
   },
   {
    "duration": 13,
    "start_time": "2022-02-25T17:27:59.155Z"
   },
   {
    "duration": 7,
    "start_time": "2022-02-25T17:27:59.170Z"
   },
   {
    "duration": 245,
    "start_time": "2022-02-25T17:27:59.179Z"
   },
   {
    "duration": 17,
    "start_time": "2022-02-25T17:27:59.426Z"
   },
   {
    "duration": 7,
    "start_time": "2022-02-25T17:27:59.445Z"
   },
   {
    "duration": 6,
    "start_time": "2022-02-25T17:27:59.454Z"
   },
   {
    "duration": 6,
    "start_time": "2022-02-25T17:27:59.461Z"
   },
   {
    "duration": 7,
    "start_time": "2022-02-25T17:27:59.469Z"
   },
   {
    "duration": 7,
    "start_time": "2022-02-25T17:27:59.477Z"
   },
   {
    "duration": 6,
    "start_time": "2022-02-25T17:28:02.197Z"
   },
   {
    "duration": 177,
    "start_time": "2022-02-25T17:28:19.616Z"
   },
   {
    "duration": 4,
    "start_time": "2022-02-25T17:28:47.312Z"
   },
   {
    "duration": 57,
    "start_time": "2022-02-25T17:28:56.149Z"
   },
   {
    "duration": 254,
    "start_time": "2022-02-25T17:28:58.768Z"
   },
   {
    "duration": 4,
    "start_time": "2022-02-25T17:29:04.833Z"
   },
   {
    "duration": 7,
    "start_time": "2022-02-25T17:29:08.140Z"
   },
   {
    "duration": 4,
    "start_time": "2022-02-25T17:29:34.969Z"
   },
   {
    "duration": 3,
    "start_time": "2022-02-25T17:29:59.449Z"
   },
   {
    "duration": 4,
    "start_time": "2022-02-25T17:30:02.282Z"
   },
   {
    "duration": 6,
    "start_time": "2022-02-25T17:30:05.160Z"
   },
   {
    "duration": 69,
    "start_time": "2022-02-25T17:31:45.214Z"
   },
   {
    "duration": 56,
    "start_time": "2022-02-25T17:31:54.875Z"
   },
   {
    "duration": 4,
    "start_time": "2022-02-25T17:31:59.536Z"
   },
   {
    "duration": 4,
    "start_time": "2022-02-25T17:32:01.817Z"
   },
   {
    "duration": 6,
    "start_time": "2022-02-25T17:32:05.143Z"
   },
   {
    "duration": 179,
    "start_time": "2022-02-25T17:32:39.960Z"
   },
   {
    "duration": 32,
    "start_time": "2022-02-25T17:32:49.496Z"
   },
   {
    "duration": 5,
    "start_time": "2022-02-25T17:32:52.589Z"
   },
   {
    "duration": 2,
    "start_time": "2022-02-25T17:33:00.902Z"
   },
   {
    "duration": 61,
    "start_time": "2022-02-25T17:33:00.906Z"
   },
   {
    "duration": 11,
    "start_time": "2022-02-25T17:33:00.969Z"
   },
   {
    "duration": 17,
    "start_time": "2022-02-25T17:33:00.982Z"
   },
   {
    "duration": 14,
    "start_time": "2022-02-25T17:33:01.001Z"
   },
   {
    "duration": 33,
    "start_time": "2022-02-25T17:33:01.017Z"
   },
   {
    "duration": 16,
    "start_time": "2022-02-25T17:33:01.052Z"
   },
   {
    "duration": 14,
    "start_time": "2022-02-25T17:33:01.071Z"
   },
   {
    "duration": 21,
    "start_time": "2022-02-25T17:33:01.087Z"
   },
   {
    "duration": 23,
    "start_time": "2022-02-25T17:33:01.110Z"
   },
   {
    "duration": 3,
    "start_time": "2022-02-25T17:33:01.135Z"
   },
   {
    "duration": 11,
    "start_time": "2022-02-25T17:33:01.140Z"
   },
   {
    "duration": 7,
    "start_time": "2022-02-25T17:33:01.152Z"
   },
   {
    "duration": 19,
    "start_time": "2022-02-25T17:33:01.160Z"
   },
   {
    "duration": 5,
    "start_time": "2022-02-25T17:33:01.181Z"
   },
   {
    "duration": 11,
    "start_time": "2022-02-25T17:33:01.188Z"
   },
   {
    "duration": 8,
    "start_time": "2022-02-25T17:33:01.201Z"
   },
   {
    "duration": 11,
    "start_time": "2022-02-25T17:33:01.233Z"
   },
   {
    "duration": 16,
    "start_time": "2022-02-25T17:33:01.245Z"
   },
   {
    "duration": 7,
    "start_time": "2022-02-25T17:33:01.263Z"
   },
   {
    "duration": 8,
    "start_time": "2022-02-25T17:33:01.272Z"
   },
   {
    "duration": 10,
    "start_time": "2022-02-25T17:33:01.281Z"
   },
   {
    "duration": 12,
    "start_time": "2022-02-25T17:33:01.294Z"
   },
   {
    "duration": 30,
    "start_time": "2022-02-25T17:33:01.308Z"
   },
   {
    "duration": 5,
    "start_time": "2022-02-25T17:33:01.341Z"
   },
   {
    "duration": 18,
    "start_time": "2022-02-25T17:33:01.348Z"
   },
   {
    "duration": 28,
    "start_time": "2022-02-25T17:33:01.367Z"
   },
   {
    "duration": 17,
    "start_time": "2022-02-25T17:33:01.396Z"
   },
   {
    "duration": 13,
    "start_time": "2022-02-25T17:33:01.415Z"
   },
   {
    "duration": 9,
    "start_time": "2022-02-25T17:33:01.430Z"
   },
   {
    "duration": 40,
    "start_time": "2022-02-25T17:33:01.440Z"
   },
   {
    "duration": 19,
    "start_time": "2022-02-25T17:33:01.481Z"
   },
   {
    "duration": 4,
    "start_time": "2022-02-25T17:33:01.501Z"
   },
   {
    "duration": 14,
    "start_time": "2022-02-25T17:33:01.507Z"
   },
   {
    "duration": 9,
    "start_time": "2022-02-25T17:33:01.522Z"
   },
   {
    "duration": 17,
    "start_time": "2022-02-25T17:33:01.533Z"
   },
   {
    "duration": 15,
    "start_time": "2022-02-25T17:33:01.552Z"
   },
   {
    "duration": 4,
    "start_time": "2022-02-25T17:33:01.569Z"
   },
   {
    "duration": 15,
    "start_time": "2022-02-25T17:33:01.575Z"
   },
   {
    "duration": 12,
    "start_time": "2022-02-25T17:33:01.591Z"
   },
   {
    "duration": 254,
    "start_time": "2022-02-25T17:33:01.605Z"
   },
   {
    "duration": 11,
    "start_time": "2022-02-25T17:33:01.861Z"
   },
   {
    "duration": 3,
    "start_time": "2022-02-25T17:33:03.208Z"
   },
   {
    "duration": 28,
    "start_time": "2022-02-25T17:33:04.850Z"
   },
   {
    "duration": 6,
    "start_time": "2022-02-25T17:33:07.615Z"
   },
   {
    "duration": 176,
    "start_time": "2022-02-25T17:34:02.138Z"
   },
   {
    "duration": 3,
    "start_time": "2022-02-25T17:34:04.840Z"
   },
   {
    "duration": 3,
    "start_time": "2022-02-25T17:34:11.460Z"
   },
   {
    "duration": 5,
    "start_time": "2022-02-25T17:34:14.495Z"
   },
   {
    "duration": 465,
    "start_time": "2022-02-25T17:35:21.297Z"
   },
   {
    "duration": 5,
    "start_time": "2022-02-25T17:35:25.199Z"
   },
   {
    "duration": 215,
    "start_time": "2022-02-25T17:35:44.975Z"
   },
   {
    "duration": 3,
    "start_time": "2022-02-25T17:35:46.215Z"
   },
   {
    "duration": 16,
    "start_time": "2022-02-25T17:35:47.361Z"
   },
   {
    "duration": 27,
    "start_time": "2022-02-25T17:35:51.565Z"
   },
   {
    "duration": 8,
    "start_time": "2022-02-25T17:35:54.510Z"
   },
   {
    "duration": 18,
    "start_time": "2022-02-25T17:35:57.462Z"
   },
   {
    "duration": 5,
    "start_time": "2022-02-25T17:35:59.544Z"
   },
   {
    "duration": 2,
    "start_time": "2022-02-25T17:36:06.261Z"
   },
   {
    "duration": 56,
    "start_time": "2022-02-25T17:36:06.265Z"
   },
   {
    "duration": 12,
    "start_time": "2022-02-25T17:36:06.323Z"
   },
   {
    "duration": 12,
    "start_time": "2022-02-25T17:36:06.337Z"
   },
   {
    "duration": 9,
    "start_time": "2022-02-25T17:36:06.351Z"
   },
   {
    "duration": 5,
    "start_time": "2022-02-25T17:36:06.361Z"
   },
   {
    "duration": 5,
    "start_time": "2022-02-25T17:36:06.368Z"
   },
   {
    "duration": 10,
    "start_time": "2022-02-25T17:36:06.375Z"
   },
   {
    "duration": 58,
    "start_time": "2022-02-25T17:36:06.386Z"
   },
   {
    "duration": 4,
    "start_time": "2022-02-25T17:36:06.446Z"
   },
   {
    "duration": 4,
    "start_time": "2022-02-25T17:36:06.452Z"
   },
   {
    "duration": 6,
    "start_time": "2022-02-25T17:36:06.458Z"
   },
   {
    "duration": 5,
    "start_time": "2022-02-25T17:36:06.466Z"
   },
   {
    "duration": 13,
    "start_time": "2022-02-25T17:36:06.472Z"
   },
   {
    "duration": 7,
    "start_time": "2022-02-25T17:36:06.486Z"
   },
   {
    "duration": 7,
    "start_time": "2022-02-25T17:36:06.494Z"
   },
   {
    "duration": 32,
    "start_time": "2022-02-25T17:36:06.502Z"
   },
   {
    "duration": 9,
    "start_time": "2022-02-25T17:36:06.536Z"
   },
   {
    "duration": 5,
    "start_time": "2022-02-25T17:36:06.548Z"
   },
   {
    "duration": 6,
    "start_time": "2022-02-25T17:36:06.555Z"
   },
   {
    "duration": 6,
    "start_time": "2022-02-25T17:36:06.562Z"
   },
   {
    "duration": 6,
    "start_time": "2022-02-25T17:36:06.569Z"
   },
   {
    "duration": 6,
    "start_time": "2022-02-25T17:36:06.576Z"
   },
   {
    "duration": 9,
    "start_time": "2022-02-25T17:36:06.583Z"
   },
   {
    "duration": 40,
    "start_time": "2022-02-25T17:36:06.593Z"
   },
   {
    "duration": 3,
    "start_time": "2022-02-25T17:36:06.635Z"
   },
   {
    "duration": 22,
    "start_time": "2022-02-25T17:36:06.640Z"
   },
   {
    "duration": 5,
    "start_time": "2022-02-25T17:36:06.663Z"
   },
   {
    "duration": 3,
    "start_time": "2022-02-25T17:36:06.670Z"
   },
   {
    "duration": 7,
    "start_time": "2022-02-25T17:36:06.674Z"
   },
   {
    "duration": 20,
    "start_time": "2022-02-25T17:36:06.682Z"
   },
   {
    "duration": 46,
    "start_time": "2022-02-25T17:36:06.703Z"
   },
   {
    "duration": 4,
    "start_time": "2022-02-25T17:36:06.750Z"
   },
   {
    "duration": 12,
    "start_time": "2022-02-25T17:36:06.755Z"
   },
   {
    "duration": 16,
    "start_time": "2022-02-25T17:36:06.768Z"
   },
   {
    "duration": 16,
    "start_time": "2022-02-25T17:36:06.785Z"
   },
   {
    "duration": 40,
    "start_time": "2022-02-25T17:36:06.802Z"
   },
   {
    "duration": 5,
    "start_time": "2022-02-25T17:36:06.844Z"
   },
   {
    "duration": 11,
    "start_time": "2022-02-25T17:36:06.851Z"
   },
   {
    "duration": 5,
    "start_time": "2022-02-25T17:36:06.863Z"
   },
   {
    "duration": 243,
    "start_time": "2022-02-25T17:36:06.869Z"
   },
   {
    "duration": 18,
    "start_time": "2022-02-25T17:36:07.114Z"
   },
   {
    "duration": 4,
    "start_time": "2022-02-25T17:36:07.133Z"
   },
   {
    "duration": 13,
    "start_time": "2022-02-25T17:36:07.139Z"
   },
   {
    "duration": 22,
    "start_time": "2022-02-25T17:36:07.154Z"
   },
   {
    "duration": 6,
    "start_time": "2022-02-25T17:36:07.178Z"
   },
   {
    "duration": 14,
    "start_time": "2022-02-25T17:36:07.185Z"
   },
   {
    "duration": 5,
    "start_time": "2022-02-25T17:36:08.669Z"
   },
   {
    "duration": 103,
    "start_time": "2022-02-25T17:37:50.459Z"
   },
   {
    "duration": 603,
    "start_time": "2022-02-25T21:17:01.011Z"
   },
   {
    "duration": 45,
    "start_time": "2022-02-25T21:17:01.616Z"
   },
   {
    "duration": 19,
    "start_time": "2022-02-25T21:17:01.663Z"
   },
   {
    "duration": 20,
    "start_time": "2022-02-25T21:17:01.684Z"
   },
   {
    "duration": 18,
    "start_time": "2022-02-25T21:17:01.706Z"
   },
   {
    "duration": 11,
    "start_time": "2022-02-25T21:17:01.726Z"
   },
   {
    "duration": 9,
    "start_time": "2022-02-25T21:17:01.739Z"
   },
   {
    "duration": 12,
    "start_time": "2022-02-25T21:17:01.750Z"
   },
   {
    "duration": 24,
    "start_time": "2022-02-25T21:17:01.764Z"
   },
   {
    "duration": 33,
    "start_time": "2022-02-25T21:17:01.790Z"
   },
   {
    "duration": 11,
    "start_time": "2022-02-25T21:17:01.825Z"
   },
   {
    "duration": 8,
    "start_time": "2022-02-25T21:17:01.837Z"
   },
   {
    "duration": 4,
    "start_time": "2022-02-25T21:17:01.846Z"
   },
   {
    "duration": 11,
    "start_time": "2022-02-25T21:17:01.851Z"
   },
   {
    "duration": 4,
    "start_time": "2022-02-25T21:17:01.864Z"
   },
   {
    "duration": 9,
    "start_time": "2022-02-25T21:17:01.870Z"
   },
   {
    "duration": 10,
    "start_time": "2022-02-25T21:17:01.880Z"
   },
   {
    "duration": 34,
    "start_time": "2022-02-25T21:17:01.892Z"
   },
   {
    "duration": 6,
    "start_time": "2022-02-25T21:17:01.928Z"
   },
   {
    "duration": 9,
    "start_time": "2022-02-25T21:17:01.936Z"
   },
   {
    "duration": 7,
    "start_time": "2022-02-25T21:17:01.946Z"
   },
   {
    "duration": 8,
    "start_time": "2022-02-25T21:17:01.954Z"
   },
   {
    "duration": 3,
    "start_time": "2022-02-25T21:17:01.966Z"
   },
   {
    "duration": 13,
    "start_time": "2022-02-25T21:17:01.971Z"
   },
   {
    "duration": 37,
    "start_time": "2022-02-25T21:17:01.985Z"
   },
   {
    "duration": 6,
    "start_time": "2022-02-25T21:17:02.024Z"
   },
   {
    "duration": 28,
    "start_time": "2022-02-25T21:17:02.032Z"
   },
   {
    "duration": 5,
    "start_time": "2022-02-25T21:17:02.062Z"
   },
   {
    "duration": 4,
    "start_time": "2022-02-25T21:17:02.069Z"
   },
   {
    "duration": 10,
    "start_time": "2022-02-25T21:17:02.074Z"
   },
   {
    "duration": 43,
    "start_time": "2022-02-25T21:17:02.086Z"
   },
   {
    "duration": 18,
    "start_time": "2022-02-25T21:17:02.131Z"
   },
   {
    "duration": 3,
    "start_time": "2022-02-25T21:17:02.151Z"
   },
   {
    "duration": 13,
    "start_time": "2022-02-25T21:17:02.155Z"
   },
   {
    "duration": 25,
    "start_time": "2022-02-25T21:17:02.170Z"
   },
   {
    "duration": 30,
    "start_time": "2022-02-25T21:17:02.196Z"
   },
   {
    "duration": 13,
    "start_time": "2022-02-25T21:17:02.228Z"
   },
   {
    "duration": 5,
    "start_time": "2022-02-25T21:17:02.243Z"
   },
   {
    "duration": 8,
    "start_time": "2022-02-25T21:17:02.250Z"
   },
   {
    "duration": 4,
    "start_time": "2022-02-25T21:17:02.259Z"
   },
   {
    "duration": 263,
    "start_time": "2022-02-25T21:17:02.264Z"
   },
   {
    "duration": 12,
    "start_time": "2022-02-25T21:17:02.529Z"
   },
   {
    "duration": 5,
    "start_time": "2022-02-25T21:17:02.543Z"
   },
   {
    "duration": 14,
    "start_time": "2022-02-25T21:17:02.550Z"
   },
   {
    "duration": 19,
    "start_time": "2022-02-25T21:17:02.565Z"
   },
   {
    "duration": 35,
    "start_time": "2022-02-25T21:17:02.586Z"
   },
   {
    "duration": 14,
    "start_time": "2022-02-25T21:17:02.623Z"
   },
   {
    "duration": 9,
    "start_time": "2022-02-25T21:17:02.638Z"
   },
   {
    "duration": 69,
    "start_time": "2022-02-25T21:17:02.649Z"
   },
   {
    "duration": 340,
    "start_time": "2022-02-25T21:17:02.720Z"
   },
   {
    "duration": 1140,
    "start_time": "2022-02-25T21:17:01.922Z"
   },
   {
    "duration": 1139,
    "start_time": "2022-02-25T21:17:01.924Z"
   },
   {
    "duration": 50,
    "start_time": "2022-02-25T21:18:20.870Z"
   },
   {
    "duration": 50,
    "start_time": "2022-02-25T21:18:24.145Z"
   }
  ],
  "kernelspec": {
   "display_name": "Python 3 (ipykernel)",
   "language": "python",
   "name": "python3"
  },
  "language_info": {
   "codemirror_mode": {
    "name": "ipython",
    "version": 3
   },
   "file_extension": ".py",
   "mimetype": "text/x-python",
   "name": "python",
   "nbconvert_exporter": "python",
   "pygments_lexer": "ipython3",
   "version": "3.9.7"
  },
  "toc": {
   "base_numbering": 1,
   "nav_menu": {},
   "number_sections": true,
   "sideBar": true,
   "skip_h1_title": true,
   "title_cell": "Table of Contents",
   "title_sidebar": "Contents",
   "toc_cell": false,
   "toc_position": {},
   "toc_section_display": true,
   "toc_window_display": false
  }
 },
 "nbformat": 4,
 "nbformat_minor": 5
}
