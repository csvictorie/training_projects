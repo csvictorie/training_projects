{
 "cells": [
  {
   "cell_type": "markdown",
   "id": "deb9b639",
   "metadata": {
    "id": "E0vqbgi9ay0H"
   },
   "source": [
    "# Увеличение выручки в интернет-магазине"
   ]
  },
  {
   "cell_type": "markdown",
   "id": "37833a29",
   "metadata": {
    "id": "E0vqbgi9ay0H"
   },
   "source": [
    "## 1. Обзор данных"
   ]
  },
  {
   "cell_type": "code",
   "execution_count": 1,
   "id": "a8adb2c1",
   "metadata": {},
   "outputs": [],
   "source": [
    "import pandas as pd\n",
    "import numpy as np\n",
    "import seaborn as sns\n",
    "from scipy import stats as stats\n",
    "import matplotlib.pyplot as plt\n",
    "import datetime as dt\n",
    "pd.options.display.max_colwidth  = 130"
   ]
  },
  {
   "cell_type": "markdown",
   "id": "defe0f81",
   "metadata": {
    "id": "E0vqbgi9ay0H"
   },
   "source": [
    "### 1.1 Функции <a id=\"1.1\"></a>"
   ]
  },
  {
   "cell_type": "markdown",
   "id": "4b3c0010",
   "metadata": {
    "id": "E0vqbgi9ay0H"
   },
   "source": [
    "#### 1.1.1 Функция для первичного анализа <a id=\"1.1.1\"></a>"
   ]
  },
  {
   "cell_type": "code",
   "execution_count": 2,
   "id": "d57af246",
   "metadata": {},
   "outputs": [],
   "source": [
    "def first_rev(df):\n",
    "    print('info')\n",
    "    display(df.info(memory_usage='deep'))\n",
    "    print('describe')\n",
    "    display(df.describe().T.round(3))\n",
    "    print('head')\n",
    "    display(df.head())\n",
    "    print('duplicated')\n",
    "    display(df.duplicated().sum())"
   ]
  },
  {
   "cell_type": "markdown",
   "id": "547ed7bb",
   "metadata": {
    "id": "E0vqbgi9ay0H"
   },
   "source": [
    "### 1.2 Данные о гипотезах <a id=\"1.2\"></a>"
   ]
  },
  {
   "cell_type": "code",
   "execution_count": 3,
   "id": "db8a30c1",
   "metadata": {},
   "outputs": [],
   "source": [
    "hypothesis = pd.read_csv(r\"C:\\Users\\csvic\\Desktop\\data analysis\\Я.Практикум\\Модуль 2\\Принятие решений в бизнесе\\hypothesis.csv\")"
   ]
  },
  {
   "cell_type": "code",
   "execution_count": 4,
   "id": "392feae7",
   "metadata": {},
   "outputs": [
    {
     "name": "stdout",
     "output_type": "stream",
     "text": [
      "info\n",
      "<class 'pandas.core.frame.DataFrame'>\n",
      "RangeIndex: 9 entries, 0 to 8\n",
      "Data columns (total 5 columns):\n",
      " #   Column      Non-Null Count  Dtype \n",
      "---  ------      --------------  ----- \n",
      " 0   Hypothesis  9 non-null      object\n",
      " 1   Reach       9 non-null      int64 \n",
      " 2   Impact      9 non-null      int64 \n",
      " 3   Confidence  9 non-null      int64 \n",
      " 4   Efforts     9 non-null      int64 \n",
      "dtypes: int64(4), object(1)\n",
      "memory usage: 2.7 KB\n"
     ]
    },
    {
     "data": {
      "text/plain": [
       "None"
      ]
     },
     "metadata": {},
     "output_type": "display_data"
    },
    {
     "name": "stdout",
     "output_type": "stream",
     "text": [
      "describe\n"
     ]
    },
    {
     "data": {
      "text/html": [
       "<div>\n",
       "<style scoped>\n",
       "    .dataframe tbody tr th:only-of-type {\n",
       "        vertical-align: middle;\n",
       "    }\n",
       "\n",
       "    .dataframe tbody tr th {\n",
       "        vertical-align: top;\n",
       "    }\n",
       "\n",
       "    .dataframe thead th {\n",
       "        text-align: right;\n",
       "    }\n",
       "</style>\n",
       "<table border=\"1\" class=\"dataframe\">\n",
       "  <thead>\n",
       "    <tr style=\"text-align: right;\">\n",
       "      <th></th>\n",
       "      <th>count</th>\n",
       "      <th>mean</th>\n",
       "      <th>std</th>\n",
       "      <th>min</th>\n",
       "      <th>25%</th>\n",
       "      <th>50%</th>\n",
       "      <th>75%</th>\n",
       "      <th>max</th>\n",
       "    </tr>\n",
       "  </thead>\n",
       "  <tbody>\n",
       "    <tr>\n",
       "      <th>Reach</th>\n",
       "      <td>9.0</td>\n",
       "      <td>4.778</td>\n",
       "      <td>3.153</td>\n",
       "      <td>1.0</td>\n",
       "      <td>3.0</td>\n",
       "      <td>3.0</td>\n",
       "      <td>8.0</td>\n",
       "      <td>10.0</td>\n",
       "    </tr>\n",
       "    <tr>\n",
       "      <th>Impact</th>\n",
       "      <td>9.0</td>\n",
       "      <td>4.778</td>\n",
       "      <td>3.193</td>\n",
       "      <td>1.0</td>\n",
       "      <td>3.0</td>\n",
       "      <td>3.0</td>\n",
       "      <td>7.0</td>\n",
       "      <td>10.0</td>\n",
       "    </tr>\n",
       "    <tr>\n",
       "      <th>Confidence</th>\n",
       "      <td>9.0</td>\n",
       "      <td>5.556</td>\n",
       "      <td>3.046</td>\n",
       "      <td>1.0</td>\n",
       "      <td>3.0</td>\n",
       "      <td>7.0</td>\n",
       "      <td>8.0</td>\n",
       "      <td>9.0</td>\n",
       "    </tr>\n",
       "    <tr>\n",
       "      <th>Efforts</th>\n",
       "      <td>9.0</td>\n",
       "      <td>4.889</td>\n",
       "      <td>2.804</td>\n",
       "      <td>1.0</td>\n",
       "      <td>3.0</td>\n",
       "      <td>5.0</td>\n",
       "      <td>6.0</td>\n",
       "      <td>10.0</td>\n",
       "    </tr>\n",
       "  </tbody>\n",
       "</table>\n",
       "</div>"
      ],
      "text/plain": [
       "            count   mean    std  min  25%  50%  75%   max\n",
       "Reach         9.0  4.778  3.153  1.0  3.0  3.0  8.0  10.0\n",
       "Impact        9.0  4.778  3.193  1.0  3.0  3.0  7.0  10.0\n",
       "Confidence    9.0  5.556  3.046  1.0  3.0  7.0  8.0   9.0\n",
       "Efforts       9.0  4.889  2.804  1.0  3.0  5.0  6.0  10.0"
      ]
     },
     "metadata": {},
     "output_type": "display_data"
    },
    {
     "name": "stdout",
     "output_type": "stream",
     "text": [
      "head\n"
     ]
    },
    {
     "data": {
      "text/html": [
       "<div>\n",
       "<style scoped>\n",
       "    .dataframe tbody tr th:only-of-type {\n",
       "        vertical-align: middle;\n",
       "    }\n",
       "\n",
       "    .dataframe tbody tr th {\n",
       "        vertical-align: top;\n",
       "    }\n",
       "\n",
       "    .dataframe thead th {\n",
       "        text-align: right;\n",
       "    }\n",
       "</style>\n",
       "<table border=\"1\" class=\"dataframe\">\n",
       "  <thead>\n",
       "    <tr style=\"text-align: right;\">\n",
       "      <th></th>\n",
       "      <th>Hypothesis</th>\n",
       "      <th>Reach</th>\n",
       "      <th>Impact</th>\n",
       "      <th>Confidence</th>\n",
       "      <th>Efforts</th>\n",
       "    </tr>\n",
       "  </thead>\n",
       "  <tbody>\n",
       "    <tr>\n",
       "      <th>0</th>\n",
       "      <td>Добавить два новых канала привлечения трафика, что позволит привлекать на 30% больше пользователей</td>\n",
       "      <td>3</td>\n",
       "      <td>10</td>\n",
       "      <td>8</td>\n",
       "      <td>6</td>\n",
       "    </tr>\n",
       "    <tr>\n",
       "      <th>1</th>\n",
       "      <td>Запустить собственную службу доставки, что сократит срок доставки заказов</td>\n",
       "      <td>2</td>\n",
       "      <td>5</td>\n",
       "      <td>4</td>\n",
       "      <td>10</td>\n",
       "    </tr>\n",
       "    <tr>\n",
       "      <th>2</th>\n",
       "      <td>Добавить блоки рекомендаций товаров на сайт интернет магазина, чтобы повысить конверсию и средний чек заказа</td>\n",
       "      <td>8</td>\n",
       "      <td>3</td>\n",
       "      <td>7</td>\n",
       "      <td>3</td>\n",
       "    </tr>\n",
       "    <tr>\n",
       "      <th>3</th>\n",
       "      <td>Изменить структура категорий, что увеличит конверсию, т.к. пользователи быстрее найдут нужный товар</td>\n",
       "      <td>8</td>\n",
       "      <td>3</td>\n",
       "      <td>3</td>\n",
       "      <td>8</td>\n",
       "    </tr>\n",
       "    <tr>\n",
       "      <th>4</th>\n",
       "      <td>Изменить цвет фона главной страницы, чтобы увеличить вовлеченность пользователей</td>\n",
       "      <td>3</td>\n",
       "      <td>1</td>\n",
       "      <td>1</td>\n",
       "      <td>1</td>\n",
       "    </tr>\n",
       "  </tbody>\n",
       "</table>\n",
       "</div>"
      ],
      "text/plain": [
       "                                                                                                     Hypothesis  \\\n",
       "0            Добавить два новых канала привлечения трафика, что позволит привлекать на 30% больше пользователей   \n",
       "1                                     Запустить собственную службу доставки, что сократит срок доставки заказов   \n",
       "2  Добавить блоки рекомендаций товаров на сайт интернет магазина, чтобы повысить конверсию и средний чек заказа   \n",
       "3           Изменить структура категорий, что увеличит конверсию, т.к. пользователи быстрее найдут нужный товар   \n",
       "4                              Изменить цвет фона главной страницы, чтобы увеличить вовлеченность пользователей   \n",
       "\n",
       "   Reach  Impact  Confidence  Efforts  \n",
       "0      3      10           8        6  \n",
       "1      2       5           4       10  \n",
       "2      8       3           7        3  \n",
       "3      8       3           3        8  \n",
       "4      3       1           1        1  "
      ]
     },
     "metadata": {},
     "output_type": "display_data"
    },
    {
     "name": "stdout",
     "output_type": "stream",
     "text": [
      "duplicated\n"
     ]
    },
    {
     "data": {
      "text/plain": [
       "0"
      ]
     },
     "metadata": {},
     "output_type": "display_data"
    }
   ],
   "source": [
    "first_rev(hypothesis)"
   ]
  },
  {
   "cell_type": "markdown",
   "id": "9e7085ba",
   "metadata": {},
   "source": [
    "#### 1.2.1 Вывод\n",
    "\n",
    "В файле hypothesis.csv 9 гипотез по увеличению выручки интернет-магазина с указанными параметрами `Reach`, `Impact`, `Confidence`, `Effort`.\n",
    "\n",
    "Согласно документации к данным:\n",
    "* `Hypothesis` — краткое описание гипотезы;\n",
    "* `Reach` — охват пользователей по 10-балльной шкале;\n",
    "* `Impact` — влияние на пользователей по 10-балльной шкале;\n",
    "* `Confidence` — уверенность в гипотезе по 10-балльной шкале;\n",
    "* `Efforts` — затраты ресурсов на проверку гипотезы по 10-балльной шкале. Чем больше значение Efforts, тем дороже проверка гипотезы.\n",
    "\n",
    "**Дополнительно:**\n",
    "* Нет пропусков значений.\n",
    "* Поменять стиль заголовков.\n",
    "* Не требуется изменение типа данных (небольшой объем памяти датафрейма)."
   ]
  },
  {
   "cell_type": "markdown",
   "id": "e30d575a",
   "metadata": {
    "id": "E0vqbgi9ay0H"
   },
   "source": [
    "### 1.3 Данные о заказах <a id=\"1.3\"></a>"
   ]
  },
  {
   "cell_type": "code",
   "execution_count": 5,
   "id": "bf85dabc",
   "metadata": {},
   "outputs": [],
   "source": [
    "orders = pd.read_csv(r\"C:\\Users\\csvic\\Desktop\\data analysis\\Я.Практикум\\Модуль 2\\Принятие решений в бизнесе\\orders.csv\")"
   ]
  },
  {
   "cell_type": "code",
   "execution_count": 6,
   "id": "18b99845",
   "metadata": {},
   "outputs": [
    {
     "name": "stdout",
     "output_type": "stream",
     "text": [
      "info\n",
      "<class 'pandas.core.frame.DataFrame'>\n",
      "RangeIndex: 1197 entries, 0 to 1196\n",
      "Data columns (total 5 columns):\n",
      " #   Column         Non-Null Count  Dtype \n",
      "---  ------         --------------  ----- \n",
      " 0   transactionId  1197 non-null   int64 \n",
      " 1   visitorId      1197 non-null   int64 \n",
      " 2   date           1197 non-null   object\n",
      " 3   revenue        1197 non-null   int64 \n",
      " 4   group          1197 non-null   object\n",
      "dtypes: int64(3), object(2)\n",
      "memory usage: 174.3 KB\n"
     ]
    },
    {
     "data": {
      "text/plain": [
       "None"
      ]
     },
     "metadata": {},
     "output_type": "display_data"
    },
    {
     "name": "stdout",
     "output_type": "stream",
     "text": [
      "describe\n"
     ]
    },
    {
     "data": {
      "text/html": [
       "<div>\n",
       "<style scoped>\n",
       "    .dataframe tbody tr th:only-of-type {\n",
       "        vertical-align: middle;\n",
       "    }\n",
       "\n",
       "    .dataframe tbody tr th {\n",
       "        vertical-align: top;\n",
       "    }\n",
       "\n",
       "    .dataframe thead th {\n",
       "        text-align: right;\n",
       "    }\n",
       "</style>\n",
       "<table border=\"1\" class=\"dataframe\">\n",
       "  <thead>\n",
       "    <tr style=\"text-align: right;\">\n",
       "      <th></th>\n",
       "      <th>count</th>\n",
       "      <th>mean</th>\n",
       "      <th>std</th>\n",
       "      <th>min</th>\n",
       "      <th>25%</th>\n",
       "      <th>50%</th>\n",
       "      <th>75%</th>\n",
       "      <th>max</th>\n",
       "    </tr>\n",
       "  </thead>\n",
       "  <tbody>\n",
       "    <tr>\n",
       "      <th>transactionId</th>\n",
       "      <td>1197.0</td>\n",
       "      <td>2.155621e+09</td>\n",
       "      <td>1.229085e+09</td>\n",
       "      <td>1062393.0</td>\n",
       "      <td>1.166776e+09</td>\n",
       "      <td>2.145194e+09</td>\n",
       "      <td>3.237740e+09</td>\n",
       "      <td>4.293856e+09</td>\n",
       "    </tr>\n",
       "    <tr>\n",
       "      <th>visitorId</th>\n",
       "      <td>1197.0</td>\n",
       "      <td>2.165960e+09</td>\n",
       "      <td>1.236014e+09</td>\n",
       "      <td>5114589.0</td>\n",
       "      <td>1.111826e+09</td>\n",
       "      <td>2.217985e+09</td>\n",
       "      <td>3.177606e+09</td>\n",
       "      <td>4.283872e+09</td>\n",
       "    </tr>\n",
       "    <tr>\n",
       "      <th>revenue</th>\n",
       "      <td>1197.0</td>\n",
       "      <td>8.348006e+03</td>\n",
       "      <td>3.919113e+04</td>\n",
       "      <td>50.0</td>\n",
       "      <td>1.220000e+03</td>\n",
       "      <td>2.978000e+03</td>\n",
       "      <td>8.290000e+03</td>\n",
       "      <td>1.294500e+06</td>\n",
       "    </tr>\n",
       "  </tbody>\n",
       "</table>\n",
       "</div>"
      ],
      "text/plain": [
       "                count          mean           std        min           25%  \\\n",
       "transactionId  1197.0  2.155621e+09  1.229085e+09  1062393.0  1.166776e+09   \n",
       "visitorId      1197.0  2.165960e+09  1.236014e+09  5114589.0  1.111826e+09   \n",
       "revenue        1197.0  8.348006e+03  3.919113e+04       50.0  1.220000e+03   \n",
       "\n",
       "                        50%           75%           max  \n",
       "transactionId  2.145194e+09  3.237740e+09  4.293856e+09  \n",
       "visitorId      2.217985e+09  3.177606e+09  4.283872e+09  \n",
       "revenue        2.978000e+03  8.290000e+03  1.294500e+06  "
      ]
     },
     "metadata": {},
     "output_type": "display_data"
    },
    {
     "name": "stdout",
     "output_type": "stream",
     "text": [
      "head\n"
     ]
    },
    {
     "data": {
      "text/html": [
       "<div>\n",
       "<style scoped>\n",
       "    .dataframe tbody tr th:only-of-type {\n",
       "        vertical-align: middle;\n",
       "    }\n",
       "\n",
       "    .dataframe tbody tr th {\n",
       "        vertical-align: top;\n",
       "    }\n",
       "\n",
       "    .dataframe thead th {\n",
       "        text-align: right;\n",
       "    }\n",
       "</style>\n",
       "<table border=\"1\" class=\"dataframe\">\n",
       "  <thead>\n",
       "    <tr style=\"text-align: right;\">\n",
       "      <th></th>\n",
       "      <th>transactionId</th>\n",
       "      <th>visitorId</th>\n",
       "      <th>date</th>\n",
       "      <th>revenue</th>\n",
       "      <th>group</th>\n",
       "    </tr>\n",
       "  </thead>\n",
       "  <tbody>\n",
       "    <tr>\n",
       "      <th>0</th>\n",
       "      <td>3667963787</td>\n",
       "      <td>3312258926</td>\n",
       "      <td>2019-08-15</td>\n",
       "      <td>1650</td>\n",
       "      <td>B</td>\n",
       "    </tr>\n",
       "    <tr>\n",
       "      <th>1</th>\n",
       "      <td>2804400009</td>\n",
       "      <td>3642806036</td>\n",
       "      <td>2019-08-15</td>\n",
       "      <td>730</td>\n",
       "      <td>B</td>\n",
       "    </tr>\n",
       "    <tr>\n",
       "      <th>2</th>\n",
       "      <td>2961555356</td>\n",
       "      <td>4069496402</td>\n",
       "      <td>2019-08-15</td>\n",
       "      <td>400</td>\n",
       "      <td>A</td>\n",
       "    </tr>\n",
       "    <tr>\n",
       "      <th>3</th>\n",
       "      <td>3797467345</td>\n",
       "      <td>1196621759</td>\n",
       "      <td>2019-08-15</td>\n",
       "      <td>9759</td>\n",
       "      <td>B</td>\n",
       "    </tr>\n",
       "    <tr>\n",
       "      <th>4</th>\n",
       "      <td>2282983706</td>\n",
       "      <td>2322279887</td>\n",
       "      <td>2019-08-15</td>\n",
       "      <td>2308</td>\n",
       "      <td>B</td>\n",
       "    </tr>\n",
       "  </tbody>\n",
       "</table>\n",
       "</div>"
      ],
      "text/plain": [
       "   transactionId   visitorId        date  revenue group\n",
       "0     3667963787  3312258926  2019-08-15     1650     B\n",
       "1     2804400009  3642806036  2019-08-15      730     B\n",
       "2     2961555356  4069496402  2019-08-15      400     A\n",
       "3     3797467345  1196621759  2019-08-15     9759     B\n",
       "4     2282983706  2322279887  2019-08-15     2308     B"
      ]
     },
     "metadata": {},
     "output_type": "display_data"
    },
    {
     "name": "stdout",
     "output_type": "stream",
     "text": [
      "duplicated\n"
     ]
    },
    {
     "data": {
      "text/plain": [
       "0"
      ]
     },
     "metadata": {},
     "output_type": "display_data"
    }
   ],
   "source": [
    "first_rev(orders)"
   ]
  },
  {
   "cell_type": "code",
   "execution_count": 7,
   "id": "94f07dce",
   "metadata": {},
   "outputs": [
    {
     "data": {
      "text/plain": [
       "'2019-08-01'"
      ]
     },
     "execution_count": 7,
     "metadata": {},
     "output_type": "execute_result"
    }
   ],
   "source": [
    "orders['date'].min()"
   ]
  },
  {
   "cell_type": "code",
   "execution_count": 8,
   "id": "fc655f57",
   "metadata": {},
   "outputs": [
    {
     "data": {
      "text/plain": [
       "'2019-08-31'"
      ]
     },
     "execution_count": 8,
     "metadata": {},
     "output_type": "execute_result"
    }
   ],
   "source": [
    "orders['date'].max()"
   ]
  },
  {
   "cell_type": "markdown",
   "id": "2f5e048f",
   "metadata": {},
   "source": [
    "#### 1.3.1 Вывод\n",
    "\n",
    "Согласно документации к данным:\n",
    "* `transactionId` — идентификатор заказа;\n",
    "* `visitorId` — идентификатор пользователя, совершившего заказ;\n",
    "* `date` — дата, когда был совершён заказ;\n",
    "* `revenue` — выручка заказа;\n",
    "* `group` — группа A/B-теста, в которую попал заказ.\n",
    "\n",
    "**Дополнительно:**\n",
    "* Нет пропусков значений.\n",
    "* Не требуется изменение типа данных (небольшой объем памяти датафрейма), кроме колонки `date`."
   ]
  },
  {
   "cell_type": "markdown",
   "id": "b4e08d6c",
   "metadata": {
    "id": "E0vqbgi9ay0H"
   },
   "source": [
    "### 1.4 Данные о пользователях <a id=\"1.4\"></a>"
   ]
  },
  {
   "cell_type": "code",
   "execution_count": 9,
   "id": "04195f63",
   "metadata": {},
   "outputs": [],
   "source": [
    "visitors = pd.read_csv(r\"C:\\Users\\csvic\\Desktop\\data analysis\\Я.Практикум\\Модуль 2\\Принятие решений в бизнесе\\visitors.csv\")"
   ]
  },
  {
   "cell_type": "code",
   "execution_count": 10,
   "id": "8ce8d17a",
   "metadata": {},
   "outputs": [
    {
     "name": "stdout",
     "output_type": "stream",
     "text": [
      "info\n",
      "<class 'pandas.core.frame.DataFrame'>\n",
      "RangeIndex: 62 entries, 0 to 61\n",
      "Data columns (total 3 columns):\n",
      " #   Column    Non-Null Count  Dtype \n",
      "---  ------    --------------  ----- \n",
      " 0   date      62 non-null     object\n",
      " 1   group     62 non-null     object\n",
      " 2   visitors  62 non-null     int64 \n",
      "dtypes: int64(1), object(2)\n",
      "memory usage: 8.2 KB\n"
     ]
    },
    {
     "data": {
      "text/plain": [
       "None"
      ]
     },
     "metadata": {},
     "output_type": "display_data"
    },
    {
     "name": "stdout",
     "output_type": "stream",
     "text": [
      "describe\n"
     ]
    },
    {
     "data": {
      "text/html": [
       "<div>\n",
       "<style scoped>\n",
       "    .dataframe tbody tr th:only-of-type {\n",
       "        vertical-align: middle;\n",
       "    }\n",
       "\n",
       "    .dataframe tbody tr th {\n",
       "        vertical-align: top;\n",
       "    }\n",
       "\n",
       "    .dataframe thead th {\n",
       "        text-align: right;\n",
       "    }\n",
       "</style>\n",
       "<table border=\"1\" class=\"dataframe\">\n",
       "  <thead>\n",
       "    <tr style=\"text-align: right;\">\n",
       "      <th></th>\n",
       "      <th>count</th>\n",
       "      <th>mean</th>\n",
       "      <th>std</th>\n",
       "      <th>min</th>\n",
       "      <th>25%</th>\n",
       "      <th>50%</th>\n",
       "      <th>75%</th>\n",
       "      <th>max</th>\n",
       "    </tr>\n",
       "  </thead>\n",
       "  <tbody>\n",
       "    <tr>\n",
       "      <th>visitors</th>\n",
       "      <td>62.0</td>\n",
       "      <td>607.29</td>\n",
       "      <td>114.401</td>\n",
       "      <td>361.0</td>\n",
       "      <td>534.0</td>\n",
       "      <td>624.5</td>\n",
       "      <td>710.5</td>\n",
       "      <td>770.0</td>\n",
       "    </tr>\n",
       "  </tbody>\n",
       "</table>\n",
       "</div>"
      ],
      "text/plain": [
       "          count    mean      std    min    25%    50%    75%    max\n",
       "visitors   62.0  607.29  114.401  361.0  534.0  624.5  710.5  770.0"
      ]
     },
     "metadata": {},
     "output_type": "display_data"
    },
    {
     "name": "stdout",
     "output_type": "stream",
     "text": [
      "head\n"
     ]
    },
    {
     "data": {
      "text/html": [
       "<div>\n",
       "<style scoped>\n",
       "    .dataframe tbody tr th:only-of-type {\n",
       "        vertical-align: middle;\n",
       "    }\n",
       "\n",
       "    .dataframe tbody tr th {\n",
       "        vertical-align: top;\n",
       "    }\n",
       "\n",
       "    .dataframe thead th {\n",
       "        text-align: right;\n",
       "    }\n",
       "</style>\n",
       "<table border=\"1\" class=\"dataframe\">\n",
       "  <thead>\n",
       "    <tr style=\"text-align: right;\">\n",
       "      <th></th>\n",
       "      <th>date</th>\n",
       "      <th>group</th>\n",
       "      <th>visitors</th>\n",
       "    </tr>\n",
       "  </thead>\n",
       "  <tbody>\n",
       "    <tr>\n",
       "      <th>0</th>\n",
       "      <td>2019-08-01</td>\n",
       "      <td>A</td>\n",
       "      <td>719</td>\n",
       "    </tr>\n",
       "    <tr>\n",
       "      <th>1</th>\n",
       "      <td>2019-08-02</td>\n",
       "      <td>A</td>\n",
       "      <td>619</td>\n",
       "    </tr>\n",
       "    <tr>\n",
       "      <th>2</th>\n",
       "      <td>2019-08-03</td>\n",
       "      <td>A</td>\n",
       "      <td>507</td>\n",
       "    </tr>\n",
       "    <tr>\n",
       "      <th>3</th>\n",
       "      <td>2019-08-04</td>\n",
       "      <td>A</td>\n",
       "      <td>717</td>\n",
       "    </tr>\n",
       "    <tr>\n",
       "      <th>4</th>\n",
       "      <td>2019-08-05</td>\n",
       "      <td>A</td>\n",
       "      <td>756</td>\n",
       "    </tr>\n",
       "  </tbody>\n",
       "</table>\n",
       "</div>"
      ],
      "text/plain": [
       "         date group  visitors\n",
       "0  2019-08-01     A       719\n",
       "1  2019-08-02     A       619\n",
       "2  2019-08-03     A       507\n",
       "3  2019-08-04     A       717\n",
       "4  2019-08-05     A       756"
      ]
     },
     "metadata": {},
     "output_type": "display_data"
    },
    {
     "name": "stdout",
     "output_type": "stream",
     "text": [
      "duplicated\n"
     ]
    },
    {
     "data": {
      "text/plain": [
       "0"
      ]
     },
     "metadata": {},
     "output_type": "display_data"
    }
   ],
   "source": [
    "first_rev(visitors)"
   ]
  },
  {
   "cell_type": "code",
   "execution_count": 11,
   "id": "9339de00",
   "metadata": {},
   "outputs": [
    {
     "data": {
      "text/plain": [
       "'2019-08-01'"
      ]
     },
     "execution_count": 11,
     "metadata": {},
     "output_type": "execute_result"
    }
   ],
   "source": [
    "visitors['date'].min()"
   ]
  },
  {
   "cell_type": "code",
   "execution_count": 12,
   "id": "191adb5a",
   "metadata": {},
   "outputs": [
    {
     "data": {
      "text/plain": [
       "'2019-08-31'"
      ]
     },
     "execution_count": 12,
     "metadata": {},
     "output_type": "execute_result"
    }
   ],
   "source": [
    "visitors['date'].max()"
   ]
  },
  {
   "cell_type": "markdown",
   "id": "54a18bfc",
   "metadata": {},
   "source": [
    "#### 1.4.1 Вывод\n",
    "\n",
    "Согласно документации к данным:\n",
    "* `date` — дата;\n",
    "* `group` — группа A/B-теста;\n",
    "* `visitors` — количество пользователей в указанную дату в указанной группе A/B-теста.\n",
    "\n",
    "**Ремарки:**\n",
    "* Нет пропусков значений.\n",
    "* Не требуется изменение типа данных (небольшой объем памяти датафрейма), кроме колонки `date`."
   ]
  },
  {
   "cell_type": "markdown",
   "id": "b0ddfeca",
   "metadata": {
    "id": "E0vqbgi9ay0H"
   },
   "source": [
    "## 2. Предобработка данных"
   ]
  },
  {
   "cell_type": "markdown",
   "id": "c658ca2e",
   "metadata": {},
   "source": [
    "### 2.1 Стиль заголовков  <a id=\"2.1\"></a>\n",
    "Изменим стиль заголовков у датафрейма с гипотезами."
   ]
  },
  {
   "cell_type": "code",
   "execution_count": 13,
   "id": "33ef959f",
   "metadata": {},
   "outputs": [],
   "source": [
    "hypothesis.columns = [x.lower().replace(' ', '_') for x in hypothesis.columns]"
   ]
  },
  {
   "cell_type": "code",
   "execution_count": 14,
   "id": "2491c041",
   "metadata": {},
   "outputs": [
    {
     "data": {
      "text/plain": [
       "Index(['hypothesis', 'reach', 'impact', 'confidence', 'efforts'], dtype='object')"
      ]
     },
     "execution_count": 14,
     "metadata": {},
     "output_type": "execute_result"
    }
   ],
   "source": [
    "hypothesis.columns"
   ]
  },
  {
   "cell_type": "markdown",
   "id": "7224efa2",
   "metadata": {},
   "source": [
    "#### 2.1.1 Вывод\n",
    "Привели стиль заголовков к корректному виду."
   ]
  },
  {
   "cell_type": "markdown",
   "id": "e83f00a3",
   "metadata": {},
   "source": [
    "### 2.2 Тип данных  <a id=\"2.2\"></a>\n",
    "Изменим колонки с датами с типа object на date."
   ]
  },
  {
   "cell_type": "code",
   "execution_count": 15,
   "id": "b38c91cd",
   "metadata": {},
   "outputs": [],
   "source": [
    "orders['date'] = orders['date'].map(lambda x: dt.datetime.strptime(x, '%Y-%m-%d'))"
   ]
  },
  {
   "cell_type": "code",
   "execution_count": 16,
   "id": "50624261",
   "metadata": {},
   "outputs": [],
   "source": [
    "visitors['date'] = visitors['date'].map(lambda x: dt.datetime.strptime(x, '%Y-%m-%d'))"
   ]
  },
  {
   "cell_type": "markdown",
   "id": "75f40e54",
   "metadata": {},
   "source": [
    "#### 2.2.1 Вывод\n",
    "Изменили тип данных с типа object на date для датафрейма с Заказами и Пользователями."
   ]
  },
  {
   "cell_type": "markdown",
   "id": "c244ab18",
   "metadata": {},
   "source": [
    "### 2.3 Проверка на нормальность  <a id=\"2.3\"></a>\n",
    "Проверка неявных дубликатов и выбивающихся значений."
   ]
  },
  {
   "cell_type": "markdown",
   "id": "c4c12c78",
   "metadata": {},
   "source": [
    "**Визиты**"
   ]
  },
  {
   "cell_type": "code",
   "execution_count": 17,
   "id": "d346ce7e",
   "metadata": {},
   "outputs": [
    {
     "data": {
      "text/plain": [
       "B    640\n",
       "A    557\n",
       "Name: group, dtype: int64"
      ]
     },
     "execution_count": 17,
     "metadata": {},
     "output_type": "execute_result"
    }
   ],
   "source": [
    "orders['group'].value_counts()"
   ]
  },
  {
   "cell_type": "code",
   "execution_count": 18,
   "id": "e27d8537",
   "metadata": {},
   "outputs": [
    {
     "data": {
      "text/plain": [
       "A    31\n",
       "B    31\n",
       "Name: group, dtype: int64"
      ]
     },
     "execution_count": 18,
     "metadata": {},
     "output_type": "execute_result"
    }
   ],
   "source": [
    "visitors['group'].value_counts()"
   ]
  },
  {
   "cell_type": "markdown",
   "id": "de729092",
   "metadata": {},
   "source": [
    "#### 2.3.1 Вывод\n",
    "Выбивающихся значений и неявных дубликатов не обнаружено."
   ]
  },
  {
   "cell_type": "markdown",
   "id": "d9ff27d6",
   "metadata": {
    "id": "E0vqbgi9ay0H"
   },
   "source": [
    "## 3. Приоритизация гипотез\n",
    "\n",
    "У нас есть 9 гипотез, которые нужно приоритетезировать. Используем способы ICE и RICE для приоритезации"
   ]
  },
  {
   "cell_type": "code",
   "execution_count": 19,
   "id": "1678bbf7",
   "metadata": {},
   "outputs": [
    {
     "data": {
      "text/html": [
       "<div>\n",
       "<style scoped>\n",
       "    .dataframe tbody tr th:only-of-type {\n",
       "        vertical-align: middle;\n",
       "    }\n",
       "\n",
       "    .dataframe tbody tr th {\n",
       "        vertical-align: top;\n",
       "    }\n",
       "\n",
       "    .dataframe thead th {\n",
       "        text-align: right;\n",
       "    }\n",
       "</style>\n",
       "<table border=\"1\" class=\"dataframe\">\n",
       "  <thead>\n",
       "    <tr style=\"text-align: right;\">\n",
       "      <th></th>\n",
       "      <th>hypothesis</th>\n",
       "      <th>reach</th>\n",
       "      <th>impact</th>\n",
       "      <th>confidence</th>\n",
       "      <th>efforts</th>\n",
       "    </tr>\n",
       "  </thead>\n",
       "  <tbody>\n",
       "    <tr>\n",
       "      <th>0</th>\n",
       "      <td>Добавить два новых канала привлечения трафика, что позволит привлекать на 30% больше пользователей</td>\n",
       "      <td>3</td>\n",
       "      <td>10</td>\n",
       "      <td>8</td>\n",
       "      <td>6</td>\n",
       "    </tr>\n",
       "    <tr>\n",
       "      <th>1</th>\n",
       "      <td>Запустить собственную службу доставки, что сократит срок доставки заказов</td>\n",
       "      <td>2</td>\n",
       "      <td>5</td>\n",
       "      <td>4</td>\n",
       "      <td>10</td>\n",
       "    </tr>\n",
       "    <tr>\n",
       "      <th>2</th>\n",
       "      <td>Добавить блоки рекомендаций товаров на сайт интернет магазина, чтобы повысить конверсию и средний чек заказа</td>\n",
       "      <td>8</td>\n",
       "      <td>3</td>\n",
       "      <td>7</td>\n",
       "      <td>3</td>\n",
       "    </tr>\n",
       "    <tr>\n",
       "      <th>3</th>\n",
       "      <td>Изменить структура категорий, что увеличит конверсию, т.к. пользователи быстрее найдут нужный товар</td>\n",
       "      <td>8</td>\n",
       "      <td>3</td>\n",
       "      <td>3</td>\n",
       "      <td>8</td>\n",
       "    </tr>\n",
       "    <tr>\n",
       "      <th>4</th>\n",
       "      <td>Изменить цвет фона главной страницы, чтобы увеличить вовлеченность пользователей</td>\n",
       "      <td>3</td>\n",
       "      <td>1</td>\n",
       "      <td>1</td>\n",
       "      <td>1</td>\n",
       "    </tr>\n",
       "    <tr>\n",
       "      <th>5</th>\n",
       "      <td>Добавить страницу отзывов клиентов о магазине, что позволит увеличить количество заказов</td>\n",
       "      <td>3</td>\n",
       "      <td>2</td>\n",
       "      <td>2</td>\n",
       "      <td>3</td>\n",
       "    </tr>\n",
       "    <tr>\n",
       "      <th>6</th>\n",
       "      <td>Показать на главной странице баннеры с актуальными акциями и распродажами, чтобы увеличить конверсию</td>\n",
       "      <td>5</td>\n",
       "      <td>3</td>\n",
       "      <td>8</td>\n",
       "      <td>3</td>\n",
       "    </tr>\n",
       "    <tr>\n",
       "      <th>7</th>\n",
       "      <td>Добавить форму подписки на все основные страницы, чтобы собрать базу клиентов для email-рассылок</td>\n",
       "      <td>10</td>\n",
       "      <td>7</td>\n",
       "      <td>8</td>\n",
       "      <td>5</td>\n",
       "    </tr>\n",
       "    <tr>\n",
       "      <th>8</th>\n",
       "      <td>Запустить акцию, дающую скидку на товар в день рождения</td>\n",
       "      <td>1</td>\n",
       "      <td>9</td>\n",
       "      <td>9</td>\n",
       "      <td>5</td>\n",
       "    </tr>\n",
       "  </tbody>\n",
       "</table>\n",
       "</div>"
      ],
      "text/plain": [
       "                                                                                                     hypothesis  \\\n",
       "0            Добавить два новых канала привлечения трафика, что позволит привлекать на 30% больше пользователей   \n",
       "1                                     Запустить собственную службу доставки, что сократит срок доставки заказов   \n",
       "2  Добавить блоки рекомендаций товаров на сайт интернет магазина, чтобы повысить конверсию и средний чек заказа   \n",
       "3           Изменить структура категорий, что увеличит конверсию, т.к. пользователи быстрее найдут нужный товар   \n",
       "4                              Изменить цвет фона главной страницы, чтобы увеличить вовлеченность пользователей   \n",
       "5                      Добавить страницу отзывов клиентов о магазине, что позволит увеличить количество заказов   \n",
       "6          Показать на главной странице баннеры с актуальными акциями и распродажами, чтобы увеличить конверсию   \n",
       "7              Добавить форму подписки на все основные страницы, чтобы собрать базу клиентов для email-рассылок   \n",
       "8                                                       Запустить акцию, дающую скидку на товар в день рождения   \n",
       "\n",
       "   reach  impact  confidence  efforts  \n",
       "0      3      10           8        6  \n",
       "1      2       5           4       10  \n",
       "2      8       3           7        3  \n",
       "3      8       3           3        8  \n",
       "4      3       1           1        1  \n",
       "5      3       2           2        3  \n",
       "6      5       3           8        3  \n",
       "7     10       7           8        5  \n",
       "8      1       9           9        5  "
      ]
     },
     "execution_count": 19,
     "metadata": {},
     "output_type": "execute_result"
    }
   ],
   "source": [
    "hypothesis"
   ]
  },
  {
   "cell_type": "markdown",
   "id": "0b107ee7",
   "metadata": {},
   "source": [
    "### 3.1 ICE  <a id=\"3.1\"></a>"
   ]
  },
  {
   "cell_type": "code",
   "execution_count": 20,
   "id": "19ceed80",
   "metadata": {},
   "outputs": [],
   "source": [
    "hypothesis['ice'] = hypothesis['impact'] * hypothesis['confidence'] / hypothesis['efforts']"
   ]
  },
  {
   "cell_type": "code",
   "execution_count": 21,
   "id": "ef8eec16",
   "metadata": {},
   "outputs": [
    {
     "data": {
      "text/html": [
       "<div>\n",
       "<style scoped>\n",
       "    .dataframe tbody tr th:only-of-type {\n",
       "        vertical-align: middle;\n",
       "    }\n",
       "\n",
       "    .dataframe tbody tr th {\n",
       "        vertical-align: top;\n",
       "    }\n",
       "\n",
       "    .dataframe thead th {\n",
       "        text-align: right;\n",
       "    }\n",
       "</style>\n",
       "<table border=\"1\" class=\"dataframe\">\n",
       "  <thead>\n",
       "    <tr style=\"text-align: right;\">\n",
       "      <th></th>\n",
       "      <th>hypothesis</th>\n",
       "      <th>ice</th>\n",
       "    </tr>\n",
       "  </thead>\n",
       "  <tbody>\n",
       "    <tr>\n",
       "      <th>8</th>\n",
       "      <td>Запустить акцию, дающую скидку на товар в день рождения</td>\n",
       "      <td>16.200000</td>\n",
       "    </tr>\n",
       "    <tr>\n",
       "      <th>0</th>\n",
       "      <td>Добавить два новых канала привлечения трафика, что позволит привлекать на 30% больше пользователей</td>\n",
       "      <td>13.333333</td>\n",
       "    </tr>\n",
       "    <tr>\n",
       "      <th>7</th>\n",
       "      <td>Добавить форму подписки на все основные страницы, чтобы собрать базу клиентов для email-рассылок</td>\n",
       "      <td>11.200000</td>\n",
       "    </tr>\n",
       "    <tr>\n",
       "      <th>6</th>\n",
       "      <td>Показать на главной странице баннеры с актуальными акциями и распродажами, чтобы увеличить конверсию</td>\n",
       "      <td>8.000000</td>\n",
       "    </tr>\n",
       "    <tr>\n",
       "      <th>2</th>\n",
       "      <td>Добавить блоки рекомендаций товаров на сайт интернет магазина, чтобы повысить конверсию и средний чек заказа</td>\n",
       "      <td>7.000000</td>\n",
       "    </tr>\n",
       "    <tr>\n",
       "      <th>1</th>\n",
       "      <td>Запустить собственную службу доставки, что сократит срок доставки заказов</td>\n",
       "      <td>2.000000</td>\n",
       "    </tr>\n",
       "    <tr>\n",
       "      <th>5</th>\n",
       "      <td>Добавить страницу отзывов клиентов о магазине, что позволит увеличить количество заказов</td>\n",
       "      <td>1.333333</td>\n",
       "    </tr>\n",
       "    <tr>\n",
       "      <th>3</th>\n",
       "      <td>Изменить структура категорий, что увеличит конверсию, т.к. пользователи быстрее найдут нужный товар</td>\n",
       "      <td>1.125000</td>\n",
       "    </tr>\n",
       "    <tr>\n",
       "      <th>4</th>\n",
       "      <td>Изменить цвет фона главной страницы, чтобы увеличить вовлеченность пользователей</td>\n",
       "      <td>1.000000</td>\n",
       "    </tr>\n",
       "  </tbody>\n",
       "</table>\n",
       "</div>"
      ],
      "text/plain": [
       "                                                                                                     hypothesis  \\\n",
       "8                                                       Запустить акцию, дающую скидку на товар в день рождения   \n",
       "0            Добавить два новых канала привлечения трафика, что позволит привлекать на 30% больше пользователей   \n",
       "7              Добавить форму подписки на все основные страницы, чтобы собрать базу клиентов для email-рассылок   \n",
       "6          Показать на главной странице баннеры с актуальными акциями и распродажами, чтобы увеличить конверсию   \n",
       "2  Добавить блоки рекомендаций товаров на сайт интернет магазина, чтобы повысить конверсию и средний чек заказа   \n",
       "1                                     Запустить собственную службу доставки, что сократит срок доставки заказов   \n",
       "5                      Добавить страницу отзывов клиентов о магазине, что позволит увеличить количество заказов   \n",
       "3           Изменить структура категорий, что увеличит конверсию, т.к. пользователи быстрее найдут нужный товар   \n",
       "4                              Изменить цвет фона главной страницы, чтобы увеличить вовлеченность пользователей   \n",
       "\n",
       "         ice  \n",
       "8  16.200000  \n",
       "0  13.333333  \n",
       "7  11.200000  \n",
       "6   8.000000  \n",
       "2   7.000000  \n",
       "1   2.000000  \n",
       "5   1.333333  \n",
       "3   1.125000  \n",
       "4   1.000000  "
      ]
     },
     "execution_count": 21,
     "metadata": {},
     "output_type": "execute_result"
    }
   ],
   "source": [
    "hypothesis[['hypothesis', 'ice']].sort_values(by='ice', ascending=False)"
   ]
  },
  {
   "cell_type": "markdown",
   "id": "a1127944",
   "metadata": {},
   "source": [
    "### 3.2 RICE  <a id=\"3.2\"></a>"
   ]
  },
  {
   "cell_type": "code",
   "execution_count": 22,
   "id": "03cfb295",
   "metadata": {},
   "outputs": [],
   "source": [
    "hypothesis['rice'] = hypothesis['reach'] * hypothesis['impact'] * hypothesis['confidence'] / hypothesis['efforts']"
   ]
  },
  {
   "cell_type": "code",
   "execution_count": 23,
   "id": "8d19c5ab",
   "metadata": {},
   "outputs": [
    {
     "data": {
      "text/html": [
       "<div>\n",
       "<style scoped>\n",
       "    .dataframe tbody tr th:only-of-type {\n",
       "        vertical-align: middle;\n",
       "    }\n",
       "\n",
       "    .dataframe tbody tr th {\n",
       "        vertical-align: top;\n",
       "    }\n",
       "\n",
       "    .dataframe thead th {\n",
       "        text-align: right;\n",
       "    }\n",
       "</style>\n",
       "<table border=\"1\" class=\"dataframe\">\n",
       "  <thead>\n",
       "    <tr style=\"text-align: right;\">\n",
       "      <th></th>\n",
       "      <th>hypothesis</th>\n",
       "      <th>rice</th>\n",
       "    </tr>\n",
       "  </thead>\n",
       "  <tbody>\n",
       "    <tr>\n",
       "      <th>7</th>\n",
       "      <td>Добавить форму подписки на все основные страницы, чтобы собрать базу клиентов для email-рассылок</td>\n",
       "      <td>112.0</td>\n",
       "    </tr>\n",
       "    <tr>\n",
       "      <th>2</th>\n",
       "      <td>Добавить блоки рекомендаций товаров на сайт интернет магазина, чтобы повысить конверсию и средний чек заказа</td>\n",
       "      <td>56.0</td>\n",
       "    </tr>\n",
       "    <tr>\n",
       "      <th>0</th>\n",
       "      <td>Добавить два новых канала привлечения трафика, что позволит привлекать на 30% больше пользователей</td>\n",
       "      <td>40.0</td>\n",
       "    </tr>\n",
       "    <tr>\n",
       "      <th>6</th>\n",
       "      <td>Показать на главной странице баннеры с актуальными акциями и распродажами, чтобы увеличить конверсию</td>\n",
       "      <td>40.0</td>\n",
       "    </tr>\n",
       "    <tr>\n",
       "      <th>8</th>\n",
       "      <td>Запустить акцию, дающую скидку на товар в день рождения</td>\n",
       "      <td>16.2</td>\n",
       "    </tr>\n",
       "    <tr>\n",
       "      <th>3</th>\n",
       "      <td>Изменить структура категорий, что увеличит конверсию, т.к. пользователи быстрее найдут нужный товар</td>\n",
       "      <td>9.0</td>\n",
       "    </tr>\n",
       "    <tr>\n",
       "      <th>1</th>\n",
       "      <td>Запустить собственную службу доставки, что сократит срок доставки заказов</td>\n",
       "      <td>4.0</td>\n",
       "    </tr>\n",
       "    <tr>\n",
       "      <th>5</th>\n",
       "      <td>Добавить страницу отзывов клиентов о магазине, что позволит увеличить количество заказов</td>\n",
       "      <td>4.0</td>\n",
       "    </tr>\n",
       "    <tr>\n",
       "      <th>4</th>\n",
       "      <td>Изменить цвет фона главной страницы, чтобы увеличить вовлеченность пользователей</td>\n",
       "      <td>3.0</td>\n",
       "    </tr>\n",
       "  </tbody>\n",
       "</table>\n",
       "</div>"
      ],
      "text/plain": [
       "                                                                                                     hypothesis  \\\n",
       "7              Добавить форму подписки на все основные страницы, чтобы собрать базу клиентов для email-рассылок   \n",
       "2  Добавить блоки рекомендаций товаров на сайт интернет магазина, чтобы повысить конверсию и средний чек заказа   \n",
       "0            Добавить два новых канала привлечения трафика, что позволит привлекать на 30% больше пользователей   \n",
       "6          Показать на главной странице баннеры с актуальными акциями и распродажами, чтобы увеличить конверсию   \n",
       "8                                                       Запустить акцию, дающую скидку на товар в день рождения   \n",
       "3           Изменить структура категорий, что увеличит конверсию, т.к. пользователи быстрее найдут нужный товар   \n",
       "1                                     Запустить собственную службу доставки, что сократит срок доставки заказов   \n",
       "5                      Добавить страницу отзывов клиентов о магазине, что позволит увеличить количество заказов   \n",
       "4                              Изменить цвет фона главной страницы, чтобы увеличить вовлеченность пользователей   \n",
       "\n",
       "    rice  \n",
       "7  112.0  \n",
       "2   56.0  \n",
       "0   40.0  \n",
       "6   40.0  \n",
       "8   16.2  \n",
       "3    9.0  \n",
       "1    4.0  \n",
       "5    4.0  \n",
       "4    3.0  "
      ]
     },
     "execution_count": 23,
     "metadata": {},
     "output_type": "execute_result"
    }
   ],
   "source": [
    "hypothesis[['hypothesis', 'rice']].sort_values(by='rice', ascending=False)"
   ]
  },
  {
   "cell_type": "markdown",
   "id": "9daf5362",
   "metadata": {},
   "source": [
    "### 3.3 Вывод\n",
    "При оценке раз мы добавляли параметр охвата пользователей (Reach), поэтому финальные значения RICE могут кратно превосходить значения ICE.\n",
    "\n",
    "По результатам ICE топ-3 гипотезы:\n",
    "1. Запустить акцию, дающую скидку на товар в день рождения.\n",
    "2. <font color='green'>Добавить два новых канала привлечения трафика, что позволит привлекать на 30% больше пользователей.</font>\n",
    "3. <font color='green'>Добавить форму подписки на все основные страницы, чтобы собрать базу клиентов для email-рассылок.</font>\n",
    "\n",
    "По результатам RICE топ-3 гипотезы:\n",
    "1. <font color='green'>Добавить форму подписки на все основные страницы, чтобы собрать базу клиентов для email-рассылок.</font>\n",
    "2. Добавить блоки рекомендаций товаров на сайт интернет магазина, чтобы повысить конверсию и средний чек заказа.\n",
    "3. <font color='green'>Добавить два новых канала привлечения трафика, что позволит привлекать на 30% больше пользователей.</font>\n",
    "\n",
    "**Рекомендую брать в работу 2 гипотезы (в порядке приоритета):**\n",
    "1. Добавить форму подписки на все основные страницы, чтобы собрать базу клиентов для email-рассылок. \n",
    "2. Добавить два новых канала привлечения трафика, что позволит привлекать на 30% больше пользователей. (Небольшой охват, но максимальное влияние на пользователей.)\n",
    "\n",
    "\n",
    "Если останутся ресурсы, можно взять в работу гипотезы:\n",
    "1. Запустить акцию, дающую скидку на товар в день рождения. Недостаток гипотезы: низкий охват.\n",
    "2. Добавить блоки рекомендаций товаров на сайт интернет магазина, чтобы повысить конверсию и средний чек заказа. Недостаток гипотезы: низкое влияние."
   ]
  },
  {
   "cell_type": "markdown",
   "id": "a8914e83",
   "metadata": {
    "id": "E0vqbgi9ay0H"
   },
   "source": [
    "## 4. Анализ A/B-теста <a id=\"4\"></a>\n",
    "\n",
    "Проверим результаты гипотезу о том, что добавление блоков рекомендаций товаров на сайте интернет-магазина повысит конверсию и средний чек заказа (проверяем эту гипотезу, так как у нас в распоряжении данные, достаточные для проверки этой гипотезы).\n",
    "\n",
    "Анализ конверсии:\n",
    "* **H₀:** Добавление блоков рекомендаций товаров на сайте интернет-магазина не изменит конверсию заказа.\n",
    "* **H₁:** Добавление блоков рекомендаций товаров на сайте интернет-магазина изменит конверсию заказа.\n",
    "\n",
    "Анализ среднего чека:\n",
    "* **H₀:** Добавление блоков рекомендаций товаров на сайте интернет-магазина не изменит средний чек заказа.\n",
    "* **H₁:** Добавление блоков рекомендаций товаров на сайте интернет-магазина изменит средний чек заказа.\n",
    "\n",
    "**Пороговое значение alpha:** 0.05"
   ]
  },
  {
   "cell_type": "markdown",
   "id": "6de0409f",
   "metadata": {
    "id": "E0vqbgi9ay0H"
   },
   "source": [
    "### 4.1 Анализ \"сырых\" данных <a id=\"4.1\"></a>"
   ]
  },
  {
   "cell_type": "markdown",
   "id": "24e96ef0",
   "metadata": {
    "id": "E0vqbgi9ay0H"
   },
   "source": [
    "#### 4.1.1 Анализ кумулятивных данных <a id=\"4.1.1\"></a>"
   ]
  },
  {
   "cell_type": "markdown",
   "id": "097e0433",
   "metadata": {},
   "source": [
    "**Анализ кумулятивных данных по выручке**"
   ]
  },
  {
   "cell_type": "code",
   "execution_count": 24,
   "id": "48b54f16",
   "metadata": {},
   "outputs": [],
   "source": [
    "# датафрейм с уникальными парами значений 'date' и 'group', таблицы orders\n",
    "datesGroups = orders[['date','group']].drop_duplicates()"
   ]
  },
  {
   "cell_type": "code",
   "execution_count": 25,
   "id": "b5ca7259",
   "metadata": {},
   "outputs": [],
   "source": [
    "# датафрейм с уникальными заказами и пользователями на каждую группу с суммарной выручкой заказов\n",
    "ordersAggregated = datesGroups.apply(\n",
    "    lambda x: orders[np.logical_and(\n",
    "        orders['date'] <= x['date'],\n",
    "        orders['group'] == x['group']\n",
    "    )]\n",
    "    .agg(\n",
    "        {'date' : 'max',\n",
    "         'group' : 'max',\n",
    "         'transactionId' : 'nunique',\n",
    "         'visitorId' : 'nunique',\n",
    "         'revenue' : 'sum'}\n",
    "    ), axis=1\n",
    ").sort_values(by=['date','group'])"
   ]
  },
  {
   "cell_type": "code",
   "execution_count": 26,
   "id": "fff6fa44",
   "metadata": {},
   "outputs": [],
   "source": [
    "# датафрейм с количеством уникальных пользователяй на каждую группу\n",
    "visitorsAggregated = datesGroups.apply(\n",
    "    lambda x: visitors[np.logical_and(\n",
    "        visitors['date'] <= x['date'], visitors['group'] == x['group']\n",
    "    )]\n",
    "    .agg(\n",
    "        {'date' : 'max',\n",
    "         'group' : 'max',\n",
    "         'visitors' : 'sum'}\n",
    "    ), axis=1\n",
    ").sort_values(by=['date','group'])"
   ]
  },
  {
   "cell_type": "code",
   "execution_count": 27,
   "id": "d7335010",
   "metadata": {},
   "outputs": [
    {
     "data": {
      "text/html": [
       "<div>\n",
       "<style scoped>\n",
       "    .dataframe tbody tr th:only-of-type {\n",
       "        vertical-align: middle;\n",
       "    }\n",
       "\n",
       "    .dataframe tbody tr th {\n",
       "        vertical-align: top;\n",
       "    }\n",
       "\n",
       "    .dataframe thead th {\n",
       "        text-align: right;\n",
       "    }\n",
       "</style>\n",
       "<table border=\"1\" class=\"dataframe\">\n",
       "  <thead>\n",
       "    <tr style=\"text-align: right;\">\n",
       "      <th></th>\n",
       "      <th>date</th>\n",
       "      <th>group</th>\n",
       "      <th>orders</th>\n",
       "      <th>buyers</th>\n",
       "      <th>revenue</th>\n",
       "      <th>visitors</th>\n",
       "    </tr>\n",
       "  </thead>\n",
       "  <tbody>\n",
       "    <tr>\n",
       "      <th>0</th>\n",
       "      <td>2019-08-01</td>\n",
       "      <td>A</td>\n",
       "      <td>24</td>\n",
       "      <td>20</td>\n",
       "      <td>148579</td>\n",
       "      <td>719</td>\n",
       "    </tr>\n",
       "    <tr>\n",
       "      <th>1</th>\n",
       "      <td>2019-08-01</td>\n",
       "      <td>B</td>\n",
       "      <td>21</td>\n",
       "      <td>20</td>\n",
       "      <td>101217</td>\n",
       "      <td>713</td>\n",
       "    </tr>\n",
       "    <tr>\n",
       "      <th>2</th>\n",
       "      <td>2019-08-02</td>\n",
       "      <td>A</td>\n",
       "      <td>44</td>\n",
       "      <td>38</td>\n",
       "      <td>242401</td>\n",
       "      <td>1338</td>\n",
       "    </tr>\n",
       "    <tr>\n",
       "      <th>3</th>\n",
       "      <td>2019-08-02</td>\n",
       "      <td>B</td>\n",
       "      <td>45</td>\n",
       "      <td>43</td>\n",
       "      <td>266748</td>\n",
       "      <td>1294</td>\n",
       "    </tr>\n",
       "    <tr>\n",
       "      <th>4</th>\n",
       "      <td>2019-08-03</td>\n",
       "      <td>A</td>\n",
       "      <td>68</td>\n",
       "      <td>62</td>\n",
       "      <td>354874</td>\n",
       "      <td>1845</td>\n",
       "    </tr>\n",
       "  </tbody>\n",
       "</table>\n",
       "</div>"
      ],
      "text/plain": [
       "        date group  orders  buyers  revenue  visitors\n",
       "0 2019-08-01     A      24      20   148579       719\n",
       "1 2019-08-01     B      21      20   101217       713\n",
       "2 2019-08-02     A      44      38   242401      1338\n",
       "3 2019-08-02     B      45      43   266748      1294\n",
       "4 2019-08-03     A      68      62   354874      1845"
      ]
     },
     "execution_count": 27,
     "metadata": {},
     "output_type": "execute_result"
    }
   ],
   "source": [
    "# общий датафрейм с кумулятивными данными о заказах и пользователях\n",
    "cumulativeData = ordersAggregated.merge(\n",
    "    visitorsAggregated, left_on=['date', 'group'], right_on=['date', 'group']\n",
    ")\n",
    "\n",
    "cumulativeData.columns = ['date', 'group', 'orders', 'buyers', 'revenue', 'visitors']\n",
    "cumulativeData.head()"
   ]
  },
  {
   "cell_type": "code",
   "execution_count": 28,
   "id": "cbef9a7f",
   "metadata": {},
   "outputs": [],
   "source": [
    "# датафрейм с кумулятивным количеством заказов и кумулятивной выручкой по дням в группе А\n",
    "cumulativeRevenueA = cumulativeData[cumulativeData['group']=='A'][['date','revenue', 'orders']]"
   ]
  },
  {
   "cell_type": "code",
   "execution_count": 29,
   "id": "36552188",
   "metadata": {},
   "outputs": [],
   "source": [
    "# датафрейм с кумулятивным количеством заказов и кумулятивной выручкой по дням в группе B\n",
    "cumulativeRevenueB = cumulativeData[cumulativeData['group']=='B'][['date','revenue', 'orders']]"
   ]
  },
  {
   "cell_type": "code",
   "execution_count": 30,
   "id": "c602d635",
   "metadata": {},
   "outputs": [
    {
     "data": {
      "image/png": "[encoded data removed]",
      "text/plain": [
       "<Figure size 1080x360 with 1 Axes>"
      ]
     },
     "metadata": {
      "needs_background": "light"
     },
     "output_type": "display_data"
    }
   ],
   "source": [
    "fig,ax = plt.subplots(figsize=(15, 5))\n",
    "plt.plot(cumulativeRevenueA['date'], cumulativeRevenueA['revenue'], label='A')\n",
    "plt.plot(cumulativeRevenueB['date'], cumulativeRevenueB['revenue'], label='B')\n",
    "plt.xticks(rotation=30)\n",
    "plt.xlabel('Дата')\n",
    "plt.ylabel('Выручка, руб.')\n",
    "plt.title('Кумулятивная выручка по группам А и В')\n",
    "plt.legend()\n",
    "plt.show()"
   ]
  },
  {
   "cell_type": "markdown",
   "id": "ccd3954a",
   "metadata": {},
   "source": [
    "**Вывод**\n",
    "\n",
    "Спустя 2 недели с начала теста видно, что повышение кумулятивной выручки группы B. Резкий скачок выручки на 3 неделе у группы B, скорее всего, связан с аномально дорогим заказом."
   ]
  },
  {
   "cell_type": "markdown",
   "id": "34251090",
   "metadata": {},
   "source": [
    "**Анализ кумулятивных данных по среднему чеку**"
   ]
  },
  {
   "cell_type": "code",
   "execution_count": 31,
   "id": "deef97ee",
   "metadata": {},
   "outputs": [
    {
     "data": {
      "image/png": "[encoded data removed]",
      "text/plain": [
       "<Figure size 1080x360 with 1 Axes>"
      ]
     },
     "metadata": {
      "needs_background": "light"
     },
     "output_type": "display_data"
    }
   ],
   "source": [
    "fig,ax = plt.subplots(figsize=(15, 5))\n",
    "plt.plot(cumulativeRevenueA['date'], cumulativeRevenueA['revenue']/cumulativeRevenueA['orders'], label='A')\n",
    "plt.plot(cumulativeRevenueB['date'], cumulativeRevenueB['revenue']/cumulativeRevenueB['orders'], label='B')\n",
    "plt.xticks(rotation=30)\n",
    "plt.xlabel('Дата')\n",
    "plt.ylabel('Средний чек, руб.')\n",
    "plt.title('Кумулятивный средний чек по группам А и В')\n",
    "plt.legend()\n",
    "plt.show()"
   ]
  },
  {
   "cell_type": "code",
   "execution_count": 32,
   "id": "15fac4b5",
   "metadata": {},
   "outputs": [],
   "source": [
    "# общий датафрейм с данными о кумулятивной выручке\n",
    "mergedCumulativeRevenue = cumulativeRevenueA.merge(\n",
    "    cumulativeRevenueB, left_on='date', right_on='date', how='left', suffixes=['A', 'B']\n",
    ")"
   ]
  },
  {
   "cell_type": "code",
   "execution_count": 33,
   "id": "4f2f2596",
   "metadata": {},
   "outputs": [
    {
     "data": {
      "image/png": "[encoded data removed]",
      "text/plain": [
       "<Figure size 432x288 with 1 Axes>"
      ]
     },
     "metadata": {
      "needs_background": "light"
     },
     "output_type": "display_data"
    }
   ],
   "source": [
    "plt.plot(\n",
    "    mergedCumulativeRevenue['date'],\n",
    "    (mergedCumulativeRevenue['revenueB']/mergedCumulativeRevenue['ordersB'])\n",
    "    /\n",
    "    (mergedCumulativeRevenue['revenueA']/mergedCumulativeRevenue['ordersA']\n",
    "    )-1\n",
    ")\n",
    "plt.xlabel('Дата')\n",
    "plt.ylabel('Относительное различие')\n",
    "plt.title('Относительное различие кумулятивного среднего чека группы B к группе A')\n",
    "plt.xticks(rotation=30)\n",
    "\n",
    "# добавляем ось X\n",
    "plt.axhline(y=0, color='black', linestyle='--')\n",
    "plt.show()"
   ]
  },
  {
   "cell_type": "markdown",
   "id": "b4106981",
   "metadata": {},
   "source": [
    "**Вывод**\n",
    "\n",
    "График кумулятивного среднего чека по группам подтверждает версию о том, что на 3 неделе в группе B был аномально дорогой заказ (также наблюдается резкий скачок графика вверх). С середины месяца группа B также показывает лучшие результаты по среднему чеку.\n",
    "\n",
    "График относительного различия кумулятивного среднего чека показывает скачки данных в обе стороны, что говорит о наличии выбросов."
   ]
  },
  {
   "cell_type": "markdown",
   "id": "8b6aff01",
   "metadata": {},
   "source": [
    "**Анализ кумулятивных данных по конверсии**"
   ]
  },
  {
   "cell_type": "code",
   "execution_count": 34,
   "id": "fc3d448b",
   "metadata": {},
   "outputs": [],
   "source": [
    "# считаем кумулятивную конверсию\n",
    "cumulativeData['conversion'] = cumulativeData['orders']/cumulativeData['visitors']\n",
    "\n",
    "# отделяем данные по группе A\n",
    "cumulativeDataA = cumulativeData[cumulativeData['group']=='A']\n",
    "\n",
    "# отделяем данные по группе B\n",
    "cumulativeDataB = cumulativeData[cumulativeData['group']=='B']"
   ]
  },
  {
   "cell_type": "code",
   "execution_count": 35,
   "id": "1feb6587",
   "metadata": {},
   "outputs": [
    {
     "data": {
      "image/png": "[encoded data removed]",
      "text/plain": [
       "<Figure size 1080x360 with 1 Axes>"
      ]
     },
     "metadata": {
      "needs_background": "light"
     },
     "output_type": "display_data"
    }
   ],
   "source": [
    "fig,ax = plt.subplots(figsize=(15, 5))\n",
    "plt.plot(cumulativeDataA['date'], cumulativeDataA['conversion']*100, label='A')\n",
    "plt.plot(cumulativeDataB['date'], cumulativeDataB['conversion']*100, label='B')\n",
    "plt.xticks(rotation=30)\n",
    "plt.xlabel('Дата')\n",
    "plt.ylabel('Конверсия, %')\n",
    "plt.title('Кумулятивные данные по конверсии по группам А и В')\n",
    "plt.legend()\n",
    "plt.show()"
   ]
  },
  {
   "cell_type": "code",
   "execution_count": 36,
   "id": "14782f54",
   "metadata": {},
   "outputs": [],
   "source": [
    "# общий датафрейм с данными\n",
    "mergedCumulativeConversions = cumulativeDataA[['date','conversion']].merge(\n",
    "    cumulativeDataB[['date','conversion']], left_on='date', right_on='date', how='left', suffixes=['A', 'B']\n",
    ")"
   ]
  },
  {
   "cell_type": "code",
   "execution_count": 37,
   "id": "d21301a9",
   "metadata": {},
   "outputs": [
    {
     "data": {
      "image/png": "[encoded data removed]",
      "text/plain": [
       "<Figure size 432x288 with 1 Axes>"
      ]
     },
     "metadata": {
      "needs_background": "light"
     },
     "output_type": "display_data"
    }
   ],
   "source": [
    "plt.plot(\n",
    "    mergedCumulativeConversions['date'],\n",
    "    mergedCumulativeConversions['conversionB']/mergedCumulativeConversions['conversionA']-1,\n",
    "    label='Относительный прирост конверсии группы B относительно группы A'\n",
    ")\n",
    "plt.legend()\n",
    "plt.xlabel('Дата')\n",
    "plt.ylabel('Относительное различие')\n",
    "plt.title('График относительного различия кумулятивной конверсии группы B к группе A')\n",
    "plt.xticks(rotation=30)\n",
    "\n",
    "plt.axhline(y=0, color='black', linestyle='--')\n",
    "plt.axhline(y=0.2, color='grey', linestyle='--')\n",
    "plt.show()"
   ]
  },
  {
   "cell_type": "markdown",
   "id": "f209afe2",
   "metadata": {},
   "source": [
    "**Вывод**\n",
    "\n",
    "График кумулятивной конверсии показывает лучшие результаты у группа B с большими скачками данных. Но оба графика имеют более плавное движение к концу месяца, что говорит о нормализации данных и возможности прекратить тест.\n",
    "\n",
    "График относительного различия кумулятивной конверсии также с 3 недели показывает нормализацию данных, хотя в начале месяца наблюдаются резкие скачки."
   ]
  },
  {
   "cell_type": "markdown",
   "id": "6c317b70",
   "metadata": {
    "id": "E0vqbgi9ay0H"
   },
   "source": [
    "#### 4.1.2 Проверка гипотез на \"сырых\" данных <a id=\"4.1.2\"></a>"
   ]
  },
  {
   "cell_type": "markdown",
   "id": "5d98bf69",
   "metadata": {},
   "source": [
    "**Датафреймы с данными о количестве пользователей на каждый день для каждой группы теста**"
   ]
  },
  {
   "cell_type": "code",
   "execution_count": 38,
   "id": "ac2c2ad7",
   "metadata": {},
   "outputs": [],
   "source": [
    "visitorsA_daily = visitors[visitors['group'] == 'A'][['date', 'visitors']]\n",
    "visitorsA_daily.columns = ['date', 'visitorsA_daily']"
   ]
  },
  {
   "cell_type": "code",
   "execution_count": 39,
   "id": "69e97028",
   "metadata": {},
   "outputs": [],
   "source": [
    "visitorsA_cummulative = (\n",
    "    visitorsA_daily.apply(\n",
    "        lambda x: visitorsA_daily[visitorsA_daily['date'] <= x['date']]\n",
    "        .agg({'date': 'max', 'visitorsA_daily': 'sum'}),\n",
    "        axis=1)\n",
    ")\n",
    "\n",
    "visitorsA_cummulative.columns = ['date', 'visitorsA_cummulative']"
   ]
  },
  {
   "cell_type": "code",
   "execution_count": 40,
   "id": "1655da65",
   "metadata": {},
   "outputs": [],
   "source": [
    "visitorsB_daily = visitors[visitors['group'] == 'B'][['date', 'visitors']]\n",
    "visitorsB_daily.columns = ['date', 'visitorsB_daily']"
   ]
  },
  {
   "cell_type": "code",
   "execution_count": 41,
   "id": "051fad3c",
   "metadata": {},
   "outputs": [],
   "source": [
    "visitorsB_cummulative = (\n",
    "    visitorsB_daily.apply(\n",
    "        lambda x: visitorsB_daily[visitorsB_daily['date'] <= x['date']]\n",
    "        .agg({'date': 'max', 'visitorsB_daily': 'sum'}),\n",
    "        axis=1)\n",
    ")\n",
    "\n",
    "visitorsB_cummulative.columns = ['date', 'visitorsB_cummulative']"
   ]
  },
  {
   "cell_type": "markdown",
   "id": "d494d8ab",
   "metadata": {},
   "source": [
    "**Датафреймы с данными о заказах и выручке на каждый день для каждой группы теста**"
   ]
  },
  {
   "cell_type": "code",
   "execution_count": 42,
   "id": "cbf43059",
   "metadata": {},
   "outputs": [],
   "source": [
    "ordersA_daily = (\n",
    "    orders[orders['group'] == 'A'][['date', 'transactionId', 'visitorId', 'revenue']]\n",
    "    .groupby('date', as_index=False)\n",
    "    .agg({'transactionId': pd.Series.nunique, 'revenue': 'sum'})\n",
    ")\n",
    "\n",
    "ordersA_daily.columns = ['date', 'ordersA_per_date', 'revenueA_per_date']"
   ]
  },
  {
   "cell_type": "code",
   "execution_count": 43,
   "id": "b4e8f862",
   "metadata": {},
   "outputs": [],
   "source": [
    "ordersA_cummulative = (\n",
    "    ordersA_daily.apply(\n",
    "        lambda x: ordersA_daily[ordersA_daily['date'] <= x['date']]\n",
    "        .agg({'date': 'max', 'ordersA_per_date': 'sum', 'revenueA_per_date': 'sum'}),\n",
    "        axis=1,\n",
    "    ).sort_values(by=['date'])\n",
    ")\n",
    "\n",
    "ordersA_cummulative.columns = ['date', 'ordersA_per_date', 'revenueA_per_date']"
   ]
  },
  {
   "cell_type": "code",
   "execution_count": 44,
   "id": "cb5436bd",
   "metadata": {},
   "outputs": [],
   "source": [
    "ordersB_daily = (\n",
    "    orders[orders['group'] == 'B'][['date', 'transactionId', 'visitorId', 'revenue']]\n",
    "    .groupby('date', as_index=False)\n",
    "    .agg({'transactionId': pd.Series.nunique, 'revenue': 'sum'})\n",
    ")\n",
    "\n",
    "ordersB_daily.columns = ['date', 'ordersB_per_date', 'revenueB_per_date']"
   ]
  },
  {
   "cell_type": "code",
   "execution_count": 45,
   "id": "8be06958",
   "metadata": {},
   "outputs": [],
   "source": [
    "ordersB_cummulative = (\n",
    "    ordersB_daily.apply(\n",
    "        lambda x: ordersB_daily[ordersB_daily['date'] <= x['date']]\n",
    "        .agg({'date': 'max', 'ordersB_per_date': 'sum', 'revenueB_per_date': 'sum'}),\n",
    "        axis=1,\n",
    "    ).sort_values(by=['date'])\n",
    ")\n",
    "\n",
    "ordersB_cummulative.columns = ['date', 'ordersB_per_date', 'revenueB_per_date']"
   ]
  },
  {
   "cell_type": "code",
   "execution_count": 46,
   "id": "72ca4b1e",
   "metadata": {},
   "outputs": [],
   "source": [
    "df = (\n",
    "    ordersA_daily.merge(\n",
    "        ordersB_daily, left_on='date', right_on='date', how='left'\n",
    "    )\n",
    "    .merge(ordersA_cummulative, left_on='date', right_on='date', how='left')\n",
    "    .merge(ordersB_cummulative, left_on='date', right_on='date', how='left')\n",
    "    .merge(visitorsA_daily, left_on='date', right_on='date', how='left')\n",
    "    .merge(visitorsB_daily, left_on='date', right_on='date', how='left')\n",
    "    .merge(visitorsA_cummulative, left_on='date', right_on='date', how='left')\n",
    "    .merge(visitorsB_cummulative, left_on='date', right_on='date', how='left')\n",
    ")"
   ]
  },
  {
   "cell_type": "markdown",
   "id": "fd5b435e",
   "metadata": {},
   "source": [
    "**Датафреймы с данными о пользователях и количестве их заказов для каждой группы теста**"
   ]
  },
  {
   "cell_type": "code",
   "execution_count": 47,
   "id": "1337075f",
   "metadata": {},
   "outputs": [],
   "source": [
    "ordersA_by_users = (\n",
    "    orders[orders['group'] == 'A']\n",
    "    .groupby('visitorId', as_index=False)\n",
    "    .agg({'transactionId': pd.Series.nunique})\n",
    ")\n",
    "ordersA_by_users.columns = ['userId', 'orders']"
   ]
  },
  {
   "cell_type": "code",
   "execution_count": 48,
   "id": "4861a1f4",
   "metadata": {},
   "outputs": [],
   "source": [
    "ordersB_by_users = (\n",
    "    orders[orders['group'] == 'B']\n",
    "    .groupby('visitorId', as_index=False)\n",
    "    .agg({'transactionId': pd.Series.nunique})\n",
    ")\n",
    "ordersB_by_users.columns = ['userId', 'orders']"
   ]
  },
  {
   "cell_type": "markdown",
   "id": "19fa3370",
   "metadata": {},
   "source": [
    "**Датафреймы, в которых пользователям с заказами будет соответствовать число заказов пользователя. А пользователям без заказов — нули**"
   ]
  },
  {
   "cell_type": "code",
   "execution_count": 49,
   "id": "9a8f23af",
   "metadata": {},
   "outputs": [],
   "source": [
    "sampleA = pd.concat(\n",
    "    [ordersA_by_users['orders'],\n",
    "     pd.Series(\n",
    "         0,\n",
    "         index=np.arange(\n",
    "             df['visitorsA_daily'].sum() - len(ordersA_by_users['orders'])\n",
    "         ),\n",
    "         name='orders'\n",
    "     )\n",
    "    ],\n",
    "    axis=0\n",
    ")"
   ]
  },
  {
   "cell_type": "code",
   "execution_count": 50,
   "id": "685d4861",
   "metadata": {},
   "outputs": [],
   "source": [
    "sampleB = pd.concat(\n",
    "    [ordersB_by_users['orders'],\n",
    "     pd.Series(\n",
    "         0,\n",
    "         index=np.arange(\n",
    "             df['visitorsB_daily'].sum() - len(\n",
    "                 ordersB_by_users['orders'])\n",
    "         ),\n",
    "         name='orders'\n",
    "     )\n",
    "    ],\n",
    "    axis=0\n",
    ")"
   ]
  },
  {
   "cell_type": "markdown",
   "id": "9a07df5c",
   "metadata": {},
   "source": [
    "**Статистическая значимость различия конверсии по результатам месяца теста (тест Манна-Уитни)**\n",
    "\n",
    "* **H₀:** Добавление блоков рекомендаций товаров на сайте интернет-магазина не изменит конверсию заказа.\n",
    "* **H₁:** Добавление блоков рекомендаций товаров на сайте интернет-магазина изменит конверсию заказа."
   ]
  },
  {
   "cell_type": "code",
   "execution_count": 51,
   "id": "ec7597ac",
   "metadata": {},
   "outputs": [],
   "source": [
    "results = stats.mannwhitneyu(sampleA, sampleB)"
   ]
  },
  {
   "cell_type": "code",
   "execution_count": 52,
   "id": "db6d10b6",
   "metadata": {},
   "outputs": [
    {
     "data": {
      "text/plain": [
       "'p-value для сравнения конверсии между группами: 0.017'"
      ]
     },
     "execution_count": 52,
     "metadata": {},
     "output_type": "execute_result"
    }
   ],
   "source": [
    "'p-value для сравнения конверсии между группами: {0:.3f}'.format(results.pvalue)"
   ]
  },
  {
   "cell_type": "code",
   "execution_count": 53,
   "id": "9b7f82b7",
   "metadata": {},
   "outputs": [
    {
     "data": {
      "text/plain": [
       "'относительное различие в конверсии между группами: 0.138'"
      ]
     },
     "execution_count": 53,
     "metadata": {},
     "output_type": "execute_result"
    }
   ],
   "source": [
    "'относительное различие в конверсии между группами: {0:.3f}'.format(\n",
    "    sampleB.mean() / sampleA.mean() - 1\n",
    ")"
   ]
  },
  {
   "cell_type": "code",
   "execution_count": 54,
   "id": "141c04fa",
   "metadata": {},
   "outputs": [
    {
     "name": "stdout",
     "output_type": "stream",
     "text": [
      "Отвергаем нулевую гипотезу.\n"
     ]
    }
   ],
   "source": [
    "alpha = .05\n",
    "if results.pvalue < alpha:\n",
    "    print('Отвергаем нулевую гипотезу.')\n",
    "else:\n",
    "    print('Не получилось отвергнуть нулевую гипотезу.')"
   ]
  },
  {
   "cell_type": "markdown",
   "id": "f642eb4d",
   "metadata": {
    "id": "E0vqbgi9ay0H"
   },
   "source": [
    "**Вывод по конверсии**\n",
    "\n",
    "\"Сырые\" данные позволяют нам отвергнуть нулевую гипотезу о различии конверсии заказа. В конверсии между группами есть статистически значимые различия. Относительный прирост конверсии группы В к конверсии группы А равен 13,8%.\n",
    "\n",
    "Анализ конверсии:\n",
    "* **H₀:** Добавление блоков рекомендаций товаров на сайте интернет-магазина не изменит конверсию заказа.\n",
    "* **H₁:** Добавление блоков рекомендаций товаров на сайте интернет-магазина изменит конверсию заказа.\n",
    "\n",
    "**Пороговое значение alpha:** 0.05"
   ]
  },
  {
   "cell_type": "markdown",
   "id": "ced34830",
   "metadata": {},
   "source": [
    "**Анализ средних чеков по \"сырым\" данным**\n",
    "\n",
    "* **H₀:** Добавление блоков рекомендаций товаров на сайте интернет-магазина не изменит средний чек заказа.\n",
    "* **H₁:** Добавление блоков рекомендаций товаров на сайте интернет-магазина изменит средний чек заказа."
   ]
  },
  {
   "cell_type": "code",
   "execution_count": 55,
   "id": "83eeb710",
   "metadata": {},
   "outputs": [],
   "source": [
    "results = stats.mannwhitneyu(\n",
    "        orders[orders['group']=='A']['revenue'],\n",
    "        orders[orders['group']=='B']['revenue']\n",
    ")"
   ]
  },
  {
   "cell_type": "code",
   "execution_count": 56,
   "id": "41039bb1",
   "metadata": {},
   "outputs": [
    {
     "data": {
      "text/plain": [
       "'p-value для сравнения средних чеков между группами: 0.729'"
      ]
     },
     "execution_count": 56,
     "metadata": {},
     "output_type": "execute_result"
    }
   ],
   "source": [
    "'p-value для сравнения средних чеков между группами: {0:.3f}'.format(results.pvalue)"
   ]
  },
  {
   "cell_type": "code",
   "execution_count": 57,
   "id": "e5fa5175",
   "metadata": {
    "scrolled": true
   },
   "outputs": [
    {
     "data": {
      "text/plain": [
       "'относительное различие среднего чека между группами: 0.259'"
      ]
     },
     "execution_count": 57,
     "metadata": {},
     "output_type": "execute_result"
    }
   ],
   "source": [
    "'относительное различие среднего чека между группами: {0:.3f}'.format(\n",
    "    orders[orders['group']=='B']['revenue'].mean()/orders[orders['group']=='A']['revenue']\n",
    "    .mean()\n",
    "    -1\n",
    ")"
   ]
  },
  {
   "cell_type": "code",
   "execution_count": 58,
   "id": "2b3ce4e2",
   "metadata": {},
   "outputs": [
    {
     "name": "stdout",
     "output_type": "stream",
     "text": [
      "Не получилось отвергнуть нулевую гипотезу.\n"
     ]
    }
   ],
   "source": [
    "alpha = .05\n",
    "if results.pvalue < alpha:\n",
    "    print('Отвергаем нулевую гипотезу.')\n",
    "else:\n",
    "    print('Не получилось отвергнуть нулевую гипотезу.')"
   ]
  },
  {
   "cell_type": "code",
   "execution_count": 59,
   "id": "1a939ca0",
   "metadata": {},
   "outputs": [
    {
     "data": {
      "text/plain": [
       "count    6.400000e+02\n",
       "mean     9.230875e+03\n",
       "std      5.244977e+04\n",
       "min      5.000000e+01\n",
       "25%      1.312500e+03\n",
       "50%      2.965000e+03\n",
       "75%      8.355250e+03\n",
       "max      1.294500e+06\n",
       "Name: revenue, dtype: float64"
      ]
     },
     "execution_count": 59,
     "metadata": {},
     "output_type": "execute_result"
    }
   ],
   "source": [
    "orders[orders['group']=='B']['revenue'].describe()"
   ]
  },
  {
   "cell_type": "code",
   "execution_count": 60,
   "id": "ed2e38f9",
   "metadata": {},
   "outputs": [
    {
     "data": {
      "text/plain": [
       "count      557.000000\n",
       "mean      7333.578097\n",
       "std      11847.549587\n",
       "min         50.000000\n",
       "25%       1188.000000\n",
       "50%       3000.000000\n",
       "75%       8280.000000\n",
       "max      93940.000000\n",
       "Name: revenue, dtype: float64"
      ]
     },
     "execution_count": 60,
     "metadata": {},
     "output_type": "execute_result"
    }
   ],
   "source": [
    "orders[orders['group']=='A']['revenue'].describe()"
   ]
  },
  {
   "cell_type": "markdown",
   "id": "70f0def0",
   "metadata": {
    "id": "E0vqbgi9ay0H"
   },
   "source": [
    "**Вывод по среднему чеку**\n",
    "\n",
    "\"Сырые\" данные позволяют нам принять нулевую гипотезу о различии среднего чека заказа. В среднем чеке между группами нет статистически значимых различий. Относительное различие среднего чека между группами 26%, что вероятно связано с выбросами.\n",
    "\n",
    "Анализ среднего чека:\n",
    "* **H₀:** Добавление блоков рекомендаций товаров на сайте интернет-магазина не изменит средний чек заказа.\n",
    "* **H₁:** Добавление блоков рекомендаций товаров на сайте интернет-магазина изменит средний чек заказа.\n",
    "\n",
    "**Пороговое значение alpha:** 0.05"
   ]
  },
  {
   "cell_type": "markdown",
   "id": "6ac6d924",
   "metadata": {
    "id": "E0vqbgi9ay0H"
   },
   "source": [
    "#### 4.1.3 Вывод\n",
    "\n",
    "Анализ конверсии по \"сырым\" данным показал, что:\n",
    "* В конверсии между группами есть статистически значимые различия. Так как уровень значимости менее 5%, мы отвергаем нулевую гипотезу о том, что добавление блоков рекомендаций товаров на сайте интернет-магазина не изменит конверсию заказа.\n",
    "* Относительный прирост конверсии группы В к конверсии группы А равен 13,8%.\n",
    "\n",
    "Анализ среднего чека по \"сырым\" данным показал, что:\n",
    "* Статистически значимых отличий в среднем чеке между группами нет, так как уровень значимости значительно больше 5%. Мы принимаем нулевую гипотезу о том, что добавление блоков рекомендаций товаров на сайте интернет-магазина не изменит средний чек заказа.\n",
    "* Относительное различие среднего чека между группами 26%, что вероятно связано с выбросами.\n",
    "\n"
   ]
  },
  {
   "cell_type": "markdown",
   "id": "62547800",
   "metadata": {
    "id": "E0vqbgi9ay0H"
   },
   "source": [
    "### 4.2 Анализ аномалий <a id=\"4.2\"></a>"
   ]
  },
  {
   "cell_type": "code",
   "execution_count": 61,
   "id": "1b08fdfd",
   "metadata": {},
   "outputs": [
    {
     "data": {
      "text/html": [
       "<div>\n",
       "<style scoped>\n",
       "    .dataframe tbody tr th:only-of-type {\n",
       "        vertical-align: middle;\n",
       "    }\n",
       "\n",
       "    .dataframe tbody tr th {\n",
       "        vertical-align: top;\n",
       "    }\n",
       "\n",
       "    .dataframe thead th {\n",
       "        text-align: right;\n",
       "    }\n",
       "</style>\n",
       "<table border=\"1\" class=\"dataframe\">\n",
       "  <thead>\n",
       "    <tr style=\"text-align: right;\">\n",
       "      <th></th>\n",
       "      <th>transactionId</th>\n",
       "      <th>visitorId</th>\n",
       "      <th>date</th>\n",
       "      <th>revenue</th>\n",
       "      <th>group</th>\n",
       "    </tr>\n",
       "  </thead>\n",
       "  <tbody>\n",
       "    <tr>\n",
       "      <th>0</th>\n",
       "      <td>3667963787</td>\n",
       "      <td>3312258926</td>\n",
       "      <td>2019-08-15</td>\n",
       "      <td>1650</td>\n",
       "      <td>B</td>\n",
       "    </tr>\n",
       "    <tr>\n",
       "      <th>1</th>\n",
       "      <td>2804400009</td>\n",
       "      <td>3642806036</td>\n",
       "      <td>2019-08-15</td>\n",
       "      <td>730</td>\n",
       "      <td>B</td>\n",
       "    </tr>\n",
       "    <tr>\n",
       "      <th>2</th>\n",
       "      <td>2961555356</td>\n",
       "      <td>4069496402</td>\n",
       "      <td>2019-08-15</td>\n",
       "      <td>400</td>\n",
       "      <td>A</td>\n",
       "    </tr>\n",
       "    <tr>\n",
       "      <th>3</th>\n",
       "      <td>3797467345</td>\n",
       "      <td>1196621759</td>\n",
       "      <td>2019-08-15</td>\n",
       "      <td>9759</td>\n",
       "      <td>B</td>\n",
       "    </tr>\n",
       "    <tr>\n",
       "      <th>4</th>\n",
       "      <td>2282983706</td>\n",
       "      <td>2322279887</td>\n",
       "      <td>2019-08-15</td>\n",
       "      <td>2308</td>\n",
       "      <td>B</td>\n",
       "    </tr>\n",
       "  </tbody>\n",
       "</table>\n",
       "</div>"
      ],
      "text/plain": [
       "   transactionId   visitorId       date  revenue group\n",
       "0     3667963787  3312258926 2019-08-15     1650     B\n",
       "1     2804400009  3642806036 2019-08-15      730     B\n",
       "2     2961555356  4069496402 2019-08-15      400     A\n",
       "3     3797467345  1196621759 2019-08-15     9759     B\n",
       "4     2282983706  2322279887 2019-08-15     2308     B"
      ]
     },
     "execution_count": 61,
     "metadata": {},
     "output_type": "execute_result"
    }
   ],
   "source": [
    "orders.head()"
   ]
  },
  {
   "cell_type": "markdown",
   "id": "83057c80",
   "metadata": {},
   "source": [
    "**Аномалии в количестве заказов**"
   ]
  },
  {
   "cell_type": "code",
   "execution_count": 62,
   "id": "93f63bd0",
   "metadata": {},
   "outputs": [],
   "source": [
    "# сделаем выборку с уникальными пользователями и количеством сделанных ими заказов\n",
    "orders_by_users = (\n",
    "  orders.groupby('visitorId', as_index=False)\n",
    "  .agg({'transactionId': 'nunique'})\n",
    ")\n",
    "\n",
    "orders_by_users.columns = ['userId', 'orders']"
   ]
  },
  {
   "cell_type": "code",
   "execution_count": 63,
   "id": "401b2f15",
   "metadata": {},
   "outputs": [
    {
     "data": {
      "image/png": "[encoded data removed]",
      "text/plain": [
       "<Figure size 432x288 with 1 Axes>"
      ]
     },
     "metadata": {
      "needs_background": "light"
     },
     "output_type": "display_data"
    }
   ],
   "source": [
    "# отразим распределение, чтобы увидеть, сколько заказов чаще всего делали пользователи\n",
    "plt.hist(orders_by_users['orders'])\n",
    "plt.xlabel('Количество заказов')\n",
    "plt.ylabel('Количество пользователей')\n",
    "plt.title('Распределение количества заказов на пользователя')\n",
    "plt.show()"
   ]
  },
  {
   "cell_type": "markdown",
   "id": "592c5d16",
   "metadata": {},
   "source": [
    "**На графике видим, что большинство пользователей делают только 1 заказ. А также есть выбросы с 5-10 заказами.**"
   ]
  },
  {
   "cell_type": "code",
   "execution_count": 64,
   "id": "ac8d6eca",
   "metadata": {},
   "outputs": [
    {
     "data": {
      "image/png": "[encoded data removed]",
      "text/plain": [
       "<Figure size 432x288 with 1 Axes>"
      ]
     },
     "metadata": {
      "needs_background": "light"
     },
     "output_type": "display_data"
    }
   ],
   "source": [
    "# посмотри на данные немного иначе, чтобы точнее увидеть, как распределется количество заказов и выбросы\n",
    "x_values = pd.Series(range(0, len(orders_by_users)))\n",
    "plt.scatter(x_values, orders_by_users['orders'])\n",
    "plt.xlabel('Количество пользователей')\n",
    "plt.ylabel('Количество заказов')\n",
    "plt.title('Распределение по количеству заказов на пользователя')\n",
    "plt.show()"
   ]
  },
  {
   "cell_type": "markdown",
   "id": "52fa5756",
   "metadata": {},
   "source": [
    "**На графике видим, что большинство пользователей делают только 1 заказ, но также много людей, которые делают 2 заказа. Далее разброс становится уже большим и есть все несколько человек, у кого больше 8 заказов.**"
   ]
  },
  {
   "cell_type": "code",
   "execution_count": 65,
   "id": "e70579b6",
   "metadata": {},
   "outputs": [
    {
     "data": {
      "text/plain": [
       "count    1031.000000\n",
       "mean        1.161009\n",
       "std         0.724919\n",
       "min         1.000000\n",
       "25%         1.000000\n",
       "50%         1.000000\n",
       "75%         1.000000\n",
       "max        11.000000\n",
       "Name: orders, dtype: float64"
      ]
     },
     "execution_count": 65,
     "metadata": {},
     "output_type": "execute_result"
    }
   ],
   "source": [
    "orders_by_users['orders'].describe()"
   ]
  },
  {
   "cell_type": "code",
   "execution_count": 66,
   "id": "36aaf391",
   "metadata": {},
   "outputs": [
    {
     "data": {
      "text/plain": [
       "array([1., 2., 4.])"
      ]
     },
     "execution_count": 66,
     "metadata": {},
     "output_type": "execute_result"
    }
   ],
   "source": [
    "np.percentile(orders_by_users['orders'], [90, 95, 99])"
   ]
  },
  {
   "cell_type": "markdown",
   "id": "e1529566",
   "metadata": {
    "id": "E0vqbgi9ay0H"
   },
   "source": [
    "**Вывод о количестве заказов**\n",
    "\n",
    "Проанализировали данные по количеству заказов, которые делают пользователи и выяснили, что чаще всего пользователи делают только 1 заказ. Но так как 95% пользователей делают 1-2 заказа, мы используем для анализа именно это ограничение."
   ]
  },
  {
   "cell_type": "markdown",
   "id": "499e8b69",
   "metadata": {},
   "source": [
    "**Аномалии в стоимости заказов**"
   ]
  },
  {
   "cell_type": "code",
   "execution_count": 67,
   "id": "40e60af7",
   "metadata": {},
   "outputs": [],
   "source": [
    "# сделаем выборку с уникальными пользователями и суммой сделанных ими заказов\n",
    "revenue_by_users = (\n",
    "  orders.groupby('visitorId', as_index=False)\n",
    "  .agg({'revenue': 'sum'})\n",
    ")\n",
    "\n",
    "revenue_by_users.columns = ['userId', 'revenue']"
   ]
  },
  {
   "cell_type": "code",
   "execution_count": 68,
   "id": "34524a64",
   "metadata": {},
   "outputs": [
    {
     "data": {
      "image/png": "[encoded data removed]",
      "text/plain": [
       "<Figure size 432x288 with 1 Axes>"
      ]
     },
     "metadata": {
      "needs_background": "light"
     },
     "output_type": "display_data"
    }
   ],
   "source": [
    "# отразим распределение, чтобы увидеть, на какую сумму пользователи чаще всего делали заказы\n",
    "plt.hist(revenue_by_users['revenue'])\n",
    "plt.xlabel('Стоимость заказов')\n",
    "plt.ylabel('Количество пользователей')\n",
    "plt.title('Распределение по стоимости заказов на пользователя')\n",
    "plt.show()"
   ]
  },
  {
   "cell_type": "markdown",
   "id": "ea8e41b4",
   "metadata": {},
   "source": [
    "**На графике видим, что большинство пользователей делают заказы на сумму менее 20 тысяч рублей. Выбросы есть, но их плохо видно, поэтому надо построить точечный график распределения заказов по стоимости.**"
   ]
  },
  {
   "cell_type": "code",
   "execution_count": 69,
   "id": "3a0a3edc",
   "metadata": {},
   "outputs": [
    {
     "data": {
      "image/png": "[encoded data removed]",
      "text/plain": [
       "<Figure size 432x288 with 1 Axes>"
      ]
     },
     "metadata": {
      "needs_background": "light"
     },
     "output_type": "display_data"
    }
   ],
   "source": [
    "# посмотри на данные немного иначе, чтобы точнее увидеть, как распределется сумма заказов и выбросы\n",
    "x_values = pd.Series(range(0, len(revenue_by_users)))\n",
    "plt.scatter(x_values, revenue_by_users['revenue'])\n",
    "plt.xlabel('Количество пользователей')\n",
    "plt.ylabel('Стоимость заказов')\n",
    "plt.title('Распределение по стоимости заказов на пользователя')\n",
    "plt.show()"
   ]
  },
  {
   "cell_type": "markdown",
   "id": "466988c0",
   "metadata": {},
   "source": [
    "**На графике видим, что большинство пользователей делают заказы на сумму менее 16-17 тысяч рублей. Есть несколько выбросов и один существенный выброс с суммой заказа большее 1 млн рублей. Ограничим график и рассмотри данные с суммой заказа до 140 тысяч рублей.**"
   ]
  },
  {
   "cell_type": "code",
   "execution_count": 70,
   "id": "625395db",
   "metadata": {},
   "outputs": [
    {
     "data": {
      "image/png": "[encoded data removed]",
      "text/plain": [
       "<Figure size 432x288 with 1 Axes>"
      ]
     },
     "metadata": {
      "needs_background": "light"
     },
     "output_type": "display_data"
    }
   ],
   "source": [
    "# ограничим данные по выручке до 140 тысяч рублей\n",
    "x_values = pd.Series(range(0, len(revenue_by_users)))\n",
    "plt.scatter(x_values, revenue_by_users['revenue'])\n",
    "plt.ylim(0, 140000)\n",
    "plt.xlabel('Количество пользователей')\n",
    "plt.ylabel('Стоимость заказов')\n",
    "plt.title('Распределение по стоимости заказов на пользователя')\n",
    "plt.show()"
   ]
  },
  {
   "cell_type": "markdown",
   "id": "e4f6c2ad",
   "metadata": {},
   "source": [
    "**На графике видим, что большинство пользователей делают заказы на сумму до 20 тысяч рублей. Нужно проверить, являются ли существенными заказы с суммой до 30 тысяч рублей.**"
   ]
  },
  {
   "cell_type": "code",
   "execution_count": 71,
   "id": "e5c92be8",
   "metadata": {},
   "outputs": [
    {
     "data": {
      "text/plain": [
       "count    1.031000e+03\n",
       "mean     9.692108e+03\n",
       "std      4.298448e+04\n",
       "min      5.000000e+01\n",
       "25%      1.290000e+03\n",
       "50%      3.250000e+03\n",
       "75%      9.448000e+03\n",
       "max      1.294500e+06\n",
       "Name: revenue, dtype: float64"
      ]
     },
     "execution_count": 71,
     "metadata": {},
     "output_type": "execute_result"
    }
   ],
   "source": [
    "revenue_by_users['revenue'].describe()"
   ]
  },
  {
   "cell_type": "code",
   "execution_count": 72,
   "id": "b8fb1814",
   "metadata": {},
   "outputs": [
    {
     "data": {
      "text/plain": [
       "array([19260. , 32899.5, 67750. ])"
      ]
     },
     "execution_count": 72,
     "metadata": {},
     "output_type": "execute_result"
    }
   ],
   "source": [
    "np.percentile(revenue_by_users['revenue'], [90, 95, 99])"
   ]
  },
  {
   "cell_type": "markdown",
   "id": "8fb4d0ab",
   "metadata": {
    "id": "E0vqbgi9ay0H"
   },
   "source": [
    "**Вывод о сумме заказа**\n",
    "\n",
    "Проанализировали данные о сумме заказов, которые делают пользователи, и выяснили, что у 90% пользователей сумма заказа не превышает 20 тысяч рублей. Но так как у 95% пользователей сумма заказа около 33 тысяч рублей, мы используем для анализа именно это ограничение."
   ]
  },
  {
   "cell_type": "markdown",
   "id": "9441ccd9",
   "metadata": {},
   "source": [
    "**Срезы пользователей с аномальными значениями**"
   ]
  },
  {
   "cell_type": "code",
   "execution_count": 73,
   "id": "123418cc",
   "metadata": {},
   "outputs": [],
   "source": [
    "many_orders = pd.concat(\n",
    "    [\n",
    "        ordersA_by_users[ordersA_by_users['orders'] > 2]['userId'],\n",
    "        ordersB_by_users[ordersB_by_users['orders'] > 2]['userId'],\n",
    "    ],\n",
    "    axis=0,\n",
    ")\n",
    "\n",
    "expensive_orders = orders[orders['revenue'] > 33000]['visitorId']"
   ]
  },
  {
   "cell_type": "code",
   "execution_count": 74,
   "id": "35c5aeff",
   "metadata": {},
   "outputs": [],
   "source": [
    "abnormal_users = (\n",
    "    pd.concat([many_orders, expensive_orders], axis=0)\n",
    "    .drop_duplicates()\n",
    "    .sort_values()\n",
    ")"
   ]
  },
  {
   "cell_type": "markdown",
   "id": "217b4c18",
   "metadata": {
    "id": "E0vqbgi9ay0H"
   },
   "source": [
    "#### 4.2.1 Вывод\n",
    "\n",
    "Определили аномалии как:\n",
    "* количество заказов больше 2,\n",
    "* сумма заказа больше 33 000 рублей (данное значение основано на анализе процентилей и медианы)."
   ]
  },
  {
   "cell_type": "markdown",
   "id": "b149e4d6",
   "metadata": {
    "id": "E0vqbgi9ay0H"
   },
   "source": [
    "### 4.3 Анализ подготовленных данных <a id=\"4.3\"></a>"
   ]
  },
  {
   "cell_type": "markdown",
   "id": "56cd44db",
   "metadata": {},
   "source": [
    "**Датафреймы, в которых пользователям с заказами будет соответствовать число заказов пользователя. А пользователям без заказов — нули**"
   ]
  },
  {
   "cell_type": "code",
   "execution_count": 76,
   "id": "1980dfa2",
   "metadata": {},
   "outputs": [],
   "source": [
    "sampleA_filtered = pd.concat(\n",
    "    [ordersA_by_users[np.logical_not(\n",
    "        ordersA_by_users['userId'].isin(abnormal_users)\n",
    "    )]['orders'],\n",
    "     pd.Series(\n",
    "         0,\n",
    "         index=np.arange(\n",
    "             df['visitorsA_daily'].sum() - len(ordersA_by_users['orders'])\n",
    "         ),\n",
    "         name='orders'\n",
    "     )\n",
    "    ],\n",
    "    axis=0\n",
    ")"
   ]
  },
  {
   "cell_type": "code",
   "execution_count": 77,
   "id": "98184ca8",
   "metadata": {},
   "outputs": [],
   "source": [
    "sampleB_filtered = pd.concat(\n",
    "    [ordersB_by_users[np.logical_not(\n",
    "        ordersB_by_users['userId'].isin(abnormal_users)\n",
    "    )]['orders'],\n",
    "     pd.Series(\n",
    "         0,\n",
    "         index=np.arange(\n",
    "             df['visitorsB_daily'].sum() - len(ordersB_by_users['orders'])\n",
    "         ),\n",
    "         name='orders')\n",
    "    ],\n",
    "    axis=0\n",
    ")"
   ]
  },
  {
   "cell_type": "markdown",
   "id": "772c804e",
   "metadata": {},
   "source": [
    "**Статистическая значимость различия конверсии по результатам месяца теста (тест Манна-Уитни)**\n",
    "\n",
    "Анализ конверсии:\n",
    "* **H₀:** Добавление блоков рекомендаций товаров на сайте интернет-магазина не изменит конверсию заказа.\n",
    "* **H₁:** Добавление блоков рекомендаций товаров на сайте интернет-магазина изменит конверсию заказа."
   ]
  },
  {
   "cell_type": "code",
   "execution_count": 78,
   "id": "ee83486f",
   "metadata": {},
   "outputs": [],
   "source": [
    "results = stats.mannwhitneyu(sampleA_filtered, sampleB_filtered)"
   ]
  },
  {
   "cell_type": "code",
   "execution_count": 79,
   "id": "79c3a37c",
   "metadata": {},
   "outputs": [
    {
     "data": {
      "text/plain": [
       "'p-value для сравнения конверсии между группами: 0.01161'"
      ]
     },
     "execution_count": 79,
     "metadata": {},
     "output_type": "execute_result"
    }
   ],
   "source": [
    "'p-value для сравнения конверсии между группами: {0:.5f}'.format(results.pvalue)"
   ]
  },
  {
   "cell_type": "code",
   "execution_count": 80,
   "id": "ff80b9e0",
   "metadata": {},
   "outputs": [
    {
     "data": {
      "text/plain": [
       "'относительное различие в конверсии между группами: 0.176'"
      ]
     },
     "execution_count": 80,
     "metadata": {},
     "output_type": "execute_result"
    }
   ],
   "source": [
    "'относительное различие в конверсии между группами: {0:.3f}'.format(\n",
    "    sampleB_filtered.mean()/sampleA_filtered\n",
    "    .mean()\n",
    "    -1\n",
    ")"
   ]
  },
  {
   "cell_type": "code",
   "execution_count": 81,
   "id": "b3536c3e",
   "metadata": {},
   "outputs": [
    {
     "name": "stdout",
     "output_type": "stream",
     "text": [
      "Отвергаем нулевую гипотезу.\n"
     ]
    }
   ],
   "source": [
    "alpha = .05\n",
    "if results.pvalue < alpha:\n",
    "    print('Отвергаем нулевую гипотезу.')\n",
    "else:\n",
    "    print('Не получилось отвергнуть нулевую гипотезу.')"
   ]
  },
  {
   "cell_type": "markdown",
   "id": "d0776d75",
   "metadata": {
    "id": "E0vqbgi9ay0H"
   },
   "source": [
    "**Вывод по конверсии подготовленных данных**\n",
    "\n",
    "Подготовленные данные позволяют нам отвергнуть нулевую гипотезу о различии конверсии заказа.\n",
    "\n",
    "В конверсии между группами есть статистически значимые различия. Относительный прирост конверсии группы В к конверсии группы А равен 17,6% (в отличие от 13,8% в \"сырах\" данных).\n",
    "\n",
    "Принимаем альтернативную гипотезу:\n",
    "* **H₁:** Добавление блоков рекомендаций товаров на сайте интернет-магазина изменит конверсию заказа."
   ]
  },
  {
   "cell_type": "markdown",
   "id": "472d16fb",
   "metadata": {},
   "source": [
    "**Анализ средних чеков по подготовленным данным**\n",
    "\n",
    "Анализ среднего чека:\n",
    "* **H₀:** Добавление блоков рекомендаций товаров на сайте интернет-магазина не изменит средний чек заказа.\n",
    "* **H₁:** Добавление блоков рекомендаций товаров на сайте интернет-магазина изменит средний чек заказа."
   ]
  },
  {
   "cell_type": "code",
   "execution_count": 82,
   "id": "92ed1e7c",
   "metadata": {},
   "outputs": [],
   "source": [
    "results = stats.mannwhitneyu(\n",
    "    orders[np.logical_and(\n",
    "        orders['group'] == 'A',\n",
    "        np.logical_not(\n",
    "            orders['visitorId'].isin(abnormal_users)\n",
    "        )\n",
    "    )]['revenue'],\n",
    "    orders[np.logical_and(\n",
    "        orders['group'] == 'B',\n",
    "        np.logical_not(\n",
    "            orders['visitorId'].isin(abnormal_users)\n",
    "        )\n",
    "    )]['revenue']\n",
    ")"
   ]
  },
  {
   "cell_type": "code",
   "execution_count": 83,
   "id": "ec2544c0",
   "metadata": {},
   "outputs": [
    {
     "data": {
      "text/plain": [
       "'p-value для сравнения средних чеков между группами: 0.814'"
      ]
     },
     "execution_count": 83,
     "metadata": {},
     "output_type": "execute_result"
    }
   ],
   "source": [
    "'p-value для сравнения средних чеков между группами: {0:.3f}'.format(results.pvalue)"
   ]
  },
  {
   "cell_type": "code",
   "execution_count": 84,
   "id": "d3b01312",
   "metadata": {},
   "outputs": [
    {
     "data": {
      "text/plain": [
       "'относительное различие среднего чека между группами: 0.001'"
      ]
     },
     "execution_count": 84,
     "metadata": {},
     "output_type": "execute_result"
    }
   ],
   "source": [
    "'относительное различие среднего чека между группами: {0:.3f}'.format(\n",
    "    orders[np.logical_and(\n",
    "        orders['group'] == 'B',\n",
    "        np.logical_not(\n",
    "            orders['visitorId'].isin(abnormal_users)\n",
    "        )\n",
    "    )]['revenue'].mean()/orders[np.logical_and(\n",
    "        orders['group'] == 'A',\n",
    "        np.logical_not(\n",
    "            orders['visitorId'].isin(abnormal_users)\n",
    "        )\n",
    "    )]['revenue'].mean()\n",
    "    -1\n",
    ")"
   ]
  },
  {
   "cell_type": "code",
   "execution_count": 85,
   "id": "0db09904",
   "metadata": {},
   "outputs": [
    {
     "name": "stdout",
     "output_type": "stream",
     "text": [
      "Не получилось отвергнуть нулевую гипотезу.\n"
     ]
    }
   ],
   "source": [
    "alpha = .05\n",
    "if results.pvalue < alpha:\n",
    "    print('Отвергаем нулевую гипотезу.')\n",
    "else:\n",
    "    print('Не получилось отвергнуть нулевую гипотезу.')"
   ]
  },
  {
   "cell_type": "markdown",
   "id": "cb2cceae",
   "metadata": {
    "id": "E0vqbgi9ay0H"
   },
   "source": [
    "**Вывод по среднему чеку по подготовленным данным**\n",
    "\n",
    "Подготовленные данные позволяют нам принять нулевую гипотезу о различии среднего чека заказа.\n",
    "\n",
    "В среднем чеке между группами нет статистически значимых различий. Относительное различие среднего чека между группами 0,1% (в отличие от 26% в \"сырах\" данных, что говорит о большом количестве выбросов в \"сырых\" данных).\n",
    "\n",
    "Принимаем нулевую гипотезу:\n",
    "* **H₀:** Добавление блоков рекомендаций товаров на сайте интернет-магазина не изменит средний чек заказа."
   ]
  },
  {
   "cell_type": "markdown",
   "id": "1ecd3cae",
   "metadata": {
    "id": "E0vqbgi9ay0H"
   },
   "source": [
    "#### 5.3.1 Вывод\n",
    "\n",
    "Анализ конверсии показал, что:\n",
    "* Анализ подготовленных данных показал, что в конверсии между группами есть статистически значимые различия. Так как уровень значимости менее 5%, мы все еще отвергаем нулевую гипотезу. И принимаем, что **добавление блоков рекомендаций товаров на сайте интернет-магазина изменит конверсию заказа**.\n",
    "* Относительный прирост конверсии группы В к конверсии группы А повысился с 13,8% на \"сырых\" данных до 17,6% на подготовленных.\n",
    "\n",
    "Анализ среднего чека показал, что:\n",
    "* Статистически значимых отличий в среднем чеке между группами нет, так как уровень значимости значительно больше 5%. Значит, мы принимаем нулевую гипотезу, что **добавление блоков рекомендаций товаров на сайте интернет-магазина не изменит средний чек заказа**.\n",
    "* Относительное различие среднего чека между группами уменьшилось с 26% на \"сырых\" данных до 0,01% на подготовленных."
   ]
  },
  {
   "cell_type": "markdown",
   "id": "598cf98b",
   "metadata": {
    "id": "E0vqbgi9ay0H"
   },
   "source": [
    "## 5. Итоги исследования <a id=\"5\"></a>\n",
    "\n",
    "**По результатам приоритезации гипотез методами ICE и RICE рекомендую брать в работу 2 гипотезы (в порядке приоритета):**\n",
    "1. Добавить форму подписки на все основные страницы, чтобы собрать базу клиентов для email-рассылок.\n",
    "2. Добавить два новых канала привлечения трафика, что позволит привлекать на 30% больше пользователей. (Небольшой охват, но максимальное влияние на пользователей.)\n",
    "\n",
    "Анализ A/B-тестирования показал, что:\n",
    "1. Добавление блоков рекомендаций товаров на сайте интернет-магазина изменит конверсию заказа. Относительный прирост конверсии составляет 17,6% на подготовленных данных.\n",
    "2. Добавление блоков рекомендаций товаров на сайте интернет-магазина не изменит средний чек заказа. Относительное различие среднего чека между группами уменьшилось с 26% на \"сырых\" данных до 0,01% на подготовленных данных.\n",
    "\n",
    "**Рекомендация: остановить тест, зафиксировать победу группы B и добавить блоки рекомендации товаров, так как наблюдается значительный прирост конверсии (17,6%) при отсутствии изменений в среднем чеке, что даст нам существенное повышении выручки в компании.**"
   ]
  }
 ],
 "metadata": {
  "ExecuteTimeLog": [
   {
    "duration": 1129,
    "start_time": "2022-04-21T17:41:33.147Z"
   },
   {
    "duration": 3,
    "start_time": "2022-04-21T17:41:34.277Z"
   },
   {
    "duration": 6,
    "start_time": "2022-04-21T17:41:34.282Z"
   },
   {
    "duration": 13,
    "start_time": "2022-04-21T17:41:34.290Z"
   },
   {
    "duration": 38,
    "start_time": "2022-04-21T17:41:34.306Z"
   },
   {
    "duration": 3,
    "start_time": "2022-04-21T17:41:34.346Z"
   },
   {
    "duration": 23,
    "start_time": "2022-04-21T17:41:34.351Z"
   },
   {
    "duration": 49,
    "start_time": "2022-04-21T17:41:34.375Z"
   },
   {
    "duration": 4,
    "start_time": "2022-04-21T17:41:34.425Z"
   },
   {
    "duration": 19,
    "start_time": "2022-04-21T17:41:34.430Z"
   },
   {
    "duration": 40,
    "start_time": "2022-04-21T17:41:34.451Z"
   },
   {
    "duration": 78,
    "start_time": "2022-04-21T17:41:34.493Z"
   },
   {
    "duration": 0,
    "start_time": "2022-04-21T17:41:34.574Z"
   },
   {
    "duration": 0,
    "start_time": "2022-04-21T17:41:34.575Z"
   },
   {
    "duration": 0,
    "start_time": "2022-04-21T17:41:34.575Z"
   },
   {
    "duration": 0,
    "start_time": "2022-04-21T17:41:34.576Z"
   },
   {
    "duration": 0,
    "start_time": "2022-04-21T17:41:34.577Z"
   },
   {
    "duration": 0,
    "start_time": "2022-04-21T17:41:34.579Z"
   },
   {
    "duration": 0,
    "start_time": "2022-04-21T17:41:34.579Z"
   },
   {
    "duration": 0,
    "start_time": "2022-04-21T17:41:34.580Z"
   },
   {
    "duration": 0,
    "start_time": "2022-04-21T17:41:34.581Z"
   },
   {
    "duration": 0,
    "start_time": "2022-04-21T17:41:34.582Z"
   },
   {
    "duration": 0,
    "start_time": "2022-04-21T17:41:34.583Z"
   },
   {
    "duration": 0,
    "start_time": "2022-04-21T17:41:34.584Z"
   },
   {
    "duration": 0,
    "start_time": "2022-04-21T17:41:34.585Z"
   },
   {
    "duration": 0,
    "start_time": "2022-04-21T17:41:34.586Z"
   },
   {
    "duration": 0,
    "start_time": "2022-04-21T17:41:34.587Z"
   },
   {
    "duration": 0,
    "start_time": "2022-04-21T17:41:34.588Z"
   },
   {
    "duration": 0,
    "start_time": "2022-04-21T17:41:34.588Z"
   },
   {
    "duration": 0,
    "start_time": "2022-04-21T17:41:34.590Z"
   },
   {
    "duration": 0,
    "start_time": "2022-04-21T17:41:34.591Z"
   },
   {
    "duration": 0,
    "start_time": "2022-04-21T17:41:34.592Z"
   },
   {
    "duration": 0,
    "start_time": "2022-04-21T17:41:34.593Z"
   },
   {
    "duration": 0,
    "start_time": "2022-04-21T17:41:34.593Z"
   },
   {
    "duration": 0,
    "start_time": "2022-04-21T17:41:34.594Z"
   },
   {
    "duration": 0,
    "start_time": "2022-04-21T17:41:34.595Z"
   },
   {
    "duration": 0,
    "start_time": "2022-04-21T17:41:34.596Z"
   },
   {
    "duration": 0,
    "start_time": "2022-04-21T17:41:34.597Z"
   },
   {
    "duration": 0,
    "start_time": "2022-04-21T17:41:34.598Z"
   },
   {
    "duration": 0,
    "start_time": "2022-04-21T17:41:34.599Z"
   },
   {
    "duration": 0,
    "start_time": "2022-04-21T17:41:34.600Z"
   },
   {
    "duration": 0,
    "start_time": "2022-04-21T17:41:34.601Z"
   },
   {
    "duration": 0,
    "start_time": "2022-04-21T17:41:34.602Z"
   },
   {
    "duration": 0,
    "start_time": "2022-04-21T17:41:34.603Z"
   },
   {
    "duration": 0,
    "start_time": "2022-04-21T17:41:34.605Z"
   },
   {
    "duration": 0,
    "start_time": "2022-04-21T17:41:34.605Z"
   },
   {
    "duration": 0,
    "start_time": "2022-04-21T17:41:34.606Z"
   },
   {
    "duration": 0,
    "start_time": "2022-04-21T17:41:34.608Z"
   },
   {
    "duration": 0,
    "start_time": "2022-04-21T17:41:34.609Z"
   },
   {
    "duration": 0,
    "start_time": "2022-04-21T17:41:34.610Z"
   },
   {
    "duration": 0,
    "start_time": "2022-04-21T17:41:34.611Z"
   },
   {
    "duration": 0,
    "start_time": "2022-04-21T17:41:34.612Z"
   },
   {
    "duration": 0,
    "start_time": "2022-04-21T17:41:34.613Z"
   },
   {
    "duration": 0,
    "start_time": "2022-04-21T17:41:34.614Z"
   },
   {
    "duration": 0,
    "start_time": "2022-04-21T17:41:34.615Z"
   },
   {
    "duration": 0,
    "start_time": "2022-04-21T17:41:34.616Z"
   },
   {
    "duration": 0,
    "start_time": "2022-04-21T17:41:34.617Z"
   },
   {
    "duration": 0,
    "start_time": "2022-04-21T17:41:34.618Z"
   },
   {
    "duration": 0,
    "start_time": "2022-04-21T17:41:34.619Z"
   },
   {
    "duration": 0,
    "start_time": "2022-04-21T17:41:34.620Z"
   },
   {
    "duration": 0,
    "start_time": "2022-04-21T17:41:34.621Z"
   },
   {
    "duration": 0,
    "start_time": "2022-04-21T17:41:34.622Z"
   },
   {
    "duration": 0,
    "start_time": "2022-04-21T17:41:34.623Z"
   },
   {
    "duration": 0,
    "start_time": "2022-04-21T17:41:34.624Z"
   },
   {
    "duration": 0,
    "start_time": "2022-04-21T17:41:34.625Z"
   },
   {
    "duration": 0,
    "start_time": "2022-04-21T17:41:34.626Z"
   },
   {
    "duration": 0,
    "start_time": "2022-04-21T17:41:34.627Z"
   },
   {
    "duration": 0,
    "start_time": "2022-04-21T17:41:34.628Z"
   },
   {
    "duration": 0,
    "start_time": "2022-04-21T17:41:34.629Z"
   },
   {
    "duration": 10,
    "start_time": "2022-04-21T17:41:48.536Z"
   },
   {
    "duration": 3,
    "start_time": "2022-04-21T17:41:51.562Z"
   },
   {
    "duration": 7,
    "start_time": "2022-04-21T17:41:51.567Z"
   },
   {
    "duration": 7,
    "start_time": "2022-04-21T17:41:51.575Z"
   },
   {
    "duration": 13,
    "start_time": "2022-04-21T17:41:51.585Z"
   },
   {
    "duration": 35,
    "start_time": "2022-04-21T17:41:51.599Z"
   },
   {
    "duration": 2,
    "start_time": "2022-04-21T17:41:51.636Z"
   },
   {
    "duration": 24,
    "start_time": "2022-04-21T17:41:51.640Z"
   },
   {
    "duration": 63,
    "start_time": "2022-04-21T17:41:51.666Z"
   },
   {
    "duration": 4,
    "start_time": "2022-04-21T17:41:51.731Z"
   },
   {
    "duration": 10,
    "start_time": "2022-04-21T17:41:51.737Z"
   },
   {
    "duration": 6,
    "start_time": "2022-04-21T17:41:51.748Z"
   },
   {
    "duration": 13,
    "start_time": "2022-04-21T17:41:51.755Z"
   },
   {
    "duration": 45,
    "start_time": "2022-04-21T17:41:51.769Z"
   },
   {
    "duration": 4,
    "start_time": "2022-04-21T17:41:51.815Z"
   },
   {
    "duration": 5,
    "start_time": "2022-04-21T17:41:51.821Z"
   },
   {
    "duration": 4,
    "start_time": "2022-04-21T17:41:51.827Z"
   },
   {
    "duration": 7,
    "start_time": "2022-04-21T17:41:51.833Z"
   },
   {
    "duration": 7,
    "start_time": "2022-04-21T17:41:51.841Z"
   },
   {
    "duration": 7,
    "start_time": "2022-04-21T17:41:51.849Z"
   },
   {
    "duration": 5,
    "start_time": "2022-04-21T17:41:51.857Z"
   },
   {
    "duration": 45,
    "start_time": "2022-04-21T17:41:51.863Z"
   },
   {
    "duration": 8,
    "start_time": "2022-04-21T17:41:51.909Z"
   },
   {
    "duration": 11,
    "start_time": "2022-04-21T17:41:51.918Z"
   },
   {
    "duration": 5,
    "start_time": "2022-04-21T17:41:51.934Z"
   },
   {
    "duration": 10,
    "start_time": "2022-04-21T17:41:51.941Z"
   },
   {
    "duration": 11,
    "start_time": "2022-04-21T17:41:51.952Z"
   },
   {
    "duration": 9,
    "start_time": "2022-04-21T17:41:51.965Z"
   },
   {
    "duration": 7,
    "start_time": "2022-04-21T17:41:51.975Z"
   },
   {
    "duration": 32,
    "start_time": "2022-04-21T17:41:51.983Z"
   },
   {
    "duration": 7,
    "start_time": "2022-04-21T17:41:52.017Z"
   },
   {
    "duration": 13,
    "start_time": "2022-04-21T17:41:52.025Z"
   },
   {
    "duration": 10,
    "start_time": "2022-04-21T17:41:52.039Z"
   },
   {
    "duration": 9,
    "start_time": "2022-04-21T17:41:52.051Z"
   },
   {
    "duration": 7,
    "start_time": "2022-04-21T17:41:52.061Z"
   },
   {
    "duration": 72,
    "start_time": "2022-04-21T17:41:52.069Z"
   },
   {
    "duration": 4,
    "start_time": "2022-04-21T17:41:52.143Z"
   },
   {
    "duration": 49,
    "start_time": "2022-04-21T17:41:52.148Z"
   },
   {
    "duration": 18,
    "start_time": "2022-04-21T17:41:52.200Z"
   },
   {
    "duration": 51,
    "start_time": "2022-04-21T17:41:52.219Z"
   },
   {
    "duration": 14,
    "start_time": "2022-04-21T17:41:52.271Z"
   },
   {
    "duration": 51,
    "start_time": "2022-04-21T17:41:52.308Z"
   },
   {
    "duration": 21,
    "start_time": "2022-04-21T17:41:52.361Z"
   },
   {
    "duration": 82,
    "start_time": "2022-04-21T17:41:52.383Z"
   },
   {
    "duration": 83,
    "start_time": "2022-04-21T17:41:52.467Z"
   },
   {
    "duration": 4,
    "start_time": "2022-04-21T17:41:52.552Z"
   },
   {
    "duration": 7,
    "start_time": "2022-04-21T17:41:52.558Z"
   },
   {
    "duration": 40,
    "start_time": "2022-04-21T17:41:52.567Z"
   },
   {
    "duration": 4,
    "start_time": "2022-04-21T17:41:52.609Z"
   },
   {
    "duration": 11,
    "start_time": "2022-04-21T17:41:52.614Z"
   },
   {
    "duration": 8,
    "start_time": "2022-04-21T17:41:52.626Z"
   },
   {
    "duration": 10,
    "start_time": "2022-04-21T17:41:52.635Z"
   },
   {
    "duration": 7,
    "start_time": "2022-04-21T17:41:52.647Z"
   },
   {
    "duration": 163,
    "start_time": "2022-04-21T17:41:52.655Z"
   },
   {
    "duration": 140,
    "start_time": "2022-04-21T17:41:52.820Z"
   },
   {
    "duration": 8,
    "start_time": "2022-04-21T17:41:52.961Z"
   },
   {
    "duration": 8,
    "start_time": "2022-04-21T17:41:52.971Z"
   },
   {
    "duration": 8,
    "start_time": "2022-04-21T17:41:52.980Z"
   },
   {
    "duration": 169,
    "start_time": "2022-04-21T17:41:52.990Z"
   },
   {
    "duration": 147,
    "start_time": "2022-04-21T17:41:53.160Z"
   },
   {
    "duration": 8,
    "start_time": "2022-04-21T17:41:53.308Z"
   },
   {
    "duration": 6,
    "start_time": "2022-04-21T17:41:53.318Z"
   },
   {
    "duration": 7,
    "start_time": "2022-04-21T17:41:53.326Z"
   },
   {
    "duration": 7,
    "start_time": "2022-04-21T17:41:53.334Z"
   },
   {
    "duration": 7,
    "start_time": "2022-04-21T17:41:53.342Z"
   },
   {
    "duration": 6,
    "start_time": "2022-04-21T17:41:53.351Z"
   },
   {
    "duration": 51,
    "start_time": "2022-04-21T17:41:53.359Z"
   },
   {
    "duration": 5,
    "start_time": "2022-04-21T17:41:53.411Z"
   },
   {
    "duration": 12,
    "start_time": "2022-04-21T17:41:53.417Z"
   },
   {
    "duration": 8,
    "start_time": "2022-04-21T17:41:53.434Z"
   },
   {
    "duration": 1822,
    "start_time": "2022-04-26T08:51:41.421Z"
   },
   {
    "duration": 5,
    "start_time": "2022-04-26T08:51:47.075Z"
   },
   {
    "duration": 9,
    "start_time": "2022-04-26T08:52:46.118Z"
   },
   {
    "duration": 5,
    "start_time": "2022-04-26T08:52:50.126Z"
   },
   {
    "duration": 5,
    "start_time": "2022-04-26T08:52:55.601Z"
   },
   {
    "duration": 5,
    "start_time": "2022-04-26T08:52:58.627Z"
   },
   {
    "duration": 5,
    "start_time": "2022-04-26T08:55:10.829Z"
   },
   {
    "duration": 6,
    "start_time": "2022-04-26T08:55:10.837Z"
   },
   {
    "duration": 7,
    "start_time": "2022-04-26T08:55:10.846Z"
   },
   {
    "duration": 24,
    "start_time": "2022-04-26T08:55:10.857Z"
   },
   {
    "duration": 91,
    "start_time": "2022-04-26T08:55:10.884Z"
   },
   {
    "duration": 5,
    "start_time": "2022-04-26T08:55:10.977Z"
   },
   {
    "duration": 43,
    "start_time": "2022-04-26T08:55:11.025Z"
   },
   {
    "duration": 68,
    "start_time": "2022-04-26T08:55:11.073Z"
   },
   {
    "duration": 8,
    "start_time": "2022-04-26T08:55:11.144Z"
   },
   {
    "duration": 16,
    "start_time": "2022-04-26T08:55:11.154Z"
   },
   {
    "duration": 9,
    "start_time": "2022-04-26T08:55:11.173Z"
   },
   {
    "duration": 45,
    "start_time": "2022-04-26T08:55:11.185Z"
   },
   {
    "duration": 43,
    "start_time": "2022-04-26T08:55:11.233Z"
   },
   {
    "duration": 46,
    "start_time": "2022-04-26T08:55:11.279Z"
   },
   {
    "duration": 7,
    "start_time": "2022-04-26T08:55:11.327Z"
   },
   {
    "duration": 6,
    "start_time": "2022-04-26T08:55:11.337Z"
   },
   {
    "duration": 8,
    "start_time": "2022-04-26T08:55:11.346Z"
   },
   {
    "duration": 8,
    "start_time": "2022-04-26T08:55:11.357Z"
   },
   {
    "duration": 58,
    "start_time": "2022-04-26T08:55:11.369Z"
   },
   {
    "duration": 6,
    "start_time": "2022-04-26T08:55:11.430Z"
   },
   {
    "duration": 6,
    "start_time": "2022-04-26T08:55:11.439Z"
   },
   {
    "duration": 6,
    "start_time": "2022-04-26T08:55:11.448Z"
   },
   {
    "duration": 767,
    "start_time": "2022-04-26T08:55:13.660Z"
   },
   {
    "duration": 6,
    "start_time": "2022-04-26T08:56:44.399Z"
   },
   {
    "duration": 5,
    "start_time": "2022-04-26T08:56:52.917Z"
   },
   {
    "duration": 9,
    "start_time": "2022-04-26T08:56:52.925Z"
   },
   {
    "duration": 6,
    "start_time": "2022-04-26T08:56:52.937Z"
   },
   {
    "duration": 23,
    "start_time": "2022-04-26T08:56:52.945Z"
   },
   {
    "duration": 74,
    "start_time": "2022-04-26T08:56:52.971Z"
   },
   {
    "duration": 4,
    "start_time": "2022-04-26T08:56:53.048Z"
   },
   {
    "duration": 27,
    "start_time": "2022-04-26T08:56:53.055Z"
   },
   {
    "duration": 72,
    "start_time": "2022-04-26T08:56:53.084Z"
   },
   {
    "duration": 6,
    "start_time": "2022-04-26T08:56:53.158Z"
   },
   {
    "duration": 8,
    "start_time": "2022-04-26T08:56:53.167Z"
   },
   {
    "duration": 4,
    "start_time": "2022-04-26T08:56:53.179Z"
   },
   {
    "duration": 14,
    "start_time": "2022-04-26T08:56:53.226Z"
   },
   {
    "duration": 35,
    "start_time": "2022-04-26T08:56:53.242Z"
   },
   {
    "duration": 6,
    "start_time": "2022-04-26T08:56:53.279Z"
   },
   {
    "duration": 41,
    "start_time": "2022-04-26T08:56:53.287Z"
   },
   {
    "duration": 12,
    "start_time": "2022-04-26T08:56:53.330Z"
   },
   {
    "duration": 8,
    "start_time": "2022-04-26T08:56:53.345Z"
   },
   {
    "duration": 11,
    "start_time": "2022-04-26T08:56:53.356Z"
   },
   {
    "duration": 10,
    "start_time": "2022-04-26T08:56:53.369Z"
   },
   {
    "duration": 7,
    "start_time": "2022-04-26T08:56:53.381Z"
   },
   {
    "duration": 4,
    "start_time": "2022-04-26T08:56:53.425Z"
   },
   {
    "duration": 9,
    "start_time": "2022-04-26T08:56:53.432Z"
   },
   {
    "duration": 450,
    "start_time": "2022-04-26T08:56:55.082Z"
   },
   {
    "duration": 827,
    "start_time": "2022-04-26T08:57:14.436Z"
   },
   {
    "duration": 22,
    "start_time": "2022-04-26T08:59:13.853Z"
   },
   {
    "duration": 6,
    "start_time": "2022-04-26T08:59:25.192Z"
   },
   {
    "duration": 8,
    "start_time": "2022-04-26T08:59:30.243Z"
   },
   {
    "duration": 5,
    "start_time": "2022-04-26T09:21:03.053Z"
   },
   {
    "duration": 19,
    "start_time": "2022-04-26T09:21:03.061Z"
   },
   {
    "duration": 40,
    "start_time": "2022-04-26T09:21:03.083Z"
   },
   {
    "duration": 45,
    "start_time": "2022-04-26T09:21:03.126Z"
   },
   {
    "duration": 66,
    "start_time": "2022-04-26T09:21:03.174Z"
   },
   {
    "duration": 5,
    "start_time": "2022-04-26T09:21:03.242Z"
   },
   {
    "duration": 48,
    "start_time": "2022-04-26T09:21:03.250Z"
   },
   {
    "duration": 54,
    "start_time": "2022-04-26T09:21:03.301Z"
   },
   {
    "duration": 17,
    "start_time": "2022-04-26T09:21:03.358Z"
   },
   {
    "duration": 20,
    "start_time": "2022-04-26T09:21:03.377Z"
   },
   {
    "duration": 39,
    "start_time": "2022-04-26T09:21:03.399Z"
   },
   {
    "duration": 56,
    "start_time": "2022-04-26T09:21:03.440Z"
   },
   {
    "duration": 37,
    "start_time": "2022-04-26T09:21:03.498Z"
   },
   {
    "duration": 11,
    "start_time": "2022-04-26T09:21:03.537Z"
   },
   {
    "duration": 25,
    "start_time": "2022-04-26T09:21:03.551Z"
   },
   {
    "duration": 13,
    "start_time": "2022-04-26T09:21:03.579Z"
   },
   {
    "duration": 24,
    "start_time": "2022-04-26T09:21:03.594Z"
   },
   {
    "duration": 22,
    "start_time": "2022-04-26T09:21:03.620Z"
   },
   {
    "duration": 33,
    "start_time": "2022-04-26T09:21:03.645Z"
   },
   {
    "duration": 21,
    "start_time": "2022-04-26T09:21:03.681Z"
   },
   {
    "duration": 21,
    "start_time": "2022-04-26T09:21:03.707Z"
   },
   {
    "duration": 59,
    "start_time": "2022-04-26T09:21:03.730Z"
   },
   {
    "duration": 47,
    "start_time": "2022-04-26T09:21:03.792Z"
   },
   {
    "duration": 20,
    "start_time": "2022-04-26T09:21:03.848Z"
   },
   {
    "duration": 52,
    "start_time": "2022-04-26T09:21:03.871Z"
   },
   {
    "duration": 31,
    "start_time": "2022-04-26T09:21:03.925Z"
   },
   {
    "duration": 41,
    "start_time": "2022-04-26T09:21:03.958Z"
   },
   {
    "duration": 25,
    "start_time": "2022-04-26T09:21:04.001Z"
   },
   {
    "duration": 32,
    "start_time": "2022-04-26T09:21:04.028Z"
   },
   {
    "duration": 162,
    "start_time": "2022-04-26T09:21:04.063Z"
   },
   {
    "duration": 71,
    "start_time": "2022-04-26T09:21:04.228Z"
   },
   {
    "duration": 27,
    "start_time": "2022-04-26T09:21:04.302Z"
   },
   {
    "duration": 42,
    "start_time": "2022-04-26T09:21:04.331Z"
   },
   {
    "duration": 45,
    "start_time": "2022-04-26T09:21:04.375Z"
   },
   {
    "duration": 31,
    "start_time": "2022-04-26T09:21:04.423Z"
   },
   {
    "duration": 41,
    "start_time": "2022-04-26T09:21:04.457Z"
   },
   {
    "duration": 103,
    "start_time": "2022-04-26T09:21:04.501Z"
   },
   {
    "duration": 46,
    "start_time": "2022-04-26T09:21:04.606Z"
   },
   {
    "duration": 90,
    "start_time": "2022-04-26T09:21:04.654Z"
   },
   {
    "duration": 49,
    "start_time": "2022-04-26T09:21:04.746Z"
   },
   {
    "duration": 96,
    "start_time": "2022-04-26T09:21:04.797Z"
   },
   {
    "duration": 39,
    "start_time": "2022-04-26T09:21:04.896Z"
   },
   {
    "duration": 141,
    "start_time": "2022-04-26T09:21:04.941Z"
   },
   {
    "duration": 113,
    "start_time": "2022-04-26T09:21:05.085Z"
   },
   {
    "duration": 182,
    "start_time": "2022-04-26T09:21:05.201Z"
   },
   {
    "duration": 170,
    "start_time": "2022-04-26T09:21:05.386Z"
   },
   {
    "duration": 7,
    "start_time": "2022-04-26T09:21:05.558Z"
   },
   {
    "duration": 27,
    "start_time": "2022-04-26T09:21:05.569Z"
   },
   {
    "duration": 47,
    "start_time": "2022-04-26T09:21:05.598Z"
   },
   {
    "duration": 6,
    "start_time": "2022-04-26T09:21:05.648Z"
   },
   {
    "duration": 14,
    "start_time": "2022-04-26T09:21:06.949Z"
   },
   {
    "duration": 33,
    "start_time": "2022-04-26T09:22:09.304Z"
   },
   {
    "duration": 29,
    "start_time": "2022-04-26T09:22:29.104Z"
   },
   {
    "duration": 6,
    "start_time": "2022-04-26T09:22:39.863Z"
   },
   {
    "duration": 4,
    "start_time": "2022-04-26T09:22:59.574Z"
   },
   {
    "duration": 5,
    "start_time": "2022-04-26T09:25:00.986Z"
   },
   {
    "duration": 8,
    "start_time": "2022-04-26T09:25:00.994Z"
   },
   {
    "duration": 26,
    "start_time": "2022-04-26T09:25:01.005Z"
   },
   {
    "duration": 22,
    "start_time": "2022-04-26T09:25:01.034Z"
   },
   {
    "duration": 70,
    "start_time": "2022-04-26T09:25:01.060Z"
   },
   {
    "duration": 3,
    "start_time": "2022-04-26T09:25:01.133Z"
   },
   {
    "duration": 33,
    "start_time": "2022-04-26T09:25:01.138Z"
   },
   {
    "duration": 73,
    "start_time": "2022-04-26T09:25:01.173Z"
   },
   {
    "duration": 5,
    "start_time": "2022-04-26T09:25:01.249Z"
   },
   {
    "duration": 10,
    "start_time": "2022-04-26T09:25:01.256Z"
   },
   {
    "duration": 9,
    "start_time": "2022-04-26T09:25:01.270Z"
   },
   {
    "duration": 54,
    "start_time": "2022-04-26T09:25:01.281Z"
   },
   {
    "duration": 35,
    "start_time": "2022-04-26T09:25:01.338Z"
   },
   {
    "duration": 6,
    "start_time": "2022-04-26T09:25:01.375Z"
   },
   {
    "duration": 44,
    "start_time": "2022-04-26T09:25:01.383Z"
   },
   {
    "duration": 8,
    "start_time": "2022-04-26T09:25:01.429Z"
   },
   {
    "duration": 13,
    "start_time": "2022-04-26T09:25:01.440Z"
   },
   {
    "duration": 16,
    "start_time": "2022-04-26T09:25:01.455Z"
   },
   {
    "duration": 15,
    "start_time": "2022-04-26T09:25:01.473Z"
   },
   {
    "duration": 9,
    "start_time": "2022-04-26T09:25:01.490Z"
   },
   {
    "duration": 24,
    "start_time": "2022-04-26T09:25:01.501Z"
   },
   {
    "duration": 14,
    "start_time": "2022-04-26T09:25:01.527Z"
   },
   {
    "duration": 28,
    "start_time": "2022-04-26T09:25:01.543Z"
   },
   {
    "duration": 20,
    "start_time": "2022-04-26T09:25:01.573Z"
   },
   {
    "duration": 18,
    "start_time": "2022-04-26T09:25:01.595Z"
   },
   {
    "duration": 21,
    "start_time": "2022-04-26T09:25:01.616Z"
   },
   {
    "duration": 22,
    "start_time": "2022-04-26T09:25:01.639Z"
   },
   {
    "duration": 22,
    "start_time": "2022-04-26T09:25:01.663Z"
   },
   {
    "duration": 13,
    "start_time": "2022-04-26T09:25:01.690Z"
   },
   {
    "duration": 24,
    "start_time": "2022-04-26T09:25:01.706Z"
   },
   {
    "duration": 17,
    "start_time": "2022-04-26T09:25:01.733Z"
   },
   {
    "duration": 11,
    "start_time": "2022-04-26T09:25:01.753Z"
   },
   {
    "duration": 20,
    "start_time": "2022-04-26T09:25:01.766Z"
   },
   {
    "duration": 49,
    "start_time": "2022-04-26T09:25:01.789Z"
   },
   {
    "duration": 23,
    "start_time": "2022-04-26T09:25:01.841Z"
   },
   {
    "duration": 14,
    "start_time": "2022-04-26T09:25:01.867Z"
   },
   {
    "duration": 86,
    "start_time": "2022-04-26T09:25:01.883Z"
   },
   {
    "duration": 29,
    "start_time": "2022-04-26T09:25:01.971Z"
   },
   {
    "duration": 82,
    "start_time": "2022-04-26T09:25:02.002Z"
   },
   {
    "duration": 29,
    "start_time": "2022-04-26T09:25:02.087Z"
   },
   {
    "duration": 82,
    "start_time": "2022-04-26T09:25:02.119Z"
   },
   {
    "duration": 33,
    "start_time": "2022-04-26T09:25:02.203Z"
   },
   {
    "duration": 92,
    "start_time": "2022-04-26T09:25:02.239Z"
   },
   {
    "duration": 43,
    "start_time": "2022-04-26T09:25:02.333Z"
   },
   {
    "duration": 133,
    "start_time": "2022-04-26T09:25:02.378Z"
   },
   {
    "duration": 163,
    "start_time": "2022-04-26T09:25:02.514Z"
   },
   {
    "duration": 7,
    "start_time": "2022-04-26T09:25:02.679Z"
   },
   {
    "duration": 14,
    "start_time": "2022-04-26T09:25:02.688Z"
   },
   {
    "duration": 42,
    "start_time": "2022-04-26T09:25:02.704Z"
   },
   {
    "duration": 9,
    "start_time": "2022-04-26T09:25:02.749Z"
   },
   {
    "duration": 9,
    "start_time": "2022-04-26T09:25:02.761Z"
   },
   {
    "duration": 13,
    "start_time": "2022-04-26T09:25:02.772Z"
   },
   {
    "duration": 23,
    "start_time": "2022-04-26T09:25:02.788Z"
   },
   {
    "duration": 6,
    "start_time": "2022-04-26T09:25:07.265Z"
   },
   {
    "duration": 13,
    "start_time": "2022-04-26T09:25:10.326Z"
   },
   {
    "duration": 6,
    "start_time": "2022-04-26T09:25:30.290Z"
   },
   {
    "duration": 6,
    "start_time": "2022-04-26T09:25:37.677Z"
   },
   {
    "duration": 6,
    "start_time": "2022-04-26T09:25:52.766Z"
   },
   {
    "duration": 5,
    "start_time": "2022-04-26T09:25:59.139Z"
   },
   {
    "duration": 10,
    "start_time": "2022-04-26T09:27:11.445Z"
   },
   {
    "duration": 4,
    "start_time": "2022-04-26T09:27:14.316Z"
   },
   {
    "duration": 11,
    "start_time": "2022-04-26T09:27:14.323Z"
   },
   {
    "duration": 16,
    "start_time": "2022-04-26T09:27:14.336Z"
   },
   {
    "duration": 21,
    "start_time": "2022-04-26T09:27:14.354Z"
   },
   {
    "duration": 70,
    "start_time": "2022-04-26T09:27:14.378Z"
   },
   {
    "duration": 3,
    "start_time": "2022-04-26T09:27:14.450Z"
   },
   {
    "duration": 29,
    "start_time": "2022-04-26T09:27:14.455Z"
   },
   {
    "duration": 47,
    "start_time": "2022-04-26T09:27:14.486Z"
   },
   {
    "duration": 6,
    "start_time": "2022-04-26T09:27:14.536Z"
   },
   {
    "duration": 9,
    "start_time": "2022-04-26T09:27:14.544Z"
   },
   {
    "duration": 8,
    "start_time": "2022-04-26T09:27:14.556Z"
   },
   {
    "duration": 17,
    "start_time": "2022-04-26T09:27:14.566Z"
   },
   {
    "duration": 36,
    "start_time": "2022-04-26T09:27:14.585Z"
   },
   {
    "duration": 6,
    "start_time": "2022-04-26T09:27:14.623Z"
   },
   {
    "duration": 5,
    "start_time": "2022-04-26T09:27:15.270Z"
   },
   {
    "duration": 8,
    "start_time": "2022-04-26T09:27:15.278Z"
   },
   {
    "duration": 11,
    "start_time": "2022-04-26T09:27:15.288Z"
   },
   {
    "duration": 8,
    "start_time": "2022-04-26T09:27:15.325Z"
   },
   {
    "duration": 12,
    "start_time": "2022-04-26T09:27:15.335Z"
   },
   {
    "duration": 8,
    "start_time": "2022-04-26T09:27:15.349Z"
   },
   {
    "duration": 12,
    "start_time": "2022-04-26T09:27:15.359Z"
   },
   {
    "duration": 52,
    "start_time": "2022-04-26T09:27:15.373Z"
   },
   {
    "duration": 20,
    "start_time": "2022-04-26T09:27:15.427Z"
   },
   {
    "duration": 11,
    "start_time": "2022-04-26T09:27:15.451Z"
   },
   {
    "duration": 62,
    "start_time": "2022-04-26T09:27:15.464Z"
   },
   {
    "duration": 10,
    "start_time": "2022-04-26T09:27:15.528Z"
   },
   {
    "duration": 15,
    "start_time": "2022-04-26T09:27:15.540Z"
   },
   {
    "duration": 14,
    "start_time": "2022-04-26T09:27:15.557Z"
   },
   {
    "duration": 51,
    "start_time": "2022-04-26T09:27:15.573Z"
   },
   {
    "duration": 6,
    "start_time": "2022-04-26T09:27:15.626Z"
   },
   {
    "duration": 16,
    "start_time": "2022-04-26T09:27:15.634Z"
   },
   {
    "duration": 10,
    "start_time": "2022-04-26T09:27:15.652Z"
   },
   {
    "duration": 17,
    "start_time": "2022-04-26T09:27:15.664Z"
   },
   {
    "duration": 43,
    "start_time": "2022-04-26T09:27:15.683Z"
   },
   {
    "duration": 12,
    "start_time": "2022-04-26T09:27:15.728Z"
   },
   {
    "duration": 16,
    "start_time": "2022-04-26T09:27:15.742Z"
   },
   {
    "duration": 94,
    "start_time": "2022-04-26T09:27:15.760Z"
   },
   {
    "duration": 10,
    "start_time": "2022-04-26T09:27:15.856Z"
   },
   {
    "duration": 85,
    "start_time": "2022-04-26T09:27:15.868Z"
   },
   {
    "duration": 22,
    "start_time": "2022-04-26T09:27:15.955Z"
   },
   {
    "duration": 90,
    "start_time": "2022-04-26T09:27:15.980Z"
   },
   {
    "duration": 20,
    "start_time": "2022-04-26T09:27:16.076Z"
   },
   {
    "duration": 97,
    "start_time": "2022-04-26T09:27:16.098Z"
   },
   {
    "duration": 50,
    "start_time": "2022-04-26T09:27:16.197Z"
   },
   {
    "duration": 175,
    "start_time": "2022-04-26T09:27:16.249Z"
   },
   {
    "duration": 150,
    "start_time": "2022-04-26T09:27:16.427Z"
   },
   {
    "duration": 7,
    "start_time": "2022-04-26T09:27:16.579Z"
   },
   {
    "duration": 7,
    "start_time": "2022-04-26T09:27:16.588Z"
   },
   {
    "duration": 46,
    "start_time": "2022-04-26T09:27:16.597Z"
   },
   {
    "duration": 5,
    "start_time": "2022-04-26T09:27:16.646Z"
   },
   {
    "duration": 11,
    "start_time": "2022-04-26T09:27:16.653Z"
   },
   {
    "duration": 6,
    "start_time": "2022-04-26T09:27:16.666Z"
   },
   {
    "duration": 11,
    "start_time": "2022-04-26T09:27:16.674Z"
   },
   {
    "duration": 38,
    "start_time": "2022-04-26T09:27:16.687Z"
   },
   {
    "duration": 9,
    "start_time": "2022-04-26T09:27:16.728Z"
   },
   {
    "duration": 7,
    "start_time": "2022-04-26T09:27:16.739Z"
   },
   {
    "duration": 18,
    "start_time": "2022-04-26T09:27:16.747Z"
   },
   {
    "duration": 13,
    "start_time": "2022-04-26T09:27:16.767Z"
   },
   {
    "duration": 251,
    "start_time": "2022-04-26T09:27:16.782Z"
   },
   {
    "duration": 216,
    "start_time": "2022-04-26T09:27:17.036Z"
   },
   {
    "duration": 11,
    "start_time": "2022-04-26T09:27:17.255Z"
   },
   {
    "duration": 13,
    "start_time": "2022-04-26T09:27:17.268Z"
   },
   {
    "duration": 12,
    "start_time": "2022-04-26T09:27:17.283Z"
   },
   {
    "duration": 261,
    "start_time": "2022-04-26T09:27:17.297Z"
   },
   {
    "duration": 237,
    "start_time": "2022-04-26T09:27:17.561Z"
   },
   {
    "duration": 12,
    "start_time": "2022-04-26T09:27:17.800Z"
   },
   {
    "duration": 6,
    "start_time": "2022-04-26T09:27:17.825Z"
   },
   {
    "duration": 9,
    "start_time": "2022-04-26T09:27:17.834Z"
   },
   {
    "duration": 13,
    "start_time": "2022-04-26T09:27:17.845Z"
   },
   {
    "duration": 13,
    "start_time": "2022-04-26T09:27:17.860Z"
   },
   {
    "duration": 10,
    "start_time": "2022-04-26T09:27:17.876Z"
   },
   {
    "duration": 27,
    "start_time": "2022-04-26T09:27:19.975Z"
   },
   {
    "duration": 6,
    "start_time": "2022-04-26T09:27:32.938Z"
   },
   {
    "duration": 7,
    "start_time": "2022-04-26T09:27:35.609Z"
   },
   {
    "duration": 5,
    "start_time": "2022-04-26T09:27:40.294Z"
   },
   {
    "duration": 13,
    "start_time": "2022-04-26T09:28:30.810Z"
   },
   {
    "duration": 6,
    "start_time": "2022-04-26T09:28:40.620Z"
   },
   {
    "duration": 5,
    "start_time": "2022-04-26T09:28:58.410Z"
   },
   {
    "duration": 5,
    "start_time": "2022-04-26T09:29:03.572Z"
   },
   {
    "duration": 24,
    "start_time": "2022-04-26T09:29:03.579Z"
   },
   {
    "duration": 58,
    "start_time": "2022-04-26T09:29:03.605Z"
   },
   {
    "duration": 29,
    "start_time": "2022-04-26T09:29:03.666Z"
   },
   {
    "duration": 51,
    "start_time": "2022-04-26T09:29:03.697Z"
   },
   {
    "duration": 3,
    "start_time": "2022-04-26T09:29:03.751Z"
   },
   {
    "duration": 36,
    "start_time": "2022-04-26T09:29:03.756Z"
   },
   {
    "duration": 69,
    "start_time": "2022-04-26T09:29:03.795Z"
   },
   {
    "duration": 7,
    "start_time": "2022-04-26T09:29:03.868Z"
   },
   {
    "duration": 49,
    "start_time": "2022-04-26T09:29:03.877Z"
   },
   {
    "duration": 6,
    "start_time": "2022-04-26T09:29:03.928Z"
   },
   {
    "duration": 24,
    "start_time": "2022-04-26T09:29:03.936Z"
   },
   {
    "duration": 68,
    "start_time": "2022-04-26T09:29:03.963Z"
   },
   {
    "duration": 7,
    "start_time": "2022-04-26T09:29:04.034Z"
   },
   {
    "duration": 12,
    "start_time": "2022-04-26T09:29:04.044Z"
   },
   {
    "duration": 8,
    "start_time": "2022-04-26T09:29:04.058Z"
   },
   {
    "duration": 17,
    "start_time": "2022-04-26T09:29:04.068Z"
   },
   {
    "duration": 43,
    "start_time": "2022-04-26T09:29:04.087Z"
   },
   {
    "duration": 54,
    "start_time": "2022-04-26T09:29:04.132Z"
   },
   {
    "duration": 27,
    "start_time": "2022-04-26T09:29:04.188Z"
   },
   {
    "duration": 16,
    "start_time": "2022-04-26T09:29:04.217Z"
   },
   {
    "duration": 41,
    "start_time": "2022-04-26T09:29:04.235Z"
   },
   {
    "duration": 33,
    "start_time": "2022-04-26T09:29:04.278Z"
   },
   {
    "duration": 15,
    "start_time": "2022-04-26T09:29:04.318Z"
   },
   {
    "duration": 24,
    "start_time": "2022-04-26T09:29:04.335Z"
   },
   {
    "duration": 20,
    "start_time": "2022-04-26T09:29:04.361Z"
   },
   {
    "duration": 34,
    "start_time": "2022-04-26T09:29:04.383Z"
   },
   {
    "duration": 17,
    "start_time": "2022-04-26T09:29:04.419Z"
   },
   {
    "duration": 37,
    "start_time": "2022-04-26T09:29:04.438Z"
   },
   {
    "duration": 24,
    "start_time": "2022-04-26T09:29:04.477Z"
   },
   {
    "duration": 21,
    "start_time": "2022-04-26T09:29:04.503Z"
   },
   {
    "duration": 19,
    "start_time": "2022-04-26T09:29:04.526Z"
   },
   {
    "duration": 60,
    "start_time": "2022-04-26T09:29:04.547Z"
   },
   {
    "duration": 19,
    "start_time": "2022-04-26T09:29:04.609Z"
   },
   {
    "duration": 17,
    "start_time": "2022-04-26T09:29:04.630Z"
   },
   {
    "duration": 11,
    "start_time": "2022-04-26T09:29:04.649Z"
   },
   {
    "duration": 88,
    "start_time": "2022-04-26T09:29:04.663Z"
   },
   {
    "duration": 36,
    "start_time": "2022-04-26T09:29:04.754Z"
   },
   {
    "duration": 82,
    "start_time": "2022-04-26T09:29:04.792Z"
   },
   {
    "duration": 39,
    "start_time": "2022-04-26T09:29:04.877Z"
   },
   {
    "duration": 80,
    "start_time": "2022-04-26T09:29:04.919Z"
   },
   {
    "duration": 38,
    "start_time": "2022-04-26T09:29:05.002Z"
   },
   {
    "duration": 95,
    "start_time": "2022-04-26T09:29:05.043Z"
   },
   {
    "duration": 52,
    "start_time": "2022-04-26T09:29:05.141Z"
   },
   {
    "duration": 133,
    "start_time": "2022-04-26T09:29:05.196Z"
   },
   {
    "duration": 171,
    "start_time": "2022-04-26T09:29:05.331Z"
   },
   {
    "duration": 24,
    "start_time": "2022-04-26T09:29:05.504Z"
   },
   {
    "duration": 13,
    "start_time": "2022-04-26T09:29:05.531Z"
   },
   {
    "duration": 58,
    "start_time": "2022-04-26T09:29:05.546Z"
   },
   {
    "duration": 6,
    "start_time": "2022-04-26T09:29:05.606Z"
   },
   {
    "duration": 17,
    "start_time": "2022-04-26T09:29:05.615Z"
   },
   {
    "duration": 14,
    "start_time": "2022-04-26T09:29:05.634Z"
   },
   {
    "duration": 24,
    "start_time": "2022-04-26T09:29:05.651Z"
   },
   {
    "duration": 18,
    "start_time": "2022-04-26T09:29:05.678Z"
   },
   {
    "duration": 30,
    "start_time": "2022-04-26T09:29:05.698Z"
   },
   {
    "duration": 9,
    "start_time": "2022-04-26T09:29:05.730Z"
   },
   {
    "duration": 20,
    "start_time": "2022-04-26T09:29:05.741Z"
   },
   {
    "duration": 15,
    "start_time": "2022-04-26T09:29:05.763Z"
   },
   {
    "duration": 220,
    "start_time": "2022-04-26T09:29:05.781Z"
   },
   {
    "duration": 241,
    "start_time": "2022-04-26T09:29:06.004Z"
   },
   {
    "duration": 11,
    "start_time": "2022-04-26T09:29:06.247Z"
   },
   {
    "duration": 15,
    "start_time": "2022-04-26T09:29:06.260Z"
   },
   {
    "duration": 20,
    "start_time": "2022-04-26T09:29:06.277Z"
   },
   {
    "duration": 319,
    "start_time": "2022-04-26T09:29:06.299Z"
   },
   {
    "duration": 233,
    "start_time": "2022-04-26T09:29:06.620Z"
   },
   {
    "duration": 11,
    "start_time": "2022-04-26T09:29:06.855Z"
   },
   {
    "duration": 12,
    "start_time": "2022-04-26T09:29:06.868Z"
   },
   {
    "duration": 11,
    "start_time": "2022-04-26T09:29:06.882Z"
   },
   {
    "duration": 7,
    "start_time": "2022-04-26T09:29:06.925Z"
   },
   {
    "duration": 10,
    "start_time": "2022-04-26T09:29:06.935Z"
   },
   {
    "duration": 11,
    "start_time": "2022-04-26T09:29:06.947Z"
   },
   {
    "duration": 28,
    "start_time": "2022-04-26T09:29:06.961Z"
   },
   {
    "duration": 35,
    "start_time": "2022-04-26T09:29:06.992Z"
   },
   {
    "duration": 11,
    "start_time": "2022-04-26T09:29:07.030Z"
   },
   {
    "duration": 9,
    "start_time": "2022-04-26T09:29:07.043Z"
   },
   {
    "duration": 19,
    "start_time": "2022-04-26T09:29:07.055Z"
   },
   {
    "duration": 11,
    "start_time": "2022-04-26T09:29:07.077Z"
   },
   {
    "duration": 45,
    "start_time": "2022-04-26T09:29:07.091Z"
   },
   {
    "duration": 12,
    "start_time": "2022-04-26T09:29:07.138Z"
   },
   {
    "duration": 10,
    "start_time": "2022-04-26T09:36:17.150Z"
   },
   {
    "duration": 13,
    "start_time": "2022-04-26T09:36:23.447Z"
   },
   {
    "duration": 12,
    "start_time": "2022-04-26T09:36:33.548Z"
   },
   {
    "duration": 218,
    "start_time": "2022-04-26T09:55:28.847Z"
   },
   {
    "duration": 219,
    "start_time": "2022-04-26T09:55:49.334Z"
   },
   {
    "duration": 215,
    "start_time": "2022-04-26T09:55:53.188Z"
   },
   {
    "duration": 215,
    "start_time": "2022-04-26T09:55:56.450Z"
   },
   {
    "duration": 4,
    "start_time": "2022-04-26T09:55:59.473Z"
   },
   {
    "duration": 7,
    "start_time": "2022-04-26T09:55:59.479Z"
   },
   {
    "duration": 7,
    "start_time": "2022-04-26T09:55:59.489Z"
   },
   {
    "duration": 14,
    "start_time": "2022-04-26T09:55:59.499Z"
   },
   {
    "duration": 46,
    "start_time": "2022-04-26T09:55:59.516Z"
   },
   {
    "duration": 4,
    "start_time": "2022-04-26T09:55:59.564Z"
   },
   {
    "duration": 31,
    "start_time": "2022-04-26T09:55:59.570Z"
   },
   {
    "duration": 63,
    "start_time": "2022-04-26T09:55:59.603Z"
   },
   {
    "duration": 6,
    "start_time": "2022-04-26T09:55:59.668Z"
   },
   {
    "duration": 52,
    "start_time": "2022-04-26T09:55:59.676Z"
   },
   {
    "duration": 7,
    "start_time": "2022-04-26T09:55:59.732Z"
   },
   {
    "duration": 20,
    "start_time": "2022-04-26T09:55:59.741Z"
   },
   {
    "duration": 68,
    "start_time": "2022-04-26T09:55:59.763Z"
   },
   {
    "duration": 6,
    "start_time": "2022-04-26T09:55:59.833Z"
   },
   {
    "duration": 8,
    "start_time": "2022-04-26T09:55:59.841Z"
   },
   {
    "duration": 5,
    "start_time": "2022-04-26T09:55:59.851Z"
   },
   {
    "duration": 10,
    "start_time": "2022-04-26T09:55:59.858Z"
   },
   {
    "duration": 55,
    "start_time": "2022-04-26T09:55:59.871Z"
   },
   {
    "duration": 8,
    "start_time": "2022-04-26T09:55:59.928Z"
   },
   {
    "duration": 8,
    "start_time": "2022-04-26T09:55:59.938Z"
   },
   {
    "duration": 8,
    "start_time": "2022-04-26T09:55:59.948Z"
   },
   {
    "duration": 7,
    "start_time": "2022-04-26T09:55:59.958Z"
   },
   {
    "duration": 21,
    "start_time": "2022-04-26T09:55:59.967Z"
   },
   {
    "duration": 6,
    "start_time": "2022-04-26T09:56:00.024Z"
   },
   {
    "duration": 23,
    "start_time": "2022-04-26T09:56:00.032Z"
   },
   {
    "duration": 16,
    "start_time": "2022-04-26T09:56:00.057Z"
   },
   {
    "duration": 31,
    "start_time": "2022-04-26T09:56:00.075Z"
   },
   {
    "duration": 20,
    "start_time": "2022-04-26T09:56:00.113Z"
   },
   {
    "duration": 21,
    "start_time": "2022-04-26T09:56:00.135Z"
   },
   {
    "duration": 73,
    "start_time": "2022-04-26T09:56:00.160Z"
   },
   {
    "duration": 30,
    "start_time": "2022-04-26T09:56:00.236Z"
   },
   {
    "duration": 28,
    "start_time": "2022-04-26T09:56:00.269Z"
   },
   {
    "duration": 22,
    "start_time": "2022-04-26T09:56:00.299Z"
   },
   {
    "duration": 30,
    "start_time": "2022-04-26T09:56:00.324Z"
   },
   {
    "duration": 30,
    "start_time": "2022-04-26T09:56:00.356Z"
   },
   {
    "duration": 27,
    "start_time": "2022-04-26T09:56:00.388Z"
   },
   {
    "duration": 97,
    "start_time": "2022-04-26T09:56:00.417Z"
   },
   {
    "duration": 43,
    "start_time": "2022-04-26T09:56:00.517Z"
   },
   {
    "duration": 80,
    "start_time": "2022-04-26T09:56:00.562Z"
   },
   {
    "duration": 33,
    "start_time": "2022-04-26T09:56:00.644Z"
   },
   {
    "duration": 90,
    "start_time": "2022-04-26T09:56:00.679Z"
   },
   {
    "duration": 36,
    "start_time": "2022-04-26T09:56:00.771Z"
   },
   {
    "duration": 81,
    "start_time": "2022-04-26T09:56:00.809Z"
   },
   {
    "duration": 39,
    "start_time": "2022-04-26T09:56:00.892Z"
   },
   {
    "duration": 141,
    "start_time": "2022-04-26T09:56:00.933Z"
   },
   {
    "duration": 165,
    "start_time": "2022-04-26T09:56:01.076Z"
   },
   {
    "duration": 7,
    "start_time": "2022-04-26T09:56:01.243Z"
   },
   {
    "duration": 20,
    "start_time": "2022-04-26T09:56:01.252Z"
   },
   {
    "duration": 74,
    "start_time": "2022-04-26T09:56:01.274Z"
   },
   {
    "duration": 22,
    "start_time": "2022-04-26T09:56:01.350Z"
   },
   {
    "duration": 13,
    "start_time": "2022-04-26T09:56:01.374Z"
   },
   {
    "duration": 11,
    "start_time": "2022-04-26T09:56:01.389Z"
   },
   {
    "duration": 15,
    "start_time": "2022-04-26T09:56:01.403Z"
   },
   {
    "duration": 9,
    "start_time": "2022-04-26T09:56:01.420Z"
   },
   {
    "duration": 20,
    "start_time": "2022-04-26T09:56:01.431Z"
   },
   {
    "duration": 24,
    "start_time": "2022-04-26T09:56:01.453Z"
   },
   {
    "duration": 17,
    "start_time": "2022-04-26T09:56:01.479Z"
   },
   {
    "duration": 27,
    "start_time": "2022-04-26T09:56:01.499Z"
   },
   {
    "duration": 15,
    "start_time": "2022-04-26T09:56:01.529Z"
   },
   {
    "duration": 40,
    "start_time": "2022-04-26T09:56:01.546Z"
   },
   {
    "duration": 204,
    "start_time": "2022-04-26T09:56:01.589Z"
   },
   {
    "duration": 218,
    "start_time": "2022-04-26T09:56:01.795Z"
   },
   {
    "duration": 17,
    "start_time": "2022-04-26T09:56:02.015Z"
   },
   {
    "duration": 16,
    "start_time": "2022-04-26T09:56:02.035Z"
   },
   {
    "duration": 39,
    "start_time": "2022-04-26T09:56:02.054Z"
   },
   {
    "duration": 331,
    "start_time": "2022-04-26T09:56:02.096Z"
   },
   {
    "duration": 243,
    "start_time": "2022-04-26T09:56:02.430Z"
   },
   {
    "duration": 305,
    "start_time": "2022-04-26T09:56:04.253Z"
   },
   {
    "duration": 223,
    "start_time": "2022-04-26T09:56:23.120Z"
   },
   {
    "duration": 200,
    "start_time": "2022-04-26T09:56:34.173Z"
   },
   {
    "duration": 203,
    "start_time": "2022-04-26T09:56:58.821Z"
   },
   {
    "duration": 200,
    "start_time": "2022-04-26T09:57:06.088Z"
   },
   {
    "duration": 217,
    "start_time": "2022-04-26T09:57:11.769Z"
   },
   {
    "duration": 217,
    "start_time": "2022-04-26T09:57:45.307Z"
   },
   {
    "duration": 224,
    "start_time": "2022-04-26T09:57:50.424Z"
   },
   {
    "duration": 285,
    "start_time": "2022-04-26T09:57:57.429Z"
   },
   {
    "duration": 215,
    "start_time": "2022-04-26T09:59:22.867Z"
   },
   {
    "duration": 8,
    "start_time": "2022-04-26T10:00:01.909Z"
   },
   {
    "duration": 7,
    "start_time": "2022-04-26T10:00:43.203Z"
   },
   {
    "duration": 231,
    "start_time": "2022-04-26T10:00:52.025Z"
   },
   {
    "duration": 222,
    "start_time": "2022-04-26T10:01:32.967Z"
   },
   {
    "duration": 321,
    "start_time": "2022-04-26T10:01:43.109Z"
   },
   {
    "duration": 1598,
    "start_time": "2022-04-26T10:21:44.280Z"
   },
   {
    "duration": 6,
    "start_time": "2022-04-26T10:21:45.881Z"
   },
   {
    "duration": 15,
    "start_time": "2022-04-26T10:21:45.889Z"
   },
   {
    "duration": 50,
    "start_time": "2022-04-26T10:21:45.907Z"
   },
   {
    "duration": 79,
    "start_time": "2022-04-26T10:21:45.960Z"
   },
   {
    "duration": 4,
    "start_time": "2022-04-26T10:21:46.041Z"
   },
   {
    "duration": 39,
    "start_time": "2022-04-26T10:21:46.048Z"
   },
   {
    "duration": 58,
    "start_time": "2022-04-26T10:21:46.090Z"
   },
   {
    "duration": 7,
    "start_time": "2022-04-26T10:21:46.150Z"
   },
   {
    "duration": 17,
    "start_time": "2022-04-26T10:21:46.161Z"
   },
   {
    "duration": 21,
    "start_time": "2022-04-26T10:21:46.181Z"
   },
   {
    "duration": 44,
    "start_time": "2022-04-26T10:21:46.205Z"
   },
   {
    "duration": 36,
    "start_time": "2022-04-26T10:21:46.252Z"
   },
   {
    "duration": 6,
    "start_time": "2022-04-26T10:21:46.290Z"
   },
   {
    "duration": 26,
    "start_time": "2022-04-26T10:21:46.298Z"
   },
   {
    "duration": 23,
    "start_time": "2022-04-26T10:21:46.326Z"
   },
   {
    "duration": 13,
    "start_time": "2022-04-26T10:21:46.352Z"
   },
   {
    "duration": 29,
    "start_time": "2022-04-26T10:21:46.368Z"
   },
   {
    "duration": 26,
    "start_time": "2022-04-26T10:21:46.399Z"
   },
   {
    "duration": 25,
    "start_time": "2022-04-26T10:21:46.427Z"
   },
   {
    "duration": 28,
    "start_time": "2022-04-26T10:21:46.455Z"
   },
   {
    "duration": 17,
    "start_time": "2022-04-26T10:21:46.485Z"
   },
   {
    "duration": 76,
    "start_time": "2022-04-26T10:21:46.505Z"
   },
   {
    "duration": 12,
    "start_time": "2022-04-26T10:21:46.584Z"
   },
   {
    "duration": 21,
    "start_time": "2022-04-26T10:21:46.599Z"
   },
   {
    "duration": 34,
    "start_time": "2022-04-26T10:21:46.623Z"
   },
   {
    "duration": 23,
    "start_time": "2022-04-26T10:21:46.659Z"
   },
   {
    "duration": 12,
    "start_time": "2022-04-26T10:21:46.691Z"
   },
   {
    "duration": 27,
    "start_time": "2022-04-26T10:21:46.706Z"
   },
   {
    "duration": 19,
    "start_time": "2022-04-26T10:21:46.736Z"
   },
   {
    "duration": 37,
    "start_time": "2022-04-26T10:21:46.758Z"
   },
   {
    "duration": 29,
    "start_time": "2022-04-26T10:21:46.798Z"
   },
   {
    "duration": 38,
    "start_time": "2022-04-26T10:21:46.829Z"
   },
   {
    "duration": 21,
    "start_time": "2022-04-26T10:21:46.870Z"
   },
   {
    "duration": 20,
    "start_time": "2022-04-26T10:21:46.894Z"
   },
   {
    "duration": 33,
    "start_time": "2022-04-26T10:21:46.916Z"
   },
   {
    "duration": 89,
    "start_time": "2022-04-26T10:21:46.952Z"
   },
   {
    "duration": 29,
    "start_time": "2022-04-26T10:21:47.043Z"
   },
   {
    "duration": 87,
    "start_time": "2022-04-26T10:21:47.075Z"
   },
   {
    "duration": 27,
    "start_time": "2022-04-26T10:21:47.165Z"
   },
   {
    "duration": 107,
    "start_time": "2022-04-26T10:21:47.194Z"
   },
   {
    "duration": 27,
    "start_time": "2022-04-26T10:21:47.304Z"
   },
   {
    "duration": 94,
    "start_time": "2022-04-26T10:21:47.334Z"
   },
   {
    "duration": 35,
    "start_time": "2022-04-26T10:21:47.430Z"
   },
   {
    "duration": 148,
    "start_time": "2022-04-26T10:21:47.467Z"
   },
   {
    "duration": 163,
    "start_time": "2022-04-26T10:21:47.617Z"
   },
   {
    "duration": 7,
    "start_time": "2022-04-26T10:21:47.782Z"
   },
   {
    "duration": 11,
    "start_time": "2022-04-26T10:21:47.791Z"
   },
   {
    "duration": 52,
    "start_time": "2022-04-26T10:21:47.804Z"
   },
   {
    "duration": 6,
    "start_time": "2022-04-26T10:21:47.859Z"
   },
   {
    "duration": 115,
    "start_time": "2022-04-26T10:21:47.867Z"
   },
   {
    "duration": 15,
    "start_time": "2022-04-26T10:21:47.985Z"
   },
   {
    "duration": 15,
    "start_time": "2022-04-26T10:21:48.003Z"
   },
   {
    "duration": 18,
    "start_time": "2022-04-26T10:21:48.021Z"
   },
   {
    "duration": 29,
    "start_time": "2022-04-26T10:21:48.042Z"
   },
   {
    "duration": 31,
    "start_time": "2022-04-26T10:21:48.074Z"
   },
   {
    "duration": 37,
    "start_time": "2022-04-26T10:21:48.107Z"
   },
   {
    "duration": 18,
    "start_time": "2022-04-26T10:21:48.146Z"
   },
   {
    "duration": 37,
    "start_time": "2022-04-26T10:21:48.166Z"
   },
   {
    "duration": 14,
    "start_time": "2022-04-26T10:21:48.205Z"
   },
   {
    "duration": 224,
    "start_time": "2022-04-26T10:21:48.221Z"
   },
   {
    "duration": 220,
    "start_time": "2022-04-26T10:21:48.448Z"
   },
   {
    "duration": 12,
    "start_time": "2022-04-26T10:21:48.671Z"
   },
   {
    "duration": 10,
    "start_time": "2022-04-26T10:21:48.686Z"
   },
   {
    "duration": 11,
    "start_time": "2022-04-26T10:21:48.724Z"
   },
   {
    "duration": 242,
    "start_time": "2022-04-26T10:21:48.738Z"
   },
   {
    "duration": 226,
    "start_time": "2022-04-26T10:21:48.983Z"
   },
   {
    "duration": 244,
    "start_time": "2022-04-26T10:21:49.212Z"
   },
   {
    "duration": 12,
    "start_time": "2022-04-26T10:21:49.459Z"
   },
   {
    "duration": 8,
    "start_time": "2022-04-26T10:21:49.474Z"
   },
   {
    "duration": 45,
    "start_time": "2022-04-26T10:21:49.485Z"
   },
   {
    "duration": 12,
    "start_time": "2022-04-26T10:21:49.533Z"
   },
   {
    "duration": 11,
    "start_time": "2022-04-26T10:21:49.547Z"
   },
   {
    "duration": 7,
    "start_time": "2022-04-26T10:21:49.561Z"
   },
   {
    "duration": 53,
    "start_time": "2022-04-26T10:21:49.571Z"
   },
   {
    "duration": 5,
    "start_time": "2022-04-26T10:21:49.627Z"
   },
   {
    "duration": 30,
    "start_time": "2022-04-26T10:21:49.634Z"
   },
   {
    "duration": 8,
    "start_time": "2022-04-26T10:21:49.666Z"
   },
   {
    "duration": 28,
    "start_time": "2022-04-26T10:21:49.677Z"
   },
   {
    "duration": 12,
    "start_time": "2022-04-26T10:21:49.707Z"
   },
   {
    "duration": 28,
    "start_time": "2022-04-26T10:21:49.721Z"
   },
   {
    "duration": 24,
    "start_time": "2022-04-26T10:21:49.757Z"
   },
   {
    "duration": 112,
    "start_time": "2022-04-28T08:26:34.066Z"
   },
   {
    "duration": 1811,
    "start_time": "2022-04-28T08:26:37.155Z"
   },
   {
    "duration": 5,
    "start_time": "2022-04-28T08:26:38.969Z"
   },
   {
    "duration": 18,
    "start_time": "2022-04-28T08:26:38.976Z"
   },
   {
    "duration": 22,
    "start_time": "2022-04-28T08:26:38.997Z"
   },
   {
    "duration": 54,
    "start_time": "2022-04-28T08:26:39.021Z"
   },
   {
    "duration": 17,
    "start_time": "2022-04-28T08:26:39.077Z"
   },
   {
    "duration": 58,
    "start_time": "2022-04-28T08:26:39.096Z"
   },
   {
    "duration": 45,
    "start_time": "2022-04-28T08:26:39.156Z"
   },
   {
    "duration": 6,
    "start_time": "2022-04-28T08:26:39.203Z"
   },
   {
    "duration": 6,
    "start_time": "2022-04-28T08:26:39.213Z"
   },
   {
    "duration": 4,
    "start_time": "2022-04-28T08:26:39.222Z"
   },
   {
    "duration": 20,
    "start_time": "2022-04-28T08:26:39.229Z"
   },
   {
    "duration": 76,
    "start_time": "2022-04-28T08:26:39.251Z"
   },
   {
    "duration": 6,
    "start_time": "2022-04-28T08:26:39.329Z"
   },
   {
    "duration": 7,
    "start_time": "2022-04-28T08:26:39.337Z"
   },
   {
    "duration": 47,
    "start_time": "2022-04-28T08:26:39.346Z"
   },
   {
    "duration": 8,
    "start_time": "2022-04-28T08:26:39.396Z"
   },
   {
    "duration": 8,
    "start_time": "2022-04-28T08:26:39.406Z"
   },
   {
    "duration": 9,
    "start_time": "2022-04-28T08:26:39.416Z"
   },
   {
    "duration": 7,
    "start_time": "2022-04-28T08:26:39.427Z"
   },
   {
    "duration": 5,
    "start_time": "2022-04-28T08:26:39.436Z"
   },
   {
    "duration": 51,
    "start_time": "2022-04-28T08:26:39.442Z"
   },
   {
    "duration": 18,
    "start_time": "2022-04-28T08:26:39.497Z"
   },
   {
    "duration": 10,
    "start_time": "2022-04-28T08:26:39.518Z"
   },
   {
    "duration": 14,
    "start_time": "2022-04-28T08:26:39.530Z"
   },
   {
    "duration": 9,
    "start_time": "2022-04-28T08:26:39.547Z"
   },
   {
    "duration": 46,
    "start_time": "2022-04-28T08:26:39.558Z"
   },
   {
    "duration": 8,
    "start_time": "2022-04-28T08:26:39.609Z"
   },
   {
    "duration": 14,
    "start_time": "2022-04-28T08:26:39.619Z"
   },
   {
    "duration": 10,
    "start_time": "2022-04-28T08:26:39.635Z"
   },
   {
    "duration": 46,
    "start_time": "2022-04-28T08:26:39.647Z"
   },
   {
    "duration": 6,
    "start_time": "2022-04-28T08:26:39.696Z"
   },
   {
    "duration": 20,
    "start_time": "2022-04-28T08:26:39.704Z"
   },
   {
    "duration": 11,
    "start_time": "2022-04-28T08:26:39.727Z"
   },
   {
    "duration": 14,
    "start_time": "2022-04-28T08:26:39.740Z"
   },
   {
    "duration": 38,
    "start_time": "2022-04-28T08:26:39.756Z"
   },
   {
    "duration": 75,
    "start_time": "2022-04-28T08:26:39.797Z"
   },
   {
    "duration": 6,
    "start_time": "2022-04-28T08:26:39.874Z"
   },
   {
    "duration": 72,
    "start_time": "2022-04-28T08:26:39.893Z"
   },
   {
    "duration": 42,
    "start_time": "2022-04-28T08:26:39.968Z"
   },
   {
    "duration": 87,
    "start_time": "2022-04-28T08:26:40.012Z"
   },
   {
    "duration": 24,
    "start_time": "2022-04-28T08:26:40.101Z"
   },
   {
    "duration": 90,
    "start_time": "2022-04-28T08:26:40.127Z"
   },
   {
    "duration": 41,
    "start_time": "2022-04-28T08:26:40.219Z"
   },
   {
    "duration": 140,
    "start_time": "2022-04-28T08:26:40.262Z"
   },
   {
    "duration": 163,
    "start_time": "2022-04-28T08:26:40.404Z"
   },
   {
    "duration": 7,
    "start_time": "2022-04-28T08:26:40.569Z"
   },
   {
    "duration": 20,
    "start_time": "2022-04-28T08:26:40.579Z"
   },
   {
    "duration": 8,
    "start_time": "2022-04-28T08:26:41.670Z"
   },
   {
    "duration": 116,
    "start_time": "2022-04-28T08:27:56.408Z"
   },
   {
    "duration": 46,
    "start_time": "2022-04-28T08:28:13.003Z"
   },
   {
    "duration": 18,
    "start_time": "2022-04-28T08:28:38.817Z"
   },
   {
    "duration": 36,
    "start_time": "2022-04-28T08:29:20.263Z"
   },
   {
    "duration": 501,
    "start_time": "2022-04-28T08:29:28.524Z"
   },
   {
    "duration": 12,
    "start_time": "2022-04-28T08:29:31.897Z"
   },
   {
    "duration": 296,
    "start_time": "2022-04-28T08:30:08.414Z"
   },
   {
    "duration": 10,
    "start_time": "2022-04-28T08:30:28.437Z"
   },
   {
    "duration": 10,
    "start_time": "2022-04-28T08:31:12.535Z"
   },
   {
    "duration": 26,
    "start_time": "2022-04-28T08:40:47.220Z"
   },
   {
    "duration": 18,
    "start_time": "2022-04-28T08:40:57.832Z"
   },
   {
    "duration": 738,
    "start_time": "2022-04-28T08:42:31.212Z"
   },
   {
    "duration": 252,
    "start_time": "2022-04-28T08:42:40.561Z"
   },
   {
    "duration": 6,
    "start_time": "2022-04-28T08:43:03.079Z"
   },
   {
    "duration": 6,
    "start_time": "2022-04-28T08:43:04.453Z"
   },
   {
    "duration": 692,
    "start_time": "2022-04-28T08:43:17.294Z"
   },
   {
    "duration": 293,
    "start_time": "2022-04-28T08:43:32.985Z"
   },
   {
    "duration": 268,
    "start_time": "2022-04-28T08:44:47.477Z"
   },
   {
    "duration": 9,
    "start_time": "2022-04-28T08:48:13.858Z"
   },
   {
    "duration": 459,
    "start_time": "2022-04-28T08:48:31.798Z"
   },
   {
    "duration": 252,
    "start_time": "2022-04-28T08:48:41.652Z"
   },
   {
    "duration": 378,
    "start_time": "2022-04-28T08:48:45.643Z"
   },
   {
    "duration": 387,
    "start_time": "2022-04-28T08:48:49.179Z"
   },
   {
    "duration": 464,
    "start_time": "2022-04-28T08:48:51.252Z"
   },
   {
    "duration": 8,
    "start_time": "2022-04-28T08:50:20.755Z"
   },
   {
    "duration": 476,
    "start_time": "2022-04-28T08:50:30.029Z"
   },
   {
    "duration": 289,
    "start_time": "2022-04-28T08:51:04.158Z"
   },
   {
    "duration": 283,
    "start_time": "2022-04-28T08:51:07.820Z"
   },
   {
    "duration": 239,
    "start_time": "2022-04-28T08:51:59.877Z"
   },
   {
    "duration": 247,
    "start_time": "2022-04-28T08:52:02.858Z"
   },
   {
    "duration": 13,
    "start_time": "2022-04-28T08:52:06.924Z"
   },
   {
    "duration": 11,
    "start_time": "2022-04-28T08:52:13.767Z"
   },
   {
    "duration": 282,
    "start_time": "2022-04-28T08:52:20.602Z"
   },
   {
    "duration": 506,
    "start_time": "2022-04-28T08:52:43.402Z"
   },
   {
    "duration": 415,
    "start_time": "2022-04-28T08:53:15.326Z"
   },
   {
    "duration": 390,
    "start_time": "2022-04-28T08:53:17.731Z"
   },
   {
    "duration": 418,
    "start_time": "2022-04-28T08:54:11.494Z"
   },
   {
    "duration": 545,
    "start_time": "2022-04-28T08:54:28.050Z"
   },
   {
    "duration": 400,
    "start_time": "2022-04-28T08:54:50.530Z"
   },
   {
    "duration": 391,
    "start_time": "2022-04-28T08:54:58.720Z"
   },
   {
    "duration": 395,
    "start_time": "2022-04-28T08:55:07.874Z"
   },
   {
    "duration": 280,
    "start_time": "2022-04-28T09:01:59.419Z"
   },
   {
    "duration": 4,
    "start_time": "2022-04-28T09:04:42.650Z"
   },
   {
    "duration": 8,
    "start_time": "2022-04-28T09:04:42.659Z"
   },
   {
    "duration": 22,
    "start_time": "2022-04-28T09:04:42.670Z"
   },
   {
    "duration": 35,
    "start_time": "2022-04-28T09:04:42.694Z"
   },
   {
    "duration": 62,
    "start_time": "2022-04-28T09:04:42.732Z"
   },
   {
    "duration": 3,
    "start_time": "2022-04-28T09:04:42.796Z"
   },
   {
    "duration": 47,
    "start_time": "2022-04-28T09:04:42.802Z"
   },
   {
    "duration": 66,
    "start_time": "2022-04-28T09:04:42.852Z"
   },
   {
    "duration": 6,
    "start_time": "2022-04-28T09:04:42.920Z"
   },
   {
    "duration": 8,
    "start_time": "2022-04-28T09:04:42.928Z"
   },
   {
    "duration": 6,
    "start_time": "2022-04-28T09:04:42.941Z"
   },
   {
    "duration": 47,
    "start_time": "2022-04-28T09:04:42.949Z"
   },
   {
    "duration": 36,
    "start_time": "2022-04-28T09:04:42.998Z"
   },
   {
    "duration": 6,
    "start_time": "2022-04-28T09:04:43.036Z"
   },
   {
    "duration": 9,
    "start_time": "2022-04-28T09:04:43.044Z"
   },
   {
    "duration": 5,
    "start_time": "2022-04-28T09:04:43.094Z"
   },
   {
    "duration": 18,
    "start_time": "2022-04-28T09:04:43.101Z"
   },
   {
    "duration": 10,
    "start_time": "2022-04-28T09:04:43.121Z"
   },
   {
    "duration": 13,
    "start_time": "2022-04-28T09:04:43.133Z"
   },
   {
    "duration": 10,
    "start_time": "2022-04-28T09:04:43.148Z"
   },
   {
    "duration": 4,
    "start_time": "2022-04-28T09:04:43.192Z"
   },
   {
    "duration": 7,
    "start_time": "2022-04-28T09:04:43.199Z"
   },
   {
    "duration": 21,
    "start_time": "2022-04-28T09:04:43.208Z"
   },
   {
    "duration": 6,
    "start_time": "2022-04-28T09:04:43.231Z"
   },
   {
    "duration": 15,
    "start_time": "2022-04-28T09:04:43.239Z"
   },
   {
    "duration": 43,
    "start_time": "2022-04-28T09:04:43.256Z"
   },
   {
    "duration": 14,
    "start_time": "2022-04-28T09:04:43.301Z"
   },
   {
    "duration": 8,
    "start_time": "2022-04-28T09:04:43.318Z"
   },
   {
    "duration": 10,
    "start_time": "2022-04-28T09:04:43.333Z"
   },
   {
    "duration": 7,
    "start_time": "2022-04-28T09:04:43.345Z"
   },
   {
    "duration": 14,
    "start_time": "2022-04-28T09:04:43.393Z"
   },
   {
    "duration": 13,
    "start_time": "2022-04-28T09:04:43.409Z"
   },
   {
    "duration": 20,
    "start_time": "2022-04-28T09:04:43.425Z"
   },
   {
    "duration": 12,
    "start_time": "2022-04-28T09:04:43.447Z"
   },
   {
    "duration": 14,
    "start_time": "2022-04-28T09:04:43.492Z"
   },
   {
    "duration": 10,
    "start_time": "2022-04-28T09:04:43.509Z"
   },
   {
    "duration": 388,
    "start_time": "2022-04-28T09:04:43.521Z"
   },
   {
    "duration": 304,
    "start_time": "2022-04-28T09:04:43.912Z"
   },
   {
    "duration": 25,
    "start_time": "2022-04-28T09:04:44.218Z"
   },
   {
    "duration": 14,
    "start_time": "2022-04-28T09:04:44.246Z"
   },
   {
    "duration": 30,
    "start_time": "2022-04-28T09:04:44.263Z"
   },
   {
    "duration": 282,
    "start_time": "2022-04-28T09:04:44.296Z"
   },
   {
    "duration": 277,
    "start_time": "2022-04-28T09:04:44.581Z"
   },
   {
    "duration": 9,
    "start_time": "2022-04-28T09:04:44.860Z"
   },
   {
    "duration": 396,
    "start_time": "2022-04-28T09:04:44.872Z"
   },
   {
    "duration": 22,
    "start_time": "2022-04-28T09:04:45.271Z"
   },
   {
    "duration": 298,
    "start_time": "2022-04-28T09:04:45.295Z"
   },
   {
    "duration": 12,
    "start_time": "2022-04-28T09:04:45.596Z"
   },
   {
    "duration": 401,
    "start_time": "2022-04-28T09:04:45.610Z"
   },
   {
    "duration": 7,
    "start_time": "2022-04-28T09:04:46.013Z"
   },
   {
    "duration": 94,
    "start_time": "2022-04-28T09:04:46.022Z"
   },
   {
    "duration": 10,
    "start_time": "2022-04-28T09:04:46.118Z"
   },
   {
    "duration": 89,
    "start_time": "2022-04-28T09:04:46.130Z"
   },
   {
    "duration": 26,
    "start_time": "2022-04-28T09:04:46.222Z"
   },
   {
    "duration": 93,
    "start_time": "2022-04-28T09:04:46.250Z"
   },
   {
    "duration": 30,
    "start_time": "2022-04-28T09:04:46.345Z"
   },
   {
    "duration": 91,
    "start_time": "2022-04-28T09:04:46.378Z"
   },
   {
    "duration": 51,
    "start_time": "2022-04-28T09:04:46.472Z"
   },
   {
    "duration": 140,
    "start_time": "2022-04-28T09:04:46.525Z"
   },
   {
    "duration": 161,
    "start_time": "2022-04-28T09:04:46.667Z"
   },
   {
    "duration": 7,
    "start_time": "2022-04-28T09:04:46.830Z"
   },
   {
    "duration": 11,
    "start_time": "2022-04-28T09:04:46.839Z"
   },
   {
    "duration": 51,
    "start_time": "2022-04-28T09:04:46.853Z"
   },
   {
    "duration": 7,
    "start_time": "2022-04-28T09:04:46.906Z"
   },
   {
    "duration": 8,
    "start_time": "2022-04-28T09:04:46.917Z"
   },
   {
    "duration": 6,
    "start_time": "2022-04-28T09:04:46.927Z"
   },
   {
    "duration": 10,
    "start_time": "2022-04-28T09:04:46.936Z"
   },
   {
    "duration": 6,
    "start_time": "2022-04-28T09:04:46.992Z"
   },
   {
    "duration": 11,
    "start_time": "2022-04-28T09:04:47.002Z"
   },
   {
    "duration": 6,
    "start_time": "2022-04-28T09:04:47.015Z"
   },
   {
    "duration": 16,
    "start_time": "2022-04-28T09:04:47.024Z"
   },
   {
    "duration": 60,
    "start_time": "2022-04-28T09:04:47.042Z"
   },
   {
    "duration": 72,
    "start_time": "2022-04-29T16:30:32.485Z"
   },
   {
    "duration": 1849,
    "start_time": "2022-04-29T16:30:35.195Z"
   },
   {
    "duration": 6,
    "start_time": "2022-04-29T16:30:37.047Z"
   },
   {
    "duration": 14,
    "start_time": "2022-04-29T16:30:37.056Z"
   },
   {
    "duration": 18,
    "start_time": "2022-04-29T16:30:37.083Z"
   },
   {
    "duration": 55,
    "start_time": "2022-04-29T16:30:37.103Z"
   },
   {
    "duration": 22,
    "start_time": "2022-04-29T16:30:37.160Z"
   },
   {
    "duration": 34,
    "start_time": "2022-04-29T16:30:37.184Z"
   },
   {
    "duration": 45,
    "start_time": "2022-04-29T16:30:37.220Z"
   },
   {
    "duration": 16,
    "start_time": "2022-04-29T16:30:37.267Z"
   },
   {
    "duration": 8,
    "start_time": "2022-04-29T16:30:37.286Z"
   },
   {
    "duration": 7,
    "start_time": "2022-04-29T16:30:37.296Z"
   },
   {
    "duration": 18,
    "start_time": "2022-04-29T16:30:37.305Z"
   },
   {
    "duration": 72,
    "start_time": "2022-04-29T16:30:37.326Z"
   },
   {
    "duration": 5,
    "start_time": "2022-04-29T16:30:37.400Z"
   },
   {
    "duration": 8,
    "start_time": "2022-04-29T16:30:37.407Z"
   },
   {
    "duration": 12,
    "start_time": "2022-04-29T16:30:37.416Z"
   },
   {
    "duration": 52,
    "start_time": "2022-04-29T16:30:37.431Z"
   },
   {
    "duration": 8,
    "start_time": "2022-04-29T16:30:37.486Z"
   },
   {
    "duration": 7,
    "start_time": "2022-04-29T16:30:37.496Z"
   },
   {
    "duration": 6,
    "start_time": "2022-04-29T16:30:37.506Z"
   },
   {
    "duration": 5,
    "start_time": "2022-04-29T16:30:37.514Z"
   },
   {
    "duration": 6,
    "start_time": "2022-04-29T16:30:37.521Z"
   },
   {
    "duration": 67,
    "start_time": "2022-04-29T16:30:37.529Z"
   },
   {
    "duration": 8,
    "start_time": "2022-04-29T16:30:37.598Z"
   },
   {
    "duration": 16,
    "start_time": "2022-04-29T16:30:37.608Z"
   },
   {
    "duration": 9,
    "start_time": "2022-04-29T16:30:37.626Z"
   },
   {
    "duration": 15,
    "start_time": "2022-04-29T16:30:37.637Z"
   },
   {
    "duration": 14,
    "start_time": "2022-04-29T16:30:37.684Z"
   },
   {
    "duration": 16,
    "start_time": "2022-04-29T16:30:37.700Z"
   },
   {
    "duration": 29,
    "start_time": "2022-04-29T16:30:37.719Z"
   },
   {
    "duration": 18,
    "start_time": "2022-04-29T16:30:37.750Z"
   },
   {
    "duration": 12,
    "start_time": "2022-04-29T16:30:37.771Z"
   },
   {
    "duration": 25,
    "start_time": "2022-04-29T16:30:37.785Z"
   },
   {
    "duration": 17,
    "start_time": "2022-04-29T16:30:37.812Z"
   },
   {
    "duration": 23,
    "start_time": "2022-04-29T16:30:37.831Z"
   },
   {
    "duration": 23,
    "start_time": "2022-04-29T16:30:37.857Z"
   },
   {
    "duration": 284,
    "start_time": "2022-04-29T16:30:37.882Z"
   },
   {
    "duration": 231,
    "start_time": "2022-04-29T16:30:38.168Z"
   },
   {
    "duration": 17,
    "start_time": "2022-04-29T16:30:38.402Z"
   },
   {
    "duration": 23,
    "start_time": "2022-04-29T16:30:38.421Z"
   },
   {
    "duration": 26,
    "start_time": "2022-04-29T16:30:38.447Z"
   },
   {
    "duration": 408,
    "start_time": "2022-04-29T16:30:40.455Z"
   },
   {
    "duration": 275,
    "start_time": "2022-04-29T16:30:51.310Z"
   },
   {
    "duration": 412,
    "start_time": "2022-04-29T16:30:56.247Z"
   },
   {
    "duration": 474,
    "start_time": "2022-04-29T16:32:22.784Z"
   },
   {
    "duration": 417,
    "start_time": "2022-04-29T16:32:32.173Z"
   },
   {
    "duration": 470,
    "start_time": "2022-04-29T16:32:35.372Z"
   },
   {
    "duration": 323,
    "start_time": "2022-04-29T16:35:36.915Z"
   },
   {
    "duration": 246,
    "start_time": "2022-04-29T16:35:43.338Z"
   },
   {
    "duration": 365,
    "start_time": "2022-04-29T16:36:30.363Z"
   },
   {
    "duration": 278,
    "start_time": "2022-04-29T16:36:36.706Z"
   },
   {
    "duration": 231,
    "start_time": "2022-04-29T16:41:47.722Z"
   },
   {
    "duration": 270,
    "start_time": "2022-04-29T16:42:00.497Z"
   },
   {
    "duration": 279,
    "start_time": "2022-04-29T16:42:02.671Z"
   },
   {
    "duration": 280,
    "start_time": "2022-04-29T16:42:06.538Z"
   },
   {
    "duration": 293,
    "start_time": "2022-04-29T16:42:09.067Z"
   },
   {
    "duration": 281,
    "start_time": "2022-04-29T16:42:11.687Z"
   },
   {
    "duration": 287,
    "start_time": "2022-04-29T16:45:12.824Z"
   },
   {
    "duration": 458,
    "start_time": "2022-04-29T16:45:30.727Z"
   },
   {
    "duration": 383,
    "start_time": "2022-04-29T16:46:01.380Z"
   },
   {
    "duration": 451,
    "start_time": "2022-04-29T16:46:09.998Z"
   },
   {
    "duration": 359,
    "start_time": "2022-04-29T16:46:15.223Z"
   },
   {
    "duration": 380,
    "start_time": "2022-04-29T16:46:24.676Z"
   },
   {
    "duration": 373,
    "start_time": "2022-04-29T16:47:58.870Z"
   },
   {
    "duration": 5,
    "start_time": "2022-04-29T16:48:02.459Z"
   },
   {
    "duration": 10,
    "start_time": "2022-04-29T16:48:02.467Z"
   },
   {
    "duration": 7,
    "start_time": "2022-04-29T16:48:02.479Z"
   },
   {
    "duration": 29,
    "start_time": "2022-04-29T16:48:02.489Z"
   },
   {
    "duration": 62,
    "start_time": "2022-04-29T16:48:02.520Z"
   },
   {
    "duration": 3,
    "start_time": "2022-04-29T16:48:02.585Z"
   },
   {
    "duration": 33,
    "start_time": "2022-04-29T16:48:02.590Z"
   },
   {
    "duration": 66,
    "start_time": "2022-04-29T16:48:02.625Z"
   },
   {
    "duration": 7,
    "start_time": "2022-04-29T16:48:02.693Z"
   },
   {
    "duration": 13,
    "start_time": "2022-04-29T16:48:02.702Z"
   },
   {
    "duration": 7,
    "start_time": "2022-04-29T16:48:02.719Z"
   },
   {
    "duration": 15,
    "start_time": "2022-04-29T16:48:02.729Z"
   },
   {
    "duration": 61,
    "start_time": "2022-04-29T16:48:02.746Z"
   },
   {
    "duration": 6,
    "start_time": "2022-04-29T16:48:02.809Z"
   },
   {
    "duration": 11,
    "start_time": "2022-04-29T16:48:02.817Z"
   },
   {
    "duration": 52,
    "start_time": "2022-04-29T16:48:02.830Z"
   },
   {
    "duration": 6,
    "start_time": "2022-04-29T16:48:02.884Z"
   },
   {
    "duration": 15,
    "start_time": "2022-04-29T16:48:02.892Z"
   },
   {
    "duration": 9,
    "start_time": "2022-04-29T16:48:02.909Z"
   },
   {
    "duration": 6,
    "start_time": "2022-04-29T16:48:02.921Z"
   },
   {
    "duration": 6,
    "start_time": "2022-04-29T16:48:02.929Z"
   },
   {
    "duration": 11,
    "start_time": "2022-04-29T16:48:02.938Z"
   },
   {
    "duration": 49,
    "start_time": "2022-04-29T16:48:02.951Z"
   },
   {
    "duration": 9,
    "start_time": "2022-04-29T16:48:03.002Z"
   },
   {
    "duration": 15,
    "start_time": "2022-04-29T16:48:03.013Z"
   },
   {
    "duration": 8,
    "start_time": "2022-04-29T16:48:03.033Z"
   },
   {
    "duration": 46,
    "start_time": "2022-04-29T16:48:03.043Z"
   },
   {
    "duration": 7,
    "start_time": "2022-04-29T16:48:03.091Z"
   },
   {
    "duration": 13,
    "start_time": "2022-04-29T16:48:03.101Z"
   },
   {
    "duration": 7,
    "start_time": "2022-04-29T16:48:03.116Z"
   },
   {
    "duration": 20,
    "start_time": "2022-04-29T16:48:03.125Z"
   },
   {
    "duration": 39,
    "start_time": "2022-04-29T16:48:03.148Z"
   },
   {
    "duration": 15,
    "start_time": "2022-04-29T16:48:03.189Z"
   },
   {
    "duration": 13,
    "start_time": "2022-04-29T16:48:03.206Z"
   },
   {
    "duration": 13,
    "start_time": "2022-04-29T16:48:03.221Z"
   },
   {
    "duration": 11,
    "start_time": "2022-04-29T16:48:03.236Z"
   },
   {
    "duration": 309,
    "start_time": "2022-04-29T16:48:03.282Z"
   },
   {
    "duration": 233,
    "start_time": "2022-04-29T16:48:03.593Z"
   },
   {
    "duration": 24,
    "start_time": "2022-04-29T16:48:03.829Z"
   },
   {
    "duration": 31,
    "start_time": "2022-04-29T16:48:03.856Z"
   },
   {
    "duration": 14,
    "start_time": "2022-04-29T16:48:03.889Z"
   },
   {
    "duration": 375,
    "start_time": "2022-04-29T16:48:03.906Z"
   },
   {
    "duration": 368,
    "start_time": "2022-04-29T16:48:06.920Z"
   },
   {
    "duration": 5,
    "start_time": "2022-04-29T16:48:25.568Z"
   },
   {
    "duration": 4,
    "start_time": "2022-04-29T16:48:25.583Z"
   },
   {
    "duration": 4,
    "start_time": "2022-04-29T16:48:25.592Z"
   },
   {
    "duration": 15,
    "start_time": "2022-04-29T16:48:25.598Z"
   },
   {
    "duration": 72,
    "start_time": "2022-04-29T16:48:25.616Z"
   },
   {
    "duration": 4,
    "start_time": "2022-04-29T16:48:25.690Z"
   },
   {
    "duration": 32,
    "start_time": "2022-04-29T16:48:25.697Z"
   },
   {
    "duration": 66,
    "start_time": "2022-04-29T16:48:25.731Z"
   },
   {
    "duration": 6,
    "start_time": "2022-04-29T16:48:25.799Z"
   },
   {
    "duration": 11,
    "start_time": "2022-04-29T16:48:25.807Z"
   },
   {
    "duration": 8,
    "start_time": "2022-04-29T16:48:25.820Z"
   },
   {
    "duration": 14,
    "start_time": "2022-04-29T16:48:25.831Z"
   },
   {
    "duration": 66,
    "start_time": "2022-04-29T16:48:25.847Z"
   },
   {
    "duration": 5,
    "start_time": "2022-04-29T16:48:25.916Z"
   },
   {
    "duration": 7,
    "start_time": "2022-04-29T16:48:25.923Z"
   },
   {
    "duration": 50,
    "start_time": "2022-04-29T16:48:25.932Z"
   },
   {
    "duration": 8,
    "start_time": "2022-04-29T16:48:25.984Z"
   },
   {
    "duration": 11,
    "start_time": "2022-04-29T16:48:25.995Z"
   },
   {
    "duration": 8,
    "start_time": "2022-04-29T16:48:26.009Z"
   },
   {
    "duration": 6,
    "start_time": "2022-04-29T16:48:26.019Z"
   },
   {
    "duration": 6,
    "start_time": "2022-04-29T16:48:26.027Z"
   },
   {
    "duration": 50,
    "start_time": "2022-04-29T16:48:26.035Z"
   },
   {
    "duration": 21,
    "start_time": "2022-04-29T16:48:26.087Z"
   },
   {
    "duration": 8,
    "start_time": "2022-04-29T16:48:26.110Z"
   },
   {
    "duration": 16,
    "start_time": "2022-04-29T16:48:26.120Z"
   },
   {
    "duration": 10,
    "start_time": "2022-04-29T16:48:26.138Z"
   },
   {
    "duration": 34,
    "start_time": "2022-04-29T16:48:26.153Z"
   },
   {
    "duration": 14,
    "start_time": "2022-04-29T16:48:26.190Z"
   },
   {
    "duration": 17,
    "start_time": "2022-04-29T16:48:26.207Z"
   },
   {
    "duration": 6,
    "start_time": "2022-04-29T16:48:26.227Z"
   },
   {
    "duration": 20,
    "start_time": "2022-04-29T16:48:26.236Z"
   },
   {
    "duration": 6,
    "start_time": "2022-04-29T16:48:26.281Z"
   },
   {
    "duration": 16,
    "start_time": "2022-04-29T16:48:26.289Z"
   },
   {
    "duration": 20,
    "start_time": "2022-04-29T16:48:26.306Z"
   },
   {
    "duration": 12,
    "start_time": "2022-04-29T16:48:26.328Z"
   },
   {
    "duration": 9,
    "start_time": "2022-04-29T16:48:26.342Z"
   },
   {
    "duration": 280,
    "start_time": "2022-04-29T16:48:26.382Z"
   },
   {
    "duration": 228,
    "start_time": "2022-04-29T16:48:26.664Z"
   },
   {
    "duration": 22,
    "start_time": "2022-04-29T16:48:26.894Z"
   },
   {
    "duration": 10,
    "start_time": "2022-04-29T16:48:26.919Z"
   },
   {
    "duration": 9,
    "start_time": "2022-04-29T16:48:26.931Z"
   },
   {
    "duration": 408,
    "start_time": "2022-04-29T16:48:26.942Z"
   },
   {
    "duration": 381,
    "start_time": "2022-04-29T16:48:27.353Z"
   },
   {
    "duration": 8,
    "start_time": "2022-04-29T16:48:27.736Z"
   },
   {
    "duration": 439,
    "start_time": "2022-04-29T16:49:15.819Z"
   },
   {
    "duration": 493,
    "start_time": "2022-04-29T16:49:27.271Z"
   },
   {
    "duration": 418,
    "start_time": "2022-04-29T16:50:13.532Z"
   },
   {
    "duration": 233,
    "start_time": "2022-04-29T16:50:27.317Z"
   },
   {
    "duration": 408,
    "start_time": "2022-04-29T16:50:36.260Z"
   },
   {
    "duration": 418,
    "start_time": "2022-04-29T16:50:56.834Z"
   },
   {
    "duration": 5,
    "start_time": "2022-04-29T16:51:05.260Z"
   },
   {
    "duration": 5,
    "start_time": "2022-04-29T16:51:05.298Z"
   },
   {
    "duration": 6,
    "start_time": "2022-04-29T16:51:05.305Z"
   },
   {
    "duration": 25,
    "start_time": "2022-04-29T16:51:05.313Z"
   },
   {
    "duration": 48,
    "start_time": "2022-04-29T16:51:05.340Z"
   },
   {
    "duration": 4,
    "start_time": "2022-04-29T16:51:05.391Z"
   },
   {
    "duration": 25,
    "start_time": "2022-04-29T16:51:05.397Z"
   },
   {
    "duration": 76,
    "start_time": "2022-04-29T16:51:05.424Z"
   },
   {
    "duration": 6,
    "start_time": "2022-04-29T16:51:05.502Z"
   },
   {
    "duration": 25,
    "start_time": "2022-04-29T16:51:05.510Z"
   },
   {
    "duration": 17,
    "start_time": "2022-04-29T16:51:05.538Z"
   },
   {
    "duration": 27,
    "start_time": "2022-04-29T16:51:05.558Z"
   },
   {
    "duration": 35,
    "start_time": "2022-04-29T16:51:05.587Z"
   },
   {
    "duration": 6,
    "start_time": "2022-04-29T16:51:05.624Z"
   },
   {
    "duration": 10,
    "start_time": "2022-04-29T16:51:05.633Z"
   },
   {
    "duration": 39,
    "start_time": "2022-04-29T16:51:05.645Z"
   },
   {
    "duration": 9,
    "start_time": "2022-04-29T16:51:05.686Z"
   },
   {
    "duration": 11,
    "start_time": "2022-04-29T16:51:05.697Z"
   },
   {
    "duration": 11,
    "start_time": "2022-04-29T16:51:05.710Z"
   },
   {
    "duration": 14,
    "start_time": "2022-04-29T16:51:05.723Z"
   },
   {
    "duration": 9,
    "start_time": "2022-04-29T16:51:05.739Z"
   },
   {
    "duration": 32,
    "start_time": "2022-04-29T16:51:05.750Z"
   },
   {
    "duration": 24,
    "start_time": "2022-04-29T16:51:05.784Z"
   },
   {
    "duration": 7,
    "start_time": "2022-04-29T16:51:05.811Z"
   },
   {
    "duration": 14,
    "start_time": "2022-04-29T16:51:05.820Z"
   },
   {
    "duration": 9,
    "start_time": "2022-04-29T16:51:06.793Z"
   },
   {
    "duration": 12,
    "start_time": "2022-04-29T16:51:06.804Z"
   },
   {
    "duration": 9,
    "start_time": "2022-04-29T16:51:06.819Z"
   },
   {
    "duration": 16,
    "start_time": "2022-04-29T16:51:06.830Z"
   },
   {
    "duration": 32,
    "start_time": "2022-04-29T16:51:06.850Z"
   },
   {
    "duration": 14,
    "start_time": "2022-04-29T16:51:06.884Z"
   },
   {
    "duration": 9,
    "start_time": "2022-04-29T16:51:06.900Z"
   },
   {
    "duration": 16,
    "start_time": "2022-04-29T16:51:06.911Z"
   },
   {
    "duration": 13,
    "start_time": "2022-04-29T16:51:06.930Z"
   },
   {
    "duration": 12,
    "start_time": "2022-04-29T16:51:06.982Z"
   },
   {
    "duration": 7,
    "start_time": "2022-04-29T16:51:06.998Z"
   },
   {
    "duration": 293,
    "start_time": "2022-04-29T16:51:07.007Z"
   },
   {
    "duration": 226,
    "start_time": "2022-04-29T16:51:07.303Z"
   },
   {
    "duration": 19,
    "start_time": "2022-04-29T16:51:07.531Z"
   },
   {
    "duration": 30,
    "start_time": "2022-04-29T16:51:07.554Z"
   },
   {
    "duration": 14,
    "start_time": "2022-04-29T16:51:07.586Z"
   },
   {
    "duration": 379,
    "start_time": "2022-04-29T16:51:07.602Z"
   },
   {
    "duration": 376,
    "start_time": "2022-04-29T16:51:07.984Z"
   },
   {
    "duration": 9,
    "start_time": "2022-04-29T16:51:08.362Z"
   },
   {
    "duration": 388,
    "start_time": "2022-04-29T16:51:08.382Z"
   },
   {
    "duration": 13,
    "start_time": "2022-04-29T16:51:08.772Z"
   },
   {
    "duration": 371,
    "start_time": "2022-04-29T16:51:58.892Z"
   },
   {
    "duration": 489,
    "start_time": "2022-04-29T16:52:06.735Z"
   },
   {
    "duration": 483,
    "start_time": "2022-04-29T16:52:24.377Z"
   },
   {
    "duration": 457,
    "start_time": "2022-04-29T16:52:35.509Z"
   },
   {
    "duration": 23,
    "start_time": "2022-04-29T16:52:43.957Z"
   },
   {
    "duration": 351,
    "start_time": "2022-04-29T16:52:45.961Z"
   },
   {
    "duration": 334,
    "start_time": "2022-04-29T16:52:50.710Z"
   },
   {
    "duration": 18,
    "start_time": "2022-04-29T16:54:20.435Z"
   },
   {
    "duration": 18,
    "start_time": "2022-04-29T16:54:29.924Z"
   },
   {
    "duration": 4,
    "start_time": "2022-04-29T16:54:50.554Z"
   },
   {
    "duration": 4,
    "start_time": "2022-04-29T16:54:50.569Z"
   },
   {
    "duration": 3,
    "start_time": "2022-04-29T16:54:50.580Z"
   },
   {
    "duration": 14,
    "start_time": "2022-04-29T16:54:50.586Z"
   },
   {
    "duration": 49,
    "start_time": "2022-04-29T16:54:50.603Z"
   },
   {
    "duration": 29,
    "start_time": "2022-04-29T16:54:50.654Z"
   },
   {
    "duration": 26,
    "start_time": "2022-04-29T16:54:50.686Z"
   },
   {
    "duration": 69,
    "start_time": "2022-04-29T16:54:50.714Z"
   },
   {
    "duration": 6,
    "start_time": "2022-04-29T16:54:50.830Z"
   },
   {
    "duration": 15,
    "start_time": "2022-04-29T16:54:50.838Z"
   },
   {
    "duration": 6,
    "start_time": "2022-04-29T16:54:50.855Z"
   },
   {
    "duration": 21,
    "start_time": "2022-04-29T16:54:50.863Z"
   },
   {
    "duration": 35,
    "start_time": "2022-04-29T16:54:50.887Z"
   },
   {
    "duration": 5,
    "start_time": "2022-04-29T16:54:50.924Z"
   },
   {
    "duration": 52,
    "start_time": "2022-04-29T16:54:50.931Z"
   },
   {
    "duration": 9,
    "start_time": "2022-04-29T16:54:50.985Z"
   },
   {
    "duration": 8,
    "start_time": "2022-04-29T16:54:50.997Z"
   },
   {
    "duration": 8,
    "start_time": "2022-04-29T16:54:51.009Z"
   },
   {
    "duration": 13,
    "start_time": "2022-04-29T16:54:51.019Z"
   },
   {
    "duration": 49,
    "start_time": "2022-04-29T16:54:51.034Z"
   },
   {
    "duration": 4,
    "start_time": "2022-04-29T16:54:51.086Z"
   },
   {
    "duration": 7,
    "start_time": "2022-04-29T16:54:51.092Z"
   },
   {
    "duration": 22,
    "start_time": "2022-04-29T16:54:51.101Z"
   },
   {
    "duration": 9,
    "start_time": "2022-04-29T16:54:51.126Z"
   },
   {
    "duration": 47,
    "start_time": "2022-04-29T16:54:51.137Z"
   },
   {
    "duration": 14,
    "start_time": "2022-04-29T16:54:51.186Z"
   },
   {
    "duration": 13,
    "start_time": "2022-04-29T16:54:51.202Z"
   },
   {
    "duration": 22,
    "start_time": "2022-04-29T16:54:51.221Z"
   },
   {
    "duration": 14,
    "start_time": "2022-04-29T16:54:51.245Z"
   },
   {
    "duration": 6,
    "start_time": "2022-04-29T16:54:51.282Z"
   },
   {
    "duration": 18,
    "start_time": "2022-04-29T16:54:51.290Z"
   },
   {
    "duration": 12,
    "start_time": "2022-04-29T16:54:51.310Z"
   },
   {
    "duration": 18,
    "start_time": "2022-04-29T16:54:51.324Z"
   },
   {
    "duration": 39,
    "start_time": "2022-04-29T16:54:51.344Z"
   },
   {
    "duration": 11,
    "start_time": "2022-04-29T16:54:51.385Z"
   },
   {
    "duration": 10,
    "start_time": "2022-04-29T16:54:51.398Z"
   },
   {
    "duration": 297,
    "start_time": "2022-04-29T16:54:51.410Z"
   },
   {
    "duration": 224,
    "start_time": "2022-04-29T16:54:51.709Z"
   },
   {
    "duration": 23,
    "start_time": "2022-04-29T16:54:51.935Z"
   },
   {
    "duration": 27,
    "start_time": "2022-04-29T16:54:51.961Z"
   },
   {
    "duration": 14,
    "start_time": "2022-04-29T16:54:51.990Z"
   },
   {
    "duration": 359,
    "start_time": "2022-04-29T16:54:52.007Z"
   },
   {
    "duration": 363,
    "start_time": "2022-04-29T16:54:52.368Z"
   },
   {
    "duration": 214,
    "start_time": "2022-04-29T16:54:52.733Z"
   },
   {
    "duration": 450,
    "start_time": "2022-04-29T16:54:52.950Z"
   },
   {
    "duration": 9,
    "start_time": "2022-04-29T16:54:53.403Z"
   },
   {
    "duration": 478,
    "start_time": "2022-04-29T16:54:53.415Z"
   },
   {
    "duration": 12,
    "start_time": "2022-04-29T16:54:53.896Z"
   },
   {
    "duration": 513,
    "start_time": "2022-04-29T16:54:53.910Z"
   },
   {
    "duration": 435,
    "start_time": "2022-04-29T16:55:02.937Z"
   },
   {
    "duration": 383,
    "start_time": "2022-04-29T16:55:28.576Z"
   },
   {
    "duration": 571,
    "start_time": "2022-04-29T16:55:37.435Z"
   },
   {
    "duration": 465,
    "start_time": "2022-04-29T16:56:30.055Z"
   },
   {
    "duration": 1261,
    "start_time": "2022-05-21T08:33:25.110Z"
   },
   {
    "duration": 4,
    "start_time": "2022-05-21T08:33:26.374Z"
   },
   {
    "duration": 21,
    "start_time": "2022-05-21T08:33:26.380Z"
   },
   {
    "duration": 104,
    "start_time": "2022-05-21T08:33:26.403Z"
   },
   {
    "duration": 60,
    "start_time": "2022-05-21T08:33:26.509Z"
   },
   {
    "duration": 4,
    "start_time": "2022-05-21T08:33:26.573Z"
   },
   {
    "duration": 100,
    "start_time": "2022-05-21T08:33:26.579Z"
   },
   {
    "duration": 42,
    "start_time": "2022-05-21T08:33:26.682Z"
   },
   {
    "duration": 5,
    "start_time": "2022-05-21T08:33:26.726Z"
   },
   {
    "duration": 31,
    "start_time": "2022-05-21T08:33:26.734Z"
   },
   {
    "duration": 7,
    "start_time": "2022-05-21T08:33:26.767Z"
   },
   {
    "duration": 76,
    "start_time": "2022-05-21T08:33:26.776Z"
   },
   {
    "duration": 39,
    "start_time": "2022-05-21T08:33:26.854Z"
   },
   {
    "duration": 4,
    "start_time": "2022-05-21T08:33:26.896Z"
   },
   {
    "duration": 19,
    "start_time": "2022-05-21T08:33:26.902Z"
   },
   {
    "duration": 18,
    "start_time": "2022-05-21T08:33:26.923Z"
   },
   {
    "duration": 41,
    "start_time": "2022-05-21T08:33:26.943Z"
   },
   {
    "duration": 31,
    "start_time": "2022-05-21T08:33:26.986Z"
   },
   {
    "duration": 8,
    "start_time": "2022-05-21T08:33:27.019Z"
   },
   {
    "duration": 9,
    "start_time": "2022-05-21T08:33:27.028Z"
   },
   {
    "duration": 37,
    "start_time": "2022-05-21T08:33:27.040Z"
   },
   {
    "duration": 10,
    "start_time": "2022-05-21T08:33:27.080Z"
   },
   {
    "duration": 35,
    "start_time": "2022-05-21T08:33:27.092Z"
   },
   {
    "duration": 31,
    "start_time": "2022-05-21T08:33:27.129Z"
   },
   {
    "duration": 61,
    "start_time": "2022-05-21T08:33:27.165Z"
   },
   {
    "duration": 19,
    "start_time": "2022-05-21T08:33:27.229Z"
   },
   {
    "duration": 61,
    "start_time": "2022-05-21T08:33:27.250Z"
   },
   {
    "duration": 13,
    "start_time": "2022-05-21T08:33:27.318Z"
   },
   {
    "duration": 52,
    "start_time": "2022-05-21T08:33:27.333Z"
   },
   {
    "duration": 26,
    "start_time": "2022-05-21T08:33:27.387Z"
   },
   {
    "duration": 24,
    "start_time": "2022-05-21T08:33:27.416Z"
   },
   {
    "duration": 58,
    "start_time": "2022-05-21T08:33:27.448Z"
   },
   {
    "duration": 31,
    "start_time": "2022-05-21T08:33:27.509Z"
   },
   {
    "duration": 52,
    "start_time": "2022-05-21T08:33:27.546Z"
   },
   {
    "duration": 33,
    "start_time": "2022-05-21T08:33:27.600Z"
   },
   {
    "duration": 19,
    "start_time": "2022-05-21T08:33:27.635Z"
   },
   {
    "duration": 226,
    "start_time": "2022-05-21T08:33:27.656Z"
   },
   {
    "duration": 162,
    "start_time": "2022-05-21T08:33:27.885Z"
   },
   {
    "duration": 16,
    "start_time": "2022-05-21T08:33:28.048Z"
   },
   {
    "duration": 8,
    "start_time": "2022-05-21T08:33:28.066Z"
   },
   {
    "duration": 8,
    "start_time": "2022-05-21T08:33:28.076Z"
   },
   {
    "duration": 440,
    "start_time": "2022-05-21T08:33:28.086Z"
   },
   {
    "duration": 258,
    "start_time": "2022-05-21T08:33:28.528Z"
   },
   {
    "duration": 7,
    "start_time": "2022-05-21T08:33:28.788Z"
   },
   {
    "duration": 394,
    "start_time": "2022-05-21T08:33:28.796Z"
   },
   {
    "duration": 8,
    "start_time": "2022-05-21T08:33:29.192Z"
   },
   {
    "duration": 268,
    "start_time": "2022-05-21T08:33:29.202Z"
   },
   {
    "duration": 8,
    "start_time": "2022-05-21T08:33:29.472Z"
   },
   {
    "duration": 376,
    "start_time": "2022-05-21T08:33:29.482Z"
   },
   {
    "duration": 5,
    "start_time": "2022-05-21T08:33:29.860Z"
   },
   {
    "duration": 86,
    "start_time": "2022-05-21T08:33:29.871Z"
   },
   {
    "duration": 9,
    "start_time": "2022-05-21T08:33:29.962Z"
   },
   {
    "duration": 81,
    "start_time": "2022-05-21T08:33:29.973Z"
   },
   {
    "duration": 30,
    "start_time": "2022-05-21T08:33:30.056Z"
   },
   {
    "duration": 62,
    "start_time": "2022-05-21T08:33:30.088Z"
   },
   {
    "duration": 37,
    "start_time": "2022-05-21T08:33:30.156Z"
   },
   {
    "duration": 73,
    "start_time": "2022-05-21T08:33:30.195Z"
   },
   {
    "duration": 37,
    "start_time": "2022-05-21T08:33:30.270Z"
   },
   {
    "duration": 74,
    "start_time": "2022-05-21T08:33:30.309Z"
   },
   {
    "duration": 101,
    "start_time": "2022-05-21T08:33:30.384Z"
   },
   {
    "duration": 5,
    "start_time": "2022-05-21T08:33:30.487Z"
   },
   {
    "duration": 32,
    "start_time": "2022-05-21T08:33:30.494Z"
   },
   {
    "duration": 70,
    "start_time": "2022-05-21T08:33:30.528Z"
   },
   {
    "duration": 5,
    "start_time": "2022-05-21T08:33:30.600Z"
   },
   {
    "duration": 20,
    "start_time": "2022-05-21T08:33:30.607Z"
   },
   {
    "duration": 25,
    "start_time": "2022-05-21T08:33:30.629Z"
   },
   {
    "duration": 29,
    "start_time": "2022-05-21T08:33:30.656Z"
   },
   {
    "duration": 12,
    "start_time": "2022-05-21T08:33:30.687Z"
   },
   {
    "duration": 23,
    "start_time": "2022-05-21T08:33:30.700Z"
   },
   {
    "duration": 39,
    "start_time": "2022-05-21T08:33:30.725Z"
   },
   {
    "duration": 18,
    "start_time": "2022-05-21T08:33:30.767Z"
   },
   {
    "duration": 31,
    "start_time": "2022-05-21T08:33:30.787Z"
   },
   {
    "duration": 28,
    "start_time": "2022-05-21T08:33:30.819Z"
   },
   {
    "duration": 38,
    "start_time": "2022-05-21T08:33:30.849Z"
   },
   {
    "duration": 171,
    "start_time": "2022-05-21T08:33:30.889Z"
   },
   {
    "duration": 191,
    "start_time": "2022-05-21T08:33:31.062Z"
   },
   {
    "duration": 14,
    "start_time": "2022-05-21T08:33:31.256Z"
   },
   {
    "duration": 11,
    "start_time": "2022-05-21T08:33:31.272Z"
   },
   {
    "duration": 12,
    "start_time": "2022-05-21T08:33:31.285Z"
   },
   {
    "duration": 205,
    "start_time": "2022-05-21T08:33:31.299Z"
   },
   {
    "duration": 180,
    "start_time": "2022-05-21T08:33:31.505Z"
   },
   {
    "duration": 197,
    "start_time": "2022-05-21T08:33:31.691Z"
   },
   {
    "duration": 15,
    "start_time": "2022-05-21T08:33:31.890Z"
   },
   {
    "duration": 17,
    "start_time": "2022-05-21T08:33:31.908Z"
   },
   {
    "duration": 40,
    "start_time": "2022-05-21T08:33:31.928Z"
   },
   {
    "duration": 13,
    "start_time": "2022-05-21T08:33:31.971Z"
   },
   {
    "duration": 13,
    "start_time": "2022-05-21T08:33:31.985Z"
   },
   {
    "duration": 34,
    "start_time": "2022-05-21T08:33:32.001Z"
   },
   {
    "duration": 80,
    "start_time": "2022-05-21T08:33:32.037Z"
   },
   {
    "duration": 6,
    "start_time": "2022-05-21T08:33:32.120Z"
   },
   {
    "duration": 8,
    "start_time": "2022-05-21T08:33:32.131Z"
   },
   {
    "duration": 46,
    "start_time": "2022-05-21T08:33:32.141Z"
   },
   {
    "duration": 14,
    "start_time": "2022-05-21T08:33:32.190Z"
   },
   {
    "duration": 13,
    "start_time": "2022-05-21T08:33:32.207Z"
   },
   {
    "duration": 18,
    "start_time": "2022-05-21T08:33:32.223Z"
   },
   {
    "duration": 29,
    "start_time": "2022-05-21T08:33:32.243Z"
   },
   {
    "duration": 13,
    "start_time": "2022-05-21T08:38:34.780Z"
   },
   {
    "duration": 6,
    "start_time": "2022-05-21T08:39:40.969Z"
   },
   {
    "duration": 168,
    "start_time": "2022-05-21T08:44:34.674Z"
   },
   {
    "duration": 159,
    "start_time": "2022-05-21T08:45:00.670Z"
   },
   {
    "duration": 20,
    "start_time": "2022-05-21T08:46:29.112Z"
   },
   {
    "duration": 10,
    "start_time": "2022-05-21T09:34:30.413Z"
   },
   {
    "duration": 6,
    "start_time": "2022-05-21T09:39:40.998Z"
   },
   {
    "duration": 52,
    "start_time": "2022-05-21T09:39:49.475Z"
   },
   {
    "duration": 46,
    "start_time": "2022-05-21T09:39:53.320Z"
   },
   {
    "duration": 165,
    "start_time": "2022-05-21T09:48:36.481Z"
   },
   {
    "duration": 103,
    "start_time": "2022-05-21T09:48:42.739Z"
   },
   {
    "duration": 11,
    "start_time": "2022-05-21T10:00:09.580Z"
   },
   {
    "duration": 7,
    "start_time": "2022-05-21T10:00:14.474Z"
   },
   {
    "duration": 11,
    "start_time": "2022-05-21T10:05:00.104Z"
   },
   {
    "duration": 5,
    "start_time": "2022-05-21T10:05:04.715Z"
   },
   {
    "duration": 6,
    "start_time": "2022-05-21T10:12:06.739Z"
   },
   {
    "duration": 13,
    "start_time": "2022-05-21T10:12:57.997Z"
   },
   {
    "duration": 24,
    "start_time": "2022-05-21T10:17:37.366Z"
   },
   {
    "duration": 15,
    "start_time": "2022-05-21T10:37:10.530Z"
   },
   {
    "duration": 5,
    "start_time": "2022-05-21T13:43:37.826Z"
   }
  ],
  "kernelspec": {
   "display_name": "Python 3 (ipykernel)",
   "language": "python",
   "name": "python3"
  },
  "language_info": {
   "codemirror_mode": {
    "name": "ipython",
    "version": 3
   },
   "file_extension": ".py",
   "mimetype": "text/x-python",
   "name": "python",
   "nbconvert_exporter": "python",
   "pygments_lexer": "ipython3",
   "version": "3.9.7"
  },
  "toc": {
   "base_numbering": 1,
   "nav_menu": {},
   "number_sections": true,
   "sideBar": true,
   "skip_h1_title": true,
   "title_cell": "Table of Contents",
   "title_sidebar": "Contents",
   "toc_cell": false,
   "toc_position": {},
   "toc_section_display": true,
   "toc_window_display": false
  }
 },
 "nbformat": 4,
 "nbformat_minor": 5
}
